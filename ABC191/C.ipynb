{
 "cells": [
  {
   "cell_type": "code",
   "execution_count": 9,
   "metadata": {},
   "outputs": [
    {
     "name": "stdin",
     "output_type": "stream",
     "text": [
      " 5 5\n",
      " .....\n",
      " .###.\n",
      " .###.\n",
      " .###.\n",
      " .....\n"
     ]
    },
    {
     "name": "stdout",
     "output_type": "stream",
     "text": [
      "4\n"
     ]
    }
   ],
   "source": [
    "H, W = map(int, input().split())\n",
    "S = [input() for _ in range(H)]\n",
    "\n",
    "ans = 0\n",
    "for i in range(1,H):\n",
    "    for j in range(1,W):\n",
    "        tmp = 0\n",
    "        if S[i-1][j-1] == \"#\":\n",
    "            tmp += 1\n",
    "        if S[i-1][j] == \"#\":\n",
    "            tmp += 1\n",
    "        if S[i][j-1] == \"#\":\n",
    "            tmp += 1\n",
    "        if S[i][j] == \"#\":\n",
    "            tmp += 1\n",
    "        if tmp == 1 or tmp == 3:\n",
    "            ans += 1\n",
    "print(ans)"
   ]
  },
  {
   "cell_type": "code",
   "execution_count": null,
   "metadata": {},
   "outputs": [],
   "source": []
  }
 ],
 "metadata": {
  "kernelspec": {
   "display_name": "Python 3",
   "language": "python",
   "name": "python3"
  },
  "language_info": {
   "codemirror_mode": {
    "name": "ipython",
    "version": 3
   },
   "file_extension": ".py",
   "mimetype": "text/x-python",
   "name": "python",
   "nbconvert_exporter": "python",
   "pygments_lexer": "ipython3",
   "version": "3.8.5"
  }
 },
 "nbformat": 4,
 "nbformat_minor": 4
}
