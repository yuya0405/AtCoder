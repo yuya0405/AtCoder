{
 "cells": [
  {
   "cell_type": "code",
   "execution_count": 12,
   "metadata": {},
   "outputs": [
    {
     "name": "stdin",
     "output_type": "stream",
     "text": [
      " 2 2 1\n"
     ]
    },
    {
     "name": "stdout",
     "output_type": "stream",
     "text": [
      "Takahashi\n"
     ]
    }
   ],
   "source": [
    "A, B , C = map(int, input().split())\n",
    "\n",
    "if C == 0:\n",
    "    for i in range(101):\n",
    "        if (A <= 0):\n",
    "            print (\"Aoki\")\n",
    "            break\n",
    "        A -= 1\n",
    "        if (B <= 0):\n",
    "            print (\"Takahashi\")\n",
    "            break\n",
    "        B -= 1\n",
    "\n",
    "if C == 1:\n",
    "    for i in range(101):\n",
    "        if (B <= 0):\n",
    "            print (\"Takahashi\")\n",
    "            break\n",
    "        B -= 1\n",
    "        if (A <= 0):\n",
    "            print (\"Aoki\")\n",
    "            break\n",
    "        A -= 1"
   ]
  },
  {
   "cell_type": "code",
   "execution_count": null,
   "metadata": {},
   "outputs": [],
   "source": []
  }
 ],
 "metadata": {
  "kernelspec": {
   "display_name": "Python 3",
   "language": "python",
   "name": "python3"
  },
  "language_info": {
   "codemirror_mode": {
    "name": "ipython",
    "version": 3
   },
   "file_extension": ".py",
   "mimetype": "text/x-python",
   "name": "python",
   "nbconvert_exporter": "python",
   "pygments_lexer": "ipython3",
   "version": "3.8.5"
  }
 },
 "nbformat": 4,
 "nbformat_minor": 4
}
