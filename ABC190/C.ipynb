{
 "cells": [
  {
   "cell_type": "code",
   "execution_count": 44,
   "metadata": {},
   "outputs": [],
   "source": [
    "N, M = map(int, input().split())\n",
    "condition_list = [list(map(int, input().split())) for _ in range(M)]\n",
    "K = int(input())\n",
    "people_list = [list(map(int, input().split())) for _ in range(K)]\n",
    "\n",
    "Pattern = []\n",
    "\n",
    "op_cnt = K\n",
    "for i in range(2 ** op_cnt):\n",
    "    op = [0] * op_cnt\n",
    "    for j in range(op_cnt):\n",
    "        if ((i >> j) & 1):\n",
    "            op[op_cnt - 1 - j] = 1\n",
    "    Pattern.append(op)\n",
    "\n",
    "ans = 0\n",
    "for i in Pattern:\n",
    "    ans_tmp = 0\n",
    "    \n",
    "    # 箱に入れていく\n",
    "    DISHES = [0 for i in range(N)]\n",
    "    for j in range(K):\n",
    "        if i[j] == 0:\n",
    "            DISHES[people_list[j][0]-1] = 1\n",
    "        elif i[j] == 1:\n",
    "            DISHES[people_list[j][1]-1] = 1\n",
    "    \n",
    "    # 条件を確認する\n",
    "    for j in condition_list:\n",
    "        if DISHES[j[0]-1] == 1 and DISHES[j[1]-1] == 1:\n",
    "            ans_tmp += 1\n",
    "    \n",
    "    if ans < ans_tmp:\n",
    "        ans = ans_tmp\n",
    "print (ans)"
   ]
  }
 ],
 "metadata": {
  "kernelspec": {
   "display_name": "Python 3",
   "language": "python",
   "name": "python3"
  },
  "language_info": {
   "codemirror_mode": {
    "name": "ipython",
    "version": 3
   },
   "file_extension": ".py",
   "mimetype": "text/x-python",
   "name": "python",
   "nbconvert_exporter": "python",
   "pygments_lexer": "ipython3",
   "version": "3.8.5"
  }
 },
 "nbformat": 4,
 "nbformat_minor": 4
}
