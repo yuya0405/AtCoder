{
 "cells": [
  {
   "cell_type": "code",
   "execution_count": 16,
   "metadata": {},
   "outputs": [],
   "source": [
    "import math"
   ]
  },
  {
   "cell_type": "code",
   "execution_count": 18,
   "metadata": {},
   "outputs": [
    {
     "name": "stdin",
     "output_type": "stream",
     "text": [
      " 12\n"
     ]
    }
   ],
   "source": [
    "N = int(input())"
   ]
  },
  {
   "cell_type": "code",
   "execution_count": 20,
   "metadata": {},
   "outputs": [
    {
     "name": "stdout",
     "output_type": "stream",
     "text": [
      "1 2\n",
      "1 4\n",
      "1 6\n",
      "1 8\n",
      "1 10\n",
      "1 12\n",
      "1 14\n",
      "1 16\n",
      "1 18\n",
      "1 20\n",
      "1 22\n",
      "2 1\n",
      "2 3\n",
      "2 5\n",
      "2 7\n",
      "2 9\n",
      "2 11\n",
      "3 2\n",
      "3 4\n",
      "3 6\n"
     ]
    },
    {
     "data": {
      "text/plain": [
       "20"
      ]
     },
     "execution_count": 20,
     "metadata": {},
     "output_type": "execute_result"
    }
   ],
   "source": [
    "ans = 0\n",
    "for n in range(1, int(math.sqrt(2*N))):\n",
    "    if 2*N % n == 0:\n",
    "        if n % 2 == 0:\n",
    "            for i in range(1, int(2*N/n)):\n",
    "                if i % 2 == 1:\n",
    "                    print (n, i)\n",
    "                    ans += 1\n",
    "        elif n % 2 == 1:\n",
    "            for i in range(1, int(2*N/n)):\n",
    "                if i % 2 == 0:\n",
    "                    print (n, i)\n",
    "                    ans += 1\n",
    "ans"
   ]
  },
  {
   "cell_type": "code",
   "execution_count": 1,
   "metadata": {
    "collapsed": true,
    "jupyter": {
     "outputs_hidden": true
    }
   },
   "outputs": [
    {
     "name": "stdin",
     "output_type": "stream",
     "text": [
      " 1\n"
     ]
    }
   ],
   "source": [
    "# 模範解答\n",
    "# 2Nを偶奇の異なる正の約数2つに分解する方法の数を考える。\n",
    "while N % 2 == 0:\n",
    "    N //= 2\n",
    "sq = int(N ** 0.5)\n",
    "ans = sum(N % i == 0 for i in range(1, sq + 1)) * 2 - (sq * sq == N)\n",
    "print(ans * 2)"
   ]
  },
  {
   "cell_type": "code",
   "execution_count": null,
   "metadata": {},
   "outputs": [],
   "source": [
    "# 模範解答その2\n",
    "# 2Nの正の約数dについて、dと2N/dの偶奇が異なるものの個数を考える。\n",
    "def div(M):\n",
    "    res=set()\n",
    "    i=1\n",
    "    while(i*i<=M):\n",
    "        if M%i==0:\n",
    "            res.add(i)\n",
    "            res.add(M//i)\n",
    "        i+=1\n",
    "    return res\n",
    "D=div(2*N)\n",
    "ans=0\n",
    "for n in D:\n",
    "    m=(2*N)//n\n",
    "    if (n-m)%2==1:\n",
    "        ans+=1\n",
    "print(ans)"
   ]
  }
 ],
 "metadata": {
  "kernelspec": {
   "display_name": "Python 3",
   "language": "python",
   "name": "python3"
  },
  "language_info": {
   "codemirror_mode": {
    "name": "ipython",
    "version": 3
   },
   "file_extension": ".py",
   "mimetype": "text/x-python",
   "name": "python",
   "nbconvert_exporter": "python",
   "pygments_lexer": "ipython3",
   "version": "3.8.5"
  }
 },
 "nbformat": 4,
 "nbformat_minor": 4
}
