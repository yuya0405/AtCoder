{
 "cells": [
  {
   "cell_type": "code",
   "execution_count": null,
   "metadata": {},
   "outputs": [],
   "source": [
    "# TLE\n",
    "\n",
    "import math\n",
    "\n",
    "N = int(input())\n",
    "\n",
    "ans = 0\n",
    "for n in range(1, int(math.sqrt(2*N))+1):\n",
    "    if 2*N % n == 0:\n",
    "        if n % 2 == 0:\n",
    "            for i in range(1, int(2*N/n)+1):\n",
    "                if i % 2 == 1 and n * i == 2*N:\n",
    "                    ans += 1\n",
    "        elif n % 2 == 1:\n",
    "            for i in range(1, int(2*N/n)+1):\n",
    "                if i % 2 == 0 and n * i == 2*N:\n",
    "                    ans += 1\n",
    "print (ans*2)"
   ]
  },
  {
   "cell_type": "code",
   "execution_count": 1,
   "metadata": {},
   "outputs": [
    {
     "name": "stdin",
     "output_type": "stream",
     "text": [
      " 1\n"
     ]
    }
   ],
   "source": [
    "# 模範解答\n",
    "# 2Nを偶奇の異なる正の約数2つに分解する方法の数を考える。\n",
    "while N % 2 == 0:\n",
    "    N //= 2\n",
    "sq = int(N ** 0.5)\n",
    "ans = sum(N % i == 0 for i in range(1, sq + 1)) * 2 - (sq * sq == N)\n",
    "print(ans * 2)"
   ]
  },
  {
   "cell_type": "code",
   "execution_count": null,
   "metadata": {},
   "outputs": [],
   "source": [
    "# 模範解答その2\n",
    "# 2Nの正の約数dについて、dと2N/dの偶奇が異なるものの個数を考える。\n",
    "def div(M):\n",
    "    res=set()\n",
    "    i=1\n",
    "    while(i*i<=M):\n",
    "        if M%i==0:\n",
    "            res.add(i)\n",
    "            res.add(M//i)\n",
    "        i+=1\n",
    "    return res\n",
    "\n",
    "D=div(2*N)\n",
    "ans=0\n",
    "for n in D:\n",
    "    m=(2*N)//n\n",
    "    if (n-m)%2==1:\n",
    "        ans+=1\n",
    "print(ans)"
   ]
  }
 ],
 "metadata": {
  "kernelspec": {
   "display_name": "Python 3",
   "language": "python",
   "name": "python3"
  },
  "language_info": {
   "codemirror_mode": {
    "name": "ipython",
    "version": 3
   },
   "file_extension": ".py",
   "mimetype": "text/x-python",
   "name": "python",
   "nbconvert_exporter": "python",
   "pygments_lexer": "ipython3",
   "version": "3.8.5"
  }
 },
 "nbformat": 4,
 "nbformat_minor": 4
}
