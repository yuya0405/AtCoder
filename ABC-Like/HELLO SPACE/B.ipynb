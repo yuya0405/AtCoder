{
 "cells": [
  {
   "cell_type": "code",
   "execution_count": 24,
   "metadata": {},
   "outputs": [
    {
     "name": "stdin",
     "output_type": "stream",
     "text": [
      " 1 10 10\n",
      " 3 2\n"
     ]
    },
    {
     "name": "stdout",
     "output_type": "stream",
     "text": [
      "0\n"
     ]
    }
   ],
   "source": [
    "N, D, H = map(int, input().split())\n",
    "dh = [list(map(int, input().split())) for _ in range(N)]\n",
    "\n",
    "katamuki = []\n",
    "for i in dh:\n",
    "    tmp = (H - i[1])/(D - i[0])\n",
    "    katamuki.append(tmp)\n",
    "min_katamuki = min(katamuki)\n",
    "\n",
    "y = min_katamuki * (-1 * D) + H\n",
    "\n",
    "if y > 0:\n",
    "    print (y)\n",
    "else:\n",
    "    print (0)"
   ]
  }
 ],
 "metadata": {
  "kernelspec": {
   "display_name": "Python 3",
   "language": "python",
   "name": "python3"
  },
  "language_info": {
   "codemirror_mode": {
    "name": "ipython",
    "version": 3
   },
   "file_extension": ".py",
   "mimetype": "text/x-python",
   "name": "python",
   "nbconvert_exporter": "python",
   "pygments_lexer": "ipython3",
   "version": "3.8.5"
  }
 },
 "nbformat": 4,
 "nbformat_minor": 4
}
