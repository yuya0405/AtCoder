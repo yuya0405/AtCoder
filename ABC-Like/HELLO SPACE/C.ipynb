{
 "cells": [
  {
   "cell_type": "code",
   "execution_count": 39,
   "metadata": {},
   "outputs": [
    {
     "name": "stdin",
     "output_type": "stream",
     "text": [
      " 3\n",
      " 3 9 6 4 6\n",
      " 6 9 3 1 1\n",
      " 8 8 9 3 7\n"
     ]
    },
    {
     "name": "stdout",
     "output_type": "stream",
     "text": [
      "4\n"
     ]
    }
   ],
   "source": [
    "import itertools\n",
    "\n",
    "N = int(input())\n",
    "ABCDE = [list(map(int, input().split())) for _ in range(N)]\n",
    "\n",
    "min_max_skill = []\n",
    "for i in itertools.combinations(ABCDE, 3):\n",
    "    skill = list(zip(*i))\n",
    "    max_skill = []\n",
    "    for i in skill:\n",
    "        max_skill.append(max(i))\n",
    "    min_max_skill.append(min(max_skill))\n",
    "print (max(min_max_skill))"
   ]
  },
  {
   "cell_type": "code",
   "execution_count": 35,
   "metadata": {},
   "outputs": [
    {
     "data": {
      "text/plain": [
       "[[6, 7, 5, 18, 2],\n",
       " [3, 8, 1, 6, 3],\n",
       " [7, 2, 8, 7, 7],\n",
       " [6, 3, 3, 4, 7],\n",
       " [12, 8, 9, 15, 9],\n",
       " [9, 8, 6, 1, 10],\n",
       " [12, 9, 7, 8, 2],\n",
       " [10, 3, 17, 4, 10],\n",
       " [3, 1, 3, 19, 3],\n",
       " [3, 14, 7, 13, 1]]"
      ]
     },
     "execution_count": 35,
     "metadata": {},
     "output_type": "execute_result"
    }
   ],
   "source": [
    "ABCDE"
   ]
  },
  {
   "cell_type": "code",
   "execution_count": 36,
   "metadata": {},
   "outputs": [
    {
     "data": {
      "text/plain": [
       "[(6, 3, 7, 6, 12, 9, 12, 10, 3, 3),\n",
       " (7, 8, 2, 3, 8, 8, 9, 3, 1, 14),\n",
       " (5, 1, 8, 3, 9, 6, 7, 17, 3, 7),\n",
       " (18, 6, 7, 4, 15, 1, 8, 4, 19, 13),\n",
       " (2, 3, 7, 7, 9, 10, 2, 10, 3, 1)]"
      ]
     },
     "execution_count": 36,
     "metadata": {},
     "output_type": "execute_result"
    }
   ],
   "source": [
    "skill = list(zip(*ABCDE))\n",
    "skill"
   ]
  },
  {
   "cell_type": "code",
   "execution_count": 37,
   "metadata": {},
   "outputs": [
    {
     "data": {
      "text/plain": [
       "10"
      ]
     },
     "execution_count": 37,
     "metadata": {},
     "output_type": "execute_result"
    }
   ],
   "source": [
    "max_skill = []\n",
    "for i in skill:\n",
    "    max_skill.append(max(i))\n",
    "min(max_skill)"
   ]
  },
  {
   "cell_type": "code",
   "execution_count": null,
   "metadata": {},
   "outputs": [],
   "source": []
  }
 ],
 "metadata": {
  "kernelspec": {
   "display_name": "Python 3",
   "language": "python",
   "name": "python3"
  },
  "language_info": {
   "codemirror_mode": {
    "name": "ipython",
    "version": 3
   },
   "file_extension": ".py",
   "mimetype": "text/x-python",
   "name": "python",
   "nbconvert_exporter": "python",
   "pygments_lexer": "ipython3",
   "version": "3.8.5"
  }
 },
 "nbformat": 4,
 "nbformat_minor": 4
}
