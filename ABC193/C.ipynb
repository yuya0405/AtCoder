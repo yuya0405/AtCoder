{
 "cells": [
  {
   "cell_type": "code",
   "execution_count": null,
   "metadata": {},
   "outputs": [],
   "source": [
    "import math\n",
    "\n",
    "N = int(input())\n",
    "\n",
    "ans = 0\n",
    "for n in range(1, N):\n",
    "    flag = False\n",
    "    for a in range(2, int(math.sqrt(N))):\n",
    "        tmp = a\n",
    "        for b in range(2, int(math.sqrt(N))):\n",
    "            tmp *= a\n",
    "            if n == tmp:\n",
    "                flag = True\n",
    "                break\n",
    "        if flag == True:\n",
    "            break\n",
    "    if flag == False:\n",
    "        ans += 1\n",
    "print (ans)"
   ]
  }
 ],
 "metadata": {
  "kernelspec": {
   "display_name": "Python 3",
   "language": "python",
   "name": "python3"
  },
  "language_info": {
   "codemirror_mode": {
    "name": "ipython",
    "version": 3
   },
   "file_extension": ".py",
   "mimetype": "text/x-python",
   "name": "python",
   "nbconvert_exporter": "python",
   "pygments_lexer": "ipython3",
   "version": "3.8.5"
  }
 },
 "nbformat": 4,
 "nbformat_minor": 4
}
