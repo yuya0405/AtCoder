{
 "cells": [
  {
   "cell_type": "code",
   "execution_count": 8,
   "metadata": {},
   "outputs": [
    {
     "name": "stdin",
     "output_type": "stream",
     "text": [
      " 3 4 3\n",
      " 1 9\n",
      " 5 3\n",
      " 7 8\n",
      " 1 8 6 9\n",
      " 4 4\n",
      " 1 4\n",
      " 1 3\n"
     ]
    }
   ],
   "source": [
    "N, M, Q = map(int, input().split())\n",
    "WV = [list(map(int, input().split())) for _ in range(N)]\n",
    "X = list(map(int, input().split()))\n",
    "Query = [list(map(int, input().split())) for _ in range(Q)]"
   ]
  },
  {
   "cell_type": "code",
   "execution_count": null,
   "metadata": {},
   "outputs": [],
   "source": []
  }
 ],
 "metadata": {
  "kernelspec": {
   "display_name": "Python 3",
   "language": "python",
   "name": "python3"
  },
  "language_info": {
   "codemirror_mode": {
    "name": "ipython",
    "version": 3
   },
   "file_extension": ".py",
   "mimetype": "text/x-python",
   "name": "python",
   "nbconvert_exporter": "python",
   "pygments_lexer": "ipython3",
   "version": "3.8.5"
  }
 },
 "nbformat": 4,
 "nbformat_minor": 4
}
