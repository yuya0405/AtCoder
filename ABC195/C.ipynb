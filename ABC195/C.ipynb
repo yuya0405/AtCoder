{
 "cells": [
  {
   "cell_type": "code",
   "execution_count": 46,
   "metadata": {},
   "outputs": [
    {
     "name": "stdin",
     "output_type": "stream",
     "text": [
      " 27182818284590\n"
     ]
    },
    {
     "name": "stdout",
     "output_type": "stream",
     "text": [
      "107730272137364\n"
     ]
    }
   ],
   "source": [
    "N = int(input())\n",
    "\n",
    "ans = 0\n",
    "\n",
    "if N/10**3 >= 1 and N/10**6 < 1:\n",
    "    ans += (N-10**3+1)*1\n",
    "elif N/10**6 >= 1:\n",
    "    ans += 999000*1\n",
    "    \n",
    "if N/10**6 >= 1 and N/10**9 < 1:\n",
    "    ans += (N-10**6+1)*2\n",
    "elif N/10**9 >= 1:\n",
    "    ans += 999000000*2\n",
    "    \n",
    "if N/10**9 >= 1 and N/10**12 < 1:\n",
    "    ans += (N-10**9+1)*3\n",
    "elif N/10**12 >= 1:\n",
    "    ans += 999000000000*3\n",
    "    \n",
    "if N / 10**12 >= 1 and N/10**15 < 1:\n",
    "    ans += (N-10**12+1)*4\n",
    "elif N/10**15 >= 1:\n",
    "    ans += 999000000000000*4\n",
    "    \n",
    "if N / 10**15 >= 1:\n",
    "    ans += (N-10**15+1)*5 \n",
    "    \n",
    "print (ans)"
   ]
  },
  {
   "cell_type": "code",
   "execution_count": null,
   "metadata": {},
   "outputs": [],
   "source": []
  }
 ],
 "metadata": {
  "kernelspec": {
   "display_name": "Python 3",
   "language": "python",
   "name": "python3"
  },
  "language_info": {
   "codemirror_mode": {
    "name": "ipython",
    "version": 3
   },
   "file_extension": ".py",
   "mimetype": "text/x-python",
   "name": "python",
   "nbconvert_exporter": "python",
   "pygments_lexer": "ipython3",
   "version": "3.8.5"
  }
 },
 "nbformat": 4,
 "nbformat_minor": 4
}
