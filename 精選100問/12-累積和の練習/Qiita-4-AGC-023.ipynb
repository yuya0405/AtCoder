{
 "cells": [
  {
   "cell_type": "code",
   "execution_count": 26,
   "metadata": {},
   "outputs": [],
   "source": [
    "N = int(input())\n",
    "A = list(map(int, input().split()))\n",
    "\n",
    "from itertools import accumulate\n",
    "sum = [0] + list(accumulate(A))\n",
    "\n",
    "sum.sort()\n",
    "\n",
    "import collections\n",
    "\n",
    "C = collections.Counter(sum)\n",
    "\n",
    "from scipy.special import comb\n",
    "\n",
    "ans = 0\n",
    "for c in C:\n",
    "    if C[c] >= 2:\n",
    "        ans += comb(C[c], 2, exact=True)\n",
    "print(ans)"
   ]
  },
  {
   "cell_type": "code",
   "execution_count": null,
   "metadata": {},
   "outputs": [],
   "source": []
  }
 ],
 "metadata": {
  "kernelspec": {
   "display_name": "Python 3",
   "language": "python",
   "name": "python3"
  },
  "language_info": {
   "codemirror_mode": {
    "name": "ipython",
    "version": 3
   },
   "file_extension": ".py",
   "mimetype": "text/x-python",
   "name": "python",
   "nbconvert_exporter": "python",
   "pygments_lexer": "ipython3",
   "version": "3.8.5"
  }
 },
 "nbformat": 4,
 "nbformat_minor": 4
}
