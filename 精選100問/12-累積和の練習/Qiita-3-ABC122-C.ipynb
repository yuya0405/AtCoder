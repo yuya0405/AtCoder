{
 "cells": [
  {
   "cell_type": "code",
   "execution_count": 8,
   "metadata": {},
   "outputs": [],
   "source": [
    "N, Q = map(int, input().split())\n",
    "S = input()\n",
    "LR = [list(map(int, input().split())) for _ in range(Q)]\n",
    "\n",
    "tmp = [0]\n",
    "for i in range(1, N):\n",
    "    if S[i-1]=='A' and S[i]=='C':\n",
    "        tmp.append(1)\n",
    "    else:\n",
    "        tmp.append(0)\n",
    "\n",
    "from itertools import accumulate\n",
    "sum = list(accumulate(tmp))\n",
    "\n",
    "for l, r in LR:\n",
    "    print (sum[r-1] -sum[l-1])"
   ]
  },
  {
   "cell_type": "code",
   "execution_count": null,
   "metadata": {},
   "outputs": [],
   "source": []
  }
 ],
 "metadata": {
  "kernelspec": {
   "display_name": "Python 3",
   "language": "python",
   "name": "python3"
  },
  "language_info": {
   "codemirror_mode": {
    "name": "ipython",
    "version": 3
   },
   "file_extension": ".py",
   "mimetype": "text/x-python",
   "name": "python",
   "nbconvert_exporter": "python",
   "pygments_lexer": "ipython3",
   "version": "3.8.5"
  }
 },
 "nbformat": 4,
 "nbformat_minor": 4
}
