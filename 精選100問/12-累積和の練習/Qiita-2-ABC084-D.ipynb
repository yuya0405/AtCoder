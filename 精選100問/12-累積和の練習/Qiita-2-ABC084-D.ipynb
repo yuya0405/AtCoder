{
 "cells": [
  {
   "cell_type": "code",
   "execution_count": 49,
   "metadata": {},
   "outputs": [],
   "source": [
    "Q = int(input())\n",
    "LR = [list(map(int, input().split())) for _ in range(Q)]\n",
    "\n",
    "def primes(n):\n",
    "    is_prime = [1] * (n + 1)\n",
    "    is_prime[0] = 0\n",
    "    is_prime[1] = 0\n",
    "    for i in range(2, int(n**0.5) + 1):\n",
    "        if not is_prime[i]:\n",
    "            continue\n",
    "        for j in range(i * 2, n + 1, i):\n",
    "            is_prime[j] = 0\n",
    "    #return [i for i in range(n + 1) if is_prime[i]]\n",
    "    return is_prime\n",
    "\n",
    "def like_2017(n, is_prime):\n",
    "    is_like_2017 = [0] * (n + 1)\n",
    "    for i in range(n+1):\n",
    "        if is_prime[i] == 1 and is_prime[(i+1)//2] == 1:\n",
    "            is_like_2017[i] = 1\n",
    "    return is_like_2017\n",
    "\n",
    "is_prime = primes(10**5)\n",
    "\n",
    "is_like_2017 = like_2017(10**5, is_prime)\n",
    "\n",
    "from itertools import accumulate\n",
    "sum = list(accumulate(is_like_2017))\n",
    "\n",
    "for l, r in LR:\n",
    "    print (sum[r] - sum[l-1])"
   ]
  },
  {
   "cell_type": "code",
   "execution_count": null,
   "metadata": {},
   "outputs": [],
   "source": []
  }
 ],
 "metadata": {
  "kernelspec": {
   "display_name": "Python 3 (ipykernel)",
   "language": "python",
   "name": "python3"
  },
  "language_info": {
   "codemirror_mode": {
    "name": "ipython",
    "version": 3
   },
   "file_extension": ".py",
   "mimetype": "text/x-python",
   "name": "python",
   "nbconvert_exporter": "python",
   "pygments_lexer": "ipython3",
   "version": "3.9.12"
  }
 },
 "nbformat": 4,
 "nbformat_minor": 4
}
