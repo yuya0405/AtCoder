{
 "cells": [
  {
   "cell_type": "code",
   "execution_count": 6,
   "id": "a83611b0-26d2-42ab-9ef9-09083bdf2c40",
   "metadata": {},
   "outputs": [
    {
     "name": "stdin",
     "output_type": "stream",
     "text": [
      " 4 6 1\n",
      " 0 1 1\n",
      " 0 2 4\n",
      " 2 0 1\n",
      " 1 2 2\n",
      " 3 1 1\n",
      " 3 2 5\n"
     ]
    }
   ],
   "source": [
    "V, E, r = map(int, input().split())\n",
    "STD = [list(map(int, input().split())) for _ in range(E)]"
   ]
  },
  {
   "cell_type": "code",
   "execution_count": 10,
   "id": "62e3b7bf-e851-4ba4-a583-df9358b50e90",
   "metadata": {},
   "outputs": [
    {
     "name": "stdout",
     "output_type": "stream",
     "text": [
      "3\n",
      "0\n",
      "2\n",
      "INF\n"
     ]
    }
   ],
   "source": [
    "from heapq import heappush, heappop\n",
    "INF = float('INF')\n",
    "def dijkstra(s, n): # (始点, ノード数)\n",
    "    dist = [INF] * n\n",
    "    hq = [(0, s)] # (distance, node)\n",
    "    dist[s] = 0\n",
    "    seen = [False] * n # ノードが確定済みかどうか\n",
    "    while hq:\n",
    "        v = heappop(hq)[1] # ノードを pop する\n",
    "        seen[v] = True\n",
    "        for to, cost in adj[v]: # ノード v に隣接しているノードに対して\n",
    "            if seen[to] == False and dist[v] + cost < dist[to]:\n",
    "                dist[to] = dist[v] + cost\n",
    "                heappush(hq, (dist[to], to))\n",
    "    return dist\n",
    "\n",
    "# ノード数, エッジ数, 始点ノード\n",
    "v, e, r = V, E, r\n",
    "\n",
    "# adj[s]: ノード s に隣接する(ノード, 重み)をリストで持つ\n",
    "adj = [[] for _ in range(v)]\n",
    "for s, t, d in STD:\n",
    "    adj[s].append((t, d))\n",
    "\n",
    "D = dijkstra(r, v)\n",
    "for d in D:\n",
    "    if d == INF:\n",
    "        print (\"INF\")\n",
    "    else:\n",
    "        print (d)"
   ]
  },
  {
   "cell_type": "code",
   "execution_count": null,
   "id": "12ae5919-dca7-4ddd-97df-a6f39e2ce921",
   "metadata": {},
   "outputs": [],
   "source": []
  }
 ],
 "metadata": {
  "kernelspec": {
   "display_name": "Python 3",
   "language": "python",
   "name": "python3"
  },
  "language_info": {
   "codemirror_mode": {
    "name": "ipython",
    "version": 3
   },
   "file_extension": ".py",
   "mimetype": "text/x-python",
   "name": "python",
   "nbconvert_exporter": "python",
   "pygments_lexer": "ipython3",
   "version": "3.8.8"
  }
 },
 "nbformat": 4,
 "nbformat_minor": 5
}
