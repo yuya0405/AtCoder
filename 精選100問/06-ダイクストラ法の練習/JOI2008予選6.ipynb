{
 "cells": [
  {
   "cell_type": "code",
   "execution_count": 21,
   "id": "4d60b9ea-28fb-4735-bad3-89b8232a828d",
   "metadata": {},
   "outputs": [
    {
     "name": "stdin",
     "output_type": "stream",
     "text": [
      " 5 16\n",
      " 1 1 2 343750\n",
      " 1 1 3 3343\n",
      " 1 1 4 347392\n",
      " 1 1 5 5497\n",
      " 1 2 3 123394\n",
      " 1 2 4 545492\n",
      " 1 2 5 458\n",
      " 1 3 4 343983\n",
      " 1 3 5 843468\n",
      " 1 4 5 15934\n",
      " 0 2 1\n",
      " 0 4 1\n",
      " 0 3 2\n",
      " 0 4 2\n",
      " 0 4 3\n",
      " 0 5 3\n"
     ]
    }
   ],
   "source": [
    "N, K = map(int, input().split())\n",
    "TMP = [list(map(int, input().split())) for _ in range(K)]"
   ]
  },
  {
   "cell_type": "code",
   "execution_count": 24,
   "id": "928fce4a-404f-439a-bea3-3b3b9ff25ba0",
   "metadata": {},
   "outputs": [],
   "source": [
    "from heapq import heappush, heappop\n",
    "INF = float('inf')\n",
    "def dijkstra(s, n): # (始点, ノード数)\n",
    "    dist = [INF] * n\n",
    "    hq = [(0, s)] # (distance, node)\n",
    "    dist[s] = 0\n",
    "    seen = [False] * n # ノードが確定済みかどうか\n",
    "    while hq:\n",
    "        v = heappop(hq)[1] # ノードを pop する\n",
    "        seen[v] = True\n",
    "        for to, cost in adj[v]: # ノード v に隣接しているノードに対して\n",
    "            if seen[to] == False and dist[v] + cost < dist[to]:\n",
    "                dist[to] = dist[v] + cost\n",
    "                heappush(hq, (dist[to], to))\n",
    "    return dist"
   ]
  },
  {
   "cell_type": "code",
   "execution_count": 25,
   "id": "11672fe5-f59b-4bff-84b0-9ed5b8f1a30c",
   "metadata": {},
   "outputs": [
    {
     "name": "stdout",
     "output_type": "stream",
     "text": [
      "5955\n",
      "21431\n",
      "9298\n",
      "16392\n",
      "24774\n",
      "8840\n"
     ]
    }
   ],
   "source": [
    "NODE = []\n",
    "for t, *L in TMP:\n",
    "    if t == 0:\n",
    "        a, b = L\n",
    "        \n",
    "        # ノード数, エッジ数, 始点ノード\n",
    "        v, e, r = N, len(NODE), a-1\n",
    "\n",
    "        # adj[s]: ノード s に隣接する(ノード, 重み)をリストで持つ\n",
    "        adj = [[] for _ in range(v)]\n",
    "        for tmp in NODE:\n",
    "            s, t, d = tmp\n",
    "            adj[s-1].append((t-1, d))\n",
    "            adj[t-1].append((s-1, d))\n",
    "\n",
    "        D = dijkstra(r, v)\n",
    "        if D[b-1] == INF:\n",
    "            print (-1)\n",
    "        else:\n",
    "            print (D[b-1])\n",
    "            \n",
    "    elif t == 1:\n",
    "        NODE.append(L)"
   ]
  },
  {
   "cell_type": "code",
   "execution_count": null,
   "id": "8795622a-f928-440d-86e0-476973354647",
   "metadata": {},
   "outputs": [],
   "source": []
  }
 ],
 "metadata": {
  "kernelspec": {
   "display_name": "Python 3",
   "language": "python",
   "name": "python3"
  },
  "language_info": {
   "codemirror_mode": {
    "name": "ipython",
    "version": 3
   },
   "file_extension": ".py",
   "mimetype": "text/x-python",
   "name": "python",
   "nbconvert_exporter": "python",
   "pygments_lexer": "ipython3",
   "version": "3.8.8"
  }
 },
 "nbformat": 4,
 "nbformat_minor": 5
}
