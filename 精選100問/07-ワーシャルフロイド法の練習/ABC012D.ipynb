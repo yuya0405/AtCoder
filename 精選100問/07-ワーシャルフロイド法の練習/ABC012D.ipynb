{
 "cells": [
  {
   "cell_type": "code",
   "execution_count": 8,
   "id": "b0a51f59-3280-456e-a909-eaad503d0f51",
   "metadata": {},
   "outputs": [
    {
     "name": "stdin",
     "output_type": "stream",
     "text": [
      " 5 5\n",
      " 1 2 12\n",
      " 2 3 14\n",
      " 3 4 7\n",
      " 4 5 9\n",
      " 5 1 18\n"
     ]
    }
   ],
   "source": [
    "N, M = map(int, input().split())\n",
    "ABT = [list(map(int, input().split())) for _ in range(M)]"
   ]
  },
  {
   "cell_type": "code",
   "execution_count": 31,
   "id": "e6a1abd8-eb86-45f9-83c7-16a2e6136378",
   "metadata": {},
   "outputs": [],
   "source": [
    "INF = float('inf')\n",
    "cost = [[INF]*N for _ in range(N)]\n",
    "for n in range(N):\n",
    "    cost[n][n] = 0\n",
    "for a, b, t in ABT:\n",
    "    cost[a-1][b-1] = t\n",
    "    cost[b-1][a-1] = t\n",
    "\n",
    "for i in range(N): # 中継点\n",
    "    for j in range(N): # 始点\n",
    "        for k in range(N): # 終点\n",
    "            cost[j][k] = min(cost[j][i]+cost[i][k], cost[j][k])"
   ]
  },
  {
   "cell_type": "code",
   "execution_count": 32,
   "id": "c0ca9b96-a59f-4ca2-a9ad-dc79f187d202",
   "metadata": {},
   "outputs": [
    {
     "data": {
      "text/plain": [
       "[[0, 12, 26, 27, 18],\n",
       " [12, 0, 14, 21, 30],\n",
       " [26, 14, 0, 7, 16],\n",
       " [27, 21, 7, 0, 9],\n",
       " [18, 30, 16, 9, 0]]"
      ]
     },
     "execution_count": 32,
     "metadata": {},
     "output_type": "execute_result"
    }
   ],
   "source": [
    "cost"
   ]
  },
  {
   "cell_type": "code",
   "execution_count": 36,
   "id": "94a614aa-aecf-4748-b407-672fd496789f",
   "metadata": {},
   "outputs": [
    {
     "name": "stdout",
     "output_type": "stream",
     "text": [
      "26\n"
     ]
    }
   ],
   "source": [
    "ans = float(\"inf\")\n",
    "for n in range(N):\n",
    "    ans = min(ans, max(cost[n]))\n",
    "print (ans)"
   ]
  }
 ],
 "metadata": {
  "kernelspec": {
   "display_name": "Python 3",
   "language": "python",
   "name": "python3"
  },
  "language_info": {
   "codemirror_mode": {
    "name": "ipython",
    "version": 3
   },
   "file_extension": ".py",
   "mimetype": "text/x-python",
   "name": "python",
   "nbconvert_exporter": "python",
   "pygments_lexer": "ipython3",
   "version": "3.8.8"
  }
 },
 "nbformat": 4,
 "nbformat_minor": 5
}
