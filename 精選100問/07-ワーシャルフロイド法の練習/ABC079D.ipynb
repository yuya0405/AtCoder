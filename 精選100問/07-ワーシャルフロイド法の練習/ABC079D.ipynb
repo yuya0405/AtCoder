{
 "cells": [
  {
   "cell_type": "code",
   "execution_count": 2,
   "id": "558752ba-88c2-4941-a9ee-eed3ce97e6df",
   "metadata": {},
   "outputs": [
    {
     "name": "stdin",
     "output_type": "stream",
     "text": [
      " 2 4\n",
      " 0 9 9 9 9 9 9 9 9 9\n",
      " 9 0 9 9 9 9 9 9 9 9\n",
      " 9 9 0 9 9 9 9 9 9 9\n",
      " 9 9 9 0 9 9 9 9 9 9\n",
      " 9 9 9 9 0 9 9 9 9 2\n",
      " 9 9 9 9 9 0 9 9 9 9\n",
      " 9 9 9 9 9 9 0 9 9 9\n",
      " 9 9 9 9 9 9 9 0 9 9\n",
      " 9 9 9 9 2 9 9 9 0 9\n",
      " 9 2 9 9 9 9 9 9 9 0\n",
      " -1 -1 -1 -1\n",
      " 8 1 1 8\n"
     ]
    }
   ],
   "source": [
    "H, W = map(int, input().split())\n",
    "C = [list(map(int, input().split())) for _ in range(10)]\n",
    "A = [list(map(int, input().split())) for _ in range(H)]"
   ]
  },
  {
   "cell_type": "code",
   "execution_count": 5,
   "id": "338356a1-ec5a-4bd5-81d6-1dfa5401ce7c",
   "metadata": {},
   "outputs": [],
   "source": [
    "INF = float('inf')\n",
    "cost = C\n",
    "\n",
    "for i in range(10): # 中継点\n",
    "    for j in range(10): # 始点\n",
    "        for k in range(10): # 終点\n",
    "            cost[j][k] = min(cost[j][i]+cost[i][k], cost[j][k])"
   ]
  },
  {
   "cell_type": "code",
   "execution_count": 9,
   "id": "5d5f0dc3-df4b-4aa4-b26a-87ade6574bb4",
   "metadata": {},
   "outputs": [
    {
     "data": {
      "text/plain": [
       "[[0, 9, 9, 9, 9, 9, 9, 9, 9, 9],\n",
       " [9, 0, 9, 9, 9, 9, 9, 9, 9, 9],\n",
       " [9, 9, 0, 9, 9, 9, 9, 9, 9, 9],\n",
       " [9, 9, 9, 0, 9, 9, 9, 9, 9, 9],\n",
       " [9, 4, 9, 9, 0, 9, 9, 9, 9, 2],\n",
       " [9, 9, 9, 9, 9, 0, 9, 9, 9, 9],\n",
       " [9, 9, 9, 9, 9, 9, 0, 9, 9, 9],\n",
       " [9, 9, 9, 9, 9, 9, 9, 0, 9, 9],\n",
       " [9, 6, 9, 9, 2, 9, 9, 9, 0, 4],\n",
       " [9, 2, 9, 9, 9, 9, 9, 9, 9, 0]]"
      ]
     },
     "execution_count": 9,
     "metadata": {},
     "output_type": "execute_result"
    }
   ],
   "source": [
    "cost"
   ]
  },
  {
   "cell_type": "code",
   "execution_count": 11,
   "id": "e0e47ae7-b704-450d-8a84-a1f74c777aa9",
   "metadata": {},
   "outputs": [],
   "source": [
    "ans = 0\n",
    "for h in range(H):\n",
    "    for w in range(W):\n",
    "        if A[h][w] == -1:\n",
    "            continue\n",
    "        ans += cost[A[h][w]][1]\n",
    "\n",
    "print (ans)"
   ]
  },
  {
   "cell_type": "code",
   "execution_count": null,
   "id": "5a1f144e-ba19-42e5-b5cf-7c46dfc16a11",
   "metadata": {},
   "outputs": [],
   "source": []
  }
 ],
 "metadata": {
  "kernelspec": {
   "display_name": "Python 3",
   "language": "python",
   "name": "python3"
  },
  "language_info": {
   "codemirror_mode": {
    "name": "ipython",
    "version": 3
   },
   "file_extension": ".py",
   "mimetype": "text/x-python",
   "name": "python",
   "nbconvert_exporter": "python",
   "pygments_lexer": "ipython3",
   "version": "3.8.8"
  }
 },
 "nbformat": 4,
 "nbformat_minor": 5
}
