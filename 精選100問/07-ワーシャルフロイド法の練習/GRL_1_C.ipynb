{
 "cells": [
  {
   "cell_type": "code",
   "execution_count": 21,
   "id": "bcb74f22-d741-4932-8d67-c07600425adf",
   "metadata": {},
   "outputs": [
    {
     "name": "stdin",
     "output_type": "stream",
     "text": [
      " 4 6\n",
      " 0 1 1\n",
      " 0 2 5\n",
      " 1 2 2\n",
      " 1 3 4\n",
      " 2 3 1\n",
      " 3 2 7\n"
     ]
    }
   ],
   "source": [
    "V, E = map(int, input().split())\n",
    "STD = [list(map(int, input().split())) for _ in range(E)]"
   ]
  },
  {
   "cell_type": "code",
   "execution_count": 22,
   "id": "15f20d78-de5f-4a3a-a090-fc0cab415fa4",
   "metadata": {},
   "outputs": [],
   "source": [
    "INF = float('inf')\n",
    "cost = [[INF]*V for _ in range(V)]\n",
    "for v in range(V):\n",
    "    cost[v][v] = 0\n",
    "for s, t, d in STD:\n",
    "    cost[s][t] = d\n",
    "\n",
    "for i in range(V): # 中継点\n",
    "    for j in range(V): # 始点\n",
    "        for k in range(V): # 終点\n",
    "            cost[j][k] = min(cost[j][i]+cost[i][k], cost[j][k])"
   ]
  },
  {
   "cell_type": "code",
   "execution_count": 23,
   "id": "d0492185-0d8a-4fdd-b6fe-3fbd8614f178",
   "metadata": {},
   "outputs": [],
   "source": [
    "for c in cost:\n",
    "    if True in [True for i in c if i < 0]:\n",
    "        print (\"NEGATIVE CYCLE\")"
   ]
  },
  {
   "cell_type": "code",
   "execution_count": 24,
   "id": "03ced9ae-bd96-454d-80ea-fe941cbdf5d3",
   "metadata": {},
   "outputs": [
    {
     "name": "stdout",
     "output_type": "stream",
     "text": [
      "0 1 3 4\n",
      "INF 0 2 3\n",
      "INF INF 0 1\n",
      "INF INF 7 0\n"
     ]
    }
   ],
   "source": [
    "for c in cost:\n",
    "    tmp = [str(i).replace('inf', 'INF') for i in c]\n",
    "    print (*tmp)"
   ]
  },
  {
   "cell_type": "code",
   "execution_count": null,
   "id": "13666c53-db78-4382-b1a9-2bfc1bb09366",
   "metadata": {},
   "outputs": [],
   "source": []
  }
 ],
 "metadata": {
  "kernelspec": {
   "display_name": "Python 3",
   "language": "python",
   "name": "python3"
  },
  "language_info": {
   "codemirror_mode": {
    "name": "ipython",
    "version": 3
   },
   "file_extension": ".py",
   "mimetype": "text/x-python",
   "name": "python",
   "nbconvert_exporter": "python",
   "pygments_lexer": "ipython3",
   "version": "3.8.8"
  }
 },
 "nbformat": 4,
 "nbformat_minor": 5
}
