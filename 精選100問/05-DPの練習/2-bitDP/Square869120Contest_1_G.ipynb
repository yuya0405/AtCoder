{
 "cells": [
  {
   "cell_type": "code",
   "execution_count": 1,
   "id": "0e1bb9c9-2771-4216-bfc8-9f9d20291d57",
   "metadata": {},
   "outputs": [
    {
     "name": "stdin",
     "output_type": "stream",
     "text": [
      " 3 3\n",
      " 1 2 1 6\n",
      " 2 3 2 6\n",
      " 3 1 3 6\n"
     ]
    }
   ],
   "source": [
    "N, M = map(int, input().split())\n",
    "STDT = [list(map(int, input().split())) for _ in range(M)]"
   ]
  },
  {
   "cell_type": "code",
   "execution_count": null,
   "id": "fa078b37-8084-486b-a9f5-82a5b4315d12",
   "metadata": {},
   "outputs": [],
   "source": []
  }
 ],
 "metadata": {
  "kernelspec": {
   "display_name": "Python 3",
   "language": "python",
   "name": "python3"
  },
  "language_info": {
   "codemirror_mode": {
    "name": "ipython",
    "version": 3
   },
   "file_extension": ".py",
   "mimetype": "text/x-python",
   "name": "python",
   "nbconvert_exporter": "python",
   "pygments_lexer": "ipython3",
   "version": "3.8.8"
  }
 },
 "nbformat": 4,
 "nbformat_minor": 5
}
