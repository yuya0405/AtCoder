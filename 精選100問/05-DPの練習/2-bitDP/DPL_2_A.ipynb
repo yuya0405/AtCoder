{
 "cells": [
  {
   "cell_type": "code",
   "execution_count": 1,
   "metadata": {},
   "outputs": [
    {
     "name": "stdin",
     "output_type": "stream",
     "text": [
      " 4 6\n",
      " 0 1 2\n",
      " 1 2 3\n",
      " 1 3 9\n",
      " 2 0 1\n",
      " 2 3 6\n",
      " 3 2 4\n"
     ]
    }
   ],
   "source": [
    "V, E = map(int, input().split())\n",
    "STD = [list(map(int, input().split())) for _ in range(E)]"
   ]
  },
  {
   "cell_type": "code",
   "execution_count": 2,
   "metadata": {},
   "outputs": [
    {
     "name": "stdout",
     "output_type": "stream",
     "text": [
      "16\n"
     ]
    }
   ],
   "source": [
    "INF = float('inf')\n",
    "edges = [[INF]*V for _ in range(V)]\n",
    "\n",
    "for s, t, d in STD:\n",
    "    edges[s][t] = d\n",
    "\n",
    "#Dpは全体集合の部分集合Sについて最後がvであるという制約の下で順序を最適化したときのSの中での最小コスト\n",
    "dp = [[INF]*V for _ in range(2**V)]\n",
    "dp[0][0] = 0\n",
    "\n",
    "#集合（訪れたか訪れていないかを表す二進数）\n",
    "for x in range(2**V):\n",
    "    #最後に訪れたノード\n",
    "    for y in range(V):\n",
    "        #最後に訪れた以外のノード\n",
    "        for z in range(V):\n",
    "            #1.すでに訪れたかどうか 2.最後に訪れたノードではないか 3. yとzはそもそもつながっているのか\n",
    "            if ((x >> y) & 1) and y != z and edges[z][y] < 10**6:\n",
    "                dp[x][y] = min(dp[x][y], dp[x^(1<<y)][z]+edges[z][y])\n",
    "\n",
    "if dp[-1][0] > 10**6:\n",
    "    print(-1)\n",
    "else:\n",
    "    print(dp[-1][0])"
   ]
  },
  {
   "cell_type": "code",
   "execution_count": null,
   "metadata": {},
   "outputs": [],
   "source": []
  }
 ],
 "metadata": {
  "kernelspec": {
   "display_name": "Python 3",
   "language": "python",
   "name": "python3"
  },
  "language_info": {
   "codemirror_mode": {
    "name": "ipython",
    "version": 3
   },
   "file_extension": ".py",
   "mimetype": "text/x-python",
   "name": "python",
   "nbconvert_exporter": "python",
   "pygments_lexer": "ipython3",
   "version": "3.8.8"
  }
 },
 "nbformat": 4,
 "nbformat_minor": 4
}
