{
 "cells": [
  {
   "cell_type": "code",
   "execution_count": 6,
   "id": "b7539867-637c-4416-be2b-40c1d6cd7b3b",
   "metadata": {},
   "outputs": [
    {
     "name": "stdin",
     "output_type": "stream",
     "text": [
      " 3\n",
      " 1\n",
      " 1\n",
      " 1\n"
     ]
    },
    {
     "name": "stdout",
     "output_type": "stream",
     "text": [
      "[1]\n"
     ]
    }
   ],
   "source": [
    "import bisect\n",
    "\n",
    "n = int(input())\n",
    "\n",
    "LIS = []\n",
    "\n",
    "for i in range(n):\n",
    "    y = int(input())\n",
    "    z = bisect.bisect_left(LIS, y)\n",
    "    if z >= len(LIS):\n",
    "        LIS.append(y)\n",
    "    else:\n",
    "        LIS[z] = y\n",
    "\n",
    "print(LIS)"
   ]
  },
  {
   "cell_type": "code",
   "execution_count": 7,
   "id": "f2a38ffe-9068-45fa-a652-fbec22225355",
   "metadata": {},
   "outputs": [
    {
     "data": {
      "text/plain": [
       "1"
      ]
     },
     "execution_count": 7,
     "metadata": {},
     "output_type": "execute_result"
    }
   ],
   "source": [
    "len(LIS)"
   ]
  },
  {
   "cell_type": "code",
   "execution_count": 4,
   "id": "691b8273-0db4-48fe-a7fa-572292e3d13e",
   "metadata": {},
   "outputs": [
    {
     "name": "stdin",
     "output_type": "stream",
     "text": [
      " 3\n",
      " 1\n",
      " 1\n",
      " 1\n"
     ]
    },
    {
     "name": "stdout",
     "output_type": "stream",
     "text": [
      "[1, 1, 1]\n"
     ]
    }
   ],
   "source": [
    "import bisect\n",
    "\n",
    "n = int(input())\n",
    "\n",
    "LIS = []\n",
    "\n",
    "for i in range(n):\n",
    "    y = int(input())\n",
    "    z = bisect.bisect(LIS, y)\n",
    "    if z >= len(LIS):\n",
    "        LIS.append(y)\n",
    "    else:\n",
    "        LIS[z] = y\n",
    "\n",
    "print(LIS)"
   ]
  },
  {
   "cell_type": "code",
   "execution_count": 5,
   "id": "cc7b39cd-1501-4156-a4ba-998e50de8658",
   "metadata": {},
   "outputs": [
    {
     "data": {
      "text/plain": [
       "3"
      ]
     },
     "execution_count": 5,
     "metadata": {},
     "output_type": "execute_result"
    }
   ],
   "source": [
    "len(LIS)"
   ]
  },
  {
   "cell_type": "code",
   "execution_count": null,
   "id": "86ace36c-a37a-458e-9cff-2d5b4eb7e586",
   "metadata": {},
   "outputs": [],
   "source": []
  }
 ],
 "metadata": {
  "kernelspec": {
   "display_name": "Python 3",
   "language": "python",
   "name": "python3"
  },
  "language_info": {
   "codemirror_mode": {
    "name": "ipython",
    "version": 3
   },
   "file_extension": ".py",
   "mimetype": "text/x-python",
   "name": "python",
   "nbconvert_exporter": "python",
   "pygments_lexer": "ipython3",
   "version": "3.8.8"
  }
 },
 "nbformat": 4,
 "nbformat_minor": 5
}
