{
 "cells": [
  {
   "cell_type": "code",
   "execution_count": 15,
   "id": "84104fff-26b6-4e6f-b993-f179f9c23140",
   "metadata": {},
   "outputs": [
    {
     "name": "stdin",
     "output_type": "stream",
     "text": [
      " 15 6\n",
      " 1 2 7 8 12 50\n"
     ]
    }
   ],
   "source": [
    "N, M = map(int, input().split())\n",
    "C = list(map(int, input().split()))"
   ]
  },
  {
   "cell_type": "code",
   "execution_count": 43,
   "id": "19091952-fe06-4ea7-8cd5-6727a05c145f",
   "metadata": {},
   "outputs": [
    {
     "data": {
      "text/plain": [
       "[0, 1, 2, 7, 8, 12, 50]"
      ]
     },
     "execution_count": 43,
     "metadata": {},
     "output_type": "execute_result"
    }
   ],
   "source": [
    "C = [0] + C\n",
    "C"
   ]
  },
  {
   "cell_type": "code",
   "execution_count": 44,
   "id": "8a109d1e-6ab6-4d10-a1eb-bcacc5396e25",
   "metadata": {},
   "outputs": [],
   "source": [
    "dp = [[float('inf')] * (N+1) for _ in range(M+1)]"
   ]
  },
  {
   "cell_type": "code",
   "execution_count": 45,
   "id": "2bddd990-4e85-441d-a4b8-8fb128d27800",
   "metadata": {},
   "outputs": [],
   "source": [
    "dp[0][0] = 0"
   ]
  },
  {
   "cell_type": "code",
   "execution_count": 48,
   "id": "3fc597aa-b7e5-4fcc-aa6e-3ad9ad5a268b",
   "metadata": {},
   "outputs": [
    {
     "data": {
      "text/plain": [
       "[[0,\n",
       "  inf,\n",
       "  inf,\n",
       "  inf,\n",
       "  inf,\n",
       "  inf,\n",
       "  inf,\n",
       "  inf,\n",
       "  inf,\n",
       "  inf,\n",
       "  inf,\n",
       "  inf,\n",
       "  inf,\n",
       "  inf,\n",
       "  inf,\n",
       "  inf],\n",
       " [0, 1, 2, 3, 4, 5, 6, 7, 8, 9, 10, 11, 12, 13, 14, 15],\n",
       " [0, 1, 1, 2, 2, 3, 3, 4, 4, 5, 5, 6, 6, 7, 7, 8],\n",
       " [0, 1, 1, 2, 2, 3, 3, 1, 2, 2, 3, 3, 4, 4, 2, 3],\n",
       " [0, 1, 1, 2, 2, 3, 3, 1, 1, 2, 2, 3, 3, 4, 2, 2],\n",
       " [0, 1, 1, 2, 2, 3, 3, 1, 1, 2, 2, 3, 1, 2, 2, 2],\n",
       " [0, 1, 1, 2, 2, 3, 3, 1, 1, 2, 2, 3, 1, 2, 2, 2]]"
      ]
     },
     "execution_count": 48,
     "metadata": {},
     "output_type": "execute_result"
    }
   ],
   "source": [
    "for m in range(1, M+1):\n",
    "    for n in range(N+1):\n",
    "        if n >= C[m]:\n",
    "            dp[m][n] = min(dp[m][n-C[m]] + 1, dp[m-1][n])\n",
    "        else:\n",
    "            dp[m][n] = dp[m-1][n]\n",
    "dp"
   ]
  },
  {
   "cell_type": "code",
   "execution_count": 49,
   "id": "a1abf81d-2cb2-4fc9-8f33-938b4b54e60f",
   "metadata": {},
   "outputs": [
    {
     "data": {
      "text/plain": [
       "2"
      ]
     },
     "execution_count": 49,
     "metadata": {},
     "output_type": "execute_result"
    }
   ],
   "source": [
    "dp[M][N]"
   ]
  },
  {
   "cell_type": "code",
   "execution_count": null,
   "id": "913fc8da-8357-4d65-99e3-b0ab8d1065bd",
   "metadata": {},
   "outputs": [],
   "source": []
  }
 ],
 "metadata": {
  "kernelspec": {
   "display_name": "Python 3 (ipykernel)",
   "language": "python",
   "name": "python3"
  },
  "language_info": {
   "codemirror_mode": {
    "name": "ipython",
    "version": 3
   },
   "file_extension": ".py",
   "mimetype": "text/x-python",
   "name": "python",
   "nbconvert_exporter": "python",
   "pygments_lexer": "ipython3",
   "version": "3.9.13"
  }
 },
 "nbformat": 4,
 "nbformat_minor": 5
}
