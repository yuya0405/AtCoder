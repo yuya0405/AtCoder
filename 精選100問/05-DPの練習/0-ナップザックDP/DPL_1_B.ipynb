{
 "cells": [
  {
   "cell_type": "code",
   "execution_count": 1,
   "id": "68dd8f17-d587-4858-b0f7-c3efffcf9441",
   "metadata": {},
   "outputs": [
    {
     "name": "stdin",
     "output_type": "stream",
     "text": [
      " 4 5\n",
      " 4 2\n",
      " 5 2\n",
      " 2 1\n",
      " 8 3\n"
     ]
    }
   ],
   "source": [
    "N, W = map(int, input().split())\n",
    "VW = [list(map(int, input().split())) for _ in range(N)]"
   ]
  },
  {
   "cell_type": "code",
   "execution_count": 11,
   "id": "c50bbd44-cef2-4e0e-8491-bbab40250d72",
   "metadata": {},
   "outputs": [
    {
     "data": {
      "text/plain": [
       "[[-1, -1, -1, -1, -1, -1],\n",
       " [-1, -1, -1, -1, -1, -1],\n",
       " [-1, -1, -1, -1, -1, -1],\n",
       " [-1, -1, -1, -1, -1, -1],\n",
       " [-1, -1, -1, -1, -1, -1]]"
      ]
     },
     "execution_count": 11,
     "metadata": {},
     "output_type": "execute_result"
    }
   ],
   "source": [
    "dp = [[-1] * (W+1) for _ in range(N+1)]\n",
    "dp"
   ]
  },
  {
   "cell_type": "code",
   "execution_count": null,
   "id": "09ce057e-1077-4204-8182-202b7de6cd7a",
   "metadata": {},
   "outputs": [],
   "source": [
    "for i in range("
   ]
  },
  {
   "cell_type": "code",
   "execution_count": 13,
   "id": "0354ced9-b94e-4980-98aa-a5a985d7a20d",
   "metadata": {},
   "outputs": [],
   "source": [
    "for i in range(0, N):\n",
    "    for j in range(0, W):\n",
    "        if j >= VW[i][1]:\n",
    "            dp[i+1][j] = max(dp[i-1][j-VW[i][1]] + VW[i][0], dp[i][j])\n",
    "        else:\n",
    "            dp[i+1][j] = dp[i][j]"
   ]
  },
  {
   "cell_type": "code",
   "execution_count": 14,
   "id": "656b462b-5e5e-45ca-b0bf-20c21fe09c7b",
   "metadata": {},
   "outputs": [
    {
     "data": {
      "text/plain": [
       "[[-1, -1, -1, -1, -1, -1],\n",
       " [-1, -1, 3, 5, 8, 3],\n",
       " [-1, -1, 4, 5, 8, 4],\n",
       " [-1, 1, 4, 5, 8, 5],\n",
       " [-1, 1, 4, 7, 8, 12]]"
      ]
     },
     "execution_count": 14,
     "metadata": {},
     "output_type": "execute_result"
    }
   ],
   "source": [
    "dp"
   ]
  },
  {
   "cell_type": "code",
   "execution_count": null,
   "id": "61ace861-ecd9-4307-a9f4-0d6e793890d2",
   "metadata": {},
   "outputs": [],
   "source": []
  }
 ],
 "metadata": {
  "kernelspec": {
   "display_name": "Python 3",
   "language": "python",
   "name": "python3"
  },
  "language_info": {
   "codemirror_mode": {
    "name": "ipython",
    "version": 3
   },
   "file_extension": ".py",
   "mimetype": "text/x-python",
   "name": "python",
   "nbconvert_exporter": "python",
   "pygments_lexer": "ipython3",
   "version": "3.8.8"
  }
 },
 "nbformat": 4,
 "nbformat_minor": 5
}
