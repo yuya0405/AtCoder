{
 "cells": [
  {
   "cell_type": "code",
   "execution_count": 1,
   "id": "68dd8f17-d587-4858-b0f7-c3efffcf9441",
   "metadata": {},
   "outputs": [
    {
     "name": "stdin",
     "output_type": "stream",
     "text": [
      " 4 5\n",
      " 4 2\n",
      " 5 2\n",
      " 2 1\n",
      " 8 3\n"
     ]
    }
   ],
   "source": [
    "N, W = map(int, input().split())\n",
    "VW = [list(map(int, input().split())) for _ in range(N)]"
   ]
  },
  {
   "cell_type": "code",
   "execution_count": 5,
   "id": "6e2f2367-2be8-4e0a-9edd-2e0e5a31fcb2",
   "metadata": {},
   "outputs": [],
   "source": [
    "VW = [[0,0]] + VW"
   ]
  },
  {
   "cell_type": "code",
   "execution_count": 6,
   "id": "c50bbd44-cef2-4e0e-8491-bbab40250d72",
   "metadata": {},
   "outputs": [
    {
     "data": {
      "text/plain": [
       "[[-1, -1, -1, -1, -1, -1],\n",
       " [-1, -1, -1, -1, -1, -1],\n",
       " [-1, -1, -1, -1, -1, -1],\n",
       " [-1, -1, -1, -1, -1, -1],\n",
       " [-1, -1, -1, -1, -1, -1]]"
      ]
     },
     "execution_count": 6,
     "metadata": {},
     "output_type": "execute_result"
    }
   ],
   "source": [
    "dp = [[-1] * (W+1) for _ in range(N+1)]\n",
    "dp"
   ]
  },
  {
   "cell_type": "code",
   "execution_count": 7,
   "id": "09ce057e-1077-4204-8182-202b7de6cd7a",
   "metadata": {},
   "outputs": [
    {
     "data": {
      "text/plain": [
       "[[0, -1, -1, -1, -1, -1],\n",
       " [0, -1, -1, -1, -1, -1],\n",
       " [0, -1, -1, -1, -1, -1],\n",
       " [0, -1, -1, -1, -1, -1],\n",
       " [0, -1, -1, -1, -1, -1]]"
      ]
     },
     "execution_count": 7,
     "metadata": {},
     "output_type": "execute_result"
    }
   ],
   "source": [
    "for i in range(N+1):\n",
    "    dp[i][0] = 0\n",
    "dp"
   ]
  },
  {
   "cell_type": "code",
   "execution_count": 8,
   "id": "0354ced9-b94e-4980-98aa-a5a985d7a20d",
   "metadata": {},
   "outputs": [],
   "source": [
    "for i in range(1, N+1):\n",
    "    for j in range(1, W+1):\n",
    "        if j >= VW[i][1]:\n",
    "            dp[i][j] = max(dp[i-1][j-VW[i][1]] + VW[i][0], dp[i-1][j])\n",
    "        else:\n",
    "            dp[i][j] = dp[i-1][j]"
   ]
  },
  {
   "cell_type": "code",
   "execution_count": 9,
   "id": "656b462b-5e5e-45ca-b0bf-20c21fe09c7b",
   "metadata": {},
   "outputs": [
    {
     "data": {
      "text/plain": [
       "[[0, -1, -1, -1, -1, -1],\n",
       " [0, -1, 4, 3, 3, 3],\n",
       " [0, -1, 5, 4, 9, 8],\n",
       " [0, 2, 5, 7, 9, 11],\n",
       " [0, 2, 5, 8, 10, 13]]"
      ]
     },
     "execution_count": 9,
     "metadata": {},
     "output_type": "execute_result"
    }
   ],
   "source": [
    "dp"
   ]
  },
  {
   "cell_type": "code",
   "execution_count": 10,
   "id": "61ace861-ecd9-4307-a9f4-0d6e793890d2",
   "metadata": {},
   "outputs": [
    {
     "data": {
      "text/plain": [
       "13"
      ]
     },
     "execution_count": 10,
     "metadata": {},
     "output_type": "execute_result"
    }
   ],
   "source": [
    "dp[N][W]"
   ]
  },
  {
   "cell_type": "code",
   "execution_count": null,
   "id": "38394271-ee5f-4f25-bf11-1de0eefe5b97",
   "metadata": {},
   "outputs": [],
   "source": []
  }
 ],
 "metadata": {
  "kernelspec": {
   "display_name": "Python 3",
   "language": "python",
   "name": "python3"
  },
  "language_info": {
   "codemirror_mode": {
    "name": "ipython",
    "version": 3
   },
   "file_extension": ".py",
   "mimetype": "text/x-python",
   "name": "python",
   "nbconvert_exporter": "python",
   "pygments_lexer": "ipython3",
   "version": "3.8.8"
  }
 },
 "nbformat": 4,
 "nbformat_minor": 5
}
