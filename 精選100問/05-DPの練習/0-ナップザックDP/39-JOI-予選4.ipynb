{
 "cells": [
  {
   "cell_type": "code",
   "execution_count": 55,
   "id": "2d67f5c4-a33d-4a1b-b674-8d7b81b826aa",
   "metadata": {},
   "outputs": [
    {
     "name": "stdin",
     "output_type": "stream",
     "text": [
      " 40\n",
      " 1 1 1 1 1 1 1 1 1 1 1 1 1 1 1 1 1 1 1 1 1 1 1 1 1 1 1 1 1 1 1 1 1 1 1 1 0 0 1 1\n"
     ]
    }
   ],
   "source": [
    "N = int(input())\n",
    "A = list(map(int, input().split()))"
   ]
  },
  {
   "cell_type": "code",
   "execution_count": 56,
   "id": "618d94a1-d3f7-4447-9890-b50b9457687f",
   "metadata": {},
   "outputs": [],
   "source": [
    "dp = [[0]*21 for _ in range(N-1)]\n",
    "dp[0][A[0]] = 1\n",
    "\n",
    "for i in range(1, N-1):\n",
    "    for j in range(21):\n",
    "        if j-A[i] >= 0:\n",
    "            dp[i][j] += dp[i-1][j-A[i]]\n",
    "        if j+A[i] <= 20:\n",
    "            dp[i][j] += dp[i-1][j+A[i]]"
   ]
  },
  {
   "cell_type": "code",
   "execution_count": 58,
   "id": "75350903-b2d8-435d-9d1b-79adbf7c65fb",
   "metadata": {},
   "outputs": [
    {
     "name": "stdout",
     "output_type": "stream",
     "text": [
      "7069052760\n"
     ]
    }
   ],
   "source": [
    "print (dp[N-2][A[-1]])"
   ]
  },
  {
   "cell_type": "code",
   "execution_count": null,
   "id": "786fa99b-f26e-4023-a42d-32901085861b",
   "metadata": {},
   "outputs": [],
   "source": []
  }
 ],
 "metadata": {
  "kernelspec": {
   "display_name": "Python 3",
   "language": "python",
   "name": "python3"
  },
  "language_info": {
   "codemirror_mode": {
    "name": "ipython",
    "version": 3
   },
   "file_extension": ".py",
   "mimetype": "text/x-python",
   "name": "python",
   "nbconvert_exporter": "python",
   "pygments_lexer": "ipython3",
   "version": "3.8.8"
  }
 },
 "nbformat": 4,
 "nbformat_minor": 5
}
