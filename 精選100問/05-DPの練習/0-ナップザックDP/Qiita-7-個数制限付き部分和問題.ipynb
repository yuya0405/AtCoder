{
 "cells": [
  {
   "cell_type": "code",
   "execution_count": null,
   "metadata": {},
   "outputs": [],
   "source": [
    "# プログラミングコンテストチャレンジブック第二版 P.62～P.63"
   ]
  },
  {
   "cell_type": "code",
   "execution_count": 1,
   "metadata": {},
   "outputs": [],
   "source": [
    "# アルゴ式（https://algo-method.com/tasks/313/editorial）"
   ]
  },
  {
   "cell_type": "code",
   "execution_count": 20,
   "metadata": {},
   "outputs": [
    {
     "name": "stdin",
     "output_type": "stream",
     "text": [
      " 3 10\n",
      " 3 5\n",
      " 5 1\n",
      " 8 2\n"
     ]
    }
   ],
   "source": [
    "N, M = map(int, input().split())\n",
    "AB = [list((map(int, input().split()))) for _ in range(N)]"
   ]
  },
  {
   "cell_type": "code",
   "execution_count": 21,
   "metadata": {
    "tags": []
   },
   "outputs": [
    {
     "data": {
      "text/plain": [
       "[[inf, inf, inf, inf, inf, inf, inf, inf, inf, inf, inf],\n",
       " [inf, inf, inf, inf, inf, inf, inf, inf, inf, inf, inf],\n",
       " [inf, inf, inf, inf, inf, inf, inf, inf, inf, inf, inf],\n",
       " [inf, inf, inf, inf, inf, inf, inf, inf, inf, inf, inf]]"
      ]
     },
     "execution_count": 21,
     "metadata": {},
     "output_type": "execute_result"
    }
   ],
   "source": [
    "dp = [[float('inf')] * (M+1) for _ in range(N+1)]\n",
    "dp"
   ]
  },
  {
   "cell_type": "code",
   "execution_count": 22,
   "metadata": {
    "tags": []
   },
   "outputs": [
    {
     "data": {
      "text/plain": [
       "[[0, inf, inf, inf, inf, inf, inf, inf, inf, inf, inf],\n",
       " [inf, inf, inf, inf, inf, inf, inf, inf, inf, inf, inf],\n",
       " [inf, inf, inf, inf, inf, inf, inf, inf, inf, inf, inf],\n",
       " [inf, inf, inf, inf, inf, inf, inf, inf, inf, inf, inf]]"
      ]
     },
     "execution_count": 22,
     "metadata": {},
     "output_type": "execute_result"
    }
   ],
   "source": [
    "dp[0][0] = 0\n",
    "dp"
   ]
  },
  {
   "cell_type": "code",
   "execution_count": 27,
   "metadata": {
    "tags": []
   },
   "outputs": [
    {
     "data": {
      "text/plain": [
       "[[0, inf, inf, inf, inf, inf, inf, inf, inf, inf, inf],\n",
       " [0, inf, inf, 1, inf, inf, 2, inf, inf, 3, inf],\n",
       " [0, inf, inf, 0, inf, 1, 0, inf, 1, 0, inf],\n",
       " [0, inf, inf, 0, inf, 0, 0, inf, 0, 0, inf]]"
      ]
     },
     "execution_count": 27,
     "metadata": {},
     "output_type": "execute_result"
    }
   ],
   "source": [
    "for i in range(1, N+1):\n",
    "    a, b = AB[i-1]\n",
    "    for j in range(M+1):\n",
    "        if dp[i-1][j] < float('inf'):\n",
    "            dp[i][j] = 0\n",
    "        if j >= a:\n",
    "            if dp[i-1][j-a] < float('inf'):\n",
    "                dp[i][j] = min(dp[i][j], 1)\n",
    "            if dp[i][j-a] < b:\n",
    "                dp[i][j] = min(dp[i][j], dp[i][j-a] + 1)\n",
    "\n",
    "dp"
   ]
  },
  {
   "cell_type": "code",
   "execution_count": 28,
   "metadata": {},
   "outputs": [
    {
     "name": "stdout",
     "output_type": "stream",
     "text": [
      "No\n"
     ]
    }
   ],
   "source": [
    "if dp[N][M] == float('inf'):\n",
    "    print (\"No\")\n",
    "else:\n",
    "    print (\"Yes\")"
   ]
  },
  {
   "cell_type": "code",
   "execution_count": null,
   "metadata": {},
   "outputs": [],
   "source": []
  }
 ],
 "metadata": {
  "kernelspec": {
   "display_name": "Python 3",
   "language": "python",
   "name": "python3"
  },
  "language_info": {
   "codemirror_mode": {
    "name": "ipython",
    "version": 3
   },
   "file_extension": ".py",
   "mimetype": "text/x-python",
   "name": "python",
   "nbconvert_exporter": "python",
   "pygments_lexer": "ipython3",
   "version": "3.8.8"
  }
 },
 "nbformat": 4,
 "nbformat_minor": 4
}
