{
 "cells": [
  {
   "cell_type": "code",
   "execution_count": 1,
   "id": "b0e34820-7348-4247-98bb-ad358066fe68",
   "metadata": {},
   "outputs": [
    {
     "name": "stdin",
     "output_type": "stream",
     "text": [
      " 4 8\n",
      " 4 2\n",
      " 5 2\n",
      " 2 1\n",
      " 8 3\n"
     ]
    }
   ],
   "source": [
    "N, W = map(int, input().split())\n",
    "VW = [list(map(int, input().split())) for _ in range(N)]"
   ]
  },
  {
   "cell_type": "code",
   "execution_count": 2,
   "id": "e6c4aca3-6deb-4a6d-82a1-070bfb9e8c5b",
   "metadata": {},
   "outputs": [
    {
     "data": {
      "text/plain": [
       "[[-1, -1, -1, -1, -1, -1, -1, -1, -1],\n",
       " [-1, -1, -1, -1, -1, -1, -1, -1, -1],\n",
       " [-1, -1, -1, -1, -1, -1, -1, -1, -1],\n",
       " [-1, -1, -1, -1, -1, -1, -1, -1, -1],\n",
       " [-1, -1, -1, -1, -1, -1, -1, -1, -1]]"
      ]
     },
     "execution_count": 2,
     "metadata": {},
     "output_type": "execute_result"
    }
   ],
   "source": [
    "dp = [[-1] * (W+1) for _ in range(N+1)]\n",
    "dp"
   ]
  },
  {
   "cell_type": "code",
   "execution_count": 3,
   "id": "59c6b752-e247-446e-8a06-73535989b0db",
   "metadata": {},
   "outputs": [
    {
     "data": {
      "text/plain": [
       "[[0, -1, -1, -1, -1, -1, -1, -1, -1],\n",
       " [0, -1, -1, -1, -1, -1, -1, -1, -1],\n",
       " [0, -1, -1, -1, -1, -1, -1, -1, -1],\n",
       " [0, -1, -1, -1, -1, -1, -1, -1, -1],\n",
       " [0, -1, -1, -1, -1, -1, -1, -1, -1]]"
      ]
     },
     "execution_count": 3,
     "metadata": {},
     "output_type": "execute_result"
    }
   ],
   "source": [
    "for i in range(N+1):\n",
    "    dp[i][0] = 0\n",
    "dp"
   ]
  },
  {
   "cell_type": "code",
   "execution_count": 5,
   "id": "ebd4865a-5a38-4fd6-be31-736a0b385b6e",
   "metadata": {},
   "outputs": [],
   "source": [
    "for i in range(1, N+1):\n",
    "    for j in range(1, W+1):\n",
    "        if j >= VW[i-1][1]:\n",
    "            dp[i][j] = max(dp[i][j-VW[i-1][1]] + VW[i-1][0], dp[i-1][j])\n",
    "        else:\n",
    "            dp[i][j] = dp[i-1][j]"
   ]
  },
  {
   "cell_type": "code",
   "execution_count": 6,
   "id": "391cf015-a15a-4ec5-9916-f8a84ba3a3ff",
   "metadata": {},
   "outputs": [
    {
     "data": {
      "text/plain": [
       "[[0, -1, -1, -1, -1, -1, -1, -1, -1],\n",
       " [0, -1, 4, 3, 8, 7, 12, 11, 16],\n",
       " [0, -1, 5, 4, 10, 9, 15, 14, 20],\n",
       " [0, 2, 5, 7, 10, 12, 15, 17, 20],\n",
       " [0, 2, 5, 8, 10, 13, 16, 18, 21]]"
      ]
     },
     "execution_count": 6,
     "metadata": {},
     "output_type": "execute_result"
    }
   ],
   "source": [
    "dp"
   ]
  },
  {
   "cell_type": "code",
   "execution_count": 8,
   "id": "a6a22203-4b53-44b3-9123-615cbcf8e68d",
   "metadata": {},
   "outputs": [
    {
     "data": {
      "text/plain": [
       "21"
      ]
     },
     "execution_count": 8,
     "metadata": {},
     "output_type": "execute_result"
    }
   ],
   "source": [
    "dp[N][W]"
   ]
  },
  {
   "cell_type": "code",
   "execution_count": null,
   "id": "2b25f110-d1b8-45b8-b679-b8b20f819baa",
   "metadata": {},
   "outputs": [],
   "source": []
  }
 ],
 "metadata": {
  "kernelspec": {
   "display_name": "Python 3",
   "language": "python",
   "name": "python3"
  },
  "language_info": {
   "codemirror_mode": {
    "name": "ipython",
    "version": 3
   },
   "file_extension": ".py",
   "mimetype": "text/x-python",
   "name": "python",
   "nbconvert_exporter": "python",
   "pygments_lexer": "ipython3",
   "version": "3.8.8"
  }
 },
 "nbformat": 4,
 "nbformat_minor": 5
}
