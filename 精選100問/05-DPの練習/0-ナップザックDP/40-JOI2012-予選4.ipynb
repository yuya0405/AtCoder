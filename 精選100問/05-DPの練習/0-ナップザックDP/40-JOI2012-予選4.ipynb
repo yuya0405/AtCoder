{
 "cells": [
  {
   "cell_type": "code",
   "execution_count": 13,
   "id": "56c39d93-8a05-4fef-8fa7-ba9355a1a6f7",
   "metadata": {},
   "outputs": [
    {
     "name": "stdin",
     "output_type": "stream",
     "text": [
      " 5 3\n",
      " 3 1\n",
      " 1 1\n",
      " 4 2\n"
     ]
    }
   ],
   "source": [
    "N, K = map(int, input().split())\n",
    "AB = [list(map(int, input().split())) for _ in range(K)]"
   ]
  },
  {
   "cell_type": "code",
   "execution_count": 14,
   "id": "b35c6193-2d54-4cfd-b675-edb5b8075ce9",
   "metadata": {},
   "outputs": [],
   "source": [
    "MOD = 10**4"
   ]
  },
  {
   "cell_type": "code",
   "execution_count": 17,
   "id": "3d854439-fc06-4290-a9d2-353cf3a58b59",
   "metadata": {},
   "outputs": [
    {
     "data": {
      "text/plain": [
       "[1, 0, 1, 2, 0]"
      ]
     },
     "execution_count": 17,
     "metadata": {},
     "output_type": "execute_result"
    }
   ],
   "source": [
    "pastas = [0] * N\n",
    "for a, b in AB:\n",
    "    pastas[a-1] = b\n",
    "pastas"
   ]
  },
  {
   "cell_type": "code",
   "execution_count": 10,
   "id": "bec3df49-d9c3-4709-8bdb-6f2d25e8ed86",
   "metadata": {},
   "outputs": [
    {
     "name": "stdout",
     "output_type": "stream",
     "text": [
      "3\n"
     ]
    }
   ],
   "source": [
    "dp = [[[0]*4 for i in range(4)] for n in range(N+1)]\n",
    "dp[0][0][0] = 1\n",
    "for n in range(N):\n",
    "    for i in range(3):\n",
    "        for j in range(3):\n",
    "            for k in range(1,4):\n",
    "                if A[n]!=0 and A[n]!=k:\n",
    "                    continue\n",
    "                if k!=i or i!=j:\n",
    "                    dp[n+1][k][i] += dp[n][i][j]\n",
    "                    dp[n+1][k][i] %= MOD\n",
    "ans = 0\n",
    "for i in range(4):\n",
    "    for j in range(4):\n",
    "        ans += dp[-1][i][j]\n",
    "        ans %= MOD\n",
    "print (ans)"
   ]
  },
  {
   "cell_type": "code",
   "execution_count": null,
   "id": "cbf82e23-2258-4281-9195-de641462c610",
   "metadata": {},
   "outputs": [],
   "source": []
  }
 ],
 "metadata": {
  "kernelspec": {
   "display_name": "Python 3",
   "language": "python",
   "name": "python3"
  },
  "language_info": {
   "codemirror_mode": {
    "name": "ipython",
    "version": 3
   },
   "file_extension": ".py",
   "mimetype": "text/x-python",
   "name": "python",
   "nbconvert_exporter": "python",
   "pygments_lexer": "ipython3",
   "version": "3.8.8"
  }
 },
 "nbformat": 4,
 "nbformat_minor": 5
}
