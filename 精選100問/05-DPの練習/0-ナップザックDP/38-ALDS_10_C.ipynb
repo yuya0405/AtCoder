{
 "cells": [
  {
   "cell_type": "code",
   "execution_count": 2,
   "id": "3cad1aa2-8971-4d81-a722-f2c5cdbf4d26",
   "metadata": {},
   "outputs": [],
   "source": [
    "X = 'myabcuuu'\n",
    "Y = 'abcjju'"
   ]
  },
  {
   "cell_type": "code",
   "execution_count": 3,
   "id": "8ed258aa-828d-425c-8f5f-511f8a480293",
   "metadata": {},
   "outputs": [
    {
     "data": {
      "text/plain": [
       "[[0, 0, 0, 0, 0, 0, 0, 0, 0],\n",
       " [0, 0, 0, 0, 0, 0, 0, 0, 0],\n",
       " [0, 0, 0, 0, 0, 0, 0, 0, 0],\n",
       " [0, 0, 0, 0, 0, 0, 0, 0, 0],\n",
       " [0, 0, 0, 0, 0, 0, 0, 0, 0],\n",
       " [0, 0, 0, 0, 0, 0, 0, 0, 0],\n",
       " [0, 0, 0, 0, 0, 0, 0, 0, 0]]"
      ]
     },
     "execution_count": 3,
     "metadata": {},
     "output_type": "execute_result"
    }
   ],
   "source": [
    "dp = [[0] * (len(X)+1) for j in range(len(Y)+1)] #0で初期化\n",
    "dp"
   ]
  },
  {
   "cell_type": "code",
   "execution_count": 5,
   "id": "4516f5c2-234c-4ac9-b26e-a23c3b8f63a3",
   "metadata": {},
   "outputs": [
    {
     "data": {
      "text/plain": [
       "[[0, 0, 0, 0, 0, 0, 0, 0, 0],\n",
       " [0, 0, 0, 1, 1, 1, 1, 1, 1],\n",
       " [0, 0, 0, 1, 2, 2, 2, 2, 2],\n",
       " [0, 0, 0, 1, 2, 3, 3, 3, 3],\n",
       " [0, 0, 0, 1, 2, 3, 3, 3, 3],\n",
       " [0, 0, 0, 1, 2, 3, 3, 3, 3],\n",
       " [0, 0, 0, 1, 2, 3, 4, 4, 4]]"
      ]
     },
     "execution_count": 5,
     "metadata": {},
     "output_type": "execute_result"
    }
   ],
   "source": [
    "for i in range(1, len(Y)+1):\n",
    "    for j in range(1, len(X)+1):\n",
    "        if X[j-1] == Y[i-1]:\n",
    "            dp[i][j] = dp[i-1][j-1] + 1\n",
    "        else:\n",
    "            dp[i][j] = max(dp[i][j-1], dp[i-1][j])\n",
    "dp"
   ]
  },
  {
   "cell_type": "code",
   "execution_count": null,
   "id": "30764f1f-661d-4834-b65d-b66023accf2b",
   "metadata": {},
   "outputs": [],
   "source": []
  }
 ],
 "metadata": {
  "kernelspec": {
   "display_name": "Python 3",
   "language": "python",
   "name": "python3"
  },
  "language_info": {
   "codemirror_mode": {
    "name": "ipython",
    "version": 3
   },
   "file_extension": ".py",
   "mimetype": "text/x-python",
   "name": "python",
   "nbconvert_exporter": "python",
   "pygments_lexer": "ipython3",
   "version": "3.8.8"
  }
 },
 "nbformat": 4,
 "nbformat_minor": 5
}
