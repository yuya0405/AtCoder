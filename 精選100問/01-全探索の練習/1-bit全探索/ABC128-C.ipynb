{
 "cells": [
  {
   "cell_type": "code",
   "execution_count": 5,
   "metadata": {},
   "outputs": [
    {
     "name": "stdin",
     "output_type": "stream",
     "text": [
      " 5 2\n",
      " 3 1 2 5\n",
      " 2 2 3\n",
      " 1 0\n"
     ]
    },
    {
     "name": "stdout",
     "output_type": "stream",
     "text": [
      "8\n"
     ]
    }
   ],
   "source": [
    "N, M = map(int, input().split())\n",
    "KS = [list(map(int, input().split())) for i in range(M)]\n",
    "P = list(map(int, input().split()))\n",
    "\n",
    "from itertools import product\n",
    "\n",
    "ans = 0\n",
    "for bit in product([0,1], repeat=N):\n",
    "    light_on_num = 0\n",
    "    for i in range(M):\n",
    "        tmp = 0\n",
    "        for j in range(1, KS[i][0]+1):\n",
    "            if bit[KS[i][j]-1] == 1:\n",
    "                tmp += 1\n",
    "        if tmp % 2 == P[i]:\n",
    "            light_on_num += 1\n",
    "    if light_on_num == M:\n",
    "        ans += 1\n",
    "print (ans)"
   ]
  },
  {
   "cell_type": "code",
   "execution_count": null,
   "metadata": {},
   "outputs": [],
   "source": []
  }
 ],
 "metadata": {
  "kernelspec": {
   "display_name": "Python 3",
   "language": "python",
   "name": "python3"
  },
  "language_info": {
   "codemirror_mode": {
    "name": "ipython",
    "version": 3
   },
   "file_extension": ".py",
   "mimetype": "text/x-python",
   "name": "python",
   "nbconvert_exporter": "python",
   "pygments_lexer": "ipython3",
   "version": "3.8.5"
  }
 },
 "nbformat": 4,
 "nbformat_minor": 4
}
