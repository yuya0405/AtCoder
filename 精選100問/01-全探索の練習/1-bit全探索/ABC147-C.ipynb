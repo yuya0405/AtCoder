{
 "cells": [
  {
   "cell_type": "code",
   "execution_count": 27,
   "metadata": {},
   "outputs": [],
   "source": [
    "N = int(input())\n",
    "A = []\n",
    "shougen = []\n",
    "for i in range(N):\n",
    "    tmp = []\n",
    "    A.append(int(input()))\n",
    "    for j in range(A[i]):\n",
    "        tmp.append(list(map(int, input().split())))\n",
    "    shougen.append(tmp)\n",
    "\n",
    "from itertools import product\n",
    "\n",
    "ans = 0\n",
    "for bit in product([0,1], repeat=N):\n",
    "    flag = True\n",
    "    for i, b in enumerate(bit):\n",
    "        if b == 1:\n",
    "            for s in shougen[i]:\n",
    "                if bit[s[0]-1] != s[1]:\n",
    "                    flag = False\n",
    "    if flag == True:\n",
    "        ans = bit.count(1)\n",
    "print (ans)"
   ]
  },
  {
   "cell_type": "code",
   "execution_count": null,
   "metadata": {},
   "outputs": [],
   "source": []
  }
 ],
 "metadata": {
  "kernelspec": {
   "display_name": "Python 3",
   "language": "python",
   "name": "python3"
  },
  "language_info": {
   "codemirror_mode": {
    "name": "ipython",
    "version": 3
   },
   "file_extension": ".py",
   "mimetype": "text/x-python",
   "name": "python",
   "nbconvert_exporter": "python",
   "pygments_lexer": "ipython3",
   "version": "3.8.5"
  }
 },
 "nbformat": 4,
 "nbformat_minor": 4
}
