{
 "cells": [
  {
   "cell_type": "code",
   "execution_count": 2,
   "metadata": {},
   "outputs": [
    {
     "name": "stdout",
     "output_type": "stream",
     "text": [
      "3\n",
      "2\n",
      "2 1\n",
      "3 0\n",
      "2\n",
      "3 1\n",
      "1 0\n",
      "2\n",
      "1 1\n",
      "2 0\n",
      "3\n",
      "[2, 2, 2]\n",
      "[[2, 3], [3, 1], [1, 2]]\n",
      "[[1, 0], [1, 0], [1, 0]]\n"
     ]
    }
   ],
   "source": [
    "n = int(input())\n",
    "a = []\n",
    "x = [[] for i in range(n)]\n",
    "y = [[] for i in range(n)]\n",
    "for i in range(n):\n",
    "    a.append(int(input()))\n",
    "    for j in range(a[i]):\n",
    "        xx, yy = (int(i) for i in input().split())\n",
    "        x[i].append(xx)\n",
    "        y[i].append(yy)"
   ]
  },
  {
   "cell_type": "code",
   "execution_count": 6,
   "metadata": {},
   "outputs": [
    {
     "name": "stdout",
     "output_type": "stream",
     "text": [
      "3\n",
      "2\n",
      "2 1\n",
      "3 0\n",
      "2\n",
      "3 1\n",
      "1 0\n",
      "2\n",
      "1 1\n",
      "2 0\n",
      "[[[1, 1], [2, 0]], [[2, 1], [0, 0]], [[0, 1], [1, 0]]]\n"
     ]
    }
   ],
   "source": [
    "num = int(input())\n",
    "coms = []\n",
    "\n",
    "ans_num = 0\n",
    "\n",
    "for com in range(num):\n",
    "    b = []\n",
    "    n = int(input())\n",
    "    for _ in range(n):\n",
    "        xi,yi = [int(j) for j in input().split()]\n",
    "        b.append([int(xi) - 1, int(yi)])\n",
    "    coms.append(b)\n",
    "print(coms)"
   ]
  },
  {
   "cell_type": "code",
   "execution_count": 7,
   "metadata": {},
   "outputs": [
    {
     "name": "stdout",
     "output_type": "stream",
     "text": [
      "0\n"
     ]
    }
   ],
   "source": [
    "for i in range(2 ** num):\n",
    "    selects = []\n",
    "    \n",
    "    #ans_arrayに証言者全員分のindexを用意する\n",
    "    ans_array = [0 for _ in range(num)]\n",
    "    indexes = []\n",
    "    flag = True\n",
    "    \n",
    "    #組み合わせの作成\n",
    "    for j in range(num):\n",
    "        if((i >> j) & 1):\n",
    "            #selectsに正直者だと仮定した人の証言を入れる\n",
    "            selects.append(coms[j])\n",
    "\n",
    "            #正直者だと仮定された人の番号を入れる\n",
    "            indexes.append(j)\n",
    "\n",
    "            #正直者かそうでないかを表したindexを用意する\n",
    "            #正直者は1で嘘つきの場合は0\n",
    "            ans_array[j] = 1\n",
    "            \n",
    "    for index in indexes:\n",
    "        for com in coms[index]:\n",
    "\n",
    "            #証言の値とindexの値を比較していく。\n",
    "            if ans_array[com[0]] != com[1]:\n",
    "                flag = False\n",
    "                break\n",
    "\n",
    "    if flag and (len(indexes) >= ans_num):\n",
    "        ans_num = len(indexes)\n",
    "\n",
    "print(ans_num)"
   ]
  },
  {
   "cell_type": "code",
   "execution_count": null,
   "metadata": {},
   "outputs": [],
   "source": []
  }
 ],
 "metadata": {
  "kernelspec": {
   "display_name": "Python 3",
   "language": "python",
   "name": "python3"
  },
  "language_info": {
   "codemirror_mode": {
    "name": "ipython",
    "version": 3
   },
   "file_extension": ".py",
   "mimetype": "text/x-python",
   "name": "python",
   "nbconvert_exporter": "python",
   "pygments_lexer": "ipython3",
   "version": "3.8.5"
  }
 },
 "nbformat": 4,
 "nbformat_minor": 4
}
