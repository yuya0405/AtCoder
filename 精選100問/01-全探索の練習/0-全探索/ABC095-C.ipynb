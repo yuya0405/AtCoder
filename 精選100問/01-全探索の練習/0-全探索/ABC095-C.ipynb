{
 "cells": [
  {
   "cell_type": "code",
   "execution_count": 14,
   "metadata": {},
   "outputs": [
    {
     "name": "stdout",
     "output_type": "stream",
     "text": [
      "1500 2000 500 90000 100000\n",
      "100000000\n"
     ]
    }
   ],
   "source": [
    "A, B, C, X, Y = map(int, input().split())\n",
    "\n",
    "# その1\n",
    "maximun = max(X, Y)\n",
    "cost = C*2*maximun\n",
    "\n",
    "# その2\n",
    "minimum = min(X, Y)\n",
    "for i in range(minimum+1):\n",
    "    cost_tmp = A*(X-i)+B*(Y-i)+C*2*i\n",
    "    if cost_tmp < cost:\n",
    "        cost = cost_tmp\n",
    "print(cost)"
   ]
  }
 ],
 "metadata": {
  "kernelspec": {
   "display_name": "Python 3",
   "language": "python",
   "name": "python3"
  },
  "language_info": {
   "codemirror_mode": {
    "name": "ipython",
    "version": 3
   },
   "file_extension": ".py",
   "mimetype": "text/x-python",
   "name": "python",
   "nbconvert_exporter": "python",
   "pygments_lexer": "ipython3",
   "version": "3.8.5"
  }
 },
 "nbformat": 4,
 "nbformat_minor": 4
}
