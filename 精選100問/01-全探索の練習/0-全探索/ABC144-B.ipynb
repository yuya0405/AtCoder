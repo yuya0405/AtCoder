{
 "cells": [
  {
   "cell_type": "code",
   "execution_count": 8,
   "metadata": {},
   "outputs": [
    {
     "name": "stdout",
     "output_type": "stream",
     "text": [
      "14\n",
      "Yes\n",
      "No\n"
     ]
    }
   ],
   "source": [
    "# -*- coding: utf-8 -*-\n",
    "N = int(input())\n",
    "flag = 0\n",
    "\n",
    "for i in range(1,10):\n",
    "    for j in range(1,10):\n",
    "        if i*j == N:\n",
    "            flag = 1\n",
    "            print (\"Yes\")\n",
    "            break\n",
    "    if flag == 1:\n",
    "        break\n",
    "print (\"No\")"
   ]
  },
  {
   "cell_type": "code",
   "execution_count": null,
   "metadata": {},
   "outputs": [],
   "source": []
  }
 ],
 "metadata": {
  "kernelspec": {
   "display_name": "Python 3",
   "language": "python",
   "name": "python3"
  },
  "language_info": {
   "codemirror_mode": {
    "name": "ipython",
    "version": 3
   },
   "file_extension": ".py",
   "mimetype": "text/x-python",
   "name": "python",
   "nbconvert_exporter": "python",
   "pygments_lexer": "ipython3",
   "version": "3.8.5"
  }
 },
 "nbformat": 4,
 "nbformat_minor": 4
}
