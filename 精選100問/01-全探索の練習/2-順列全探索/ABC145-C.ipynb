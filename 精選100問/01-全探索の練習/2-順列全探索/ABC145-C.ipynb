{
 "cells": [
  {
   "cell_type": "code",
   "execution_count": 15,
   "metadata": {},
   "outputs": [
    {
     "name": "stdout",
     "output_type": "stream",
     "text": [
      "3\n",
      "0 0\n",
      "1 0\n",
      "0 1\n",
      "(0, 1, 2)\n",
      "(0, 2, 1)\n",
      "(1, 0, 2)\n",
      "(1, 2, 0)\n",
      "(2, 0, 1)\n",
      "(2, 1, 0)\n",
      "2.276142374915397\n"
     ]
    }
   ],
   "source": [
    "import math\n",
    "from itertools import permutations\n",
    "\n",
    "N = int(input())\n",
    "X = []\n",
    "Y = []\n",
    "for i in range(N):\n",
    "    xx, yy = map(int, input().split())\n",
    "    X.append(xx)\n",
    "    Y.append(yy)\n",
    "\n",
    "list = [i for i in range(N)]\n",
    "\n",
    "sum = 0.0\n",
    "for num, i in enumerate(permutations(list)):\n",
    "    for j in range(N-1):\n",
    "        sum += math.sqrt((X[i[j+1]] - X[i[j]])**2 + (Y[i[j+1]] - Y[i[j]])**2)\n",
    "print(sum/(num+1))"
   ]
  },
  {
   "cell_type": "code",
   "execution_count": null,
   "metadata": {},
   "outputs": [],
   "source": []
  }
 ],
 "metadata": {
  "kernelspec": {
   "display_name": "Python 3",
   "language": "python",
   "name": "python3"
  },
  "language_info": {
   "codemirror_mode": {
    "name": "ipython",
    "version": 3
   },
   "file_extension": ".py",
   "mimetype": "text/x-python",
   "name": "python",
   "nbconvert_exporter": "python",
   "pygments_lexer": "ipython3",
   "version": "3.8.5"
  }
 },
 "nbformat": 4,
 "nbformat_minor": 4
}
