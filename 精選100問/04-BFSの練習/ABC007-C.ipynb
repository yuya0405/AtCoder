{
 "cells": [
  {
   "cell_type": "code",
   "execution_count": 2,
   "id": "332c4a9a-fff7-48b7-b7b8-361f75695264",
   "metadata": {},
   "outputs": [
    {
     "name": "stdin",
     "output_type": "stream",
     "text": [
      " 7 8\n",
      " 2 2\n",
      " 4 5\n",
      " ########\n",
      " #......#\n",
      " #.######\n",
      " #..#...#\n",
      " #..##..#\n",
      " ##.....#\n",
      " ########\n"
     ]
    },
    {
     "name": "stdout",
     "output_type": "stream",
     "text": [
      "7\n"
     ]
    }
   ],
   "source": [
    "from queue import Queue\n",
    "\n",
    "# 四方向への移動を表すベクトル\n",
    "# 0: 下、1: 右、2: 上、3: 左\n",
    "dxs = [1, 0, -1, 0]\n",
    "dys = [0, 1, 0, -1]\n",
    "\n",
    "# 入力\n",
    "H, W = map(int, input().split())\n",
    "X0, Y0 = map(int, input().split())\n",
    "X1, Y1 = map(int, input().split())\n",
    "S = [input() for i in range(H)]\n",
    "\n",
    "# 各マス (x, y) が何手目に探索されたか\n",
    "# -1 は「まだ探索されていない」ことを表す\n",
    "dist = [[-1] * W for i in range(H)]\n",
    "\n",
    "# todo リストを表すキュー\n",
    "que = Queue()\n",
    "\n",
    "# マス (X0, Y0) を始点とする\n",
    "dist[X0][Y0] = 0\n",
    "que.put((X0, Y0))\n",
    "\n",
    "# キューが空になるまで探索する\n",
    "while not que.empty():\n",
    "    # キューから頂点を取り出す\n",
    "    x, y = que.get()\n",
    "\n",
    "    # マス (x, y) から 1 手で行けるマスを順に探索\n",
    "    for dx, dy in zip(dxs, dys):\n",
    "        # 隣接マス\n",
    "        x2, y2 = x + dx, y + dy\n",
    "\n",
    "        # マス (x2, y2) が盤面外である場合、黒マスである場合はスキップ\n",
    "        if x2 < 0 or x2 >= H or y2 < 0 or y2 >= W or S[x2][y2] == '#':\n",
    "            continue\n",
    "        \n",
    "        # マス (x2, y2) が探索済みであれば何もしない\n",
    "        if dist[x2][y2] != -1:\n",
    "            continue\n",
    "\n",
    "        # マス (x2, y2) を探索する\n",
    "        dist[x2][y2] = dist[x][y] + 1\n",
    "        que.put((x2, y2))\n",
    "        \n",
    "# マス (X1, Y1) の値を答える\n",
    "print(dist[X1][Y1])"
   ]
  },
  {
   "cell_type": "code",
   "execution_count": null,
   "id": "251e74c0-82bc-40e0-9f50-2bb736abe7ab",
   "metadata": {},
   "outputs": [],
   "source": []
  }
 ],
 "metadata": {
  "kernelspec": {
   "display_name": "Python 3",
   "language": "python",
   "name": "python3"
  },
  "language_info": {
   "codemirror_mode": {
    "name": "ipython",
    "version": 3
   },
   "file_extension": ".py",
   "mimetype": "text/x-python",
   "name": "python",
   "nbconvert_exporter": "python",
   "pygments_lexer": "ipython3",
   "version": "3.8.8"
  }
 },
 "nbformat": 4,
 "nbformat_minor": 5
}
