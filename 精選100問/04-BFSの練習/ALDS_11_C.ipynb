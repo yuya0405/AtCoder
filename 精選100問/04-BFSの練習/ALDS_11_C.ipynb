{
 "cells": [
  {
   "cell_type": "code",
   "execution_count": 5,
   "id": "df2543f9-d3df-424d-8a4b-3c05b1679dfc",
   "metadata": {},
   "outputs": [
    {
     "name": "stdin",
     "output_type": "stream",
     "text": [
      " 4\n",
      " 1 2 2 4\n",
      " 2 1 4\n",
      " 3 0\n",
      " 4 1 3\n"
     ]
    }
   ],
   "source": [
    "N = int(input())\n",
    "g = [[] for _ in range(N+1)]\n",
    "\n",
    "for _ in range(N):\n",
    "    i, num, *nodes = map(int, input().split())\n",
    "    g[i] = nodes\n",
    "visited = [-1] * (N+1)"
   ]
  },
  {
   "cell_type": "code",
   "execution_count": 10,
   "id": "2dd3058e-7a27-4d82-9526-cfcc298a86d3",
   "metadata": {},
   "outputs": [
    {
     "name": "stdout",
     "output_type": "stream",
     "text": [
      "1 0\n",
      "2 1\n",
      "3 2\n",
      "4 1\n"
     ]
    }
   ],
   "source": [
    "from collections import deque\n",
    "\n",
    "q = deque()\n",
    "q.append(1)\n",
    "visited[1] = 0\n",
    "\n",
    "while q:\n",
    "    node = q.popleft()\n",
    "\n",
    "    for next in g[node]:\n",
    "        if visited[next] != -1:\n",
    "            continue\n",
    "        q.append(next)\n",
    "        visited[next] = visited[node] + 1\n",
    "\n",
    "for i, num in enumerate(visited[1:]):\n",
    "    print(i+1, num)"
   ]
  },
  {
   "cell_type": "code",
   "execution_count": null,
   "id": "ecadcf91-fdb0-4392-a16e-85591b2684cd",
   "metadata": {},
   "outputs": [],
   "source": []
  }
 ],
 "metadata": {
  "kernelspec": {
   "display_name": "Python 3",
   "language": "python",
   "name": "python3"
  },
  "language_info": {
   "codemirror_mode": {
    "name": "ipython",
    "version": 3
   },
   "file_extension": ".py",
   "mimetype": "text/x-python",
   "name": "python",
   "nbconvert_exporter": "python",
   "pygments_lexer": "ipython3",
   "version": "3.8.8"
  }
 },
 "nbformat": 4,
 "nbformat_minor": 5
}
