{
 "cells": [
  {
   "cell_type": "code",
   "execution_count": 5,
   "metadata": {},
   "outputs": [],
   "source": [
    "N = int(input())\n",
    "H = []\n",
    "S = []\n",
    "for _ in range(N):\n",
    "    i, j = map(int, input().split())\n",
    "    H.append(i)\n",
    "    S.append(j)\n",
    "\n",
    "def is_ok(p):\n",
    "    t = []\n",
    "    for i in range(N):\n",
    "        t.append((p-H[i])/S[i])\n",
    "    t.sort()\n",
    "    \n",
    "    for i in range(N):\n",
    "        if t[i] < i:\n",
    "            return False\n",
    "    return True\n",
    "\n",
    "def meguru_bisect(ng, ok):\n",
    "    while(abs(ok-ng) > 1):\n",
    "        mid = (ok+ng)//2\n",
    "        if is_ok(mid):\n",
    "            ok = mid\n",
    "        else:\n",
    "            ng = mid\n",
    "    return (ok)\n",
    "\n",
    "print (meguru_bisect(0, 10**14))"
   ]
  },
  {
   "cell_type": "code",
   "execution_count": null,
   "metadata": {},
   "outputs": [],
   "source": []
  }
 ],
 "metadata": {
  "kernelspec": {
   "display_name": "Python 3",
   "language": "python",
   "name": "python3"
  },
  "language_info": {
   "codemirror_mode": {
    "name": "ipython",
    "version": 3
   },
   "file_extension": ".py",
   "mimetype": "text/x-python",
   "name": "python",
   "nbconvert_exporter": "python",
   "pygments_lexer": "ipython3",
   "version": "3.8.5"
  }
 },
 "nbformat": 4,
 "nbformat_minor": 4
}
