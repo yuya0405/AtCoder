{
 "cells": [
  {
   "cell_type": "code",
   "execution_count": 13,
   "metadata": {},
   "outputs": [
    {
     "name": "stdin",
     "output_type": "stream",
     "text": [
      " 2 1 100000000000\n"
     ]
    },
    {
     "name": "stdout",
     "output_type": "stream",
     "text": [
      "1000000000\n"
     ]
    }
   ],
   "source": [
    "A, B, X = map(int, input().split())\n",
    "\n",
    "def is_ok(N):\n",
    "    if A*N+B*len(str(N)) <= X:\n",
    "        return True\n",
    "    else:\n",
    "        return False\n",
    "\n",
    "def meguru_bisect(ng, ok):\n",
    "    while(abs(ok-ng)>1):\n",
    "        mid = (ok+ng)//2\n",
    "        if is_ok(mid):\n",
    "            ok = mid\n",
    "        else:\n",
    "            ng = mid\n",
    "    return (ok)\n",
    "\n",
    "print (meguru_bisect(10**9+1, 0))"
   ]
  },
  {
   "cell_type": "code",
   "execution_count": null,
   "metadata": {},
   "outputs": [],
   "source": []
  }
 ],
 "metadata": {
  "kernelspec": {
   "display_name": "Python 3",
   "language": "python",
   "name": "python3"
  },
  "language_info": {
   "codemirror_mode": {
    "name": "ipython",
    "version": 3
   },
   "file_extension": ".py",
   "mimetype": "text/x-python",
   "name": "python",
   "nbconvert_exporter": "python",
   "pygments_lexer": "ipython3",
   "version": "3.8.5"
  }
 },
 "nbformat": 4,
 "nbformat_minor": 4
}
