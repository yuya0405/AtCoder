{
 "cells": [
  {
   "cell_type": "code",
   "execution_count": 22,
   "metadata": {},
   "outputs": [
    {
     "name": "stdin",
     "output_type": "stream",
     "text": [
      " 20\n",
      " 4\n",
      " 4\n",
      " 12\n",
      " 8\n",
      " 16\n",
      " 7\n",
      " 7\n",
      " 11\n",
      " 8\n"
     ]
    },
    {
     "name": "stdout",
     "output_type": "stream",
     "text": [
      "3\n"
     ]
    }
   ],
   "source": [
    "d = int(input())\n",
    "n = int(input())\n",
    "m = int(input())\n",
    "ds = [int(input()) for _ in range(2, n+1)]\n",
    "ks = [int(input()) for _ in range(m)]\n",
    "\n",
    "ds.append(0)\n",
    "ds.append(d)\n",
    "ds.sort()\n",
    "\n",
    "import bisect\n",
    "ans = 0\n",
    "for k in ks:\n",
    "    i = bisect.bisect(ds, k)\n",
    "    ans += min(ds[i]-k, k-ds[i-1])\n",
    "\n",
    "print (ans)"
   ]
  },
  {
   "cell_type": "code",
   "execution_count": null,
   "metadata": {},
   "outputs": [],
   "source": []
  }
 ],
 "metadata": {
  "kernelspec": {
   "display_name": "Python 3",
   "language": "python",
   "name": "python3"
  },
  "language_info": {
   "codemirror_mode": {
    "name": "ipython",
    "version": 3
   },
   "file_extension": ".py",
   "mimetype": "text/x-python",
   "name": "python",
   "nbconvert_exporter": "python",
   "pygments_lexer": "ipython3",
   "version": "3.8.5"
  }
 },
 "nbformat": 4,
 "nbformat_minor": 4
}
