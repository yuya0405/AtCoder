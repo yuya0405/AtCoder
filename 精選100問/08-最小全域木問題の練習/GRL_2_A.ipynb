{
 "cells": [
  {
   "cell_type": "code",
   "execution_count": 1,
   "id": "00ad08f6-49e8-4c59-9eb4-7984af7ebfcd",
   "metadata": {},
   "outputs": [
    {
     "name": "stdin",
     "output_type": "stream",
     "text": [
      " 6 9\n",
      " 0 1 1\n",
      " 0 2 3\n",
      " 1 2 1\n",
      " 1 3 7\n",
      " 2 4 1\n",
      " 1 4 3\n",
      " 3 4 1\n",
      " 3 5 1\n",
      " 4 5 6\n"
     ]
    }
   ],
   "source": [
    "V, E = map(int, input().split())\n",
    "STW = [list(map(int, input().split())) for _ in range(E)]"
   ]
  },
  {
   "cell_type": "code",
   "execution_count": 8,
   "id": "ea17aedb-2ae9-4005-90fa-4db2ba625e59",
   "metadata": {},
   "outputs": [],
   "source": [
    "# プリム法\n",
    "\n",
    "from heapq import heappush, heappop\n",
    "\n",
    "def prim():\n",
    "    # プリム法\n",
    "    # 頂点がマークされているか確認する配列\n",
    "    marked = [False for _ in range(V)]\n",
    "\n",
    "    # マークされている頂点数を数える\n",
    "    marked_cnt = 0\n",
    "\n",
    "    # はじめに0頂点をマーク\n",
    "    marked[0] = True\n",
    "    marked_cnt += 1\n",
    "\n",
    "    # heap\n",
    "    q = []\n",
    "\n",
    "    # 頂点0に隣接する辺を保存\n",
    "    for j, c in G[0]:\n",
    "        heappush(q, (c, j))\n",
    "\n",
    "    total = 0\n",
    "\n",
    "    # すべての頂点をマークするまでwhileループ\n",
    "    while marked_cnt < V:\n",
    "        # 最小の重みの辺をheapで取り出す\n",
    "        c, i = heappop(q)\n",
    "\n",
    "        # マークされているならスキップ\n",
    "        if marked[i]:\n",
    "            continue\n",
    "\n",
    "        # 頂点をマーク\n",
    "        marked[i] = True\n",
    "        marked_cnt += 1\n",
    "\n",
    "        total += c\n",
    "\n",
    "        # 頂点iに隣接する辺を保存\n",
    "        for j, c in G[i]:\n",
    "            # マークされていればスキップ\n",
    "            if marked[j]:\n",
    "                continue\n",
    "\n",
    "            heappush(q, (c, j))\n",
    "    return total"
   ]
  },
  {
   "cell_type": "code",
   "execution_count": 13,
   "id": "d4a80b4a-5038-44a3-916d-7d1f38aa3060",
   "metadata": {},
   "outputs": [
    {
     "name": "stdout",
     "output_type": "stream",
     "text": [
      "5\n"
     ]
    }
   ],
   "source": [
    "G = [[] for _ in range(V)]\n",
    "for s, t, w in STW:\n",
    "    G[s].append((t, w)) \n",
    "    G[t].append((s, w))\n",
    "\n",
    "total = prim()\n",
    "print (total)"
   ]
  },
  {
   "cell_type": "code",
   "execution_count": 11,
   "id": "0087ca29-1f23-47dd-860b-013d966e79bd",
   "metadata": {},
   "outputs": [],
   "source": [
    "# クラスカル法\n",
    "\n",
    "from collections import defaultdict\n",
    "\n",
    "class UnionFind():\n",
    "    def __init__(self, n):\n",
    "        self.n = n\n",
    "        self.parents = [-1] * n\n",
    "\n",
    "    def find(self, x):\n",
    "        if self.parents[x] < 0:\n",
    "            return x\n",
    "        else:\n",
    "            self.parents[x] = self.find(self.parents[x])\n",
    "            return self.parents[x]\n",
    "\n",
    "    def union(self, x, y):\n",
    "        x = self.find(x)\n",
    "        y = self.find(y)\n",
    "\n",
    "        if x == y:\n",
    "            return\n",
    "\n",
    "        if self.parents[x] > self.parents[y]:\n",
    "            x, y = y, x\n",
    "\n",
    "        self.parents[x] += self.parents[y]\n",
    "        self.parents[y] = x\n",
    "\n",
    "    def size(self, x):\n",
    "        return -self.parents[self.find(x)]\n",
    "\n",
    "    def same(self, x, y):\n",
    "        return self.find(x) == self.find(y)\n",
    "\n",
    "    def members(self, x):\n",
    "        root = self.find(x)\n",
    "        return [i for i in range(self.n) if self.find(i) == root]\n",
    "\n",
    "    def roots(self):\n",
    "        return [i for i, x in enumerate(self.parents) if x < 0]\n",
    "\n",
    "    def group_count(self):\n",
    "        return len(self.roots())\n",
    "\n",
    "    def all_group_members(self):\n",
    "        group_members = defaultdict(list)\n",
    "        for member in range(self.n):\n",
    "            group_members[self.find(member)].append(member)\n",
    "        return group_members\n",
    "\n",
    "    def __str__(self):\n",
    "        return '\\n'.join(f'{r}: {m}' for r, m in self.all_group_members().items())"
   ]
  },
  {
   "cell_type": "code",
   "execution_count": 18,
   "id": "314493dc-e84b-47ea-8eb3-5f4c8394c807",
   "metadata": {},
   "outputs": [],
   "source": [
    "def kruskal():\n",
    "    uf = UnionFind(V)\n",
    "    \n",
    "    edges = []\n",
    "    for s, t, w in STW:\n",
    "        edges.append((w, s, t))\n",
    "\n",
    "    edges.sort()\n",
    "    \n",
    "    cost = 0\n",
    "    \n",
    "    for edge in edges:\n",
    "        w, s, t = edge\n",
    "        if not uf.same(s, t):\n",
    "            cost += w # 重みを足し\n",
    "            uf.union(s, t) # 頂点同士をつなげる\n",
    "    \n",
    "    return cost"
   ]
  },
  {
   "cell_type": "code",
   "execution_count": 20,
   "id": "e883664a-036b-46c0-a15d-62082297f6f8",
   "metadata": {},
   "outputs": [
    {
     "name": "stdout",
     "output_type": "stream",
     "text": [
      "5\n"
     ]
    }
   ],
   "source": [
    "ans = kruskal()\n",
    "print (ans)"
   ]
  },
  {
   "cell_type": "code",
   "execution_count": null,
   "id": "6ade136e-f4a3-4ed7-a47c-1ab633b6d5c7",
   "metadata": {},
   "outputs": [],
   "source": []
  }
 ],
 "metadata": {
  "kernelspec": {
   "display_name": "Python 3",
   "language": "python",
   "name": "python3"
  },
  "language_info": {
   "codemirror_mode": {
    "name": "ipython",
    "version": 3
   },
   "file_extension": ".py",
   "mimetype": "text/x-python",
   "name": "python",
   "nbconvert_exporter": "python",
   "pygments_lexer": "ipython3",
   "version": "3.8.8"
  }
 },
 "nbformat": 4,
 "nbformat_minor": 5
}
