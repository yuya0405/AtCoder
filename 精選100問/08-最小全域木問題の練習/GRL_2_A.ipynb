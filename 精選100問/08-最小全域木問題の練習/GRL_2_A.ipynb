{
 "cells": [
  {
   "cell_type": "code",
   "execution_count": 2,
   "id": "00ad08f6-49e8-4c59-9eb4-7984af7ebfcd",
   "metadata": {},
   "outputs": [
    {
     "name": "stdin",
     "output_type": "stream",
     "text": [
      " 6 9\n",
      " 0 1 1\n",
      " 0 2 3\n",
      " 1 2 1\n",
      " 1 3 7\n",
      " 2 4 1\n",
      " 1 4 3\n",
      " 3 4 1\n",
      " 3 5 1\n",
      " 4 5 6\n"
     ]
    }
   ],
   "source": [
    "V, E = map(int, input().split())\n",
    "STW = [list(map(int, input().split())) for _ in range(E)]"
   ]
  },
  {
   "cell_type": "code",
   "execution_count": null,
   "id": "ea17aedb-2ae9-4005-90fa-4db2ba625e59",
   "metadata": {},
   "outputs": [],
   "source": [
    "# プリム法\n",
    "\n"
   ]
  },
  {
   "cell_type": "code",
   "execution_count": null,
   "id": "25a50ec8-a7d3-409c-baa5-d3420018d96d",
   "metadata": {},
   "outputs": [],
   "source": [
    "# クラスカル法"
   ]
  }
 ],
 "metadata": {
  "kernelspec": {
   "display_name": "Python 3",
   "language": "python",
   "name": "python3"
  },
  "language_info": {
   "codemirror_mode": {
    "name": "ipython",
    "version": 3
   },
   "file_extension": ".py",
   "mimetype": "text/x-python",
   "name": "python",
   "nbconvert_exporter": "python",
   "pygments_lexer": "ipython3",
   "version": "3.8.8"
  }
 },
 "nbformat": 4,
 "nbformat_minor": 5
}
