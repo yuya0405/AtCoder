{
 "cells": [
  {
   "cell_type": "code",
   "execution_count": 17,
   "id": "00ad08f6-49e8-4c59-9eb4-7984af7ebfcd",
   "metadata": {},
   "outputs": [
    {
     "name": "stdin",
     "output_type": "stream",
     "text": [
      " 6 9\n",
      " 0 1 1\n",
      " 0 2 3\n",
      " 1 2 1\n",
      " 1 3 7\n",
      " 2 4 1\n",
      " 1 4 3\n",
      " 3 4 1\n",
      " 3 5 1\n",
      " 4 5 6\n"
     ]
    }
   ],
   "source": [
    "V, E = map(int, input().split())\n",
    "STW = [list(map(int, input().split())) for _ in range(E)]"
   ]
  },
  {
   "cell_type": "code",
   "execution_count": 18,
   "id": "0a500c34-48ab-491d-8d62-bb536ec29ff0",
   "metadata": {},
   "outputs": [],
   "source": [
    "G = [[] for _ in range(V)]\n",
    "for s, t, w in STW:\n",
    "    G[s].append((t, w)) \n",
    "    G[t].append((s, w))"
   ]
  },
  {
   "cell_type": "code",
   "execution_count": 23,
   "id": "ea17aedb-2ae9-4005-90fa-4db2ba625e59",
   "metadata": {},
   "outputs": [],
   "source": [
    "# プリム法\n",
    "\n",
    "from heapq import heappush, heappop\n",
    "\n",
    "def prim():\n",
    "    # プリム法\n",
    "    # 頂点がマークされているか確認する配列\n",
    "    marked = [False for _ in range(V)]\n",
    "\n",
    "    # マークされている頂点数を数える\n",
    "    marked_cnt = 0\n",
    "\n",
    "    # はじめに0頂点をマーク\n",
    "    marked[0] = True\n",
    "    marked_cnt += 1\n",
    "\n",
    "    # heap\n",
    "    q = []\n",
    "\n",
    "    # 頂点0に隣接する辺を保存\n",
    "    for j, c in G[0]:\n",
    "        heappush(q, (c, j))\n",
    "\n",
    "    total = 0\n",
    "\n",
    "    # すべての頂点をマークするまでwhileループ\n",
    "    while marked_cnt < V:\n",
    "        # 最小の重みの辺をheapで取り出す\n",
    "        c, i = heappop(q)\n",
    "\n",
    "        # マークされているならスキップ\n",
    "        if marked[i]:\n",
    "            continue\n",
    "\n",
    "        # 頂点をマーク\n",
    "        marked[i] = True\n",
    "        marked_cnt += 1\n",
    "\n",
    "        total += c\n",
    "\n",
    "        # 頂点iに隣接する辺を保存\n",
    "        for j, c in G[i]:\n",
    "            # マークされていればスキップ\n",
    "            if marked[j]:\n",
    "                continue\n",
    "\n",
    "            heappush(q, (c, j))\n",
    "    return total"
   ]
  },
  {
   "cell_type": "code",
   "execution_count": 24,
   "id": "d4a80b4a-5038-44a3-916d-7d1f38aa3060",
   "metadata": {},
   "outputs": [
    {
     "data": {
      "text/plain": [
       "5"
      ]
     },
     "execution_count": 24,
     "metadata": {},
     "output_type": "execute_result"
    }
   ],
   "source": [
    "total"
   ]
  },
  {
   "cell_type": "code",
   "execution_count": null,
   "id": "25a50ec8-a7d3-409c-baa5-d3420018d96d",
   "metadata": {},
   "outputs": [],
   "source": [
    "# クラスカル法"
   ]
  }
 ],
 "metadata": {
  "kernelspec": {
   "display_name": "Python 3",
   "language": "python",
   "name": "python3"
  },
  "language_info": {
   "codemirror_mode": {
    "name": "ipython",
    "version": 3
   },
   "file_extension": ".py",
   "mimetype": "text/x-python",
   "name": "python",
   "nbconvert_exporter": "python",
   "pygments_lexer": "ipython3",
   "version": "3.8.8"
  }
 },
 "nbformat": 4,
 "nbformat_minor": 5
}
