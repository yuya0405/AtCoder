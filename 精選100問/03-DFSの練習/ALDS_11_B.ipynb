{
 "cells": [
  {
   "cell_type": "code",
   "execution_count": 335,
   "id": "1dcf8035-002d-4eec-b7ec-24b4b0ad38ec",
   "metadata": {},
   "outputs": [
    {
     "name": "stdin",
     "output_type": "stream",
     "text": [
      " 6\n",
      " 1 2 2 3\n",
      " 2 2 3 4\n",
      " 3 1 5\n",
      " 4 1 6\n",
      " 5 1 6\n",
      " 6 0\n"
     ]
    }
   ],
   "source": [
    "N = int(input())\n",
    "\n",
    "UKV = [list(map(int, input().split())) for _ in range(N)]"
   ]
  },
  {
   "cell_type": "code",
   "execution_count": 404,
   "id": "a5f61059-33bb-4aaa-a5ed-92c4b72832b3",
   "metadata": {},
   "outputs": [],
   "source": [
    "import sys\n",
    "sys.setrecursionlimit(10 ** 6)\n",
    "\n",
    "def rec(v, d, f, t):\n",
    "    t += 1\n",
    "    d[v] = t\n",
    "\n",
    "    for ch in chs[v]:\n",
    "        if d[ch] == 0:\n",
    "            t = rec(ch, d, f, t)\n",
    "        \n",
    "    t += 1\n",
    "    f[v] = t\n",
    "    return t"
   ]
  },
  {
   "cell_type": "code",
   "execution_count": 405,
   "id": "c4f28cf6-6b0a-4b87-bb9e-3124688aa6e6",
   "metadata": {},
   "outputs": [
    {
     "data": {
      "text/plain": [
       "[[], [2, 3], [3, 4], [5], [6], [6], []]"
      ]
     },
     "execution_count": 405,
     "metadata": {},
     "output_type": "execute_result"
    }
   ],
   "source": [
    "chs = [[] for v in range(N+1)]\n",
    "for u, k, *v in UKV:\n",
    "    chs[u] = v\n",
    "chs"
   ]
  },
  {
   "cell_type": "code",
   "execution_count": 406,
   "id": "131ddfbe-306e-4f41-9a39-000189624f28",
   "metadata": {},
   "outputs": [
    {
     "data": {
      "text/plain": [
       "12"
      ]
     },
     "execution_count": 406,
     "metadata": {},
     "output_type": "execute_result"
    }
   ],
   "source": [
    "t = 0\n",
    "d = [0 for v in range(N+1)]\n",
    "f = [0 for v in range(N+1)]\n",
    "\n",
    "rec(1, d, f, t)"
   ]
  },
  {
   "cell_type": "code",
   "execution_count": 407,
   "id": "2d7f64ff-3370-4000-bb20-a5a8cc7d049e",
   "metadata": {},
   "outputs": [
    {
     "data": {
      "text/plain": [
       "[0, 1, 2, 3, 9, 4, 5]"
      ]
     },
     "execution_count": 407,
     "metadata": {},
     "output_type": "execute_result"
    }
   ],
   "source": [
    "d"
   ]
  },
  {
   "cell_type": "code",
   "execution_count": 408,
   "id": "fa9ceda7-50a7-4c5c-baf4-985247750c36",
   "metadata": {},
   "outputs": [
    {
     "data": {
      "text/plain": [
       "[0, 12, 11, 8, 10, 7, 6]"
      ]
     },
     "execution_count": 408,
     "metadata": {},
     "output_type": "execute_result"
    }
   ],
   "source": [
    "f"
   ]
  },
  {
   "cell_type": "code",
   "execution_count": 409,
   "id": "437935ef-5033-4705-bff3-b769d67d8eab",
   "metadata": {},
   "outputs": [
    {
     "name": "stdout",
     "output_type": "stream",
     "text": [
      "1 1 12\n",
      "2 2 11\n",
      "3 3 8\n",
      "4 9 10\n",
      "5 4 7\n",
      "6 5 6\n"
     ]
    }
   ],
   "source": [
    "for i, (_d, _f) in enumerate(zip(d, f)):\n",
    "    if i == 0:\n",
    "        continue\n",
    "    print (i, _d, _f)"
   ]
  },
  {
   "cell_type": "code",
   "execution_count": null,
   "id": "01162379-9441-4c9e-9959-70ff3fb9fc17",
   "metadata": {},
   "outputs": [],
   "source": []
  }
 ],
 "metadata": {
  "kernelspec": {
   "display_name": "Python 3",
   "language": "python",
   "name": "python3"
  },
  "language_info": {
   "codemirror_mode": {
    "name": "ipython",
    "version": 3
   },
   "file_extension": ".py",
   "mimetype": "text/x-python",
   "name": "python",
   "nbconvert_exporter": "python",
   "pygments_lexer": "ipython3",
   "version": "3.8.8"
  }
 },
 "nbformat": 4,
 "nbformat_minor": 5
}
