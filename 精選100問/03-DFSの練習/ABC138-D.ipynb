{
 "cells": [
  {
   "cell_type": "code",
   "execution_count": 46,
   "id": "749ddabf-64de-43dc-bea0-e92ff091ccc2",
   "metadata": {},
   "outputs": [
    {
     "name": "stdin",
     "output_type": "stream",
     "text": [
      " 6 2\n",
      " 1 2\n",
      " 1 3\n",
      " 2 4\n",
      " 3 6\n",
      " 2 5\n",
      " 1 10\n",
      " 1 10\n"
     ]
    }
   ],
   "source": [
    "N, Q = map(int, input().split())\n",
    "AB = [list(map(int, input().split())) for _ in range(N-1)]\n",
    "PX = [list(map(int, input().split())) for _ in range(Q)]"
   ]
  },
  {
   "cell_type": "code",
   "execution_count": 47,
   "id": "cf499f8a-519d-4fb6-bd4c-d23d2b6a2959",
   "metadata": {},
   "outputs": [
    {
     "data": {
      "text/plain": [
       "[[1, 2], [0, 3, 4], [0, 5], [1], [1], [2]]"
      ]
     },
     "execution_count": 47,
     "metadata": {},
     "output_type": "execute_result"
    }
   ],
   "source": [
    "G = [[] for _ in range(N)]\n",
    "for a, b in AB:\n",
    "    G[a-1].append(b-1)\n",
    "    G[b-1].append(a-1)\n",
    "G"
   ]
  },
  {
   "cell_type": "code",
   "execution_count": 48,
   "id": "b494ae56-6761-4303-9569-a530373f5910",
   "metadata": {},
   "outputs": [
    {
     "data": {
      "text/plain": [
       "[20, 20, 20, 20, 20, 20]"
      ]
     },
     "execution_count": 48,
     "metadata": {},
     "output_type": "execute_result"
    }
   ],
   "source": [
    "# TLE？？？\n",
    "\n",
    "# アルゴ式\n",
    "\n",
    "# スタックオーバーフローを防ぐ\n",
    "import sys\n",
    "sys.setrecursionlimit(10 ** 6)\n",
    "\n",
    "# 頂点 v を根とする部分木を探索\n",
    "# 頂点 v の子頂点を格納した配列を chs とする\n",
    "def rec(v, parent, flag):\n",
    "    if v == p:\n",
    "        flag = True\n",
    "    if flag == True:\n",
    "        C[v] += x\n",
    "\n",
    "    # 各子頂点を探索\n",
    "    for next_v in G[v]:\n",
    "        # 子頂点 ch を根とした部分木を再帰的に探索\n",
    "        if next_v != parent:\n",
    "            rec(next_v, v, flag)\n",
    "\n",
    "C = [0] * N\n",
    "\n",
    "for p, x in PX:\n",
    "    p -= 1\n",
    "    flag = False\n",
    "    rec(0, -1, flag)\n",
    "C"
   ]
  },
  {
   "cell_type": "code",
   "execution_count": 50,
   "id": "a27f6ed4-ee5b-4916-94e6-7f1c7831f61a",
   "metadata": {},
   "outputs": [
    {
     "name": "stdout",
     "output_type": "stream",
     "text": [
      "20 20 20 20 20 20\n"
     ]
    }
   ],
   "source": [
    "# AC\n",
    "\n",
    "# アルゴ式\n",
    "\n",
    "# スタックオーバーフローを防ぐ\n",
    "import sys\n",
    "sys.setrecursionlimit(10 ** 6)\n",
    "\n",
    "# 頂点 v を根とする部分木を探索\n",
    "# 頂点 v の子頂点を格納した配列を chs とする\n",
    "def rec(v, parent, tmp):\n",
    "    C[v] += tmp\n",
    "    tmp = C[v]\n",
    "\n",
    "    # 各子頂点を探索\n",
    "    for next_v in G[v]:\n",
    "        # 子頂点 ch を根とした部分木を再帰的に探索\n",
    "        if next_v != parent:\n",
    "            rec(next_v, v, tmp)\n",
    "\n",
    "C = [0] * N\n",
    "\n",
    "for p, x in PX:\n",
    "    C[p-1] += x\n",
    "\n",
    "tmp = 0\n",
    "rec(0, -1, tmp)\n",
    "\n",
    "print (*C)"
   ]
  },
  {
   "cell_type": "code",
   "execution_count": null,
   "id": "fb4244dd-697f-4cc5-9a53-db1dbec3bb1d",
   "metadata": {},
   "outputs": [],
   "source": []
  }
 ],
 "metadata": {
  "kernelspec": {
   "display_name": "Python 3",
   "language": "python",
   "name": "python3"
  },
  "language_info": {
   "codemirror_mode": {
    "name": "ipython",
    "version": 3
   },
   "file_extension": ".py",
   "mimetype": "text/x-python",
   "name": "python",
   "nbconvert_exporter": "python",
   "pygments_lexer": "ipython3",
   "version": "3.8.8"
  }
 },
 "nbformat": 4,
 "nbformat_minor": 5
}
