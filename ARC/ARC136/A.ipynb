{
 "cells": [
  {
   "cell_type": "code",
   "execution_count": 24,
   "id": "2b72fd30-23b9-4def-8772-ff05bfbe880c",
   "metadata": {},
   "outputs": [
    {
     "name": "stdin",
     "output_type": "stream",
     "text": [
      " 10\n",
      " BABABBABAA\n"
     ]
    }
   ],
   "source": [
    "N = int(input())\n",
    "S = input()"
   ]
  },
  {
   "cell_type": "code",
   "execution_count": 27,
   "id": "27f6958a-480f-446f-9701-78c15e05c2c0",
   "metadata": {},
   "outputs": [
    {
     "data": {
      "text/plain": [
       "'AAAAAAAB'"
      ]
     },
     "execution_count": 27,
     "metadata": {},
     "output_type": "execute_result"
    }
   ],
   "source": [
    "# AC\n",
    "\n",
    "A = []\n",
    "B = []\n",
    "ans = \"\"\n",
    "for s in S:\n",
    "    if s == \"A\":\n",
    "        A.append(s)\n",
    "    elif s == \"B\":\n",
    "        B.append(s)\n",
    "    elif s == \"C\":\n",
    "        ans += \"A\"*len(A)\n",
    "        A = []\n",
    "        ans += \"A\"*(len(B)//2)\n",
    "        ans += \"B\"*(len(B)%2)\n",
    "        B = []\n",
    "        ans += \"C\"\n",
    "ans += \"A\"*len(A)\n",
    "A = []\n",
    "ans += \"A\"*(len(B)//2)\n",
    "ans += \"B\"*(len(B)%2)\n",
    "B = []\n",
    "ans"
   ]
  },
  {
   "cell_type": "code",
   "execution_count": 50,
   "id": "4a590c0c-872d-4efa-b95f-6de8173f9d62",
   "metadata": {},
   "outputs": [
    {
     "name": "stdout",
     "output_type": "stream",
     "text": [
      "AAAAACAA\n"
     ]
    }
   ],
   "source": [
    "# TLE\n",
    "\n",
    "while (1):\n",
    "    S_pre = S\n",
    "    S = S.replace(\"BA\", \"AB\")\n",
    "    S = S.replace(\"BB\", \"A\")\n",
    "    if S_pre == S:\n",
    "        break\n",
    "print (S)"
   ]
  },
  {
   "cell_type": "code",
   "execution_count": 154,
   "id": "ca3c8539-18ac-4016-9423-3b2907f1abaa",
   "metadata": {},
   "outputs": [
    {
     "name": "stdout",
     "output_type": "stream",
     "text": [
      "ABCA\n",
      "ABCA\n"
     ]
    }
   ],
   "source": [
    "# TLE\n",
    "\n",
    "if N == 1:\n",
    "    print (S)\n",
    "    exit()\n",
    "\n",
    "count = 0\n",
    "for n in range(N-1):\n",
    "    if S[n] == \"B\" and S[n+1] == \"A\":\n",
    "        S = S[:n] + \"AB\" + S[n+2:]\n",
    "    if S[n] == \"B\" and S[n+1] == \"B\":\n",
    "        S = S[:n] + \"A\" + S[n+2:]\n",
    "        count += 1\n",
    "    if (n+2)+count >= N:\n",
    "        break\n",
    "print (S)"
   ]
  },
  {
   "cell_type": "code",
   "execution_count": null,
   "id": "910b70ea-a27a-4eb1-955e-a976501e8521",
   "metadata": {},
   "outputs": [],
   "source": []
  }
 ],
 "metadata": {
  "kernelspec": {
   "display_name": "Python 3",
   "language": "python",
   "name": "python3"
  },
  "language_info": {
   "codemirror_mode": {
    "name": "ipython",
    "version": 3
   },
   "file_extension": ".py",
   "mimetype": "text/x-python",
   "name": "python",
   "nbconvert_exporter": "python",
   "pygments_lexer": "ipython3",
   "version": "3.8.8"
  }
 },
 "nbformat": 4,
 "nbformat_minor": 5
}
