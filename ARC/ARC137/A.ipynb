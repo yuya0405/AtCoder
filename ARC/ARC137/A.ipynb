{
 "cells": [
  {
   "cell_type": "code",
   "execution_count": 134,
   "id": "6039a217-2c1c-47e8-b67b-7c8e6e4a3abd",
   "metadata": {},
   "outputs": [
    {
     "name": "stdin",
     "output_type": "stream",
     "text": [
      " 1 100\n"
     ]
    }
   ],
   "source": [
    "L, R = map(int, input().split())"
   ]
  },
  {
   "cell_type": "code",
   "execution_count": 150,
   "id": "7f2f4259-ba25-4f8a-a076-4636ff4f6d21",
   "metadata": {},
   "outputs": [
    {
     "name": "stdout",
     "output_type": "stream",
     "text": [
      "99\n"
     ]
    }
   ],
   "source": [
    "import math\n",
    "\n",
    "tmp = 0\n",
    "for i in range(L, L+100):\n",
    "    for j in range(R-100, R+1):\n",
    "        if math.gcd(i, j) == 1:\n",
    "            if tmp < j - i:\n",
    "                tmp = j - i\n",
    "print (tmp)"
   ]
  }
 ],
 "metadata": {
  "kernelspec": {
   "display_name": "Python 3",
   "language": "python",
   "name": "python3"
  },
  "language_info": {
   "codemirror_mode": {
    "name": "ipython",
    "version": 3
   },
   "file_extension": ".py",
   "mimetype": "text/x-python",
   "name": "python",
   "nbconvert_exporter": "python",
   "pygments_lexer": "ipython3",
   "version": "3.8.8"
  }
 },
 "nbformat": 4,
 "nbformat_minor": 5
}
