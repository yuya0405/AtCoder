{
 "cells": [
  {
   "cell_type": "code",
   "execution_count": 2,
   "id": "857c80cd-e9a0-420c-b7aa-5b4b932d7f93",
   "metadata": {},
   "outputs": [
    {
     "name": "stdin",
     "output_type": "stream",
     "text": [
      " 31415\n"
     ]
    }
   ],
   "source": [
    "K = int(input())"
   ]
  },
  {
   "cell_type": "code",
   "execution_count": 42,
   "id": "93f339c5-f28a-449f-8053-2277563924fb",
   "metadata": {},
   "outputs": [
    {
     "data": {
      "text/plain": [
       "53"
      ]
     },
     "execution_count": 42,
     "metadata": {},
     "output_type": "execute_result"
    }
   ],
   "source": [
    "# TLE\n",
    "\n",
    "ans = 0\n",
    "for a in range(1, K+1):\n",
    "    for b in range(1, K+1):\n",
    "        for c in range(1, K+1):\n",
    "            if a*b*c<=K:\n",
    "                ans += 1\n",
    "ans"
   ]
  },
  {
   "cell_type": "code",
   "execution_count": 43,
   "id": "55903e16-3e2e-41d7-9082-4acee090653f",
   "metadata": {},
   "outputs": [
    {
     "data": {
      "text/plain": [
       "53"
      ]
     },
     "execution_count": 43,
     "metadata": {},
     "output_type": "execute_result"
    }
   ],
   "source": [
    "# TLE\n",
    "\n",
    "ans = 0\n",
    "for a in range(1, K+1):\n",
    "    for b in range(1, K+1):\n",
    "        for c in range(1, int(K/(a*b))+1):\n",
    "            ans += 1\n",
    "ans"
   ]
  },
  {
   "cell_type": "code",
   "execution_count": 44,
   "id": "4d70c1e1-6028-4ca2-a645-aa501cb6e1d1",
   "metadata": {},
   "outputs": [
    {
     "name": "stdout",
     "output_type": "stream",
     "text": [
      "53\n"
     ]
    }
   ],
   "source": [
    "# TLE\n",
    "\n",
    "import math\n",
    "\n",
    "ans = 0\n",
    "for a in range(1, K+1):\n",
    "    for b in range(1, K+1):\n",
    "        ans += math.floor(K/(a*b))\n",
    "print (ans)"
   ]
  },
  {
   "cell_type": "code",
   "execution_count": 47,
   "id": "8d04dd9e-b707-45c8-b8f1-813c779de5e4",
   "metadata": {
    "tags": []
   },
   "outputs": [
    {
     "name": "stdout",
     "output_type": "stream",
     "text": [
      "1937281\n"
     ]
    }
   ],
   "source": [
    "# AC\n",
    "\n",
    "import math\n",
    "\n",
    "ans = 0\n",
    "for a in range(1, K+1):\n",
    "    for b in range(1, int(K/a)+1):\n",
    "        ans += math.floor(K/(a*b)-1+1)\n",
    "print (ans)"
   ]
  },
  {
   "cell_type": "code",
   "execution_count": null,
   "id": "3f7268a5-1ac9-4491-b23c-b6545a539845",
   "metadata": {},
   "outputs": [],
   "source": []
  }
 ],
 "metadata": {
  "kernelspec": {
   "display_name": "Python 3",
   "language": "python",
   "name": "python3"
  },
  "language_info": {
   "codemirror_mode": {
    "name": "ipython",
    "version": 3
   },
   "file_extension": ".py",
   "mimetype": "text/x-python",
   "name": "python",
   "nbconvert_exporter": "python",
   "pygments_lexer": "ipython3",
   "version": "3.8.8"
  }
 },
 "nbformat": 4,
 "nbformat_minor": 5
}
