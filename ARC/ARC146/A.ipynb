{
 "cells": [
  {
   "cell_type": "code",
   "execution_count": 7,
   "id": "752d2925-f359-4aa7-bd86-13428c3f7c15",
   "metadata": {},
   "outputs": [
    {
     "name": "stdin",
     "output_type": "stream",
     "text": [
      " 8\n",
      " 813 921 481 282 120 900 555 409\n"
     ]
    }
   ],
   "source": [
    "N = int(input())\n",
    "A = list(map(int, input().split()))"
   ]
  },
  {
   "cell_type": "code",
   "execution_count": 8,
   "id": "647d6f57-d65c-4c5f-a03d-359bc498b8ec",
   "metadata": {},
   "outputs": [
    {
     "data": {
      "text/plain": [
       "[921, 900, 813, 555, 481, 409, 282, 120]"
      ]
     },
     "execution_count": 8,
     "metadata": {},
     "output_type": "execute_result"
    }
   ],
   "source": [
    "A.sort(reverse=True)\n",
    "A"
   ]
  },
  {
   "cell_type": "code",
   "execution_count": 10,
   "id": "4a01663c-50ca-4e6f-aabe-ae3b41f8d555",
   "metadata": {},
   "outputs": [
    {
     "name": "stdout",
     "output_type": "stream",
     "text": [
      "921900813\n"
     ]
    }
   ],
   "source": [
    "a = str(A[0])\n",
    "b = str(A[1])\n",
    "c = str(A[2])\n",
    "\n",
    "print (max(a+b+c, a+c+b, b+a+c, b+c+a, c+a+b, c+b+a))"
   ]
  },
  {
   "cell_type": "code",
   "execution_count": null,
   "id": "9636848d-19c0-4311-9df9-a5d56bbcff80",
   "metadata": {},
   "outputs": [],
   "source": []
  }
 ],
 "metadata": {
  "kernelspec": {
   "display_name": "Python 3 (ipykernel)",
   "language": "python",
   "name": "python3"
  },
  "language_info": {
   "codemirror_mode": {
    "name": "ipython",
    "version": 3
   },
   "file_extension": ".py",
   "mimetype": "text/x-python",
   "name": "python",
   "nbconvert_exporter": "python",
   "pygments_lexer": "ipython3",
   "version": "3.8.13"
  }
 },
 "nbformat": 4,
 "nbformat_minor": 5
}
