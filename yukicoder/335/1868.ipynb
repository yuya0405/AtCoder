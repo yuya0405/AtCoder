{
 "cells": [
  {
   "cell_type": "code",
   "execution_count": 58,
   "id": "75c3d10b-c07d-4328-95e1-9390fdecf07b",
   "metadata": {},
   "outputs": [
    {
     "name": "stdin",
     "output_type": "stream",
     "text": [
      " 20\n",
      " 4 7 7 6 10 9 8 9 13 15 13 16 17 15 18 18 20 20 20\n"
     ]
    }
   ],
   "source": [
    "N = int(input())\n",
    "R = list(map(int, input().split()))"
   ]
  },
  {
   "cell_type": "code",
   "execution_count": 59,
   "id": "0d207697-06a1-4eec-93b0-17442a4a47b2",
   "metadata": {},
   "outputs": [],
   "source": [
    "dp = [float('inf')] * (N)\n",
    "dp[0] = 0"
   ]
  },
  {
   "cell_type": "code",
   "execution_count": 60,
   "id": "cc53f766-5795-4e51-b7a9-d2cd3073fdc0",
   "metadata": {},
   "outputs": [
    {
     "name": "stdout",
     "output_type": "stream",
     "text": [
      "6\n"
     ]
    }
   ],
   "source": [
    "s = 0\n",
    "g = R[s]\n",
    "while(1):\n",
    "    dp[g-1] = min(dp[g-1], dp[s] + 1)\n",
    "    if g == N:\n",
    "        break\n",
    "    s = g-1\n",
    "    g = R[s]\n",
    "print (dp[N-1])"
   ]
  }
 ],
 "metadata": {
  "kernelspec": {
   "display_name": "Python 3",
   "language": "python",
   "name": "python3"
  },
  "language_info": {
   "codemirror_mode": {
    "name": "ipython",
    "version": 3
   },
   "file_extension": ".py",
   "mimetype": "text/x-python",
   "name": "python",
   "nbconvert_exporter": "python",
   "pygments_lexer": "ipython3",
   "version": "3.8.8"
  }
 },
 "nbformat": 4,
 "nbformat_minor": 5
}
