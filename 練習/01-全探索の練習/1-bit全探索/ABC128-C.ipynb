{
 "cells": [
  {
   "cell_type": "code",
   "execution_count": 38,
   "metadata": {},
   "outputs": [
    {
     "name": "stdout",
     "output_type": "stream",
     "text": [
      "5 2\n",
      "3 1 2 5\n",
      "2 2 3\n",
      "1 0\n"
     ]
    },
    {
     "data": {
      "text/plain": [
       "8"
      ]
     },
     "execution_count": 38,
     "metadata": {},
     "output_type": "execute_result"
    }
   ],
   "source": [
    "N, M = map(int, input().split())\n",
    "s = [list(map(int, input().split())) for i in range(M)]\n",
    "p = list(map(int, input().split()))\n",
    "ans = 0\n",
    "\n",
    "bag = list(range(2**N))\n",
    "for i in bag:\n",
    "    light = 0\n",
    "    for j in range(M):\n",
    "        state = 0\n",
    "        for k in s[j][1:]:\n",
    "            state = state | k\n",
    "        if bin(state & i).count('1') % 2 == p[j]:\n",
    "            light += 1\n",
    "    if light == M:\n",
    "        ans += 1\n",
    "print(ans)"
   ]
  },
  {
   "cell_type": "code",
   "execution_count": null,
   "metadata": {},
   "outputs": [],
   "source": []
  }
 ],
 "metadata": {
  "kernelspec": {
   "display_name": "Python 3",
   "language": "python",
   "name": "python3"
  },
  "language_info": {
   "codemirror_mode": {
    "name": "ipython",
    "version": 3
   },
   "file_extension": ".py",
   "mimetype": "text/x-python",
   "name": "python",
   "nbconvert_exporter": "python",
   "pygments_lexer": "ipython3",
   "version": "3.8.5"
  }
 },
 "nbformat": 4,
 "nbformat_minor": 4
}
