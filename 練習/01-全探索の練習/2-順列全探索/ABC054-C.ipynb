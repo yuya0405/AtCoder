{
 "cells": [
  {
   "cell_type": "code",
   "execution_count": 2,
   "metadata": {
    "scrolled": true
   },
   "outputs": [
    {
     "name": "stdout",
     "output_type": "stream",
     "text": [
      "7 7\n",
      "1 3\n",
      "2 7\n",
      "3 4\n",
      "4 5\n",
      "4 6\n",
      "5 6\n",
      "6 7\n"
     ]
    },
    {
     "data": {
      "text/plain": [
       "1"
      ]
     },
     "execution_count": 2,
     "metadata": {},
     "output_type": "execute_result"
    }
   ],
   "source": [
    "from itertools import permutations\n",
    "\n",
    "N, M = map(int, input().split())\n",
    "X = [list(map(int, input().split())) for i in range(M)]\n",
    "\n",
    "AM = [[0 for i in range(N)] for j in range(M)]\n",
    "\n",
    "for i, j in X:\n",
    "    AM[i-1][j-1] = 1\n",
    "    AM[j-1][i-1] = 1\n",
    "\n",
    "route = list(range(2, N+1))\n",
    "\n",
    "ans = 0\n",
    "for i in permutations(route):\n",
    "    tmp = list(i)\n",
    "    tmp.insert(0, 1)\n",
    "    \n",
    "    flag = True\n",
    "    for j in range(N-1):\n",
    "        if AM[tmp[j]-1][tmp[j+1]-1] == 0:\n",
    "            flag = False\n",
    "            break\n",
    "    if flag ==  True:\n",
    "        ans += 1\n",
    "ans"
   ]
  },
  {
   "cell_type": "code",
   "execution_count": null,
   "metadata": {},
   "outputs": [],
   "source": [
    "# AtCoder環境でやるとans=0となり不正解や実行時エラー（？？？）"
   ]
  }
 ],
 "metadata": {
  "kernelspec": {
   "display_name": "Python 3",
   "language": "python",
   "name": "python3"
  },
  "language_info": {
   "codemirror_mode": {
    "name": "ipython",
    "version": 3
   },
   "file_extension": ".py",
   "mimetype": "text/x-python",
   "name": "python",
   "nbconvert_exporter": "python",
   "pygments_lexer": "ipython3",
   "version": "3.8.5"
  }
 },
 "nbformat": 4,
 "nbformat_minor": 4
}
