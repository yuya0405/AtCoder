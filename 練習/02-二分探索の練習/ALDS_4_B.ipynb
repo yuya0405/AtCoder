{
 "cells": [
  {
   "cell_type": "code",
   "execution_count": 10,
   "metadata": {},
   "outputs": [],
   "source": [
    "n = int(input())\n",
    "S = list(map(int, input().split()))\n",
    "q = int(input())\n",
    "T = list(map(int, input().split()))\n",
    "\n",
    "S = set(S)\n",
    "T = set(T)\n",
    "\n",
    "ST = set(S) & set(T)\n",
    "print(len(ST))"
   ]
  }
 ],
 "metadata": {
  "kernelspec": {
   "display_name": "Python 3",
   "language": "python",
   "name": "python3"
  },
  "language_info": {
   "codemirror_mode": {
    "name": "ipython",
    "version": 3
   },
   "file_extension": ".py",
   "mimetype": "text/x-python",
   "name": "python",
   "nbconvert_exporter": "python",
   "pygments_lexer": "ipython3",
   "version": "3.8.5"
  }
 },
 "nbformat": 4,
 "nbformat_minor": 4
}
