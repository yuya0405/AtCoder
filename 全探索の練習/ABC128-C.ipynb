{
 "cells": [
  {
   "cell_type": "code",
   "execution_count": 23,
   "metadata": {},
   "outputs": [
    {
     "data": {
      "text/plain": [
       "[[0, 0, 0],\n",
       " [1, 0, 0],\n",
       " [0, 1, 0],\n",
       " [1, 1, 0],\n",
       " [0, 0, 1],\n",
       " [1, 0, 1],\n",
       " [0, 1, 1],\n",
       " [1, 1, 1]]"
      ]
     },
     "execution_count": 23,
     "metadata": {},
     "output_type": "execute_result"
    }
   ],
   "source": [
    "N = 3\n",
    "\n",
    "bag = [[0] * N for i in range(2**N)]\n",
    "for bit in range(2**N):\n",
    "    for j in range(N):\n",
    "        if((bit >> j) & 1):\n",
    "            bag[bit][j] = 1\n",
    "bag"
   ]
  },
  {
   "cell_type": "code",
   "execution_count": 32,
   "metadata": {},
   "outputs": [
    {
     "name": "stdout",
     "output_type": "stream",
     "text": [
      "2 2 \n",
      "2 1 2\n",
      "1 2\n",
      "0 1\n",
      "[[2, 1, 2], [1, 2]]\n"
     ]
    }
   ],
   "source": [
    "N, M = map(int, input().split())\n",
    "s = [list(map(int, input().split())) for i in range(M)]\n",
    "p = list(map(int, input().split()))\n",
    "ans = 0\n",
    "\n",
    "N = 3\n",
    "for i in range(1 << N):\n",
    "    tmp = [(i >> _) & 1 for _ in range(N)]\n",
    "    for j in range(M):\n",
    "        // 分からない"
   ]
  },
  {
   "cell_type": "code",
   "execution_count": null,
   "metadata": {},
   "outputs": [],
   "source": []
  }
 ],
 "metadata": {
  "kernelspec": {
   "display_name": "Python 3",
   "language": "python",
   "name": "python3"
  },
  "language_info": {
   "codemirror_mode": {
    "name": "ipython",
    "version": 3
   },
   "file_extension": ".py",
   "mimetype": "text/x-python",
   "name": "python",
   "nbconvert_exporter": "python",
   "pygments_lexer": "ipython3",
   "version": "3.8.5"
  }
 },
 "nbformat": 4,
 "nbformat_minor": 4
}
