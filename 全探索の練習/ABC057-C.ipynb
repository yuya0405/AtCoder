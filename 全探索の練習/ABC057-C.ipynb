{
 "cells": [
  {
   "cell_type": "code",
   "execution_count": 9,
   "metadata": {},
   "outputs": [
    {
     "name": "stdout",
     "output_type": "stream",
     "text": [
      "10000\n",
      "1\n"
     ]
    }
   ],
   "source": [
    "N = int(input())\n",
    "\n",
    "ans = 10**10\n",
    "for A in range(1,int(N/2)):\n",
    "    if N%A == 0:\n",
    "        B = N%A\n",
    "        if B < ans:\n",
    "            ans = len(str(B))\n",
    "print(ans)"
   ]
  }
 ],
 "metadata": {
  "kernelspec": {
   "display_name": "Python 3",
   "language": "python",
   "name": "python3"
  },
  "language_info": {
   "codemirror_mode": {
    "name": "ipython",
    "version": 3
   },
   "file_extension": ".py",
   "mimetype": "text/x-python",
   "name": "python",
   "nbconvert_exporter": "python",
   "pygments_lexer": "ipython3",
   "version": "3.8.5"
  }
 },
 "nbformat": 4,
 "nbformat_minor": 4
}
