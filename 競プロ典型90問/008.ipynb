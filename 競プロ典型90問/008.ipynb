{
 "cells": [
  {
   "cell_type": "code",
   "execution_count": 69,
   "metadata": {},
   "outputs": [
    {
     "name": "stdin",
     "output_type": "stream",
     "text": [
      " 140\n",
      " aaaaaaaaaaaaaaaaaaaattttttttttttttttttttccccccccccccccccccccooooooooooooooooooooddddddddddddddddddddeeeeeeeeeeeeeeeeeeeerrrrrrrrrrrrrrrrrrrr\n"
     ]
    },
    {
     "name": "stdout",
     "output_type": "stream",
     "text": [
      "64000000\n"
     ]
    }
   ],
   "source": [
    "N = int(input())\n",
    "S = input()\n",
    "\n",
    "dp = [[0]*8 for _ in range(N+1)]\n",
    "mod = 10**9+7\n",
    "\n",
    "dp[0][0] = 1\n",
    "for i in range(N):\n",
    "    for j in range(7):        \n",
    "        if S[i] == \"a\" and j == 0:\n",
    "            dp[i+1][j+1] += dp[i][j]\n",
    "            dp[i+1][j+1] %= mod\n",
    "        elif S[i] == \"t\" and j == 1:\n",
    "            dp[i+1][j+1] += dp[i][j]\n",
    "            dp[i+1][j+1] %= mod\n",
    "        elif S[i] == \"c\" and j == 2:\n",
    "            dp[i+1][j+1] += dp[i][j]\n",
    "            dp[i+1][j+1] %= mod\n",
    "        elif S[i] == \"o\" and j == 3:\n",
    "            dp[i+1][j+1] += dp[i][j]\n",
    "            dp[i+1][j+1] %= mod\n",
    "        elif S[i] == \"d\" and j == 4:\n",
    "            dp[i+1][j+1] += dp[i][j]\n",
    "            dp[i+1][j+1] %= mod\n",
    "        elif S[i] == \"e\" and j == 5:\n",
    "            dp[i+1][j+1] += dp[i][j]\n",
    "            dp[i+1][j+1] %= mod\n",
    "        elif S[i] == \"r\" and j == 6:\n",
    "            dp[i+1][j+1] += dp[i][j]\n",
    "            dp[i+1][j+1] %= mod\n",
    "        dp[i+1][j] += dp[i][j]\n",
    "        dp[i+1][j] %= mod\n",
    "\n",
    "print (dp[N][7])"
   ]
  },
  {
   "cell_type": "code",
   "execution_count": null,
   "metadata": {},
   "outputs": [],
   "source": []
  }
 ],
 "metadata": {
  "kernelspec": {
   "display_name": "Python 3",
   "language": "python",
   "name": "python3"
  },
  "language_info": {
   "codemirror_mode": {
    "name": "ipython",
    "version": 3
   },
   "file_extension": ".py",
   "mimetype": "text/x-python",
   "name": "python",
   "nbconvert_exporter": "python",
   "pygments_lexer": "ipython3",
   "version": "3.8.5"
  }
 },
 "nbformat": 4,
 "nbformat_minor": 4
}
