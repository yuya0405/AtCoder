{
 "cells": [
  {
   "cell_type": "code",
   "execution_count": 60,
   "metadata": {},
   "outputs": [],
   "source": [
    "N = int(input())\n",
    "CP = [list((map(int, input().split()))) for _ in range(N)]\n",
    "\n",
    "Q = int(input())\n",
    "LR = [list((map(int, input().split()))) for _ in range(Q)]\n",
    "\n",
    "c1 = [0] * (N+1)\n",
    "c2 = [0] * (N+1)\n",
    "for i, cp in enumerate(CP):\n",
    "    if cp[0] == 1:\n",
    "        c1[i+1] = cp[1]\n",
    "    else:\n",
    "        c2[i+1] = cp[1]\n",
    "\n",
    "# 累積和を求める\n",
    "for i in range(N):\n",
    "    c1[i+1] += c1[i]\n",
    "    c2[i+1] += c2[i]\n",
    "\n",
    "for lr in LR:\n",
    "    print (c1[lr[1]] - c1[lr[0]-1], c2[lr[1]] - c2[lr[0]-1])"
   ]
  }
 ],
 "metadata": {
  "kernelspec": {
   "display_name": "Python 3",
   "language": "python",
   "name": "python3"
  },
  "language_info": {
   "codemirror_mode": {
    "name": "ipython",
    "version": 3
   },
   "file_extension": ".py",
   "mimetype": "text/x-python",
   "name": "python",
   "nbconvert_exporter": "python",
   "pygments_lexer": "ipython3",
   "version": "3.8.5"
  }
 },
 "nbformat": 4,
 "nbformat_minor": 4
}
