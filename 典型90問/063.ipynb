{
 "cells": [
  {
   "cell_type": "code",
   "execution_count": 79,
   "id": "94d1f877-ba7c-49cf-b97a-d531447f18c3",
   "metadata": {},
   "outputs": [
    {
     "name": "stdin",
     "output_type": "stream",
     "text": [
      " 5 3\n",
      " 7 7 7 \n",
      " 7 7 7\n",
      " 7 7 7\n",
      " 7 7 7\n",
      " 7 7 7\n"
     ]
    }
   ],
   "source": [
    "H, W = map(int, input().split())\n",
    "P = [list(map(int, input().split())) for _ in range(H)]"
   ]
  },
  {
   "cell_type": "code",
   "execution_count": 80,
   "id": "d2de572e-6664-42e7-8683-1f9a146fc3d4",
   "metadata": {},
   "outputs": [
    {
     "name": "stdout",
     "output_type": "stream",
     "text": [
      "15\n"
     ]
    }
   ],
   "source": [
    "from itertools import product\n",
    "import collections\n",
    "\n",
    "ans = 0\n",
    "for bit in product([0,1], repeat=H):\n",
    "    if sum(bit) == 0:\n",
    "        continue\n",
    "    stock = []\n",
    "    for w in range(W):\n",
    "        check = set()\n",
    "        for i, b in enumerate(bit):\n",
    "            if b == 1:\n",
    "                check.add(P[i][w])\n",
    "        if len(check) == 1:\n",
    "            stock.append(list(check)[0])\n",
    "    C = collections.Counter(stock)\n",
    "    if len(C) == 0:\n",
    "        continue\n",
    "    ans = max(ans, (max(C.values())*sum(bit)))\n",
    "print (ans)"
   ]
  }
 ],
 "metadata": {
  "kernelspec": {
   "display_name": "Python 3",
   "language": "python",
   "name": "python3"
  },
  "language_info": {
   "codemirror_mode": {
    "name": "ipython",
    "version": 3
   },
   "file_extension": ".py",
   "mimetype": "text/x-python",
   "name": "python",
   "nbconvert_exporter": "python",
   "pygments_lexer": "ipython3",
   "version": "3.8.8"
  }
 },
 "nbformat": 4,
 "nbformat_minor": 5
}
