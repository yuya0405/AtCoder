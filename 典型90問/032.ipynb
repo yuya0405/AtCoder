{
 "cells": [
  {
   "cell_type": "code",
   "execution_count": 1,
   "metadata": {},
   "outputs": [
    {
     "name": "stdin",
     "output_type": "stream",
     "text": [
      " 3\n",
      " 1 10 100\n",
      " 10 1 100\n",
      " 100 10 1\n",
      " 1\n",
      " 1 2\n"
     ]
    }
   ],
   "source": [
    "N = int(input())\n",
    "A = [list(map(int, input().split())) for _ in range(N)]\n",
    "M = int(input())\n",
    "XY = [list(map(int, input().split())) for _ in range(M)]"
   ]
  },
  {
   "cell_type": "code",
   "execution_count": 5,
   "metadata": {},
   "outputs": [],
   "source": [
    "# bitDPは素PythonでもAC\n",
    "\n",
    "ng = [[False]*N for _ in range(N)]\n",
    "for x, y in XY:\n",
    "    x -= 1\n",
    "    y -= 1\n",
    "    ng[x][y] = True\n",
    "    ng[y][x] = True\n",
    "\n",
    "dp = [[float('inf')]*(N) for _ in range(1<<N)]\n",
    "for x in range(N):\n",
    "    dp[1<<x][x] = A[0][x]\n",
    "\n",
    "# ？？？（途中で挫折）"
   ]
  },
  {
   "cell_type": "code",
   "execution_count": 40,
   "metadata": {},
   "outputs": [
    {
     "name": "stdin",
     "output_type": "stream",
     "text": [
      " 3\n",
      " 1 10 100\n",
      " 10 1 100\n",
      " 100 10 1\n",
      " 0\n"
     ]
    },
    {
     "name": "stdout",
     "output_type": "stream",
     "text": [
      "3\n"
     ]
    }
   ],
   "source": [
    "# 順列全探索はPyPyでもTLE\n",
    "\n",
    "from itertools import permutations\n",
    "\n",
    "ans = 10**4+5\n",
    "for i in permutations(range(1, N+1)):\n",
    "    flag = True\n",
    "    time = A[i[0]-1][0]\n",
    "    for j in range(1, N):\n",
    "        if [i[j-1], i[j]] in XY or [i[j], i[j-1]] in XY:\n",
    "            flag = False\n",
    "            break\n",
    "        time += A[i[j]-1][j]\n",
    "    if flag == True:\n",
    "        ans = min(ans, time)\n",
    "if ans != 10**4+5:\n",
    "    print (ans)\n",
    "else:\n",
    "    print (-1)"
   ]
  }
 ],
 "metadata": {
  "kernelspec": {
   "display_name": "Python 3",
   "language": "python",
   "name": "python3"
  },
  "language_info": {
   "codemirror_mode": {
    "name": "ipython",
    "version": 3
   },
   "file_extension": ".py",
   "mimetype": "text/x-python",
   "name": "python",
   "nbconvert_exporter": "python",
   "pygments_lexer": "ipython3",
   "version": "3.8.8"
  }
 },
 "nbformat": 4,
 "nbformat_minor": 4
}
