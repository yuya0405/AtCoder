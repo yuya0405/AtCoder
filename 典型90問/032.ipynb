{
 "cells": [
  {
   "cell_type": "code",
   "execution_count": 1,
   "metadata": {},
   "outputs": [
    {
     "name": "stdin",
     "output_type": "stream",
     "text": [
      " 3\n",
      " 1 10 100\n",
      " 10 1 100\n",
      " 100 10 1\n",
      " 1\n",
      " 1 2\n"
     ]
    }
   ],
   "source": [
    "N = int(input())\n",
    "A = [list(map(int, input().split())) for _ in range(N)]\n",
    "M = int(input())\n",
    "XY = [list(map(int, input().split())) for _ in range(M)]"
   ]
  },
  {
   "cell_type": "code",
   "execution_count": 16,
   "metadata": {},
   "outputs": [
    {
     "data": {
      "text/plain": [
       "[[True, False, True], [False, True, True], [True, True, True]]"
      ]
     },
     "execution_count": 16,
     "metadata": {},
     "output_type": "execute_result"
    }
   ],
   "source": [
    "naka = [[True] * (N) for _ in range(N)]\n",
    "for x, y in XY:\n",
    "    naka[x-1][y-1] = False\n",
    "    naka[y-1][x-1] = False\n",
    "naka"
   ]
  },
  {
   "cell_type": "code",
   "execution_count": 19,
   "metadata": {},
   "outputs": [
    {
     "name": "stdout",
     "output_type": "stream",
     "text": [
      "111\n"
     ]
    }
   ],
   "source": [
    "from itertools import permutations\n",
    "\n",
    "ans = 10**4+5\n",
    "for i in permutations(range(1, N+1)):\n",
    "    flag = True\n",
    "    time = A[i[0]-1][0]\n",
    "    for j in range(1, N):\n",
    "        if naka[i[j-1]-1][i[j]-1] == False:\n",
    "            flag = False\n",
    "            break\n",
    "        time += A[i[j]-1][j]\n",
    "    if flag == True:\n",
    "        ans = min(ans, time)\n",
    "if ans != 10**4+5:\n",
    "    print (ans)\n",
    "else:\n",
    "    print (-1)"
   ]
  },
  {
   "cell_type": "code",
   "execution_count": null,
   "metadata": {},
   "outputs": [],
   "source": []
  }
 ],
 "metadata": {
  "kernelspec": {
   "display_name": "Python 3",
   "language": "python",
   "name": "python3"
  },
  "language_info": {
   "codemirror_mode": {
    "name": "ipython",
    "version": 3
   },
   "file_extension": ".py",
   "mimetype": "text/x-python",
   "name": "python",
   "nbconvert_exporter": "python",
   "pygments_lexer": "ipython3",
   "version": "3.8.8"
  }
 },
 "nbformat": 4,
 "nbformat_minor": 4
}
