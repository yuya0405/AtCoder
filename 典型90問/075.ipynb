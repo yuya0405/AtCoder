{
 "cells": [
  {
   "cell_type": "code",
   "execution_count": 139,
   "id": "b7c51a1c-6426-4afc-bb6c-6927510a377a",
   "metadata": {},
   "outputs": [
    {
     "name": "stdin",
     "output_type": "stream",
     "text": [
      " 8\n"
     ]
    }
   ],
   "source": [
    "N = int(input())"
   ]
  },
  {
   "cell_type": "code",
   "execution_count": 140,
   "id": "221604ba-9ee9-4c9a-a153-4b8cd36558f3",
   "metadata": {},
   "outputs": [],
   "source": [
    "# 素因数分解\n",
    "# 460 = 2^2 x 5 x 23 の場合\n",
    "# 返り値は [(2, 2), (5, 1), (23, 1)]\n",
    "def prime_factorize(N):\n",
    "    # 答えを表す可変長配列\n",
    "    res = []\n",
    "\n",
    "    # √N まで試し割っていく\n",
    "    for p in range(2, N):\n",
    "        # p * p <= N の範囲でよい\n",
    "        if p * p > N:\n",
    "            break\n",
    "\n",
    "        # N が p で割り切れないならばスキップ\n",
    "        if N % p != 0:\n",
    "            continue\n",
    "\n",
    "        # N の素因数 p に対する指数を求める\n",
    "        e = 0\n",
    "        while N % p == 0:\n",
    "            # 指数を 1 増やす\n",
    "            e += 1\n",
    "\n",
    "            # N を p で割る\n",
    "            N //= p\n",
    "\n",
    "        # 答えに追加\n",
    "        res.append((p, e))\n",
    "\n",
    "    # 素数が最後に残ることがありうる\n",
    "    if N != 1:\n",
    "        res.append((N, 1))\n",
    "\n",
    "    return res"
   ]
  },
  {
   "cell_type": "code",
   "execution_count": 141,
   "id": "8bd05bf8-83df-4d85-93a5-28bd316b41cf",
   "metadata": {},
   "outputs": [],
   "source": [
    "tmp = prime_factorize(N)\n",
    "wa = sum([y for x, y in tmp])"
   ]
  },
  {
   "cell_type": "code",
   "execution_count": 142,
   "id": "ee03fea9-9db0-45a0-bac9-72cd5e16213b",
   "metadata": {},
   "outputs": [
    {
     "name": "stdout",
     "output_type": "stream",
     "text": [
      "2\n"
     ]
    }
   ],
   "source": [
    "i = 1\n",
    "ans = 0\n",
    "while i < wa:\n",
    "    i *= 2\n",
    "    ans += 1\n",
    "print (ans)"
   ]
  }
 ],
 "metadata": {
  "kernelspec": {
   "display_name": "Python 3",
   "language": "python",
   "name": "python3"
  },
  "language_info": {
   "codemirror_mode": {
    "name": "ipython",
    "version": 3
   },
   "file_extension": ".py",
   "mimetype": "text/x-python",
   "name": "python",
   "nbconvert_exporter": "python",
   "pygments_lexer": "ipython3",
   "version": "3.8.8"
  }
 },
 "nbformat": 4,
 "nbformat_minor": 5
}
