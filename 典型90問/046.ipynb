{
 "cells": [
  {
   "cell_type": "code",
   "execution_count": 1,
   "id": "851a9e4a-dc38-4617-a6fe-7fc666b3fdcb",
   "metadata": {},
   "outputs": [],
   "source": [
    "def input():\n",
    "    global tc\n",
    "    if len(tc)>0:\n",
    "        return tc.pop(0)"
   ]
  },
  {
   "cell_type": "code",
   "execution_count": 7,
   "id": "5191c0d0-ecac-4be7-8d76-90dc955bc050",
   "metadata": {},
   "outputs": [
    {
     "name": "stdout",
     "output_type": "stream",
     "text": [
      "['tc=!pbpaste --clipboard --output']\n"
     ]
    }
   ],
   "source": [
    "tc=!pbpaste --clipboard --output\n",
    "print(tc)"
   ]
  },
  {
   "cell_type": "code",
   "execution_count": 5,
   "id": "fdb18125-b2e9-4684-b9ee-2ca69e29b73a",
   "metadata": {},
   "outputs": [
    {
     "data": {
      "text/plain": [
       "'tc=!pbpaste --clipboard --output'"
      ]
     },
     "execution_count": 5,
     "metadata": {},
     "output_type": "execute_result"
    }
   ],
   "source": []
  },
  {
   "cell_type": "code",
   "execution_count": 4,
   "id": "05bae7fa-58cf-4138-bd83-86008acafe31",
   "metadata": {},
   "outputs": [
    {
     "name": "stdin",
     "output_type": "stream",
     "text": [
      " 20\n",
      " 238 395 46 238 264 114 354 52 324 14 472 64 307 280 209 24 165 194 179 248\n",
      " 270 83 377 332 173 21 362 75 66 342 229 117 124 481 48 235 376 13 420 74\n",
      " 175 427 76 278 486 169 311 47 348 225 41 482 355 356 263 95 170 156 340 289\n"
     ]
    }
   ],
   "source": [
    "N = int(input())\n",
    "A = list(map(int, input().split()))\n",
    "B = list(map(int, input().split()))\n",
    "C = list(map(int, input().split()))"
   ]
  },
  {
   "cell_type": "code",
   "execution_count": 5,
   "id": "2a133d6c-e355-466e-a0ac-d7a2b393c70e",
   "metadata": {},
   "outputs": [],
   "source": [
    "A = [a%46 for a in A]\n",
    "B = [b%46 for b in B]\n",
    "C = [c%46 for c in C]"
   ]
  },
  {
   "cell_type": "code",
   "execution_count": 6,
   "id": "c6a32a66-9d1b-4600-a7cc-a57e4f31a9b5",
   "metadata": {},
   "outputs": [],
   "source": [
    "import collections\n",
    "\n",
    "A = collections.Counter(A)\n",
    "B = collections.Counter(B)\n",
    "C = collections.Counter(C)"
   ]
  },
  {
   "cell_type": "code",
   "execution_count": 8,
   "id": "5855fc12-07bf-4fb6-aa2d-83a7819e7784",
   "metadata": {},
   "outputs": [
    {
     "name": "stdout",
     "output_type": "stream",
     "text": [
      "183\n"
     ]
    }
   ],
   "source": [
    "ans = 0\n",
    "for a in range(46):\n",
    "    for b in range(46):\n",
    "        for c in range(46):\n",
    "            if (a+b+c)%46==0:\n",
    "                ans += (A[a]*B[b]*C[c])\n",
    "print (ans)"
   ]
  },
  {
   "cell_type": "code",
   "execution_count": null,
   "id": "4fa474b5-6087-4831-823d-f446b25a1aa6",
   "metadata": {},
   "outputs": [],
   "source": []
  }
 ],
 "metadata": {
  "kernelspec": {
   "display_name": "Python 3",
   "language": "python",
   "name": "python3"
  },
  "language_info": {
   "codemirror_mode": {
    "name": "ipython",
    "version": 3
   },
   "file_extension": ".py",
   "mimetype": "text/x-python",
   "name": "python",
   "nbconvert_exporter": "python",
   "pygments_lexer": "ipython3",
   "version": "3.8.8"
  }
 },
 "nbformat": 4,
 "nbformat_minor": 5
}
