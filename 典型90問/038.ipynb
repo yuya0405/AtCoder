{
 "cells": [
  {
   "cell_type": "code",
   "execution_count": 9,
   "id": "92fddd81-f3f0-4dee-8348-bd2ba0f33d54",
   "metadata": {},
   "outputs": [
    {
     "name": "stdin",
     "output_type": "stream",
     "text": [
      " 1000000000000000000 1\n"
     ]
    }
   ],
   "source": [
    "A, B = map(int, input().split())"
   ]
  },
  {
   "cell_type": "code",
   "execution_count": 11,
   "id": "e2ea558a-8e04-4f5f-b5b2-14cc5448f3b2",
   "metadata": {},
   "outputs": [
    {
     "name": "stdout",
     "output_type": "stream",
     "text": [
      "1000000000000000000\n"
     ]
    }
   ],
   "source": [
    "import math\n",
    "if A * B // math.gcd(A,B) > 10**18:\n",
    "    print (\"Large\")\n",
    "else:\n",
    "    print (A * B // math.gcd(A,B))"
   ]
  },
  {
   "cell_type": "code",
   "execution_count": null,
   "id": "bcf59600-fede-4622-8e30-27f1d3f7cd00",
   "metadata": {},
   "outputs": [],
   "source": []
  }
 ],
 "metadata": {
  "kernelspec": {
   "display_name": "Python 3",
   "language": "python",
   "name": "python3"
  },
  "language_info": {
   "codemirror_mode": {
    "name": "ipython",
    "version": 3
   },
   "file_extension": ".py",
   "mimetype": "text/x-python",
   "name": "python",
   "nbconvert_exporter": "python",
   "pygments_lexer": "ipython3",
   "version": "3.8.8"
  }
 },
 "nbformat": 4,
 "nbformat_minor": 5
}
