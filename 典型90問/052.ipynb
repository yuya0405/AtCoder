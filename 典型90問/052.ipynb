{
 "cells": [
  {
   "cell_type": "code",
   "execution_count": 20,
   "id": "93388b78-ce4f-4b33-a006-2929b6b16351",
   "metadata": {},
   "outputs": [
    {
     "name": "stdin",
     "output_type": "stream",
     "text": [
      " 7\n",
      " 19 23 51 59 91 99\n",
      " 15 45 56 65 69 94\n",
      " 7 11 16 34 59 95\n",
      " 27 30 40 43 83 85\n",
      " 19 23 25 27 45 99\n",
      " 27 48 52 53 60 81\n",
      " 21 36 49 72 82 84\n"
     ]
    }
   ],
   "source": [
    "N = int(input())\n",
    "A = [list(map(int, input().split())) for _ in range(N)]"
   ]
  },
  {
   "cell_type": "code",
   "execution_count": 21,
   "id": "b8201f48-da1c-4b14-8fc2-e1a9ce46ac62",
   "metadata": {},
   "outputs": [
    {
     "name": "stdout",
     "output_type": "stream",
     "text": [
      "670838273\n"
     ]
    }
   ],
   "source": [
    "# AC\n",
    "\n",
    "ans = 1\n",
    "for a in A:\n",
    "    ans *= sum(a)\n",
    "    ans %= 10**9+7\n",
    "print (ans)"
   ]
  },
  {
   "cell_type": "code",
   "execution_count": 10,
   "id": "88bddfae-476a-48bb-8882-3a0032153fe0",
   "metadata": {},
   "outputs": [],
   "source": [
    "# TLE？？？\n",
    "\n",
    "import itertools\n",
    "\n",
    "P = itertools.product(*A)"
   ]
  },
  {
   "cell_type": "code",
   "execution_count": null,
   "id": "9ade8748-e7f5-4df0-a9ee-b46bd0378e33",
   "metadata": {},
   "outputs": [],
   "source": []
  }
 ],
 "metadata": {
  "kernelspec": {
   "display_name": "Python 3",
   "language": "python",
   "name": "python3"
  },
  "language_info": {
   "codemirror_mode": {
    "name": "ipython",
    "version": 3
   },
   "file_extension": ".py",
   "mimetype": "text/x-python",
   "name": "python",
   "nbconvert_exporter": "python",
   "pygments_lexer": "ipython3",
   "version": "3.8.8"
  }
 },
 "nbformat": 4,
 "nbformat_minor": 5
}
