{
 "cells": [
  {
   "cell_type": "code",
   "execution_count": 21,
   "id": "a0b4979e-8278-44b8-98d0-8c4884ec5918",
   "metadata": {},
   "outputs": [
    {
     "name": "stdin",
     "output_type": "stream",
     "text": [
      " 0 0\n"
     ]
    }
   ],
   "source": [
    "N, K = map(int, input().split())"
   ]
  },
  {
   "cell_type": "code",
   "execution_count": 19,
   "id": "e6479a76-d126-411d-b3b5-2c97b1c99204",
   "metadata": {},
   "outputs": [
    {
     "name": "stdout",
     "output_type": "stream",
     "text": [
      "4\n"
     ]
    }
   ],
   "source": [
    "# n進数から10進数に変換\n",
    "print (int('100', 2))\n",
    "\n",
    "# 10進数からn進数に変換\n",
    "def base10int(value, base):\n",
    "    if (int(value / base)):\n",
    "        return base10int(int(value / base), base) + str(value % base)\n",
    "    return str(value % base)"
   ]
  },
  {
   "cell_type": "code",
   "execution_count": 22,
   "id": "92a354be-9005-4565-b495-0b8ba23180bd",
   "metadata": {},
   "outputs": [
    {
     "name": "stdout",
     "output_type": "stream",
     "text": [
      "0\n"
     ]
    }
   ],
   "source": [
    "for k in range(K):\n",
    "    tmp = int(str(N), 8)\n",
    "    tmp = base10int(tmp, 9)\n",
    "    tmp = tmp.replace(\"8\", \"5\")\n",
    "    N = tmp\n",
    "print (N)"
   ]
  },
  {
   "cell_type": "code",
   "execution_count": null,
   "id": "2ed4e9a2-88a9-46d6-8e80-06d705982985",
   "metadata": {},
   "outputs": [],
   "source": []
  }
 ],
 "metadata": {
  "kernelspec": {
   "display_name": "Python 3",
   "language": "python",
   "name": "python3"
  },
  "language_info": {
   "codemirror_mode": {
    "name": "ipython",
    "version": 3
   },
   "file_extension": ".py",
   "mimetype": "text/x-python",
   "name": "python",
   "nbconvert_exporter": "python",
   "pygments_lexer": "ipython3",
   "version": "3.8.8"
  }
 },
 "nbformat": 4,
 "nbformat_minor": 5
}
