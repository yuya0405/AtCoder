{
 "cells": [
  {
   "cell_type": "code",
   "execution_count": 26,
   "metadata": {},
   "outputs": [
    {
     "name": "stdin",
     "output_type": "stream",
     "text": [
      " 3\n"
     ]
    }
   ],
   "source": [
    "N = int(input())\n",
    "\n",
    "from itertools import product\n",
    "\n",
    "ans = []\n",
    "\n",
    "for bit in product([0, 1], repeat = N):\n",
    "    if bit.count(0) == bit.count(1):\n",
    "        cnt = 0\n",
    "        Flag = True\n",
    "        word = \"\"\n",
    "        for i in bit:\n",
    "            if i == 0:\n",
    "                cnt += 1\n",
    "            elif i == 1:\n",
    "                if cnt >= 1:\n",
    "                    cnt -= 1\n",
    "                else:\n",
    "                    Flag = False\n",
    "            word += str(i)\n",
    "        if Flag  == True:\n",
    "            x = word.replace(\"0\", \"(\")\n",
    "            y = x.replace(\"1\", \")\")\n",
    "            ans.append(y)\n",
    "ans.sort()\n",
    "for a in ans:\n",
    "    print (a)"
   ]
  },
  {
   "cell_type": "code",
   "execution_count": null,
   "metadata": {},
   "outputs": [],
   "source": []
  }
 ],
 "metadata": {
  "kernelspec": {
   "display_name": "Python 3",
   "language": "python",
   "name": "python3"
  },
  "language_info": {
   "codemirror_mode": {
    "name": "ipython",
    "version": 3
   },
   "file_extension": ".py",
   "mimetype": "text/x-python",
   "name": "python",
   "nbconvert_exporter": "python",
   "pygments_lexer": "ipython3",
   "version": "3.8.5"
  }
 },
 "nbformat": 4,
 "nbformat_minor": 4
}
