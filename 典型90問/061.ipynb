{
 "cells": [
  {
   "cell_type": "code",
   "execution_count": 6,
   "id": "c0ab2103-95db-4d90-a629-4f59146c2012",
   "metadata": {},
   "outputs": [
    {
     "name": "stdin",
     "output_type": "stream",
     "text": [
      " 6\n",
      " 2 1\n",
      " 3 1\n",
      " 2 2\n",
      " 3 1\n",
      " 2 3\n",
      " 3 1\n"
     ]
    }
   ],
   "source": [
    "Q = int(input())\n",
    "TX = [list(map(int, input().split())) for _ in range(Q)]"
   ]
  },
  {
   "cell_type": "code",
   "execution_count": 7,
   "id": "ee83b4c5-814d-4142-8dca-b48e8a26a853",
   "metadata": {},
   "outputs": [
    {
     "name": "stdout",
     "output_type": "stream",
     "text": [
      "1\n",
      "1\n",
      "1\n"
     ]
    }
   ],
   "source": [
    "from collections import deque\n",
    "\n",
    "dq = deque()\n",
    "for t, x in TX:\n",
    "    if t==1:\n",
    "        dq.appendleft(x)\n",
    "    elif t==2:\n",
    "        dq.append(x)\n",
    "    elif t==3:\n",
    "        print (dq[x-1])"
   ]
  },
  {
   "cell_type": "code",
   "execution_count": null,
   "id": "3f044e0b-0c32-4361-933e-c6e49aa583cd",
   "metadata": {},
   "outputs": [],
   "source": []
  }
 ],
 "metadata": {
  "kernelspec": {
   "display_name": "Python 3",
   "language": "python",
   "name": "python3"
  },
  "language_info": {
   "codemirror_mode": {
    "name": "ipython",
    "version": 3
   },
   "file_extension": ".py",
   "mimetype": "text/x-python",
   "name": "python",
   "nbconvert_exporter": "python",
   "pygments_lexer": "ipython3",
   "version": "3.8.8"
  }
 },
 "nbformat": 4,
 "nbformat_minor": 5
}
