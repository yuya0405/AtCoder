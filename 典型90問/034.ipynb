{
 "cells": [
  {
   "cell_type": "code",
   "execution_count": 64,
   "id": "9d8dd04d-c94f-47d9-8339-3ae83cd41e02",
   "metadata": {},
   "outputs": [
    {
     "name": "stdin",
     "output_type": "stream",
     "text": [
      " 10 2\n",
      " 1 2 3 4 4 3 2 1 2 3\n"
     ]
    }
   ],
   "source": [
    "N, K = map(int, input().split())\n",
    "A = list(map(int, input().split()))"
   ]
  },
  {
   "cell_type": "code",
   "execution_count": 68,
   "id": "1ca0125e-ef99-4c97-8400-11a1c2026cef",
   "metadata": {},
   "outputs": [
    {
     "name": "stdout",
     "output_type": "stream",
     "text": [
      "4\n"
     ]
    }
   ],
   "source": [
    "from collections import deque\n",
    "from collections import defaultdict\n",
    "\n",
    "que = deque()\n",
    "dic = defaultdict(int)\n",
    "ans = -1\n",
    "for a in A:\n",
    "    que.append(a)  ## dequeの右端に要素を一つ追加する。\n",
    "    dic[a] += 1\n",
    "\n",
    "    while que and len(dic) > K:\n",
    "        rm = que.popleft() ## 条件を満たさないのでdequeの左端から要素を取り除く\n",
    "        dic[rm] -= 1\n",
    "        if dic[rm] == 0:\n",
    "            del dic[rm]\n",
    "    \n",
    "    ans = max(ans, len(que))\n",
    "print (ans)"
   ]
  },
  {
   "cell_type": "code",
   "execution_count": 69,
   "id": "c005e046-8157-46ad-aa7e-1be0800694fd",
   "metadata": {},
   "outputs": [
    {
     "data": {
      "text/plain": [
       "deque([2, 3])"
      ]
     },
     "execution_count": 69,
     "metadata": {},
     "output_type": "execute_result"
    }
   ],
   "source": [
    "que"
   ]
  },
  {
   "cell_type": "code",
   "execution_count": 70,
   "id": "7e4bbd4f-2f79-4290-8a7b-64fca734bcf3",
   "metadata": {},
   "outputs": [
    {
     "data": {
      "text/plain": [
       "defaultdict(int, {2: 1, 3: 1})"
      ]
     },
     "execution_count": 70,
     "metadata": {},
     "output_type": "execute_result"
    }
   ],
   "source": [
    "dic"
   ]
  },
  {
   "cell_type": "code",
   "execution_count": null,
   "id": "c1e7c99d-b68f-48c5-b0cf-6773cd8dcf11",
   "metadata": {},
   "outputs": [],
   "source": []
  }
 ],
 "metadata": {
  "kernelspec": {
   "display_name": "Python 3",
   "language": "python",
   "name": "python3"
  },
  "language_info": {
   "codemirror_mode": {
    "name": "ipython",
    "version": 3
   },
   "file_extension": ".py",
   "mimetype": "text/x-python",
   "name": "python",
   "nbconvert_exporter": "python",
   "pygments_lexer": "ipython3",
   "version": "3.8.8"
  }
 },
 "nbformat": 4,
 "nbformat_minor": 5
}
