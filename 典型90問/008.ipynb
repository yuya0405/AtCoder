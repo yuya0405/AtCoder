{
 "cells": [
  {
   "cell_type": "code",
   "execution_count": 6,
   "metadata": {},
   "outputs": [
    {
     "name": "stdin",
     "output_type": "stream",
     "text": [
      " 14\n",
      " atcoderatcoder\n"
     ]
    },
    {
     "name": "stdout",
     "output_type": "stream",
     "text": [
      "8\n"
     ]
    }
   ],
   "source": [
    "N = int(input())\n",
    "S = input()\n",
    "\n",
    "dp = [[0]*8 for _ in range(N+1)]\n",
    "mod = 10**9+7\n",
    "\n",
    "for i in range(N+1):\n",
    "    dp[i][0] = 1\n",
    "\n",
    "dp[0][0] = 1\n",
    "for i in range(N):\n",
    "    for j in range(7):        \n",
    "        if S[i] == \"a\" and j == 0:\n",
    "            dp[i+1][j+1] = dp[i][j] + dp[i][j+1]\n",
    "            dp[i+1][j+1] %= mod\n",
    "        elif S[i] == \"t\" and j == 1:\n",
    "            dp[i+1][j+1] = dp[i][j] + dp[i][j+1]\n",
    "            dp[i+1][j+1] %= mod\n",
    "        elif S[i] == \"c\" and j == 2:\n",
    "            dp[i+1][j+1] = dp[i][j] + dp[i][j+1]\n",
    "            dp[i+1][j+1] %= mod\n",
    "        elif S[i] == \"o\" and j == 3:\n",
    "            dp[i+1][j+1] = dp[i][j] + dp[i][j+1]\n",
    "            dp[i+1][j+1] %= mod\n",
    "        elif S[i] == \"d\" and j == 4:\n",
    "            dp[i+1][j+1] = dp[i][j] + dp[i][j+1]\n",
    "            dp[i+1][j+1] %= mod\n",
    "        elif S[i] == \"e\" and j == 5:\n",
    "            dp[i+1][j+1] = dp[i][j] + dp[i][j+1]\n",
    "            dp[i+1][j+1] %= mod\n",
    "        elif S[i] == \"r\" and j == 6:\n",
    "            dp[i+1][j+1] = dp[i][j] + dp[i][j+1]\n",
    "            dp[i+1][j+1] %= mod\n",
    "        else:\n",
    "            dp[i+1][j+1] = dp[i][j+1]\n",
    "            dp[i+1][j+1] %= mod\n",
    "\n",
    "print (dp[N][7])"
   ]
  },
  {
   "cell_type": "code",
   "execution_count": 7,
   "metadata": {},
   "outputs": [
    {
     "data": {
      "text/plain": [
       "[[1, 0, 0, 0, 0, 0, 0, 0],\n",
       " [1, 1, 0, 0, 0, 0, 0, 0],\n",
       " [1, 1, 1, 0, 0, 0, 0, 0],\n",
       " [1, 1, 1, 1, 0, 0, 0, 0],\n",
       " [1, 1, 1, 1, 1, 0, 0, 0],\n",
       " [1, 1, 1, 1, 1, 1, 0, 0],\n",
       " [1, 1, 1, 1, 1, 1, 1, 0],\n",
       " [1, 1, 1, 1, 1, 1, 1, 1],\n",
       " [1, 2, 1, 1, 1, 1, 1, 1],\n",
       " [1, 2, 3, 1, 1, 1, 1, 1],\n",
       " [1, 2, 3, 4, 1, 1, 1, 1],\n",
       " [1, 2, 3, 4, 5, 1, 1, 1],\n",
       " [1, 2, 3, 4, 5, 6, 1, 1],\n",
       " [1, 2, 3, 4, 5, 6, 7, 1],\n",
       " [1, 2, 3, 4, 5, 6, 7, 8]]"
      ]
     },
     "execution_count": 7,
     "metadata": {},
     "output_type": "execute_result"
    }
   ],
   "source": [
    "dp"
   ]
  },
  {
   "cell_type": "code",
   "execution_count": null,
   "metadata": {},
   "outputs": [],
   "source": []
  }
 ],
 "metadata": {
  "kernelspec": {
   "display_name": "Python 3",
   "language": "python",
   "name": "python3"
  },
  "language_info": {
   "codemirror_mode": {
    "name": "ipython",
    "version": 3
   },
   "file_extension": ".py",
   "mimetype": "text/x-python",
   "name": "python",
   "nbconvert_exporter": "python",
   "pygments_lexer": "ipython3",
   "version": "3.8.8"
  }
 },
 "nbformat": 4,
 "nbformat_minor": 4
}
