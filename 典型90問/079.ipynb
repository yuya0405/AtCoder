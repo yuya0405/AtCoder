{
 "cells": [
  {
   "cell_type": "code",
   "execution_count": 12,
   "id": "dbf4b7df-3463-4b8c-b11d-80e15dffadf4",
   "metadata": {},
   "outputs": [
    {
     "name": "stdin",
     "output_type": "stream",
     "text": [
      " 5 5\n",
      " 6 17 18 29 22\n",
      " 39 50 25 39 25\n",
      " 34 34 8 25 17\n",
      " 28 48 25 47 42\n",
      " 27 47 24 32 28\n",
      " 4 6 3 29 28\n",
      " 48 50 21 48 29\n",
      " 44 44 19 47 28\n",
      " 4 49 46 29 28\n",
      " 4 49 45 1 1\n"
     ]
    }
   ],
   "source": [
    "H, W = map(int, input().split())\n",
    "A = [list(map(int, input().split())) for _ in range(H)]\n",
    "B = [list(map(int, input().split())) for _ in range(H)]"
   ]
  },
  {
   "cell_type": "code",
   "execution_count": 13,
   "id": "3acd7a78-29ca-4aac-9814-7f13ba5b29ef",
   "metadata": {},
   "outputs": [
    {
     "data": {
      "text/plain": [
       "[[2, 11, 15, 0, -6],\n",
       " [-9, 0, 4, -9, -4],\n",
       " [-10, -10, -11, -22, -11],\n",
       " [24, -1, -21, 18, 14],\n",
       " [23, -2, -21, 31, 27]]"
      ]
     },
     "execution_count": 13,
     "metadata": {},
     "output_type": "execute_result"
    }
   ],
   "source": [
    "C = [[]*W for _ in range(H)]\n",
    "for h in range(H):\n",
    "    for w in range(W):\n",
    "        C[h].append(A[h][w] - B[h][w])\n",
    "C"
   ]
  },
  {
   "cell_type": "code",
   "execution_count": 14,
   "id": "35c70fdf-0d4b-4b20-9158-828496f8171f",
   "metadata": {},
   "outputs": [
    {
     "name": "stdout",
     "output_type": "stream",
     "text": [
      "Yes\n",
      "140\n"
     ]
    }
   ],
   "source": [
    "ans = 0\n",
    "for h in range(H):\n",
    "    for w in range(W):\n",
    "        if h == H-1 or w == W-1:\n",
    "            if C[h][w] != 0:\n",
    "                print (\"No\")\n",
    "                exit()\n",
    "        else:\n",
    "            ans += abs(C[h][w])\n",
    "            C[h+1][w] -= C[h][w]\n",
    "            C[h][w+1] -= C[h][w]\n",
    "            C[h+1][w+1] -= C[h][w]\n",
    "            C[h][w] = 0\n",
    "print (\"Yes\")\n",
    "print (ans)"
   ]
  },
  {
   "cell_type": "code",
   "execution_count": null,
   "id": "f6082039-5a0a-4e39-9e2c-1cc4c1e59ba5",
   "metadata": {},
   "outputs": [],
   "source": []
  }
 ],
 "metadata": {
  "kernelspec": {
   "display_name": "Python 3",
   "language": "python",
   "name": "python3"
  },
  "language_info": {
   "codemirror_mode": {
    "name": "ipython",
    "version": 3
   },
   "file_extension": ".py",
   "mimetype": "text/x-python",
   "name": "python",
   "nbconvert_exporter": "python",
   "pygments_lexer": "ipython3",
   "version": "3.8.8"
  }
 },
 "nbformat": 4,
 "nbformat_minor": 5
}
