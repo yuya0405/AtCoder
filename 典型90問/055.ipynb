{
 "cells": [
  {
   "cell_type": "code",
   "execution_count": 1,
   "id": "a98972eb-44a9-4234-b4e3-38b4ae7ce4ff",
   "metadata": {},
   "outputs": [
    {
     "name": "stdin",
     "output_type": "stream",
     "text": [
      " 10 1 0\n",
      " 0 0 0 0 0 0 0 0 0 0\n"
     ]
    }
   ],
   "source": [
    "N, P, Q = map(int, input().split())\n",
    "A = list(map(int, input().split()))"
   ]
  },
  {
   "cell_type": "code",
   "execution_count": 13,
   "id": "ad2ab7d7-e746-4c6a-83a8-28befc994924",
   "metadata": {},
   "outputs": [
    {
     "name": "stdout",
     "output_type": "stream",
     "text": [
      "252\n"
     ]
    }
   ],
   "source": [
    "# AC\n",
    "\n",
    "ans = 0\n",
    "for i in range(N):\n",
    "    for j in range(i+1, N):\n",
    "        for k in range(j+1, N):\n",
    "            for l in range(k+1, N):\n",
    "                for m in range(l+1, N):\n",
    "                    tmp = A[i]*A[j]%P*A[k]%P*A[l]%P*A[m]%P\n",
    "                    if tmp % P == Q:\n",
    "                        ans += 1\n",
    "print (ans)"
   ]
  },
  {
   "cell_type": "code",
   "execution_count": 12,
   "id": "a20f123d-c955-4b20-8759-b77827ff6332",
   "metadata": {},
   "outputs": [
    {
     "name": "stdout",
     "output_type": "stream",
     "text": [
      "252\n"
     ]
    }
   ],
   "source": [
    "# TLE（2**63-1を超えると時間がかかる）\n",
    "\n",
    "ans = 0\n",
    "for i in range(N):\n",
    "    for j in range(i+1, N):\n",
    "        for k in range(j+1, N):\n",
    "            for l in range(k+1, N):\n",
    "                for m in range(l+1, N):\n",
    "                    tmp = A[i]*A[j]*A[k]*A[l]*A[m]\n",
    "                    if tmp % P == Q:\n",
    "                        ans += 1\n",
    "print (ans)"
   ]
  },
  {
   "cell_type": "code",
   "execution_count": 2,
   "id": "ed0aaf65-8ddd-42a8-b4d1-f28d50b3a01c",
   "metadata": {},
   "outputs": [
    {
     "name": "stdout",
     "output_type": "stream",
     "text": [
      "252\n"
     ]
    }
   ],
   "source": [
    "# TLE？？？\n",
    "\n",
    "import itertools\n",
    "\n",
    "ans = 0\n",
    "COMB = itertools.combinations(A, 5)\n",
    "for comb in COMB:\n",
    "    tmp = 1\n",
    "    for c in comb:\n",
    "        tmp *= c\n",
    "        tmp %= P\n",
    "    \n",
    "    if tmp == Q:\n",
    "        ans += 1\n",
    "print (ans)"
   ]
  }
 ],
 "metadata": {
  "kernelspec": {
   "display_name": "Python 3",
   "language": "python",
   "name": "python3"
  },
  "language_info": {
   "codemirror_mode": {
    "name": "ipython",
    "version": 3
   },
   "file_extension": ".py",
   "mimetype": "text/x-python",
   "name": "python",
   "nbconvert_exporter": "python",
   "pygments_lexer": "ipython3",
   "version": "3.8.8"
  }
 },
 "nbformat": 4,
 "nbformat_minor": 5
}
