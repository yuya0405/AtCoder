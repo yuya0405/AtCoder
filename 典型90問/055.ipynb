{
 "cells": [
  {
   "cell_type": "code",
   "execution_count": 20,
   "id": "a98972eb-44a9-4234-b4e3-38b4ae7ce4ff",
   "metadata": {},
   "outputs": [
    {
     "name": "stdin",
     "output_type": "stream",
     "text": [
      " 5 1 0\n",
      " 0 0 0 0 0 \n"
     ]
    }
   ],
   "source": [
    "N, P, Q = map(int, input().split())\n",
    "A = list(map(int, input().split()))"
   ]
  },
  {
   "cell_type": "code",
   "execution_count": 27,
   "id": "ed0aaf65-8ddd-42a8-b4d1-f28d50b3a01c",
   "metadata": {},
   "outputs": [
    {
     "name": "stdout",
     "output_type": "stream",
     "text": [
      "1\n"
     ]
    }
   ],
   "source": [
    "import itertools\n",
    "\n",
    "ans = 0\n",
    "COMB = itertools.combinations(A, 5)\n",
    "for comb in COMB:\n",
    "    tmp = 1\n",
    "    for c in comb:\n",
    "        tmp *= c\n",
    "        tmp %= P\n",
    "    \n",
    "    if tmp == Q:\n",
    "        ans += 1\n",
    "print (ans)"
   ]
  },
  {
   "cell_type": "code",
   "execution_count": null,
   "id": "f5efc8fa-f107-471c-895e-c64e8ebc7b81",
   "metadata": {},
   "outputs": [],
   "source": []
  }
 ],
 "metadata": {
  "kernelspec": {
   "display_name": "Python 3",
   "language": "python",
   "name": "python3"
  },
  "language_info": {
   "codemirror_mode": {
    "name": "ipython",
    "version": 3
   },
   "file_extension": ".py",
   "mimetype": "text/x-python",
   "name": "python",
   "nbconvert_exporter": "python",
   "pygments_lexer": "ipython3",
   "version": "3.8.8"
  }
 },
 "nbformat": 4,
 "nbformat_minor": 5
}
