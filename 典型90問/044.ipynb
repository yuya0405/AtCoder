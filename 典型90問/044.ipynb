{
 "cells": [
  {
   "cell_type": "code",
   "execution_count": 1,
   "id": "b3e6bb4c-1e89-4cc4-952b-b1f6ba03d2c6",
   "metadata": {},
   "outputs": [
    {
     "name": "stdin",
     "output_type": "stream",
     "text": [
      " 8 5\n",
      " 6 17 2 4 17 19 1 7\n",
      " 2 0 0\n",
      " 1 7 2\n",
      " 1 2 6\n",
      " 1 4 5\n",
      " 3 4 0\n"
     ]
    }
   ],
   "source": [
    "N, Q = map(int, input().split())\n",
    "A = list(map(int, input().split()))\n",
    "TXY = [list(map(int, input().split())) for _ in range(Q)]"
   ]
  },
  {
   "cell_type": "code",
   "execution_count": null,
   "id": "603eaa86-956e-4b92-b0a4-40ebabdd6e34",
   "metadata": {},
   "outputs": [],
   "source": []
  }
 ],
 "metadata": {
  "kernelspec": {
   "display_name": "Python 3",
   "language": "python",
   "name": "python3"
  },
  "language_info": {
   "codemirror_mode": {
    "name": "ipython",
    "version": 3
   },
   "file_extension": ".py",
   "mimetype": "text/x-python",
   "name": "python",
   "nbconvert_exporter": "python",
   "pygments_lexer": "ipython3",
   "version": "3.8.8"
  }
 },
 "nbformat": 4,
 "nbformat_minor": 5
}
