{
 "cells": [
  {
   "cell_type": "code",
   "execution_count": 22,
   "id": "6d891adc-a105-43c7-b0d9-164cd55b4d03",
   "metadata": {},
   "outputs": [
    {
     "name": "stdin",
     "output_type": "stream",
     "text": [
      " 7 18\n",
      " 7 2\n",
      " 1 6\n",
      " 5 2\n",
      " 1 3\n",
      " 7 6\n",
      " 5 3\n",
      " 5 6\n",
      " 5 4\n",
      " 1 7\n",
      " 2 6\n",
      " 3 4\n",
      " 5 1\n",
      " 4 7\n",
      " 4 6\n",
      " 5 7\n",
      " 3 2\n",
      " 4 2\n",
      " 1 4\n"
     ]
    }
   ],
   "source": [
    "N, M = map(int, input().split())\n",
    "AB = [list(map(int, input().split())) for _ in range(M)]"
   ]
  },
  {
   "cell_type": "code",
   "execution_count": 24,
   "id": "4942f79e-c6ff-4247-b59a-1f97c9ef75d1",
   "metadata": {},
   "outputs": [],
   "source": [
    "# AC（隣接リスト）\n",
    "\n",
    "G = [[] for _ in range(N)]\n",
    "for a, b in AB:\n",
    "    G[a-1].append(b-1)\n",
    "    G[b-1].append(a-1)\n",
    "\n",
    "ans = 0\n",
    "for i, nodes in enumerate(G):\n",
    "    tmp = 0\n",
    "    for node in nodes:\n",
    "        if node < i:\n",
    "            tmp += 1\n",
    "    if tmp == 1:\n",
    "        ans += 1\n",
    "print (ans)"
   ]
  },
  {
   "cell_type": "code",
   "execution_count": 25,
   "id": "ad83e3c6-fbe4-4186-a1a0-186fe6d0074d",
   "metadata": {},
   "outputs": [
    {
     "name": "stdout",
     "output_type": "stream",
     "text": [
      "0\n"
     ]
    }
   ],
   "source": [
    "# TLE（隣接行列）\n",
    "\n",
    "S = [[0]*N for _ in range(N)]\n",
    "for a, b in AB:\n",
    "    S[a-1][b-1] = 1\n",
    "    S[b-1][a-1] = 1\n",
    "\n",
    "ans = 0\n",
    "for i in range(N):\n",
    "    tmp = 0\n",
    "    for j in range(i+1):\n",
    "        tmp += S[i][j]\n",
    "    if tmp == 1:\n",
    "        ans += 1\n",
    "print (ans)"
   ]
  },
  {
   "cell_type": "code",
   "execution_count": null,
   "id": "fe46ce06-7c79-47fb-b019-9e51dc6a725e",
   "metadata": {},
   "outputs": [],
   "source": []
  }
 ],
 "metadata": {
  "kernelspec": {
   "display_name": "Python 3",
   "language": "python",
   "name": "python3"
  },
  "language_info": {
   "codemirror_mode": {
    "name": "ipython",
    "version": 3
   },
   "file_extension": ".py",
   "mimetype": "text/x-python",
   "name": "python",
   "nbconvert_exporter": "python",
   "pygments_lexer": "ipython3",
   "version": "3.8.8"
  }
 },
 "nbformat": 4,
 "nbformat_minor": 5
}
