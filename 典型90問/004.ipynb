{
 "cells": [
  {
   "cell_type": "code",
   "execution_count": 79,
   "metadata": {},
   "outputs": [
    {
     "name": "stdin",
     "output_type": "stream",
     "text": [
      " 2 10\n",
      " 31 41 59 26 53 58 97 93 23 84\n",
      " 62 64 33 83 27 95 2 88 41 97\n"
     ]
    },
    {
     "name": "stdout",
     "output_type": "stream",
     "text": [
      "627 629 598 648 592 660 567 653 606 662\n",
      "623 633 651 618 645 650 689 685 615 676\n"
     ]
    }
   ],
   "source": [
    "H, W = map(int, input().split())\n",
    "A = [list(map(int, input().split())) for _ in range(H)]\n",
    "\n",
    "row = [sum(w) for w in A]\n",
    "col = [sum(h) for h in zip(*A)]\n",
    "\n",
    "ans = [[row[h] + col[w] - A[h][w] for w in range(W)] for h in range(H)]\n",
    "\n",
    "for a in ans:\n",
    "    print (*a)"
   ]
  }
 ],
 "metadata": {
  "kernelspec": {
   "display_name": "Python 3",
   "language": "python",
   "name": "python3"
  },
  "language_info": {
   "codemirror_mode": {
    "name": "ipython",
    "version": 3
   },
   "file_extension": ".py",
   "mimetype": "text/x-python",
   "name": "python",
   "nbconvert_exporter": "python",
   "pygments_lexer": "ipython3",
   "version": "3.8.5"
  }
 },
 "nbformat": 4,
 "nbformat_minor": 4
}
