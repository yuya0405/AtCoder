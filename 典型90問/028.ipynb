{
 "cells": [
  {
   "cell_type": "code",
   "execution_count": 4,
   "metadata": {},
   "outputs": [
    {
     "name": "stdin",
     "output_type": "stream",
     "text": [
      " 2\n",
      " 1 1 3 2\n",
      " 2 1 4 2\n"
     ]
    }
   ],
   "source": [
    "N = int(input())\n",
    "LR = [list(map(int, input().split())) for _ in range(N)]"
   ]
  },
  {
   "cell_type": "code",
   "execution_count": 8,
   "metadata": {},
   "outputs": [],
   "source": [
    "lim = 10**3+5\n",
    "space = [[0] * lim for _ in range(lim)]\n",
    "\n",
    "for lx, ly, rx, ry in LR:\n",
    "    space[lx][ly] += 1\n",
    "    space[rx][ry] += 1\n",
    "    space[rx][ly] -= 1\n",
    "    space[lx][ry] -= 1\n",
    "\n",
    "for h in range(lim):\n",
    "    for w in range(lim-1):\n",
    "        space[h][w+1] += space[h][w]\n",
    "\n",
    "for w in range(lim):\n",
    "    for h in range(lim-1):\n",
    "        space[h+1][w] += space[h][w]"
   ]
  },
  {
   "cell_type": "code",
   "execution_count": 15,
   "metadata": {},
   "outputs": [
    {
     "name": "stdout",
     "output_type": "stream",
     "text": [
      "2\n",
      "1\n"
     ]
    }
   ],
   "source": [
    "# AC\n",
    "\n",
    "ans = [0 for _ in range(N+1)]\n",
    "\n",
    "for h in range(lim):\n",
    "    for w in range(lim):\n",
    "        ans[space[h][w]] += 1\n",
    "\n",
    "for k in range(1, N+1):\n",
    "    print (ans[k])"
   ]
  },
  {
   "cell_type": "code",
   "execution_count": 16,
   "metadata": {},
   "outputs": [
    {
     "name": "stdout",
     "output_type": "stream",
     "text": [
      "2\n",
      "1\n"
     ]
    }
   ],
   "source": [
    "# TLE inは遅い\n",
    "\n",
    "for k in range(1, N+1):\n",
    "    cnt = 0\n",
    "    for s in space:\n",
    "        cnt += s.count(k)\n",
    "    print (cnt)"
   ]
  },
  {
   "cell_type": "code",
   "execution_count": null,
   "metadata": {},
   "outputs": [],
   "source": []
  }
 ],
 "metadata": {
  "kernelspec": {
   "display_name": "Python 3",
   "language": "python",
   "name": "python3"
  },
  "language_info": {
   "codemirror_mode": {
    "name": "ipython",
    "version": 3
   },
   "file_extension": ".py",
   "mimetype": "text/x-python",
   "name": "python",
   "nbconvert_exporter": "python",
   "pygments_lexer": "ipython3",
   "version": "3.8.8"
  }
 },
 "nbformat": 4,
 "nbformat_minor": 4
}
