{
 "cells": [
  {
   "cell_type": "code",
   "execution_count": 69,
   "id": "5d259bb8-40d5-4bf7-970a-4dd19ec8d188",
   "metadata": {},
   "outputs": [
    {
     "name": "stdin",
     "output_type": "stream",
     "text": [
      " 10 99\n"
     ]
    }
   ],
   "source": [
    "L, R = map(int, input().split())"
   ]
  },
  {
   "cell_type": "code",
   "execution_count": 70,
   "id": "eef071e0-a684-4424-bb84-0d155180543a",
   "metadata": {},
   "outputs": [
    {
     "name": "stdout",
     "output_type": "stream",
     "text": [
      "2\n",
      "2\n"
     ]
    }
   ],
   "source": [
    "L_num = len(str(L))\n",
    "R_num = len(str(R))"
   ]
  },
  {
   "cell_type": "code",
   "execution_count": 71,
   "id": "f9e06668-8401-4198-825d-df6ccb12f9c5",
   "metadata": {},
   "outputs": [],
   "source": [
    "ans = 0"
   ]
  },
  {
   "cell_type": "code",
   "execution_count": 72,
   "id": "a446b56d-233f-4c5e-88ea-34589da5bea3",
   "metadata": {},
   "outputs": [],
   "source": [
    "if L_num == R_num:\n",
    "    ans += (L + R)*(R - L + 1)//2*L_num\n",
    "    ans %= 10**9+7\n",
    "else:\n",
    "    ans += (L + int(\"9\"*L_num))*(int(\"9\"*L_num) - L + 1)//2*L_num\n",
    "    ans %= 10**9+7\n",
    "    \n",
    "    ans += (10**(R_num-1) + R)*(R - 10**(R_num-1) + 1)//2*R_num\n",
    "    ans %= 10**9+7"
   ]
  },
  {
   "cell_type": "code",
   "execution_count": 73,
   "id": "d136b93f-dee2-40a6-8180-90685df461b1",
   "metadata": {},
   "outputs": [],
   "source": [
    "for i in range(L_num+1, R_num):\n",
    "    ans += (10**(i-1) + int(\"9\"*i))*(int(\"9\"*i) - 10**(i-1) + 1)//2*i\n",
    "    ans %= 10**9+7"
   ]
  },
  {
   "cell_type": "code",
   "execution_count": 74,
   "id": "c0fb2ce5-227c-411e-8c97-a5731acd739f",
   "metadata": {},
   "outputs": [
    {
     "name": "stdout",
     "output_type": "stream",
     "text": [
      "9810\n"
     ]
    }
   ],
   "source": [
    "print (ans)"
   ]
  },
  {
   "cell_type": "code",
   "execution_count": null,
   "id": "daac4e53-1745-464d-9a3b-c665c5aa50be",
   "metadata": {},
   "outputs": [],
   "source": []
  }
 ],
 "metadata": {
  "kernelspec": {
   "display_name": "Python 3",
   "language": "python",
   "name": "python3"
  },
  "language_info": {
   "codemirror_mode": {
    "name": "ipython",
    "version": 3
   },
   "file_extension": ".py",
   "mimetype": "text/x-python",
   "name": "python",
   "nbconvert_exporter": "python",
   "pygments_lexer": "ipython3",
   "version": "3.8.8"
  }
 },
 "nbformat": 4,
 "nbformat_minor": 5
}
