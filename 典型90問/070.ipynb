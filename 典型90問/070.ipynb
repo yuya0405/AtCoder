{
 "cells": [
  {
   "cell_type": "code",
   "execution_count": 21,
   "id": "f786f285-1268-4b86-83d1-47abbe575c9b",
   "metadata": {},
   "outputs": [
    {
     "name": "stdin",
     "output_type": "stream",
     "text": [
      " 4\n",
      " 1000000000 1000000000\n",
      " -1000000000 1000000000\n",
      " -1000000000 -1000000000\n",
      " 1000000000 -1000000000\n"
     ]
    }
   ],
   "source": [
    "N = int(input())\n",
    "XY = [list(map(int, input().split())) for _ in range(N)]"
   ]
  },
  {
   "cell_type": "code",
   "execution_count": 22,
   "id": "80c107c3-79e9-478f-812a-9c5817fb007b",
   "metadata": {},
   "outputs": [],
   "source": [
    "X = [x for x, y in XY]\n",
    "X.sort()\n",
    "Y = [y for x, y in XY]\n",
    "Y.sort()"
   ]
  },
  {
   "cell_type": "code",
   "execution_count": 23,
   "id": "7eba3d0c-b377-40bf-9593-228f31620dc5",
   "metadata": {},
   "outputs": [
    {
     "data": {
      "text/plain": [
       "[-1000000000, -1000000000, 1000000000, 1000000000]"
      ]
     },
     "execution_count": 23,
     "metadata": {},
     "output_type": "execute_result"
    }
   ],
   "source": [
    "X"
   ]
  },
  {
   "cell_type": "code",
   "execution_count": 24,
   "id": "3e420bd3-3114-4394-929f-3a8051bfbd91",
   "metadata": {},
   "outputs": [
    {
     "data": {
      "text/plain": [
       "[-1000000000, -1000000000, 1000000000, 1000000000]"
      ]
     },
     "execution_count": 24,
     "metadata": {},
     "output_type": "execute_result"
    }
   ],
   "source": [
    "Y"
   ]
  },
  {
   "cell_type": "code",
   "execution_count": 30,
   "id": "f2439d59-471c-4f16-b054-4da72ef6f509",
   "metadata": {},
   "outputs": [
    {
     "data": {
      "text/plain": [
       "[1000000000, 1000000000]"
      ]
     },
     "execution_count": 30,
     "metadata": {},
     "output_type": "execute_result"
    }
   ],
   "source": [
    "pos = [X[N//2], Y[N//2]]\n",
    "pos"
   ]
  },
  {
   "cell_type": "code",
   "execution_count": 31,
   "id": "c0f5cb0d-fd9d-4824-ad54-f68af4fb8516",
   "metadata": {},
   "outputs": [
    {
     "data": {
      "text/plain": [
       "8000000000"
      ]
     },
     "execution_count": 31,
     "metadata": {},
     "output_type": "execute_result"
    }
   ],
   "source": [
    "ans = 0\n",
    "for x, y in XY:\n",
    "    ans += (abs(pos[0]-x) + abs(pos[1]-y))\n",
    "print (ans)"
   ]
  },
  {
   "cell_type": "code",
   "execution_count": null,
   "id": "50251be8-22ab-4655-a718-d61dee18891e",
   "metadata": {},
   "outputs": [],
   "source": []
  }
 ],
 "metadata": {
  "kernelspec": {
   "display_name": "Python 3",
   "language": "python",
   "name": "python3"
  },
  "language_info": {
   "codemirror_mode": {
    "name": "ipython",
    "version": 3
   },
   "file_extension": ".py",
   "mimetype": "text/x-python",
   "name": "python",
   "nbconvert_exporter": "python",
   "pygments_lexer": "ipython3",
   "version": "3.8.8"
  }
 },
 "nbformat": 4,
 "nbformat_minor": 5
}
