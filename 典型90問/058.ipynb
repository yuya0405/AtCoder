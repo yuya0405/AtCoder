{
 "cells": [
  {
   "cell_type": "code",
   "execution_count": 23,
   "id": "96b9af7b-089f-4ffe-94ef-a71eba55ee0f",
   "metadata": {},
   "outputs": [
    {
     "name": "stdin",
     "output_type": "stream",
     "text": [
      " 1 10\n"
     ]
    }
   ],
   "source": [
    "N, K = map(int, input().split())"
   ]
  },
  {
   "cell_type": "code",
   "execution_count": 24,
   "id": "587341ec-39e2-46ef-8c72-c81513dd789a",
   "metadata": {},
   "outputs": [
    {
     "name": "stdout",
     "output_type": "stream",
     "text": [
      "2\n",
      "4\n",
      "8\n",
      "16\n",
      "23\n",
      "28\n",
      "38\n",
      "49\n",
      "62\n",
      "70\n"
     ]
    }
   ],
   "source": [
    "for k in range(K):\n",
    "    y = 0\n",
    "    for n in str(N):\n",
    "        y += int(n)\n",
    "    z = N+y\n",
    "    z %= 10**5\n",
    "    N = z\n",
    "    print (N)"
   ]
  },
  {
   "cell_type": "code",
   "execution_count": null,
   "id": "498526d3-8dd6-421f-a51d-d185102a6a8d",
   "metadata": {},
   "outputs": [],
   "source": []
  }
 ],
 "metadata": {
  "kernelspec": {
   "display_name": "Python 3",
   "language": "python",
   "name": "python3"
  },
  "language_info": {
   "codemirror_mode": {
    "name": "ipython",
    "version": 3
   },
   "file_extension": ".py",
   "mimetype": "text/x-python",
   "name": "python",
   "nbconvert_exporter": "python",
   "pygments_lexer": "ipython3",
   "version": "3.8.8"
  }
 },
 "nbformat": 4,
 "nbformat_minor": 5
}
