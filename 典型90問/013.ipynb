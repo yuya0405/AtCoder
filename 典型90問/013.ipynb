{
 "cells": [
  {
   "cell_type": "code",
   "execution_count": 22,
   "id": "1ac62624-ebb4-40fc-9d64-68537ca7976f",
   "metadata": {},
   "outputs": [
    {
     "name": "stdin",
     "output_type": "stream",
     "text": [
      " 4 3\n",
      " 1 2 314\n",
      " 1 3 159\n",
      " 1 4 265\n"
     ]
    }
   ],
   "source": [
    "N, M = map(int, input().split())\n",
    "ABC = [list(map(int, input().split())) for _ in range(M)]"
   ]
  },
  {
   "cell_type": "code",
   "execution_count": 23,
   "id": "75f29051-c2ba-4256-9470-fcd4b009c755",
   "metadata": {},
   "outputs": [
    {
     "data": {
      "text/plain": [
       "[[(1, 314), (2, 159), (3, 265)], [(0, 314)], [(0, 159)], [(0, 265)]]"
      ]
     },
     "execution_count": 23,
     "metadata": {},
     "output_type": "execute_result"
    }
   ],
   "source": [
    "from heapq import heappush, heappop\n",
    "INF = 10 ** 9\n",
    "def dijkstra(s, n): # (始点, ノード数)\n",
    "    dist = [INF] * n\n",
    "    hq = [(0, s)] # (distance, node)\n",
    "    dist[s] = 0\n",
    "    seen = [False] * n # ノードが確定済みかどうか\n",
    "    while hq:\n",
    "        v = heappop(hq)[1] # ノードを pop する\n",
    "        seen[v] = True\n",
    "        for to, cost in adj[v]: # ノード v に隣接しているノードに対して\n",
    "            if seen[to] == False and dist[v] + cost < dist[to]:\n",
    "                dist[to] = dist[v] + cost\n",
    "                heappush(hq, (dist[to], to))\n",
    "    return dist\n",
    "\n",
    "# ノード数, エッジ数, 始点ノード\n",
    "v, e, r = N, M, 0\n",
    "\n",
    "# adj[s]: ノード s に隣接する(ノード, 重み)をリストで持つ\n",
    "adj = [[] for _ in range(v)]\n",
    "for a, b, c in ABC:\n",
    "    adj[a-1].append((b-1, c))\n",
    "    adj[b-1].append((a-1, c))\n",
    "adj"
   ]
  },
  {
   "cell_type": "code",
   "execution_count": 32,
   "id": "1d8e6248-a152-47b9-9d21-3762aa136fe0",
   "metadata": {},
   "outputs": [
    {
     "name": "stdout",
     "output_type": "stream",
     "text": [
      "265\n",
      "893\n",
      "583\n",
      "265\n"
     ]
    }
   ],
   "source": [
    "# AC\n",
    "\n",
    "D1 = dijkstra(0, N)\n",
    "D2 = dijkstra(N-1, N)\n",
    "for k in range(N):\n",
    "    print (D1[k]+D2[k])"
   ]
  },
  {
   "cell_type": "code",
   "execution_count": 25,
   "id": "a192c636-1cbb-462f-a89e-de4695d0e3d6",
   "metadata": {},
   "outputs": [],
   "source": [
    "# TLE\n",
    "\n",
    "D1 = dijkstra(0, N)\n",
    "\n",
    "for k in range(N):\n",
    "    D2 = dijkstra(k, N)\n",
    "    print (D1[k] + D2[N-1])"
   ]
  },
  {
   "cell_type": "code",
   "execution_count": null,
   "id": "35c68a65-4df0-4ba3-80a8-24895ad9ca62",
   "metadata": {},
   "outputs": [],
   "source": []
  }
 ],
 "metadata": {
  "kernelspec": {
   "display_name": "Python 3",
   "language": "python",
   "name": "python3"
  },
  "language_info": {
   "codemirror_mode": {
    "name": "ipython",
    "version": 3
   },
   "file_extension": ".py",
   "mimetype": "text/x-python",
   "name": "python",
   "nbconvert_exporter": "python",
   "pygments_lexer": "ipython3",
   "version": "3.8.8"
  }
 },
 "nbformat": 4,
 "nbformat_minor": 5
}
