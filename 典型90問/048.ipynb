{
 "cells": [
  {
   "cell_type": "code",
   "execution_count": 26,
   "id": "4e570954-fe20-410f-b92b-0ee0a2da1e23",
   "metadata": {},
   "outputs": [
    {
     "name": "stdin",
     "output_type": "stream",
     "text": [
      " 2 2\n",
      " 7 6\n",
      " 3 2\n"
     ]
    }
   ],
   "source": [
    "N, K = map(int, input().split())\n",
    "AB = [list(map(int, input().split())) for _ in range(N)]"
   ]
  },
  {
   "cell_type": "code",
   "execution_count": 27,
   "id": "108cf65b-e640-4e6a-a971-d0811a4ea7aa",
   "metadata": {},
   "outputs": [],
   "source": [
    "tmp = [(b, a-b) for a, b in AB]\n",
    "score = []\n",
    "for t in tmp:\n",
    "    score.extend(t)\n",
    "score.sort(reverse=True)"
   ]
  },
  {
   "cell_type": "code",
   "execution_count": 28,
   "id": "cfd595ff-88bb-45d4-9822-238e6ad0f4f9",
   "metadata": {},
   "outputs": [
    {
     "name": "stdout",
     "output_type": "stream",
     "text": [
      "8\n"
     ]
    }
   ],
   "source": [
    "print (sum(score[:K]))"
   ]
  },
  {
   "cell_type": "code",
   "execution_count": null,
   "id": "8baf0af5-7886-4627-870e-0b78b1239185",
   "metadata": {},
   "outputs": [],
   "source": []
  }
 ],
 "metadata": {
  "kernelspec": {
   "display_name": "Python 3",
   "language": "python",
   "name": "python3"
  },
  "language_info": {
   "codemirror_mode": {
    "name": "ipython",
    "version": 3
   },
   "file_extension": ".py",
   "mimetype": "text/x-python",
   "name": "python",
   "nbconvert_exporter": "python",
   "pygments_lexer": "ipython3",
   "version": "3.8.8"
  }
 },
 "nbformat": 4,
 "nbformat_minor": 5
}
