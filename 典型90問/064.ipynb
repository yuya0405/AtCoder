{
 "cells": [
  {
   "cell_type": "code",
   "execution_count": 10,
   "id": "ab8830dd-49ff-4155-a2de-31fe89d743c9",
   "metadata": {},
   "outputs": [
    {
     "name": "stdin",
     "output_type": "stream",
     "text": [
      " 20 10\n",
      " 61 51 92 -100 -89 -65 -89 -64 -74 7 87 -2 51 -39 -50 63 -23 36 74 37\n",
      " 2 2 -45\n",
      " 6 19 82\n",
      " 2 9 36\n",
      " 7 13 71\n",
      " 16 20 90\n",
      " 18 20 -24\n",
      " 14 17 -78\n",
      " 10 11 -55\n",
      " 7 19 -26\n",
      " 20 20 -7\n"
     ]
    }
   ],
   "source": [
    "N, Q = map(int, input().split())\n",
    "A = list(map(int, input().split()))\n",
    "LRV = [list(map(int, input().split())) for _ in range(Q)]"
   ]
  },
  {
   "cell_type": "code",
   "execution_count": 106,
   "id": "2246171b-ea6b-4585-9135-3884d2cb23b1",
   "metadata": {},
   "outputs": [
    {
     "data": {
      "text/plain": [
       "1074"
      ]
     },
     "execution_count": 106,
     "metadata": {},
     "output_type": "execute_result"
    }
   ],
   "source": [
    "steps = [A[i+1]-A[i] for i in range(N-1)]\n",
    "ans = sum([abs(A[i+1]-A[i]) for i in range(N-1)])\n",
    "ans"
   ]
  },
  {
   "cell_type": "code",
   "execution_count": 115,
   "id": "0c666275-a3e6-43e1-bcb4-6f0cbcc8513b",
   "metadata": {},
   "outputs": [
    {
     "name": "stdout",
     "output_type": "stream",
     "text": [
      "2379\n"
     ]
    },
    {
     "ename": "IndexError",
     "evalue": "list assignment index out of range",
     "output_type": "error",
     "traceback": [
      "\u001b[0;31m---------------------------------------------------------------------------\u001b[0m",
      "\u001b[0;31mIndexError\u001b[0m                                Traceback (most recent call last)",
      "\u001b[0;32m<ipython-input-115-dcd9214c2cb1>\u001b[0m in \u001b[0;36m<module>\u001b[0;34m\u001b[0m\n\u001b[1;32m      8\u001b[0m         \u001b[0mpre\u001b[0m \u001b[0;34m+=\u001b[0m \u001b[0mabs\u001b[0m\u001b[0;34m(\u001b[0m\u001b[0msteps\u001b[0m\u001b[0;34m[\u001b[0m\u001b[0mr\u001b[0m\u001b[0;34m]\u001b[0m\u001b[0;34m)\u001b[0m\u001b[0;34m\u001b[0m\u001b[0;34m\u001b[0m\u001b[0m\n\u001b[1;32m      9\u001b[0m \u001b[0;34m\u001b[0m\u001b[0m\n\u001b[0;32m---> 10\u001b[0;31m     \u001b[0msteps\u001b[0m\u001b[0;34m[\u001b[0m\u001b[0ml\u001b[0m\u001b[0;34m-\u001b[0m\u001b[0;36m1\u001b[0m\u001b[0;34m]\u001b[0m\u001b[0;34m,\u001b[0m \u001b[0msteps\u001b[0m\u001b[0;34m[\u001b[0m\u001b[0mr\u001b[0m\u001b[0;34m]\u001b[0m \u001b[0;34m=\u001b[0m \u001b[0;36m0\u001b[0m\u001b[0;34m,\u001b[0m \u001b[0;36m0\u001b[0m\u001b[0;34m\u001b[0m\u001b[0;34m\u001b[0m\u001b[0m\n\u001b[0m\u001b[1;32m     11\u001b[0m     \u001b[0;32mif\u001b[0m \u001b[0ml\u001b[0m \u001b[0;34m>=\u001b[0m \u001b[0;36m2\u001b[0m\u001b[0;34m:\u001b[0m\u001b[0;34m\u001b[0m\u001b[0;34m\u001b[0m\u001b[0m\n\u001b[1;32m     12\u001b[0m         \u001b[0msteps\u001b[0m\u001b[0;34m[\u001b[0m\u001b[0ml\u001b[0m\u001b[0;34m-\u001b[0m\u001b[0;36m1\u001b[0m\u001b[0;34m]\u001b[0m \u001b[0;34m+=\u001b[0m \u001b[0mv\u001b[0m\u001b[0;34m\u001b[0m\u001b[0;34m\u001b[0m\u001b[0m\n",
      "\u001b[0;31mIndexError\u001b[0m: list assignment index out of range"
     ]
    }
   ],
   "source": [
    "# AC\n",
    "\n",
    "for l, r, v in LRV:\n",
    "    pre = 0\n",
    "    if l >= 2:\n",
    "        pre += abs(steps[l-1])\n",
    "    if r <= N-2:\n",
    "        pre += abs(steps[r])\n",
    "    \n",
    "    steps[l-1], steps[r] = 0, 0\n",
    "    if l >= 2:\n",
    "        steps[l-1] += v\n",
    "    if r <= N-2:\n",
    "        steps[r] -= v\n",
    "    \n",
    "    now = 0\n",
    "    if l >= 2:\n",
    "        now += abs(steps[l-1])\n",
    "    if r <= N-2:\n",
    "        now += abs(steps[r])\n",
    "    \n",
    "    ans += (now - pre)\n",
    "    print (ans)"
   ]
  },
  {
   "cell_type": "code",
   "execution_count": 90,
   "id": "83ec44c4-6f69-459d-be15-0756ba883f95",
   "metadata": {},
   "outputs": [
    {
     "name": "stdout",
     "output_type": "stream",
     "text": [
      "1164\n",
      "1328\n",
      "1418\n",
      "1536\n",
      "1626\n",
      "1661\n",
      "1817\n",
      "1868\n",
      "1983\n",
      "1983\n"
     ]
    }
   ],
   "source": [
    "# WA？？？\n",
    "\n",
    "for l, r, v in LRV:\n",
    "    if l != N:\n",
    "        if steps[l-2] * v > 0:\n",
    "            ans += abs(v)\n",
    "        else:\n",
    "            ans += abs(steps[l-2] + v)\n",
    "    # stepsの更新？？？\n",
    "    \n",
    "    if r != N:\n",
    "        if steps[r-2] * v > 0:\n",
    "            ans += abs(v)\n",
    "        else:\n",
    "            ans += abs(steps[r-2] + v)\n",
    "    # stepsの更新？？？\n",
    "    \n",
    "    print (ans)"
   ]
  },
  {
   "cell_type": "code",
   "execution_count": null,
   "id": "bc53592c-4622-4bb3-ab57-4d74116c803f",
   "metadata": {},
   "outputs": [],
   "source": []
  }
 ],
 "metadata": {
  "kernelspec": {
   "display_name": "Python 3",
   "language": "python",
   "name": "python3"
  },
  "language_info": {
   "codemirror_mode": {
    "name": "ipython",
    "version": 3
   },
   "file_extension": ".py",
   "mimetype": "text/x-python",
   "name": "python",
   "nbconvert_exporter": "python",
   "pygments_lexer": "ipython3",
   "version": "3.8.8"
  }
 },
 "nbformat": 4,
 "nbformat_minor": 5
}
