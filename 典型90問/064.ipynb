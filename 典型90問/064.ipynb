{
 "cells": [
  {
   "cell_type": "code",
   "execution_count": 2,
   "id": "ab8830dd-49ff-4155-a2de-31fe89d743c9",
   "metadata": {},
   "outputs": [
    {
     "name": "stdin",
     "output_type": "stream",
     "text": [
      " 3 3\n",
      " 1 2 3\n",
      " 2 3 1\n",
      " 1 2 -1\n",
      " 1 3 2\n"
     ]
    }
   ],
   "source": [
    "N, Q = map(int, input().split())\n",
    "A = list(map(int, input().split()))\n",
    "LRV = [list(map(int, input().split())) for _ in range(Q)]"
   ]
  },
  {
   "cell_type": "code",
   "execution_count": 70,
   "id": "2246171b-ea6b-4585-9135-3884d2cb23b1",
   "metadata": {},
   "outputs": [
    {
     "data": {
      "text/plain": [
       "2"
      ]
     },
     "execution_count": 70,
     "metadata": {},
     "output_type": "execute_result"
    }
   ],
   "source": [
    "steps = [A[i+1]-A[i] for i in range(N-1)]\n",
    "ans = sum([abs(A[i+1]-A[i]) for i in range(N-1)])\n",
    "ans"
   ]
  },
  {
   "cell_type": "code",
   "execution_count": 71,
   "id": "a0520095-9b6f-4c83-b3ef-d947737b908f",
   "metadata": {},
   "outputs": [
    {
     "name": "stdout",
     "output_type": "stream",
     "text": [
      "3\n",
      "4\n",
      "4\n"
     ]
    }
   ],
   "source": [
    "# 解説AC\n",
    "\n",
    "for l, r, v in LRV:\n",
    "    if l >= 2:\n",
    "        ans -= abs(steps[l-2])\n",
    "        steps[l-2] += v\n",
    "        ans += abs(steps[l-2])\n",
    "    if r <= N-1:\n",
    "        ans -= abs(steps[r-1])\n",
    "        steps[r-1] -= v\n",
    "        ans += abs(steps[r-1])\n",
    "    print (ans)"
   ]
  },
  {
   "cell_type": "code",
   "execution_count": 60,
   "id": "0c666275-a3e6-43e1-bcb4-6f0cbcc8513b",
   "metadata": {},
   "outputs": [
    {
     "name": "stdout",
     "output_type": "stream",
     "text": [
      "2 3 1\n"
     ]
    },
    {
     "ename": "IndexError",
     "evalue": "list assignment index out of range",
     "output_type": "error",
     "traceback": [
      "\u001b[0;31m---------------------------------------------------------------------------\u001b[0m",
      "\u001b[0;31mIndexError\u001b[0m                                Traceback (most recent call last)",
      "\u001b[0;32m<ipython-input-60-5600eb243a5c>\u001b[0m in \u001b[0;36m<module>\u001b[0;34m\u001b[0m\n\u001b[1;32m      7\u001b[0m         \u001b[0mpre\u001b[0m \u001b[0;34m+=\u001b[0m \u001b[0mabs\u001b[0m\u001b[0;34m(\u001b[0m\u001b[0msteps\u001b[0m\u001b[0;34m[\u001b[0m\u001b[0mr\u001b[0m\u001b[0;34m]\u001b[0m\u001b[0;34m)\u001b[0m\u001b[0;34m\u001b[0m\u001b[0;34m\u001b[0m\u001b[0m\n\u001b[1;32m      8\u001b[0m \u001b[0;34m\u001b[0m\u001b[0m\n\u001b[0;32m----> 9\u001b[0;31m     \u001b[0msteps\u001b[0m\u001b[0;34m[\u001b[0m\u001b[0ml\u001b[0m\u001b[0;34m-\u001b[0m\u001b[0;36m1\u001b[0m\u001b[0;34m]\u001b[0m\u001b[0;34m,\u001b[0m \u001b[0msteps\u001b[0m\u001b[0;34m[\u001b[0m\u001b[0mr\u001b[0m\u001b[0;34m]\u001b[0m \u001b[0;34m=\u001b[0m \u001b[0;36m0\u001b[0m\u001b[0;34m,\u001b[0m \u001b[0;36m0\u001b[0m\u001b[0;34m\u001b[0m\u001b[0;34m\u001b[0m\u001b[0m\n\u001b[0m\u001b[1;32m     10\u001b[0m     \u001b[0;32mif\u001b[0m \u001b[0ml\u001b[0m \u001b[0;34m>=\u001b[0m \u001b[0;36m1\u001b[0m\u001b[0;34m:\u001b[0m\u001b[0;34m\u001b[0m\u001b[0;34m\u001b[0m\u001b[0m\n\u001b[1;32m     11\u001b[0m         \u001b[0msteps\u001b[0m\u001b[0;34m[\u001b[0m\u001b[0ml\u001b[0m\u001b[0;34m-\u001b[0m\u001b[0;36m1\u001b[0m\u001b[0;34m]\u001b[0m \u001b[0;34m+=\u001b[0m \u001b[0mv\u001b[0m\u001b[0;34m\u001b[0m\u001b[0;34m\u001b[0m\u001b[0m\n",
      "\u001b[0;31mIndexError\u001b[0m: list assignment index out of range"
     ]
    }
   ],
   "source": [
    "# WA？？？\n",
    "\n",
    "for l, r, v in LRV:\n",
    "    print (l, r, v)\n",
    "    pre = 0\n",
    "    if l >= 1:\n",
    "        pre += abs(steps[l-1])\n",
    "    if r <= N-2:\n",
    "        pre += abs(steps[r])\n",
    "    \n",
    "    # steps[l-1], steps[r] = 0, 0\n",
    "    if l >= 1:\n",
    "        steps[l-1] += v\n",
    "        print (steps[l-1])\n",
    "    if r <= N-2:\n",
    "        steps[r] -= v\n",
    "        print (steps[r])\n",
    "    \n",
    "    now = 0\n",
    "    if l >= 1:\n",
    "        now += abs(steps[l-1])\n",
    "    if r <= N-2:\n",
    "        now += abs(steps[r])\n",
    "    \n",
    "    ans += (now - pre)"
   ]
  },
  {
   "cell_type": "code",
   "execution_count": null,
   "id": "bc53592c-4622-4bb3-ab57-4d74116c803f",
   "metadata": {},
   "outputs": [],
   "source": []
  }
 ],
 "metadata": {
  "kernelspec": {
   "display_name": "Python 3",
   "language": "python",
   "name": "python3"
  },
  "language_info": {
   "codemirror_mode": {
    "name": "ipython",
    "version": 3
   },
   "file_extension": ".py",
   "mimetype": "text/x-python",
   "name": "python",
   "nbconvert_exporter": "python",
   "pygments_lexer": "ipython3",
   "version": "3.8.8"
  }
 },
 "nbformat": 4,
 "nbformat_minor": 5
}
