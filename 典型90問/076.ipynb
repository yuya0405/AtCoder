{
 "cells": [
  {
   "cell_type": "code",
   "execution_count": 38,
   "id": "2eb4a1f9-6fd7-4422-9b6e-dc37e9ac41d0",
   "metadata": {},
   "outputs": [
    {
     "name": "stdin",
     "output_type": "stream",
     "text": [
      " 5\n",
      " 1 30 30 30 9\n"
     ]
    }
   ],
   "source": [
    "N = int(input())\n",
    "A = list(map(int, input().split()))"
   ]
  },
  {
   "cell_type": "code",
   "execution_count": 36,
   "id": "77faccd5-1477-4621-bd39-219c8a93b3dd",
   "metadata": {},
   "outputs": [
    {
     "name": "stdout",
     "output_type": "stream",
     "text": [
      "Yes\n"
     ]
    }
   ],
   "source": [
    "# 模範解答\n",
    "\n",
    "def ok(n, a):\n",
    "    s = sum(a)\n",
    "    # 合計が10で割り切れなければNG\n",
    "    if s%10: return False\n",
    "    # N番目と1番目が連続する可能性があるので、配列を2つつなげる\n",
    "    a += a\n",
    "    # しゃくとり法で和が全体の1/10になる区間を探す\n",
    "    now, l = s, 0\n",
    "    s //= 10\n",
    "    for r in range(n, n*2):\n",
    "        now += a[r]\n",
    "        while now > s:\n",
    "            now -= a[l]\n",
    "            l += 1\n",
    "        if now == s: return True\n",
    "    return False\n",
    "\n",
    "print(\"Yes\" if ok(N, A) else \"No\")"
   ]
  },
  {
   "cell_type": "code",
   "execution_count": 39,
   "id": "6dcf9d92-1378-46b5-bc7a-cb70fd1f1809",
   "metadata": {},
   "outputs": [
    {
     "name": "stdout",
     "output_type": "stream",
     "text": [
      "Yes\n"
     ]
    }
   ],
   "source": [
    "# AC（ベター）\n",
    "\n",
    "whole = sum(A)\n",
    "if whole%10 != 0:\n",
    "    print (\"No\")\n",
    "    exit()\n",
    "    \n",
    "from collections import deque\n",
    "\n",
    "que = deque(A)\n",
    "flag = False\n",
    "now = sum(A)\n",
    "for a in A:\n",
    "    que.append(a)  ## dequeの右端に要素を一つ追加する。\n",
    "    now += a\n",
    "\n",
    "    while que and now > whole//10:\n",
    "        rm = que.popleft() ## 条件を満たさないのでdequeの左端から要素を取り除く\n",
    "        now -= rm\n",
    "    \n",
    "    if now == whole//10:\n",
    "        print (\"Yes\")\n",
    "        flag = True\n",
    "        break\n",
    "\n",
    "if flag == False:\n",
    "    print (\"No\")"
   ]
  },
  {
   "cell_type": "code",
   "execution_count": 40,
   "id": "e48bfed7-0158-4381-b8c9-6886ff7b3e3d",
   "metadata": {},
   "outputs": [
    {
     "name": "stdout",
     "output_type": "stream",
     "text": [
      "Yes\n"
     ]
    }
   ],
   "source": [
    "# AC（計算に2倍かかる）\n",
    "\n",
    "whole = sum(A)\n",
    "if whole%10 != 0:\n",
    "    print (\"No\")\n",
    "    exit()\n",
    "    \n",
    "from collections import deque\n",
    "\n",
    "B = A + A\n",
    "\n",
    "que = deque()\n",
    "flag = False\n",
    "now = 0\n",
    "for b in B:\n",
    "    que.append(b)  ## dequeの右端に要素を一つ追加する。\n",
    "    now += b\n",
    "\n",
    "    while que and now > whole//10:\n",
    "        rm = que.popleft() ## 条件を満たさないのでdequeの左端から要素を取り除く\n",
    "        now -= rm\n",
    "    \n",
    "    if now == whole//10:\n",
    "        print (\"Yes\")\n",
    "        flag = True\n",
    "        break\n",
    "\n",
    "if flag == False:\n",
    "    print (\"No\")"
   ]
  },
  {
   "cell_type": "code",
   "execution_count": 22,
   "id": "4a8c913a-1cbc-4461-a8a4-782623d65ca1",
   "metadata": {},
   "outputs": [
    {
     "name": "stdout",
     "output_type": "stream",
     "text": [
      "No\n"
     ]
    }
   ],
   "source": [
    "# WA（sum(que)にO(N)かかるので全体でO(N*N)）\n",
    "\n",
    "whole = sum(A)\n",
    "if whole%10 != 0:\n",
    "    print (\"No\")\n",
    "    exit()\n",
    "    \n",
    "B = A + A\n",
    "\n",
    "from collections import deque\n",
    "\n",
    "que = deque()\n",
    "flag = False\n",
    "for b in B:\n",
    "    que.append(b)  ## dequeの右端に要素を一つ追加する。\n",
    "\n",
    "    while que and sum(que) > whole//10:\n",
    "        rm = que.popleft() ## 条件を満たさないのでdequeの左端から要素を取り除く\n",
    "    \n",
    "    if sum(que) == whole//10:\n",
    "        print (\"Yes\")\n",
    "        flag = True\n",
    "        break\n",
    "\n",
    "if flag == False:\n",
    "    print (\"No\")"
   ]
  },
  {
   "cell_type": "code",
   "execution_count": null,
   "id": "9d7911ae-2241-48da-81c5-ec6ef4cde23d",
   "metadata": {},
   "outputs": [],
   "source": []
  }
 ],
 "metadata": {
  "kernelspec": {
   "display_name": "Python 3",
   "language": "python",
   "name": "python3"
  },
  "language_info": {
   "codemirror_mode": {
    "name": "ipython",
    "version": 3
   },
   "file_extension": ".py",
   "mimetype": "text/x-python",
   "name": "python",
   "nbconvert_exporter": "python",
   "pygments_lexer": "ipython3",
   "version": "3.8.8"
  }
 },
 "nbformat": 4,
 "nbformat_minor": 5
}
