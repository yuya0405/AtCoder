{
 "cells": [
  {
   "cell_type": "code",
   "execution_count": 66,
   "metadata": {},
   "outputs": [
    {
     "name": "stdin",
     "output_type": "stream",
     "text": [
      " 1 1\n",
      " 3\n",
      " 2 1 1 1 1\n",
      " 1 1 1\n",
      " 2 1 1 1 1\n"
     ]
    }
   ],
   "source": [
    "H, W = map(int, input().split())\n",
    "Q = int(input())\n",
    "queries = [list(map(int, input().split())) for _ in range(Q)]"
   ]
  },
  {
   "cell_type": "code",
   "execution_count": 67,
   "metadata": {},
   "outputs": [],
   "source": [
    "# AC\n",
    "\n",
    "# 参考：ABC231D\n",
    "\n",
    "import sys\n",
    "sys.setrecursionlimit(10**7)\n",
    "\n",
    "class UnionFind():\n",
    "    # 初期化\n",
    "    def __init__(self, n):\n",
    "        self.par = [-1] * n\n",
    "        self.rank = [0] * n\n",
    "        self.siz = [1] * n\n",
    "\n",
    "    # 根を求める\n",
    "    def root(self, x):\n",
    "        if self.par[x] == -1: return x # x が根の場合は x を返す\n",
    "        else:\n",
    "            self.par[x] = self.root(self.par[x]) # 経路圧縮\n",
    "            return self.par[x]\n",
    "\n",
    "    # x と y が同じグループに属するか (根が一致するか)\n",
    "    def issame(self, x, y):\n",
    "        return self.root(x) == self.root(y)\n",
    "\n",
    "    # x を含むグループと y を含むグループを併合する\n",
    "    def unite(self, x, y):\n",
    "        # x 側と y 側の根を取得する\n",
    "        rx = self.root(x)\n",
    "        ry = self.root(y)\n",
    "        if rx == ry: return False # すでに同じグループのときは何もしない\n",
    "        # union by rank\n",
    "        if self.rank[rx] > self.rank[ry]: # ry 側の rank が小さくなるようにする\n",
    "            rx, ry = ry, rx\n",
    "        self.par[ry] = rx # ry を rx の子とする\n",
    "        if self.rank[rx] == self.rank[ry]: # rx 側の rank を調整する\n",
    "            self.rank[rx] += 1\n",
    "        self.siz[rx] += self.siz[ry] # rx 側の siz を調整する\n",
    "        return True\n",
    "\n",
    "    # x を含む根付き木のサイズを求める\n",
    "    def size(self, x):\n",
    "        return siz[root(x)]"
   ]
  },
  {
   "cell_type": "code",
   "execution_count": 68,
   "metadata": {},
   "outputs": [
    {
     "data": {
      "text/plain": [
       "[[0]]"
      ]
     },
     "execution_count": 68,
     "metadata": {},
     "output_type": "execute_result"
    }
   ],
   "source": [
    "S = [[0] * W for w in range(H)]\n",
    "S"
   ]
  },
  {
   "cell_type": "code",
   "execution_count": 69,
   "metadata": {},
   "outputs": [],
   "source": [
    "# 四方向への移動を表すベクトル\n",
    "# 0: 下、1: 右、2: 上、3: 左\n",
    "dxs = [1, 0, -1, 0]\n",
    "dys = [0, 1, 0, -1]"
   ]
  },
  {
   "cell_type": "code",
   "execution_count": 70,
   "metadata": {},
   "outputs": [
    {
     "name": "stdout",
     "output_type": "stream",
     "text": [
      "No\n",
      "Yes\n"
     ]
    }
   ],
   "source": [
    "uf = UnionFind(H*W)\n",
    "\n",
    "for query in queries:\n",
    "    if query[0] == 1:\n",
    "        r, c = query[1:]\n",
    "        r -= 1\n",
    "        c -= 1\n",
    "        S[r][c] = 1\n",
    "        for dx, dy in zip(dxs, dys):\n",
    "            if 0 <= r+dx and r+dx < H  and 0 <= c+dy and c+dy < W:\n",
    "                if S[r+dx][c+dy] == 1:\n",
    "                    uf.unite(r*W+c, (r+dx)*W+(c+dy))\n",
    "    elif query[0] == 2:\n",
    "        ra, ca, rb, cb = query[1:]\n",
    "        ra -= 1\n",
    "        ca -= 1\n",
    "        rb -= 1\n",
    "        cb -= 1\n",
    "        if S[ra][ca] == 0 or S[rb][cb] == 0:\n",
    "            print (\"No\")\n",
    "            continue\n",
    "        if uf.issame(ra*W+ca, rb*W+cb):\n",
    "            print (\"Yes\")\n",
    "        else:\n",
    "            print (\"No\")"
   ]
  },
  {
   "cell_type": "code",
   "execution_count": 52,
   "metadata": {},
   "outputs": [],
   "source": [
    "#TLE\n",
    "\n",
    "S = [[0] * W for w in range(H)]\n",
    "\n",
    "from queue import Queue\n",
    "\n",
    "# 四方向への移動を表すベクトル\n",
    "# 0: 下、1: 右、2: 上、3: 左\n",
    "dxs = [1, 0, -1, 0]\n",
    "dys = [0, 1, 0, -1]\n",
    "\n",
    "for query in queries:\n",
    "    if query[0] == 1:\n",
    "        r, c = query[1:]\n",
    "        S[r-1][c-1] = 1\n",
    "    elif query[0] == 2:\n",
    "        ra, ca, rb, cb = query[1:]\n",
    "        if S[ra-1][ca-1] == 0 or S[rb-1][cb-1] == 0:\n",
    "            print (\"No\")\n",
    "            continue\n",
    "\n",
    "        # 各マス (x, y) が何手目に探索されたか\n",
    "        # -1 は「まだ探索されていない」ことを表す\n",
    "        dist = [[-1] * W for i in range(H)]\n",
    "\n",
    "        # todo リストを表すキュー\n",
    "        que = Queue()\n",
    "\n",
    "        # マス (X0, Y0) を始点とする\n",
    "        dist[ra-1][ca-1] = 0\n",
    "        que.put((ra-1, ca-1))\n",
    "\n",
    "        # キューが空になるまで探索する\n",
    "        while not que.empty():\n",
    "            # キューから頂点を取り出す\n",
    "            x, y = que.get()\n",
    "\n",
    "            # マス (x, y) から 1 手で行けるマスを順に探索\n",
    "            for dx, dy in zip(dxs, dys):\n",
    "                # 隣接マス\n",
    "                x2, y2 = x + dx, y + dy\n",
    "\n",
    "                # マス (x2, y2) が盤面外である場合、黒マスである場合はスキップ\n",
    "                if x2 < 0 or x2 >= H or y2 < 0 or y2 >= W or S[x2][y2] == 0:\n",
    "                    continue\n",
    "\n",
    "                # マス (x2, y2) が探索済みであれば何もしない\n",
    "                if dist[x2][y2] != -1:\n",
    "                    continue\n",
    "\n",
    "                # マス (x2, y2) を探索する\n",
    "                dist[x2][y2] = dist[x][y] + 1\n",
    "                que.put((x2, y2))\n",
    "                \n",
    "        if dist[rb-1][cb-1] == -1:\n",
    "            print (\"No\")\n",
    "        else:\n",
    "            print (\"Yes\")"
   ]
  },
  {
   "cell_type": "code",
   "execution_count": null,
   "metadata": {},
   "outputs": [],
   "source": []
  }
 ],
 "metadata": {
  "kernelspec": {
   "display_name": "Python 3",
   "language": "python",
   "name": "python3"
  },
  "language_info": {
   "codemirror_mode": {
    "name": "ipython",
    "version": 3
   },
   "file_extension": ".py",
   "mimetype": "text/x-python",
   "name": "python",
   "nbconvert_exporter": "python",
   "pygments_lexer": "ipython3",
   "version": "3.8.8"
  }
 },
 "nbformat": 4,
 "nbformat_minor": 4
}
