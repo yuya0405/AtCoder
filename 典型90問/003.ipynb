{
 "cells": [
  {
   "cell_type": "code",
   "execution_count": 81,
   "id": "0d09e658-7b13-4e91-b607-a1f9f5c0c88c",
   "metadata": {},
   "outputs": [
    {
     "name": "stdin",
     "output_type": "stream",
     "text": [
      " 10\n",
      " 1 2\n",
      " 1 3\n",
      " 2 4\n",
      " 4 5\n",
      " 4 6\n",
      " 3 7\n",
      " 7 8\n",
      " 8 9\n",
      " 8 10\n"
     ]
    }
   ],
   "source": [
    "N = int(input())\n",
    "AB = [list(map(int, input().split())) for _ in range(N-1)]"
   ]
  },
  {
   "cell_type": "code",
   "execution_count": 82,
   "id": "0b90285f-e301-4510-994b-2e13d329cc8b",
   "metadata": {},
   "outputs": [
    {
     "data": {
      "text/plain": [
       "[[1, 2], [0, 3], [0, 6], [1, 4, 5], [3], [3], [2, 7], [6, 8, 9], [7], [7]]"
      ]
     },
     "execution_count": 82,
     "metadata": {},
     "output_type": "execute_result"
    }
   ],
   "source": [
    "G = [[] for _ in range(N)]\n",
    "for a, b in AB:\n",
    "    G[a-1].append(b-1)\n",
    "    G[b-1].append(a-1)\n",
    "G"
   ]
  },
  {
   "cell_type": "code",
   "execution_count": 83,
   "id": "2327d97a-893e-4701-9c1d-2214c62d6ea3",
   "metadata": {},
   "outputs": [
    {
     "name": "stdout",
     "output_type": "stream",
     "text": [
      "8\n"
     ]
    }
   ],
   "source": [
    "# アルゴ式\n",
    "\n",
    "# スタックオーバーフローを防ぐ\n",
    "import sys\n",
    "sys.setrecursionlimit(10 ** 6)\n",
    "\n",
    "# 頂点 v を根とする部分木を探索\n",
    "# 頂点 v の子頂点を格納した配列を chs とする\n",
    "def rec(v, p, s):\n",
    "    if v == s:\n",
    "        depth[v] = 0\n",
    "    else:\n",
    "        depth[v] = depth[p] + 1\n",
    "\n",
    "    # 各子頂点を探索\n",
    "    for ch in G[v]:\n",
    "        # 子頂点 ch を根とした部分木を再帰的に探索\n",
    "        if ch != p:\n",
    "            rec(ch, v, s)\n",
    "\n",
    "depth = [0] * N\n",
    "# 根頂点 (0) から再帰的に探索\n",
    "rec(0, -1, 0)\n",
    "tmp = depth.index(max(depth))\n",
    "\n",
    "depth = [0] * N\n",
    "# 木の直径は最短距離を2回求める\n",
    "rec(tmp, -1, tmp)\n",
    "print (max(depth)+1)"
   ]
  },
  {
   "cell_type": "code",
   "execution_count": null,
   "id": "22da1fff-be7b-4056-8198-c9622d498dc5",
   "metadata": {},
   "outputs": [],
   "source": []
  }
 ],
 "metadata": {
  "kernelspec": {
   "display_name": "Python 3",
   "language": "python",
   "name": "python3"
  },
  "language_info": {
   "codemirror_mode": {
    "name": "ipython",
    "version": 3
   },
   "file_extension": ".py",
   "mimetype": "text/x-python",
   "name": "python",
   "nbconvert_exporter": "python",
   "pygments_lexer": "ipython3",
   "version": "3.8.8"
  }
 },
 "nbformat": 4,
 "nbformat_minor": 5
}
