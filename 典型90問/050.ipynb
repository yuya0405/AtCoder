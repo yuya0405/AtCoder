{
 "cells": [
  {
   "cell_type": "code",
   "execution_count": 13,
   "id": "a96b6c6c-95dc-42bf-9262-fef38a1395fc",
   "metadata": {},
   "outputs": [
    {
     "name": "stdin",
     "output_type": "stream",
     "text": [
      " 6783 125\n"
     ]
    }
   ],
   "source": [
    "N, L = map(int, input().split())"
   ]
  },
  {
   "cell_type": "code",
   "execution_count": 16,
   "id": "578eeac3-0890-4d05-9777-9887a94eb622",
   "metadata": {},
   "outputs": [
    {
     "data": {
      "text/plain": [
       "674508908"
      ]
     },
     "execution_count": 16,
     "metadata": {},
     "output_type": "execute_result"
    }
   ],
   "source": [
    "dp = [0]*(N+1)\n",
    "dp[0] = 1\n",
    "\n",
    "for i in range(N+1):\n",
    "    dp[i] += dp[i-1]\n",
    "    dp[i] %= 10**9+7\n",
    "    if i-L >= 0:\n",
    "        dp[i] += dp[i-L]\n",
    "        dp[i] %= 10**9+7\n",
    "print (dp[N])"
   ]
  },
  {
   "cell_type": "code",
   "execution_count": null,
   "id": "9cfe8a48-91e8-4170-8fb3-1ff350a1d436",
   "metadata": {},
   "outputs": [],
   "source": []
  }
 ],
 "metadata": {
  "kernelspec": {
   "display_name": "Python 3",
   "language": "python",
   "name": "python3"
  },
  "language_info": {
   "codemirror_mode": {
    "name": "ipython",
    "version": 3
   },
   "file_extension": ".py",
   "mimetype": "text/x-python",
   "name": "python",
   "nbconvert_exporter": "python",
   "pygments_lexer": "ipython3",
   "version": "3.8.8"
  }
 },
 "nbformat": 4,
 "nbformat_minor": 5
}
