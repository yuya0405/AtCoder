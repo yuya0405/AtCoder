{
 "cells": [
  {
   "cell_type": "code",
   "execution_count": 1,
   "metadata": {},
   "outputs": [
    {
     "name": "stdin",
     "output_type": "stream",
     "text": [
      " 4\n",
      " 1 2\n",
      " 2 3\n",
      " 2 4\n"
     ]
    }
   ],
   "source": [
    "N = int(input())\n",
    "AB = [list(map(int, input().split())) for _ in range(N-1)]"
   ]
  },
  {
   "cell_type": "code",
   "execution_count": 6,
   "metadata": {},
   "outputs": [
    {
     "data": {
      "text/plain": [
       "[[1], [0, 2, 3], [1], [1]]"
      ]
     },
     "execution_count": 6,
     "metadata": {},
     "output_type": "execute_result"
    }
   ],
   "source": [
    "G = [[] for _ in range(N)]\n",
    "for a, b in AB:\n",
    "    G[a-1].append(b-1)\n",
    "    G[b-1].append(a-1)\n",
    "G"
   ]
  },
  {
   "cell_type": "code",
   "execution_count": 7,
   "metadata": {},
   "outputs": [],
   "source": [
    "# アルゴ式\n",
    "\n",
    "# スタックオーバーフローを防ぐ\n",
    "import sys\n",
    "sys.setrecursionlimit(10 ** 6)\n",
    "\n",
    "# 頂点 v を根とする部分木を探索\n",
    "# 頂点 v の子頂点を格納した配列を chs とする\n",
    "def dfs(v, p):\n",
    "    if v == 0:\n",
    "        depth[v] = 0\n",
    "    else:\n",
    "        depth[v] = depth[p] + 1\n",
    "\n",
    "    # 各子頂点を探索\n",
    "    for ch in G[v]:\n",
    "        # 子頂点 ch を根とした部分木を再帰的に探索\n",
    "        if ch != p:\n",
    "            dfs(ch, v)\n",
    "\n",
    "depth = [0] * N\n",
    "\n",
    "# 根頂点 (0) から再帰的に探索\n",
    "dfs(0, -1)"
   ]
  },
  {
   "cell_type": "code",
   "execution_count": 11,
   "metadata": {},
   "outputs": [
    {
     "data": {
      "text/plain": [
       "[[1, 3, 4], [2]]"
      ]
     },
     "execution_count": 11,
     "metadata": {},
     "output_type": "execute_result"
    }
   ],
   "source": [
    "ans = [[], []]\n",
    "for i, d in enumerate(depth):\n",
    "    if d%2 == 0:\n",
    "        ans[0].append(i+1)\n",
    "    else:\n",
    "        ans[1].append(i+1)\n",
    "ans"
   ]
  },
  {
   "cell_type": "code",
   "execution_count": 27,
   "metadata": {},
   "outputs": [],
   "source": [
    "if len(ans[0]) < len(ans[1]):\n",
    "    a = ans[1]\n",
    "else:\n",
    "    a = ans[0]"
   ]
  },
  {
   "cell_type": "code",
   "execution_count": 29,
   "metadata": {},
   "outputs": [
    {
     "name": "stdout",
     "output_type": "stream",
     "text": [
      "1 3\n"
     ]
    }
   ],
   "source": [
    "print (*a[:N//2])"
   ]
  },
  {
   "cell_type": "code",
   "execution_count": null,
   "metadata": {},
   "outputs": [],
   "source": []
  }
 ],
 "metadata": {
  "kernelspec": {
   "display_name": "Python 3",
   "language": "python",
   "name": "python3"
  },
  "language_info": {
   "codemirror_mode": {
    "name": "ipython",
    "version": 3
   },
   "file_extension": ".py",
   "mimetype": "text/x-python",
   "name": "python",
   "nbconvert_exporter": "python",
   "pygments_lexer": "ipython3",
   "version": "3.8.8"
  }
 },
 "nbformat": 4,
 "nbformat_minor": 4
}
