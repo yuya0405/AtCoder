{
 "cells": [
  {
   "cell_type": "code",
   "execution_count": 63,
   "id": "86a5616f-850e-404f-86f1-01d6a6ea3af7",
   "metadata": {},
   "outputs": [
    {
     "name": "stdin",
     "output_type": "stream",
     "text": [
      " 42\n"
     ]
    }
   ],
   "source": [
    "K = int(input())"
   ]
  },
  {
   "cell_type": "code",
   "execution_count": 64,
   "id": "7739b0e5-f86f-4731-a8de-1a1add23a6ce",
   "metadata": {},
   "outputs": [],
   "source": [
    "# 約数を高速で列挙（計算量O(sqrt(N))）\n",
    "\n",
    "def make_divisors(n):\n",
    "    lower_divisors , upper_divisors = [], []\n",
    "    i = 1\n",
    "    while i*i <= n:\n",
    "        if n % i == 0:\n",
    "            lower_divisors.append(i)\n",
    "            if i != n // i:\n",
    "                upper_divisors.append(n//i)\n",
    "        i += 1\n",
    "    return lower_divisors + upper_divisors[::-1]"
   ]
  },
  {
   "cell_type": "code",
   "execution_count": 68,
   "id": "b5550ac5-b1ed-4d57-a3ee-5ad595d6d7b8",
   "metadata": {},
   "outputs": [
    {
     "data": {
      "text/plain": [
       "[1, 2, 3, 6, 7, 14, 21, 42]"
      ]
     },
     "execution_count": 68,
     "metadata": {},
     "output_type": "execute_result"
    }
   ],
   "source": [
    "yakusuu = make_divisors(K)\n",
    "yakusuu"
   ]
  },
  {
   "cell_type": "code",
   "execution_count": 69,
   "id": "f31474ed-ac77-42cc-a165-6190443d7f0e",
   "metadata": {
    "tags": []
   },
   "outputs": [
    {
     "name": "stdout",
     "output_type": "stream",
     "text": [
      "1 1 42\n",
      "1 2 21\n",
      "1 3 14\n",
      "1 6 7\n",
      "2 3 7\n",
      "5\n"
     ]
    }
   ],
   "source": [
    "ans = 0\n",
    "for a in yakusuu:\n",
    "    for b in yakusuu:\n",
    "        if a > b:\n",
    "            continue\n",
    "        c = K//a//b\n",
    "        if (K//a)%b != 0:\n",
    "            continue\n",
    "        if b > c:\n",
    "            continue\n",
    "        ans += 1\n",
    "print (ans)"
   ]
  },
  {
   "cell_type": "code",
   "execution_count": null,
   "id": "e3eac407-9d6a-4d62-9864-95134eb07c83",
   "metadata": {},
   "outputs": [],
   "source": []
  }
 ],
 "metadata": {
  "kernelspec": {
   "display_name": "Python 3",
   "language": "python",
   "name": "python3"
  },
  "language_info": {
   "codemirror_mode": {
    "name": "ipython",
    "version": 3
   },
   "file_extension": ".py",
   "mimetype": "text/x-python",
   "name": "python",
   "nbconvert_exporter": "python",
   "pygments_lexer": "ipython3",
   "version": "3.8.8"
  }
 },
 "nbformat": 4,
 "nbformat_minor": 5
}
