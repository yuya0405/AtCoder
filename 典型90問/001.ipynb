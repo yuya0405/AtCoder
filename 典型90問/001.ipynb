{
 "cells": [
  {
   "cell_type": "code",
   "execution_count": 10,
   "metadata": {},
   "outputs": [
    {
     "name": "stdin",
     "output_type": "stream",
     "text": [
      " 3 34\n",
      " 1\n",
      " 8 13 26\n"
     ]
    }
   ],
   "source": [
    "N, L = map(int, input().split())\n",
    "K = int(input())\n",
    "A = list(map(int, input().split()))"
   ]
  },
  {
   "cell_type": "code",
   "execution_count": 20,
   "metadata": {},
   "outputs": [
    {
     "data": {
      "text/plain": [
       "[8, 5, 13, 8]"
      ]
     },
     "execution_count": 20,
     "metadata": {},
     "output_type": "execute_result"
    }
   ],
   "source": [
    "a = [A[0]]\n",
    "for i in range(1,N):\n",
    "    a.append(A[i]-A[i-1])\n",
    "a.append(L-A[-1])\n",
    "a"
   ]
  },
  {
   "cell_type": "code",
   "execution_count": 41,
   "metadata": {},
   "outputs": [
    {
     "name": "stdout",
     "output_type": "stream",
     "text": [
      "13\n"
     ]
    }
   ],
   "source": [
    "def is_ok(M):\n",
    "    tmp = 0\n",
    "    cnt = 0\n",
    "    for i in range(N+1):\n",
    "        tmp += a[i]\n",
    "        if tmp >= M:\n",
    "            tmp = 0\n",
    "            cnt += 1\n",
    "    return cnt >= K+1\n",
    "\n",
    "def meguru_bisect(ng, ok):\n",
    "    while(abs(ok - ng) > 1):\n",
    "        mid = (ok + ng) //2\n",
    "        if is_ok(mid):\n",
    "            ok = mid\n",
    "        else:\n",
    "            ng = mid\n",
    "    return (ok)\n",
    "\n",
    "print (meguru_bisect(L+1, 0))"
   ]
  },
  {
   "cell_type": "code",
   "execution_count": null,
   "metadata": {},
   "outputs": [],
   "source": []
  }
 ],
 "metadata": {
  "kernelspec": {
   "display_name": "Python 3",
   "language": "python",
   "name": "python3"
  },
  "language_info": {
   "codemirror_mode": {
    "name": "ipython",
    "version": 3
   },
   "file_extension": ".py",
   "mimetype": "text/x-python",
   "name": "python",
   "nbconvert_exporter": "python",
   "pygments_lexer": "ipython3",
   "version": "3.8.5"
  }
 },
 "nbformat": 4,
 "nbformat_minor": 4
}
