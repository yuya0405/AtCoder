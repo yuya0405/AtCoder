{
 "cells": [
  {
   "cell_type": "code",
   "execution_count": 26,
   "id": "88602840-21a3-4141-a7c3-205c9d8be0be",
   "metadata": {},
   "outputs": [
    {
     "name": "stdin",
     "output_type": "stream",
     "text": [
      " 7\n",
      " xxoooxx\n"
     ]
    }
   ],
   "source": [
    "N = int(input())\n",
    "S = input()"
   ]
  },
  {
   "cell_type": "code",
   "execution_count": 27,
   "id": "86ce649a-ed77-4bf6-937d-1c884e34075f",
   "metadata": {},
   "outputs": [],
   "source": [
    "ox = []\n",
    "ox_num = []\n",
    "\n",
    "pre = S[0]\n",
    "num = 0\n",
    "for s in S:\n",
    "    if pre == s:\n",
    "        num += 1\n",
    "    else:\n",
    "        ox.append(pre)\n",
    "        ox_num.append(num)\n",
    "        pre = s\n",
    "        num = 1\n",
    "ox.append(pre)\n",
    "ox_num.append(num)"
   ]
  },
  {
   "cell_type": "code",
   "execution_count": 28,
   "id": "8087481e-6743-45cb-aaf9-610e69a2fd5d",
   "metadata": {},
   "outputs": [
    {
     "name": "stdout",
     "output_type": "stream",
     "text": [
      "16\n"
     ]
    }
   ],
   "source": [
    "omega = (N+1)*N//2\n",
    "rec = 0\n",
    "for i in ox_num:\n",
    "    rec += (i+1)*i//2\n",
    "print (omega -rec)"
   ]
  },
  {
   "cell_type": "code",
   "execution_count": null,
   "id": "fa04fe3e-5fa8-43b9-a3b3-ce721042a9f7",
   "metadata": {},
   "outputs": [],
   "source": []
  }
 ],
 "metadata": {
  "kernelspec": {
   "display_name": "Python 3",
   "language": "python",
   "name": "python3"
  },
  "language_info": {
   "codemirror_mode": {
    "name": "ipython",
    "version": 3
   },
   "file_extension": ".py",
   "mimetype": "text/x-python",
   "name": "python",
   "nbconvert_exporter": "python",
   "pygments_lexer": "ipython3",
   "version": "3.8.8"
  }
 },
 "nbformat": 4,
 "nbformat_minor": 5
}
