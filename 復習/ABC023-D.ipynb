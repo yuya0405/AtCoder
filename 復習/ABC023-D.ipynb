{
 "cells": [
  {
   "cell_type": "code",
   "execution_count": 16,
   "metadata": {},
   "outputs": [
    {
     "name": "stdin",
     "output_type": "stream",
     "text": [
      " 6\n",
      " 100 1\n",
      " 100 1\n",
      " 100 1\n",
      " 100 1\n",
      " 100 1\n",
      " 1 30\n"
     ]
    }
   ],
   "source": [
    "N = int(input())\n",
    "HS = [list(map(int, input().split())) for _ in range(N)]"
   ]
  },
  {
   "cell_type": "code",
   "execution_count": 19,
   "metadata": {},
   "outputs": [
    {
     "name": "stdout",
     "output_type": "stream",
     "text": [
      "105\n"
     ]
    }
   ],
   "source": [
    "H = []\n",
    "S = []\n",
    "for hs in HS:\n",
    "    H.append(hs[0])\n",
    "    S.append(hs[1])\n",
    "\n",
    "def is_ok(p):\n",
    "    t = []\n",
    "    for i in range(N):\n",
    "        t.append((p-H[i])/S[i])\n",
    "    t.sort()\n",
    "    for i in range(N):\n",
    "        if t[i] < i:\n",
    "            return False\n",
    "    return True\n",
    "\n",
    "def meguru_bisect(ng, ok):\n",
    "    while(abs(ok-ng) > 1):\n",
    "        mid = (ok + ng) // 2\n",
    "        if is_ok(mid):\n",
    "            ok = mid\n",
    "        else:\n",
    "            ng = mid\n",
    "    return (ok)\n",
    "\n",
    "print (meguru_bisect(0, 10**18))"
   ]
  },
  {
   "cell_type": "code",
   "execution_count": null,
   "metadata": {},
   "outputs": [],
   "source": []
  }
 ],
 "metadata": {
  "kernelspec": {
   "display_name": "Python 3",
   "language": "python",
   "name": "python3"
  },
  "language_info": {
   "codemirror_mode": {
    "name": "ipython",
    "version": 3
   },
   "file_extension": ".py",
   "mimetype": "text/x-python",
   "name": "python",
   "nbconvert_exporter": "python",
   "pygments_lexer": "ipython3",
   "version": "3.8.5"
  }
 },
 "nbformat": 4,
 "nbformat_minor": 4
}
