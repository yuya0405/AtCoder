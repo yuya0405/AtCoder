{
 "cells": [
  {
   "cell_type": "code",
   "execution_count": 63,
   "id": "cfacdbdf-4851-437e-aa62-a2d0626a1dc0",
   "metadata": {},
   "outputs": [
    {
     "name": "stdin",
     "output_type": "stream",
     "text": [
      " 3\n",
      " 1 0\n",
      " 2 1 1\n",
      " 11 2 1 2\n"
     ]
    }
   ],
   "source": [
    "N = int(input())\n",
    "TKA = [list(map(int, input().split())) for _ in range(N)]"
   ]
  },
  {
   "cell_type": "code",
   "execution_count": 64,
   "id": "46a1ed19-884c-4ec5-9cdf-2716d912bfdc",
   "metadata": {},
   "outputs": [
    {
     "data": {
      "text/plain": [
       "[[], [1], [1, 2]]"
      ]
     },
     "execution_count": 64,
     "metadata": {},
     "output_type": "execute_result"
    }
   ],
   "source": [
    "T = []\n",
    "K = []\n",
    "A = []\n",
    "for tka in TKA:\n",
    "    T.append(tka[0])\n",
    "    K.append(tka[1])\n",
    "    A.append(tka[2:])\n",
    "chs = A\n",
    "chs"
   ]
  },
  {
   "cell_type": "code",
   "execution_count": 65,
   "id": "737fad1d-a406-48ec-90d9-26ea15934468",
   "metadata": {},
   "outputs": [],
   "source": [
    "visited = [False for i in range(N)]"
   ]
  },
  {
   "cell_type": "code",
   "execution_count": 66,
   "id": "497b9da2-63ce-410c-a820-88fcd2e17160",
   "metadata": {},
   "outputs": [],
   "source": [
    "ans = []"
   ]
  },
  {
   "cell_type": "code",
   "execution_count": 67,
   "id": "d9230f60-46d0-4b9b-8238-c2b733f76cfe",
   "metadata": {},
   "outputs": [],
   "source": [
    "# アルゴ式\n",
    "\n",
    "# スタックオーバーフローを防ぐ\n",
    "import sys\n",
    "sys.setrecursionlimit(10 ** 6)\n",
    "\n",
    "# 頂点 v を根とする部分木を探索\n",
    "# 頂点 v の子頂点を格納した配列を chs とする\n",
    "def dfs(v):\n",
    "    visited[v] = True\n",
    "\n",
    "    # 各子頂点を探索\n",
    "    for ch in chs[v]:\n",
    "        # 子頂点 ch を根とした部分木を再帰的に探索\n",
    "        if not visited[ch-1]:\n",
    "            dfs(ch-1)\n",
    "    ans.append(T[v])\n",
    "\n",
    "# 根頂点 (0) から再帰的に探索\n",
    "dfs(N-1)"
   ]
  },
  {
   "cell_type": "code",
   "execution_count": 68,
   "id": "04dacf52-7623-4ad6-87e3-77c78a501ffe",
   "metadata": {},
   "outputs": [
    {
     "data": {
      "text/plain": [
       "[1, 2, 11]"
      ]
     },
     "execution_count": 68,
     "metadata": {},
     "output_type": "execute_result"
    }
   ],
   "source": [
    "ans"
   ]
  },
  {
   "cell_type": "code",
   "execution_count": 69,
   "id": "5878e692-441f-4965-b339-43ce19c5f956",
   "metadata": {},
   "outputs": [
    {
     "name": "stdout",
     "output_type": "stream",
     "text": [
      "14\n"
     ]
    }
   ],
   "source": [
    "print (sum(ans))"
   ]
  },
  {
   "cell_type": "code",
   "execution_count": null,
   "id": "7d1275e1-4ab3-42b3-9e98-7fecec81977e",
   "metadata": {},
   "outputs": [],
   "source": []
  }
 ],
 "metadata": {
  "kernelspec": {
   "display_name": "Python 3",
   "language": "python",
   "name": "python3"
  },
  "language_info": {
   "codemirror_mode": {
    "name": "ipython",
    "version": 3
   },
   "file_extension": ".py",
   "mimetype": "text/x-python",
   "name": "python",
   "nbconvert_exporter": "python",
   "pygments_lexer": "ipython3",
   "version": "3.8.8"
  }
 },
 "nbformat": 4,
 "nbformat_minor": 5
}
