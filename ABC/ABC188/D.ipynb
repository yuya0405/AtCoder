{
 "cells": [
  {
   "cell_type": "code",
   "execution_count": 12,
   "metadata": {},
   "outputs": [
    {
     "name": "stdin",
     "output_type": "stream",
     "text": [
      " 5 100000\n",
      " 583563238 820642330 44577\n",
      " 136809000 653199778 90962\n",
      " 54601291 785892285 50554\n",
      " 5797762 453599267 65697\n",
      " 468677897 916692569 87409\n"
     ]
    }
   ],
   "source": [
    "N, C = list(map(int, input().split()))\n",
    "ABC = [list(map(int, input().split())) for _ in range(N)]"
   ]
  },
  {
   "cell_type": "code",
   "execution_count": 13,
   "metadata": {},
   "outputs": [
    {
     "data": {
      "text/plain": [
       "[(583563237, 44577),\n",
       " (820642330, -44577),\n",
       " (136808999, 90962),\n",
       " (653199778, -90962),\n",
       " (54601290, 50554),\n",
       " (785892285, -50554),\n",
       " (5797761, 65697),\n",
       " (453599267, -65697),\n",
       " (468677896, 87409),\n",
       " (916692569, -87409)]"
      ]
     },
     "execution_count": 13,
     "metadata": {},
     "output_type": "execute_result"
    }
   ],
   "source": [
    "event = []\n",
    "for a, b, c in ABC:\n",
    "    a -= 1\n",
    "    event.append((a, +c))\n",
    "    event.append((b, -c))\n",
    "event"
   ]
  },
  {
   "cell_type": "code",
   "execution_count": 14,
   "metadata": {},
   "outputs": [
    {
     "data": {
      "text/plain": [
       "[(5797761, 65697),\n",
       " (54601290, 50554),\n",
       " (136808999, 90962),\n",
       " (453599267, -65697),\n",
       " (468677896, 87409),\n",
       " (583563237, 44577),\n",
       " (653199778, -90962),\n",
       " (785892285, -50554),\n",
       " (820642330, -44577),\n",
       " (916692569, -87409)]"
      ]
     },
     "execution_count": 14,
     "metadata": {},
     "output_type": "execute_result"
    }
   ],
   "source": [
    "event.sort()\n",
    "event"
   ]
  },
  {
   "cell_type": "code",
   "execution_count": 15,
   "metadata": {},
   "outputs": [
    {
     "data": {
      "text/plain": [
       "88206004785464"
      ]
     },
     "execution_count": 15,
     "metadata": {},
     "output_type": "execute_result"
    }
   ],
   "source": [
    "ans = 0\n",
    "fee = 0\n",
    "prev_day = 0\n",
    "for curr_day, diff_cost in event:\n",
    "    ans += min(C, fee) * (curr_day - prev_day)\n",
    "    fee += diff_cost\n",
    "    prev_day = curr_day\n",
    "print (ans)"
   ]
  },
  {
   "cell_type": "code",
   "execution_count": null,
   "metadata": {},
   "outputs": [],
   "source": []
  }
 ],
 "metadata": {
  "kernelspec": {
   "display_name": "Python 3",
   "language": "python",
   "name": "python3"
  },
  "language_info": {
   "codemirror_mode": {
    "name": "ipython",
    "version": 3
   },
   "file_extension": ".py",
   "mimetype": "text/x-python",
   "name": "python",
   "nbconvert_exporter": "python",
   "pygments_lexer": "ipython3",
   "version": "3.8.8"
  }
 },
 "nbformat": 4,
 "nbformat_minor": 4
}
