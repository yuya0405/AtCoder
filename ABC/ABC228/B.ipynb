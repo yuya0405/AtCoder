{
 "cells": [
  {
   "cell_type": "code",
   "execution_count": 37,
   "id": "3ed1ac17-8e95-4705-942e-4bc2a7e63a37",
   "metadata": {},
   "outputs": [],
   "source": [
    "N, X = map(int, input().split())\n",
    "A = list(map(int, input().split()))\n",
    "\n",
    "flag = [False] * N\n",
    "flag[X-1] = True\n",
    "tmp = X-1\n",
    "    \n",
    "for i in range(0, N):\n",
    "    if flag[tmp] == True:\n",
    "        flag[A[tmp]-1] = True\n",
    "        tmp = A[tmp]-1\n",
    "print (flag.count(True))"
   ]
  },
  {
   "cell_type": "code",
   "execution_count": null,
   "id": "e95cafb1-8aed-4edf-beb9-f5292ae69a7f",
   "metadata": {},
   "outputs": [],
   "source": []
  }
 ],
 "metadata": {
  "kernelspec": {
   "display_name": "Python 3",
   "language": "python",
   "name": "python3"
  },
  "language_info": {
   "codemirror_mode": {
    "name": "ipython",
    "version": 3
   },
   "file_extension": ".py",
   "mimetype": "text/x-python",
   "name": "python",
   "nbconvert_exporter": "python",
   "pygments_lexer": "ipython3",
   "version": "3.8.8"
  }
 },
 "nbformat": 4,
 "nbformat_minor": 5
}
