{
 "cells": [
  {
   "cell_type": "code",
   "execution_count": 69,
   "id": "313b3a2d-f0fc-44f0-ab51-ade92ba8e687",
   "metadata": {},
   "outputs": [
    {
     "name": "stdin",
     "output_type": "stream",
     "text": [
      " 4 2\n",
      " 127 235 78\n",
      " 192 134 298\n",
      " 28 56 42\n",
      " 96 120 250\n"
     ]
    }
   ],
   "source": [
    "N, K = map(int, input().split())\n",
    "P = [list(map(int, input().split())) for _ in range(N)]"
   ]
  },
  {
   "cell_type": "code",
   "execution_count": 70,
   "id": "553fdbec-ca9d-414b-956d-1dc7b1522881",
   "metadata": {},
   "outputs": [
    {
     "name": "stdout",
     "output_type": "stream",
     "text": [
      "Yes\n",
      "Yes\n",
      "No\n",
      "Yes\n"
     ]
    }
   ],
   "source": [
    "from bisect import bisect\n",
    "\n",
    "score3 = [sum(i) for i in P]\n",
    "score3_sorted = sorted(score3)\n",
    "\n",
    "for i in range(N):\n",
    "    score4 = score3[i] + 300\n",
    "    i = bisect(score3_sorted, score4)\n",
    "\n",
    "    if N-i+1 <= K:\n",
    "        print (\"Yes\")\n",
    "    else:\n",
    "        print (\"No\")"
   ]
  },
  {
   "cell_type": "code",
   "execution_count": null,
   "id": "a74263b5-f9ed-4ce9-946b-df48a4957da4",
   "metadata": {},
   "outputs": [],
   "source": []
  }
 ],
 "metadata": {
  "kernelspec": {
   "display_name": "Python 3",
   "language": "python",
   "name": "python3"
  },
  "language_info": {
   "codemirror_mode": {
    "name": "ipython",
    "version": 3
   },
   "file_extension": ".py",
   "mimetype": "text/x-python",
   "name": "python",
   "nbconvert_exporter": "python",
   "pygments_lexer": "ipython3",
   "version": "3.8.8"
  }
 },
 "nbformat": 4,
 "nbformat_minor": 5
}
