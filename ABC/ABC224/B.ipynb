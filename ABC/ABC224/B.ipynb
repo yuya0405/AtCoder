{
 "cells": [
  {
   "cell_type": "code",
   "execution_count": 10,
   "id": "c9f9fbe8-54d6-41df-98b4-a8d8064d231a",
   "metadata": {},
   "outputs": [],
   "source": [
    "H, W = map(int, input().split())\n",
    "A = [list(map(int, input().split())) for _ in range(H)]\n",
    "\n",
    "for i1 in range(H):\n",
    "    for i2 in range(i1):\n",
    "        for j1 in range(W):\n",
    "            for j2 in range(j1):\n",
    "                if A[i1][j1]+A[i2][j2]>A[i2][j1]+A[i1][j2]:\n",
    "                    print (\"No\")\n",
    "                    exit()\n",
    "print (\"Yes\")"
   ]
  },
  {
   "cell_type": "code",
   "execution_count": null,
   "id": "fb9afc7f-8b09-45db-9fdc-e8ad0612cfba",
   "metadata": {},
   "outputs": [],
   "source": []
  }
 ],
 "metadata": {
  "kernelspec": {
   "display_name": "Python 3",
   "language": "python",
   "name": "python3"
  },
  "language_info": {
   "codemirror_mode": {
    "name": "ipython",
    "version": 3
   },
   "file_extension": ".py",
   "mimetype": "text/x-python",
   "name": "python",
   "nbconvert_exporter": "python",
   "pygments_lexer": "ipython3",
   "version": "3.8.8"
  }
 },
 "nbformat": 4,
 "nbformat_minor": 5
}
