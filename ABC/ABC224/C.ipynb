{
 "cells": [
  {
   "cell_type": "code",
   "execution_count": 83,
   "id": "87954f46-db55-4a7e-8e48-30f109e0e2bb",
   "metadata": {},
   "outputs": [],
   "source": [
    "N = int(input())\n",
    "XY = [list(map(int, input().split())) for _ in range(N)]\n",
    "\n",
    "count = 0\n",
    "for i in range(N):\n",
    "    for j in range(i):\n",
    "        for k in range(j):\n",
    "            S = abs((XY[i][0]-XY[k][0])*(XY[j][1]-XY[k][1]) - (XY[j][0]-XY[k][0])*(XY[i][1]-XY[k][1]))\n",
    "            if S != 0:\n",
    "                count += 1\n",
    "print (count)"
   ]
  },
  {
   "cell_type": "code",
   "execution_count": 84,
   "id": "4a04e694-85f0-4860-aa30-57b7aaa22b5f",
   "metadata": {},
   "outputs": [],
   "source": [
    "# N = int(input())\n",
    "# XY = [list(map(int, input().split())) for _ in range(N)]\n",
    "\n",
    "# import math\n",
    "# all = math.factorial(N) // (math.factorial(N - 3) * math.factorial(3))\n",
    "\n",
    "# line=[]\n",
    "# for i in range(N):\n",
    "#     for j in range(i):\n",
    "#         p1=(XY[i][0], XY[i][1])\n",
    "#         p2=(XY[j][0], XY[j][1])\n",
    "#         a=p2[1]-p1[1]\n",
    "#         b=p1[0]-p2[0]\n",
    "#         c=p1[1]*p2[0]-p1[0]*p2[1]\n",
    "        \n",
    "#         if b != 0:\n",
    "#             line.append(str(float(-1.0*a/b)) + \" \" + str(float(-1.0*c/b)))\n",
    "#         elif b == 0 and c != 0:\n",
    "#             line.append(str(float('inf')) + \" \" + str(-1.0*a/c))\n",
    "#         elif b == 0 and c == 0:\n",
    "#             line.append(str(float('inf')) + \" \" + str(float('inf')))\n",
    "\n",
    "# import collections\n",
    "# c = collections.Counter(line)\n",
    "\n",
    "# omit = 0\n",
    "# for _ in c.values():\n",
    "#     if _ >= 3:\n",
    "#         omit += math.factorial(_) // (math.factorial(_ - 3) * math.factorial(3))\n",
    "\n",
    "# print (all - omit)"
   ]
  }
 ],
 "metadata": {
  "kernelspec": {
   "display_name": "Python 3",
   "language": "python",
   "name": "python3"
  },
  "language_info": {
   "codemirror_mode": {
    "name": "ipython",
    "version": 3
   },
   "file_extension": ".py",
   "mimetype": "text/x-python",
   "name": "python",
   "nbconvert_exporter": "python",
   "pygments_lexer": "ipython3",
   "version": "3.8.8"
  }
 },
 "nbformat": 4,
 "nbformat_minor": 5
}
