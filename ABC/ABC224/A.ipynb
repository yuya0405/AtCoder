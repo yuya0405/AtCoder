{
 "cells": [
  {
   "cell_type": "code",
   "execution_count": 11,
   "id": "080a711c-6ebb-4374-9df3-4295e2fcdcb8",
   "metadata": {},
   "outputs": [],
   "source": [
    "S = input()\n",
    "\n",
    "if S[-2:] == \"er\":\n",
    "    print (\"er\")\n",
    "elif S[-3:] == \"ist\":\n",
    "    print (\"ist\")"
   ]
  },
  {
   "cell_type": "code",
   "execution_count": null,
   "id": "554f411b-1d5a-4055-bc29-629fea9ef0db",
   "metadata": {},
   "outputs": [],
   "source": []
  }
 ],
 "metadata": {
  "kernelspec": {
   "display_name": "Python 3",
   "language": "python",
   "name": "python3"
  },
  "language_info": {
   "codemirror_mode": {
    "name": "ipython",
    "version": 3
   },
   "file_extension": ".py",
   "mimetype": "text/x-python",
   "name": "python",
   "nbconvert_exporter": "python",
   "pygments_lexer": "ipython3",
   "version": "3.8.8"
  }
 },
 "nbformat": 4,
 "nbformat_minor": 5
}
