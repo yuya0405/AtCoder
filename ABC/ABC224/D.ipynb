{
 "cells": [
  {
   "cell_type": "code",
   "execution_count": null,
   "id": "347733a8-6e4e-4ebd-ae68-33c00187e9fd",
   "metadata": {},
   "outputs": [],
   "source": [
    "S = input()"
   ]
  },
  {
   "cell_type": "code",
   "execution_count": null,
   "id": "25546aa6-fe0b-4a68-99db-fb20477d5569",
   "metadata": {},
   "outputs": [],
   "source": []
  }
 ],
 "metadata": {
  "kernelspec": {
   "display_name": "Python 3",
   "language": "python",
   "name": "python3"
  },
  "language_info": {
   "codemirror_mode": {
    "name": "ipython",
    "version": 3
   },
   "file_extension": ".py",
   "mimetype": "text/x-python",
   "name": "python",
   "nbconvert_exporter": "python",
   "pygments_lexer": "ipython3",
   "version": "3.8.8"
  }
 },
 "nbformat": 4,
 "nbformat_minor": 5
}
