{
 "cells": [
  {
   "cell_type": "code",
   "execution_count": 8,
   "id": "b323f5d8-48cc-4767-88d2-f5b210f5ebe1",
   "metadata": {},
   "outputs": [
    {
     "name": "stdin",
     "output_type": "stream",
     "text": [
      " 5\n",
      " Against\n",
      " For\n",
      " For\n",
      " Against\n",
      " For\n"
     ]
    }
   ],
   "source": [
    "N = int(input())\n",
    "S = [input() for _ in range(N)]"
   ]
  },
  {
   "cell_type": "code",
   "execution_count": 9,
   "id": "2a495457-b61c-44cd-9f94-58c552e74da7",
   "metadata": {},
   "outputs": [
    {
     "data": {
      "text/plain": [
       "Counter({'Against': 2, 'For': 3})"
      ]
     },
     "execution_count": 9,
     "metadata": {},
     "output_type": "execute_result"
    }
   ],
   "source": [
    "import collections\n",
    "\n",
    "c = collections.Counter(S)\n",
    "c"
   ]
  },
  {
   "cell_type": "code",
   "execution_count": 10,
   "id": "fbdb3c86-7b2d-4e93-a1e7-ba37eddce980",
   "metadata": {},
   "outputs": [
    {
     "name": "stdout",
     "output_type": "stream",
     "text": [
      "Yes\n"
     ]
    }
   ],
   "source": [
    "if c['For'] > N//2:\n",
    "    print (\"Yes\")\n",
    "else:\n",
    "    print (\"No\")"
   ]
  },
  {
   "cell_type": "code",
   "execution_count": null,
   "id": "0ca622b8-1c67-4747-a1f7-1794dc025acf",
   "metadata": {},
   "outputs": [],
   "source": []
  }
 ],
 "metadata": {
  "kernelspec": {
   "display_name": "Python 3 (ipykernel)",
   "language": "python",
   "name": "python3"
  },
  "language_info": {
   "codemirror_mode": {
    "name": "ipython",
    "version": 3
   },
   "file_extension": ".py",
   "mimetype": "text/x-python",
   "name": "python",
   "nbconvert_exporter": "python",
   "pygments_lexer": "ipython3",
   "version": "3.8.13"
  }
 },
 "nbformat": 4,
 "nbformat_minor": 5
}
