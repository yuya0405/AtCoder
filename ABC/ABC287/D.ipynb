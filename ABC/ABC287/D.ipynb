{
 "cells": [
  {
   "cell_type": "code",
   "execution_count": 78,
   "id": "daf4d033-2983-462c-b41d-f1bb75a50082",
   "metadata": {},
   "outputs": [
    {
     "name": "stdin",
     "output_type": "stream",
     "text": [
      " beginner\n",
      " contest\n"
     ]
    }
   ],
   "source": [
    "S = input()\n",
    "T = input()"
   ]
  },
  {
   "cell_type": "code",
   "execution_count": 86,
   "id": "0a3a0a70-a03d-4e80-a2de-b9b962b43ebf",
   "metadata": {},
   "outputs": [
    {
     "data": {
      "text/plain": [
       "'beginner'"
      ]
     },
     "execution_count": 86,
     "metadata": {},
     "output_type": "execute_result"
    }
   ],
   "source": [
    "S"
   ]
  },
  {
   "cell_type": "code",
   "execution_count": 87,
   "id": "e712a7f7-f6ed-4a0b-b5f7-67087306adf7",
   "metadata": {},
   "outputs": [
    {
     "data": {
      "text/plain": [
       "'contest'"
      ]
     },
     "execution_count": 87,
     "metadata": {},
     "output_type": "execute_result"
    }
   ],
   "source": [
    "T"
   ]
  },
  {
   "cell_type": "code",
   "execution_count": 88,
   "id": "d53c496d-4e3e-45cd-b33b-cd6770ade7da",
   "metadata": {},
   "outputs": [
    {
     "data": {
      "text/plain": [
       "'eginner'"
      ]
     },
     "execution_count": 88,
     "metadata": {},
     "output_type": "execute_result"
    }
   ],
   "source": [
    "S2 = S[-len(T):]\n",
    "S2"
   ]
  },
  {
   "cell_type": "code",
   "execution_count": 89,
   "id": "648c33e0-f7c5-47a8-bd80-00c45a5cd9c2",
   "metadata": {},
   "outputs": [
    {
     "data": {
      "text/plain": [
       "([False, False, False, False, False, False, False], 0)"
      ]
     },
     "execution_count": 89,
     "metadata": {},
     "output_type": "execute_result"
    }
   ],
   "source": [
    "flag = []\n",
    "flag_count = 0\n",
    "for s2, t in zip(S2, T):\n",
    "    if s2 == \"?\" or t == \"?\" or s2 == t:\n",
    "        flag.append(True)\n",
    "        flag_count += 1\n",
    "    else:\n",
    "        flag.append(False)\n",
    "flag, flag_count"
   ]
  },
  {
   "cell_type": "code",
   "execution_count": 90,
   "id": "1bc264a7-1f96-40d6-8053-3b5969abcd02",
   "metadata": {},
   "outputs": [
    {
     "name": "stdout",
     "output_type": "stream",
     "text": [
      "No\n"
     ]
    }
   ],
   "source": [
    "if flag_count == len(T):\n",
    "    print (\"Yes\")\n",
    "else:\n",
    "    print (\"No\")"
   ]
  },
  {
   "cell_type": "code",
   "execution_count": 91,
   "id": "d4303539-bd2b-4f8c-8941-d1d3e35df646",
   "metadata": {},
   "outputs": [
    {
     "name": "stdout",
     "output_type": "stream",
     "text": [
      "No\n",
      "No\n",
      "No\n",
      "No\n",
      "No\n",
      "No\n",
      "No\n"
     ]
    }
   ],
   "source": [
    "for x in range(len(T)):\n",
    "    if S[x] == \"?\" or T[x] == \"?\" or S[x] == T[x]:\n",
    "        if flag[x] == True:\n",
    "            pass\n",
    "        else:\n",
    "            flag[x] = True\n",
    "            flag_count += 1\n",
    "    else:\n",
    "        if flag[x] == True:\n",
    "            flag[x] = False\n",
    "            flag_count -= 1\n",
    "        else:\n",
    "            pass\n",
    "    # print (flag, flag_count)\n",
    "    if flag_count == len(T):\n",
    "        print (\"Yes\")\n",
    "    else:\n",
    "        print (\"No\")"
   ]
  },
  {
   "cell_type": "code",
   "execution_count": null,
   "id": "3707f20b-0740-4bce-bd3e-43cf8062b035",
   "metadata": {},
   "outputs": [],
   "source": []
  }
 ],
 "metadata": {
  "kernelspec": {
   "display_name": "Python 3 (ipykernel)",
   "language": "python",
   "name": "python3"
  },
  "language_info": {
   "codemirror_mode": {
    "name": "ipython",
    "version": 3
   },
   "file_extension": ".py",
   "mimetype": "text/x-python",
   "name": "python",
   "nbconvert_exporter": "python",
   "pygments_lexer": "ipython3",
   "version": "3.8.13"
  }
 },
 "nbformat": 4,
 "nbformat_minor": 5
}
