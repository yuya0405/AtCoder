{
 "cells": [
  {
   "cell_type": "code",
   "execution_count": 1,
   "id": "0cffe56f-ec8a-4e6e-8929-8914719d0bd8",
   "metadata": {},
   "outputs": [
    {
     "name": "stdin",
     "output_type": "stream",
     "text": [
      " 3 3\n",
      " 142857\n",
      " 004159\n",
      " 071028\n",
      " 159\n",
      " 287\n",
      " 857\n"
     ]
    }
   ],
   "source": [
    "N, M = map(int, input().split())\n",
    "S = [int(input()) for _ in range(N)]\n",
    "T = [int(input()) for _ in range(M)]"
   ]
  },
  {
   "cell_type": "code",
   "execution_count": 2,
   "id": "d4a19255-7e39-43a0-a356-d21c6b276e07",
   "metadata": {},
   "outputs": [
    {
     "data": {
      "text/plain": [
       "[142857, 4159, 71028]"
      ]
     },
     "execution_count": 2,
     "metadata": {},
     "output_type": "execute_result"
    }
   ],
   "source": [
    "S"
   ]
  },
  {
   "cell_type": "code",
   "execution_count": 3,
   "id": "3222bfd1-9042-4d0e-a9c7-ef88c94e3f9c",
   "metadata": {},
   "outputs": [
    {
     "data": {
      "text/plain": [
       "[159, 287, 857]"
      ]
     },
     "execution_count": 3,
     "metadata": {},
     "output_type": "execute_result"
    }
   ],
   "source": [
    "T"
   ]
  },
  {
   "cell_type": "code",
   "execution_count": 6,
   "id": "896ab6c6-631e-4b2e-a05b-127c7e5a18a8",
   "metadata": {},
   "outputs": [
    {
     "data": {
      "text/plain": [
       "[857, 159, 28]"
      ]
     },
     "execution_count": 6,
     "metadata": {},
     "output_type": "execute_result"
    }
   ],
   "source": [
    "S2 = [s%1000 for s in S]\n",
    "S2"
   ]
  },
  {
   "cell_type": "code",
   "execution_count": 7,
   "id": "9152a7e8-bae0-4acc-8ee7-0231c3df8067",
   "metadata": {},
   "outputs": [
    {
     "name": "stdout",
     "output_type": "stream",
     "text": [
      "2\n"
     ]
    }
   ],
   "source": [
    "ans = 0\n",
    "for s2 in S2:\n",
    "    if s2 in T:\n",
    "        ans += 1\n",
    "print (ans)"
   ]
  },
  {
   "cell_type": "code",
   "execution_count": null,
   "id": "cb15f055-ad86-4a5d-a625-a711d1484bf5",
   "metadata": {},
   "outputs": [],
   "source": []
  }
 ],
 "metadata": {
  "kernelspec": {
   "display_name": "Python 3 (ipykernel)",
   "language": "python",
   "name": "python3"
  },
  "language_info": {
   "codemirror_mode": {
    "name": "ipython",
    "version": 3
   },
   "file_extension": ".py",
   "mimetype": "text/x-python",
   "name": "python",
   "nbconvert_exporter": "python",
   "pygments_lexer": "ipython3",
   "version": "3.8.13"
  }
 },
 "nbformat": 4,
 "nbformat_minor": 5
}
