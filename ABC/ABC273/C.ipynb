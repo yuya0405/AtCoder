{
 "cells": [
  {
   "cell_type": "code",
   "execution_count": 1,
   "id": "746634f8-4a10-498b-a252-7ad8a42cedb8",
   "metadata": {},
   "outputs": [
    {
     "name": "stdin",
     "output_type": "stream",
     "text": [
      " 6\n",
      " 2 7 1 8 2 8\n"
     ]
    }
   ],
   "source": [
    "N = int(input())\n",
    "A = list(map(int, input().split()))"
   ]
  },
  {
   "cell_type": "code",
   "execution_count": 16,
   "id": "14b9346f-407a-4667-869e-9615cdc5f773",
   "metadata": {},
   "outputs": [],
   "source": [
    "# https://github.com/tatyam-prime/SortedSet/blob/main/SortedSet.py\n",
    "import math\n",
    "from bisect import bisect_left, bisect_right\n",
    "from typing import Generic, Iterable, Iterator, TypeVar, Union, List\n",
    "T = TypeVar('T')\n",
    "\n",
    "class SortedSet(Generic[T]):\n",
    "    BUCKET_RATIO = 50\n",
    "    REBUILD_RATIO = 170\n",
    "\n",
    "    def _build(self, a=None) -> None:\n",
    "        \"Evenly divide `a` into buckets.\"\n",
    "        if a is None: a = list(self)\n",
    "        size = self.size = len(a)\n",
    "        bucket_size = int(math.ceil(math.sqrt(size / self.BUCKET_RATIO)))\n",
    "        self.a = [a[size * i // bucket_size : size * (i + 1) // bucket_size] for i in range(bucket_size)]\n",
    "    \n",
    "    def __init__(self, a: Iterable[T] = []) -> None:\n",
    "        \"Make a new SortedSet from iterable. / O(N) if sorted and unique / O(N log N)\"\n",
    "        a = list(a)\n",
    "        if not all(a[i] < a[i + 1] for i in range(len(a) - 1)):\n",
    "            a = sorted(set(a))\n",
    "        self._build(a)\n",
    "\n",
    "    def __iter__(self) -> Iterator[T]:\n",
    "        for i in self.a:\n",
    "            for j in i: yield j\n",
    "\n",
    "    def __reversed__(self) -> Iterator[T]:\n",
    "        for i in reversed(self.a):\n",
    "            for j in reversed(i): yield j\n",
    "    \n",
    "    def __len__(self) -> int:\n",
    "        return self.size\n",
    "    \n",
    "    def __repr__(self) -> str:\n",
    "        return \"SortedSet\" + str(self.a)\n",
    "    \n",
    "    def __str__(self) -> str:\n",
    "        s = str(list(self))\n",
    "        return \"{\" + s[1 : len(s) - 1] + \"}\"\n",
    "\n",
    "    def _find_bucket(self, x: T) -> List[T]:\n",
    "        \"Find the bucket which should contain x. self must not be empty.\"\n",
    "        for a in self.a:\n",
    "            if x <= a[-1]: return a\n",
    "        return a\n",
    "\n",
    "    def __contains__(self, x: T) -> bool:\n",
    "        if self.size == 0: return False\n",
    "        a = self._find_bucket(x)\n",
    "        i = bisect_left(a, x)\n",
    "        return i != len(a) and a[i] == x\n",
    "\n",
    "    def add(self, x: T) -> bool:\n",
    "        \"Add an element and return True if added. / O(√N)\"\n",
    "        if self.size == 0:\n",
    "            self.a = [[x]]\n",
    "            self.size = 1\n",
    "            return True\n",
    "        a = self._find_bucket(x)\n",
    "        i = bisect_left(a, x)\n",
    "        if i != len(a) and a[i] == x: return False\n",
    "        a.insert(i, x)\n",
    "        self.size += 1\n",
    "        if len(a) > len(self.a) * self.REBUILD_RATIO:\n",
    "            self._build()\n",
    "        return True\n",
    "\n",
    "    def discard(self, x: T) -> bool:\n",
    "        \"Remove an element and return True if removed. / O(√N)\"\n",
    "        if self.size == 0: return False\n",
    "        a = self._find_bucket(x)\n",
    "        i = bisect_left(a, x)\n",
    "        if i == len(a) or a[i] != x: return False\n",
    "        a.pop(i)\n",
    "        self.size -= 1\n",
    "        if len(a) == 0: self._build()\n",
    "        return True\n",
    "    \n",
    "    def lt(self, x: T) -> Union[T, None]:\n",
    "        \"Find the largest element < x, or None if it doesn't exist.\"\n",
    "        for a in reversed(self.a):\n",
    "            if a[0] < x:\n",
    "                return a[bisect_left(a, x) - 1]\n",
    "\n",
    "    def le(self, x: T) -> Union[T, None]:\n",
    "        \"Find the largest element <= x, or None if it doesn't exist.\"\n",
    "        for a in reversed(self.a):\n",
    "            if a[0] <= x:\n",
    "                return a[bisect_right(a, x) - 1]\n",
    "\n",
    "    def gt(self, x: T) -> Union[T, None]:\n",
    "        \"Find the smallest element > x, or None if it doesn't exist.\"\n",
    "        for a in self.a:\n",
    "            if a[-1] > x:\n",
    "                return a[bisect_right(a, x)]\n",
    "\n",
    "    def ge(self, x: T) -> Union[T, None]:\n",
    "        \"Find the smallest element >= x, or None if it doesn't exist.\"\n",
    "        for a in self.a:\n",
    "            if a[-1] >= x:\n",
    "                return a[bisect_left(a, x)]\n",
    "    \n",
    "    def __getitem__(self, x: int) -> T:\n",
    "        \"Return the x-th element, or IndexError if it doesn't exist.\"\n",
    "        if x < 0: x += self.size\n",
    "        if x < 0: raise IndexError\n",
    "        for a in self.a:\n",
    "            if x < len(a): return a[x]\n",
    "            x -= len(a)\n",
    "        raise IndexError\n",
    "    \n",
    "    def index(self, x: T) -> int:\n",
    "        \"Count the number of elements < x.\"\n",
    "        ans = 0\n",
    "        for a in self.a:\n",
    "            if a[-1] >= x:\n",
    "                return ans + bisect_left(a, x)\n",
    "            ans += len(a)\n",
    "        return ans\n",
    "\n",
    "    def index_right(self, x: T) -> int:\n",
    "        \"Count the number of elements <= x.\"\n",
    "        ans = 0\n",
    "        for a in self.a:\n",
    "            if a[-1] > x:\n",
    "                return ans + bisect_right(a, x)\n",
    "            ans += len(a)\n",
    "        return ans"
   ]
  },
  {
   "cell_type": "code",
   "execution_count": 18,
   "id": "912fbc38-398e-41ae-9d6c-f85cfdb435bb",
   "metadata": {},
   "outputs": [
    {
     "data": {
      "text/plain": [
       "SortedSet[[1, 2, 7, 8]]"
      ]
     },
     "execution_count": 18,
     "metadata": {},
     "output_type": "execute_result"
    }
   ],
   "source": [
    "s = SortedSet(A)\n",
    "s"
   ]
  },
  {
   "cell_type": "code",
   "execution_count": 23,
   "id": "f6600768-61fa-45c9-9b78-36bdbbea48ee",
   "metadata": {},
   "outputs": [
    {
     "data": {
      "text/plain": [
       "4"
      ]
     },
     "execution_count": 23,
     "metadata": {},
     "output_type": "execute_result"
    }
   ],
   "source": [
    "NN = len(s)\n",
    "NN"
   ]
  },
  {
   "cell_type": "code",
   "execution_count": 25,
   "id": "62a8fe74-fa69-45a5-8335-9aabff47ffd5",
   "metadata": {},
   "outputs": [
    {
     "data": {
      "text/plain": [
       "[2, 1, 3, 0, 2, 0]"
      ]
     },
     "execution_count": 25,
     "metadata": {},
     "output_type": "execute_result"
    }
   ],
   "source": [
    "collect = []\n",
    "for i in range(N):\n",
    "    collect.append(NN - s.index_right(A[i]))\n",
    "collect"
   ]
  },
  {
   "cell_type": "code",
   "execution_count": 26,
   "id": "b181d349-edbd-4762-8b2d-a2bbfc9b4e9a",
   "metadata": {},
   "outputs": [
    {
     "data": {
      "text/plain": [
       "Counter({2: 2, 1: 1, 3: 1, 0: 2})"
      ]
     },
     "execution_count": 26,
     "metadata": {},
     "output_type": "execute_result"
    }
   ],
   "source": [
    "import collections\n",
    "\n",
    "ans = collections.Counter(collect)\n",
    "ans"
   ]
  },
  {
   "cell_type": "code",
   "execution_count": 27,
   "id": "56e5124f-eeae-427c-b719-0ea65f811d46",
   "metadata": {},
   "outputs": [
    {
     "name": "stdout",
     "output_type": "stream",
     "text": [
      "2\n",
      "1\n",
      "2\n",
      "1\n",
      "0\n",
      "0\n"
     ]
    }
   ],
   "source": [
    "for i in range(N):\n",
    "    print (ans[i])"
   ]
  },
  {
   "cell_type": "code",
   "execution_count": null,
   "id": "79e83f6a-f227-457c-a3c0-9eba588cce44",
   "metadata": {},
   "outputs": [],
   "source": []
  }
 ],
 "metadata": {
  "kernelspec": {
   "display_name": "Python 3 (ipykernel)",
   "language": "python",
   "name": "python3"
  },
  "language_info": {
   "codemirror_mode": {
    "name": "ipython",
    "version": 3
   },
   "file_extension": ".py",
   "mimetype": "text/x-python",
   "name": "python",
   "nbconvert_exporter": "python",
   "pygments_lexer": "ipython3",
   "version": "3.8.13"
  }
 },
 "nbformat": 4,
 "nbformat_minor": 5
}
