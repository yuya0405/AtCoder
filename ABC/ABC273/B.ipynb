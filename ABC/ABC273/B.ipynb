{
 "cells": [
  {
   "cell_type": "code",
   "execution_count": 54,
   "id": "fdc0aa26-e0e4-448a-9a84-d60f57cca469",
   "metadata": {},
   "outputs": [
    {
     "name": "stdin",
     "output_type": "stream",
     "text": [
      " 2048 2\n"
     ]
    }
   ],
   "source": [
    "X, K = map(int, input().split())"
   ]
  },
  {
   "cell_type": "code",
   "execution_count": 55,
   "id": "26e2ee7f-9867-4c01-b1d8-46328e715d09",
   "metadata": {},
   "outputs": [],
   "source": [
    "from decimal import Decimal, ROUND_HALF_UP, ROUND_HALF_EVEN"
   ]
  },
  {
   "cell_type": "code",
   "execution_count": 56,
   "id": "9ffb1f1f-925b-4858-83ba-d3a578d8b559",
   "metadata": {},
   "outputs": [
    {
     "name": "stdout",
     "output_type": "stream",
     "text": [
      "2050\n",
      "2100\n"
     ]
    }
   ],
   "source": [
    "for i in range(K):\n",
    "    X = int(Decimal(X).quantize(Decimal('1E' + str(i+1)), rounding=ROUND_HALF_UP))\n",
    "print (X)"
   ]
  },
  {
   "cell_type": "code",
   "execution_count": null,
   "id": "d26081c6-200a-41a0-9a2a-d137a1b753cd",
   "metadata": {},
   "outputs": [],
   "source": []
  }
 ],
 "metadata": {
  "kernelspec": {
   "display_name": "Python 3 (ipykernel)",
   "language": "python",
   "name": "python3"
  },
  "language_info": {
   "codemirror_mode": {
    "name": "ipython",
    "version": 3
   },
   "file_extension": ".py",
   "mimetype": "text/x-python",
   "name": "python",
   "nbconvert_exporter": "python",
   "pygments_lexer": "ipython3",
   "version": "3.8.13"
  }
 },
 "nbformat": 4,
 "nbformat_minor": 5
}
