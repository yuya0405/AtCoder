{
 "cells": [
  {
   "cell_type": "code",
   "execution_count": 25,
   "id": "d39d02d3-090b-43fe-b00c-d7ea9f51b39a",
   "metadata": {},
   "outputs": [
    {
     "name": "stdin",
     "output_type": "stream",
     "text": [
      " 3\n",
      " 1 1 2\n",
      " 2 2 3\n",
      " 3 2 4\n"
     ]
    }
   ],
   "source": [
    "N = int(input())\n",
    "TLR = [list(map(int, input().split())) for _ in range(N)]"
   ]
  },
  {
   "cell_type": "code",
   "execution_count": 36,
   "id": "d0894748-a2fd-4261-b36f-bd01d809241d",
   "metadata": {},
   "outputs": [
    {
     "data": {
      "text/plain": [
       "[(0, 1), (0, 2), (1, 2)]"
      ]
     },
     "execution_count": 36,
     "metadata": {},
     "output_type": "execute_result"
    }
   ],
   "source": [
    "import itertools\n",
    "B = list(range(0,3))\n",
    "C = list(itertools.combinations(B, 2))\n",
    "C"
   ]
  },
  {
   "cell_type": "code",
   "execution_count": 86,
   "id": "360bad59-e39b-4188-bd55-cb0d618f39a5",
   "metadata": {},
   "outputs": [
    {
     "name": "stdout",
     "output_type": "stream",
     "text": [
      "{1.0, 2.0, 2.5, 1.5}\n",
      "{2.0, 2.5}\n",
      "{1.0, 2.0, 2.5, 1.5}\n",
      "{3.5, 3.0, 4.0, 4.5}\n",
      "{2.0, 2.5}\n",
      "{3.5, 3.0, 4.0, 4.5}\n"
     ]
    },
    {
     "data": {
      "text/plain": [
       "1"
      ]
     },
     "execution_count": 86,
     "metadata": {},
     "output_type": "execute_result"
    }
   ],
   "source": [
    "cnt = 0\n",
    "for c in C:\n",
    "    t1, l1, r1 = TLR[c[0]]\n",
    "    t2, l2, r2 = TLR[c[1]]\n",
    "    \n",
    "    if t1 == 1:\n",
    "        set1 = set([i/10 for i in range(l1*10, (r1+1)*10, 5)])\n",
    "    elif t1 == 2:\n",
    "        set1 = set([i/10 for i in range(l1*10, r1*10, 5)])\n",
    "    elif t1 == 3:\n",
    "        set1 = set([i/10 for i in range((l1+1)*10, (r1+1)*10, 5)])\n",
    "    elif t1 == 4:\n",
    "        set1 = set([i/10 for i in range((l1+1)*10, r1*10, 5)])\n",
    "        \n",
    "    if t2 == 1:\n",
    "        set2 = set([i/10 for i in range(l2*10, (r2+1)*10, 5)])\n",
    "    elif t2 == 2:\n",
    "        set2 = set([i/10 for i in range(l2*10, r2*10, 5)])\n",
    "    elif t2 == 3:\n",
    "        set2 = set([i/10 for i in range((l2+1)*10, (r2+1)*10, 5)])\n",
    "    elif t2 == 4:\n",
    "        set2 = set([i/10 for i in range((l2+1)*10, r2*10, 5)])\n",
    "        \n",
    "    print (set1)\n",
    "    print (set2)\n",
    "    \n",
    "    if set1&set2:\n",
    "        cnt += 1\n",
    "cnt"
   ]
  },
  {
   "cell_type": "code",
   "execution_count": null,
   "id": "ad9fc01a-c9a6-4c25-a1f9-cd99a0248d0a",
   "metadata": {},
   "outputs": [],
   "source": []
  }
 ],
 "metadata": {
  "kernelspec": {
   "display_name": "Python 3",
   "language": "python",
   "name": "python3"
  },
  "language_info": {
   "codemirror_mode": {
    "name": "ipython",
    "version": 3
   },
   "file_extension": ".py",
   "mimetype": "text/x-python",
   "name": "python",
   "nbconvert_exporter": "python",
   "pygments_lexer": "ipython3",
   "version": "3.8.8"
  }
 },
 "nbformat": 4,
 "nbformat_minor": 5
}
