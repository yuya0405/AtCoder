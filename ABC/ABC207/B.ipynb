{
 "cells": [
  {
   "cell_type": "code",
   "execution_count": 6,
   "id": "cde6901f-6fc1-4630-9845-c4cac027334d",
   "metadata": {},
   "outputs": [],
   "source": [
    "A, B, C, D = map(int, input().split())\n",
    "\n",
    "mizu = A\n",
    "aka = 0\n",
    "cnt = 0\n",
    "\n",
    "flag = True\n",
    "while(flag):\n",
    "    if mizu <= aka * D:\n",
    "        print (cnt)\n",
    "        break\n",
    "    cnt += 1\n",
    "    mizu += B\n",
    "    aka += C\n",
    "    if cnt >= 10**5+1:\n",
    "        print (-1)\n",
    "        break"
   ]
  },
  {
   "cell_type": "code",
   "execution_count": null,
   "id": "f0d24166-d0bb-4606-b320-70b3e0cdf61c",
   "metadata": {},
   "outputs": [],
   "source": []
  }
 ],
 "metadata": {
  "kernelspec": {
   "display_name": "Python 3",
   "language": "python",
   "name": "python3"
  },
  "language_info": {
   "codemirror_mode": {
    "name": "ipython",
    "version": 3
   },
   "file_extension": ".py",
   "mimetype": "text/x-python",
   "name": "python",
   "nbconvert_exporter": "python",
   "pygments_lexer": "ipython3",
   "version": "3.8.8"
  }
 },
 "nbformat": 4,
 "nbformat_minor": 5
}
