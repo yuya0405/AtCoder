{
 "cells": [
  {
   "cell_type": "code",
   "execution_count": 157,
   "id": "371db918-0334-4faa-85cc-61bd3830943d",
   "metadata": {},
   "outputs": [
    {
     "name": "stdin",
     "output_type": "stream",
     "text": [
      " 2 40\n",
      " 3 1 8 4\n",
      " 2 10 5\n"
     ]
    }
   ],
   "source": [
    "N, X = map(int, input().split())\n",
    "LA = [list(map(int, input().split())) for _ in range(N)]"
   ]
  },
  {
   "cell_type": "code",
   "execution_count": 158,
   "id": "357659d9-cbd0-45b9-8327-d815c4eac09b",
   "metadata": {},
   "outputs": [],
   "source": [
    "L = []\n",
    "A = []\n",
    "for la in LA:\n",
    "    L.append(la[0])\n",
    "    A.append(la[1:])"
   ]
  },
  {
   "cell_type": "code",
   "execution_count": 159,
   "id": "4556a0fb-a9cc-474a-bd3e-770335077084",
   "metadata": {},
   "outputs": [
    {
     "name": "stdout",
     "output_type": "stream",
     "text": [
      "2\n"
     ]
    }
   ],
   "source": [
    "from itertools import product\n",
    "\n",
    "num = 0\n",
    "for i in product(*A):\n",
    "    ans = 1\n",
    "    for j in i:\n",
    "        ans *= j\n",
    "    if ans == X:\n",
    "        num += 1\n",
    "print (num)"
   ]
  },
  {
   "cell_type": "code",
   "execution_count": null,
   "id": "2a4e68e5-6d9a-4770-9b85-5aa2cfb4f862",
   "metadata": {},
   "outputs": [],
   "source": []
  }
 ],
 "metadata": {
  "kernelspec": {
   "display_name": "Python 3",
   "language": "python",
   "name": "python3"
  },
  "language_info": {
   "codemirror_mode": {
    "name": "ipython",
    "version": 3
   },
   "file_extension": ".py",
   "mimetype": "text/x-python",
   "name": "python",
   "nbconvert_exporter": "python",
   "pygments_lexer": "ipython3",
   "version": "3.8.8"
  }
 },
 "nbformat": 4,
 "nbformat_minor": 5
}
