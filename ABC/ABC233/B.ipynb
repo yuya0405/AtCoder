{
 "cells": [
  {
   "cell_type": "code",
   "execution_count": 30,
   "id": "14708750-5254-465c-a666-1960334ff2fb",
   "metadata": {},
   "outputs": [],
   "source": [
    "L, R = map(int, input().split())\n",
    "S = input()\n",
    "\n",
    "ans = \"\"\n",
    "ans += S[:L-1]\n",
    "\n",
    "for i in reversed(S[L-1:R]):\n",
    "    ans += i\n",
    "\n",
    "ans += S[R:]\n",
    "\n",
    "print (ans)"
   ]
  },
  {
   "cell_type": "code",
   "execution_count": null,
   "id": "dcdde03a-ade3-4176-b98e-9a66e0793a49",
   "metadata": {},
   "outputs": [],
   "source": []
  }
 ],
 "metadata": {
  "kernelspec": {
   "display_name": "Python 3",
   "language": "python",
   "name": "python3"
  },
  "language_info": {
   "codemirror_mode": {
    "name": "ipython",
    "version": 3
   },
   "file_extension": ".py",
   "mimetype": "text/x-python",
   "name": "python",
   "nbconvert_exporter": "python",
   "pygments_lexer": "ipython3",
   "version": "3.8.8"
  }
 },
 "nbformat": 4,
 "nbformat_minor": 5
}
