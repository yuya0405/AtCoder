{
 "cells": [
  {
   "cell_type": "code",
   "execution_count": 21,
   "id": "4d559f22-fa9c-41fe-ac5d-4125610f7df5",
   "metadata": {},
   "outputs": [],
   "source": [
    "X, Y = map(int, input().split())\n",
    "\n",
    "if X >= Y:\n",
    "    print (0)\n",
    "elif (Y-X)%10 == 0:\n",
    "    print ((Y-X)//10)\n",
    "else:\n",
    "    print ((Y-X)//10+1)"
   ]
  },
  {
   "cell_type": "code",
   "execution_count": null,
   "id": "c91788cd-67d2-4ca2-8eb1-f088963ada62",
   "metadata": {},
   "outputs": [],
   "source": []
  }
 ],
 "metadata": {
  "kernelspec": {
   "display_name": "Python 3",
   "language": "python",
   "name": "python3"
  },
  "language_info": {
   "codemirror_mode": {
    "name": "ipython",
    "version": 3
   },
   "file_extension": ".py",
   "mimetype": "text/x-python",
   "name": "python",
   "nbconvert_exporter": "python",
   "pygments_lexer": "ipython3",
   "version": "3.8.8"
  }
 },
 "nbformat": 4,
 "nbformat_minor": 5
}
