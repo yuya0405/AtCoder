{
 "cells": [
  {
   "cell_type": "code",
   "execution_count": 27,
   "id": "b8fae276-91fc-4045-a086-07d4c4072ec5",
   "metadata": {},
   "outputs": [],
   "source": [
    "N, K = map(int, input().split())\n",
    "A = list(map(int, input().split()))\n",
    "\n",
    "from itertools import accumulate\n",
    "sum = [0] + list(accumulate(A))\n",
    "\n",
    "ans = 0\n",
    "for i in sum:\n",
    "    for j in sum:\n",
    "        if abs(i-j) == K:\n",
    "            ans += 1\n",
    "            \n",
    "print (ans//2)"
   ]
  },
  {
   "cell_type": "code",
   "execution_count": 18,
   "id": "d214f0e2-1b99-4653-a8c2-614ec0f6f7dd",
   "metadata": {},
   "outputs": [
    {
     "name": "stdout",
     "output_type": "stream",
     "text": [
      "1\n"
     ]
    }
   ],
   "source": [
    "from scipy.special import comb\n",
    "\n",
    "ans = 0\n",
    "for c in C:\n",
    "    if C[c] >= 2:\n",
    "        ans += comb(C[c], 2, exact=True)\n",
    "print(ans)"
   ]
  },
  {
   "cell_type": "code",
   "execution_count": null,
   "id": "c0bb454e-d413-4df9-befa-95583a57f318",
   "metadata": {},
   "outputs": [],
   "source": []
  }
 ],
 "metadata": {
  "kernelspec": {
   "display_name": "Python 3",
   "language": "python",
   "name": "python3"
  },
  "language_info": {
   "codemirror_mode": {
    "name": "ipython",
    "version": 3
   },
   "file_extension": ".py",
   "mimetype": "text/x-python",
   "name": "python",
   "nbconvert_exporter": "python",
   "pygments_lexer": "ipython3",
   "version": "3.8.8"
  }
 },
 "nbformat": 4,
 "nbformat_minor": 5
}
