{
 "cells": [
  {
   "cell_type": "code",
   "execution_count": 1,
   "id": "0ff4babd-0d64-41ca-9478-04f5f0a82d97",
   "metadata": {},
   "outputs": [
    {
     "name": "stdin",
     "output_type": "stream",
     "text": [
      " 6 5\n",
      " 8 -3 5 7 0 -4\n"
     ]
    }
   ],
   "source": [
    "N, K = map(int, input().split())\n",
    "A = list(map(int, input().split()))"
   ]
  },
  {
   "cell_type": "code",
   "execution_count": 8,
   "id": "845913d5-945f-4b52-932d-b4680365e6f5",
   "metadata": {},
   "outputs": [
    {
     "data": {
      "text/plain": [
       "[0, 8, 5, 10, 17, 17, 13]"
      ]
     },
     "execution_count": 8,
     "metadata": {},
     "output_type": "execute_result"
    }
   ],
   "source": [
    "import itertools\n",
    "\n",
    "B = [0] + list(itertools.accumulate(A))"
   ]
  },
  {
   "cell_type": "code",
   "execution_count": 4,
   "id": "17db9a98-201f-4b09-96b0-61f53d9ba173",
   "metadata": {},
   "outputs": [
    {
     "name": "stdout",
     "output_type": "stream",
     "text": [
      "deque([]) 0\n",
      "deque([-3]) -3\n",
      "deque([-3, 5]) 2\n",
      "deque([]) 0\n",
      "deque([0]) 0\n",
      "deque([0, -4]) -4\n",
      "0\n"
     ]
    }
   ],
   "source": [
    "# 単調性が無いので不可\n",
    "\n",
    "from collections import deque\n",
    "\n",
    "que = deque()\n",
    "s = 0\n",
    "ans = 0\n",
    "for a in A:\n",
    "    que.append(a)  ## dequeの右端に要素を一つ追加する。\n",
    "    s += a\n",
    "\n",
    "    while que and s > K:\n",
    "        rm = que.popleft() ## 条件を満たさないのでdequeの左端から要素を取り除く\n",
    "        s -= rm\n",
    "        \n",
    "    print (que, s)\n",
    "    if s == K:\n",
    "        ans += 1\n",
    "print (ans)"
   ]
  },
  {
   "cell_type": "code",
   "execution_count": null,
   "id": "80ad880f-0892-4bd6-86ef-0fe166e2adb9",
   "metadata": {},
   "outputs": [],
   "source": []
  }
 ],
 "metadata": {
  "kernelspec": {
   "display_name": "Python 3",
   "language": "python",
   "name": "python3"
  },
  "language_info": {
   "codemirror_mode": {
    "name": "ipython",
    "version": 3
   },
   "file_extension": ".py",
   "mimetype": "text/x-python",
   "name": "python",
   "nbconvert_exporter": "python",
   "pygments_lexer": "ipython3",
   "version": "3.8.8"
  }
 },
 "nbformat": 4,
 "nbformat_minor": 5
}
