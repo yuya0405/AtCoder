{
 "cells": [
  {
   "cell_type": "code",
   "execution_count": 39,
   "id": "8a8a911c-928c-43ec-b91b-09bf3c8b1e97",
   "metadata": {},
   "outputs": [],
   "source": [
    "x1, y1, x2, y2 = map(int, input().split())\n",
    "\n",
    "x2_new = x2 - x1\n",
    "y2_new = y2 - y1\n",
    "\n",
    "koushi = [[1,2],[2,1],[2,-1],[1,-2],[-1,-2],[-2,-1],[-2,1],[-1,2]]\n",
    "\n",
    "flag = False\n",
    "for x, y in koushi:\n",
    "    if ((x-x2_new)**2+(y-y2_new)**2)**0.5 == 5**0.5:\n",
    "        flag = True\n",
    "        break\n",
    "\n",
    "if flag == True:\n",
    "    print (\"Yes\")\n",
    "else:\n",
    "    print (\"No\")"
   ]
  },
  {
   "cell_type": "code",
   "execution_count": null,
   "id": "62b830b3-77af-4749-b357-2de4d6da719b",
   "metadata": {},
   "outputs": [],
   "source": []
  }
 ],
 "metadata": {
  "kernelspec": {
   "display_name": "Python 3",
   "language": "python",
   "name": "python3"
  },
  "language_info": {
   "codemirror_mode": {
    "name": "ipython",
    "version": 3
   },
   "file_extension": ".py",
   "mimetype": "text/x-python",
   "name": "python",
   "nbconvert_exporter": "python",
   "pygments_lexer": "ipython3",
   "version": "3.8.8"
  }
 },
 "nbformat": 4,
 "nbformat_minor": 5
}
