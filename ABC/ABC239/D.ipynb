{
 "cells": [
  {
   "cell_type": "code",
   "execution_count": 7,
   "id": "ae557f04-074f-400e-9244-8f9ddfde0796",
   "metadata": {},
   "outputs": [
    {
     "name": "stdin",
     "output_type": "stream",
     "text": [
      " 2 3 3 5\n"
     ]
    },
    {
     "name": "stdout",
     "output_type": "stream",
     "text": [
      "Aoki\n"
     ]
    }
   ],
   "source": [
    "A, B, C, D = map(int, input().split())\n",
    "\n",
    "import math\n",
    "\n",
    "def sieve_of_eratosthenes(n):\n",
    "    prime = [True for i in range(n+1)]\n",
    "    prime[0] = False\n",
    "    prime[1] = False\n",
    "\n",
    "    sqrt_n = math.ceil(math.sqrt(n))\n",
    "    for i in range(2, sqrt_n):\n",
    "        if prime[i]:\n",
    "            for j in range(2*i, n+1, i):\n",
    "                prime[j] = False\n",
    "\n",
    "    return prime\n",
    "\n",
    "mini = A+C\n",
    "maxi = B+D\n",
    "\n",
    "PRIME = []\n",
    "prime = sieve_of_eratosthenes(maxi)\n",
    "for p in range(mini, maxi+1):\n",
    "    if prime[p]:\n",
    "        PRIME.append(p)\n",
    "\n",
    "if PRIME == []:\n",
    "    print (\"Takahashi\")\n",
    "    print (\"EXIT1\")\n",
    "\n",
    "if len(PRIME) == 1:\n",
    "    for t in range(A, B+1):\n",
    "        flag = False\n",
    "        for a in range(C, D+1):\n",
    "            if t + a == PRIME[0]:\n",
    "                flag = True\n",
    "        if flag == False:\n",
    "            print (\"Takahashi\")\n",
    "            print (\"EXIT2\")\n",
    "    print (\"Aoki\")\n",
    "    print (\"EXIT3\")\n",
    "\n",
    "import numpy as np\n",
    "if max(np.diff(PRIME)) > (D-C+1):\n",
    "    print (\"Takahashi\")\n",
    "else:\n",
    "    print (\"Aoki\")"
   ]
  },
  {
   "cell_type": "code",
   "execution_count": 15,
   "id": "c5af0c91-817a-48a3-b350-c1d890dded2f",
   "metadata": {},
   "outputs": [
    {
     "name": "stdin",
     "output_type": "stream",
     "text": [
      " 3 14 1 5\n"
     ]
    },
    {
     "name": "stdout",
     "output_type": "stream",
     "text": [
      "Aoki\n",
      "EXIT3\n"
     ]
    }
   ],
   "source": [
    "A, B, C, D = map(int, input().split())\n",
    "\n",
    "import math\n",
    "\n",
    "def sieve_of_eratosthenes(n):\n",
    "    prime = [True for i in range(n+1)]\n",
    "    prime[0] = False\n",
    "    prime[1] = False\n",
    "\n",
    "    sqrt_n = math.ceil(math.sqrt(n))\n",
    "    for i in range(2, sqrt_n):\n",
    "        if prime[i]:\n",
    "            for j in range(2*i, n+1, i):\n",
    "                prime[j] = False\n",
    "\n",
    "    return prime\n",
    "\n",
    "mini = A+C\n",
    "maxi = B+D\n",
    "\n",
    "PRIME = []\n",
    "prime = sieve_of_eratosthenes(maxi)\n",
    "for p in range(mini, maxi+1):\n",
    "    if prime[p]:\n",
    "        PRIME.append(p)\n",
    "\n",
    "if PRIME == []:\n",
    "    print (\"Takahashi\")\n",
    "    exit()\n",
    "\n",
    "for t in range(A, B+1):\n",
    "    flag = False\n",
    "    for a in range(C, D+1):\n",
    "        if t + a in PRIME:\n",
    "            flag = True\n",
    "    if flag == False:\n",
    "        print (\"Takahashi\")\n",
    "        exit()\n",
    "print (\"Aoki\")"
   ]
  },
  {
   "cell_type": "code",
   "execution_count": null,
   "id": "972985d7-49ca-4870-ba9a-256ed06261fe",
   "metadata": {},
   "outputs": [],
   "source": []
  }
 ],
 "metadata": {
  "kernelspec": {
   "display_name": "Python 3",
   "language": "python",
   "name": "python3"
  },
  "language_info": {
   "codemirror_mode": {
    "name": "ipython",
    "version": 3
   },
   "file_extension": ".py",
   "mimetype": "text/x-python",
   "name": "python",
   "nbconvert_exporter": "python",
   "pygments_lexer": "ipython3",
   "version": "3.8.8"
  }
 },
 "nbformat": 4,
 "nbformat_minor": 5
}
