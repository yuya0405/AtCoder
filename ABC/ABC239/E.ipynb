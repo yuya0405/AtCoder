{
 "cells": [
  {
   "cell_type": "code",
   "execution_count": 303,
   "id": "9af0e379-0d10-4b9c-817d-68dea31fb427",
   "metadata": {},
   "outputs": [
    {
     "name": "stdin",
     "output_type": "stream",
     "text": [
      " 5 2\n",
      " 1 2 3 4 5\n",
      " 1 4\n",
      " 2 1\n",
      " 2 5\n",
      " 3 2\n",
      " 1 2\n",
      " 2 1\n"
     ]
    }
   ],
   "source": [
    "N, Q = map(int, input().split())\n",
    "X = list(map(int, input().split()))\n",
    "AB = [list(map(int, input().split())) for _ in range(N-1)]\n",
    "VK = [list(map(int, input().split())) for _ in range(Q)]"
   ]
  },
  {
   "cell_type": "code",
   "execution_count": 311,
   "id": "9d1181a8-8c69-4401-a256-f6c1d7c7309d",
   "metadata": {},
   "outputs": [
    {
     "name": "stdout",
     "output_type": "stream",
     "text": [
      "[[1], [], [], [4], []]\n",
      "[[1, 4], [2], [], [4], [5]]\n",
      "[[1, 4], [2, 5], [3], [4], [5]]\n",
      "[[1, 4], [2, 5, 3], [3], [4], [5]]\n",
      "[[1, 4, 5, 3, 2], [5, 3, 2], [3], [4], [5]]\n",
      "4\n",
      "5\n"
     ]
    }
   ],
   "source": [
    "G = [[] for i in range(N)]\n",
    "for a, b in AB:\n",
    "    G[a-1].append(b-1)\n",
    "    G[b-1].append(a-1)\n",
    "\n",
    "num = [[] for _ in range(N)]\n",
    "\n",
    "# アルゴ式\n",
    "\n",
    "# スタックオーバーフローを防ぐ\n",
    "import sys\n",
    "sys.setrecursionlimit(10 ** 6)\n",
    "\n",
    "# 頂点 v を根とする部分木を探索\n",
    "# 頂点 v の子頂点を格納した配列を chs とする\n",
    "def rec(v, p):\n",
    "    num[v].append(X[v])\n",
    "    # 各子頂点を探索\n",
    "    for ch in G[v]:\n",
    "        # 子頂点 ch を根とした部分木を再帰的に探索\n",
    "        if ch != p:\n",
    "            rec(ch, v)\n",
    "            num[v].extend(num[ch])\n",
    "    num[v].sort(reverse=True)\n",
    "    num[v] = num[v][:20]\n",
    "\n",
    "# 根頂点 (0) から再帰的に探索\n",
    "rec(0, -1)\n",
    "\n",
    "for v, k in VK:\n",
    "    print (num[v-1][k-1])"
   ]
  },
  {
   "cell_type": "code",
   "execution_count": null,
   "id": "bd4ba624-1733-4caf-b021-f5d8119b0ee7",
   "metadata": {},
   "outputs": [],
   "source": []
  }
 ],
 "metadata": {
  "kernelspec": {
   "display_name": "Python 3",
   "language": "python",
   "name": "python3"
  },
  "language_info": {
   "codemirror_mode": {
    "name": "ipython",
    "version": 3
   },
   "file_extension": ".py",
   "mimetype": "text/x-python",
   "name": "python",
   "nbconvert_exporter": "python",
   "pygments_lexer": "ipython3",
   "version": "3.8.8"
  }
 },
 "nbformat": 4,
 "nbformat_minor": 5
}
