{
 "cells": [
  {
   "cell_type": "code",
   "execution_count": 296,
   "id": "a4854c07-8ad4-481f-8990-382b4d7e47e8",
   "metadata": {},
   "outputs": [],
   "source": [
    "N, Q = map(int, input().split())\n",
    "X = list(map(int, input().split()))\n",
    "AB = [list(map(int, input().split())) for _ in range(N-1)]\n",
    "VK = [list(map(int, input().split())) for _ in range(Q)]\n",
    "\n",
    "G = [[] for i in range(N)]\n",
    "for a, b in AB:\n",
    "    G[a-1].append(b-1)\n",
    "    G[b-1].append(a-1)\n",
    "\n",
    "num = [[] for _ in range(N)]\n",
    "\n",
    "# アルゴ式\n",
    "\n",
    "# スタックオーバーフローを防ぐ\n",
    "import sys\n",
    "sys.setrecursionlimit(10 ** 6)\n",
    "\n",
    "# 頂点 v を根とする部分木を探索\n",
    "# 頂点 v の子頂点を格納した配列を chs とする\n",
    "def rec(v, p):\n",
    "    num[v].append(X[v])\n",
    "    # 各子頂点を探索\n",
    "    for ch in G[v]:\n",
    "        # 子頂点 ch を根とした部分木を再帰的に探索\n",
    "        if ch != p:\n",
    "            rec(ch, v)\n",
    "            num[v].extend(num[ch])\n",
    "\n",
    "# 根頂点 (0) から再帰的に探索\n",
    "rec(0, -1)\n",
    "\n",
    "for i in range(N):\n",
    "    num[i].sort()\n",
    "\n",
    "for v, k in VK:\n",
    "    print (num[v-1][-1*k])"
   ]
  },
  {
   "cell_type": "code",
   "execution_count": null,
   "id": "95ef8bb3-f270-4290-9071-ffbd10254dec",
   "metadata": {},
   "outputs": [],
   "source": []
  }
 ],
 "metadata": {
  "kernelspec": {
   "display_name": "Python 3",
   "language": "python",
   "name": "python3"
  },
  "language_info": {
   "codemirror_mode": {
    "name": "ipython",
    "version": 3
   },
   "file_extension": ".py",
   "mimetype": "text/x-python",
   "name": "python",
   "nbconvert_exporter": "python",
   "pygments_lexer": "ipython3",
   "version": "3.8.8"
  }
 },
 "nbformat": 4,
 "nbformat_minor": 5
}
