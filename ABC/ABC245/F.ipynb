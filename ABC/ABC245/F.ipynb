{
 "cells": [
  {
   "cell_type": "code",
   "execution_count": 2,
   "id": "b1e58b17-bdbe-44f8-a387-0c30828eb2dc",
   "metadata": {},
   "outputs": [
    {
     "name": "stdin",
     "output_type": "stream",
     "text": [
      " 5 5\n",
      " 1 2\n",
      " 2 3\n",
      " 3 4\n",
      " 4 2\n",
      " 4 5\n"
     ]
    }
   ],
   "source": [
    "N, M = map(int, input().split())\n",
    "UV = [list(map(int, input().split())) for _ in range(M)]"
   ]
  },
  {
   "cell_type": "code",
   "execution_count": 15,
   "id": "c8552d24-918f-46f8-b36e-07a71df45a18",
   "metadata": {},
   "outputs": [
    {
     "data": {
      "text/plain": [
       "[[1], [2], [3], [1, 4], []]"
      ]
     },
     "execution_count": 15,
     "metadata": {},
     "output_type": "execute_result"
    }
   ],
   "source": [
    "G = [[] for _ in range(N)]\n",
    "for u, v in UV:\n",
    "    G[u-1].append(v-1)\n",
    "G"
   ]
  },
  {
   "cell_type": "code",
   "execution_count": 16,
   "id": "a22fe1dd-ad34-48e1-bfa4-c4278b3a844c",
   "metadata": {},
   "outputs": [],
   "source": [
    "from collections import defaultdict\n",
    "\n",
    "class UnionFind():\n",
    "    def __init__(self, n):\n",
    "        self.n = n\n",
    "        self.parents = [-1] * n\n",
    "\n",
    "    def find(self, x):\n",
    "        if self.parents[x] < 0:\n",
    "            return x\n",
    "        else:\n",
    "            self.parents[x] = self.find(self.parents[x])\n",
    "            return self.parents[x]\n",
    "\n",
    "    def union(self, x, y):\n",
    "        x = self.find(x)\n",
    "        y = self.find(y)\n",
    "\n",
    "        if x == y:\n",
    "            return\n",
    "\n",
    "        if self.parents[x] > self.parents[y]:\n",
    "            x, y = y, x\n",
    "\n",
    "        self.parents[x] += self.parents[y]\n",
    "        self.parents[y] = x\n",
    "\n",
    "    def size(self, x):\n",
    "        return -self.parents[self.find(x)]\n",
    "\n",
    "    def same(self, x, y):\n",
    "        return self.find(x) == self.find(y)\n",
    "\n",
    "    def members(self, x):\n",
    "        root = self.find(x)\n",
    "        return [i for i in range(self.n) if self.find(i) == root]\n",
    "\n",
    "    def roots(self):\n",
    "        return [i for i, x in enumerate(self.parents) if x < 0]\n",
    "\n",
    "    def group_count(self):\n",
    "        return len(self.roots())\n",
    "\n",
    "    def all_group_members(self):\n",
    "        group_members = defaultdict(list)\n",
    "        for member in range(self.n):\n",
    "            group_members[self.find(member)].append(member)\n",
    "        return group_members\n",
    "\n",
    "    def __str__(self):\n",
    "        return '\\n'.join(f'{r}: {m}' for r, m in self.all_group_members().items())"
   ]
  },
  {
   "cell_type": "code",
   "execution_count": 21,
   "id": "b19365a7-24c8-4ed0-84af-3f1465f42626",
   "metadata": {},
   "outputs": [
    {
     "name": "stdout",
     "output_type": "stream",
     "text": [
      "2\n"
     ]
    }
   ],
   "source": [
    "roop = set()\n",
    "\n",
    "uf = UnionFind(N)\n",
    "for u, v in UV:\n",
    "    if uf.same(u-1, v-1) == True:\n",
    "        roop.add(u-1)\n",
    "        roop.add(v-1)\n",
    "    uf.union(u-1, v-1)\n",
    "print (len(roop))"
   ]
  },
  {
   "cell_type": "code",
   "execution_count": 18,
   "id": "193450a0-565e-4343-a5db-2bbeefea9353",
   "metadata": {},
   "outputs": [],
   "source": [
    "s = v-1\n",
    "g = u-1"
   ]
  },
  {
   "cell_type": "code",
   "execution_count": 35,
   "id": "e0dcca64-ee1d-4adb-b8fd-1a2577572cd4",
   "metadata": {},
   "outputs": [],
   "source": [
    "# アルゴ式\n",
    "\n",
    "# スタックオーバーフローを防ぐ\n",
    "import sys\n",
    "sys.setrecursionlimit(10 ** 6)\n",
    "\n",
    "# 頂点 v を根とする部分木を探索\n",
    "# 頂点 v の子頂点を格納した配列を chs とする\n",
    "def dfs(v, p):\n",
    "    if v == g:\n",
    "        roop.add(v)\n",
    "\n",
    "    # 各子頂点を探索\n",
    "    for ch in G[v]:\n",
    "        # 子頂点 ch を根とした部分木を再帰的に探索\n",
    "        dfs(ch, v)\n",
    "\n",
    "# 根頂点 (0) から再帰的に探索\n",
    "dfs(s, -1)"
   ]
  },
  {
   "cell_type": "code",
   "execution_count": 36,
   "id": "976e46ca-ff28-4fb5-b6c1-0c64283c52d6",
   "metadata": {},
   "outputs": [
    {
     "data": {
      "text/plain": [
       "{1, 3}"
      ]
     },
     "execution_count": 36,
     "metadata": {},
     "output_type": "execute_result"
    }
   ],
   "source": [
    "roop"
   ]
  },
  {
   "cell_type": "code",
   "execution_count": null,
   "id": "93561011-09b6-4ef7-bc6b-ffddb81a8c0e",
   "metadata": {},
   "outputs": [],
   "source": []
  },
  {
   "cell_type": "code",
   "execution_count": null,
   "id": "d50096f6-cb55-41f5-8bd4-a8c6994f182f",
   "metadata": {},
   "outputs": [],
   "source": []
  }
 ],
 "metadata": {
  "kernelspec": {
   "display_name": "Python 3",
   "language": "python",
   "name": "python3"
  },
  "language_info": {
   "codemirror_mode": {
    "name": "ipython",
    "version": 3
   },
   "file_extension": ".py",
   "mimetype": "text/x-python",
   "name": "python",
   "nbconvert_exporter": "python",
   "pygments_lexer": "ipython3",
   "version": "3.8.8"
  }
 },
 "nbformat": 4,
 "nbformat_minor": 5
}
