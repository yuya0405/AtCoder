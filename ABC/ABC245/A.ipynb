{
 "cells": [
  {
   "cell_type": "code",
   "execution_count": 12,
   "id": "dc3b3da3-f120-4139-a352-0e593b5d441b",
   "metadata": {},
   "outputs": [],
   "source": [
    "A, B, C, D = map(int, input().split())\n",
    "\n",
    "T = A*60*60+B*60\n",
    "A = C*60*60+D*60+1\n",
    "\n",
    "if T <= A:\n",
    "    print (\"Takahashi\")\n",
    "else:\n",
    "    print (\"Aoki\")"
   ]
  },
  {
   "cell_type": "code",
   "execution_count": null,
   "id": "17a30cc3-8d69-490d-aa50-5e336b0a601c",
   "metadata": {},
   "outputs": [],
   "source": []
  }
 ],
 "metadata": {
  "kernelspec": {
   "display_name": "Python 3",
   "language": "python",
   "name": "python3"
  },
  "language_info": {
   "codemirror_mode": {
    "name": "ipython",
    "version": 3
   },
   "file_extension": ".py",
   "mimetype": "text/x-python",
   "name": "python",
   "nbconvert_exporter": "python",
   "pygments_lexer": "ipython3",
   "version": "3.8.8"
  }
 },
 "nbformat": 4,
 "nbformat_minor": 5
}
