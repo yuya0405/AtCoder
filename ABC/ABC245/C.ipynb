{
 "cells": [
  {
   "cell_type": "code",
   "execution_count": 26,
   "id": "f39b16b9-4970-43ca-8b9b-70b9b1403b17",
   "metadata": {},
   "outputs": [
    {
     "name": "stdin",
     "output_type": "stream",
     "text": [
      " 4 1000000000\n",
      " 1 1 1000000000 1000000000\n",
      " 1 1000000000 1 1000000000\n"
     ]
    }
   ],
   "source": [
    "N, K = map(int, input().split())\n",
    "A = list(map(int, input().split()))\n",
    "B = list(map(int, input().split()))"
   ]
  },
  {
   "cell_type": "code",
   "execution_count": 27,
   "id": "b8eb42fa-5df8-421b-9d9f-679bead4d81f",
   "metadata": {},
   "outputs": [
    {
     "name": "stdout",
     "output_type": "stream",
     "text": [
      "Yes\n"
     ]
    }
   ],
   "source": [
    "A_flag = True\n",
    "B_flag = True\n",
    "for i in range(N-1):\n",
    "    if A_flag:\n",
    "        n1 = abs(A[i]-A[i+1])\n",
    "        n2 = abs(A[i]-B[i+1])\n",
    "    else:\n",
    "        n1 = K+1\n",
    "        n2 = K+1\n",
    "    if B_flag:\n",
    "        n3 = abs(B[i]-A[i+1])\n",
    "        n4 = abs(B[i]-B[i+1])\n",
    "    else:\n",
    "        n3 = K+1\n",
    "        n4 = K+1\n",
    "        \n",
    "    if n1 > K and n3 > K:\n",
    "        A_flag = False\n",
    "    else:\n",
    "        A_flag = True\n",
    "    if n2 > K and n4 > K:\n",
    "        B_flag = False\n",
    "    else:\n",
    "        B_flag = True\n",
    "    \n",
    "    if A_flag == False and B_flag == False:\n",
    "        print (\"No\")\n",
    "        print (\"exit\")\n",
    "print (\"Yes\")"
   ]
  },
  {
   "cell_type": "code",
   "execution_count": null,
   "id": "6ee3f0a5-4937-4438-808c-6cbb63662084",
   "metadata": {},
   "outputs": [],
   "source": []
  }
 ],
 "metadata": {
  "kernelspec": {
   "display_name": "Python 3",
   "language": "python",
   "name": "python3"
  },
  "language_info": {
   "codemirror_mode": {
    "name": "ipython",
    "version": 3
   },
   "file_extension": ".py",
   "mimetype": "text/x-python",
   "name": "python",
   "nbconvert_exporter": "python",
   "pygments_lexer": "ipython3",
   "version": "3.8.8"
  }
 },
 "nbformat": 4,
 "nbformat_minor": 5
}
