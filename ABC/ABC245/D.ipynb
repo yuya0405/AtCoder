{
 "cells": [
  {
   "cell_type": "code",
   "execution_count": 52,
   "id": "d9951cc7-613b-48fd-87b3-02bfe73b62a1",
   "metadata": {},
   "outputs": [
    {
     "name": "stdin",
     "output_type": "stream",
     "text": [
      " 1 1\n",
      " 100 1\n",
      " 10000 0 -1\n"
     ]
    }
   ],
   "source": [
    "N, M = map(int, input().split())\n",
    "A = list(map(int, input().split()))\n",
    "C = list(map(int, input().split()))"
   ]
  },
  {
   "cell_type": "code",
   "execution_count": 57,
   "id": "5c8df935-ea32-41d4-89b5-b79d19c358ea",
   "metadata": {},
   "outputs": [
    {
     "name": "stdout",
     "output_type": "stream",
     "text": [
      "100 -1\n"
     ]
    }
   ],
   "source": [
    "A_rev = A[::-1]\n",
    "\n",
    "C_rev = C[::-1]\n",
    "\n",
    "B = []\n",
    "for m in range(M+1):\n",
    "    ind = m\n",
    "    b = C_rev[ind] // A_rev[0]\n",
    "    B.append(b)\n",
    "    for a in range(N+1):\n",
    "        C_rev[ind] -= A_rev[a] * b\n",
    "        ind += 1\n",
    "print (*B[::-1])"
   ]
  },
  {
   "cell_type": "code",
   "execution_count": null,
   "id": "c00f4a87-1f3c-4cbb-98a1-d04c6de7e1dd",
   "metadata": {},
   "outputs": [],
   "source": []
  }
 ],
 "metadata": {
  "kernelspec": {
   "display_name": "Python 3",
   "language": "python",
   "name": "python3"
  },
  "language_info": {
   "codemirror_mode": {
    "name": "ipython",
    "version": 3
   },
   "file_extension": ".py",
   "mimetype": "text/x-python",
   "name": "python",
   "nbconvert_exporter": "python",
   "pygments_lexer": "ipython3",
   "version": "3.8.8"
  }
 },
 "nbformat": 4,
 "nbformat_minor": 5
}
