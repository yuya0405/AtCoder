{
 "cells": [
  {
   "cell_type": "code",
   "execution_count": 29,
   "id": "6c7544c0-3a97-408b-91dd-5b6c110fb1db",
   "metadata": {},
   "outputs": [
    {
     "name": "stdin",
     "output_type": "stream",
     "text": [
      " 4\n",
      " 0 1 2 3\n"
     ]
    }
   ],
   "source": [
    "N = int(input())\n",
    "A = list(map(int, input().split()))"
   ]
  },
  {
   "cell_type": "code",
   "execution_count": 30,
   "id": "ac792432-deee-48db-9230-7cb558ac2481",
   "metadata": {},
   "outputs": [],
   "source": [
    "A.sort()"
   ]
  },
  {
   "cell_type": "code",
   "execution_count": 32,
   "id": "619944c7-0b01-44cd-808b-81befecfd5cc",
   "metadata": {},
   "outputs": [
    {
     "name": "stdout",
     "output_type": "stream",
     "text": [
      "4\n"
     ]
    }
   ],
   "source": [
    "pre = A[0]\n",
    "\n",
    "if pre != 0:\n",
    "    print (0)\n",
    "    exit()\n",
    "\n",
    "for a in A:\n",
    "    if pre != a and pre+1 != a:\n",
    "        print (pre+1)\n",
    "        exit()\n",
    "    pre = a\n",
    "\n",
    "print (pre+1)"
   ]
  },
  {
   "cell_type": "code",
   "execution_count": null,
   "id": "e41ba7cd-cd1c-4317-986b-84a63f8ae38f",
   "metadata": {},
   "outputs": [],
   "source": []
  }
 ],
 "metadata": {
  "kernelspec": {
   "display_name": "Python 3",
   "language": "python",
   "name": "python3"
  },
  "language_info": {
   "codemirror_mode": {
    "name": "ipython",
    "version": 3
   },
   "file_extension": ".py",
   "mimetype": "text/x-python",
   "name": "python",
   "nbconvert_exporter": "python",
   "pygments_lexer": "ipython3",
   "version": "3.8.8"
  }
 },
 "nbformat": 4,
 "nbformat_minor": 5
}
