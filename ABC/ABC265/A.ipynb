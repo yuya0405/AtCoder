{
 "cells": [
  {
   "cell_type": "code",
   "execution_count": 17,
   "id": "b3154a96-55de-4287-bd84-1d72437b8f59",
   "metadata": {},
   "outputs": [
    {
     "name": "stdin",
     "output_type": "stream",
     "text": [
      " 100 100 100\n"
     ]
    }
   ],
   "source": [
    "X, Y, N = map(int, input().split())"
   ]
  },
  {
   "cell_type": "code",
   "execution_count": 18,
   "id": "caeb6f56-25df-4aa9-b28d-5a16887adfb6",
   "metadata": {},
   "outputs": [
    {
     "data": {
      "text/plain": [
       "33.333333333333336"
      ]
     },
     "execution_count": 18,
     "metadata": {},
     "output_type": "execute_result"
    }
   ],
   "source": [
    "Y2 = Y / 3\n",
    "Y2"
   ]
  },
  {
   "cell_type": "code",
   "execution_count": 19,
   "id": "70aafa54-7c74-4039-a4a1-6ff6e7b0a08b",
   "metadata": {},
   "outputs": [
    {
     "name": "stdout",
     "output_type": "stream",
     "text": [
      "3400\n"
     ]
    }
   ],
   "source": [
    "if X < Y2:\n",
    "    print (X*N)\n",
    "else:\n",
    "    print (Y*(N//3) + X*(N%3))"
   ]
  },
  {
   "cell_type": "code",
   "execution_count": null,
   "id": "49e1263d-9784-4059-ae28-6d4cd1f46c89",
   "metadata": {},
   "outputs": [],
   "source": []
  }
 ],
 "metadata": {
  "kernelspec": {
   "display_name": "python3.8.13",
   "language": "python",
   "name": "python3.8.13"
  },
  "language_info": {
   "codemirror_mode": {
    "name": "ipython",
    "version": 3
   },
   "file_extension": ".py",
   "mimetype": "text/x-python",
   "name": "python",
   "nbconvert_exporter": "python",
   "pygments_lexer": "ipython3",
   "version": "3.8.13"
  }
 },
 "nbformat": 4,
 "nbformat_minor": 5
}
