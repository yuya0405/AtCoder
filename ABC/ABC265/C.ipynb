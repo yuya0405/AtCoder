{
 "cells": [
  {
   "cell_type": "code",
   "execution_count": 1,
   "id": "091b771c-c4d0-48c9-8235-3dd6892d87dd",
   "metadata": {},
   "outputs": [
    {
     "name": "stdin",
     "output_type": "stream",
     "text": [
      " 2 3\n",
      " RDU\n",
      " LRU\n"
     ]
    }
   ],
   "source": [
    "H, W = map(int, input().split())\n",
    "G = [input() for _ in range(H)]"
   ]
  },
  {
   "cell_type": "code",
   "execution_count": 6,
   "id": "2577ffe5-a18d-48b6-9c7a-20ad3b0c131e",
   "metadata": {},
   "outputs": [
    {
     "data": {
      "text/plain": [
       "[[False, False, False], [False, False, False]]"
      ]
     },
     "execution_count": 6,
     "metadata": {},
     "output_type": "execute_result"
    }
   ],
   "source": [
    "flag = [[False]*W for _ in range(H)]\n",
    "flag"
   ]
  },
  {
   "cell_type": "code",
   "execution_count": 7,
   "id": "18b4d4e0-e483-48b4-9c9b-165109e15c8e",
   "metadata": {},
   "outputs": [
    {
     "name": "stdout",
     "output_type": "stream",
     "text": [
      "1 3\n"
     ]
    }
   ],
   "source": [
    "x, y = 1, 1\n",
    "flag[x-1][y-1] = True\n",
    "\n",
    "while(1):\n",
    "    if G[x-1][y-1] == \"U\" and x != 1:\n",
    "        x -= 1\n",
    "    elif G[x-1][y-1] == \"D\" and x != H:\n",
    "        x += 1\n",
    "    elif G[x-1][y-1] == \"L\" and y != 1:\n",
    "        y -= 1\n",
    "    elif G[x-1][y-1] == \"R\" and y != W:\n",
    "        y += 1\n",
    "    else:\n",
    "        break\n",
    "    \n",
    "    if flag[x-1][y-1] == True:\n",
    "        print (-1)\n",
    "        exit()\n",
    "    else:\n",
    "        flag[x-1][y-1] = True\n",
    "\n",
    "print (x, y)"
   ]
  },
  {
   "cell_type": "code",
   "execution_count": null,
   "id": "cf180192-0d52-4c9d-aab1-c54bd4e52dd5",
   "metadata": {},
   "outputs": [],
   "source": []
  }
 ],
 "metadata": {
  "kernelspec": {
   "display_name": "python3.8.13",
   "language": "python",
   "name": "python3.8.13"
  },
  "language_info": {
   "codemirror_mode": {
    "name": "ipython",
    "version": 3
   },
   "file_extension": ".py",
   "mimetype": "text/x-python",
   "name": "python",
   "nbconvert_exporter": "python",
   "pygments_lexer": "ipython3",
   "version": "3.8.13"
  }
 },
 "nbformat": 4,
 "nbformat_minor": 5
}
