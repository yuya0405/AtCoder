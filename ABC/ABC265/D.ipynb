{
 "cells": [
  {
   "cell_type": "code",
   "execution_count": 2,
   "id": "91b3ba89-7e00-4653-adc2-64190acf24c1",
   "metadata": {},
   "outputs": [
    {
     "name": "stdin",
     "output_type": "stream",
     "text": [
      " 10 5 7 5\n",
      " 1 3 2 2 2 3 1 4 3 2\n"
     ]
    }
   ],
   "source": [
    "N, P, Q, R = map(int, input().split())\n",
    "A = list(map(int, input().split()))"
   ]
  },
  {
   "cell_type": "code",
   "execution_count": 3,
   "id": "06100e2d-5063-4b1a-bb29-db6537e76a6f",
   "metadata": {},
   "outputs": [
    {
     "data": {
      "text/plain": [
       "[0, 1, 4, 6, 8, 10, 13, 14, 18, 21, 23]"
      ]
     },
     "execution_count": 3,
     "metadata": {},
     "output_type": "execute_result"
    }
   ],
   "source": [
    "from itertools import accumulate\n",
    "A_acc = [0] + list(accumulate(A))\n",
    "A_acc"
   ]
  },
  {
   "cell_type": "code",
   "execution_count": 6,
   "id": "a3475669-8433-4b75-abfa-685f4502af2c",
   "metadata": {},
   "outputs": [
    {
     "data": {
      "text/plain": [
       "3"
      ]
     },
     "execution_count": 6,
     "metadata": {},
     "output_type": "execute_result"
    }
   ],
   "source": [
    "import bisect\n",
    "bisect.bisect_left(A_acc, A_acc[1]+P)"
   ]
  },
  {
   "cell_type": "code",
   "execution_count": 18,
   "id": "de41b5c9-5c92-4634-bade-d63c113f3364",
   "metadata": {},
   "outputs": [
    {
     "data": {
      "text/plain": [
       "5"
      ]
     },
     "execution_count": 18,
     "metadata": {},
     "output_type": "execute_result"
    }
   ],
   "source": [
    "A_acc[3] - A_acc[1]"
   ]
  },
  {
   "cell_type": "code",
   "execution_count": 19,
   "id": "6b270375-b2e3-42ae-854f-60ff6902e8b0",
   "metadata": {},
   "outputs": [
    {
     "data": {
      "text/plain": [
       "7"
      ]
     },
     "execution_count": 19,
     "metadata": {},
     "output_type": "execute_result"
    }
   ],
   "source": [
    "A_acc[6] - A_acc[3]"
   ]
  },
  {
   "cell_type": "code",
   "execution_count": 20,
   "id": "3f7a1a6f-9020-4640-a6b5-8bd1a4a5cb2b",
   "metadata": {},
   "outputs": [
    {
     "data": {
      "text/plain": [
       "5"
      ]
     },
     "execution_count": 20,
     "metadata": {},
     "output_type": "execute_result"
    }
   ],
   "source": [
    "A_acc[8] - A_acc[6]"
   ]
  },
  {
   "cell_type": "code",
   "execution_count": null,
   "id": "b77f8b6f-18bc-4ae6-9d92-1c9bbee5ce1a",
   "metadata": {},
   "outputs": [],
   "source": []
  }
 ],
 "metadata": {
  "kernelspec": {
   "display_name": "python3.8.13",
   "language": "python",
   "name": "python3.8.13"
  },
  "language_info": {
   "codemirror_mode": {
    "name": "ipython",
    "version": 3
   },
   "file_extension": ".py",
   "mimetype": "text/x-python",
   "name": "python",
   "nbconvert_exporter": "python",
   "pygments_lexer": "ipython3",
   "version": "3.8.13"
  }
 },
 "nbformat": 4,
 "nbformat_minor": 5
}
