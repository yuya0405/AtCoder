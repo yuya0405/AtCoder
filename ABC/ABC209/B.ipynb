{
 "cells": [
  {
   "cell_type": "code",
   "execution_count": 8,
   "id": "aaa5b26d-f819-425b-8484-5f4518ba50c1",
   "metadata": {},
   "outputs": [],
   "source": [
    "N, X = map(int, input().split())\n",
    "A = list(map(int, input().split()))\n",
    "\n",
    "sum = 0\n",
    "for i, a in enumerate(A):\n",
    "    if i % 2 == 1:\n",
    "        sum += a-1\n",
    "    else:\n",
    "        sum += a\n",
    "if sum <= X:\n",
    "    print (\"Yes\")\n",
    "else:\n",
    "    print (\"No\")"
   ]
  },
  {
   "cell_type": "code",
   "execution_count": null,
   "id": "2ebb0650-5bca-4150-a430-252cf4d0aafe",
   "metadata": {},
   "outputs": [],
   "source": []
  }
 ],
 "metadata": {
  "kernelspec": {
   "display_name": "Python 3",
   "language": "python",
   "name": "python3"
  },
  "language_info": {
   "codemirror_mode": {
    "name": "ipython",
    "version": 3
   },
   "file_extension": ".py",
   "mimetype": "text/x-python",
   "name": "python",
   "nbconvert_exporter": "python",
   "pygments_lexer": "ipython3",
   "version": "3.8.8"
  }
 },
 "nbformat": 4,
 "nbformat_minor": 5
}
