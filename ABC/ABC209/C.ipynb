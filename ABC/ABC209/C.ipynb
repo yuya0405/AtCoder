{
 "cells": [
  {
   "cell_type": "code",
   "execution_count": 58,
   "id": "33ff1e6b-9df1-4161-96d9-afeef19da640",
   "metadata": {},
   "outputs": [
    {
     "name": "stdin",
     "output_type": "stream",
     "text": [
      " 10\n",
      " 999999917 999999914 999999923 999999985 999999907 999999965 999999914 999999908 999999951 999999979\n"
     ]
    },
    {
     "name": "stdout",
     "output_type": "stream",
     "text": [
      "405924645\n"
     ]
    }
   ],
   "source": [
    "N = int(input())\n",
    "C = list(map(int, input().split()))\n",
    "\n",
    "C.sort()\n",
    "\n",
    "E = []\n",
    "flag = True\n",
    "for i, d in enumerate(C):\n",
    "    if d-1 <= -1:\n",
    "        flag = False\n",
    "    E.append(d-i)\n",
    "    \n",
    "if flag == False:\n",
    "    print (0)\n",
    "else:\n",
    "    ans = 1\n",
    "    for e in E:\n",
    "        ans *= e % (10**9 + 7)\n",
    "    print (ans % (10**9 + 7))"
   ]
  },
  {
   "cell_type": "code",
   "execution_count": 4,
   "id": "ab0e0bd6-1748-4b16-a0bd-974c41b61ba4",
   "metadata": {},
   "outputs": [
    {
     "name": "stdout",
     "output_type": "stream",
     "text": [
      "10\n",
      "999999917 999999914 999999923 999999985 999999907 999999965 999999914 999999908 999999951 999999979\n",
      "405924645\n"
     ]
    }
   ],
   "source": [
    "N = int(input())\n",
    "C = list(map(int, input().split()))\n",
    "\n",
    "C.sort()\n",
    "\n",
    "ans = C[0]\n",
    "for i in range(1, N):\n",
    "    ans *= C[i]-i\n",
    "    ans %= (10**9 + 7)\n",
    "print (ans)"
   ]
  },
  {
   "cell_type": "code",
   "execution_count": null,
   "id": "ebe6dfb9",
   "metadata": {},
   "outputs": [],
   "source": []
  }
 ],
 "metadata": {
  "kernelspec": {
   "display_name": "Python 3",
   "language": "python",
   "name": "python3"
  },
  "language_info": {
   "codemirror_mode": {
    "name": "ipython",
    "version": 3
   },
   "file_extension": ".py",
   "mimetype": "text/x-python",
   "name": "python",
   "nbconvert_exporter": "python",
   "pygments_lexer": "ipython3",
   "version": "3.8.8"
  }
 },
 "nbformat": 4,
 "nbformat_minor": 5
}
