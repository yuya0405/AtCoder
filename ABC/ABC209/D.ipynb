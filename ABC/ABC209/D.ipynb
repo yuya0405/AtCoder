{
 "cells": [
  {
   "cell_type": "code",
   "execution_count": 16,
   "id": "b8af4330-4dc9-4964-b419-39b17df62608",
   "metadata": {},
   "outputs": [
    {
     "name": "stdin",
     "output_type": "stream",
     "text": [
      " 5 2\n",
      " 1 2\n",
      " 2 3\n",
      " 3 4\n",
      " 4 5\n",
      " 1 3\n",
      " 1 5\n"
     ]
    }
   ],
   "source": [
    "N, Q = map(int, input().split())\n",
    "AB = [list(map(int, input().split())) for _ in range(N-1)]\n",
    "CD = [list(map(int, input().split())) for _ in range(Q)]"
   ]
  },
  {
   "cell_type": "code",
   "execution_count": 17,
   "id": "10e3809c-52b0-455a-b593-b11bbe5193db",
   "metadata": {},
   "outputs": [
    {
     "data": {
      "text/plain": [
       "[[1], [0, 2], [1, 3], [2, 4], [3]]"
      ]
     },
     "execution_count": 17,
     "metadata": {},
     "output_type": "execute_result"
    }
   ],
   "source": [
    "G = [[] for _ in range(N)]\n",
    "for a, b in AB:\n",
    "    G[a-1].append(b-1)\n",
    "    G[b-1].append(a-1)\n",
    "G"
   ]
  },
  {
   "cell_type": "code",
   "execution_count": 18,
   "id": "2e93a26d-73c3-43ea-b0b9-8e9e8b4ea5ee",
   "metadata": {},
   "outputs": [],
   "source": [
    "# アルゴ式\n",
    "\n",
    "# スタックオーバーフローを防ぐ\n",
    "import sys\n",
    "sys.setrecursionlimit(10 ** 6)\n",
    "\n",
    "# 頂点 v を根とする部分木を探索\n",
    "# 頂点 v の子頂点を格納した配列を chs とする\n",
    "def dfs(v, p):\n",
    "    if v == 0:\n",
    "        depth[v] = 0\n",
    "    else:\n",
    "        depth[v] = depth[p] + 1\n",
    "\n",
    "    # 各子頂点を探索\n",
    "    for ch in G[v]:\n",
    "        # 子頂点 ch を根とした部分木を再帰的に探索\n",
    "        if ch != p:\n",
    "            dfs(ch, v)\n",
    "\n",
    "depth = [0] * N\n",
    "\n",
    "# 根頂点 (0) から再帰的に探索\n",
    "dfs(0, -1)"
   ]
  },
  {
   "cell_type": "code",
   "execution_count": null,
   "id": "5b03330b-d83c-4e05-afd9-df18e632ff2d",
   "metadata": {},
   "outputs": [],
   "source": [
    "# AC\n",
    "\n",
    "for c, d in CD:\n",
    "    if (depth[c-1] + depth[d-1]) % 2 == 0:\n",
    "        print (\"Town\")\n",
    "    else:\n",
    "        print (\"Road\")"
   ]
  },
  {
   "cell_type": "code",
   "execution_count": 20,
   "id": "3f0c31f1-6196-46f0-9e6e-13929160a5f6",
   "metadata": {},
   "outputs": [],
   "source": [
    "# TLE inが遅い？？？\n",
    "\n",
    "ans = [[], []]\n",
    "for i, d in enumerate(depth):\n",
    "    if d%2 == 0:\n",
    "        ans[0].append(i+1)\n",
    "    else:\n",
    "        ans[1].append(i+1)\n",
    "\n",
    "for c, d in CD:\n",
    "    if (c in ans[0] and d in ans[0]) or (c in ans[1] and d in ans[1]):\n",
    "        print (\"Town\")\n",
    "    else:\n",
    "        print (\"Road\")"
   ]
  }
 ],
 "metadata": {
  "kernelspec": {
   "display_name": "Python 3",
   "language": "python",
   "name": "python3"
  },
  "language_info": {
   "codemirror_mode": {
    "name": "ipython",
    "version": 3
   },
   "file_extension": ".py",
   "mimetype": "text/x-python",
   "name": "python",
   "nbconvert_exporter": "python",
   "pygments_lexer": "ipython3",
   "version": "3.8.8"
  }
 },
 "nbformat": 4,
 "nbformat_minor": 5
}
