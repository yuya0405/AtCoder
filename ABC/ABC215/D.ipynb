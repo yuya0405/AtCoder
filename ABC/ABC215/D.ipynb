{
 "cells": [
  {
   "cell_type": "code",
   "execution_count": 1,
   "id": "10493128-83da-4e2e-89cb-77377d2ab964",
   "metadata": {},
   "outputs": [
    {
     "name": "stdin",
     "output_type": "stream",
     "text": [
      " 3 12\n",
      " 6 1 5\n"
     ]
    }
   ],
   "source": [
    "N, M = map(int, input().split())\n",
    "A = list(map(int, input().split()))"
   ]
  },
  {
   "cell_type": "code",
   "execution_count": 8,
   "id": "e9e7bd71-3029-495c-9e5c-ac70be40eeae",
   "metadata": {},
   "outputs": [
    {
     "name": "stdout",
     "output_type": "stream",
     "text": [
      "3\n",
      "1\n",
      "7\n",
      "11\n"
     ]
    }
   ],
   "source": [
    "# TLE\n",
    "\n",
    "import math\n",
    "\n",
    "ans = []\n",
    "for k in range(1, M):\n",
    "    flag = True\n",
    "    for i in range(0, N):\n",
    "        if math.gcd(A[i], k) != 1:\n",
    "            flag = False\n",
    "    if flag == True:\n",
    "        ans.append(k)\n",
    "print (len(ans))\n",
    "for a in ans:\n",
    "    print (a)"
   ]
  },
  {
   "cell_type": "code",
   "execution_count": 9,
   "id": "2f9f8349-1c69-4d0f-b011-787ce7f8703d",
   "metadata": {},
   "outputs": [],
   "source": [
    "# 素因数分解\n",
    "def prime_factorize(x):\n",
    "    # もしx=1ならば\n",
    "    if x==1:\n",
    "        # 1を返す\n",
    "        return [1]\n",
    "    # 素因数を格納するリスト\n",
    "    prime_list=[]\n",
    "    # i=2,3,4,...で試し割り\n",
    "    i=2\n",
    "    # i<=√xすなわちi*i<=xの範囲で試し割り\n",
    "    while i*i<=x:\n",
    "        # もしiで割り切れたら\n",
    "        if x%i==0:\n",
    "            # iを素因数に追加\n",
    "            prime_list.append(i)\n",
    "            # xをiで割る\n",
    "            x//=i\n",
    "        # iで割り切れなかったら\n",
    "        else:\n",
    "            # 次のiへ\n",
    "            i+=1\n",
    "    # 試し割りが終わった時xが1でなければ\n",
    "    if x!=1:\n",
    "        # 素因数にxを追加\n",
    "        prime_list.append(x)\n",
    "    # 素因数のリストを返す\n",
    "    return prime_list"
   ]
  },
  {
   "cell_type": "code",
   "execution_count": null,
   "id": "024e9b9f-54b6-464c-9da5-b35aef8ccb48",
   "metadata": {},
   "outputs": [],
   "source": []
  }
 ],
 "metadata": {
  "kernelspec": {
   "display_name": "Python 3",
   "language": "python",
   "name": "python3"
  },
  "language_info": {
   "codemirror_mode": {
    "name": "ipython",
    "version": 3
   },
   "file_extension": ".py",
   "mimetype": "text/x-python",
   "name": "python",
   "nbconvert_exporter": "python",
   "pygments_lexer": "ipython3",
   "version": "3.8.8"
  }
 },
 "nbformat": 4,
 "nbformat_minor": 5
}
