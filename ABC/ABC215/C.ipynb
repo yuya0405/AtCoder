{
 "cells": [
  {
   "cell_type": "code",
   "execution_count": 29,
   "id": "9185eb0a-d94f-4c0d-97fe-6f222b7499b8",
   "metadata": {},
   "outputs": [],
   "source": [
    "S, K = input().split()\n",
    "\n",
    "K = int(K)\n",
    "\n",
    "import itertools\n",
    "\n",
    "anagram = set()\n",
    "for v in itertools.permutations(S):\n",
    "    anagram.add(v)\n",
    "\n",
    "print (\"\".join(sorted(list(anagram))[K-1]))"
   ]
  },
  {
   "cell_type": "code",
   "execution_count": null,
   "id": "a2323229-cbe6-4520-a348-ca354429eb01",
   "metadata": {},
   "outputs": [],
   "source": []
  }
 ],
 "metadata": {
  "kernelspec": {
   "display_name": "Python 3",
   "language": "python",
   "name": "python3"
  },
  "language_info": {
   "codemirror_mode": {
    "name": "ipython",
    "version": 3
   },
   "file_extension": ".py",
   "mimetype": "text/x-python",
   "name": "python",
   "nbconvert_exporter": "python",
   "pygments_lexer": "ipython3",
   "version": "3.8.8"
  }
 },
 "nbformat": 4,
 "nbformat_minor": 5
}
