{
 "cells": [
  {
   "cell_type": "code",
   "execution_count": 3,
   "id": "38d5286e-0384-4aee-9acc-05c13ccf0185",
   "metadata": {},
   "outputs": [
    {
     "name": "stdin",
     "output_type": "stream",
     "text": [
      " 10\n",
      " 3 -1 -4 1 -5 9 2 -6 5 -3\n"
     ]
    }
   ],
   "source": [
    "N = int(input())\n",
    "X = list(map(int, input().split()))"
   ]
  },
  {
   "cell_type": "code",
   "execution_count": 5,
   "id": "7e235a87-77f1-4e9b-af3d-8a32bf2746b3",
   "metadata": {},
   "outputs": [
    {
     "name": "stdout",
     "output_type": "stream",
     "text": [
      "39\n",
      "14.38749456993816\n",
      "9\n"
     ]
    }
   ],
   "source": [
    "import math\n",
    "\n",
    "man = 0\n",
    "for x in X:\n",
    "    man += abs(x)\n",
    "print (man)\n",
    "\n",
    "u = 0\n",
    "for x in X:\n",
    "    u += x**2\n",
    "print (math.sqrt(u))\n",
    "\n",
    "c = 0\n",
    "for x in X:\n",
    "    c = max(c, abs(x))\n",
    "print (c)"
   ]
  },
  {
   "cell_type": "code",
   "execution_count": null,
   "id": "6a1517fc-9074-4469-b3ca-feaf23dee3cd",
   "metadata": {},
   "outputs": [],
   "source": []
  }
 ],
 "metadata": {
  "kernelspec": {
   "display_name": "Python 3",
   "language": "python",
   "name": "python3"
  },
  "language_info": {
   "codemirror_mode": {
    "name": "ipython",
    "version": 3
   },
   "file_extension": ".py",
   "mimetype": "text/x-python",
   "name": "python",
   "nbconvert_exporter": "python",
   "pygments_lexer": "ipython3",
   "version": "3.8.8"
  }
 },
 "nbformat": 4,
 "nbformat_minor": 5
}
