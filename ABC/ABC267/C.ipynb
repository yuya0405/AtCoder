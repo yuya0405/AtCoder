{
 "cells": [
  {
   "cell_type": "code",
   "execution_count": 88,
   "id": "9c7d188c-9006-4da5-9946-4826f5971c21",
   "metadata": {},
   "outputs": [
    {
     "name": "stdin",
     "output_type": "stream",
     "text": [
      " 4 2\n",
      " 5 4 -1 8\n"
     ]
    }
   ],
   "source": [
    "N, M = map(int, input().split())\n",
    "A = list(map(int, input().split()))"
   ]
  },
  {
   "cell_type": "code",
   "execution_count": 104,
   "id": "bb9f2ea3-4a44-41e8-b3f5-6d917e51b5fe",
   "metadata": {},
   "outputs": [
    {
     "data": {
      "text/plain": [
       "-inf"
      ]
     },
     "execution_count": 104,
     "metadata": {},
     "output_type": "execute_result"
    }
   ],
   "source": [
    "ans = -1*float(\"inf\")\n",
    "ans"
   ]
  },
  {
   "cell_type": "code",
   "execution_count": 105,
   "id": "bbc32d77-6762-4034-aec6-b7ad9dc7e988",
   "metadata": {},
   "outputs": [
    {
     "data": {
      "text/plain": [
       "13"
      ]
     },
     "execution_count": 105,
     "metadata": {},
     "output_type": "execute_result"
    }
   ],
   "source": [
    "tmp1 = 0\n",
    "tmp2 = 0\n",
    "for i in range(M):\n",
    "    tmp1 += (i+1)*A[i]\n",
    "    if i >= 1:\n",
    "        tmp2 += A[i]\n",
    "tmp1"
   ]
  },
  {
   "cell_type": "code",
   "execution_count": 106,
   "id": "761ad6d7-daa3-49f3-a6c3-b65066a30567",
   "metadata": {},
   "outputs": [
    {
     "data": {
      "text/plain": [
       "4"
      ]
     },
     "execution_count": 106,
     "metadata": {},
     "output_type": "execute_result"
    }
   ],
   "source": [
    "tmp2"
   ]
  },
  {
   "cell_type": "code",
   "execution_count": 107,
   "id": "acca3750-be33-4f36-b641-1527caad2e7d",
   "metadata": {},
   "outputs": [
    {
     "data": {
      "text/plain": [
       "13"
      ]
     },
     "execution_count": 107,
     "metadata": {},
     "output_type": "execute_result"
    }
   ],
   "source": [
    "ans = max(ans, tmp1)\n",
    "ans"
   ]
  },
  {
   "cell_type": "code",
   "execution_count": 108,
   "id": "a4cd804b-7609-4661-9c79-9b55ec23baa8",
   "metadata": {},
   "outputs": [
    {
     "name": "stdout",
     "output_type": "stream",
     "text": [
      "15\n"
     ]
    }
   ],
   "source": [
    "for i in range(1, N-M+1):\n",
    "    tmp1 -= tmp2\n",
    "    tmp1 -= 1 * A[i-1]\n",
    "    tmp1 += M * A[i+M-1]\n",
    "\n",
    "    ans = max(ans, tmp1)\n",
    "\n",
    "    tmp2 -= A[i]\n",
    "    tmp2 += A[i+M-1]\n",
    "    \n",
    "print (ans)"
   ]
  },
  {
   "cell_type": "code",
   "execution_count": null,
   "id": "f22b344c-7137-4a74-8275-e2f60bfb32ef",
   "metadata": {},
   "outputs": [],
   "source": []
  }
 ],
 "metadata": {
  "kernelspec": {
   "display_name": "Python 3 (ipykernel)",
   "language": "python",
   "name": "python3"
  },
  "language_info": {
   "codemirror_mode": {
    "name": "ipython",
    "version": 3
   },
   "file_extension": ".py",
   "mimetype": "text/x-python",
   "name": "python",
   "nbconvert_exporter": "python",
   "pygments_lexer": "ipython3",
   "version": "3.8.13"
  }
 },
 "nbformat": 4,
 "nbformat_minor": 5
}
