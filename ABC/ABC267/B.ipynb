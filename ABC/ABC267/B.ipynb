{
 "cells": [
  {
   "cell_type": "code",
   "execution_count": 2,
   "id": "a8e37936-5aec-4111-a269-4e95192045d5",
   "metadata": {},
   "outputs": [
    {
     "name": "stdin",
     "output_type": "stream",
     "text": [
      " 0101110101\n"
     ]
    }
   ],
   "source": [
    "S = input()"
   ]
  },
  {
   "cell_type": "code",
   "execution_count": 8,
   "id": "5039ac66-9211-4844-b789-46b5039d75d9",
   "metadata": {},
   "outputs": [
    {
     "name": "stdout",
     "output_type": "stream",
     "text": [
      "Yes\n",
      "Yes\n",
      "Yes\n",
      "Yes\n",
      "Yes\n",
      "Yes\n",
      "No\n"
     ]
    }
   ],
   "source": [
    "flag = []\n",
    "if S[0] == '0':\n",
    "    \n",
    "    if S[6] == '0':\n",
    "        flag.append(False)\n",
    "    else:\n",
    "        flag.append(True)\n",
    "        \n",
    "    if S[3] == '0':\n",
    "        flag.append(False)\n",
    "    else:\n",
    "        flag.append(True)\n",
    "    \n",
    "    if S[7] == '0' and S[1] == '0':\n",
    "        flag.append(False)\n",
    "    else:\n",
    "        flag.append(True)\n",
    "    \n",
    "    if S[4] == '0' and S[0] == '0':\n",
    "        flag.append(False)\n",
    "    else:\n",
    "        flag.append(True)\n",
    "    \n",
    "    if S[8] == '0' and S[2] == '0':\n",
    "        flag.append(False)\n",
    "    else:\n",
    "        flag.append(True)\n",
    "    \n",
    "    if S[5] == '0':\n",
    "        flag.append(False)\n",
    "    else:\n",
    "        flag.append(True)\n",
    "    \n",
    "    if S[9] == '0':\n",
    "        flag.append(False)\n",
    "    else:\n",
    "        flag.append(True)\n",
    "        \n",
    "    for i in range(7):\n",
    "        for j in range(i+1, 7):\n",
    "            for k in range(j+1, 7):\n",
    "                if flag[i] == True and flag[j] == False and flag[k] == True:\n",
    "                    print (\"Yes\")\n",
    "                    exit()\n",
    "    print (\"No\")\n",
    "\n",
    "else:\n",
    "    print (\"No\")"
   ]
  },
  {
   "cell_type": "code",
   "execution_count": null,
   "id": "b6bcb919-b8b3-4b2a-898f-311f7eed3953",
   "metadata": {},
   "outputs": [],
   "source": []
  }
 ],
 "metadata": {
  "kernelspec": {
   "display_name": "Python 3 (ipykernel)",
   "language": "python",
   "name": "python3"
  },
  "language_info": {
   "codemirror_mode": {
    "name": "ipython",
    "version": 3
   },
   "file_extension": ".py",
   "mimetype": "text/x-python",
   "name": "python",
   "nbconvert_exporter": "python",
   "pygments_lexer": "ipython3",
   "version": "3.8.13"
  }
 },
 "nbformat": 4,
 "nbformat_minor": 5
}
