{
 "cells": [
  {
   "cell_type": "code",
   "execution_count": 1,
   "id": "c5a0c5c7-18a2-486d-939a-b2020d5b16cb",
   "metadata": {},
   "outputs": [
    {
     "name": "stdin",
     "output_type": "stream",
     "text": [
      " 4 2\n",
      " 5 4 -1 8\n"
     ]
    }
   ],
   "source": [
    "N, M = map(int, input().split())\n",
    "A = list(map(int, input().split()))"
   ]
  },
  {
   "cell_type": "code",
   "execution_count": 43,
   "id": "cf747eff-5c83-4bcf-bcc2-a2740419ba11",
   "metadata": {},
   "outputs": [
    {
     "data": {
      "text/plain": [
       "[[-inf, -inf, -inf],\n",
       " [-inf, -inf, -inf],\n",
       " [-inf, -inf, -inf],\n",
       " [-inf, -inf, -inf],\n",
       " [-inf, -inf, -inf]]"
      ]
     },
     "execution_count": 43,
     "metadata": {},
     "output_type": "execute_result"
    }
   ],
   "source": [
    "dp = [[-1*float('inf')]*(M+1) for _ in range(N+1)]\n",
    "dp"
   ]
  },
  {
   "cell_type": "code",
   "execution_count": 44,
   "id": "c4277f78-0a52-4ac6-9790-68389dc7af2e",
   "metadata": {},
   "outputs": [],
   "source": [
    "# for m in range(M+1):\n",
    "#     dp[0][m] = 0\n",
    "# dp"
   ]
  },
  {
   "cell_type": "code",
   "execution_count": 46,
   "id": "4c1753f6-39f9-4acb-b38c-2da67eeaf5f0",
   "metadata": {},
   "outputs": [
    {
     "data": {
      "text/plain": [
       "[[0, -inf, -inf],\n",
       " [-inf, -inf, -inf],\n",
       " [-inf, -inf, -inf],\n",
       " [-inf, -inf, -inf],\n",
       " [-inf, -inf, -inf]]"
      ]
     },
     "execution_count": 46,
     "metadata": {},
     "output_type": "execute_result"
    }
   ],
   "source": [
    "dp[0][0] = 0\n",
    "dp"
   ]
  },
  {
   "cell_type": "code",
   "execution_count": 47,
   "id": "737fc828-055e-4f41-aa15-521f0a6f0c7c",
   "metadata": {},
   "outputs": [
    {
     "data": {
      "text/plain": [
       "[[0, -inf, -inf],\n",
       " [0, -inf, -inf],\n",
       " [0, -inf, -inf],\n",
       " [0, -inf, -inf],\n",
       " [0, -inf, -inf]]"
      ]
     },
     "execution_count": 47,
     "metadata": {},
     "output_type": "execute_result"
    }
   ],
   "source": [
    "for n in range(N+1):\n",
    "    dp[n][0] = 0\n",
    "dp"
   ]
  },
  {
   "cell_type": "code",
   "execution_count": 48,
   "id": "d7278734-02fc-4035-bf76-45b6b1c1e4cd",
   "metadata": {},
   "outputs": [
    {
     "data": {
      "text/plain": [
       "[[0, -inf, -inf], [0, 5, -inf], [0, 5, 13], [0, 5, 13], [0, 8, 21]]"
      ]
     },
     "execution_count": 48,
     "metadata": {},
     "output_type": "execute_result"
    }
   ],
   "source": [
    "for n in range(1, N+1):\n",
    "    for m in range(1, M+1):\n",
    "        if m <= n:\n",
    "            dp[n][m] = max(dp[n][m], dp[n-1][m], dp[n-1][m-1] + m * A[n-1])\n",
    "dp"
   ]
  },
  {
   "cell_type": "code",
   "execution_count": 49,
   "id": "88385e69-3edd-4656-b4ab-3a179f7bd076",
   "metadata": {},
   "outputs": [
    {
     "name": "stdout",
     "output_type": "stream",
     "text": [
      "21\n"
     ]
    }
   ],
   "source": [
    "print (dp[n][m])"
   ]
  },
  {
   "cell_type": "code",
   "execution_count": null,
   "id": "94ff78a1-da44-4eba-81ca-e5693b1dba59",
   "metadata": {},
   "outputs": [],
   "source": []
  }
 ],
 "metadata": {
  "kernelspec": {
   "display_name": "Python 3 (ipykernel)",
   "language": "python",
   "name": "python3"
  },
  "language_info": {
   "codemirror_mode": {
    "name": "ipython",
    "version": 3
   },
   "file_extension": ".py",
   "mimetype": "text/x-python",
   "name": "python",
   "nbconvert_exporter": "python",
   "pygments_lexer": "ipython3",
   "version": "3.8.13"
  }
 },
 "nbformat": 4,
 "nbformat_minor": 5
}
