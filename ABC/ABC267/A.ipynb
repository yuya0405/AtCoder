{
 "cells": [
  {
   "cell_type": "code",
   "execution_count": 16,
   "id": "aa36461b-df32-4e9a-b4d2-73bba1611bcc",
   "metadata": {},
   "outputs": [
    {
     "name": "stdin",
     "output_type": "stream",
     "text": [
      " Friday\n"
     ]
    }
   ],
   "source": [
    "S = input()"
   ]
  },
  {
   "cell_type": "code",
   "execution_count": 17,
   "id": "74fd7a8b-5acd-4e0c-a101-b263ded28a80",
   "metadata": {},
   "outputs": [
    {
     "name": "stdout",
     "output_type": "stream",
     "text": [
      "1\n"
     ]
    }
   ],
   "source": [
    "if S == \"Monday\":\n",
    "    print (5)\n",
    "elif S == \"Tuesday\":\n",
    "    print (4)\n",
    "elif S == \"Wednesday\":\n",
    "    print (3)\n",
    "elif S == \"Thursday\":\n",
    "    print (2)\n",
    "elif S == \"Friday\":\n",
    "    print (1)"
   ]
  },
  {
   "cell_type": "code",
   "execution_count": null,
   "id": "c9f77a9c-6bce-4d0c-801b-4bb9cb1f63b4",
   "metadata": {},
   "outputs": [],
   "source": []
  }
 ],
 "metadata": {
  "kernelspec": {
   "display_name": "Python 3 (ipykernel)",
   "language": "python",
   "name": "python3"
  },
  "language_info": {
   "codemirror_mode": {
    "name": "ipython",
    "version": 3
   },
   "file_extension": ".py",
   "mimetype": "text/x-python",
   "name": "python",
   "nbconvert_exporter": "python",
   "pygments_lexer": "ipython3",
   "version": "3.8.13"
  }
 },
 "nbformat": 4,
 "nbformat_minor": 5
}
