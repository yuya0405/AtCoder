{
 "cells": [
  {
   "cell_type": "code",
   "execution_count": null,
   "id": "beddf927-c9de-4fa3-996f-9c9bbd0c712c",
   "metadata": {},
   "outputs": [],
   "source": []
  }
 ],
 "metadata": {
  "kernelspec": {
   "display_name": "Python 3",
   "language": "python",
   "name": "python3"
  },
  "language_info": {
   "name": ""
  }
 },
 "nbformat": 4,
 "nbformat_minor": 5
}
