{
 "cells": [
  {
   "cell_type": "code",
   "execution_count": 13,
   "id": "9ff03831-4bf3-46a7-8d61-8e1ddb666339",
   "metadata": {},
   "outputs": [
    {
     "name": "stdin",
     "output_type": "stream",
     "text": [
      " 3\n"
     ]
    }
   ],
   "source": [
    "N = int(input())"
   ]
  },
  {
   "cell_type": "code",
   "execution_count": 14,
   "id": "64965ea8-ec6c-49db-984a-c2b8c6229247",
   "metadata": {},
   "outputs": [
    {
     "name": "stdout",
     "output_type": "stream",
     "text": [
      "20\n"
     ]
    }
   ],
   "source": [
    "if N == 1:\n",
    "    print (0)\n",
    "else:\n",
    "    print (2 * 10**(N-2) % (10**9+7))"
   ]
  },
  {
   "cell_type": "code",
   "execution_count": null,
   "id": "90c7c6c0-8fde-4b3f-bca8-e4549227c4fa",
   "metadata": {},
   "outputs": [],
   "source": []
  }
 ],
 "metadata": {
  "kernelspec": {
   "display_name": "Python 3",
   "language": "python",
   "name": "python3"
  },
  "language_info": {
   "codemirror_mode": {
    "name": "ipython",
    "version": 3
   },
   "file_extension": ".py",
   "mimetype": "text/x-python",
   "name": "python",
   "nbconvert_exporter": "python",
   "pygments_lexer": "ipython3",
   "version": "3.8.8"
  }
 },
 "nbformat": 4,
 "nbformat_minor": 5
}
