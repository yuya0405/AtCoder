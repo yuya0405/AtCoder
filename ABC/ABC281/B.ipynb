{
 "cells": [
  {
   "cell_type": "code",
   "execution_count": 3,
   "id": "c4625674-b2d9-4000-9529-ca9549ab4bf8",
   "metadata": {},
   "outputs": [
    {
     "name": "stdin",
     "output_type": "stream",
     "text": [
      " A0100000A\n"
     ]
    }
   ],
   "source": [
    "S = input()"
   ]
  },
  {
   "cell_type": "code",
   "execution_count": 4,
   "id": "b04f1697-e7e7-40dd-89f7-ef34264fd69d",
   "metadata": {},
   "outputs": [],
   "source": [
    "first = S[0]\n",
    "middle = S[1:-1]\n",
    "last = S[-1]"
   ]
  },
  {
   "cell_type": "code",
   "execution_count": 5,
   "id": "7f672909-41c0-431b-a921-a4c5493ce2c5",
   "metadata": {},
   "outputs": [
    {
     "data": {
      "text/plain": [
       "('A', '0100000', 'A')"
      ]
     },
     "execution_count": 5,
     "metadata": {},
     "output_type": "execute_result"
    }
   ],
   "source": [
    "first, middle ,last"
   ]
  },
  {
   "cell_type": "code",
   "execution_count": 6,
   "id": "aa9e503e-ff37-4fc5-b7ce-c3ada8ac579d",
   "metadata": {},
   "outputs": [],
   "source": [
    "if middle.isdecimal() == False:\n",
    "    print (\"No\")\n",
    "    exit()"
   ]
  },
  {
   "cell_type": "code",
   "execution_count": 17,
   "id": "33df0be4-8e8f-41f4-9e49-6a972645ff86",
   "metadata": {},
   "outputs": [
    {
     "name": "stdout",
     "output_type": "stream",
     "text": [
      "No\n"
     ]
    }
   ],
   "source": [
    "if middle != str(int(middle)):\n",
    "    print (\"No\")\n",
    "    exit()"
   ]
  },
  {
   "cell_type": "code",
   "execution_count": 7,
   "id": "0e69abbd-ebb3-4540-9e0e-24e8b79b0081",
   "metadata": {},
   "outputs": [
    {
     "name": "stdout",
     "output_type": "stream",
     "text": [
      "Yes\n"
     ]
    }
   ],
   "source": [
    "if 'A' <= first and first <= 'Z' and 100000 <= int(middle) and int(middle) <= 999999 and 'A' <= last and last <= 'Z':\n",
    "    print (\"Yes\")\n",
    "else:\n",
    "    print (\"No\")"
   ]
  },
  {
   "cell_type": "code",
   "execution_count": null,
   "id": "b0a786e1-3ab1-452f-ab52-be1e065cddc9",
   "metadata": {},
   "outputs": [],
   "source": []
  }
 ],
 "metadata": {
  "kernelspec": {
   "display_name": "Python 3 (ipykernel)",
   "language": "python",
   "name": "python3"
  },
  "language_info": {
   "codemirror_mode": {
    "name": "ipython",
    "version": 3
   },
   "file_extension": ".py",
   "mimetype": "text/x-python",
   "name": "python",
   "nbconvert_exporter": "python",
   "pygments_lexer": "ipython3",
   "version": "3.8.13"
  }
 },
 "nbformat": 4,
 "nbformat_minor": 5
}
