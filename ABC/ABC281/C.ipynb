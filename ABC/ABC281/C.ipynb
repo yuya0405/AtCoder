{
 "cells": [
  {
   "cell_type": "code",
   "execution_count": 1,
   "id": "2f055368-9a4d-4fdc-9f11-f415eb4535b7",
   "metadata": {},
   "outputs": [
    {
     "name": "stdin",
     "output_type": "stream",
     "text": [
      " 3 600\n",
      " 180 240 120\n"
     ]
    }
   ],
   "source": [
    "N, T = map(int, input().split())\n",
    "A = list(map(int, input().split()))"
   ]
  },
  {
   "cell_type": "code",
   "execution_count": 2,
   "id": "dfd2c10b-162d-4e6b-8e21-f83974a01a15",
   "metadata": {},
   "outputs": [
    {
     "data": {
      "text/plain": [
       "540"
      ]
     },
     "execution_count": 2,
     "metadata": {},
     "output_type": "execute_result"
    }
   ],
   "source": [
    "loop = sum(A)\n",
    "loop"
   ]
  },
  {
   "cell_type": "code",
   "execution_count": 3,
   "id": "7f9a33f7-6a20-4674-9af8-8a35ebe20baa",
   "metadata": {},
   "outputs": [
    {
     "data": {
      "text/plain": [
       "60"
      ]
     },
     "execution_count": 3,
     "metadata": {},
     "output_type": "execute_result"
    }
   ],
   "source": [
    "mod = T % loop\n",
    "mod"
   ]
  },
  {
   "cell_type": "code",
   "execution_count": 4,
   "id": "f359b482-6d4e-4e9c-b7f9-ac91c3a9063b",
   "metadata": {},
   "outputs": [
    {
     "data": {
      "text/plain": [
       "[0, 180, 420, 540]"
      ]
     },
     "execution_count": 4,
     "metadata": {},
     "output_type": "execute_result"
    }
   ],
   "source": [
    "from itertools import accumulate\n",
    "A_acc = [0] + list(accumulate(A))\n",
    "A_acc"
   ]
  },
  {
   "cell_type": "code",
   "execution_count": 13,
   "id": "9a21dd1a-3d61-4c09-80e4-5512a1e21941",
   "metadata": {},
   "outputs": [
    {
     "name": "stdout",
     "output_type": "stream",
     "text": [
      "1 60\n"
     ]
    }
   ],
   "source": [
    "for i, a in enumerate(A_acc):\n",
    "    if mod < a:\n",
    "        print (i, mod - prev)\n",
    "        break\n",
    "    prev = a"
   ]
  },
  {
   "cell_type": "code",
   "execution_count": null,
   "id": "edbdf1b0-f26a-4cbf-acf5-556fee63f36b",
   "metadata": {},
   "outputs": [],
   "source": []
  }
 ],
 "metadata": {
  "kernelspec": {
   "display_name": "Python 3 (ipykernel)",
   "language": "python",
   "name": "python3"
  },
  "language_info": {
   "codemirror_mode": {
    "name": "ipython",
    "version": 3
   },
   "file_extension": ".py",
   "mimetype": "text/x-python",
   "name": "python",
   "nbconvert_exporter": "python",
   "pygments_lexer": "ipython3",
   "version": "3.8.13"
  }
 },
 "nbformat": 4,
 "nbformat_minor": 5
}
