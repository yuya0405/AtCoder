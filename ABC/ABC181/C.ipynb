{
 "cells": [
  {
   "cell_type": "code",
   "execution_count": 11,
   "metadata": {},
   "outputs": [],
   "source": [
    "N = int(input())\n",
    "XY = [list(map(int, input().split())) for _ in range(N)]\n",
    "\n",
    "flag = False\n",
    "for i in range(N):\n",
    "    for j in range(i):\n",
    "        for k in range(j):\n",
    "            x1, y1 = XY[i]\n",
    "            x2, y2 = XY[j]\n",
    "            x3, y3 = XY[k]\n",
    "\n",
    "            x2 -= x1\n",
    "            x3 -= x1\n",
    "            y2 -= y1\n",
    "            y3 -= y1\n",
    "\n",
    "            if y2*x3 == x2*y3 and flag == False:\n",
    "                print (\"Yes\")\n",
    "                flag = True\n",
    "if flag == False:\n",
    "    print (\"No\")"
   ]
  },
  {
   "cell_type": "code",
   "execution_count": null,
   "metadata": {},
   "outputs": [],
   "source": []
  },
  {
   "cell_type": "code",
   "execution_count": null,
   "metadata": {},
   "outputs": [],
   "source": []
  }
 ],
 "metadata": {
  "kernelspec": {
   "display_name": "Python 3",
   "language": "python",
   "name": "python3"
  },
  "language_info": {
   "codemirror_mode": {
    "name": "ipython",
    "version": 3
   },
   "file_extension": ".py",
   "mimetype": "text/x-python",
   "name": "python",
   "nbconvert_exporter": "python",
   "pygments_lexer": "ipython3",
   "version": "3.8.5"
  }
 },
 "nbformat": 4,
 "nbformat_minor": 4
}
