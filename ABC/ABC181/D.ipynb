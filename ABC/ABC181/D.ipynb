{
 "cells": [
  {
   "cell_type": "code",
   "execution_count": 11,
   "metadata": {},
   "outputs": [
    {
     "name": "stdin",
     "output_type": "stream",
     "text": [
      " 6211\n"
     ]
    },
    {
     "name": "stdout",
     "output_type": "stream",
     "text": [
      "Yes\n"
     ]
    }
   ],
   "source": [
    "S = input()\n",
    "\n",
    "from collections import Counter\n",
    "\n",
    "flag = False\n",
    "\n",
    "if len(S) <= 2:\n",
    "    if int(S) % 8 == 0 or int(S[::-1]) % 8 == 0:\n",
    "        flag = True\n",
    "else:\n",
    "    for i in range(112, 1000, 8):\n",
    "        if not Counter(str(i)) - Counter(S):\n",
    "            flag = True\n",
    "\n",
    "if flag == True:\n",
    "    print (\"Yes\")\n",
    "else:\n",
    "    print (\"No\")"
   ]
  },
  {
   "cell_type": "code",
   "execution_count": null,
   "metadata": {},
   "outputs": [],
   "source": []
  }
 ],
 "metadata": {
  "kernelspec": {
   "display_name": "Python 3",
   "language": "python",
   "name": "python3"
  },
  "language_info": {
   "codemirror_mode": {
    "name": "ipython",
    "version": 3
   },
   "file_extension": ".py",
   "mimetype": "text/x-python",
   "name": "python",
   "nbconvert_exporter": "python",
   "pygments_lexer": "ipython3",
   "version": "3.8.5"
  }
 },
 "nbformat": 4,
 "nbformat_minor": 4
}
