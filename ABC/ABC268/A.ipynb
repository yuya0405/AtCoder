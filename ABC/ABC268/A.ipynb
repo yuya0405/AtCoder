{
 "cells": [
  {
   "cell_type": "code",
   "execution_count": 4,
   "id": "4f6874e2-08fb-4c13-a34a-57a5e3dec850",
   "metadata": {},
   "outputs": [
    {
     "name": "stdin",
     "output_type": "stream",
     "text": [
      " 31 9 24 31 24\n"
     ]
    }
   ],
   "source": [
    "A, B, C, D, E = map(int, input().split())"
   ]
  },
  {
   "cell_type": "code",
   "execution_count": 6,
   "id": "c08c9f12-cfb5-4e0e-98d2-d0fc92a59366",
   "metadata": {},
   "outputs": [
    {
     "data": {
      "text/plain": [
       "Counter({31: 2, 9: 1, 24: 2})"
      ]
     },
     "execution_count": 6,
     "metadata": {},
     "output_type": "execute_result"
    }
   ],
   "source": [
    "from collections import Counter\n",
    "Count = Counter([A, B, C, D, E])\n",
    "Count"
   ]
  },
  {
   "cell_type": "code",
   "execution_count": 7,
   "id": "0a523146-81e6-41c7-9f8b-01d96f4fe916",
   "metadata": {},
   "outputs": [
    {
     "data": {
      "text/plain": [
       "3"
      ]
     },
     "execution_count": 7,
     "metadata": {},
     "output_type": "execute_result"
    }
   ],
   "source": [
    "print (len(Count))"
   ]
  },
  {
   "cell_type": "code",
   "execution_count": null,
   "id": "06a7bc3a-8d65-4231-ad32-f321a2ccac2e",
   "metadata": {},
   "outputs": [],
   "source": []
  }
 ],
 "metadata": {
  "kernelspec": {
   "display_name": "Python 3 (ipykernel)",
   "language": "python",
   "name": "python3"
  },
  "language_info": {
   "codemirror_mode": {
    "name": "ipython",
    "version": 3
   },
   "file_extension": ".py",
   "mimetype": "text/x-python",
   "name": "python",
   "nbconvert_exporter": "python",
   "pygments_lexer": "ipython3",
   "version": "3.8.13"
  }
 },
 "nbformat": 4,
 "nbformat_minor": 5
}
