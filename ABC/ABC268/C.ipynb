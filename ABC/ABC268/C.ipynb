{
 "cells": [
  {
   "cell_type": "code",
   "execution_count": 41,
   "id": "d4c64481-a7f1-4fc8-82f9-4e2c1e7dcae1",
   "metadata": {},
   "outputs": [
    {
     "name": "stdin",
     "output_type": "stream",
     "text": [
      " 10\n",
      " 3 9 6 1 7 2 8 0 5 4\n"
     ]
    }
   ],
   "source": [
    "N = int(input())\n",
    "P = list(map(int, input().split()))"
   ]
  },
  {
   "cell_type": "code",
   "execution_count": 42,
   "id": "10bcdba5-ff47-47be-a8f7-de17319776c4",
   "metadata": {},
   "outputs": [
    {
     "data": {
      "text/plain": [
       "{3: 0, 9: 1, 6: 2, 1: 3, 7: 4, 2: 5, 8: 6, 0: 7, 5: 8, 4: 9}"
      ]
     },
     "execution_count": 42,
     "metadata": {},
     "output_type": "execute_result"
    }
   ],
   "source": [
    "d = {}\n",
    "for i, p in enumerate(P):\n",
    "    d[p] = i\n",
    "d"
   ]
  },
  {
   "cell_type": "code",
   "execution_count": 43,
   "id": "66082321-2aa3-461f-9969-f4ea4437fda8",
   "metadata": {},
   "outputs": [
    {
     "data": {
      "text/plain": [
       "[7, 2, 3, -3, 5, 3, -4, -3, -2, -8]"
      ]
     },
     "execution_count": 43,
     "metadata": {},
     "output_type": "execute_result"
    }
   ],
   "source": [
    "tmp = []\n",
    "for i, p in enumerate(P):\n",
    "    tmp.append(d[i] - i)\n",
    "tmp"
   ]
  },
  {
   "cell_type": "code",
   "execution_count": 44,
   "id": "8051ab6c-9bd4-4d50-bf09-d6b59c59c53f",
   "metadata": {},
   "outputs": [
    {
     "data": {
      "text/plain": [
       "[7, 2, 3, 7, 5, 3, 6, 7, 8, 2]"
      ]
     },
     "execution_count": 44,
     "metadata": {},
     "output_type": "execute_result"
    }
   ],
   "source": [
    "tmp2 = [t % N for t in tmp]\n",
    "tmp2"
   ]
  },
  {
   "cell_type": "code",
   "execution_count": 45,
   "id": "314ddd0e-a2a0-46d3-b9b0-fd90b939f193",
   "metadata": {},
   "outputs": [
    {
     "data": {
      "text/plain": [
       "Counter({7: 3, 2: 2, 3: 2, 5: 1, 6: 1, 8: 1})"
      ]
     },
     "execution_count": 45,
     "metadata": {},
     "output_type": "execute_result"
    }
   ],
   "source": [
    "from collections import Counter\n",
    "C = Counter(tmp2)\n",
    "C"
   ]
  },
  {
   "cell_type": "code",
   "execution_count": 72,
   "id": "13b61277-cabd-4fa4-aacb-1b9c1f449110",
   "metadata": {},
   "outputs": [
    {
     "name": "stdout",
     "output_type": "stream",
     "text": [
      "5\n"
     ]
    }
   ],
   "source": [
    "ans = -1\n",
    "for i in range(N):\n",
    "    ans = max(ans, C[(i)%N] + C[(i+1)%N] + C[(i+2)%N])\n",
    "print (ans)"
   ]
  }
 ],
 "metadata": {
  "kernelspec": {
   "display_name": "Python 3 (ipykernel)",
   "language": "python",
   "name": "python3"
  },
  "language_info": {
   "codemirror_mode": {
    "name": "ipython",
    "version": 3
   },
   "file_extension": ".py",
   "mimetype": "text/x-python",
   "name": "python",
   "nbconvert_exporter": "python",
   "pygments_lexer": "ipython3",
   "version": "3.8.13"
  }
 },
 "nbformat": 4,
 "nbformat_minor": 5
}
