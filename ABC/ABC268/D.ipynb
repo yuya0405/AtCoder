{
 "cells": [
  {
   "cell_type": "code",
   "execution_count": 11,
   "id": "80f0ce94-158c-429f-a3c2-5fe1ede20db3",
   "metadata": {},
   "outputs": [
    {
     "name": "stdin",
     "output_type": "stream",
     "text": [
      " 2 2\n",
      " choku\n",
      " dai\n",
      " chokudai\n",
      " choku_dai\n"
     ]
    }
   ],
   "source": [
    "N, M = map(int, input().split())\n",
    "S = [input() for _ in range(N)]\n",
    "T = [input() for _ in range(M)]"
   ]
  },
  {
   "cell_type": "code",
   "execution_count": 45,
   "id": "f8e1e7c1-e4bb-46d7-a1d6-4ebe947f6973",
   "metadata": {},
   "outputs": [
    {
     "data": {
      "text/plain": [
       "defaultdict(int, {1: 5, 2: 3})"
      ]
     },
     "execution_count": 45,
     "metadata": {},
     "output_type": "execute_result"
    }
   ],
   "source": [
    "from collections import defaultdict\n",
    "d0 = defaultdict(int)\n",
    "for i, s in enumerate(S):\n",
    "    d0[i+1] = len(s)\n",
    "d0"
   ]
  },
  {
   "cell_type": "code",
   "execution_count": 35,
   "id": "4c795685-d6bb-4da7-89a7-f7aeb2b08539",
   "metadata": {},
   "outputs": [
    {
     "data": {
      "text/plain": [
       "defaultdict(int, {'choku': 1, 'dai': 2})"
      ]
     },
     "execution_count": 35,
     "metadata": {},
     "output_type": "execute_result"
    }
   ],
   "source": [
    "from collections import defaultdict\n",
    "d = defaultdict(int)\n",
    "for i, s in enumerate(S):\n",
    "    d[s] = i+1\n",
    "d"
   ]
  },
  {
   "cell_type": "code",
   "execution_count": 36,
   "id": "dafb4672-f2f3-453f-a8af-22b2ea3050cd",
   "metadata": {},
   "outputs": [
    {
     "data": {
      "text/plain": [
       "True"
      ]
     },
     "execution_count": 36,
     "metadata": {},
     "output_type": "execute_result"
    }
   ],
   "source": [
    "d[\"choku\"] >= 1"
   ]
  },
  {
   "cell_type": "code",
   "execution_count": null,
   "id": "59557377-85df-4ffd-a36c-e47f62c70d1f",
   "metadata": {},
   "outputs": [
    {
     "data": {
      "text/plain": [
       "['12', '1_2']"
      ]
     },
     "execution_count": 37,
     "metadata": {},
     "output_type": "execute_result"
    }
   ],
   "source": [
    "candidate = []\n",
    "for t1 in T:\n",
    "    tmp = \"\"\n",
    "    can = \"\"\n",
    "    for t2 in t1:\n",
    "        if t2 == \"_\":\n",
    "            can += \"_\"\n",
    "            continue\n",
    "        tmp += t2\n",
    "        if d[tmp] >= 1:\n",
    "            can += str(d[tmp])\n",
    "            tmp = \"\"\n",
    "    candidate.append(can)\n",
    "candidate"
   ]
  },
  {
   "cell_type": "code",
   "execution_count": 42,
   "id": "c181e403-a3c4-49ff-9f81-068f03c30a97",
   "metadata": {},
   "outputs": [
    {
     "name": "stdout",
     "output_type": "stream",
     "text": [
      "1\n",
      "2\n",
      "1\n",
      "_\n",
      "2\n"
     ]
    }
   ],
   "source": [
    "for can in candidate:\n",
    "    for c in can:\n",
    "        "
   ]
  },
  {
   "cell_type": "code",
   "execution_count": 40,
   "id": "19ea2599-d41c-4440-b6d2-eb976cbf873c",
   "metadata": {},
   "outputs": [
    {
     "name": "stdout",
     "output_type": "stream",
     "text": [
      "(1, 2)\n",
      "(2, 1)\n"
     ]
    }
   ],
   "source": [
    "import itertools\n",
    "P = itertools.permutations(list(range(1, N+1)))\n",
    "for p in P:\n",
    "    print (p)"
   ]
  },
  {
   "cell_type": "code",
   "execution_count": null,
   "id": "dd26f917-2496-4b3c-b635-423807847d40",
   "metadata": {},
   "outputs": [],
   "source": []
  }
 ],
 "metadata": {
  "kernelspec": {
   "display_name": "Python 3 (ipykernel)",
   "language": "python",
   "name": "python3"
  },
  "language_info": {
   "codemirror_mode": {
    "name": "ipython",
    "version": 3
   },
   "file_extension": ".py",
   "mimetype": "text/x-python",
   "name": "python",
   "nbconvert_exporter": "python",
   "pygments_lexer": "ipython3",
   "version": "3.8.13"
  }
 },
 "nbformat": 4,
 "nbformat_minor": 5
}
