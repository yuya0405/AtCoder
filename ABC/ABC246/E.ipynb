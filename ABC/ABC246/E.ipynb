{
 "cells": [
  {
   "cell_type": "code",
   "execution_count": 1,
   "id": "cca40396-c7e7-4cff-8fd1-93c0fb892a90",
   "metadata": {},
   "outputs": [
    {
     "name": "stdin",
     "output_type": "stream",
     "text": [
      " 5\n",
      " 1 3\n",
      " 3 5\n",
      " ....#\n",
      " ...#.\n",
      " .....\n",
      " .#...\n",
      " #....\n"
     ]
    }
   ],
   "source": [
    "N = int(input())\n",
    "Ax, Ay = map(int, input().split())\n",
    "Bx, By = map(int, input().split())\n",
    "S = [input() for _ in range(N)]"
   ]
  },
  {
   "cell_type": "code",
   "execution_count": 10,
   "id": "5ed367a4-e34c-4ee5-ae75-3b60839628b6",
   "metadata": {},
   "outputs": [
    {
     "name": "stdout",
     "output_type": "stream",
     "text": [
      "4\n"
     ]
    }
   ],
   "source": [
    "from queue import Queue\n",
    "\n",
    "# 四方向への移動を表すベクトル\n",
    "dxs = [1, 1, -1, -1]\n",
    "dys = [1, -1, 1, -1]\n",
    "\n",
    "# 入力\n",
    "H, W = N, N\n",
    "X0, Y0, X1, Y1 = Ax-1, Ay-1, Bx-1, By-1\n",
    "\n",
    "# 各マス (x, y) が何手目に探索されたか\n",
    "# -1 は「まだ探索されていない」ことを表す\n",
    "dist = [[-1] * W for i in range(H)]\n",
    "\n",
    "# todo リストを表すキュー\n",
    "que = Queue()\n",
    "\n",
    "# マス (X0, Y0) を始点とする\n",
    "dist[X0][Y0] = 0\n",
    "que.put((X0, Y0))\n",
    "\n",
    "# キューが空になるまで探索する\n",
    "while not que.empty():\n",
    "    # キューから頂点を取り出す\n",
    "    x, y = que.get()\n",
    "\n",
    "    # マス (x, y) から 1 手で行けるマスを順に探索\n",
    "    for dx, dy in zip(dxs, dys):\n",
    "        # 隣接マス\n",
    "        x2, y2 = x + dx, y + dy\n",
    "\n",
    "        # マス (x2, y2) が盤面外である場合、黒マスである場合はスキップ\n",
    "        if x2 < 0 or x2 >= H or y2 < 0 or y2 >= W or S[x2][y2] == '#':\n",
    "            continue\n",
    "        \n",
    "        # マス (x2, y2) が探索済みであれば何もしない\n",
    "        if dist[x2][y2] != -1:\n",
    "            continue\n",
    "\n",
    "        # マス (x2, y2) を探索する\n",
    "        dist[x2][y2] = dist[x][y] + 1\n",
    "        que.put((x2, y2))\n",
    "        \n",
    "# マス (X1, Y1) の値を答える\n",
    "ans1 = dist[X1][Y1]"
   ]
  },
  {
   "cell_type": "code",
   "execution_count": 11,
   "id": "4d4ef3dd-be09-4d10-8264-7dfdafa4c9b0",
   "metadata": {},
   "outputs": [
    {
     "data": {
      "text/plain": [
       "[[2, -1, 0, -1, -1],\n",
       " [-1, 1, -1, -1, -1],\n",
       " [2, -1, 2, -1, 4],\n",
       " [-1, -1, -1, 3, -1],\n",
       " [-1, -1, 4, -1, 4]]"
      ]
     },
     "execution_count": 11,
     "metadata": {},
     "output_type": "execute_result"
    }
   ],
   "source": [
    "dist"
   ]
  },
  {
   "cell_type": "code",
   "execution_count": null,
   "id": "c34dc454-b792-4f15-8586-a216869a621d",
   "metadata": {},
   "outputs": [],
   "source": []
  }
 ],
 "metadata": {
  "kernelspec": {
   "display_name": "Python 3",
   "language": "python",
   "name": "python3"
  },
  "language_info": {
   "codemirror_mode": {
    "name": "ipython",
    "version": 3
   },
   "file_extension": ".py",
   "mimetype": "text/x-python",
   "name": "python",
   "nbconvert_exporter": "python",
   "pygments_lexer": "ipython3",
   "version": "3.8.8"
  }
 },
 "nbformat": 4,
 "nbformat_minor": 5
}
