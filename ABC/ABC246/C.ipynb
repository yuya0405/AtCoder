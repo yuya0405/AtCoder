{
 "cells": [
  {
   "cell_type": "code",
   "execution_count": 62,
   "id": "df277c4b-2f9b-49d7-9713-4fe44135a29d",
   "metadata": {},
   "outputs": [
    {
     "name": "stdin",
     "output_type": "stream",
     "text": [
      " 20 815 60\n",
      " 2066 3193 2325 4030 3725 1669 1969 763 1653 159 5311 5341 4671 2374 4513 285 810 742 2981 202\n"
     ]
    },
    {
     "name": "stdout",
     "output_type": "stream",
     "text": [
      "112\n"
     ]
    }
   ],
   "source": [
    "N, K, X = map(int, input().split())\n",
    "A = list(map(int, input().split()))\n",
    "\n",
    "ans = sum(A)\n",
    "\n",
    "A.sort(reverse=True)\n",
    "\n",
    "for i in range(len(A)):\n",
    "    num = A[i] // X\n",
    "    if num <= K:\n",
    "        A[i] %= X\n",
    "    else:\n",
    "        num = K\n",
    "        A[i] -= K * X\n",
    "    K -= num\n",
    "    ans -= num * X\n",
    "\n",
    "A.sort(reverse=True)\n",
    "\n",
    "for i in range(len(A)):\n",
    "    if K > 0:\n",
    "        K -= 1\n",
    "        ans -= A[i]\n",
    "        A[i] = 0\n",
    "\n",
    "print (ans)"
   ]
  },
  {
   "cell_type": "code",
   "execution_count": null,
   "id": "e0476228-141c-44c2-ba82-125e0492d62b",
   "metadata": {},
   "outputs": [],
   "source": []
  }
 ],
 "metadata": {
  "kernelspec": {
   "display_name": "Python 3",
   "language": "python",
   "name": "python3"
  },
  "language_info": {
   "codemirror_mode": {
    "name": "ipython",
    "version": 3
   },
   "file_extension": ".py",
   "mimetype": "text/x-python",
   "name": "python",
   "nbconvert_exporter": "python",
   "pygments_lexer": "ipython3",
   "version": "3.8.8"
  }
 },
 "nbformat": 4,
 "nbformat_minor": 5
}
