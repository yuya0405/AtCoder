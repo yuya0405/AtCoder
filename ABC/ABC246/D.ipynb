{
 "cells": [
  {
   "cell_type": "code",
   "execution_count": 69,
   "id": "462f1fec-b855-4ed8-9571-38d221ea05fb",
   "metadata": {},
   "outputs": [
    {
     "name": "stdin",
     "output_type": "stream",
     "text": [
      " 0\n"
     ]
    },
    {
     "name": "stdout",
     "output_type": "stream",
     "text": [
      "0\n",
      "Exit\n",
      "1\n"
     ]
    }
   ],
   "source": [
    "N = int(input())\n",
    "\n",
    "if N == 0:\n",
    "    print (N)\n",
    "    print (\"Exit\")\n",
    "\n",
    "def make_divisors(n):\n",
    "    lower_divisors , upper_divisors = [], []\n",
    "    i = 1\n",
    "    while i*i <= n:\n",
    "        if n % i == 0:\n",
    "            lower_divisors.append(i)\n",
    "            if i != n // i:\n",
    "                upper_divisors.append(n//i)\n",
    "        i += 1\n",
    "    return lower_divisors + upper_divisors[::-1]\n",
    "\n",
    "flag = True\n",
    "while(flag):\n",
    "    tmp = make_divisors(N)\n",
    "    for t1 in tmp:\n",
    "        t2 = N // t1\n",
    "        if (t1**2 - t2) < 0 or (t2 - t1**2) % 2 != 0:\n",
    "            continue\n",
    "        s = (t1**2 - t2)//2\n",
    "        # print (t1, s)\n",
    "        for a in range(t1):\n",
    "            b = t1 - a\n",
    "            # print (a, b)\n",
    "            if s == a*b:\n",
    "                print (N)\n",
    "                flag = False\n",
    "    N += 1"
   ]
  },
  {
   "cell_type": "code",
   "execution_count": null,
   "id": "0d910a8d-b885-4ba8-84df-1ea0941310e5",
   "metadata": {},
   "outputs": [],
   "source": []
  }
 ],
 "metadata": {
  "kernelspec": {
   "display_name": "Python 3",
   "language": "python",
   "name": "python3"
  },
  "language_info": {
   "codemirror_mode": {
    "name": "ipython",
    "version": 3
   },
   "file_extension": ".py",
   "mimetype": "text/x-python",
   "name": "python",
   "nbconvert_exporter": "python",
   "pygments_lexer": "ipython3",
   "version": "3.8.8"
  }
 },
 "nbformat": 4,
 "nbformat_minor": 5
}
