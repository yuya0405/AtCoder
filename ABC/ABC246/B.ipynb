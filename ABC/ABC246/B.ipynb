{
 "cells": [
  {
   "cell_type": "code",
   "execution_count": 10,
   "id": "8ab65a84-0fc5-4a93-bb08-38e63c52ecd3",
   "metadata": {},
   "outputs": [],
   "source": [
    "A, B = map(int, input().split())\n",
    "\n",
    "d = (A**2 + B**2)**0.5\n",
    "\n",
    "print (A/d, B/d)"
   ]
  },
  {
   "cell_type": "code",
   "execution_count": null,
   "id": "e13f89b2-9da4-45cf-b534-f1e92a314764",
   "metadata": {},
   "outputs": [],
   "source": []
  }
 ],
 "metadata": {
  "kernelspec": {
   "display_name": "Python 3",
   "language": "python",
   "name": "python3"
  },
  "language_info": {
   "codemirror_mode": {
    "name": "ipython",
    "version": 3
   },
   "file_extension": ".py",
   "mimetype": "text/x-python",
   "name": "python",
   "nbconvert_exporter": "python",
   "pygments_lexer": "ipython3",
   "version": "3.8.8"
  }
 },
 "nbformat": 4,
 "nbformat_minor": 5
}
