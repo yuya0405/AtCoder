{
 "cells": [
  {
   "cell_type": "code",
   "execution_count": 7,
   "id": "79a133d6-db0b-45aa-afb0-5f28532377da",
   "metadata": {},
   "outputs": [],
   "source": [
    "x1, y1 = map(int, input().split())\n",
    "x2, y2 = map(int, input().split())\n",
    "x3, y3 = map(int, input().split())\n",
    "\n",
    "if x1 == x2:\n",
    "    x4 = x3\n",
    "elif x1 == x3:\n",
    "    x4 = x2\n",
    "else:\n",
    "    x4 = x1\n",
    "\n",
    "if y1 == y2:\n",
    "    y4 = y3\n",
    "elif y1 == y3:\n",
    "    y4 = y2\n",
    "else:\n",
    "    y4 = y1\n",
    "\n",
    "print (x4, y4)"
   ]
  },
  {
   "cell_type": "code",
   "execution_count": null,
   "id": "5d720ba6-62b2-4d40-8f1b-cbff90406243",
   "metadata": {},
   "outputs": [],
   "source": []
  }
 ],
 "metadata": {
  "kernelspec": {
   "display_name": "Python 3",
   "language": "python",
   "name": "python3"
  },
  "language_info": {
   "codemirror_mode": {
    "name": "ipython",
    "version": 3
   },
   "file_extension": ".py",
   "mimetype": "text/x-python",
   "name": "python",
   "nbconvert_exporter": "python",
   "pygments_lexer": "ipython3",
   "version": "3.8.8"
  }
 },
 "nbformat": 4,
 "nbformat_minor": 5
}
