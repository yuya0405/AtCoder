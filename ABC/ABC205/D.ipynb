{
 "cells": [
  {
   "cell_type": "code",
   "execution_count": 21,
   "id": "0d470b15-2664-4bf5-98b2-4de691baab07",
   "metadata": {},
   "outputs": [
    {
     "name": "stdin",
     "output_type": "stream",
     "text": [
      " 4 3\n",
      " 3 5 6 7\n",
      " 2\n",
      " 5\n",
      " 3\n"
     ]
    }
   ],
   "source": [
    "N, Q = map(int, input().split())\n",
    "A = list(map(int, input().split()))\n",
    "K = [int(input()) for _ in range(Q)]"
   ]
  },
  {
   "cell_type": "code",
   "execution_count": 27,
   "id": "9d668ec9-6962-4b79-8d9d-85e628b1d440",
   "metadata": {},
   "outputs": [],
   "source": [
    "# 解説AC\n",
    "\n",
    "C = [0 for _ in range(N)]\n",
    "for i, a in enumerate(A):\n",
    "    C[i] = a-i-1\n",
    "\n",
    "import bisect\n",
    "\n",
    "for k in K:\n",
    "    i = bisect.bisect_left(C, k)\n",
    "    if i == 0:\n",
    "        print (k)\n",
    "    else:\n",
    "        print (A[i-1] + (k - C[i-1]))"
   ]
  },
  {
   "cell_type": "code",
   "execution_count": null,
   "id": "0f98ba86-69cc-43dc-9e9f-7d5df90cffc9",
   "metadata": {},
   "outputs": [],
   "source": [
    "# TLE\n",
    "\n",
    "max_k = max(K)\n",
    "max_k\n",
    "\n",
    "def is_ok(k, m):\n",
    "    B = []\n",
    "    for i in range(1, m+1):\n",
    "        if i not in A:\n",
    "            B.append(i)\n",
    "    if len(B) >= k:\n",
    "        return True\n",
    "    else:\n",
    "        return False\n",
    "\n",
    "def meguru_bisect(k, ng, ok):\n",
    "    while(abs(ok-ng)>1):\n",
    "        mid = (ok+ng)//2\n",
    "        if is_ok(k, mid):\n",
    "            ok = mid\n",
    "        else:\n",
    "            ng = mid\n",
    "    return (ok)\n",
    "\n",
    "for k in K:\n",
    "    print (meguru_bisect(k, 0, 10**18+1))"
   ]
  },
  {
   "cell_type": "code",
   "execution_count": null,
   "id": "3ec0dddc-34bf-499d-b269-42dd00cb50dc",
   "metadata": {},
   "outputs": [],
   "source": []
  }
 ],
 "metadata": {
  "kernelspec": {
   "display_name": "Python 3",
   "language": "python",
   "name": "python3"
  },
  "language_info": {
   "codemirror_mode": {
    "name": "ipython",
    "version": 3
   },
   "file_extension": ".py",
   "mimetype": "text/x-python",
   "name": "python",
   "nbconvert_exporter": "python",
   "pygments_lexer": "ipython3",
   "version": "3.8.8"
  }
 },
 "nbformat": 4,
 "nbformat_minor": 5
}
