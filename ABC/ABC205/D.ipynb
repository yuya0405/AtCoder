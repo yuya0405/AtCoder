{
 "cells": [
  {
   "cell_type": "code",
   "execution_count": 1,
   "id": "0d470b15-2664-4bf5-98b2-4de691baab07",
   "metadata": {},
   "outputs": [
    {
     "name": "stdin",
     "output_type": "stream",
     "text": [
      " 4 3\n",
      " 3 5 6 7\n",
      " 2\n",
      " 5\n",
      " 3\n"
     ]
    }
   ],
   "source": [
    "N, Q = map(int, input().split())\n",
    "A = list(map(int, input().split()))\n",
    "K = [int(input()) for _ in range(Q)]"
   ]
  },
  {
   "cell_type": "code",
   "execution_count": 5,
   "id": "cda2bffa-ab96-4ddf-bec0-8db139dd78b1",
   "metadata": {},
   "outputs": [
    {
     "data": {
      "text/plain": [
       "5"
      ]
     },
     "execution_count": 5,
     "metadata": {},
     "output_type": "execute_result"
    }
   ],
   "source": [
    "max_k = max(K)\n",
    "max_k"
   ]
  },
  {
   "cell_type": "code",
   "execution_count": null,
   "id": "1e2fd82e-1179-45df-87a9-a4e3cdd72a83",
   "metadata": {},
   "outputs": [],
   "source": []
  },
  {
   "cell_type": "code",
   "execution_count": 34,
   "id": "8ef10041-2734-42fc-af3f-2c669249abe2",
   "metadata": {},
   "outputs": [
    {
     "name": "stdin",
     "output_type": "stream",
     "text": [
      " 4 3\n",
      " 3 5 6 7\n",
      " 2\n",
      " 5\n",
      " 3\n"
     ]
    },
    {
     "name": "stdout",
     "output_type": "stream",
     "text": [
      "1\n",
      "1000000000000000001\n",
      "1\n"
     ]
    }
   ],
   "source": [
    "def is_ok(k, m):\n",
    "    B = []\n",
    "    for i in range(1, m+1):\n",
    "        if i not in A:\n",
    "            B.append(i)\n",
    "    if len(B) >= k:\n",
    "        return True\n",
    "    else:\n",
    "        return False\n",
    "\n",
    "def meguru_bisect(k, ng, ok):\n",
    "    while(abs(ok-ng)>1):\n",
    "        mid = (ok+ng)//2\n",
    "        if is_ok(k, mid):\n",
    "            ok = mid\n",
    "        else:\n",
    "            ng = mid\n",
    "    return (ok)\n",
    "\n",
    "for k in K:\n",
    "    print (meguru_bisect(k, 0, 10**18+1))"
   ]
  }
 ],
 "metadata": {
  "kernelspec": {
   "display_name": "Python 3",
   "language": "python",
   "name": "python3"
  },
  "language_info": {
   "codemirror_mode": {
    "name": "ipython",
    "version": 3
   },
   "file_extension": ".py",
   "mimetype": "text/x-python",
   "name": "python",
   "nbconvert_exporter": "python",
   "pygments_lexer": "ipython3",
   "version": "3.8.8"
  }
 },
 "nbformat": 4,
 "nbformat_minor": 5
}
