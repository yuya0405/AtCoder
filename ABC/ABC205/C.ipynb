{
 "cells": [
  {
   "cell_type": "code",
   "execution_count": 25,
   "id": "44da3309-38e1-4d68-91e6-efaab1a4c6d6",
   "metadata": {},
   "outputs": [
    {
     "name": "stdin",
     "output_type": "stream",
     "text": [
      " 0 0 0\n"
     ]
    },
    {
     "name": "stdout",
     "output_type": "stream",
     "text": [
      "=\n"
     ]
    }
   ],
   "source": [
    "A, B, C = map(int, input().split())\n",
    "\n",
    "import math\n",
    "\n",
    "if A != 0:\n",
    "    a = C*math.log(abs(A))\n",
    "else:\n",
    "    a = 0\n",
    "\n",
    "if B != 0:\n",
    "    b = C*math.log(abs(B))\n",
    "else:\n",
    "    b = 0\n",
    "\n",
    "a_pm = 1\n",
    "if A < 0 and C % 2 == 1:\n",
    "    a_pm = -1\n",
    "\n",
    "b_pm = 1\n",
    "if B < 0 and C % 2 == 1:\n",
    "    b_pm = -1\n",
    "\n",
    "if a_pm*a < b_pm*b:\n",
    "    print (\"<\")\n",
    "elif a_pm*a > b_pm*b:\n",
    "    print (\">\")\n",
    "else:\n",
    "    print (\"=\")"
   ]
  },
  {
   "cell_type": "code",
   "execution_count": null,
   "id": "8f2ab175-3af4-4910-8a67-c26a2334fc30",
   "metadata": {},
   "outputs": [],
   "source": []
  }
 ],
 "metadata": {
  "kernelspec": {
   "display_name": "Python 3",
   "language": "python",
   "name": "python3"
  },
  "language_info": {
   "codemirror_mode": {
    "name": "ipython",
    "version": 3
   },
   "file_extension": ".py",
   "mimetype": "text/x-python",
   "name": "python",
   "nbconvert_exporter": "python",
   "pygments_lexer": "ipython3",
   "version": "3.8.8"
  }
 },
 "nbformat": 4,
 "nbformat_minor": 5
}
