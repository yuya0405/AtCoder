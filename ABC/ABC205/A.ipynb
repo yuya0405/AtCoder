{
 "cells": [
  {
   "cell_type": "code",
   "execution_count": 12,
   "id": "3e0f321d-2886-4ae7-9431-446674116ebe",
   "metadata": {},
   "outputs": [],
   "source": [
    "A, B = map(int, input().split())\n",
    "\n",
    "if int(A*B/100) == A*B/100:\n",
    "    print (int(A*B/100))\n",
    "else:\n",
    "    print (A*B/100)"
   ]
  },
  {
   "cell_type": "code",
   "execution_count": null,
   "id": "b32e2178-d9c2-4a57-89ef-5a35b0b6fa63",
   "metadata": {},
   "outputs": [],
   "source": []
  }
 ],
 "metadata": {
  "kernelspec": {
   "display_name": "Python 3",
   "language": "python",
   "name": "python3"
  },
  "language_info": {
   "codemirror_mode": {
    "name": "ipython",
    "version": 3
   },
   "file_extension": ".py",
   "mimetype": "text/x-python",
   "name": "python",
   "nbconvert_exporter": "python",
   "pygments_lexer": "ipython3",
   "version": "3.8.8"
  }
 },
 "nbformat": 4,
 "nbformat_minor": 5
}
