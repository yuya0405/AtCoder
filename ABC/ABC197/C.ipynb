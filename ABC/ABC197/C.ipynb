{
 "cells": [
  {
   "cell_type": "code",
   "execution_count": 28,
   "metadata": {},
   "outputs": [
    {
     "name": "stdin",
     "output_type": "stream",
     "text": [
      " 4\n",
      " 1 3 3 1\n"
     ]
    },
    {
     "name": "stdout",
     "output_type": "stream",
     "text": [
      "0\n"
     ]
    }
   ],
   "source": [
    "N = int(input())\n",
    "A = list(map(int, input().split()))\n",
    "\n",
    "from itertools import product\n",
    "\n",
    "ans = []\n",
    "for bit in product([0,1], repeat=(N-1)):\n",
    "    bit = bit + (1,)\n",
    "    if bit.count(1) == 0:\n",
    "        continue\n",
    "    candidate = 0\n",
    "    tmp = []\n",
    "    segment = 0\n",
    "    for i, b in enumerate(bit):\n",
    "        tmp.append(A[i])\n",
    "        if b == 1:\n",
    "            for t in tmp:\n",
    "                segment |= t\n",
    "            candidate ^= segment\n",
    "            tmp = []\n",
    "            segment = 0\n",
    "    ans.append(candidate)\n",
    "print (min(ans))"
   ]
  },
  {
   "cell_type": "code",
   "execution_count": null,
   "metadata": {},
   "outputs": [],
   "source": []
  }
 ],
 "metadata": {
  "kernelspec": {
   "display_name": "Python 3",
   "language": "python",
   "name": "python3"
  },
  "language_info": {
   "codemirror_mode": {
    "name": "ipython",
    "version": 3
   },
   "file_extension": ".py",
   "mimetype": "text/x-python",
   "name": "python",
   "nbconvert_exporter": "python",
   "pygments_lexer": "ipython3",
   "version": "3.8.5"
  }
 },
 "nbformat": 4,
 "nbformat_minor": 4
}
