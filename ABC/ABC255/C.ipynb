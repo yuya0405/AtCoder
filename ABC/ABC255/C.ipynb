{
 "cells": [
  {
   "cell_type": "code",
   "execution_count": 66,
   "id": "66c8b301-5499-4a08-b432-d4e17b6fdf40",
   "metadata": {},
   "outputs": [
    {
     "name": "stdin",
     "output_type": "stream",
     "text": [
      " -555555555555555555 -1000000000000000000 1000000 1000000000000\n"
     ]
    },
    {
     "ename": "KeyboardInterrupt",
     "evalue": "",
     "output_type": "error",
     "traceback": [
      "\u001b[0;31m---------------------------------------------------------------------------\u001b[0m",
      "\u001b[0;31mKeyboardInterrupt\u001b[0m                         Traceback (most recent call last)",
      "Input \u001b[0;32mIn [66]\u001b[0m, in \u001b[0;36m<cell line: 7>\u001b[0;34m()\u001b[0m\n\u001b[1;32m      6\u001b[0m pre \u001b[38;5;241m=\u001b[39m \u001b[38;5;28mabs\u001b[39m(A\u001b[38;5;241m-\u001b[39mX)\n\u001b[1;32m      7\u001b[0m \u001b[38;5;28;01mfor\u001b[39;00m i \u001b[38;5;129;01min\u001b[39;00m \u001b[38;5;28mrange\u001b[39m(\u001b[38;5;241m1\u001b[39m, N):\n\u001b[0;32m----> 8\u001b[0m     now \u001b[38;5;241m=\u001b[39m \u001b[38;5;28mabs\u001b[39m(A\u001b[38;5;241m+\u001b[39mD\u001b[38;5;241m*\u001b[39mi \u001b[38;5;241m-\u001b[39m X)\n\u001b[1;32m      9\u001b[0m     \u001b[38;5;28;01mif\u001b[39;00m now \u001b[38;5;241m>\u001b[39m pre \u001b[38;5;129;01mand\u001b[39;00m D \u001b[38;5;241m>\u001b[39m\u001b[38;5;241m=\u001b[39m \u001b[38;5;241m0\u001b[39m:\n\u001b[1;32m     10\u001b[0m         \u001b[38;5;28mprint\u001b[39m (pre)\n",
      "\u001b[0;31mKeyboardInterrupt\u001b[0m: "
     ]
    }
   ],
   "source": [
    "X, A, D, N = map(int, input().split())\n",
    "\n",
    "if N == 1:\n",
    "    print (abs(A-X))\n",
    "\n",
    "pre = abs(A-X)\n",
    "for i in range(1, N):\n",
    "    now = abs(A+D*i - X)\n",
    "    if now > pre and D >= 0:\n",
    "        print (pre)\n",
    "        break\n",
    "    elif now > pre and D < 0:\n",
    "        print (now)\n",
    "        break\n",
    "    pre = now"
   ]
  },
  {
   "cell_type": "code",
   "execution_count": null,
   "id": "a4c4a3ec-cd40-49cd-b70b-b01ba0361847",
   "metadata": {},
   "outputs": [],
   "source": []
  }
 ],
 "metadata": {
  "kernelspec": {
   "display_name": "Python 3 (ipykernel)",
   "language": "python",
   "name": "python3"
  },
  "language_info": {
   "codemirror_mode": {
    "name": "ipython",
    "version": 3
   },
   "file_extension": ".py",
   "mimetype": "text/x-python",
   "name": "python",
   "nbconvert_exporter": "python",
   "pygments_lexer": "ipython3",
   "version": "3.9.12"
  }
 },
 "nbformat": 4,
 "nbformat_minor": 5
}
