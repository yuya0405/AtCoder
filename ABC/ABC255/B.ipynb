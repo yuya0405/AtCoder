{
 "cells": [
  {
   "cell_type": "code",
   "execution_count": 104,
   "id": "e47f6f36-34f0-4fee-a749-ed0f3ea37d4b",
   "metadata": {},
   "outputs": [],
   "source": [
    "N, K = map(int, input().split())\n",
    "A = list(map(int, input().split()))\n",
    "XY = [list(map(int, input().split())) for _ in range(N)]\n",
    "\n",
    "distance = [[] for _ in range(N)]\n",
    "\n",
    "for a, (x0, y0) in enumerate(XY):\n",
    "    for b, (x1, y1) in enumerate(XY):\n",
    "        if (a+1 in A) == False and (b+1 in A) == True:\n",
    "            distance[a-1].append(((x0-x1)**2 + (y0-y1)**2)**0.5)\n",
    "\n",
    "ans = 0\n",
    "for d in distance:\n",
    "    if d != []:\n",
    "        ans = max(ans, min(d))\n",
    "print (ans)"
   ]
  },
  {
   "cell_type": "code",
   "execution_count": null,
   "id": "e158417a-ff77-4f01-9382-58a29b631ae3",
   "metadata": {},
   "outputs": [],
   "source": []
  }
 ],
 "metadata": {
  "kernelspec": {
   "display_name": "Python 3 (ipykernel)",
   "language": "python",
   "name": "python3"
  },
  "language_info": {
   "codemirror_mode": {
    "name": "ipython",
    "version": 3
   },
   "file_extension": ".py",
   "mimetype": "text/x-python",
   "name": "python",
   "nbconvert_exporter": "python",
   "pygments_lexer": "ipython3",
   "version": "3.9.12"
  }
 },
 "nbformat": 4,
 "nbformat_minor": 5
}
