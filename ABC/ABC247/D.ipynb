{
 "cells": [
  {
   "cell_type": "code",
   "execution_count": 40,
   "id": "e51a3634-d344-4252-87c2-0ede7d51d79f",
   "metadata": {},
   "outputs": [
    {
     "name": "stdin",
     "output_type": "stream",
     "text": [
      " 4\n",
      " 1 2 3\n",
      " 2 2\n",
      " 1 3 4\n",
      " 2 3\n"
     ]
    },
    {
     "name": "stdout",
     "output_type": "stream",
     "text": [
      "4\n",
      "8\n"
     ]
    }
   ],
   "source": [
    "Q = int(input())\n",
    "queries = [list(map(int, input().split())) for _ in range(Q)]\n",
    "\n",
    "from collections import deque\n",
    "\n",
    "d = deque()\n",
    "\n",
    "for query in queries:\n",
    "    if query[0] == 1:\n",
    "        d.append((query[1], query[2]))\n",
    "    else:\n",
    "        num = query[1]\n",
    "        ans = 0\n",
    "        while(1):\n",
    "            tmp = d.popleft()\n",
    "            if num >= tmp[1]:\n",
    "                ans += tmp[0]*tmp[1]\n",
    "                num -= tmp[1]\n",
    "            else:\n",
    "                ans += tmp[0]*num\n",
    "                d.appendleft((tmp[0], tmp[1]-num))\n",
    "                num = 0\n",
    "            if num == 0:\n",
    "                print (ans)\n",
    "                break"
   ]
  },
  {
   "cell_type": "code",
   "execution_count": null,
   "id": "a0f3fa07-54be-4996-8f10-4ac30b1f08fb",
   "metadata": {},
   "outputs": [],
   "source": []
  }
 ],
 "metadata": {
  "kernelspec": {
   "display_name": "Python 3",
   "language": "python",
   "name": "python3"
  },
  "language_info": {
   "codemirror_mode": {
    "name": "ipython",
    "version": 3
   },
   "file_extension": ".py",
   "mimetype": "text/x-python",
   "name": "python",
   "nbconvert_exporter": "python",
   "pygments_lexer": "ipython3",
   "version": "3.8.8"
  }
 },
 "nbformat": 4,
 "nbformat_minor": 5
}
