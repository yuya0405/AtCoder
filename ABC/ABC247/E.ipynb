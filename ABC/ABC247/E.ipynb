{
 "cells": [
  {
   "cell_type": "code",
   "execution_count": null,
   "id": "3305e618-b5d7-4303-844f-a265eb56853d",
   "metadata": {},
   "outputs": [
    {
     "name": "stdin",
     "output_type": "stream",
     "text": [
      " 4 3 1\n",
      " 1 2 3 1\n"
     ]
    }
   ],
   "source": [
    "N, X, Y = map(int, input().split())\n",
    "A = list(map(int, input().split()))"
   ]
  },
  {
   "cell_type": "code",
   "execution_count": null,
   "id": "872fa650-c51a-4dbc-a4f6-7e02ac4cd495",
   "metadata": {},
   "outputs": [
    {
     "name": "stdout",
     "output_type": "stream",
     "text": [
      "deque([1, 2, 3, 1])\n",
      "0\n"
     ]
    }
   ],
   "source": [
    "from collections import deque\n",
    "\n",
    "que = deque()\n",
    "ans = 0\n",
    "max_num = 0\n",
    "min_num = 0\n",
    "max_over_num = 0\n",
    "min_over_num = 0\n",
    "\n",
    "que = deque(A)\n",
    "for a in A:\n",
    "    q = deque()"
   ]
  },
  {
   "cell_type": "code",
   "execution_count": null,
   "id": "dadc833b-606d-42bc-b6cf-0a3d102a2e73",
   "metadata": {},
   "outputs": [
    {
     "name": "stdout",
     "output_type": "stream",
     "text": [
      "0 1 0 0\n",
      "deque([1])\n",
      "0 1 0 0\n",
      "deque([1, 2])\n",
      "1 1 0 0\n",
      "deque([1, 2, 3])\n",
      "1 2 0 0\n",
      "deque([1, 2, 3, 1])\n",
      "0\n"
     ]
    }
   ],
   "source": [
    "from collections import deque\n",
    "\n",
    "que = deque()\n",
    "ans = 0\n",
    "max_num = 0\n",
    "min_num = 0\n",
    "max_over_num = 0\n",
    "min_over_num = 0\n",
    "for a in A:\n",
    "    que.append(a)\n",
    "    if a == X:\n",
    "        max_num += 1\n",
    "    elif a > X:\n",
    "        max_over_num += 1\n",
    "    if a == Y:\n",
    "        min_num += 1\n",
    "    elif a < Y:\n",
    "        min_over_num += 1\n",
    "    \n",
    "    while que and (max_num >= 1 and min_num >= 1 and max_over_num > 0 and min_over_num > 0):\n",
    "        rm = que.popleft()\n",
    "        print (rm)\n",
    "        if rm == X:\n",
    "            max_num = max(0, max_num - 1)\n",
    "        elif rm > X:\n",
    "            max_over_num = max(0, max_over_num - 1)\n",
    "        if rm == Y:\n",
    "            min_num = max(0, min_num - 1)\n",
    "        elif rm < Y:\n",
    "            min_over_num = max(0, min_over_num - 1)\n",
    "    \n",
    "    print (max_num, min_num, max_over_num, min_over_num)\n",
    "    print (que)\n",
    "        \n",
    "print (ans)"
   ]
  },
  {
   "cell_type": "code",
   "execution_count": null,
   "id": "37a7307f-f960-4d39-bb9c-b99876dbf634",
   "metadata": {},
   "outputs": [],
   "source": []
  }
 ],
 "metadata": {
  "kernelspec": {
   "display_name": "Python 3 (ipykernel)",
   "language": "python",
   "name": "python3"
  },
  "language_info": {
   "codemirror_mode": {
    "name": "ipython",
    "version": 3
   },
   "file_extension": ".py",
   "mimetype": "text/x-python",
   "name": "python",
   "nbconvert_exporter": "python",
   "pygments_lexer": "ipython3",
   "version": "3.9.12"
  }
 },
 "nbformat": 4,
 "nbformat_minor": 5
}
