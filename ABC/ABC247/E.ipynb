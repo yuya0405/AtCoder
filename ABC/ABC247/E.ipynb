{
 "cells": [
  {
   "cell_type": "code",
   "execution_count": 113,
   "id": "3305e618-b5d7-4303-844f-a265eb56853d",
   "metadata": {},
   "outputs": [
    {
     "name": "stdin",
     "output_type": "stream",
     "text": [
      " 10 8 1\n",
      " 2 7 1 8 2 8 1 8 2 8\n"
     ]
    }
   ],
   "source": [
    "N, X, Y = map(int, input().split())\n",
    "A = list(map(int, input().split()))"
   ]
  },
  {
   "cell_type": "code",
   "execution_count": 114,
   "id": "1474f01c-f73a-4e85-9dfa-9a6afd024eec",
   "metadata": {},
   "outputs": [
    {
     "name": "stdout",
     "output_type": "stream",
     "text": [
      "36\n"
     ]
    }
   ],
   "source": [
    "from collections import deque\n",
    "\n",
    "que = deque()\n",
    "ans = 0\n",
    "max_num = 0\n",
    "min_num = 0\n",
    "max_over_num = 0\n",
    "min_over_num = 0\n",
    "for a in A:\n",
    "    que.append(a)\n",
    "    if a == X:\n",
    "        max_num += 1\n",
    "    elif a > X:\n",
    "        max_over_num += 1\n",
    "    if a == Y:\n",
    "        min_num += 1\n",
    "    elif a < Y:\n",
    "        min_over_num += 1\n",
    "        \n",
    "    # print (max_num, min_num)\n",
    "    # print (que)\n",
    "    \n",
    "    if max_num >= 1 and min_num >= 1 and max_over_num == 0 and min_over_num == 0:\n",
    "        ans += 1\n",
    "    q = que.copy()\n",
    "    max_num2 = max_num\n",
    "    min_num2 = min_num\n",
    "    max_over_num2 = max_over_num\n",
    "    min_over_num2 = min_over_num\n",
    "    \n",
    "    while q and (max_num2 >= 1 and min_num2 >= 1):\n",
    "        rm = q.popleft()\n",
    "        if rm == X:\n",
    "            max_num2 = max(0, max_num2 - 1)\n",
    "        elif rm > X:\n",
    "            max_over_num2 = max(0, max_over_num2 - 1)\n",
    "        if rm == Y:\n",
    "            min_num2 = max(0, min_num2 - 1)\n",
    "        elif rm < Y:\n",
    "            min_over_num2 = max(0, min_over_num2 - 1)\n",
    "        \n",
    "        # print (max_num2, min_num2)\n",
    "        # print (q)\n",
    "        \n",
    "        if max_num2 >= 1 and min_num2 >= 1 and max_over_num2 == 0 and min_over_num2 == 0:\n",
    "            ans += 1\n",
    "print (ans)"
   ]
  },
  {
   "cell_type": "code",
   "execution_count": null,
   "id": "37a7307f-f960-4d39-bb9c-b99876dbf634",
   "metadata": {},
   "outputs": [],
   "source": []
  }
 ],
 "metadata": {
  "kernelspec": {
   "display_name": "Python 3",
   "language": "python",
   "name": "python3"
  },
  "language_info": {
   "codemirror_mode": {
    "name": "ipython",
    "version": 3
   },
   "file_extension": ".py",
   "mimetype": "text/x-python",
   "name": "python",
   "nbconvert_exporter": "python",
   "pygments_lexer": "ipython3",
   "version": "3.8.8"
  }
 },
 "nbformat": 4,
 "nbformat_minor": 5
}
