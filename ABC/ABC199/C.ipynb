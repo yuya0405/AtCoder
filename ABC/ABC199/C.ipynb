{
 "cells": [
  {
   "cell_type": "code",
   "execution_count": 12,
   "metadata": {},
   "outputs": [
    {
     "name": "stdin",
     "output_type": "stream",
     "text": [
      " 2\n",
      " FLIP\n",
      " 6\n",
      " 1 1 3\n",
      " 2 0 0\n",
      " 1 1 2\n",
      " 1 2 3\n",
      " 2 0 0\n",
      " 1 1 4\n"
     ]
    },
    {
     "name": "stdout",
     "output_type": "stream",
     "text": [
      "ILPF\n"
     ]
    }
   ],
   "source": [
    "N = int(input())\n",
    "S = input()\n",
    "Q = int(input())\n",
    "\n",
    "S1 = list(S[:N])\n",
    "S2 = list(S[N:])\n",
    "\n",
    "for _ in range(Q):\n",
    "    t, a, b = map(int, input().split())\n",
    "    if t == 1:\n",
    "        if b <= N:\n",
    "            tmp = S1[a-1]\n",
    "            S1[a-1] = S1[b-1]\n",
    "            S1[b-1] = tmp\n",
    "        elif a > N:\n",
    "            tmp = S2[a-N-1]\n",
    "            S2[a-N-1] = S2[b-N-1]\n",
    "            S2[b-N-1] = tmp\n",
    "        else:\n",
    "            tmp = S1[a-1]\n",
    "            S1[a-1] = S2[b-N-1]\n",
    "            S2[b-N-1] = tmp\n",
    "    elif t == 2:\n",
    "        S1, S2 = S2, S1\n",
    "print (\"\".join(S1+S2))"
   ]
  },
  {
   "cell_type": "code",
   "execution_count": null,
   "metadata": {},
   "outputs": [],
   "source": []
  }
 ],
 "metadata": {
  "kernelspec": {
   "display_name": "Python 3",
   "language": "python",
   "name": "python3"
  },
  "language_info": {
   "codemirror_mode": {
    "name": "ipython",
    "version": 3
   },
   "file_extension": ".py",
   "mimetype": "text/x-python",
   "name": "python",
   "nbconvert_exporter": "python",
   "pygments_lexer": "ipython3",
   "version": "3.8.5"
  }
 },
 "nbformat": 4,
 "nbformat_minor": 4
}
