{
 "cells": [
  {
   "cell_type": "code",
   "execution_count": 11,
   "id": "f13584b0-1368-4e1f-b3b8-e3a9b3a623e2",
   "metadata": {},
   "outputs": [
    {
     "name": "stdin",
     "output_type": "stream",
     "text": [
      " 8\n",
      " RRRRWWWR\n"
     ]
    }
   ],
   "source": [
    "N = int(input())\n",
    "C = input()"
   ]
  },
  {
   "cell_type": "code",
   "execution_count": 12,
   "id": "adabc9ec-2294-413c-8326-6d8bd6267b98",
   "metadata": {},
   "outputs": [
    {
     "name": "stdout",
     "output_type": "stream",
     "text": [
      "1\n"
     ]
    }
   ],
   "source": [
    "R_count = C.count('R')\n",
    "ans = 0\n",
    "for i in range(R_count):\n",
    "    if C[i] == 'W':\n",
    "        ans += 1\n",
    "print (ans)"
   ]
  },
  {
   "cell_type": "code",
   "execution_count": null,
   "id": "00e26ebe-1c80-4359-82b6-5bdce3238a5d",
   "metadata": {},
   "outputs": [],
   "source": []
  }
 ],
 "metadata": {
  "kernelspec": {
   "display_name": "Python 3",
   "language": "python",
   "name": "python3"
  },
  "language_info": {
   "codemirror_mode": {
    "name": "ipython",
    "version": 3
   },
   "file_extension": ".py",
   "mimetype": "text/x-python",
   "name": "python",
   "nbconvert_exporter": "python",
   "pygments_lexer": "ipython3",
   "version": "3.8.8"
  }
 },
 "nbformat": 4,
 "nbformat_minor": 5
}
