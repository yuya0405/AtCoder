{
 "cells": [
  {
   "cell_type": "code",
   "execution_count": 2,
   "id": "81169d79-fe3d-4014-bed0-b9f77f094993",
   "metadata": {},
   "outputs": [
    {
     "name": "stdin",
     "output_type": "stream",
     "text": [
      " 3 4 240\n",
      " 60 90 120\n",
      " 80 150 80 150\n"
     ]
    }
   ],
   "source": [
    "N, M, K = map(int, input().split())\n",
    "A = list(map(int, input().split()))\n",
    "B = list(map(int, input().split()))"
   ]
  },
  {
   "cell_type": "code",
   "execution_count": 8,
   "id": "15b13844-3534-4944-bb5f-45360fa23a91",
   "metadata": {},
   "outputs": [],
   "source": [
    "from itertools import accumulate\n",
    "A_acc = [0] + list(accumulate(A))\n",
    "B_acc = [0] + list(accumulate(B))"
   ]
  },
  {
   "cell_type": "code",
   "execution_count": 11,
   "id": "56da7277-d46e-4e2d-8fbe-e8f638afafc1",
   "metadata": {},
   "outputs": [
    {
     "data": {
      "text/plain": [
       "3"
      ]
     },
     "execution_count": 11,
     "metadata": {},
     "output_type": "execute_result"
    }
   ],
   "source": [
    "ans = 0\n",
    "j = M\n",
    "for i in range(N+1):\n",
    "    if A_acc[i] > K:\n",
    "        break\n",
    "    while B_acc[j] > K - A_acc[i]:\n",
    "        j -= 1\n",
    "    ans = max(ans, i+j)\n",
    "ans"
   ]
  },
  {
   "cell_type": "code",
   "execution_count": null,
   "id": "a51612df-4645-4dfa-b37f-827a342922b5",
   "metadata": {},
   "outputs": [],
   "source": []
  }
 ],
 "metadata": {
  "kernelspec": {
   "display_name": "Python 3",
   "language": "python",
   "name": "python3"
  },
  "language_info": {
   "codemirror_mode": {
    "name": "ipython",
    "version": 3
   },
   "file_extension": ".py",
   "mimetype": "text/x-python",
   "name": "python",
   "nbconvert_exporter": "python",
   "pygments_lexer": "ipython3",
   "version": "3.8.8"
  }
 },
 "nbformat": 4,
 "nbformat_minor": 5
}
