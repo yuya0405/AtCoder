{
 "cells": [
  {
   "cell_type": "code",
   "execution_count": 34,
   "id": "2d739fcd-d1e6-4543-bf88-a704ea3ae5e5",
   "metadata": {},
   "outputs": [
    {
     "name": "stdin",
     "output_type": "stream",
     "text": [
      " 6\n",
      " ......\n",
      " ......\n",
      " ......\n",
      " ......\n",
      " ......\n",
      " .#.###\n"
     ]
    }
   ],
   "source": [
    "N = int(input())\n",
    "S = [input() for _ in range(N)]"
   ]
  },
  {
   "cell_type": "code",
   "execution_count": 35,
   "id": "cc845e8b-f2e2-4581-9ad4-17dc31ce8cf1",
   "metadata": {},
   "outputs": [
    {
     "data": {
      "text/plain": [
       "[[0, 0, 0, 0, 0, 0],\n",
       " [0, 0, 0, 0, 0, 0],\n",
       " [0, 0, 0, 0, 0, 0],\n",
       " [0, 0, 0, 0, 0, 0],\n",
       " [0, 0, 0, 0, 0, 0],\n",
       " [0, 1, 0, 1, 1, 1]]"
      ]
     },
     "execution_count": 35,
     "metadata": {},
     "output_type": "execute_result"
    }
   ],
   "source": [
    "A = [[0]*N for _ in range(N)]\n",
    "for i in range(N):\n",
    "    for j in range(N):\n",
    "        if S[i][j] == \"#\":\n",
    "            A[i][j] = 1\n",
    "A"
   ]
  },
  {
   "cell_type": "code",
   "execution_count": 38,
   "id": "2f74349d-4fb9-496d-9684-74e8fb0f40fa",
   "metadata": {},
   "outputs": [
    {
     "name": "stdout",
     "output_type": "stream",
     "text": [
      "Yes\n",
      "No\n"
     ]
    }
   ],
   "source": [
    "# 横\n",
    "for i in range(N*N):\n",
    "    if i%N+5 >= N:\n",
    "        continue\n",
    "    count = 2\n",
    "    for j in range(6):\n",
    "        if A[i//N][i%N+j] == 0:\n",
    "            count -= 1\n",
    "    if count >= 0:\n",
    "        print (\"Yes\")\n",
    "        exit()\n",
    "\n",
    "# 縦\n",
    "for i in range(N*N):\n",
    "    if i//N+5 >= N:\n",
    "        continue\n",
    "    count = 2\n",
    "    for j in range(6):\n",
    "        if A[i//N+j][i%N] == 0:\n",
    "            count -= 1\n",
    "    if count >= 0:\n",
    "        print (\"Yes\")\n",
    "        exit()\n",
    "\n",
    "# 斜め1\n",
    "for i in range(N*N):\n",
    "    if i//N+5 >= N:\n",
    "        continue\n",
    "    if i%N+5 >= N:\n",
    "        continue\n",
    "    count = 2\n",
    "    for j in range(6):\n",
    "        if A[i//N+j][i%N+j] == 0:\n",
    "            count -= 1\n",
    "    if count >= 0:\n",
    "        print (\"Yes\")\n",
    "        exit()\n",
    "\n",
    "# 斜め2\n",
    "for i in range(N*N):\n",
    "    if i//N+5 >= N:\n",
    "        continue\n",
    "    if i%N-5 < 0:\n",
    "        continue\n",
    "    count = 2\n",
    "    for j in range(6):\n",
    "        if A[i//N+j][i%N-j] == 0:\n",
    "            count -= 1\n",
    "    if count >= 0:\n",
    "        print (\"Yes\")\n",
    "        exit()\n",
    "\n",
    "print (\"No\")"
   ]
  },
  {
   "cell_type": "code",
   "execution_count": null,
   "id": "5980a201-6b70-4ad0-b556-e209021a71c3",
   "metadata": {},
   "outputs": [],
   "source": []
  }
 ],
 "metadata": {
  "kernelspec": {
   "display_name": "Python 3",
   "language": "python",
   "name": "python3"
  },
  "language_info": {
   "codemirror_mode": {
    "name": "ipython",
    "version": 3
   },
   "file_extension": ".py",
   "mimetype": "text/x-python",
   "name": "python",
   "nbconvert_exporter": "python",
   "pygments_lexer": "ipython3",
   "version": "3.8.8"
  }
 },
 "nbformat": 4,
 "nbformat_minor": 5
}
