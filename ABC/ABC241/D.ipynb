{
 "cells": [
  {
   "cell_type": "code",
   "execution_count": 1,
   "id": "9305bb07-8faf-46e9-b903-cb0baa34e42b",
   "metadata": {},
   "outputs": [
    {
     "name": "stdin",
     "output_type": "stream",
     "text": [
      " 11\n",
      " 1 20\n",
      " 1 10\n",
      " 1 30\n",
      " 1 20\n",
      " 3 15 1\n",
      " 3 15 2\n",
      " 3 15 3\n",
      " 3 15 4\n",
      " 2 100 5\n",
      " 1 1\n",
      " 2 100 5\n"
     ]
    }
   ],
   "source": [
    "Q = int(input())\n",
    "queries = [list(map(int, input().split())) for _ in range(Q)]"
   ]
  },
  {
   "cell_type": "code",
   "execution_count": 10,
   "id": "a57bb74c-d13f-46aa-a979-0bfbe643ac28",
   "metadata": {},
   "outputs": [
    {
     "name": "stdout",
     "output_type": "stream",
     "text": [
      "-1\n",
      "-1\n",
      "-1\n",
      "-1\n",
      "-1\n",
      "-1\n"
     ]
    }
   ],
   "source": [
    "A_big = []\n",
    "A_small = []\n",
    "for i, *xk in queries:\n",
    "    if i == 1:\n",
    "        if len(A_big) < 5 or A_big[0] < xk[0]:\n",
    "            A_big.append(xk[0])\n",
    "            A_big.sort()\n",
    "            A_big.pop(0)\n",
    "        if len(A_small) < 5 or A_small[-1] > xk[0]:\n",
    "            A_small.append(xk[0])\n",
    "            A_small.sort()\n",
    "            A_small.pop(-1)\n",
    "    elif i == 2:\n",
    "        if len(A_big) < xk[1]:\n",
    "            print (-1)\n",
    "        else:\n",
    "            print (A_big[-1*xk[1]])\n",
    "    elif i == 3:\n",
    "        if len(A_small) < xk[1]:\n",
    "            print (-1)\n",
    "        else:\n",
    "            print (A_small[xk[1]-1])"
   ]
  },
  {
   "cell_type": "code",
   "execution_count": null,
   "id": "5b156238-674e-4f70-8948-8c7e772e4a8e",
   "metadata": {},
   "outputs": [],
   "source": []
  }
 ],
 "metadata": {
  "kernelspec": {
   "display_name": "Python 3",
   "language": "python",
   "name": "python3"
  },
  "language_info": {
   "codemirror_mode": {
    "name": "ipython",
    "version": 3
   },
   "file_extension": ".py",
   "mimetype": "text/x-python",
   "name": "python",
   "nbconvert_exporter": "python",
   "pygments_lexer": "ipython3",
   "version": "3.8.8"
  }
 },
 "nbformat": 4,
 "nbformat_minor": 5
}
