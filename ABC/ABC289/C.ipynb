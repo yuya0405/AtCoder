{
 "cells": [
  {
   "cell_type": "code",
   "execution_count": 19,
   "id": "9298337c-c554-42c3-bb0c-c1d299802f3c",
   "metadata": {},
   "outputs": [
    {
     "name": "stdin",
     "output_type": "stream",
     "text": [
      " 3 3\n",
      " 2\n",
      " 1 2\n",
      " 2\n",
      " 1 3\n",
      " 1\n",
      " 2\n"
     ]
    }
   ],
   "source": [
    "N, M = map(int, input().split())\n",
    "C = []\n",
    "A = []\n",
    "for m in range(M):\n",
    "    C.append(int(input()))\n",
    "    A.append(list(map(int, input().split())))"
   ]
  },
  {
   "cell_type": "code",
   "execution_count": 84,
   "id": "6806d613-db56-4cad-98e0-f1d472ddf069",
   "metadata": {},
   "outputs": [
    {
     "data": {
      "text/plain": [
       "[[True, True, False], [True, False, True], [False, True, False]]"
      ]
     },
     "execution_count": 84,
     "metadata": {},
     "output_type": "execute_result"
    }
   ],
   "source": [
    "B = []\n",
    "for a in A:\n",
    "    tmp = [False]*N\n",
    "    for i in range(1, N+1):\n",
    "        if i in a:\n",
    "            tmp[i-1] = True\n",
    "    B.append(tmp)\n",
    "B"
   ]
  },
  {
   "cell_type": "code",
   "execution_count": 85,
   "id": "7b3f57b9-1ea7-4374-8ef4-98985910c3e0",
   "metadata": {},
   "outputs": [
    {
     "name": "stdout",
     "output_type": "stream",
     "text": [
      "3\n"
     ]
    }
   ],
   "source": [
    "from itertools import product\n",
    "\n",
    "count = 0\n",
    "for bit in product([0,1], repeat=M):\n",
    "    ans = [False]*N\n",
    "    for i, b in enumerate(bit):\n",
    "        if b == 1:\n",
    "            # 自力実装\n",
    "            for j, (a, b2) in enumerate(zip(ans, B[i])):\n",
    "                if a == True or b2 == True:\n",
    "                    ans[j] = True\n",
    "    \n",
    "    # print (ans)\n",
    "    if all(ans):\n",
    "        count += 1\n",
    "            \n",
    "print (count)"
   ]
  },
  {
   "cell_type": "code",
   "execution_count": null,
   "id": "4523bb1c-ef29-407e-bf43-d734ce8fe2c0",
   "metadata": {},
   "outputs": [],
   "source": []
  }
 ],
 "metadata": {
  "kernelspec": {
   "display_name": "Python 3 (ipykernel)",
   "language": "python",
   "name": "python3"
  },
  "language_info": {
   "codemirror_mode": {
    "name": "ipython",
    "version": 3
   },
   "file_extension": ".py",
   "mimetype": "text/x-python",
   "name": "python",
   "nbconvert_exporter": "python",
   "pygments_lexer": "ipython3",
   "version": "3.8.13"
  }
 },
 "nbformat": 4,
 "nbformat_minor": 5
}
