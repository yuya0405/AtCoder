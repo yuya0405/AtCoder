{
 "cells": [
  {
   "cell_type": "code",
   "execution_count": 12,
   "id": "2bef4853-5426-4ad5-84cf-bed6d04c8ee2",
   "metadata": {},
   "outputs": [
    {
     "name": "stdin",
     "output_type": "stream",
     "text": [
      " 10 6\n",
      " 1 2 3 7 8 9\n"
     ]
    }
   ],
   "source": [
    "N, M = map(int, input().split())\n",
    "A = list(map(int, input().split()))"
   ]
  },
  {
   "cell_type": "code",
   "execution_count": 13,
   "id": "fd39efa5-9242-49d3-a5ca-073f3865ec68",
   "metadata": {},
   "outputs": [
    {
     "name": "stdout",
     "output_type": "stream",
     "text": [
      "4 3 2 1 5 6 10 9 8 7\n"
     ]
    }
   ],
   "source": [
    "from collections import deque\n",
    "\n",
    "d = deque()\n",
    "\n",
    "ans = []\n",
    "for n in range(1, N+1):\n",
    "    if n in A:\n",
    "        d.append(n)\n",
    "    else:\n",
    "        ans.append(n)\n",
    "        for i in range(len(d)):\n",
    "            ans.append(d.pop())\n",
    "print (*ans)"
   ]
  },
  {
   "cell_type": "code",
   "execution_count": null,
   "id": "0250b64e-e878-4676-80c2-2a1ab4b29321",
   "metadata": {},
   "outputs": [],
   "source": []
  }
 ],
 "metadata": {
  "kernelspec": {
   "display_name": "Python 3 (ipykernel)",
   "language": "python",
   "name": "python3"
  },
  "language_info": {
   "codemirror_mode": {
    "name": "ipython",
    "version": 3
   },
   "file_extension": ".py",
   "mimetype": "text/x-python",
   "name": "python",
   "nbconvert_exporter": "python",
   "pygments_lexer": "ipython3",
   "version": "3.8.13"
  }
 },
 "nbformat": 4,
 "nbformat_minor": 5
}
