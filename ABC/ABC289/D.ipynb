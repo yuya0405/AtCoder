{
 "cells": [
  {
   "cell_type": "code",
   "execution_count": 60,
   "id": "3ee6fa77-b9cd-4fc6-abd9-885a61897230",
   "metadata": {},
   "outputs": [
    {
     "name": "stdin",
     "output_type": "stream",
     "text": [
      " 3\n",
      " 1 2 3\n",
      " 10\n",
      " 1 2 3 4 5 6 7 8 9 10\n",
      " 8\n"
     ]
    }
   ],
   "source": [
    "N = int(input())\n",
    "A = list(map(int, input().split()))\n",
    "M = int(input())\n",
    "B = list(map(int, input().split()))\n",
    "X = int(input())"
   ]
  },
  {
   "cell_type": "code",
   "execution_count": 61,
   "id": "87915c3a-9760-4242-ae90-2b37defd8bc6",
   "metadata": {},
   "outputs": [
    {
     "data": {
      "text/plain": [
       "3"
      ]
     },
     "execution_count": 61,
     "metadata": {},
     "output_type": "execute_result"
    }
   ],
   "source": [
    "A_max = max(A)\n",
    "A_max"
   ]
  },
  {
   "cell_type": "code",
   "execution_count": 62,
   "id": "33b50802-28a6-4cfe-90fc-aa487c4f3c9c",
   "metadata": {},
   "outputs": [],
   "source": [
    "# 0 -> NG\n",
    "# 1 -> OK\n",
    "\n",
    "F = [(0,1)] * (X+1+A_max)"
   ]
  },
  {
   "cell_type": "code",
   "execution_count": 63,
   "id": "374142e8-8bf3-42c5-8447-8e91b75c8310",
   "metadata": {},
   "outputs": [],
   "source": [
    "for b in B:\n",
    "    F[b] = (0, 0)"
   ]
  },
  {
   "cell_type": "code",
   "execution_count": 64,
   "id": "6387687a-cc3f-4cdf-8e05-6c2c7446fa1c",
   "metadata": {},
   "outputs": [],
   "source": [
    "F[0] = (1,1)"
   ]
  },
  {
   "cell_type": "code",
   "execution_count": 67,
   "id": "8cc51805-8e80-48e7-bd14-aac7f269ae09",
   "metadata": {},
   "outputs": [
    {
     "name": "stdout",
     "output_type": "stream",
     "text": [
      "No\n"
     ]
    }
   ],
   "source": [
    "for i in range(X+1):\n",
    "    if F[i][0] == 1:\n",
    "        if F[i][1] == 1:\n",
    "            for a in A:\n",
    "                if F[i+a][1] == 0:\n",
    "                    F[i+a] = (1, 0)\n",
    "                else:\n",
    "                    F[i+a] = (1, 1)\n",
    "if F[X][0] == 1:\n",
    "    print (\"Yes\")\n",
    "else:\n",
    "    print (\"No\")"
   ]
  }
 ],
 "metadata": {
  "kernelspec": {
   "display_name": "Python 3 (ipykernel)",
   "language": "python",
   "name": "python3"
  },
  "language_info": {
   "codemirror_mode": {
    "name": "ipython",
    "version": 3
   },
   "file_extension": ".py",
   "mimetype": "text/x-python",
   "name": "python",
   "nbconvert_exporter": "python",
   "pygments_lexer": "ipython3",
   "version": "3.8.13"
  }
 },
 "nbformat": 4,
 "nbformat_minor": 5
}
