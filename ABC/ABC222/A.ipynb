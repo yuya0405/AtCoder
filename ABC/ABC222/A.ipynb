{
 "cells": [
  {
   "cell_type": "code",
   "execution_count": 8,
   "id": "cac699c1-3513-40c2-9d5c-07925632733d",
   "metadata": {},
   "outputs": [],
   "source": [
    "N = input()\n",
    "\n",
    "if len(N) == 1:\n",
    "    print (\"000\"+N)\n",
    "elif len(N) == 2:\n",
    "    print (\"00\"+N)\n",
    "elif len(N) == 3:\n",
    "    print (\"0\"+N)\n",
    "else:\n",
    "    print (N)"
   ]
  },
  {
   "cell_type": "code",
   "execution_count": null,
   "id": "89f7243c-a54e-44de-a68b-70635ab6c573",
   "metadata": {},
   "outputs": [],
   "source": []
  }
 ],
 "metadata": {
  "kernelspec": {
   "display_name": "Python 3",
   "language": "python",
   "name": "python3"
  },
  "language_info": {
   "codemirror_mode": {
    "name": "ipython",
    "version": 3
   },
   "file_extension": ".py",
   "mimetype": "text/x-python",
   "name": "python",
   "nbconvert_exporter": "python",
   "pygments_lexer": "ipython3",
   "version": "3.8.8"
  }
 },
 "nbformat": 4,
 "nbformat_minor": 5
}
