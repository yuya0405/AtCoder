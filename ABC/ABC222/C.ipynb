{
 "cells": [
  {
   "cell_type": "code",
   "execution_count": 1,
   "id": "5ae33277-5cb7-489b-a8ab-8e07026443ff",
   "metadata": {},
   "outputs": [
    {
     "name": "stdin",
     "output_type": "stream",
     "text": [
      " 2 3\n",
      " GCP\n",
      " PPP\n",
      " CCC\n",
      " PPC\n"
     ]
    },
    {
     "name": "stdout",
     "output_type": "stream",
     "text": [
      "3\n",
      "1\n",
      "2\n",
      "4\n"
     ]
    }
   ],
   "source": [
    "N, M = map(int, input().split())\n",
    "A = [input() for _ in range(2*N)]\n",
    "\n",
    "def janken(i, j):\n",
    "    if i==j:\n",
    "        return 0\n",
    "    elif ((i==\"G\" and j==\"C\") or (i==\"C\" and j==\"P\") or (i==\"P\" and j==\"G\")):\n",
    "        return 1\n",
    "    else:\n",
    "        return -1\n",
    "\n",
    "import numpy as np\n",
    "from scipy.stats import rankdata\n",
    "\n",
    "points = [0]*(2*N)\n",
    "\n",
    "score = range(1, 2*N+1)\n",
    "for m in range(1, M+1):\n",
    "    for k in range(1, N+1):\n",
    "        judge = janken(A[score.index(2*k-1)][m-1], A[score.index(2*k)][m-1])\n",
    "        \n",
    "        if judge == 1:\n",
    "            points[score.index(2*k-1)] -= 1\n",
    "        elif judge == -1:\n",
    "            points[score.index(2*k)] -= 1\n",
    "        \n",
    "        \n",
    "    \n",
    "# A    scoreを更新\n",
    "#     df = pd.DataFrame(points)\n",
    "#     new_score = df.rank(method='first')\n",
    "#     score = list(map(int, list(new_score[0])))\n",
    "\n",
    "for i in range(1, 2*N+1):\n",
    "    print(score.index(i)+1)"
   ]
  },
  {
   "cell_type": "code",
   "execution_count": 57,
   "id": "721f017d-299d-4434-9c61-13c0e182208a",
   "metadata": {},
   "outputs": [
    {
     "data": {
      "text/plain": [
       "[-1, -1, -3, -1]"
      ]
     },
     "execution_count": 57,
     "metadata": {},
     "output_type": "execute_result"
    }
   ],
   "source": [
    "points"
   ]
  },
  {
   "cell_type": "code",
   "execution_count": 58,
   "id": "f01443bc-1f7e-4421-acb6-c8a4f7418230",
   "metadata": {},
   "outputs": [
    {
     "name": "stdout",
     "output_type": "stream",
     "text": [
      "[3. 3. 1. 3.]\n",
      "3\n",
      "3\n",
      "1\n",
      "3\n"
     ]
    }
   ],
   "source": [
    "import numpy as np\n",
    "from scipy.stats import rankdata\n",
    "import math\n",
    "\n",
    "print (rankdata(np.array(points)))\n",
    "\n",
    "tmp = list(map(math.floor, rankdata(np.array(points))))\n",
    "for _ in tmp:\n",
    "    print (_)"
   ]
  },
  {
   "cell_type": "code",
   "execution_count": 51,
   "id": "b9863dfd-0b3d-4e77-b4b1-692d5b211922",
   "metadata": {},
   "outputs": [],
   "source": [
    "for i in range(1, 2*N+1):\n",
    "    count = -1\n",
    "    for j, t in enumerate(reversed(list(tmp))):\n",
    "        if t == i:\n",
    "            count += 1\n",
    "            if count >= 0:\n",
    "                tmp[-1-count] -= 1"
   ]
  },
  {
   "cell_type": "code",
   "execution_count": null,
   "id": "58c6c698-3b52-4057-a1b1-5384f7dd88a8",
   "metadata": {},
   "outputs": [],
   "source": []
  }
 ],
 "metadata": {
  "kernelspec": {
   "display_name": "Python 3",
   "language": "python",
   "name": "python3"
  },
  "language_info": {
   "codemirror_mode": {
    "name": "ipython",
    "version": 3
   },
   "file_extension": ".py",
   "mimetype": "text/x-python",
   "name": "python",
   "nbconvert_exporter": "python",
   "pygments_lexer": "ipython3",
   "version": "3.8.8"
  }
 },
 "nbformat": 4,
 "nbformat_minor": 5
}
