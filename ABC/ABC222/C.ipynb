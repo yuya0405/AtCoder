{
 "cells": [
  {
   "cell_type": "code",
   "execution_count": 103,
   "id": "5ae33277-5cb7-489b-a8ab-8e07026443ff",
   "metadata": {},
   "outputs": [
    {
     "name": "stdin",
     "output_type": "stream",
     "text": [
      " 2 2\n",
      " GC\n",
      " PG\n",
      " CG\n",
      " PP\n"
     ]
    },
    {
     "name": "stdout",
     "output_type": "stream",
     "text": [
      "1\n",
      "2\n",
      "3\n",
      "4\n"
     ]
    }
   ],
   "source": [
    "N, M = map(int, input().split())\n",
    "A = [input() for _ in range(2*N)]\n",
    "\n",
    "def janken(i, j):\n",
    "    if i==j:\n",
    "        return 0\n",
    "    elif ((i==\"G\" and j==\"C\") or (i==\"C\" and j==\"P\") or (i==\"P\" and j==\"G\")):\n",
    "        return 1\n",
    "    else:\n",
    "        return -1\n",
    "\n",
    "import numpy as np\n",
    "from scipy.stats import rankdata\n",
    "\n",
    "points = [0]*(2*N)\n",
    "\n",
    "score = range(1, 2*N+1)\n",
    "for m in range(1, M+1):\n",
    "    for k in range(1, N+1):\n",
    "        judge = janken(A[score.index(2*k-1)][m-1], A[score.index(2*k)][m-1])\n",
    "        \n",
    "        if judge == 1:\n",
    "            points[score.index(2*k-1)] -= 1\n",
    "        elif judge == -1:\n",
    "            points[score.index(2*k)] -= 1\n",
    "    \n",
    "    score = list(rankdata(points, method='ordinal'))\n",
    "    \n",
    "#     scoreを更新\n",
    "#     df = pd.DataFrame(points)\n",
    "#     new_score = df.rank(method='first')\n",
    "#     score = list(map(int, list(new_score[0])))\n",
    "\n",
    "for i in range(1, 2*N+1):\n",
    "    print(score.index(i)+1)"
   ]
  },
  {
   "cell_type": "code",
   "execution_count": null,
   "id": "2fcaa9d1-2bc2-4dc7-a1fc-8f161aa7840f",
   "metadata": {},
   "outputs": [],
   "source": []
  }
 ],
 "metadata": {
  "kernelspec": {
   "display_name": "Python 3",
   "language": "python",
   "name": "python3"
  },
  "language_info": {
   "codemirror_mode": {
    "name": "ipython",
    "version": 3
   },
   "file_extension": ".py",
   "mimetype": "text/x-python",
   "name": "python",
   "nbconvert_exporter": "python",
   "pygments_lexer": "ipython3",
   "version": "3.8.8"
  }
 },
 "nbformat": 4,
 "nbformat_minor": 5
}
