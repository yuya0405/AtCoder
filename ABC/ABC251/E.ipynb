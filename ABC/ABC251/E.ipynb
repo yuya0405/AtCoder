{
 "cells": [
  {
   "cell_type": "code",
   "execution_count": 117,
   "id": "f07e1881-b806-4ccb-a30b-c497e64f866c",
   "metadata": {},
   "outputs": [
    {
     "name": "stdin",
     "output_type": "stream",
     "text": [
      " 6\n",
      " 59 1 39 48 68 681\n"
     ]
    }
   ],
   "source": [
    "N = int(input())\n",
    "A = list(map(int, input().split()))"
   ]
  },
  {
   "cell_type": "code",
   "execution_count": 118,
   "id": "83c50b6f-6045-4a50-a859-085f9d2de139",
   "metadata": {},
   "outputs": [
    {
     "name": "stdout",
     "output_type": "stream",
     "text": [
      "48\n",
      "68\n",
      "59\n",
      "176\n"
     ]
    }
   ],
   "source": [
    "flag = [0] * N\n",
    "\n",
    "A_min_index = A.index(min(A))\n",
    "if A_min_index != N:\n",
    "    flag[(A_min_index)%N] = 1\n",
    "    flag[(A_min_index+1)%N] = 1\n",
    "else:\n",
    "    flag[N-1] = 1\n",
    "    flag[0] = 1\n",
    "ans = 0\n",
    "ans += min(A)\n",
    "\n",
    "if N == 2:\n",
    "    print (ans)\n",
    "    exit()\n",
    "\n",
    "index = A_min_index\n",
    "\n",
    "count = False\n",
    "while(count == False or (index != A_min_index and (index+1)%N != A_min_index and (index+2)%N != A_min_index)):\n",
    "    if A[(index+2)%N] < A[(index+1)%N] + A[(index+3)%N]:\n",
    "        ans += A[(index+2)%N]\n",
    "        print (A[(index+2)%N])\n",
    "        flag[(index+2)%N] = 1\n",
    "        flag[(index+3)%N] = 1\n",
    "        index += 2\n",
    "        index %= N\n",
    "    else:\n",
    "        ans += A[(index+1)%N]\n",
    "        print (A[(index+1)%N])\n",
    "        flag[(index+1)%N] = 1\n",
    "        flag[(index+2)%N] = 1\n",
    "        index += 1\n",
    "        index %= N\n",
    "    count = True\n",
    "\n",
    "print (ans)"
   ]
  },
  {
   "cell_type": "code",
   "execution_count": null,
   "id": "0549f513-65e7-4501-8372-dfdb05c6fee7",
   "metadata": {},
   "outputs": [],
   "source": []
  },
  {
   "cell_type": "code",
   "execution_count": null,
   "id": "3b365c20-90d2-41a0-ba6b-2f639c01a970",
   "metadata": {},
   "outputs": [],
   "source": []
  }
 ],
 "metadata": {
  "kernelspec": {
   "display_name": "Python 3 (ipykernel)",
   "language": "python",
   "name": "python3"
  },
  "language_info": {
   "codemirror_mode": {
    "name": "ipython",
    "version": 3
   },
   "file_extension": ".py",
   "mimetype": "text/x-python",
   "name": "python",
   "nbconvert_exporter": "python",
   "pygments_lexer": "ipython3",
   "version": "3.9.12"
  }
 },
 "nbformat": 4,
 "nbformat_minor": 5
}
