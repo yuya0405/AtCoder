{
 "cells": [
  {
   "cell_type": "code",
   "execution_count": 42,
   "id": "4e5226a9-09e3-47e1-925f-aa42a49d037f",
   "metadata": {},
   "outputs": [
    {
     "name": "stdin",
     "output_type": "stream",
     "text": [
      " 7 251\n",
      " 202 20 5 1 4 2 100\n"
     ]
    },
    {
     "name": "stdout",
     "output_type": "stream",
     "text": [
      "48\n"
     ]
    }
   ],
   "source": [
    "N, W = map(int, input().split())\n",
    "A = list(map(int, input().split()))\n",
    "\n",
    "ans = set()\n",
    "\n",
    "import itertools\n",
    "P = itertools.combinations(A, 1)\n",
    "for p in P:\n",
    "    ans.add(sum(p))\n",
    "\n",
    "P = itertools.combinations(A, 2)\n",
    "for p in P:\n",
    "    ans.add(sum(p))\n",
    "\n",
    "P = itertools.combinations(A, 3)\n",
    "for p in P:\n",
    "    ans.add(sum(p))\n",
    "\n",
    "count = 0\n",
    "for a in ans:\n",
    "    if a <= W:\n",
    "        count += 1\n",
    "print (count)"
   ]
  },
  {
   "cell_type": "code",
   "execution_count": null,
   "id": "bde026b1-c5f5-47d4-920a-611fffebd991",
   "metadata": {},
   "outputs": [],
   "source": []
  }
 ],
 "metadata": {
  "kernelspec": {
   "display_name": "Python 3 (ipykernel)",
   "language": "python",
   "name": "python3"
  },
  "language_info": {
   "codemirror_mode": {
    "name": "ipython",
    "version": 3
   },
   "file_extension": ".py",
   "mimetype": "text/x-python",
   "name": "python",
   "nbconvert_exporter": "python",
   "pygments_lexer": "ipython3",
   "version": "3.9.12"
  }
 },
 "nbformat": 4,
 "nbformat_minor": 5
}
