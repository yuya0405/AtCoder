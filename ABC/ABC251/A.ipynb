{
 "cells": [
  {
   "cell_type": "code",
   "execution_count": 8,
   "id": "5f5d7ea8-6673-407c-98b6-ba70037f2353",
   "metadata": {},
   "outputs": [
    {
     "name": "stdin",
     "output_type": "stream",
     "text": [
      " zz\n"
     ]
    },
    {
     "name": "stdout",
     "output_type": "stream",
     "text": [
      "zzzzzz\n"
     ]
    }
   ],
   "source": [
    "S = input()\n",
    "\n",
    "if len(S) == 1:\n",
    "    print (S*6)\n",
    "elif len(S) == 2:\n",
    "    print (S*3)\n",
    "else:\n",
    "    print (S*2)"
   ]
  },
  {
   "cell_type": "code",
   "execution_count": null,
   "id": "b6f819c0-c6da-42f2-833d-2b10b62b0275",
   "metadata": {},
   "outputs": [],
   "source": []
  }
 ],
 "metadata": {
  "kernelspec": {
   "display_name": "Python 3 (ipykernel)",
   "language": "python",
   "name": "python3"
  },
  "language_info": {
   "codemirror_mode": {
    "name": "ipython",
    "version": 3
   },
   "file_extension": ".py",
   "mimetype": "text/x-python",
   "name": "python",
   "nbconvert_exporter": "python",
   "pygments_lexer": "ipython3",
   "version": "3.9.12"
  }
 },
 "nbformat": 4,
 "nbformat_minor": 5
}
