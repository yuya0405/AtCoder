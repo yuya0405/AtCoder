{
 "cells": [
  {
   "cell_type": "code",
   "execution_count": 58,
   "id": "20b70ea7-a25a-4683-a86f-e3ee34c0379d",
   "metadata": {},
   "outputs": [
    {
     "name": "stdin",
     "output_type": "stream",
     "text": [
      " 5\n",
      " aaa 10\n",
      " aaa 20\n",
      " zzz 15\n",
      " ccc 15\n",
      " ddd 15\n"
     ]
    },
    {
     "name": "stdout",
     "output_type": "stream",
     "text": [
      "3\n"
     ]
    }
   ],
   "source": [
    "N = int(input())\n",
    "ST = [input().split() for _ in range(N)]\n",
    "\n",
    "from collections import defaultdict\n",
    "d = defaultdict(int)\n",
    "\n",
    "for s, t in ST:\n",
    "    t = int(t)\n",
    "    if d[s] == 0:\n",
    "        d[s] = t\n",
    "\n",
    "candidate = []\n",
    "max_value = max(d.values())\n",
    "for i, (s, t) in enumerate(ST):\n",
    "    if int(t) == max_value and d[s] == int(t):\n",
    "        print (i+1)\n",
    "        break"
   ]
  },
  {
   "cell_type": "code",
   "execution_count": null,
   "id": "6b8c3d72-823b-4423-9a6d-f9028132e87b",
   "metadata": {},
   "outputs": [],
   "source": []
  }
 ],
 "metadata": {
  "kernelspec": {
   "display_name": "Python 3 (ipykernel)",
   "language": "python",
   "name": "python3"
  },
  "language_info": {
   "codemirror_mode": {
    "name": "ipython",
    "version": 3
   },
   "file_extension": ".py",
   "mimetype": "text/x-python",
   "name": "python",
   "nbconvert_exporter": "python",
   "pygments_lexer": "ipython3",
   "version": "3.9.12"
  }
 },
 "nbformat": 4,
 "nbformat_minor": 5
}
