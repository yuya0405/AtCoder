{
 "cells": [
  {
   "cell_type": "code",
   "execution_count": 80,
   "id": "829a25be-5d0e-49f3-bc9f-5c795f5598e9",
   "metadata": {},
   "outputs": [
    {
     "name": "stdin",
     "output_type": "stream",
     "text": [
      " 4 3 2\n"
     ]
    },
    {
     "name": "stdout",
     "output_type": "stream",
     "text": [
      "..##..##\n",
      "..##..##\n",
      "..##..##\n",
      "##..##..\n",
      "##..##..\n",
      "##..##..\n",
      "..##..##\n",
      "..##..##\n",
      "..##..##\n",
      "##..##..\n",
      "##..##..\n",
      "##..##..\n"
     ]
    }
   ],
   "source": [
    "N, A, B = map(int, input().split())\n",
    "\n",
    "ans = [[\".\"]*(B*N) for _ in range(A*N)]\n",
    "# white = [[0]*B for _ in range(A)]\n",
    "# black = [[1]*B for _ in range(A)]\n",
    "\n",
    "for i in range(A*N):\n",
    "    for j in range(B*N):\n",
    "        if (i//A)%2 == 0 and (j//B)%2 == 0:\n",
    "            pass\n",
    "        elif (i//A)%2 == 0 and (j//B)%2 == 1:\n",
    "            ans[i][j] = \"#\"\n",
    "        elif (i//A)%2 == 1 and (j//B)%2 == 0:\n",
    "            ans[i][j] = \"#\"\n",
    "        else:\n",
    "            pass\n",
    "\n",
    "for a in ans:\n",
    "    print (*a, sep=\"\")"
   ]
  },
  {
   "cell_type": "code",
   "execution_count": null,
   "id": "b25a8387-4e7e-4b28-94c7-f771d2d2b28e",
   "metadata": {},
   "outputs": [],
   "source": []
  }
 ],
 "metadata": {
  "kernelspec": {
   "display_name": "Python 3 (ipykernel)",
   "language": "python",
   "name": "python3"
  },
  "language_info": {
   "codemirror_mode": {
    "name": "ipython",
    "version": 3
   },
   "file_extension": ".py",
   "mimetype": "text/x-python",
   "name": "python",
   "nbconvert_exporter": "python",
   "pygments_lexer": "ipython3",
   "version": "3.9.12"
  }
 },
 "nbformat": 4,
 "nbformat_minor": 5
}
