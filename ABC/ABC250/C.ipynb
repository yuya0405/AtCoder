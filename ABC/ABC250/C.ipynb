{
 "cells": [
  {
   "cell_type": "code",
   "execution_count": 103,
   "id": "865266f3-f0ad-4bca-99aa-1aa8ef26e791",
   "metadata": {},
   "outputs": [
    {
     "name": "stdin",
     "output_type": "stream",
     "text": [
      " 5 5\n",
      " 1\n",
      " 2\n",
      " 3\n",
      " 4\n",
      " 5\n"
     ]
    }
   ],
   "source": [
    "N, Q = map(int, input().split())\n",
    "X = [int(input()) for _ in range(Q)]"
   ]
  },
  {
   "cell_type": "code",
   "execution_count": 108,
   "id": "bf9b5157-301c-484f-93e7-d6e9bf1cae06",
   "metadata": {},
   "outputs": [],
   "source": [
    "index = [0] + list(range(1, N+1))\n",
    "A = list(range(1, N+1))"
   ]
  },
  {
   "cell_type": "code",
   "execution_count": 109,
   "id": "7c0d2a88-4817-49a5-9b97-8eb9d40fa11f",
   "metadata": {},
   "outputs": [
    {
     "data": {
      "text/plain": [
       "[0, 1, 2, 3, 4, 5]"
      ]
     },
     "execution_count": 109,
     "metadata": {},
     "output_type": "execute_result"
    }
   ],
   "source": [
    "index"
   ]
  },
  {
   "cell_type": "code",
   "execution_count": 110,
   "id": "42ef421f-fd45-4536-98ec-1dff01df2c03",
   "metadata": {},
   "outputs": [
    {
     "data": {
      "text/plain": [
       "[1, 2, 3, 4, 5]"
      ]
     },
     "execution_count": 110,
     "metadata": {},
     "output_type": "execute_result"
    }
   ],
   "source": [
    "A"
   ]
  },
  {
   "cell_type": "code",
   "execution_count": 111,
   "id": "042cc982-ed7f-4981-9055-01f06819c036",
   "metadata": {},
   "outputs": [
    {
     "name": "stdout",
     "output_type": "stream",
     "text": [
      "[0, 2, 1, 3, 4, 5]\n",
      "[1, 3, 2, 4, 5]\n",
      "[0, 1, 2, 3, 4, 5]\n",
      "[1, 2, 3, 4, 5]\n",
      "[0, 1, 2, 4, 3, 5]\n",
      "[1, 2, 3, 5, 4]\n",
      "[0, 1, 2, 3, 4, 5]\n",
      "[1, 2, 3, 4, 5]\n",
      "[0, 1, 2, 4, 3, 5]\n",
      "[1, 2, 3, 5, 4]\n"
     ]
    }
   ],
   "source": [
    "for x in X:\n",
    "    idx = index[x]\n",
    "    if idx != N:\n",
    "        A[idx], A[idx+1] = A[idx+1], A[idx]\n",
    "        index[idx], index[idx+1] = index[idx+1], index[idx]\n",
    "    else:\n",
    "        A[idx-1], A[idx-2] = A[idx-2], A[idx-1]\n",
    "        index[idx-1], index[idx-2] = index[idx-2], index[idx-1]\n",
    "    print (index)\n",
    "    print (A)"
   ]
  },
  {
   "cell_type": "code",
   "execution_count": null,
   "id": "3c6ce771-1d8d-4676-8cd7-4a7dac5ddecf",
   "metadata": {},
   "outputs": [],
   "source": []
  }
 ],
 "metadata": {
  "kernelspec": {
   "display_name": "Python 3 (ipykernel)",
   "language": "python",
   "name": "python3"
  },
  "language_info": {
   "codemirror_mode": {
    "name": "ipython",
    "version": 3
   },
   "file_extension": ".py",
   "mimetype": "text/x-python",
   "name": "python",
   "nbconvert_exporter": "python",
   "pygments_lexer": "ipython3",
   "version": "3.9.12"
  }
 },
 "nbformat": 4,
 "nbformat_minor": 5
}
