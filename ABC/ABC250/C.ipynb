{
 "cells": [
  {
   "cell_type": "code",
   "execution_count": 103,
   "id": "5132a368-2ef5-42ab-acd8-d504851058b7",
   "metadata": {},
   "outputs": [
    {
     "name": "stdin",
     "output_type": "stream",
     "text": [
      " 10 6\n",
      " 5\n",
      " 1\n",
      " 1\n",
      " 7\n",
      " 9\n",
      " 9\n"
     ]
    },
    {
     "name": "stdout",
     "output_type": "stream",
     "text": [
      "2 3 1 4 6 5 8 7 9 10\n"
     ]
    }
   ],
   "source": [
    "N, Q = map(int, input().split())\n",
    "X = [int(input()) for _ in range(Q)]\n",
    "\n",
    "A = list(range(1, N+1))\n",
    "\n",
    "A_dict = {}\n",
    "for i, a in enumerate(A):\n",
    "    A_dict[a] = i\n",
    "\n",
    "for x in X:\n",
    "    index = A_dict[x]\n",
    "    if index != N-1:\n",
    "        tmp = A_dict[index+1]\n",
    "        A_dict[index+1] = A_dict[index+2]\n",
    "        A_dict[index+2] = tmp\n",
    "    else:\n",
    "        tmp = A_dict[index+1]\n",
    "        A_dict[index+1] = A_dict[index]\n",
    "        A_dict[index] = tmp\n",
    "\n",
    "ans = []\n",
    "for i in range(1, N+1):\n",
    "    ans.append((A_dict[i])+1)\n",
    "print (*ans)"
   ]
  },
  {
   "cell_type": "code",
   "execution_count": null,
   "id": "99c3d24d-11b1-4341-b04f-0c6fe1256d27",
   "metadata": {},
   "outputs": [],
   "source": []
  }
 ],
 "metadata": {
  "kernelspec": {
   "display_name": "Python 3 (ipykernel)",
   "language": "python",
   "name": "python3"
  },
  "language_info": {
   "codemirror_mode": {
    "name": "ipython",
    "version": 3
   },
   "file_extension": ".py",
   "mimetype": "text/x-python",
   "name": "python",
   "nbconvert_exporter": "python",
   "pygments_lexer": "ipython3",
   "version": "3.9.12"
  }
 },
 "nbformat": 4,
 "nbformat_minor": 5
}
