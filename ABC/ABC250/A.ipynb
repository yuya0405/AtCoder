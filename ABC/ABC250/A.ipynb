{
 "cells": [
  {
   "cell_type": "code",
   "execution_count": 21,
   "id": "bc85f322-859a-468f-b234-815364a0ccd0",
   "metadata": {},
   "outputs": [],
   "source": [
    "H, W = map(int, input().split())\n",
    "R, C = map(int, input().split())\n",
    "\n",
    "ans = 0\n",
    "if R-1 >= 1:\n",
    "    ans += 1\n",
    "if R+1 <= H:\n",
    "    ans += 1\n",
    "if C-1 >= 1:\n",
    "    ans += 1\n",
    "if C+1 <= W:\n",
    "    ans += 1\n",
    "print (ans)"
   ]
  },
  {
   "cell_type": "code",
   "execution_count": null,
   "id": "4ccae02d-522e-4c5f-a5a4-7239a1896816",
   "metadata": {},
   "outputs": [],
   "source": []
  }
 ],
 "metadata": {
  "kernelspec": {
   "display_name": "Python 3 (ipykernel)",
   "language": "python",
   "name": "python3"
  },
  "language_info": {
   "codemirror_mode": {
    "name": "ipython",
    "version": 3
   },
   "file_extension": ".py",
   "mimetype": "text/x-python",
   "name": "python",
   "nbconvert_exporter": "python",
   "pygments_lexer": "ipython3",
   "version": "3.9.12"
  }
 },
 "nbformat": 4,
 "nbformat_minor": 5
}
