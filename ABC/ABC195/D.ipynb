{
 "cells": [
  {
   "cell_type": "code",
   "execution_count": 16,
   "metadata": {},
   "outputs": [],
   "source": [
    "from copy import copy"
   ]
  },
  {
   "cell_type": "code",
   "execution_count": 18,
   "metadata": {},
   "outputs": [
    {
     "name": "stdin",
     "output_type": "stream",
     "text": [
      " 3 4 3\n",
      " 1 9\n",
      " 5 3\n",
      " 7 8\n",
      " 1 8 6 9\n",
      " 4 4\n",
      " 1 4\n",
      " 1 3\n"
     ]
    }
   ],
   "source": [
    "N, M, Q = map(int, input().split())\n",
    "WV = [list(map(int, input().split())) for _ in range(N)]\n",
    "X = list(map(int, input().split()))\n",
    "Query = [list(map(int, input().split())) for _ in range(Q)]"
   ]
  },
  {
   "cell_type": "code",
   "execution_count": 19,
   "metadata": {},
   "outputs": [
    {
     "data": {
      "text/plain": [
       "[[1, 9], [7, 8], [5, 3]]"
      ]
     },
     "execution_count": 19,
     "metadata": {},
     "output_type": "execute_result"
    }
   ],
   "source": [
    "# ソートする\n",
    "WV_sorted = sorted(WV, reverse=True, key=lambda x: x[1])\n",
    "WV_sorted"
   ]
  },
  {
   "cell_type": "code",
   "execution_count": 20,
   "metadata": {},
   "outputs": [
    {
     "name": "stdout",
     "output_type": "stream",
     "text": [
      "[1, 8, 6]\n",
      "[]\n",
      "[9]\n"
     ]
    }
   ],
   "source": [
    "# 価値の大きい荷物から順に、その荷物を入れることができる最小の箱に入れる\n",
    "for q in Query:\n",
    "    X_deleted = copy(X)\n",
    "    del X_deleted[q[0]-1:q[1]]\n",
    "    \n",
    "    ans = 0\n",
    "    for wv_sorted in WV_sorted:\n",
    "        # fuga\n",
    "    print (ans)"
   ]
  },
  {
   "cell_type": "code",
   "execution_count": null,
   "metadata": {},
   "outputs": [],
   "source": [
    "\n",
    "    "
   ]
  }
 ],
 "metadata": {
  "kernelspec": {
   "display_name": "Python 3",
   "language": "python",
   "name": "python3"
  },
  "language_info": {
   "codemirror_mode": {
    "name": "ipython",
    "version": 3
   },
   "file_extension": ".py",
   "mimetype": "text/x-python",
   "name": "python",
   "nbconvert_exporter": "python",
   "pygments_lexer": "ipython3",
   "version": "3.8.5"
  }
 },
 "nbformat": 4,
 "nbformat_minor": 4
}
