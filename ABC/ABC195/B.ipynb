{
 "cells": [
  {
   "cell_type": "code",
   "execution_count": 16,
   "metadata": {},
   "outputs": [
    {
     "name": "stdin",
     "output_type": "stream",
     "text": [
      " 100 300 3\n"
     ]
    },
    {
     "name": "stdout",
     "output_type": "stream",
     "text": [
      "10 30\n"
     ]
    }
   ],
   "source": [
    "A, B, W = map(int, input().split())\n",
    "\n",
    "min_n = 10**6+1\n",
    "max_n = 0\n",
    "\n",
    "for n in range(0, 10**6+1):\n",
    "    if A*n <= 1000*W and 1000*W <= B*n:\n",
    "        min_n = min(min_n, n)\n",
    "        max_n = max(max_n, n)\n",
    "if min_n <= max_n:\n",
    "    print (min_n, max_n)\n",
    "else:\n",
    "    print (\"UNSATISFIABLE\")"
   ]
  }
 ],
 "metadata": {
  "kernelspec": {
   "display_name": "Python 3",
   "language": "python",
   "name": "python3"
  },
  "language_info": {
   "codemirror_mode": {
    "name": "ipython",
    "version": 3
   },
   "file_extension": ".py",
   "mimetype": "text/x-python",
   "name": "python",
   "nbconvert_exporter": "python",
   "pygments_lexer": "ipython3",
   "version": "3.8.5"
  }
 },
 "nbformat": 4,
 "nbformat_minor": 4
}
