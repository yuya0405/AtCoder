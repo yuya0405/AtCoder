{
 "cells": [
  {
   "cell_type": "code",
   "execution_count": null,
   "metadata": {},
   "outputs": [],
   "source": [
    "N = int(input())\n",
    "APX = []\n",
    "for i in range(N):\n",
    "    APX.append(list(map(int,input().split())))\n",
    "\n",
    "ans = 10**9+1\n",
    "for apx in APX:\n",
    "    if apx[2] - apx[0] > 0 and ans > apx[1]:\n",
    "        ans = apx[1]\n",
    "if ans == 10**9+1:\n",
    "    print (-1)\n",
    "else:\n",
    "    print (ans)"
   ]
  },
  {
   "cell_type": "code",
   "execution_count": null,
   "metadata": {},
   "outputs": [],
   "source": []
  }
 ],
 "metadata": {
  "kernelspec": {
   "display_name": "Python 3",
   "language": "python",
   "name": "python3"
  },
  "language_info": {
   "codemirror_mode": {
    "name": "ipython",
    "version": 3
   },
   "file_extension": ".py",
   "mimetype": "text/x-python",
   "name": "python",
   "nbconvert_exporter": "python",
   "pygments_lexer": "ipython3",
   "version": "3.8.5"
  }
 },
 "nbformat": 4,
 "nbformat_minor": 4
}
