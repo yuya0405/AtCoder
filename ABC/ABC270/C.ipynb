{
 "cells": [
  {
   "cell_type": "code",
   "execution_count": 2,
   "id": "53bfb062-cc64-4ec7-a492-1b764853645a",
   "metadata": {},
   "outputs": [
    {
     "name": "stdin",
     "output_type": "stream",
     "text": [
      " 5 2 5\n",
      " 1 2\n",
      " 1 3\n",
      " 3 4\n",
      " 3 5\n"
     ]
    }
   ],
   "source": [
    "N, X, Y = map(int, input().split())\n",
    "UV = [list(map(int, input().split())) for _ in range(N-1)]"
   ]
  },
  {
   "cell_type": "code",
   "execution_count": 63,
   "id": "2f5e5f1a-48a6-42f2-a803-b6461eb1e3b1",
   "metadata": {},
   "outputs": [],
   "source": [
    "# 頂点 v を始点とした深さ優先探索\n",
    "def rec(v, G, seen, ans):\n",
    "    # 頂点 v を黒く塗る (= seen[v] を true に変える)\n",
    "    seen[v] = True\n",
    "    # v を記録する\n",
    "    # G[v] に含まれる頂点 v2 について、\n",
    "    for v2 in G[v]:\n",
    "        ans.append(v2+1)\n",
    "        print (\"append\", v2+1)\n",
    "        # v2 がすでに黒く塗られているならば、スキップする\n",
    "        if seen[v2]:\n",
    "            tmp = ans.pop()\n",
    "            print (\"pop\", tmp)\n",
    "            continue\n",
    "        # v2 始点で深さ優先探索を行う (関数を再帰させる)\n",
    "        rec(v2, G, seen, ans)\n",
    "    return"
   ]
  },
  {
   "cell_type": "code",
   "execution_count": 64,
   "id": "a8338950-1cfb-4875-8eef-62d267beec30",
   "metadata": {},
   "outputs": [
    {
     "data": {
      "text/plain": [
       "[[1, 2], [0], [0, 3, 4], [2], [2]]"
      ]
     },
     "execution_count": 64,
     "metadata": {},
     "output_type": "execute_result"
    }
   ],
   "source": [
    "G = [[] for _ in range(N)]\n",
    "for i in range(N-1):\n",
    "    u, v = UV[i]\n",
    "    G[u-1].append(v-1)\n",
    "    G[v-1].append(u-1)\n",
    "G"
   ]
  },
  {
   "cell_type": "code",
   "execution_count": 65,
   "id": "1d9767d7-2b57-42d6-ba84-c9399f2026b7",
   "metadata": {},
   "outputs": [
    {
     "name": "stdout",
     "output_type": "stream",
     "text": [
      "append 1\n",
      "append 2\n",
      "pop 2\n",
      "append 3\n",
      "append 1\n",
      "pop 1\n",
      "append 4\n",
      "append 3\n",
      "pop 3\n",
      "append 5\n",
      "append 3\n",
      "pop 3\n"
     ]
    },
    {
     "data": {
      "text/plain": [
       "deque([2, 1, 3, 4, 5])"
      ]
     },
     "execution_count": 65,
     "metadata": {},
     "output_type": "execute_result"
    }
   ],
   "source": [
    "from collections import deque\n",
    "\n",
    "seen = [False for _ in range(N)]\n",
    "ans = deque()\n",
    "ans.append(X)\n",
    "rec(X-1, G, seen, ans)\n",
    "ans"
   ]
  },
  {
   "cell_type": "code",
   "execution_count": null,
   "id": "dea3b921-4346-473d-a3cc-4ca063741dff",
   "metadata": {},
   "outputs": [],
   "source": []
  }
 ],
 "metadata": {
  "kernelspec": {
   "display_name": "Python 3 (ipykernel)",
   "language": "python",
   "name": "python3"
  },
  "language_info": {
   "codemirror_mode": {
    "name": "ipython",
    "version": 3
   },
   "file_extension": ".py",
   "mimetype": "text/x-python",
   "name": "python",
   "nbconvert_exporter": "python",
   "pygments_lexer": "ipython3",
   "version": "3.8.13"
  }
 },
 "nbformat": 4,
 "nbformat_minor": 5
}
