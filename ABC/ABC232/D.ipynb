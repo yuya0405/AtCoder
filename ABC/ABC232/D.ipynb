{
 "cells": [
  {
   "cell_type": "code",
   "execution_count": 21,
   "id": "3e3f95d5-6616-48b1-8be1-ea1ece5102df",
   "metadata": {},
   "outputs": [
    {
     "name": "stdin",
     "output_type": "stream",
     "text": [
      " 3 3\n",
      " .#.\n",
      " ...\n",
      " ###\n"
     ]
    }
   ],
   "source": [
    "from queue import Queue\n",
    "\n",
    "# 四方向への移動を表すベクトル\n",
    "# 0: 下、1: 右、2: 上、3: 左\n",
    "dxs = [1, 0,]\n",
    "dys = [0, 1]\n",
    "\n",
    "# 入力\n",
    "H, W = map(int, input().split())\n",
    "X0, Y0 = 0, 0\n",
    "S = [input() for i in range(H)]\n",
    "\n",
    "# 各マス (x, y) が何手目に探索されたか\n",
    "# -1 は「まだ探索されていない」ことを表す\n",
    "dist = [[-1] * W for i in range(H)]\n",
    "\n",
    "# todo リストを表すキュー\n",
    "que = Queue()\n",
    "\n",
    "# マス (X0, Y0) を始点とする\n",
    "dist[X0][Y0] = 0\n",
    "que.put((X0, Y0))\n",
    "\n",
    "# キューが空になるまで探索する\n",
    "while not que.empty():\n",
    "    # キューから頂点を取り出す\n",
    "    x, y = que.get()\n",
    "\n",
    "    # マス (x, y) から 1 手で行けるマスを順に探索\n",
    "    for dx, dy in zip(dxs, dys):\n",
    "        # 隣接マス\n",
    "        x2, y2 = x + dx, y + dy\n",
    "\n",
    "        # マス (x2, y2) が盤面外である場合、黒マスである場合はスキップ\n",
    "        if x2 < 0 or x2 >= H or y2 < 0 or y2 >= W or S[x2][y2] == '#':\n",
    "            continue\n",
    "        \n",
    "        # マス (x2, y2) が探索済みであれば何もしない\n",
    "        if dist[x2][y2] != -1:\n",
    "            continue\n",
    "\n",
    "        # マス (x2, y2) を探索する\n",
    "        dist[x2][y2] = dist[x][y] + 1\n",
    "        que.put((x2, y2))"
   ]
  },
  {
   "cell_type": "code",
   "execution_count": 22,
   "id": "a3960abf-2e9d-4a41-b50b-d468f52ad5ec",
   "metadata": {},
   "outputs": [
    {
     "name": "stdout",
     "output_type": "stream",
     "text": [
      "4\n"
     ]
    }
   ],
   "source": [
    "tmp = -1\n",
    "for di in dist:\n",
    "    for d in di:\n",
    "        tmp = max(tmp, d)\n",
    "print (tmp+1)"
   ]
  },
  {
   "cell_type": "code",
   "execution_count": null,
   "id": "7da06f30-eaca-4233-aa11-9b4c4cbd5222",
   "metadata": {},
   "outputs": [],
   "source": []
  }
 ],
 "metadata": {
  "kernelspec": {
   "display_name": "Python 3",
   "language": "python",
   "name": "python3"
  },
  "language_info": {
   "codemirror_mode": {
    "name": "ipython",
    "version": 3
   },
   "file_extension": ".py",
   "mimetype": "text/x-python",
   "name": "python",
   "nbconvert_exporter": "python",
   "pygments_lexer": "ipython3",
   "version": "3.8.8"
  }
 },
 "nbformat": 4,
 "nbformat_minor": 5
}
