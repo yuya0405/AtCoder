{
 "cells": [
  {
   "cell_type": "code",
   "execution_count": 15,
   "id": "b196b20f-cbe1-4e40-959e-a5e47c9b3779",
   "metadata": {},
   "outputs": [
    {
     "name": "stdin",
     "output_type": "stream",
     "text": [
      " 4 4\n",
      " 1 2\n",
      " 1 3\n",
      " 1 4\n",
      " 3 4\n",
      " 1 3\n",
      " 1 4\n",
      " 2 3\n",
      " 3 4\n"
     ]
    },
    {
     "name": "stdout",
     "output_type": "stream",
     "text": [
      "Yes\n"
     ]
    }
   ],
   "source": [
    "# PyPyはダメ。Pythonなら通る。\n",
    "\n",
    "N, M = map(int, input().split())\n",
    "AB = [list(map(int, input().split())) for _ in range(M)]\n",
    "CD = [list(map(int, input().split())) for _ in range(M)]\n",
    "\n",
    "import networkx as nx\n",
    "\n",
    "G1 = nx.Graph()\n",
    "G2 = nx.Graph()\n",
    "\n",
    "G1.add_edges_from(AB)\n",
    "G2.add_edges_from(CD)\n",
    "\n",
    "if nx.is_isomorphic(G1, G2) == True:\n",
    "    print (\"Yes\")\n",
    "else:\n",
    "    print (\"No\")"
   ]
  },
  {
   "cell_type": "code",
   "execution_count": null,
   "id": "e5c4484d-e7b9-4906-b2a9-1abdfb5f105c",
   "metadata": {},
   "outputs": [],
   "source": []
  }
 ],
 "metadata": {
  "kernelspec": {
   "display_name": "Python 3",
   "language": "python",
   "name": "python3"
  },
  "language_info": {
   "codemirror_mode": {
    "name": "ipython",
    "version": 3
   },
   "file_extension": ".py",
   "mimetype": "text/x-python",
   "name": "python",
   "nbconvert_exporter": "python",
   "pygments_lexer": "ipython3",
   "version": "3.8.8"
  }
 },
 "nbformat": 4,
 "nbformat_minor": 5
}
