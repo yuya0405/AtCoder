{
 "cells": [
  {
   "cell_type": "code",
   "execution_count": 72,
   "id": "7d1a61f8-7227-4ff2-bd09-a900e2d9990f",
   "metadata": {},
   "outputs": [
    {
     "name": "stdin",
     "output_type": "stream",
     "text": [
      " 2 1\n",
      " 1 2\n",
      " 1 2\n"
     ]
    }
   ],
   "source": [
    "N, M = map(int, input().split())\n",
    "AB = [list(map(int, input().split())) for _ in range(M)]\n",
    "CD = [list(map(int, input().split())) for _ in range(M)]"
   ]
  },
  {
   "cell_type": "code",
   "execution_count": 73,
   "id": "e9756084-91b9-4ab9-8fbd-f15422847560",
   "metadata": {},
   "outputs": [],
   "source": [
    "AB.sort()\n",
    "CD.sort()"
   ]
  },
  {
   "cell_type": "code",
   "execution_count": 74,
   "id": "7258c4a2-d1d1-450e-8b85-c90b0769c627",
   "metadata": {},
   "outputs": [
    {
     "name": "stdout",
     "output_type": "stream",
     "text": [
      "Yes\n"
     ]
    }
   ],
   "source": [
    "if AB == CD:\n",
    "    print (\"Yes\")"
   ]
  },
  {
   "cell_type": "code",
   "execution_count": 75,
   "id": "a648999c-83fc-46f5-b317-585e2711ba41",
   "metadata": {},
   "outputs": [
    {
     "name": "stdout",
     "output_type": "stream",
     "text": [
      "Yes\n",
      "Yes\n",
      "No\n"
     ]
    }
   ],
   "source": [
    "import itertools\n",
    "for per in list(itertools.permutations(range(1, N+1))):\n",
    "    AB_tmp = AB.copy()\n",
    "    for i in range(0, N):\n",
    "        if i+1 != per[i]:\n",
    "            \n",
    "            #ABを入れ替え\n",
    "            for j in range(0, M):\n",
    "                if AB_tmp[j][0] == i+1:\n",
    "                    AB_tmp[j][0] = per[i]\n",
    "                elif AB_tmp[j][0] == per[i]:\n",
    "                    AB_tmp[j][0] = i+1\n",
    "                if AB_tmp[j][1] == i+1:\n",
    "                    AB_tmp[j][1] = per[i]\n",
    "                elif AB_tmp[j][1] == per[i]:\n",
    "                    AB_tmp[j][1] = i+1\n",
    "            \n",
    "    #ソート\n",
    "    AB_tmp.sort()\n",
    "    \n",
    "    for i, ab_tmp in enumerate(AB_tmp):\n",
    "    if ab_tmp[0] > ab_tmp[1]:\n",
    "        AB_tmp[i][0], AB_tmp[i][1] = AB_tmp[i][1], AB_tmp[i][0]\n",
    "\n",
    "    #比較して一致するか確認\n",
    "    if AB_tmp == CD:\n",
    "        print (\"Yes\")\n",
    "\n",
    "print (\"No\")"
   ]
  },
  {
   "cell_type": "code",
   "execution_count": 5,
   "id": "8c3e430f-c7c5-4503-834b-0fe8cc993240",
   "metadata": {},
   "outputs": [
    {
     "name": "stdin",
     "output_type": "stream",
     "text": [
      " 4 4\n",
      " 1 2\n",
      " 1 3\n",
      " 1 4\n",
      " 3 4\n",
      " 1 3\n",
      " 1 4\n",
      " 2 3\n",
      " 3 4\n"
     ]
    },
    {
     "name": "stdout",
     "output_type": "stream",
     "text": [
      "[[1, 2], [1, 3], [1, 4], [3, 4]]\n",
      "[[1, 3], [1, 4], [2, 3], [3, 4]]\n",
      "[[1, 2], [1, 3], [1, 4], [3, 4]]\n",
      "[[1, 3], [1, 4], [2, 3], [3, 4]]\n",
      "[[1, 2], [1, 3], [1, 4], [3, 4]]\n",
      "[[1, 3], [1, 4], [2, 3], [3, 4]]\n",
      "[[1, 2], [1, 3], [1, 4], [3, 4]]\n",
      "[[1, 3], [1, 4], [2, 3], [3, 4]]\n",
      "[[1, 2], [1, 3], [1, 4], [2, 4]]\n",
      "[[1, 3], [1, 4], [2, 3], [3, 4]]\n",
      "[[1, 2], [1, 3], [1, 4], [2, 4]]\n",
      "[[1, 3], [1, 4], [2, 3], [3, 4]]\n",
      "[[1, 2], [1, 3], [1, 4], [2, 4]]\n",
      "[[1, 3], [1, 4], [2, 3], [3, 4]]\n",
      "[[1, 2], [1, 3], [1, 4], [2, 4]]\n",
      "[[1, 3], [1, 4], [2, 3], [3, 4]]\n",
      "[[1, 2], [1, 3], [1, 4], [3, 4]]\n",
      "[[1, 3], [1, 4], [2, 3], [3, 4]]\n",
      "[[1, 2], [1, 3], [1, 4], [2, 3]]\n",
      "[[1, 3], [1, 4], [2, 3], [3, 4]]\n",
      "[[1, 3], [2, 3], [3, 4], [1, 4]]\n",
      "[[1, 3], [1, 4], [2, 3], [3, 4]]\n",
      "[[1, 2], [1, 3], [2, 3], [3, 4]]\n",
      "[[1, 3], [1, 4], [2, 3], [3, 4]]\n",
      "[[1, 3], [1, 2], [2, 3], [3, 4]]\n",
      "[[1, 3], [1, 4], [2, 3], [3, 4]]\n",
      "[[1, 4], [1, 2], [2, 4], [3, 4]]\n",
      "[[1, 3], [1, 4], [2, 3], [3, 4]]\n",
      "[[1, 2], [1, 4], [2, 4], [3, 4]]\n",
      "[[1, 3], [1, 4], [2, 3], [3, 4]]\n",
      "[[1, 2], [1, 3], [2, 3], [3, 4]]\n",
      "[[1, 3], [1, 4], [2, 3], [3, 4]]\n",
      "[[1, 2], [1, 3], [2, 3], [3, 4]]\n",
      "[[1, 3], [1, 4], [2, 3], [3, 4]]\n",
      "[[1, 4], [1, 2], [2, 4], [3, 4]]\n",
      "[[1, 3], [1, 4], [2, 3], [3, 4]]\n",
      "[[1, 4], [2, 4], [1, 3], [3, 4]]\n",
      "[[1, 3], [1, 4], [2, 3], [3, 4]]\n",
      "[[1, 4], [2, 3], [2, 4], [3, 4]]\n",
      "[[1, 3], [1, 4], [2, 3], [3, 4]]\n",
      "[[1, 4], [1, 2], [2, 4], [3, 4]]\n",
      "[[1, 3], [1, 4], [2, 3], [3, 4]]\n",
      "[[1, 2], [1, 4], [2, 4], [3, 4]]\n",
      "[[1, 3], [1, 4], [2, 3], [3, 4]]\n",
      "[[1, 3], [1, 2], [2, 3], [3, 4]]\n",
      "[[1, 3], [1, 4], [2, 3], [3, 4]]\n",
      "[[1, 2], [1, 3], [2, 3], [3, 4]]\n",
      "[[1, 3], [1, 4], [2, 3], [3, 4]]\n",
      "No\n"
     ]
    }
   ],
   "source": [
    "N, M = map(int, input().split())\n",
    "AB = [list(map(int, input().split())) for _ in range(M)]\n",
    "CD = [list(map(int, input().split())) for _ in range(M)]\n",
    " \n",
    "AB.sort()\n",
    "CD.sort()\n",
    " \n",
    "if AB == CD:\n",
    "    print (\"Yes\")\n",
    " \n",
    "import itertools\n",
    "for per in list(itertools.permutations(range(1, N+1))):\n",
    "    AB_tmp = AB.copy()\n",
    "    for i in range(0, N):\n",
    "        if i+1 != per[i]:\n",
    "            \n",
    "            #ABを入れ替え\n",
    "            for j in range(0, M):\n",
    "                if AB_tmp[j][0] == i+1:\n",
    "                    AB_tmp[j][0] = per[i]\n",
    "                elif AB_tmp[j][0] == per[i]:\n",
    "                    AB_tmp[j][0] = i+1\n",
    "                if AB_tmp[j][1] == i+1:\n",
    "                    AB_tmp[j][1] = per[i]\n",
    "                elif AB_tmp[j][1] == per[i]:\n",
    "                    AB_tmp[j][1] = i+1\n",
    "            \n",
    "    #ソート\n",
    "    AB_tmp.sort()\n",
    "    \n",
    "    for i, ab_tmp in enumerate(AB_tmp):\n",
    "        if ab_tmp[0] > ab_tmp[1]:\n",
    "            AB_tmp[i][0], AB_tmp[i][1] = AB_tmp[i][1], AB_tmp[i][0]\n",
    "    \n",
    "    print (AB_tmp)\n",
    "    print (CD)\n",
    " \n",
    "    #比較して一致するか確認\n",
    "    if AB_tmp == CD:\n",
    "        print (\"Yes\")\n",
    "        break\n",
    " \n",
    "print (\"No\")"
   ]
  },
  {
   "cell_type": "code",
   "execution_count": null,
   "id": "1abcc42f-73b6-4efb-8aef-c001e7fd431a",
   "metadata": {},
   "outputs": [],
   "source": []
  }
 ],
 "metadata": {
  "kernelspec": {
   "display_name": "Python 3",
   "language": "python",
   "name": "python3"
  },
  "language_info": {
   "codemirror_mode": {
    "name": "ipython",
    "version": 3
   },
   "file_extension": ".py",
   "mimetype": "text/x-python",
   "name": "python",
   "nbconvert_exporter": "python",
   "pygments_lexer": "ipython3",
   "version": "3.8.8"
  }
 },
 "nbformat": 4,
 "nbformat_minor": 5
}
