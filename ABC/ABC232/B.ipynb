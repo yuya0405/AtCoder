{
 "cells": [
  {
   "cell_type": "code",
   "execution_count": 59,
   "id": "26875100-3aa9-4618-b410-05d507528d46",
   "metadata": {},
   "outputs": [],
   "source": [
    "S = input()\n",
    "T = input()\n",
    "\n",
    "N = len(S)\n",
    "for i in range(0, 26):\n",
    "    flag = False\n",
    "    S_new = \"\"\n",
    "    for n in range(N):\n",
    "        if ord(S[n])+i >= 123:\n",
    "            tmp = ord(S[n])+i - 26\n",
    "        else:\n",
    "            tmp = ord(S[n])+i\n",
    "        S_new += chr(tmp)\n",
    "    \n",
    "    if S_new == T:\n",
    "        flag = True\n",
    "        break\n",
    "        \n",
    "if flag == True:\n",
    "    print (\"Yes\")\n",
    "else:\n",
    "    print (\"No\")"
   ]
  },
  {
   "cell_type": "code",
   "execution_count": null,
   "id": "ec985bdf-494d-42f4-a403-30099a6daf00",
   "metadata": {},
   "outputs": [],
   "source": []
  }
 ],
 "metadata": {
  "kernelspec": {
   "display_name": "Python 3",
   "language": "python",
   "name": "python3"
  },
  "language_info": {
   "codemirror_mode": {
    "name": "ipython",
    "version": 3
   },
   "file_extension": ".py",
   "mimetype": "text/x-python",
   "name": "python",
   "nbconvert_exporter": "python",
   "pygments_lexer": "ipython3",
   "version": "3.8.8"
  }
 },
 "nbformat": 4,
 "nbformat_minor": 5
}
