{
 "cells": [
  {
   "cell_type": "code",
   "execution_count": 3,
   "id": "1791bcbc-0e74-4aa0-ab4f-fb222eab439c",
   "metadata": {},
   "outputs": [],
   "source": [
    "S = input()\n",
    "\n",
    "print (int(S[0])*int(S[2]))"
   ]
  },
  {
   "cell_type": "code",
   "execution_count": null,
   "id": "1a26b79d-ecdf-4261-bb01-2bfa53a905ba",
   "metadata": {},
   "outputs": [],
   "source": []
  }
 ],
 "metadata": {
  "kernelspec": {
   "display_name": "Python 3",
   "language": "python",
   "name": "python3"
  },
  "language_info": {
   "codemirror_mode": {
    "name": "ipython",
    "version": 3
   },
   "file_extension": ".py",
   "mimetype": "text/x-python",
   "name": "python",
   "nbconvert_exporter": "python",
   "pygments_lexer": "ipython3",
   "version": "3.8.8"
  }
 },
 "nbformat": 4,
 "nbformat_minor": 5
}
