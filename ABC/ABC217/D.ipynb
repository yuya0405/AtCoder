{
 "cells": [
  {
   "cell_type": "code",
   "execution_count": 18,
   "id": "8d5836f2-16fa-4e76-8e30-1c87621c54ab",
   "metadata": {},
   "outputs": [
    {
     "name": "stdin",
     "output_type": "stream",
     "text": [
      " 100 10\n",
      " 1 31\n",
      " 2 41\n",
      " 1 59\n",
      " 2 26\n",
      " 1 53\n",
      " 2 58\n",
      " 1 97\n",
      " 2 93\n",
      " 1 23\n",
      " 2 84\n"
     ]
    }
   ],
   "source": [
    "L, Q = map(int, input().split())\n",
    "CX = [list(map(int, input().split())) for _ in range(Q)]"
   ]
  },
  {
   "cell_type": "code",
   "execution_count": 19,
   "id": "36b2272c-a815-4635-b9f4-571f4c7e1433",
   "metadata": {},
   "outputs": [
    {
     "name": "stdout",
     "output_type": "stream",
     "text": [
      "69\n",
      "31\n",
      "6\n",
      "38\n",
      "38\n"
     ]
    }
   ],
   "source": [
    "# TLE\n",
    "\n",
    "import bisect\n",
    "\n",
    "woods = [0, L]\n",
    "for c, x in CX:\n",
    "    if c == 1:\n",
    "        i = bisect.bisect(woods, x)\n",
    "        woods.insert(i, x)\n",
    "    elif c == 2:\n",
    "        i = bisect.bisect(woods, x)\n",
    "        length = woods[i] - woods[i-1]\n",
    "        print (length)"
   ]
  },
  {
   "cell_type": "code",
   "execution_count": 22,
   "id": "6f396b87-c343-4077-9778-2d9c101e9ea8",
   "metadata": {},
   "outputs": [
    {
     "name": "stdout",
     "output_type": "stream",
     "text": [
      "69\n",
      "31\n",
      "6\n",
      "38\n",
      "38\n"
     ]
    }
   ],
   "source": [
    "# AC（arrayモジュールの定数倍高速化）\n",
    "\n",
    "import bisect\n",
    "import array\n",
    "\n",
    "woods = array.array('i', [0, L])\n",
    "for c, x in CX:\n",
    "    if c == 1:\n",
    "        i = bisect.bisect(woods, x)\n",
    "        woods.insert(i, x)\n",
    "    elif c == 2:\n",
    "        i = bisect.bisect(woods, x)\n",
    "        length = woods[i] - woods[i-1]\n",
    "        print (length)"
   ]
  },
  {
   "cell_type": "code",
   "execution_count": 20,
   "id": "e5ff7767-0308-43a3-94a6-31e987ad17f0",
   "metadata": {},
   "outputs": [],
   "source": [
    "# BinaryTree\n",
    "\n",
    "class BinaryTrie:\n",
    "    def __init__(self, max_query=2*10**5, bitlen=30):\n",
    "        n = max_query * bitlen\n",
    "        self.nodes = [-1] * (2 * n)\n",
    "        self.cnt = [0] * n\n",
    "        self.id = 0\n",
    "        self.bitlen = bitlen\n",
    " \n",
    "    def size(self):\n",
    "        return self.cnt[0]\n",
    " \n",
    "    # xの個数\n",
    "    def count(self,x):\n",
    "        pt = 0\n",
    "        for i in range(self.bitlen-1,-1,-1):\n",
    "            y = x>>i&1\n",
    "            if self.nodes[2*pt+y] == -1:\n",
    "                return 0\n",
    "            pt = self.nodes[2*pt+y]\n",
    "        return self.cnt[pt]\n",
    " \n",
    "    # xの挿入\n",
    "    def insert(self,x):\n",
    "        pt = 0\n",
    "        for i in range(self.bitlen-1,-1,-1):\n",
    "            y = x>>i&1\n",
    "            if self.nodes[2*pt+y] == -1:\n",
    "                self.id += 1\n",
    "                self.nodes[2*pt+y] = self.id\n",
    "            self.cnt[pt] += 1\n",
    "            pt = self.nodes[2*pt+y]\n",
    "        self.cnt[pt] += 1\n",
    " \n",
    "    # xの削除\n",
    "    # xが存在しないときは何もしない\n",
    "    def erase(self,x):\n",
    "        if self.count(x) == 0:\n",
    "            return\n",
    "        pt = 0\n",
    "        for i in range(self.bitlen-1,-1,-1):\n",
    "            y = x>>i&1\n",
    "            self.cnt[pt] -= 1\n",
    "            pt = self.nodes[2*pt+y]\n",
    "        self.cnt[pt] -= 1\n",
    " \n",
    "    # 昇順x番目の値(1-indexed)\n",
    "    def kth_elm(self,x):\n",
    "        assert 1 <= x <= self.size()\n",
    "        pt, ans = 0, 0\n",
    "        for i in range(self.bitlen-1,-1,-1):\n",
    "            ans <<= 1\n",
    "            if self.nodes[2*pt] != -1 and self.cnt[self.nodes[2*pt]] > 0:\n",
    "                if self.cnt[self.nodes[2*pt]] >= x:\n",
    "                    pt = self.nodes[2*pt]\n",
    "                else:\n",
    "                    x -= self.cnt[self.nodes[2*pt]]\n",
    "                    pt = self.nodes[2*pt+1]\n",
    "                    ans += 1\n",
    "            else:\n",
    "                pt = self.nodes[2*pt+1]\n",
    "                ans += 1\n",
    "        return ans\n",
    " \n",
    "    # x以上の最小要素が昇順何番目か(1-indexed)\n",
    "    # x以上の要素がない時はsize+1を返す\n",
    "    def lower_bound(self,x):\n",
    "        pt, ans = 0, 1\n",
    "        for i in range(self.bitlen-1,-1,-1):\n",
    "            if pt == -1: break\n",
    "            if x>>i&1 and self.nodes[2*pt] != -1:\n",
    "                ans += self.cnt[self.nodes[2*pt]]\n",
    "            pt = self.nodes[2*pt+(x>>i&1)]\n",
    "        return ans"
   ]
  },
  {
   "cell_type": "code",
   "execution_count": null,
   "id": "a1af1817-e2d1-4fb5-a579-273d32a5dd7a",
   "metadata": {},
   "outputs": [],
   "source": []
  }
 ],
 "metadata": {
  "kernelspec": {
   "display_name": "Python 3",
   "language": "python",
   "name": "python3"
  },
  "language_info": {
   "codemirror_mode": {
    "name": "ipython",
    "version": 3
   },
   "file_extension": ".py",
   "mimetype": "text/x-python",
   "name": "python",
   "nbconvert_exporter": "python",
   "pygments_lexer": "ipython3",
   "version": "3.8.8"
  }
 },
 "nbformat": 4,
 "nbformat_minor": 5
}
