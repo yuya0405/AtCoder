{
 "cells": [
  {
   "cell_type": "code",
   "execution_count": 12,
   "id": "03a1ca4b-9e1a-4f67-a390-22ea3e63a213",
   "metadata": {},
   "outputs": [],
   "source": [
    "S1 = input()\n",
    "S2 = input()\n",
    "S3 = input()\n",
    "\n",
    "S = []\n",
    "S.append(S1)\n",
    "S.append(S2)\n",
    "S.append(S3)\n",
    "\n",
    "S_sum = [\"ABC\", \"ARC\", \"AGC\", \"AHC\"]\n",
    "\n",
    "print (list((set(S_sum) - set(S)))[0])"
   ]
  },
  {
   "cell_type": "code",
   "execution_count": null,
   "id": "57aec46f-c95b-4c69-bb16-3ae9fc04981e",
   "metadata": {},
   "outputs": [],
   "source": []
  }
 ],
 "metadata": {
  "kernelspec": {
   "display_name": "Python 3",
   "language": "python",
   "name": "python3"
  },
  "language_info": {
   "codemirror_mode": {
    "name": "ipython",
    "version": 3
   },
   "file_extension": ".py",
   "mimetype": "text/x-python",
   "name": "python",
   "nbconvert_exporter": "python",
   "pygments_lexer": "ipython3",
   "version": "3.8.8"
  }
 },
 "nbformat": 4,
 "nbformat_minor": 5
}
