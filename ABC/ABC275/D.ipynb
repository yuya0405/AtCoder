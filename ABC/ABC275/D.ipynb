{
 "cells": [
  {
   "cell_type": "code",
   "execution_count": 18,
   "id": "fe5de7d4-71ad-4c89-b0bd-7dd45858225c",
   "metadata": {},
   "outputs": [
    {
     "name": "stdin",
     "output_type": "stream",
     "text": [
      " 2\n"
     ]
    }
   ],
   "source": [
    "N = int(input())"
   ]
  },
  {
   "cell_type": "code",
   "execution_count": 60,
   "id": "456dff2b-d294-4d18-abf1-f383e4e4f2e0",
   "metadata": {},
   "outputs": [],
   "source": [
    "import math\n",
    "from functools import lru_cache\n",
    "\n",
    "@lru_cache(maxsize=1000)\n",
    "def f(k):\n",
    "    if k == 0:\n",
    "        return 1\n",
    "    return f(math.floor(k/2)) + f(math.floor(k/3))"
   ]
  },
  {
   "cell_type": "code",
   "execution_count": 61,
   "id": "a3f30927-5ebe-4d15-a34e-9d7e883fea99",
   "metadata": {},
   "outputs": [
    {
     "name": "stdout",
     "output_type": "stream",
     "text": [
      "3\n"
     ]
    }
   ],
   "source": [
    "print (f(N))"
   ]
  },
  {
   "cell_type": "code",
   "execution_count": null,
   "id": "fdcf7372-9cd0-4de5-96f5-43a839e36db9",
   "metadata": {},
   "outputs": [],
   "source": []
  }
 ],
 "metadata": {
  "kernelspec": {
   "display_name": "Python 3 (ipykernel)",
   "language": "python",
   "name": "python3"
  },
  "language_info": {
   "codemirror_mode": {
    "name": "ipython",
    "version": 3
   },
   "file_extension": ".py",
   "mimetype": "text/x-python",
   "name": "python",
   "nbconvert_exporter": "python",
   "pygments_lexer": "ipython3",
   "version": "3.8.13"
  }
 },
 "nbformat": 4,
 "nbformat_minor": 5
}
