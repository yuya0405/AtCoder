{
 "cells": [
  {
   "cell_type": "code",
   "execution_count": 2,
   "id": "a0a94565-ff71-45a4-ae7e-f86b71a77b3c",
   "metadata": {},
   "outputs": [
    {
     "name": "stdin",
     "output_type": "stream",
     "text": [
      " ##.......\n",
      " ##.......\n",
      " .........\n",
      " .......#.\n",
      " .....#...\n",
      " ........#\n",
      " ......#..\n",
      " .........\n",
      " .........\n"
     ]
    }
   ],
   "source": [
    "S = [input() for _ in range(9)]"
   ]
  },
  {
   "cell_type": "code",
   "execution_count": 3,
   "id": "b27b5366-a216-4e5c-add3-5b5c641a312c",
   "metadata": {},
   "outputs": [
    {
     "data": {
      "text/plain": [
       "['##.......',\n",
       " '##.......',\n",
       " '.........',\n",
       " '.......#.',\n",
       " '.....#...',\n",
       " '........#',\n",
       " '......#..',\n",
       " '.........',\n",
       " '.........']"
      ]
     },
     "execution_count": 3,
     "metadata": {},
     "output_type": "execute_result"
    }
   ],
   "source": [
    "S"
   ]
  },
  {
   "cell_type": "code",
   "execution_count": 14,
   "id": "949387c7-5288-4f56-8709-af0df5e4db01",
   "metadata": {},
   "outputs": [
    {
     "data": {
      "text/plain": [
       "[(0, 0), (0, 1), (1, 0), (1, 1), (3, 7), (4, 5), (5, 8), (6, 6)]"
      ]
     },
     "execution_count": 14,
     "metadata": {},
     "output_type": "execute_result"
    }
   ],
   "source": [
    "candidates = []\n",
    "for i, s1 in enumerate(S):\n",
    "    for j, s2 in enumerate(s1):\n",
    "        if S[i][j] == \"#\":\n",
    "            candidates.append((i, j))\n",
    "candidates"
   ]
  },
  {
   "cell_type": "code",
   "execution_count": 41,
   "id": "c9c8fa1d-085d-41e4-87e5-68e005fb6549",
   "metadata": {},
   "outputs": [
    {
     "data": {
      "text/plain": [
       "2"
      ]
     },
     "execution_count": 41,
     "metadata": {},
     "output_type": "execute_result"
    }
   ],
   "source": [
    "import itertools\n",
    "import collections\n",
    "\n",
    "count = 0\n",
    "P = itertools.combinations(candidates, 4)\n",
    "for p1 in P:\n",
    "    d = []\n",
    "    p2 = itertools.combinations(p1, 2)\n",
    "    for p3 in p2:\n",
    "        d.append((p3[0][0] - p3[1][0])**2 + (p3[0][1] - p3[1][1])**2)\n",
    "    C = collections.Counter(d)\n",
    "    judge = (sorted(list(C.values())))\n",
    "    if judge == [2,4]:\n",
    "        count += 1\n",
    "print (count)"
   ]
  },
  {
   "cell_type": "code",
   "execution_count": null,
   "id": "85686c67-b6b5-4c2a-8678-db26744d0022",
   "metadata": {},
   "outputs": [],
   "source": []
  }
 ],
 "metadata": {
  "kernelspec": {
   "display_name": "Python 3 (ipykernel)",
   "language": "python",
   "name": "python3"
  },
  "language_info": {
   "codemirror_mode": {
    "name": "ipython",
    "version": 3
   },
   "file_extension": ".py",
   "mimetype": "text/x-python",
   "name": "python",
   "nbconvert_exporter": "python",
   "pygments_lexer": "ipython3",
   "version": "3.8.13"
  }
 },
 "nbformat": 4,
 "nbformat_minor": 5
}
