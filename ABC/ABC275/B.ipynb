{
 "cells": [
  {
   "cell_type": "code",
   "execution_count": 3,
   "id": "2b418a94-049f-4cc2-8c1b-9b3bcac5f93f",
   "metadata": {},
   "outputs": [
    {
     "name": "stdin",
     "output_type": "stream",
     "text": [
      " 2 3 5 1 2 4\n"
     ]
    }
   ],
   "source": [
    "A, B, C, D, E, F = map(int,input().split())"
   ]
  },
  {
   "cell_type": "code",
   "execution_count": 18,
   "id": "67ba5927-d121-4f97-ae9a-f6a118dec7e9",
   "metadata": {},
   "outputs": [
    {
     "data": {
      "text/plain": [
       "998244353"
      ]
     },
     "execution_count": 18,
     "metadata": {},
     "output_type": "execute_result"
    }
   ],
   "source": [
    "num = 998244353\n",
    "num"
   ]
  },
  {
   "cell_type": "code",
   "execution_count": 19,
   "id": "ac11d204-58a7-4d88-ac99-11d3a1bca222",
   "metadata": {},
   "outputs": [
    {
     "data": {
      "text/plain": [
       "30"
      ]
     },
     "execution_count": 19,
     "metadata": {},
     "output_type": "execute_result"
    }
   ],
   "source": [
    "left = (A % num * B % num * C % num) % num\n",
    "left"
   ]
  },
  {
   "cell_type": "code",
   "execution_count": 20,
   "id": "5cdc6028-c14b-44ca-9bc4-b4c6f8e095b1",
   "metadata": {},
   "outputs": [
    {
     "data": {
      "text/plain": [
       "8"
      ]
     },
     "execution_count": 20,
     "metadata": {},
     "output_type": "execute_result"
    }
   ],
   "source": [
    "right = (D % num * E % num * F % num) % num\n",
    "right"
   ]
  },
  {
   "cell_type": "code",
   "execution_count": 21,
   "id": "669d14ca-5ffb-44c0-9f31-b89bbcc93d4d",
   "metadata": {},
   "outputs": [
    {
     "name": "stdout",
     "output_type": "stream",
     "text": [
      "22\n"
     ]
    }
   ],
   "source": [
    "print ((left - right) % num)"
   ]
  },
  {
   "cell_type": "code",
   "execution_count": null,
   "id": "8a1dc397-3a83-4c08-98be-c993a31db26c",
   "metadata": {},
   "outputs": [],
   "source": []
  },
  {
   "cell_type": "code",
   "execution_count": null,
   "id": "3b515d24-158c-46b7-a8d8-01f253fa3768",
   "metadata": {},
   "outputs": [],
   "source": []
  }
 ],
 "metadata": {
  "kernelspec": {
   "display_name": "Python 3 (ipykernel)",
   "language": "python",
   "name": "python3"
  },
  "language_info": {
   "codemirror_mode": {
    "name": "ipython",
    "version": 3
   },
   "file_extension": ".py",
   "mimetype": "text/x-python",
   "name": "python",
   "nbconvert_exporter": "python",
   "pygments_lexer": "ipython3",
   "version": "3.8.13"
  }
 },
 "nbformat": 4,
 "nbformat_minor": 5
}
