{
 "cells": [
  {
   "cell_type": "code",
   "execution_count": 24,
   "id": "4301736b-ab3e-495f-b5ec-ebd876e485af",
   "metadata": {},
   "outputs": [],
   "source": [
    "P = list(input().split())\n",
    "\n",
    "ans = \"\"\n",
    "for p in P:\n",
    "    ans += chr(ord('a') + int(p) - 1)\n",
    "print (ans)"
   ]
  },
  {
   "cell_type": "code",
   "execution_count": null,
   "id": "45f0eab9-90cd-48f3-ae0f-18113049558d",
   "metadata": {},
   "outputs": [],
   "source": []
  }
 ],
 "metadata": {
  "kernelspec": {
   "display_name": "Python 3",
   "language": "python",
   "name": "python3"
  },
  "language_info": {
   "codemirror_mode": {
    "name": "ipython",
    "version": 3
   },
   "file_extension": ".py",
   "mimetype": "text/x-python",
   "name": "python",
   "nbconvert_exporter": "python",
   "pygments_lexer": "ipython3",
   "version": "3.8.8"
  }
 },
 "nbformat": 4,
 "nbformat_minor": 5
}
