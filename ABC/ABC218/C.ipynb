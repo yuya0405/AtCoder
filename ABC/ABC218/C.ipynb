{
 "cells": [
  {
   "cell_type": "code",
   "execution_count": 2,
   "id": "1103daad-b669-42ab-825d-e3fea60708db",
   "metadata": {},
   "outputs": [
    {
     "name": "stdin",
     "output_type": "stream",
     "text": [
      " 5\n",
      " .....\n",
      " ..#..\n",
      " .###.\n",
      " .....\n",
      " .....\n",
      " .....\n",
      " .....\n",
      " ....#\n",
      " ...##\n",
      " ....#\n"
     ]
    }
   ],
   "source": [
    "N = int(input())\n",
    "S = [list(input().split()) for _ in range(N)]\n",
    "T = [list(input().split()) for _ in range(N)]"
   ]
  },
  {
   "cell_type": "code",
   "execution_count": 3,
   "id": "3cda9410-554b-440e-a0b8-02539937519d",
   "metadata": {},
   "outputs": [
    {
     "data": {
      "text/plain": [
       "[['.....'], ['..#..'], ['.###.'], ['.....'], ['.....']]"
      ]
     },
     "execution_count": 3,
     "metadata": {},
     "output_type": "execute_result"
    }
   ],
   "source": [
    "S"
   ]
  },
  {
   "cell_type": "code",
   "execution_count": 4,
   "id": "22f54b7e-cf6a-4f3e-84d4-cf1494210980",
   "metadata": {},
   "outputs": [
    {
     "data": {
      "text/plain": [
       "[['.....'], ['.....'], ['....#'], ['...##'], ['....#']]"
      ]
     },
     "execution_count": 4,
     "metadata": {},
     "output_type": "execute_result"
    }
   ],
   "source": [
    "T"
   ]
  },
  {
   "cell_type": "code",
   "execution_count": 16,
   "id": "117bf605-70e7-4a3d-a6aa-ab74eea85ae5",
   "metadata": {},
   "outputs": [
    {
     "name": "stdout",
     "output_type": "stream",
     "text": [
      "['.....']\n",
      "['..#..']\n",
      "['.###.']\n",
      "['.....']\n",
      "['.....']\n"
     ]
    }
   ],
   "source": [
    "for s in S:\n",
    "    print (s)"
   ]
  },
  {
   "cell_type": "code",
   "execution_count": 17,
   "id": "4f148b29-d2bc-45d7-a7d3-cea1b931f785",
   "metadata": {},
   "outputs": [
    {
     "name": "stdout",
     "output_type": "stream",
     "text": [
      "('.....', '.....', '.###.', '..#..', '.....')\n"
     ]
    }
   ],
   "source": [
    "for _ in list(zip(*S[::-1])):\n",
    "    print (_)"
   ]
  }
 ],
 "metadata": {
  "kernelspec": {
   "display_name": "Python 3",
   "language": "python",
   "name": "python3"
  },
  "language_info": {
   "codemirror_mode": {
    "name": "ipython",
    "version": 3
   },
   "file_extension": ".py",
   "mimetype": "text/x-python",
   "name": "python",
   "nbconvert_exporter": "python",
   "pygments_lexer": "ipython3",
   "version": "3.8.8"
  }
 },
 "nbformat": 4,
 "nbformat_minor": 5
}
