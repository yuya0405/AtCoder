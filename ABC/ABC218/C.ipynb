{
 "cells": [
  {
   "cell_type": "code",
   "execution_count": 19,
   "id": "1103daad-b669-42ab-825d-e3fea60708db",
   "metadata": {},
   "outputs": [
    {
     "name": "stdin",
     "output_type": "stream",
     "text": [
      " 5\n",
      " .....\n",
      " ..#..\n",
      " .###.\n",
      " .....\n",
      " .....\n",
      " .....\n",
      " .....\n",
      " ....#\n",
      " ...##\n",
      " ....#\n"
     ]
    }
   ],
   "source": [
    "N = int(input())\n",
    "S = [list(input().split()) for _ in range(N)]\n",
    "T = [list(input().split()) for _ in range(N)]"
   ]
  },
  {
   "cell_type": "code",
   "execution_count": 29,
   "id": "3cda9410-554b-440e-a0b8-02539937519d",
   "metadata": {},
   "outputs": [
    {
     "data": {
      "text/plain": [
       "[['.....'], ['..#..'], ['.###.'], ['.....'], ['.....']]"
      ]
     },
     "execution_count": 29,
     "metadata": {},
     "output_type": "execute_result"
    }
   ],
   "source": [
    "S"
   ]
  },
  {
   "cell_type": "code",
   "execution_count": 30,
   "id": "22f54b7e-cf6a-4f3e-84d4-cf1494210980",
   "metadata": {},
   "outputs": [
    {
     "data": {
      "text/plain": [
       "[['.....'], ['.....'], ['....#'], ['...##'], ['....#']]"
      ]
     },
     "execution_count": 30,
     "metadata": {},
     "output_type": "execute_result"
    }
   ],
   "source": [
    "T"
   ]
  },
  {
   "cell_type": "code",
   "execution_count": 53,
   "id": "117bf605-70e7-4a3d-a6aa-ab74eea85ae5",
   "metadata": {},
   "outputs": [
    {
     "data": {
      "text/plain": [
       "[['.', '.', '.', '.', '.'],\n",
       " ['.', '.', '#', '.', '.'],\n",
       " ['.', '#', '#', '#', '.'],\n",
       " ['.', '.', '.', '.', '.'],\n",
       " ['.', '.', '.', '.', '.']]"
      ]
     },
     "execution_count": 53,
     "metadata": {},
     "output_type": "execute_result"
    }
   ],
   "source": [
    "S2 = []\n",
    "for s in S:\n",
    "    S2.append(list(s[0]))\n",
    "S2"
   ]
  },
  {
   "cell_type": "code",
   "execution_count": 54,
   "id": "95844a41-f0bb-4f22-ac74-2139fc5659ed",
   "metadata": {},
   "outputs": [
    {
     "data": {
      "text/plain": [
       "[['.', '.', '.', '.', '.'],\n",
       " ['.', '.', '.', '.', '.'],\n",
       " ['.', '.', '.', '.', '#'],\n",
       " ['.', '.', '.', '#', '#'],\n",
       " ['.', '.', '.', '.', '#']]"
      ]
     },
     "execution_count": 54,
     "metadata": {},
     "output_type": "execute_result"
    }
   ],
   "source": [
    "T2 = []\n",
    "for t in T:\n",
    "    T2.append(list(t[0]))\n",
    "T2"
   ]
  },
  {
   "cell_type": "code",
   "execution_count": 59,
   "id": "e630ad71-ff52-41bd-be8b-7b437f4107ea",
   "metadata": {},
   "outputs": [
    {
     "name": "stdout",
     "output_type": "stream",
     "text": [
      "[['.' '.' '.' '.' '.']\n",
      " ['.' '.' '#' '.' '.']\n",
      " ['.' '#' '#' '.' '.']\n",
      " ['.' '.' '#' '.' '.']\n",
      " ['.' '.' '.' '.' '.']]\n"
     ]
    }
   ],
   "source": [
    "import numpy as np\n",
    "\n",
    "S2_90 = np.rot90(S2)\n",
    "S2_90"
   ]
  },
  {
   "cell_type": "code",
   "execution_count": null,
   "id": "044c691a-5b2f-4707-add4-f60358cf13e9",
   "metadata": {},
   "outputs": [],
   "source": []
  }
 ],
 "metadata": {
  "kernelspec": {
   "display_name": "Python 3",
   "language": "python",
   "name": "python3"
  },
  "language_info": {
   "codemirror_mode": {
    "name": "ipython",
    "version": 3
   },
   "file_extension": ".py",
   "mimetype": "text/x-python",
   "name": "python",
   "nbconvert_exporter": "python",
   "pygments_lexer": "ipython3",
   "version": "3.8.8"
  }
 },
 "nbformat": 4,
 "nbformat_minor": 5
}
