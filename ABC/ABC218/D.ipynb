{
 "cells": [
  {
   "cell_type": "code",
   "execution_count": 57,
   "id": "1b0c111f-3d1b-4902-a082-2faaf47c84d1",
   "metadata": {},
   "outputs": [
    {
     "name": "stdin",
     "output_type": "stream",
     "text": [
      " 5\n",
      " 0 0\n",
      " 1 1\n",
      " -1 1\n",
      " 1 -1\n",
      " -1 -1\n"
     ]
    }
   ],
   "source": [
    "N = int(input())\n",
    "XY = [list(map(int, input().split())) for _ in range(N)]"
   ]
  },
  {
   "cell_type": "code",
   "execution_count": 60,
   "id": "8963fd21-5321-4abb-8e2e-8810b83efca7",
   "metadata": {},
   "outputs": [],
   "source": [
    "XY_sorted = sorted(XY)\n",
    "X_sorted = [x for x, y in XY_sorted]"
   ]
  },
  {
   "cell_type": "code",
   "execution_count": 65,
   "id": "81e39053-c222-44c0-bcfb-3699051a3a23",
   "metadata": {},
   "outputs": [
    {
     "name": "stdout",
     "output_type": "stream",
     "text": [
      "1\n"
     ]
    }
   ],
   "source": [
    "import bisect\n",
    "\n",
    "ans = 0\n",
    "for i in range(N):\n",
    "    for j in range(i+1, N):\n",
    "        x1 = XY[i][0]\n",
    "        y1 = XY[i][1]\n",
    "        x2 = XY[j][0]\n",
    "        y2 = XY[j][1]\n",
    "        # print (x1, y1, x2, y2)\n",
    "        if (x1 < x2 and y1 < y2) or (x1 > x2 and y1 > y2):\n",
    "            pass\n",
    "        else:\n",
    "            continue\n",
    "        \n",
    "        index_left1 = bisect.bisect_left(X_sorted, x1)\n",
    "        index_right1 = bisect.bisect_right(X_sorted, x1)\n",
    "        flag_y2 = False\n",
    "        for k in range(index_left1, index_right1):\n",
    "            if XY_sorted[k][1] == y2:\n",
    "                flag_y2 = True\n",
    "                \n",
    "        index_left2 = bisect.bisect_left(X_sorted, x2)\n",
    "        index_right2 = bisect.bisect_right(X_sorted, x2)\n",
    "        flag_y1 = False\n",
    "        for k in range(index_left2, index_right2):\n",
    "            if XY_sorted[k][1] == y1:\n",
    "                flag_y1 = True\n",
    "        \n",
    "        # print (flag_y2, flag_y1)\n",
    "        if flag_y2 == True and flag_y1 == True:\n",
    "            ans += 1\n",
    "print (ans)"
   ]
  },
  {
   "cell_type": "code",
   "execution_count": null,
   "id": "66bc6abb-7c1c-4ebb-a951-09241803a792",
   "metadata": {},
   "outputs": [],
   "source": []
  }
 ],
 "metadata": {
  "kernelspec": {
   "display_name": "Python 3",
   "language": "python",
   "name": "python3"
  },
  "language_info": {
   "codemirror_mode": {
    "name": "ipython",
    "version": 3
   },
   "file_extension": ".py",
   "mimetype": "text/x-python",
   "name": "python",
   "nbconvert_exporter": "python",
   "pygments_lexer": "ipython3",
   "version": "3.8.8"
  }
 },
 "nbformat": 4,
 "nbformat_minor": 5
}
