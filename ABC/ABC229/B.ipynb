{
 "cells": [
  {
   "cell_type": "code",
   "execution_count": 23,
   "id": "bbc03090-bd4a-4702-8203-f73171c93ca2",
   "metadata": {},
   "outputs": [],
   "source": [
    "A, B = input().split()\n",
    "\n",
    "len_A = len(A)\n",
    "len_B = len(B)\n",
    "length = max(len_A, len_B)\n",
    "\n",
    "A_new = A.zfill(length)\n",
    "B_new = B.zfill(length)\n",
    "\n",
    "for i in range(length):\n",
    "    if int(A_new[i])+int(B_new[i]) >= 10:\n",
    "        print (\"Hard\")\n",
    "        exit()\n",
    "print (\"Easy\")"
   ]
  },
  {
   "cell_type": "code",
   "execution_count": null,
   "id": "b8245c15-cbd7-4583-87fa-2367d5a8f637",
   "metadata": {},
   "outputs": [],
   "source": []
  }
 ],
 "metadata": {
  "kernelspec": {
   "display_name": "Python 3",
   "language": "python",
   "name": "python3"
  },
  "language_info": {
   "codemirror_mode": {
    "name": "ipython",
    "version": 3
   },
   "file_extension": ".py",
   "mimetype": "text/x-python",
   "name": "python",
   "nbconvert_exporter": "python",
   "pygments_lexer": "ipython3",
   "version": "3.8.8"
  }
 },
 "nbformat": 4,
 "nbformat_minor": 5
}
