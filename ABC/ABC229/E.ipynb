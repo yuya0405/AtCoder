{
 "cells": [
  {
   "cell_type": "code",
   "execution_count": 85,
   "id": "24f37c1e-06a0-48a4-8729-c09b567e8ee4",
   "metadata": {},
   "outputs": [],
   "source": [
    "N, M = map(int, input().split())\n",
    "AB = [list(map(int, input().split())) for _ in range(M)]\n",
    "\n",
    "import numpy as np\n",
    "from scipy.sparse.csgraph import connected_components\n",
    "from scipy.sparse import csr_matrix\n",
    "\n",
    "tmp = AB.copy()\n",
    "\n",
    "for i in range(1, N+1):\n",
    "    tmp = [x for x in tmp if (x[0] != i and x[1] != i)]\n",
    "    \n",
    "    # グラフ作成\n",
    "    graph = [[0]*N for _ in range(N)]\n",
    "    for ab in tmp:\n",
    "        a, b = ab\n",
    "        graph[a-1][b-1] = 1\n",
    "        graph[b-1][a-1] = 1\n",
    "\n",
    "    _ = np.array(graph)\n",
    "    count, labels = connected_components(_)\n",
    "    print (count-i)"
   ]
  },
  {
   "cell_type": "code",
   "execution_count": null,
   "id": "5732d97b-85ad-4059-b7b5-b2ec2f75f2ae",
   "metadata": {},
   "outputs": [],
   "source": []
  }
 ],
 "metadata": {
  "kernelspec": {
   "display_name": "Python 3 (ipykernel)",
   "language": "python",
   "name": "python3"
  },
  "language_info": {
   "codemirror_mode": {
    "name": "ipython",
    "version": 3
   },
   "file_extension": ".py",
   "mimetype": "text/x-python",
   "name": "python",
   "nbconvert_exporter": "python",
   "pygments_lexer": "ipython3",
   "version": "3.9.12"
  }
 },
 "nbformat": 4,
 "nbformat_minor": 5
}
