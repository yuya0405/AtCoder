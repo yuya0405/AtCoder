{
 "cells": [
  {
   "cell_type": "code",
   "execution_count": 84,
   "id": "329f4c2b-87d8-4c0a-9731-2a2e9517e522",
   "metadata": {},
   "outputs": [
    {
     "name": "stdin",
     "output_type": "stream",
     "text": [
      " 6 7\n",
      " 1 2\n",
      " 1 4\n",
      " 1 5\n",
      " 2 4\n",
      " 2 3\n",
      " 3 5\n",
      " 3 6\n"
     ]
    }
   ],
   "source": [
    "N, M = map(int, input().split())\n",
    "AB = [list(map(int, input().split())) for _ in range(M)]"
   ]
  },
  {
   "cell_type": "code",
   "execution_count": 85,
   "id": "546e5de6-eeea-4bf5-a40c-781f2b9fa649",
   "metadata": {},
   "outputs": [
    {
     "name": "stdout",
     "output_type": "stream",
     "text": [
      "1\n",
      "2\n",
      "3\n",
      "2\n",
      "1\n",
      "0\n"
     ]
    }
   ],
   "source": [
    "import numpy as np\n",
    "from scipy.sparse.csgraph import connected_components\n",
    "from scipy.sparse import csr_matrix\n",
    "\n",
    "tmp = AB.copy()\n",
    "\n",
    "for i in range(1, N+1):\n",
    "    tmp = [x for x in tmp if (x[0] != i and x[1] != i)]\n",
    "    \n",
    "    # グラフ作成\n",
    "    graph = [[0]*N for _ in range(N)]\n",
    "    for ab in tmp:\n",
    "        a, b = ab\n",
    "        graph[a-1][b-1] = 1\n",
    "        graph[b-1][a-1] = 1\n",
    "\n",
    "    _ = np.array(graph)\n",
    "    count, labels = connected_components(_)\n",
    "    print (count-i)"
   ]
  },
  {
   "cell_type": "code",
   "execution_count": null,
   "id": "5732d97b-85ad-4059-b7b5-b2ec2f75f2ae",
   "metadata": {},
   "outputs": [],
   "source": []
  }
 ],
 "metadata": {
  "kernelspec": {
   "display_name": "Python 3",
   "language": "python",
   "name": "python3"
  },
  "language_info": {
   "codemirror_mode": {
    "name": "ipython",
    "version": 3
   },
   "file_extension": ".py",
   "mimetype": "text/x-python",
   "name": "python",
   "nbconvert_exporter": "python",
   "pygments_lexer": "ipython3",
   "version": "3.8.8"
  }
 },
 "nbformat": 4,
 "nbformat_minor": 5
}
