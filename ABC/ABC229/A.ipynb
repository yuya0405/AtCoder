{
 "cells": [
  {
   "cell_type": "code",
   "execution_count": 3,
   "id": "dd319889-4d45-4c58-a09a-6b241f44eb1d",
   "metadata": {},
   "outputs": [],
   "source": [
    "S1 = input()\n",
    "S2 = input()\n",
    "\n",
    "if S1[0]==\"#\" and S1[1]==\".\" and S2[0]==\".\" and S2[1]==\"#\":\n",
    "    print (\"No\")\n",
    "    exit()\n",
    "if S1[0]==\".\" and S1[1]==\"#\" and S2[0]==\"#\" and S2[1]==\".\":\n",
    "    print (\"No\")\n",
    "    exit()\n",
    "print (\"Yes\")"
   ]
  },
  {
   "cell_type": "code",
   "execution_count": null,
   "id": "c70bf407-2d5b-4dcf-bf63-f210d0c5485c",
   "metadata": {},
   "outputs": [],
   "source": []
  }
 ],
 "metadata": {
  "kernelspec": {
   "display_name": "Python 3",
   "language": "python",
   "name": "python3"
  },
  "language_info": {
   "codemirror_mode": {
    "name": "ipython",
    "version": 3
   },
   "file_extension": ".py",
   "mimetype": "text/x-python",
   "name": "python",
   "nbconvert_exporter": "python",
   "pygments_lexer": "ipython3",
   "version": "3.8.8"
  }
 },
 "nbformat": 4,
 "nbformat_minor": 5
}
