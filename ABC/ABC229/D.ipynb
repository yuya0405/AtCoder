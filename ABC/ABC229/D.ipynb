{
 "cells": [
  {
   "cell_type": "code",
   "execution_count": 1,
   "id": "6abec86b-4f42-41cc-a950-5d5a6397eee6",
   "metadata": {},
   "outputs": [
    {
     "name": "stdin",
     "output_type": "stream",
     "text": [
      " XX...X.X.X.\n",
      " 2\n"
     ]
    }
   ],
   "source": [
    "S = input()\n",
    "K = int(input())"
   ]
  },
  {
   "cell_type": "code",
   "execution_count": 9,
   "id": "470ff0fe-6441-482f-8d16-16743e79d832",
   "metadata": {},
   "outputs": [
    {
     "name": "stdout",
     "output_type": "stream",
     "text": [
      "[2, 2, 0, 0, 0, 1, 0, 1, 0, 1, 0]\n"
     ]
    }
   ],
   "source": [
    "a = []\n",
    "for s in S:\n",
    "    if s == \"X\":\n",
    "        a.append(1)\n",
    "    else:\n",
    "        a.append(0)\n",
    "\n",
    "def mikkabozu(x):   #可愛らしい関数名\n",
    "    for i in range(len(x) - 1):\n",
    "        if x[i+1] == 1:\n",
    "            x[i+1] += x[i]\n",
    "            for j in range(x[i]):\n",
    "                x[i - j] = x[i+1]\n",
    "    print(x)\n",
    "\n",
    "mikkabozu(a)"
   ]
  },
  {
   "cell_type": "code",
   "execution_count": null,
   "id": "c3fdd5c3-cd23-4215-a77f-32495e159495",
   "metadata": {},
   "outputs": [],
   "source": []
  }
 ],
 "metadata": {
  "kernelspec": {
   "display_name": "Python 3",
   "language": "python",
   "name": "python3"
  },
  "language_info": {
   "codemirror_mode": {
    "name": "ipython",
    "version": 3
   },
   "file_extension": ".py",
   "mimetype": "text/x-python",
   "name": "python",
   "nbconvert_exporter": "python",
   "pygments_lexer": "ipython3",
   "version": "3.8.8"
  }
 },
 "nbformat": 4,
 "nbformat_minor": 5
}
