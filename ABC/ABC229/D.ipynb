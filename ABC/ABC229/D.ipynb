{
 "cells": [
  {
   "cell_type": "code",
   "execution_count": 2,
   "id": "6abec86b-4f42-41cc-a950-5d5a6397eee6",
   "metadata": {},
   "outputs": [
    {
     "name": "stdin",
     "output_type": "stream",
     "text": [
      " XX...X.X.X.\n",
      " 2\n"
     ]
    }
   ],
   "source": [
    "S = input()\n",
    "K = int(input())"
   ]
  },
  {
   "cell_type": "code",
   "execution_count": 8,
   "id": "74b17f8d-c44f-4393-b7d5-3a82f4261a44",
   "metadata": {},
   "outputs": [],
   "source": [
    "from collections import deque"
   ]
  },
  {
   "cell_type": "code",
   "execution_count": 10,
   "id": "a5d2088c-9639-488f-bbea-ee04a169dc44",
   "metadata": {},
   "outputs": [
    {
     "data": {
      "text/plain": [
       "5"
      ]
     },
     "execution_count": 10,
     "metadata": {},
     "output_type": "execute_result"
    }
   ],
   "source": [
    "# dequeを使う尺取り法\n",
    "\n",
    "que = deque()\n",
    "count = K\n",
    "ans = 0\n",
    "score = 0\n",
    "for s in S:\n",
    "    score += 1\n",
    "    if s == \".\":\n",
    "        que.append(1)\n",
    "        count -= 1\n",
    "    else:\n",
    "        que.append(0)\n",
    "    \n",
    "    while count < 0:\n",
    "        count += que.popleft()\n",
    "        score -= 1\n",
    "    \n",
    "    ans = max(ans, score)\n",
    "\n",
    "print (ans)"
   ]
  },
  {
   "cell_type": "code",
   "execution_count": null,
   "id": "d49d0733-e702-4851-9d89-a3e4ffd807ec",
   "metadata": {},
   "outputs": [],
   "source": []
  }
 ],
 "metadata": {
  "kernelspec": {
   "display_name": "Python 3",
   "language": "python",
   "name": "python3"
  },
  "language_info": {
   "codemirror_mode": {
    "name": "ipython",
    "version": 3
   },
   "file_extension": ".py",
   "mimetype": "text/x-python",
   "name": "python",
   "nbconvert_exporter": "python",
   "pygments_lexer": "ipython3",
   "version": "3.8.8"
  }
 },
 "nbformat": 4,
 "nbformat_minor": 5
}
