{
 "cells": [
  {
   "cell_type": "code",
   "execution_count": 21,
   "id": "51242dcc-dfe5-4cba-b610-aadf29d3f2ab",
   "metadata": {},
   "outputs": [],
   "source": [
    "N, W = map(int, input().split())\n",
    "AB = [list(map(int, input().split())) for _ in range(N)]\n",
    "\n",
    "AB.sort(reverse=True)\n",
    "\n",
    "ans = 0\n",
    "tmp = W\n",
    "for a, b in AB:\n",
    "    if tmp >= b:\n",
    "        ans += a*b\n",
    "        tmp -= b\n",
    "    else:\n",
    "        ans += a*tmp\n",
    "        tmp -= tmp\n",
    "print (ans)"
   ]
  },
  {
   "cell_type": "code",
   "execution_count": null,
   "id": "d5e355a4-5c19-416a-966b-766d38e9b4f3",
   "metadata": {},
   "outputs": [],
   "source": []
  }
 ],
 "metadata": {
  "kernelspec": {
   "display_name": "Python 3",
   "language": "python",
   "name": "python3"
  },
  "language_info": {
   "codemirror_mode": {
    "name": "ipython",
    "version": 3
   },
   "file_extension": ".py",
   "mimetype": "text/x-python",
   "name": "python",
   "nbconvert_exporter": "python",
   "pygments_lexer": "ipython3",
   "version": "3.8.8"
  }
 },
 "nbformat": 4,
 "nbformat_minor": 5
}
