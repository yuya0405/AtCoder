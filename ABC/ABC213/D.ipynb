{
 "cells": [
  {
   "cell_type": "code",
   "execution_count": 19,
   "id": "bf1ddb38-e0b9-449f-8cbc-952a41c770b5",
   "metadata": {},
   "outputs": [
    {
     "name": "stdin",
     "output_type": "stream",
     "text": [
      " 6\n",
      " 1 6\n",
      " 3 1\n",
      " 6 5\n",
      " 6 2\n",
      " 4 2\n"
     ]
    }
   ],
   "source": [
    "N = int(input())\n",
    "AB = [list(map(int, input().split())) for _ in range(N-1)]"
   ]
  },
  {
   "cell_type": "code",
   "execution_count": 20,
   "id": "33d69f06-619e-4fa5-be00-8558356fef00",
   "metadata": {},
   "outputs": [
    {
     "data": {
      "text/plain": [
       "[[], [6, 3], [6, 4], [1], [2], [6], [1, 5, 2]]"
      ]
     },
     "execution_count": 20,
     "metadata": {},
     "output_type": "execute_result"
    }
   ],
   "source": [
    "chs = [[] for v in range(N+1)]\n",
    "for a, b in AB:\n",
    "    chs[a].append(b)\n",
    "    chs[b].append(a)\n",
    "chs"
   ]
  },
  {
   "cell_type": "code",
   "execution_count": 21,
   "id": "54bbd58a-7589-45a4-a456-c04c1bbcdc1f",
   "metadata": {},
   "outputs": [
    {
     "data": {
      "text/plain": [
       "[[], [3, 6], [4, 6], [1], [2], [6], [1, 2, 5]]"
      ]
     },
     "execution_count": 21,
     "metadata": {},
     "output_type": "execute_result"
    }
   ],
   "source": [
    "for i in range(N+1):\n",
    "    chs[i].sort()\n",
    "chs"
   ]
  },
  {
   "cell_type": "code",
   "execution_count": 22,
   "id": "d6744a4f-ba0a-428f-ae03-fef18dc7ec91",
   "metadata": {},
   "outputs": [
    {
     "name": "stdout",
     "output_type": "stream",
     "text": [
      "1 3 1 6 2 4 2 6 5 6 1\n"
     ]
    }
   ],
   "source": [
    "# アルゴ式\n",
    "\n",
    "# スタックオーバーフローを防ぐ\n",
    "import sys\n",
    "sys.setrecursionlimit(10 ** 6)\n",
    "\n",
    "ans = []\n",
    "\n",
    "# 頂点 v を根とする部分木を探索\n",
    "# 頂点 v の子頂点を格納した配列を chs とする\n",
    "def dfs(v, p):\n",
    "    # 頂点 v を出力\n",
    "    ans.append(v)\n",
    "\n",
    "    # 各子頂点を探索\n",
    "    for ch in chs[v]:\n",
    "        # 子頂点 ch を根とした部分木を再帰的に探索\n",
    "        if ch != p:\n",
    "            dfs(ch, v)\n",
    "            ans.append(v)\n",
    "\n",
    "# 根頂点 (0) から再帰的に探索\n",
    "dfs(1, 0)\n",
    "\n",
    "print (*ans)"
   ]
  },
  {
   "cell_type": "code",
   "execution_count": null,
   "id": "da5e4fed-a6b5-4502-9084-93671d314e24",
   "metadata": {},
   "outputs": [],
   "source": []
  }
 ],
 "metadata": {
  "kernelspec": {
   "display_name": "Python 3",
   "language": "python",
   "name": "python3"
  },
  "language_info": {
   "codemirror_mode": {
    "name": "ipython",
    "version": 3
   },
   "file_extension": ".py",
   "mimetype": "text/x-python",
   "name": "python",
   "nbconvert_exporter": "python",
   "pygments_lexer": "ipython3",
   "version": "3.8.8"
  }
 },
 "nbformat": 4,
 "nbformat_minor": 5
}
