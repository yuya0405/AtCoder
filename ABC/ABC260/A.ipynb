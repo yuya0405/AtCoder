{
 "cells": [
  {
   "cell_type": "code",
   "execution_count": 24,
   "id": "a0c16906-f820-4472-b258-b40ab6f14232",
   "metadata": {},
   "outputs": [
    {
     "name": "stdin",
     "output_type": "stream",
     "text": [
      " xxx\n"
     ]
    },
    {
     "name": "stdout",
     "output_type": "stream",
     "text": [
      "-1\n"
     ]
    }
   ],
   "source": [
    "S = input()\n",
    "\n",
    "import collections\n",
    "\n",
    "C = collections.Counter(S)\n",
    "for k, v in zip(list(C.keys()), list(C.values())):\n",
    "    if v == 1:\n",
    "        print (k)\n",
    "        exit()\n",
    "print (-1)"
   ]
  },
  {
   "cell_type": "code",
   "execution_count": null,
   "id": "279de520-a196-4845-b073-3b0a430f10a6",
   "metadata": {},
   "outputs": [],
   "source": []
  }
 ],
 "metadata": {
  "kernelspec": {
   "display_name": "Python 3 (ipykernel)",
   "language": "python",
   "name": "python3"
  },
  "language_info": {
   "codemirror_mode": {
    "name": "ipython",
    "version": 3
   },
   "file_extension": ".py",
   "mimetype": "text/x-python",
   "name": "python",
   "nbconvert_exporter": "python",
   "pygments_lexer": "ipython3",
   "version": "3.9.13"
  }
 },
 "nbformat": 4,
 "nbformat_minor": 5
}
