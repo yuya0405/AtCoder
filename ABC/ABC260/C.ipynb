{
 "cells": [
  {
   "cell_type": "code",
   "execution_count": 43,
   "id": "5c993ffd-6669-4595-8fcb-e0b5b075de9f",
   "metadata": {},
   "outputs": [
    {
     "name": "stdin",
     "output_type": "stream",
     "text": [
      " 2 3 4\n"
     ]
    },
    {
     "name": "stdout",
     "output_type": "stream",
     "text": [
      "12\n"
     ]
    }
   ],
   "source": [
    "N, X, Y = map(int, input().split())\n",
    "\n",
    "dp = [[0] * N for _ in range(2)]\n",
    "dp[0][N-1] = 1\n",
    "\n",
    "for i in reversed(range(1, N)):\n",
    "    for j in range(2):\n",
    "        if j == 0:\n",
    "            dp[0][i-1] += dp[0][i]\n",
    "            dp[1][i] += dp[0][i]*X\n",
    "            dp[0][i] = 0\n",
    "        elif j == 1:\n",
    "            dp[0][i-1] += dp[1][i]\n",
    "            dp[1][i-1] += dp[1][i]*Y\n",
    "            dp[1][i] = 0\n",
    "print (dp[1][0])"
   ]
  },
  {
   "cell_type": "code",
   "execution_count": null,
   "id": "c1593604-a302-4695-9522-9e99a048b79f",
   "metadata": {},
   "outputs": [],
   "source": []
  }
 ],
 "metadata": {
  "kernelspec": {
   "display_name": "Python 3 (ipykernel)",
   "language": "python",
   "name": "python3"
  },
  "language_info": {
   "codemirror_mode": {
    "name": "ipython",
    "version": 3
   },
   "file_extension": ".py",
   "mimetype": "text/x-python",
   "name": "python",
   "nbconvert_exporter": "python",
   "pygments_lexer": "ipython3",
   "version": "3.9.13"
  }
 },
 "nbformat": 4,
 "nbformat_minor": 5
}
