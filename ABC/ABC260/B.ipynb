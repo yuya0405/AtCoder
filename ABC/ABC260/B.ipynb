{
 "cells": [
  {
   "cell_type": "code",
   "execution_count": 70,
   "id": "2aaef30c-e6fd-4ebf-b5e2-e0573a97f82b",
   "metadata": {},
   "outputs": [],
   "source": [
    "N, X, Y, Z = map(int, input().split())\n",
    "A = list(map(int, input().split()))\n",
    "B = list(map(int, input().split()))\n",
    "\n",
    "S = []\n",
    "for i, (a, b) in enumerate(zip(A, B)):\n",
    "    S.append([i, a, b, a+b, False])\n",
    "\n",
    "S_A = sorted(S, reverse=True, key=lambda x: x[1]) \n",
    "\n",
    "i = 0\n",
    "while (X >= 1):\n",
    "    id = S_A[i][0]\n",
    "    if S[id][4] == True:\n",
    "        i += 1\n",
    "        continue\n",
    "    S[id][4] = True\n",
    "    X -= 1\n",
    "    i += 1\n",
    "\n",
    "S_B = sorted(S, reverse=True, key=lambda x: x[2]) \n",
    "\n",
    "i = 0\n",
    "while (Y >= 1):\n",
    "    id = S_B[i][0]\n",
    "    if S[id][4] == True:\n",
    "        i += 1\n",
    "        continue\n",
    "    S[id][4] = True\n",
    "    Y -= 1\n",
    "    i += 1\n",
    "\n",
    "S_AB = sorted(S, reverse=True, key=lambda x: x[3]) \n",
    "\n",
    "i = 0\n",
    "while (Z >= 1):\n",
    "    id = S_AB[i][0]\n",
    "    if S[id][4] == True:\n",
    "        i += 1\n",
    "        continue\n",
    "    S[id][4] = True\n",
    "    Z -= 1\n",
    "    i += 1\n",
    "\n",
    "for i, a, b, ab, flag in S:\n",
    "    if flag == True:\n",
    "        print (i+1)"
   ]
  },
  {
   "cell_type": "code",
   "execution_count": null,
   "id": "3d75133a-0f8c-4395-81c6-f672994c9eed",
   "metadata": {},
   "outputs": [],
   "source": []
  }
 ],
 "metadata": {
  "kernelspec": {
   "display_name": "Python 3 (ipykernel)",
   "language": "python",
   "name": "python3"
  },
  "language_info": {
   "codemirror_mode": {
    "name": "ipython",
    "version": 3
   },
   "file_extension": ".py",
   "mimetype": "text/x-python",
   "name": "python",
   "nbconvert_exporter": "python",
   "pygments_lexer": "ipython3",
   "version": "3.9.13"
  }
 },
 "nbformat": 4,
 "nbformat_minor": 5
}
