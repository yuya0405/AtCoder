{
 "cells": [
  {
   "cell_type": "code",
   "execution_count": 35,
   "id": "7387a882-9c0b-4656-ae57-dd337ac2ca77",
   "metadata": {},
   "outputs": [
    {
     "name": "stdin",
     "output_type": "stream",
     "text": [
      " 5 3 3\n",
      " 4 5 2 5\n"
     ]
    }
   ],
   "source": [
    "N, A, B = map(int, input().split())\n",
    "P, Q, R, S = map(int, input().split())"
   ]
  },
  {
   "cell_type": "code",
   "execution_count": 36,
   "id": "9f5366bc-b0ba-4f08-b397-8fb6d5fa6fab",
   "metadata": {},
   "outputs": [
    {
     "name": "stdout",
     "output_type": "stream",
     "text": [
      "#.#.\n",
      "...#\n"
     ]
    }
   ],
   "source": [
    "# TLE\n",
    "\n",
    "G = [[0] * N for _ in range(N)]\n",
    "\n",
    "for k in range(max(1-A, 1-B), min(N-A, N-B)+1):\n",
    "    G[A+k-1][B+k-1] = 1\n",
    "for k in range(max(1-A, B-N), min(N-A, B-1)+1):\n",
    "    G[A+k-1][B-k-1] = 1\n",
    "\n",
    "for i in range(P, Q+1):\n",
    "    for j in range(R, S+1):\n",
    "        if G[i-1][j-1] == 0:\n",
    "            print (\".\", end=\"\")\n",
    "        else:\n",
    "            print (\"#\", end=\"\")\n",
    "    print (\"\")"
   ]
  },
  {
   "cell_type": "code",
   "execution_count": 39,
   "id": "2b6c7119-c1e3-4cf3-bbcc-351981dbbc6a",
   "metadata": {},
   "outputs": [],
   "source": [
    "# TLE\n",
    "\n",
    "G = [[0] * (S-R+1) for _ in range(Q-P+1)]\n",
    "\n",
    "for k in range(max(1-A, 1-B), min(N-A, N-B)+1):\n",
    "    if P <= A+k and A+k <= Q and R <= B+k and B+k <= S:\n",
    "        G[A+k -P][B+k -R] = 1\n",
    "for k in range(max(1-A, B-N), min(N-A, B-1)+1):\n",
    "    if P <= A+k and A+k <= Q and R <= B-k and B-k <= S:\n",
    "        G[A+k -P][B-k -R] = 1\n",
    "\n",
    "for i in range(0, Q-P+1):\n",
    "    for j in range(0, S-R+1):\n",
    "        if G[i][j] == 0:\n",
    "            print (\".\", end=\"\")\n",
    "        else:\n",
    "            print (\"#\", end=\"\")\n",
    "    print (\"\")"
   ]
  },
  {
   "cell_type": "code",
   "execution_count": null,
   "id": "4a42fd1d-afa6-475f-b585-18cfb44fe2ff",
   "metadata": {},
   "outputs": [],
   "source": [
    "G = [[0] * (S-R+1) for _ in range(Q-P+1)]\n",
    "\n",
    "for i in range(P, Q+1):\n",
    "    for j in range(R, S+1):\n",
    "        if i-j == A-B:\n",
    "            G[i-P][j-R] = 1\n",
    "        elif i+j == A+B:\n",
    "            G[i-P][j-R] = 1\n",
    "            \n",
    "for i in range(0, Q-P+1):\n",
    "    for j in range(0, S-R+1):\n",
    "        if G[i][j] == 0:\n",
    "            print (\".\", end=\"\")\n",
    "        else:\n",
    "            print (\"#\", end=\"\")\n",
    "    print (\"\")"
   ]
  }
 ],
 "metadata": {
  "kernelspec": {
   "display_name": "Python 3",
   "language": "python",
   "name": "python3"
  },
  "language_info": {
   "codemirror_mode": {
    "name": "ipython",
    "version": 3
   },
   "file_extension": ".py",
   "mimetype": "text/x-python",
   "name": "python",
   "nbconvert_exporter": "python",
   "pygments_lexer": "ipython3",
   "version": "3.8.8"
  }
 },
 "nbformat": 4,
 "nbformat_minor": 5
}
