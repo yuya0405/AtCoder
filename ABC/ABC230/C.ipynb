{
 "cells": [
  {
   "cell_type": "code",
   "execution_count": 189,
   "id": "7387a882-9c0b-4656-ae57-dd337ac2ca77",
   "metadata": {},
   "outputs": [
    {
     "name": "stdin",
     "output_type": "stream",
     "text": [
      " 5 3 2\n",
      " 1 5 1 5\n"
     ]
    }
   ],
   "source": [
    "N, A, B = map(int, input().split())\n",
    "P, Q, R, S = map(int, input().split())"
   ]
  },
  {
   "cell_type": "code",
   "execution_count": 190,
   "id": "9f5366bc-b0ba-4f08-b397-8fb6d5fa6fab",
   "metadata": {},
   "outputs": [
    {
     "name": "stdout",
     "output_type": "stream",
     "text": [
      "...#.\n",
      "#.#..\n",
      ".#...\n",
      "#.#..\n",
      "...#.\n"
     ]
    }
   ],
   "source": [
    "G = [[0] * N for _ in range(N)]\n",
    "\n",
    "for k in range(max(1-A, 1-B), min(N-A, N-B)+1):\n",
    "    G[A+k-1][B+k-1] = 1\n",
    "for k in range(max(1-A, B-N), min(N-A, B-1)+1):\n",
    "    G[A+k-1][B-k-1] = 1\n",
    "\n",
    "for i in range(P, Q+1):\n",
    "    for j in range(R, S+1):\n",
    "        if G[i-1][j-1] == 0:\n",
    "            print (\".\", end=\"\")\n",
    "        else:\n",
    "            print (\"#\", end=\"\")\n",
    "    print (\"\")"
   ]
  },
  {
   "cell_type": "code",
   "execution_count": 205,
   "id": "6ebc2d7f-d37d-4503-adb3-00aef3e0e2d9",
   "metadata": {},
   "outputs": [
    {
     "data": {
      "text/plain": [
       "[[0, 0, 0, 0, 0],\n",
       " [0, 0, 0, 0, 0],\n",
       " [0, 0, 0, 0, 0],\n",
       " [0, 0, 0, 0, 0],\n",
       " [0, 0, 0, 0, 0]]"
      ]
     },
     "execution_count": 205,
     "metadata": {},
     "output_type": "execute_result"
    }
   ],
   "source": [
    "G = [[0] * (S-R+1) for _ in range(Q-P+1)]\n",
    "G"
   ]
  },
  {
   "cell_type": "code",
   "execution_count": 210,
   "id": "9c82cd88-4c9c-4c92-a6d6-efe5d2e9bff9",
   "metadata": {},
   "outputs": [
    {
     "name": "stdout",
     "output_type": "stream",
     "text": [
      "1 0\n",
      "2 1\n",
      "3 2\n",
      "4 3\n",
      "1 2\n",
      "2 1\n",
      "3 0\n"
     ]
    }
   ],
   "source": [
    "for k in range(max(1-A, 1-B), min(N-A, N-B)+1):\n",
    "    if P <= A+k and A+k <= Q and R <= B+k and B+k <= S:\n",
    "        print (A+k-P, B+k-R)\n",
    "        G[A+k -P][B+k -R] = 1\n",
    "for k in range(max(1-A, B-N), min(N-A, B-1)+1):\n",
    "    if P <= A+k and A+k <= Q and R <= B+k and B+k <= S:\n",
    "        print (A+k-P, B-k-R)\n",
    "        G[A+k -P][B-k -R] = 1"
   ]
  },
  {
   "cell_type": "code",
   "execution_count": 209,
   "id": "b7e97649-b58d-4430-a6f5-3d31aa2e76ca",
   "metadata": {},
   "outputs": [
    {
     "name": "stdout",
     "output_type": "stream",
     "text": [
      ".....\n",
      "#.#..\n",
      ".#...\n",
      "#.#..\n",
      "...#.\n"
     ]
    }
   ],
   "source": [
    "for i in range(0, Q-P+1):\n",
    "    for j in range(0, S-R+1):\n",
    "        if G[i][j] == 0:\n",
    "            print (\".\", end=\"\")\n",
    "        else:\n",
    "            print (\"#\", end=\"\")\n",
    "    print (\"\")"
   ]
  },
  {
   "cell_type": "code",
   "execution_count": null,
   "id": "4a42fd1d-afa6-475f-b585-18cfb44fe2ff",
   "metadata": {},
   "outputs": [],
   "source": []
  }
 ],
 "metadata": {
  "kernelspec": {
   "display_name": "Python 3",
   "language": "python",
   "name": "python3"
  },
  "language_info": {
   "codemirror_mode": {
    "name": "ipython",
    "version": 3
   },
   "file_extension": ".py",
   "mimetype": "text/x-python",
   "name": "python",
   "nbconvert_exporter": "python",
   "pygments_lexer": "ipython3",
   "version": "3.8.8"
  }
 },
 "nbformat": 4,
 "nbformat_minor": 5
}
