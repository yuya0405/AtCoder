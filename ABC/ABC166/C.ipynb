{
 "cells": [
  {
   "cell_type": "code",
   "execution_count": 12,
   "id": "13a68961-65f8-40a4-b955-17fc6d7f11ce",
   "metadata": {},
   "outputs": [
    {
     "name": "stdin",
     "output_type": "stream",
     "text": [
      " 6 5\n",
      " 8 6 9 1 2 1\n",
      " 1 3\n",
      " 4 2\n",
      " 4 3\n",
      " 4 6\n",
      " 4 6\n"
     ]
    }
   ],
   "source": [
    "N, M = map(int, input().split())\n",
    "H = list(map(int, input().split()))\n",
    "AB = [list(map(int, input().split())) for _ in range(M)]"
   ]
  },
  {
   "cell_type": "code",
   "execution_count": 13,
   "id": "1ed92a3c-041f-4a49-9015-f643c5427851",
   "metadata": {},
   "outputs": [
    {
     "data": {
      "text/plain": [
       "[[2], [3], [0, 3], [1, 2, 5, 5], [], [3, 3]]"
      ]
     },
     "execution_count": 13,
     "metadata": {},
     "output_type": "execute_result"
    }
   ],
   "source": [
    "G = [[] for _ in range(N)]\n",
    "for a, b in AB:\n",
    "    G[a-1].append(b-1)\n",
    "    G[b-1].append(a-1)\n",
    "G"
   ]
  },
  {
   "cell_type": "code",
   "execution_count": 14,
   "id": "28cccf8b-130a-4220-b3a4-eec2d280b8a0",
   "metadata": {},
   "outputs": [
    {
     "data": {
      "text/plain": [
       "3"
      ]
     },
     "execution_count": 14,
     "metadata": {},
     "output_type": "execute_result"
    }
   ],
   "source": [
    "# TLE？？？（ACだった・・・）\n",
    "\n",
    "ans = 0\n",
    "for i, tenbo in enumerate(G):\n",
    "    cur = H[i]\n",
    "    \n",
    "    flag = True\n",
    "    for t in tenbo:\n",
    "        if cur <= H[t]:\n",
    "            flag = False\n",
    "            break\n",
    "    if flag == True:\n",
    "        ans += 1\n",
    "print (ans)"
   ]
  },
  {
   "cell_type": "code",
   "execution_count": null,
   "id": "31c4d8fc-b1b9-4134-b920-63f94fa618a3",
   "metadata": {},
   "outputs": [],
   "source": []
  }
 ],
 "metadata": {
  "kernelspec": {
   "display_name": "Python 3",
   "language": "python",
   "name": "python3"
  },
  "language_info": {
   "codemirror_mode": {
    "name": "ipython",
    "version": 3
   },
   "file_extension": ".py",
   "mimetype": "text/x-python",
   "name": "python",
   "nbconvert_exporter": "python",
   "pygments_lexer": "ipython3",
   "version": "3.8.8"
  }
 },
 "nbformat": 4,
 "nbformat_minor": 5
}
