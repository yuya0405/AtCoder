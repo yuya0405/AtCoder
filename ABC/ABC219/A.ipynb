{
 "cells": [
  {
   "cell_type": "code",
   "execution_count": 5,
   "id": "d4bbd052-99c9-4882-b148-73bdd644a733",
   "metadata": {},
   "outputs": [
    {
     "name": "stdin",
     "output_type": "stream",
     "text": [
      " 100\n"
     ]
    },
    {
     "name": "stdout",
     "output_type": "stream",
     "text": [
      "expert\n"
     ]
    }
   ],
   "source": [
    "X = int(input())\n",
    "if X < 40:\n",
    "    print (40-X)\n",
    "elif X < 70:\n",
    "    print (70-X)\n",
    "elif X < 90:\n",
    "    print (90-X)\n",
    "else:\n",
    "    print (\"expert\")"
   ]
  },
  {
   "cell_type": "code",
   "execution_count": null,
   "id": "75e635a4-1751-4929-ae21-17202d17e1a7",
   "metadata": {},
   "outputs": [],
   "source": []
  }
 ],
 "metadata": {
  "kernelspec": {
   "display_name": "Python 3",
   "language": "python",
   "name": "python3"
  },
  "language_info": {
   "codemirror_mode": {
    "name": "ipython",
    "version": 3
   },
   "file_extension": ".py",
   "mimetype": "text/x-python",
   "name": "python",
   "nbconvert_exporter": "python",
   "pygments_lexer": "ipython3",
   "version": "3.8.8"
  }
 },
 "nbformat": 4,
 "nbformat_minor": 5
}
