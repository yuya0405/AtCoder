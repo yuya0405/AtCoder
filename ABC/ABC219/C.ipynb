{
 "cells": [
  {
   "cell_type": "code",
   "execution_count": null,
   "id": "3f84ac78-cd18-4339-9f29-0230f6b17028",
   "metadata": {},
   "outputs": [],
   "source": [
    "X = input()\n",
    "N = int(input())\n",
    "S = [input() for _ in range(N)]\n",
    "\n",
    "for i in range(N):\n",
    "    for j in range(N-1, i, -1):\n",
    "        L = min(len(S[i]), len(S[j]))\n",
    "        \n",
    "        flag = False\n",
    "        for l in range(L):\n",
    "            if S[i][l] != S[j][l]:\n",
    "                if X.find(S[i][l]) > X.find(S[j][l]):\n",
    "                    flag = True\n",
    "                break\n",
    "        \n",
    "        if flag == True:\n",
    "            S[i], S[j] = S[j], S[i]\n",
    "        else:\n",
    "            if len(S[i]) > len(S[j]):\n",
    "                S[i], S[j] = S[j], S[i]\n",
    "for s in S:\n",
    "    print (s)"
   ]
  },
  {
   "cell_type": "code",
   "execution_count": null,
   "id": "c7625490-673d-4df2-82ad-e1926145a4fc",
   "metadata": {},
   "outputs": [],
   "source": []
  }
 ],
 "metadata": {
  "kernelspec": {
   "display_name": "Python 3",
   "language": "python",
   "name": "python3"
  },
  "language_info": {
   "codemirror_mode": {
    "name": "ipython",
    "version": 3
   },
   "file_extension": ".py",
   "mimetype": "text/x-python",
   "name": "python",
   "nbconvert_exporter": "python",
   "pygments_lexer": "ipython3",
   "version": "3.8.8"
  }
 },
 "nbformat": 4,
 "nbformat_minor": 5
}
