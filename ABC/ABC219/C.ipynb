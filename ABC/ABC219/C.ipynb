{
 "cells": [
  {
   "cell_type": "code",
   "execution_count": 1,
   "id": "c72640a6-3cf8-46df-aa4a-4c2b10efc5d8",
   "metadata": {},
   "outputs": [
    {
     "name": "stdin",
     "output_type": "stream",
     "text": [
      " bacdefghijklmnopqrstuvwxzy\n",
      " 4\n",
      " abx\n",
      " bzz\n",
      " bzy\n",
      " caa\n"
     ]
    }
   ],
   "source": [
    "X = input()\n",
    "N = int(input())\n",
    "S = [input() for _ in range(N)]"
   ]
  },
  {
   "cell_type": "code",
   "execution_count": null,
   "id": "48d24303-37b3-455e-9efa-71d3844d369c",
   "metadata": {},
   "outputs": [],
   "source": [
    "# バブルソートはTLE\n",
    "\n",
    "for i in range(N):\n",
    "    for j in range(N-1, i, -1):\n",
    "        L = min(len(S[i]), len(S[j]))\n",
    "        \n",
    "        flag = False\n",
    "        for l in range(L):\n",
    "            if S[i][l] != S[j][l]:\n",
    "                if X.find(S[i][l]) > X.find(S[j][l]):\n",
    "                    flag = True\n",
    "                break\n",
    "        \n",
    "        if flag == True:\n",
    "            S[i], S[j] = S[j], S[i]\n",
    "        else:\n",
    "            if len(S[i]) > len(S[j]):\n",
    "                S[i], S[j] = S[j], S[i]\n",
    "for s in S:\n",
    "    print (s)"
   ]
  },
  {
   "cell_type": "code",
   "execution_count": 2,
   "id": "e66a449f-6932-4a60-a2ed-daca10615e35",
   "metadata": {},
   "outputs": [
    {
     "name": "stdout",
     "output_type": "stream",
     "text": [
      "bzz\n",
      "bzy\n",
      "abx\n",
      "caa\n"
     ]
    }
   ],
   "source": [
    "# クイックソートを実装\n",
    "\n",
    "# a<bなら1を、a>bなら-1を、a==bなら0を返す関数\n",
    "def comp(a, b):\n",
    "    l = min(len(a), len(b))\n",
    "\n",
    "    for i in range(l):\n",
    "        if X.index(a[i]) < X.index(b[i]):\n",
    "            return 1\n",
    "        elif X.index(a[i]) > X.index(b[i]):\n",
    "            return -1\n",
    "    if len(a) < len(b):\n",
    "        return 1\n",
    "    elif len(a) > len(b):\n",
    "        return -1\n",
    "    else:\n",
    "        return 0\n",
    "\n",
    "def quick_sort(arr):\n",
    "    left = []\n",
    "    right = []\n",
    "    if len(arr) <= 1:\n",
    "        return arr\n",
    "\n",
    "    # データの状態に左右されないためにrandom.choice()を用いることもある。\n",
    "    # ref = random.choice(arr)\n",
    "    ref = arr[0]\n",
    "    ref_count = 0\n",
    "\n",
    "    for ele in arr:\n",
    "        # if ele < ref:\n",
    "        if comp(ele, ref) == 1:\n",
    "            left.append(ele)\n",
    "        # elif ele > ref:\n",
    "        elif comp(ele, ref) == -1:\n",
    "            right.append(ele)\n",
    "        else:\n",
    "            ref_count += 1\n",
    "    left = quick_sort(left)\n",
    "    right = quick_sort(right)\n",
    "    return left + [ref] * ref_count + right\n",
    "\n",
    "ans = quick_sort(S)\n",
    "\n",
    "for a in ans:\n",
    "    print (a)"
   ]
  },
  {
   "cell_type": "code",
   "execution_count": null,
   "id": "d79dde4f-ce9f-48f0-b892-65b58ea3eea2",
   "metadata": {},
   "outputs": [],
   "source": []
  }
 ],
 "metadata": {
  "kernelspec": {
   "display_name": "Python 3",
   "language": "python",
   "name": "python3"
  },
  "language_info": {
   "codemirror_mode": {
    "name": "ipython",
    "version": 3
   },
   "file_extension": ".py",
   "mimetype": "text/x-python",
   "name": "python",
   "nbconvert_exporter": "python",
   "pygments_lexer": "ipython3",
   "version": "3.8.8"
  }
 },
 "nbformat": 4,
 "nbformat_minor": 5
}
