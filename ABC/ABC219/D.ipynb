{
 "cells": [
  {
   "cell_type": "code",
   "execution_count": 109,
   "id": "c5decf54-45e9-4828-84fb-10d003e080ad",
   "metadata": {},
   "outputs": [
    {
     "name": "stdin",
     "output_type": "stream",
     "text": [
      " 3\n",
      " 5 6\n",
      " 2 1\n",
      " 3 4\n",
      " 2 3\n"
     ]
    },
    {
     "name": "stdout",
     "output_type": "stream",
     "text": [
      "2\n"
     ]
    }
   ],
   "source": [
    "N = int(input())\n",
    "X, Y = map(int, input().split())\n",
    "AB = [list(map(int, input().split())) for _ in range(N)]\n",
    "\n",
    "dp = [[[999 for y in range(Y+1)] for x in range(X+1)] for i in range(N+1)]\n",
    "dp[0][0][0] = 0\n",
    "\n",
    "for i in range(1, N+1):\n",
    "    for x in range(0, X+1):\n",
    "        for y in range(0, Y+1):\n",
    "            dp[i][min(x+AB[i-1][0],X)][min(y+AB[i-1][1],Y)] = min(dp[i][min(x+AB[i-1][0],X)][min(y+AB[i-1][1],Y)], dp[i-1][x][y]+1)\n",
    "            dp[i][x][y] = min(dp[i][x][y], dp[i-1][x][y])\n",
    "\n",
    "if dp[N][X][Y] == 999:\n",
    "    print (-1)\n",
    "else:\n",
    "    print (dp[N][X][Y])"
   ]
  },
  {
   "cell_type": "code",
   "execution_count": null,
   "id": "fa7d8f01-9861-41f5-9575-5bdeb9e12ac4",
   "metadata": {},
   "outputs": [],
   "source": []
  }
 ],
 "metadata": {
  "kernelspec": {
   "display_name": "Python 3",
   "language": "python",
   "name": "python3"
  },
  "language_info": {
   "codemirror_mode": {
    "name": "ipython",
    "version": 3
   },
   "file_extension": ".py",
   "mimetype": "text/x-python",
   "name": "python",
   "nbconvert_exporter": "python",
   "pygments_lexer": "ipython3",
   "version": "3.8.8"
  }
 },
 "nbformat": 4,
 "nbformat_minor": 5
}
