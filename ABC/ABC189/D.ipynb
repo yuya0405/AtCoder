{
 "cells": [
  {
   "cell_type": "code",
   "execution_count": 31,
   "metadata": {},
   "outputs": [
    {
     "name": "stdin",
     "output_type": "stream",
     "text": [
      " 5\n",
      " OR\n",
      " OR\n",
      " OR\n",
      " OR\n",
      " OR\n"
     ]
    }
   ],
   "source": [
    "N = int(input())\n",
    "S = [input() for _ in range(N)]"
   ]
  },
  {
   "cell_type": "code",
   "execution_count": 41,
   "metadata": {},
   "outputs": [
    {
     "name": "stdout",
     "output_type": "stream",
     "text": [
      "63\n"
     ]
    }
   ],
   "source": [
    "# 数学的な考察をする解答\n",
    "ans = 1\n",
    "for i, s in enumerate(S):\n",
    "    if s == \"OR\":\n",
    "        ans += 2**(i+1)\n",
    "print (ans)"
   ]
  },
  {
   "cell_type": "code",
   "execution_count": 57,
   "metadata": {},
   "outputs": [
    {
     "name": "stdout",
     "output_type": "stream",
     "text": [
      "63\n"
     ]
    }
   ],
   "source": [
    "# DPを使う解答\n",
    "dp = [[0]*2 for _ in range(65)]\n",
    "dp[0][0] = 1\n",
    "dp[0][1] = 1\n",
    "for i, s in enumerate(S):\n",
    "    if s == \"AND\":\n",
    "        dp[i+1][0] = dp[i][0] * 2 + dp[i][1]\n",
    "        dp[i+1][1] = dp[i][1]\n",
    "    else:\n",
    "        dp[i+1][0] = dp[i][0]\n",
    "        dp[i+1][1] = dp[i][0] + dp[i][1] * 2\n",
    "print (dp[N][1])"
   ]
  },
  {
   "cell_type": "code",
   "execution_count": null,
   "metadata": {},
   "outputs": [],
   "source": []
  }
 ],
 "metadata": {
  "kernelspec": {
   "display_name": "Python 3",
   "language": "python",
   "name": "python3"
  },
  "language_info": {
   "codemirror_mode": {
    "name": "ipython",
    "version": 3
   },
   "file_extension": ".py",
   "mimetype": "text/x-python",
   "name": "python",
   "nbconvert_exporter": "python",
   "pygments_lexer": "ipython3",
   "version": "3.8.5"
  }
 },
 "nbformat": 4,
 "nbformat_minor": 4
}
