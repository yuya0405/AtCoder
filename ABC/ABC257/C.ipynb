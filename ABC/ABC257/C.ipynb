{
 "cells": [
  {
   "cell_type": "code",
   "execution_count": 43,
   "id": "47a18589-8a0b-4e71-8d1c-bf6c7279c33c",
   "metadata": {},
   "outputs": [
    {
     "name": "stdin",
     "output_type": "stream",
     "text": [
      " 5\n",
      " 10101\n",
      " 60 50 50 50 60\n"
     ]
    }
   ],
   "source": [
    "N = int(input())\n",
    "S = input()\n",
    "W = list(map(int, input().split()))"
   ]
  },
  {
   "cell_type": "code",
   "execution_count": 44,
   "id": "8d1f9478-0a16-4c43-a9f1-827ee6074453",
   "metadata": {},
   "outputs": [
    {
     "name": "stdout",
     "output_type": "stream",
     "text": [
      "[[50, '0'], [50, '0'], [50, '1'], [60, '1'], [60, '1']]\n"
     ]
    }
   ],
   "source": [
    "stock = []\n",
    "for s, w in zip(S, W):\n",
    "    stock.append([w, s])\n",
    "\n",
    "stock.sort()\n",
    "print (stock)"
   ]
  },
  {
   "cell_type": "code",
   "execution_count": 47,
   "id": "ee6bf6f7-d35c-4dc1-934a-9223cd27e647",
   "metadata": {},
   "outputs": [
    {
     "data": {
      "text/plain": [
       "3"
      ]
     },
     "execution_count": 47,
     "metadata": {},
     "output_type": "execute_result"
    }
   ],
   "source": [
    "tmp = [int(s[1]) for s in stock].count(1)\n",
    "tmp"
   ]
  },
  {
   "cell_type": "code",
   "execution_count": 40,
   "id": "029d9a33-64cc-4824-b612-2ea3bc6290e8",
   "metadata": {},
   "outputs": [
    {
     "name": "stdout",
     "output_type": "stream",
     "text": [
      "[[50, '0'], [50, '0'], [50, '1'], [60, '1'], [60, '1']]\n",
      "[0, 0, 1, 1, 1]\n",
      "5\n"
     ]
    }
   ],
   "source": [
    "ans = [tmp]\n",
    "\n",
    "# 途中\n",
    "for s in stock:\n",
    "    if s[1] == \"0\":\n",
    "        tmp += 1\n",
    "    elif s[1] == \"1\":\n",
    "        tmp -= 1\n",
    "\n",
    "print (max(ans))"
   ]
  },
  {
   "cell_type": "code",
   "execution_count": null,
   "id": "b944935e-6d16-4021-9a09-544bde8bf48b",
   "metadata": {},
   "outputs": [],
   "source": []
  }
 ],
 "metadata": {
  "kernelspec": {
   "display_name": "Python 3 (ipykernel)",
   "language": "python",
   "name": "python3"
  },
  "language_info": {
   "codemirror_mode": {
    "name": "ipython",
    "version": 3
   },
   "file_extension": ".py",
   "mimetype": "text/x-python",
   "name": "python",
   "nbconvert_exporter": "python",
   "pygments_lexer": "ipython3",
   "version": "3.9.13"
  }
 },
 "nbformat": 4,
 "nbformat_minor": 5
}
