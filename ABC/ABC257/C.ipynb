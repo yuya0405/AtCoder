{
 "cells": [
  {
   "cell_type": "code",
   "execution_count": 91,
   "id": "47a18589-8a0b-4e71-8d1c-bf6c7279c33c",
   "metadata": {},
   "outputs": [
    {
     "name": "stdin",
     "output_type": "stream",
     "text": [
      " 3\n",
      " 000\n",
      " 1 2 3\n"
     ]
    }
   ],
   "source": [
    "N = int(input())\n",
    "S = input()\n",
    "W = list(map(int, input().split()))"
   ]
  },
  {
   "cell_type": "code",
   "execution_count": 92,
   "id": "8d1f9478-0a16-4c43-a9f1-827ee6074453",
   "metadata": {},
   "outputs": [
    {
     "data": {
      "text/plain": [
       "[[1, 0], [2, 0], [3, 0]]"
      ]
     },
     "execution_count": 92,
     "metadata": {},
     "output_type": "execute_result"
    }
   ],
   "source": [
    "stock = []\n",
    "for s, w in zip(S, W):\n",
    "    stock.append([w, int(s)])\n",
    "\n",
    "stock.sort()\n",
    "stock"
   ]
  },
  {
   "cell_type": "code",
   "execution_count": 107,
   "id": "ee6bf6f7-d35c-4dc1-934a-9223cd27e647",
   "metadata": {},
   "outputs": [
    {
     "data": {
      "text/plain": [
       "0"
      ]
     },
     "execution_count": 107,
     "metadata": {},
     "output_type": "execute_result"
    }
   ],
   "source": [
    "tmp = [s[1] for s in stock].count(1)\n",
    "tmp"
   ]
  },
  {
   "cell_type": "code",
   "execution_count": 108,
   "id": "346f95c4-b8f5-4aaa-be0e-5fe4614accd9",
   "metadata": {},
   "outputs": [
    {
     "name": "stdout",
     "output_type": "stream",
     "text": [
      "1\n",
      "1\n",
      "1\n"
     ]
    }
   ],
   "source": [
    "# 途中\n",
    "\n",
    "ans = tmp\n",
    "count = 0\n",
    "pre = stock[0][0]\n",
    "\n",
    "for s in stock:\n",
    "    if pre == s[0]:\n",
    "        count += 1\n",
    "        continue\n",
    "        \n",
    "    if s[1] == 0:\n",
    "        tmp += count\n",
    "    elif s[1] == 1:\n",
    "        tmp -= count\n",
    "    \n",
    "    ans = max(ans, tmp)\n",
    "    print (ans)\n",
    "    count = 0\n",
    "    pre = s[0]\n",
    "\n",
    "print (ans)"
   ]
  },
  {
   "cell_type": "code",
   "execution_count": null,
   "id": "be3ca227-0c9c-4982-b4b3-6abca2d1a278",
   "metadata": {},
   "outputs": [],
   "source": []
  }
 ],
 "metadata": {
  "kernelspec": {
   "display_name": "Python 3 (ipykernel)",
   "language": "python",
   "name": "python3"
  },
  "language_info": {
   "codemirror_mode": {
    "name": "ipython",
    "version": 3
   },
   "file_extension": ".py",
   "mimetype": "text/x-python",
   "name": "python",
   "nbconvert_exporter": "python",
   "pygments_lexer": "ipython3",
   "version": "3.9.13"
  }
 },
 "nbformat": 4,
 "nbformat_minor": 5
}
