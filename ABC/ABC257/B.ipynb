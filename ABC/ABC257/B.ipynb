{
 "cells": [
  {
   "cell_type": "code",
   "execution_count": 17,
   "id": "06288d7b-0929-4d59-96dd-d90571ffce61",
   "metadata": {},
   "outputs": [],
   "source": [
    "N, K, Q = map(int, input().split())\n",
    "A = list(map(int, input().split()))\n",
    "L = list(map(int, input().split()))\n",
    "\n",
    "for l in L:\n",
    "    if A[l-1] == N:\n",
    "        pass\n",
    "    elif l == K or (l != K and A[l-1]+1 != A[l]):\n",
    "        A[l-1] += 1\n",
    "print (*A)"
   ]
  },
  {
   "cell_type": "code",
   "execution_count": null,
   "id": "31b9a557-4e59-4897-8f9a-5feb6186c47e",
   "metadata": {},
   "outputs": [],
   "source": []
  }
 ],
 "metadata": {
  "kernelspec": {
   "display_name": "Python 3 (ipykernel)",
   "language": "python",
   "name": "python3"
  },
  "language_info": {
   "codemirror_mode": {
    "name": "ipython",
    "version": 3
   },
   "file_extension": ".py",
   "mimetype": "text/x-python",
   "name": "python",
   "nbconvert_exporter": "python",
   "pygments_lexer": "ipython3",
   "version": "3.9.13"
  }
 },
 "nbformat": 4,
 "nbformat_minor": 5
}
