{
 "cells": [
  {
   "cell_type": "code",
   "execution_count": 65,
   "id": "01c3adf0-9d97-4db3-8d37-9a7227c42b88",
   "metadata": {},
   "outputs": [
    {
     "name": "stdin",
     "output_type": "stream",
     "text": [
      " abbbccc\n",
      " abbbbbbbbcccccc\n"
     ]
    },
    {
     "name": "stdout",
     "output_type": "stream",
     "text": [
      "Yes\n"
     ]
    }
   ],
   "source": [
    "S = input()\n",
    "T = input()\n",
    "\n",
    "pre = S[0]\n",
    "tmp = 0\n",
    "S_num = []\n",
    "S_var = [S[0]]\n",
    "for s in S:\n",
    "    if pre == s:\n",
    "        tmp += 1\n",
    "    else:\n",
    "        S_num.append(tmp)\n",
    "        S_var.append(s)\n",
    "        tmp = 1\n",
    "    pre = s\n",
    "S_num.append(tmp)\n",
    "\n",
    "pre = T[0]\n",
    "tmp = 0\n",
    "T_num = []\n",
    "T_var = [T[0]]\n",
    "for t in T:\n",
    "    if pre == t:\n",
    "        tmp += 1\n",
    "    else:\n",
    "        T_num.append(tmp)\n",
    "        T_var.append(t)\n",
    "        tmp = 1\n",
    "    pre = t\n",
    "T_num.append(tmp)\n",
    "\n",
    "if S_var != T_var:\n",
    "    print (\"No\")\n",
    "else:\n",
    "    for s, t in zip(S_num, T_num):\n",
    "        if (s == t) or (s>=2 and s < t):\n",
    "            pass\n",
    "        else:\n",
    "            print (\"No\")\n",
    "            exit()\n",
    "    print (\"Yes\")"
   ]
  },
  {
   "cell_type": "code",
   "execution_count": null,
   "id": "21b04e05-505c-47ef-9bb1-757ae22cf54f",
   "metadata": {},
   "outputs": [],
   "source": []
  },
  {
   "cell_type": "code",
   "execution_count": null,
   "id": "9cea9ec1-6121-4a3e-ac3a-057ca32bbc7c",
   "metadata": {},
   "outputs": [],
   "source": []
  }
 ],
 "metadata": {
  "kernelspec": {
   "display_name": "Python 3 (ipykernel)",
   "language": "python",
   "name": "python3"
  },
  "language_info": {
   "codemirror_mode": {
    "name": "ipython",
    "version": 3
   },
   "file_extension": ".py",
   "mimetype": "text/x-python",
   "name": "python",
   "nbconvert_exporter": "python",
   "pygments_lexer": "ipython3",
   "version": "3.9.13"
  }
 },
 "nbformat": 4,
 "nbformat_minor": 5
}
