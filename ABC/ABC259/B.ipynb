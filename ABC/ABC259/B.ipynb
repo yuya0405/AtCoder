{
 "cells": [
  {
   "cell_type": "code",
   "execution_count": 12,
   "id": "2444177e-ebd5-4b32-8bc2-932cd6ed306c",
   "metadata": {},
   "outputs": [
    {
     "name": "stdin",
     "output_type": "stream",
     "text": [
      " -505 191 278\n"
     ]
    },
    {
     "name": "stdout",
     "output_type": "stream",
     "text": [
      "118.85878514480689 526.6674369978655\n"
     ]
    }
   ],
   "source": [
    "a, b, d = map(int, input().split())\n",
    "\n",
    "import math\n",
    "\n",
    "a2 = a*math.cos(math.radians(d)) - b*math.sin(math.radians(d))\n",
    "b2 = a*math.sin(math.radians(d)) + b*math.cos(math.radians(d))\n",
    "print (a2, b2)"
   ]
  },
  {
   "cell_type": "code",
   "execution_count": null,
   "id": "7a5f525a-30b0-4a50-a829-2a418d1e1481",
   "metadata": {},
   "outputs": [],
   "source": []
  }
 ],
 "metadata": {
  "kernelspec": {
   "display_name": "Python 3 (ipykernel)",
   "language": "python",
   "name": "python3"
  },
  "language_info": {
   "codemirror_mode": {
    "name": "ipython",
    "version": 3
   },
   "file_extension": ".py",
   "mimetype": "text/x-python",
   "name": "python",
   "nbconvert_exporter": "python",
   "pygments_lexer": "ipython3",
   "version": "3.9.13"
  }
 },
 "nbformat": 4,
 "nbformat_minor": 5
}
