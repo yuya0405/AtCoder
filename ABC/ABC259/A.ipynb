{
 "cells": [
  {
   "cell_type": "code",
   "execution_count": 7,
   "id": "c2592651-b36f-4b21-adf2-f1aec70caa7b",
   "metadata": {},
   "outputs": [],
   "source": [
    "N, M, X, T, D = map(int, input().split())\n",
    "\n",
    "if M >= X:\n",
    "    print (T)\n",
    "else:\n",
    "    print (T - D*(X - M))"
   ]
  },
  {
   "cell_type": "code",
   "execution_count": null,
   "id": "fa1e02e2-c655-4f33-8b30-43c88ceb848c",
   "metadata": {},
   "outputs": [],
   "source": []
  }
 ],
 "metadata": {
  "kernelspec": {
   "display_name": "Python 3 (ipykernel)",
   "language": "python",
   "name": "python3"
  },
  "language_info": {
   "codemirror_mode": {
    "name": "ipython",
    "version": 3
   },
   "file_extension": ".py",
   "mimetype": "text/x-python",
   "name": "python",
   "nbconvert_exporter": "python",
   "pygments_lexer": "ipython3",
   "version": "3.9.13"
  }
 },
 "nbformat": 4,
 "nbformat_minor": 5
}
