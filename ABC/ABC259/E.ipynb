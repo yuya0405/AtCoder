{
 "cells": [
  {
   "cell_type": "code",
   "execution_count": 2,
   "id": "c18e1bfb-7f39-40de-8c46-1a584147dd3a",
   "metadata": {},
   "outputs": [
    {
     "name": "stdin",
     "output_type": "stream",
     "text": [
      " 4\n",
      " 1\n",
      " 7 2\n",
      " 2\n",
      " 2 2\n",
      " 5 1\n",
      " 1\n",
      " 5 1\n",
      " 2\n",
      " 2 1\n",
      " 7 1\n"
     ]
    }
   ],
   "source": [
    "N = int(input())\n",
    "M = []\n",
    "PE = []\n",
    "for i in range(N):\n",
    "    m = int(input())\n",
    "    M.append(m)\n",
    "    pe = [list(map(int, input().split())) for _ in range(m)]\n",
    "    PE.append(pe)"
   ]
  },
  {
   "cell_type": "code",
   "execution_count": 4,
   "id": "b78f4f33-345e-4ae5-ac35-d01cf14c7421",
   "metadata": {},
   "outputs": [
    {
     "data": {
      "text/plain": [
       "[[[7, 2]], [[2, 2], [5, 1]], [[5, 1]], [[2, 1], [7, 1]]]"
      ]
     },
     "execution_count": 4,
     "metadata": {},
     "output_type": "execute_result"
    }
   ],
   "source": []
  },
  {
   "cell_type": "code",
   "execution_count": null,
   "id": "67bb391d-ab68-46ec-a84f-116e837ad620",
   "metadata": {},
   "outputs": [],
   "source": []
  }
 ],
 "metadata": {
  "kernelspec": {
   "display_name": "Python 3 (ipykernel)",
   "language": "python",
   "name": "python3"
  },
  "language_info": {
   "codemirror_mode": {
    "name": "ipython",
    "version": 3
   },
   "file_extension": ".py",
   "mimetype": "text/x-python",
   "name": "python",
   "nbconvert_exporter": "python",
   "pygments_lexer": "ipython3",
   "version": "3.9.13"
  }
 },
 "nbformat": 4,
 "nbformat_minor": 5
}
