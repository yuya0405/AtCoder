{
 "cells": [
  {
   "cell_type": "code",
   "execution_count": 44,
   "id": "e8e236ad-c023-4f97-9415-ef8b77bf96c3",
   "metadata": {},
   "outputs": [
    {
     "name": "stdin",
     "output_type": "stream",
     "text": [
      " -10 2 2\n"
     ]
    }
   ],
   "source": [
    "X, K, D = map(int, input().split())"
   ]
  },
  {
   "cell_type": "code",
   "execution_count": 45,
   "id": "7f1dad3e-3748-4bff-a388-41a7766b2100",
   "metadata": {},
   "outputs": [],
   "source": [
    "count = abs(X)//D\n",
    "count = min(K, count)\n",
    "K -= count\n",
    "if X >= 0:\n",
    "    X -= D * count \n",
    "else:\n",
    "    X += D * count"
   ]
  },
  {
   "cell_type": "code",
   "execution_count": 48,
   "id": "c10270b3-9205-4feb-9158-588f2208fe62",
   "metadata": {},
   "outputs": [
    {
     "name": "stdout",
     "output_type": "stream",
     "text": [
      "6\n"
     ]
    }
   ],
   "source": [
    "if K%2==0:\n",
    "    print (abs(X))\n",
    "elif X>=0:\n",
    "    print (abs(X-D))\n",
    "else:\n",
    "    print (abs((X+D)))"
   ]
  },
  {
   "cell_type": "code",
   "execution_count": null,
   "id": "2ba181ad-31bd-4112-9de3-a8d8735aa3aa",
   "metadata": {},
   "outputs": [],
   "source": []
  }
 ],
 "metadata": {
  "kernelspec": {
   "display_name": "Python 3",
   "language": "python",
   "name": "python3"
  },
  "language_info": {
   "codemirror_mode": {
    "name": "ipython",
    "version": 3
   },
   "file_extension": ".py",
   "mimetype": "text/x-python",
   "name": "python",
   "nbconvert_exporter": "python",
   "pygments_lexer": "ipython3",
   "version": "3.8.8"
  }
 },
 "nbformat": 4,
 "nbformat_minor": 5
}
