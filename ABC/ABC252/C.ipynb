{
 "cells": [
  {
   "cell_type": "code",
   "execution_count": 67,
   "id": "cb91a3bf-6c42-4939-bb3e-4babc58dc8cd",
   "metadata": {},
   "outputs": [
    {
     "name": "stdin",
     "output_type": "stream",
     "text": [
      " 3\n",
      " 1937458062\n",
      " 8124690357\n",
      " 2385760149\n"
     ]
    },
    {
     "name": "stdout",
     "output_type": "stream",
     "text": [
      "6\n"
     ]
    }
   ],
   "source": [
    "N = int(input())\n",
    "S = [input() for _ in range(N)]\n",
    "\n",
    "d = [{} for _ in range(N)]\n",
    "for i in range(N):  \n",
    "    for j, s in enumerate(str(S[i])):\n",
    "        d[i][s] = j\n",
    "\n",
    "num = [0]*10\n",
    "for i in range(0, 10):\n",
    "    tmp = []\n",
    "    for j in range(N):\n",
    "        t = d[j][str(i)]\n",
    "        while(t in tmp):\n",
    "            t += 10\n",
    "        tmp.append(t)\n",
    "    num[i] = max(tmp)\n",
    "print (min(num))"
   ]
  },
  {
   "cell_type": "code",
   "execution_count": null,
   "id": "799ee9a3-d623-4ce3-9d05-2fb2af270e9e",
   "metadata": {},
   "outputs": [],
   "source": []
  }
 ],
 "metadata": {
  "kernelspec": {
   "display_name": "Python 3 (ipykernel)",
   "language": "python",
   "name": "python3"
  },
  "language_info": {
   "codemirror_mode": {
    "name": "ipython",
    "version": 3
   },
   "file_extension": ".py",
   "mimetype": "text/x-python",
   "name": "python",
   "nbconvert_exporter": "python",
   "pygments_lexer": "ipython3",
   "version": "3.9.12"
  }
 },
 "nbformat": 4,
 "nbformat_minor": 5
}
