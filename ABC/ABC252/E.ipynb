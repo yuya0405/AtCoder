{
 "cells": [
  {
   "cell_type": "code",
   "execution_count": 55,
   "id": "45f78903-07d9-4e1f-acdf-abe24fa1effc",
   "metadata": {},
   "outputs": [
    {
     "name": "stdin",
     "output_type": "stream",
     "text": [
      " 3 3\n",
      " 1 2 1\n",
      " 2 3 2\n",
      " 1 3 10\n"
     ]
    },
    {
     "name": "stdout",
     "output_type": "stream",
     "text": [
      "1 2\n"
     ]
    }
   ],
   "source": [
    "N, M = map(int, input().split())\n",
    "ABC = [list(map(int, input().split())) for _ in range(M)]\n",
    "\n",
    "# クラスカル法\n",
    "\n",
    "from collections import defaultdict\n",
    "\n",
    "class UnionFind():\n",
    "    def __init__(self, n):\n",
    "        self.n = n\n",
    "        self.parents = [-1] * n\n",
    "\n",
    "    def find(self, x):\n",
    "        if self.parents[x] < 0:\n",
    "            return x\n",
    "        else:\n",
    "            self.parents[x] = self.find(self.parents[x])\n",
    "            return self.parents[x]\n",
    "\n",
    "    def union(self, x, y):\n",
    "        x = self.find(x)\n",
    "        y = self.find(y)\n",
    "\n",
    "        if x == y:\n",
    "            return\n",
    "\n",
    "        if self.parents[x] > self.parents[y]:\n",
    "            x, y = y, x\n",
    "\n",
    "        self.parents[x] += self.parents[y]\n",
    "        self.parents[y] = x\n",
    "\n",
    "    def size(self, x):\n",
    "        return -self.parents[self.find(x)]\n",
    "\n",
    "    def same(self, x, y):\n",
    "        return self.find(x) == self.find(y)\n",
    "\n",
    "    def members(self, x):\n",
    "        root = self.find(x)\n",
    "        return [i for i in range(self.n) if self.find(i) == root]\n",
    "\n",
    "    def roots(self):\n",
    "        return [i for i, x in enumerate(self.parents) if x < 0]\n",
    "\n",
    "    def group_count(self):\n",
    "        return len(self.roots())\n",
    "\n",
    "    def all_group_members(self):\n",
    "        group_members = defaultdict(list)\n",
    "        for member in range(self.n):\n",
    "            group_members[self.find(member)].append(member)\n",
    "        return group_members\n",
    "\n",
    "    def __str__(self):\n",
    "        return '\\n'.join(f'{r}: {m}' for r, m in self.all_group_members().items())\n",
    "\n",
    "def kruskal(V, STW):\n",
    "    uf = UnionFind(V)\n",
    "    \n",
    "    edges = []\n",
    "    for s, t, w in STW:\n",
    "        edges.append((w, s-1, t-1))\n",
    "\n",
    "    edges.sort()\n",
    "    \n",
    "    cost = 0\n",
    "    \n",
    "    ans = []\n",
    "    \n",
    "    for edge in edges:\n",
    "        w, s, t = edge\n",
    "        if not uf.same(s, t):\n",
    "            cost += w # 重みを足し\n",
    "            uf.union(s, t) # 頂点同士をつなげる\n",
    "            ans.append((s, t))\n",
    "    \n",
    "    return ans\n",
    "\n",
    "ans = kruskal(N, ABC)\n",
    "\n",
    "roads = []\n",
    "for an in ans:\n",
    "    tmp = [a+1 for a in an]\n",
    "    for i , abc in enumerate(ABC):\n",
    "        if abc[0] == tmp[0] and abc[1] == tmp[1]:\n",
    "            roads.append(i+1)\n",
    "print (*roads)"
   ]
  },
  {
   "cell_type": "code",
   "execution_count": null,
   "id": "9cb67434-7f97-4403-bfdb-5a5f69f83144",
   "metadata": {},
   "outputs": [],
   "source": []
  }
 ],
 "metadata": {
  "kernelspec": {
   "display_name": "Python 3 (ipykernel)",
   "language": "python",
   "name": "python3"
  },
  "language_info": {
   "codemirror_mode": {
    "name": "ipython",
    "version": 3
   },
   "file_extension": ".py",
   "mimetype": "text/x-python",
   "name": "python",
   "nbconvert_exporter": "python",
   "pygments_lexer": "ipython3",
   "version": "3.9.12"
  }
 },
 "nbformat": 4,
 "nbformat_minor": 5
}
