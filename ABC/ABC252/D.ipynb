{
 "cells": [
  {
   "cell_type": "code",
   "execution_count": 43,
   "id": "eb5c6c9a-2d31-4570-8001-bce35295545b",
   "metadata": {},
   "outputs": [
    {
     "name": "stdin",
     "output_type": "stream",
     "text": [
      " 15\n",
      " 1 2 3 4 5 6 7 8 9 10 11 12 12 12 12\n"
     ]
    },
    {
     "name": "stdout",
     "output_type": "stream",
     "text": [
      "385\n"
     ]
    }
   ],
   "source": [
    "N = int(input())\n",
    "A = list(map(int, input().split()))\n",
    "\n",
    "import math\n",
    "def combinations_count(n, r):\n",
    "    return math.factorial(n) // (math.factorial(n - r) * math.factorial(r))\n",
    "\n",
    "all_num = combinations_count(N, 3)\n",
    "\n",
    "from collections import Counter\n",
    "duplicate_nums = list(Counter(A).values())\n",
    "\n",
    "minus_num = 0\n",
    "for d in duplicate_nums:\n",
    "    if d == 1:\n",
    "        pass\n",
    "    elif d == 2:\n",
    "        minus_num += N-d\n",
    "    else:\n",
    "        minus_num += combinations_count(d, 2)*(N-d)\n",
    "        minus_num += combinations_count(d, 3)*1\n",
    "\n",
    "print (all_num - minus_num)"
   ]
  }
 ],
 "metadata": {
  "kernelspec": {
   "display_name": "Python 3 (ipykernel)",
   "language": "python",
   "name": "python3"
  },
  "language_info": {
   "codemirror_mode": {
    "name": "ipython",
    "version": 3
   },
   "file_extension": ".py",
   "mimetype": "text/x-python",
   "name": "python",
   "nbconvert_exporter": "python",
   "pygments_lexer": "ipython3",
   "version": "3.9.12"
  }
 },
 "nbformat": 4,
 "nbformat_minor": 5
}
