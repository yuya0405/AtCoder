{
 "cells": [
  {
   "cell_type": "code",
   "execution_count": 86,
   "id": "e81f3f0a-ee7b-4afc-a521-7195b3f29e24",
   "metadata": {},
   "outputs": [
    {
     "name": "stdin",
     "output_type": "stream",
     "text": [
      " 3\n"
     ]
    },
    {
     "name": "stdout",
     "output_type": "stream",
     "text": [
      "[1]\n",
      "1 1\n",
      "[1, 2, 4]\n",
      "2 2\n",
      "[1, 3, 9]\n",
      "3 3\n",
      "3\n"
     ]
    }
   ],
   "source": [
    "N = int(input())\n",
    "\n",
    "num = 1\n",
    "keys = []\n",
    "heihous = []\n",
    "while(num**2 <= N*N):\n",
    "    heihous.append(num**2)\n",
    "    keys.append(num)\n",
    "    num += 1\n",
    "\n",
    "# 約数を高速で列挙（計算量O(sqrt(N))）\n",
    "\n",
    "def make_divisors(n):\n",
    "    lower_divisors , upper_divisors = [], []\n",
    "    i = 1\n",
    "    while i*i <= n:\n",
    "        if n % i == 0:\n",
    "            lower_divisors.append(i)\n",
    "            if i != n // i:\n",
    "                upper_divisors.append(n//i)\n",
    "        i += 1\n",
    "    return lower_divisors + upper_divisors[::-1]\n",
    "\n",
    "ans = 0\n",
    "for key, heihou in zip(keys, heihous):\n",
    "    print (make_divisors(heihou))\n",
    "    for num in make_divisors(heihou):\n",
    "        if num <= N and heihou//num <= N:\n",
    "            print (num, heihou//num)\n",
    "            ans += 1\n",
    "print (ans)"
   ]
  },
  {
   "cell_type": "code",
   "execution_count": null,
   "id": "168bf120-10dc-4736-b9a3-e10fe3e3659c",
   "metadata": {},
   "outputs": [],
   "source": []
  },
  {
   "cell_type": "code",
   "execution_count": null,
   "id": "3f0cfad6-6bb3-4d94-9bb9-4f1b0ec4ec5d",
   "metadata": {},
   "outputs": [],
   "source": []
  }
 ],
 "metadata": {
  "kernelspec": {
   "display_name": "Python 3 (ipykernel)",
   "language": "python",
   "name": "python3"
  },
  "language_info": {
   "codemirror_mode": {
    "name": "ipython",
    "version": 3
   },
   "file_extension": ".py",
   "mimetype": "text/x-python",
   "name": "python",
   "nbconvert_exporter": "python",
   "pygments_lexer": "ipython3",
   "version": "3.9.12"
  }
 },
 "nbformat": 4,
 "nbformat_minor": 5
}
