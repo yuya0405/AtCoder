{
 "cells": [
  {
   "cell_type": "code",
   "execution_count": 1,
   "id": "dfdba0ec-c8ec-4469-91f7-59e5fc987b5d",
   "metadata": {},
   "outputs": [
    {
     "name": "stdin",
     "output_type": "stream",
     "text": [
      " 6 5\n",
      " 2 3\n",
      " 3 4\n",
      " 3 5\n",
      " 5 6\n",
      " 2 6\n",
      " 7\n",
      " 1 1\n",
      " 2 2\n",
      " 2 0\n",
      " 2 3\n",
      " 4 1\n",
      " 6 0\n",
      " 4 3\n"
     ]
    }
   ],
   "source": [
    "N, M = map(int, input().split())\n",
    "AB = [list(map(int, input().split())) for _ in range(M)]\n",
    "Q = int(input())\n",
    "XK = [list(map(int, input().split())) for _ in range(Q)]"
   ]
  },
  {
   "cell_type": "code",
   "execution_count": 37,
   "id": "1b431989-7f26-4f12-b97f-d34a7858d2e7",
   "metadata": {},
   "outputs": [
    {
     "data": {
      "text/plain": [
       "[set(), {3, 6}, {2, 4, 5}, {3}, {3, 6}, {2, 5}]"
      ]
     },
     "execution_count": 37,
     "metadata": {},
     "output_type": "execute_result"
    }
   ],
   "source": [
    "G = [set() for i in range(N)]\n",
    "for a, b in AB:\n",
    "    G[a-1].add(b)\n",
    "    G[b-1].add(a)\n",
    "G"
   ]
  },
  {
   "cell_type": "code",
   "execution_count": 45,
   "id": "71f70b05-dd2b-405c-ad14-36ef4e97c65f",
   "metadata": {},
   "outputs": [],
   "source": [
    "from collections import defaultdict\n",
    "d0 = defaultdict(set)\n",
    "d1 = defaultdict(set)\n",
    "d2 = defaultdict(set)\n",
    "d3 = defaultdict(set)"
   ]
  },
  {
   "cell_type": "code",
   "execution_count": 53,
   "id": "3f779e61-e6fd-449f-8172-a2801dcf1da1",
   "metadata": {},
   "outputs": [
    {
     "data": {
      "text/plain": [
       "defaultdict(set, {1: {1}, 2: {2}, 3: {3}, 4: {4}, 5: {5}, 6: {6}})"
      ]
     },
     "execution_count": 53,
     "metadata": {},
     "output_type": "execute_result"
    }
   ],
   "source": [
    "for i in range(N):\n",
    "    d0[i+1] = {i+1}\n",
    "d0"
   ]
  },
  {
   "cell_type": "code",
   "execution_count": 54,
   "id": "382f98ec-99c0-47ef-9f9a-0aed9d0209c7",
   "metadata": {},
   "outputs": [
    {
     "data": {
      "text/plain": [
       "defaultdict(set,\n",
       "            {1: {1},\n",
       "             2: {2, 3, 6},\n",
       "             3: {2, 3, 4, 5},\n",
       "             4: {3, 4},\n",
       "             5: {3, 5, 6},\n",
       "             6: {2, 5, 6},\n",
       "             0: set()})"
      ]
     },
     "execution_count": 54,
     "metadata": {},
     "output_type": "execute_result"
    }
   ],
   "source": [
    "for i in range(N):\n",
    "    d1[i+1] = d0[i+1] | G[i]\n",
    "d1"
   ]
  },
  {
   "cell_type": "code",
   "execution_count": 55,
   "id": "c2e0411d-e818-49a7-8588-28b2f195359d",
   "metadata": {},
   "outputs": [
    {
     "data": {
      "text/plain": [
       "defaultdict(set,\n",
       "            {1: {1, 2, 3, 6},\n",
       "             2: {2, 3, 4, 5, 6},\n",
       "             3: {2, 3, 4, 5, 6},\n",
       "             4: {2, 3, 4, 5, 6},\n",
       "             5: {2, 3, 4, 5, 6},\n",
       "             6: {2, 3, 4, 5, 6}})"
      ]
     },
     "execution_count": 55,
     "metadata": {},
     "output_type": "execute_result"
    }
   ],
   "source": [
    "for i in range(N):\n",
    "    for j in d1[i+1]:\n",
    "        d2[i+1] = d2[i+1] | d1[j+1]\n",
    "d2"
   ]
  },
  {
   "cell_type": "code",
   "execution_count": 34,
   "id": "d9520c8b-64ef-45ca-9a1f-e437ac69a5c3",
   "metadata": {},
   "outputs": [
    {
     "data": {
      "text/plain": [
       "defaultdict(set,\n",
       "            {0: {0},\n",
       "             1: {1, 2, 3, 4, 5},\n",
       "             2: {1, 2, 3, 4, 5},\n",
       "             3: {1, 2, 3, 4, 5},\n",
       "             4: {1, 2, 3, 4, 5},\n",
       "             5: {1, 2, 3, 4, 5}})"
      ]
     },
     "execution_count": 34,
     "metadata": {},
     "output_type": "execute_result"
    }
   ],
   "source": [
    "for i in range(N):\n",
    "    for j in d1[i]:\n",
    "        d3[i] = d3[i] | d2[j]\n",
    "d3"
   ]
  },
  {
   "cell_type": "code",
   "execution_count": 3,
   "id": "bf80d878-3d1a-4d43-ba69-07d0961a7c06",
   "metadata": {},
   "outputs": [
    {
     "name": "stdout",
     "output_type": "stream",
     "text": [
      "1 1\n",
      "{1}\n"
     ]
    },
    {
     "ename": "NameError",
     "evalue": "name 'c' is not defined",
     "output_type": "error",
     "traceback": [
      "\u001b[0;31m---------------------------------------------------------------------------\u001b[0m",
      "\u001b[0;31mNameError\u001b[0m                                 Traceback (most recent call last)",
      "Input \u001b[0;32mIn [3]\u001b[0m, in \u001b[0;36m<cell line: 1>\u001b[0;34m()\u001b[0m\n\u001b[1;32m      4\u001b[0m \u001b[38;5;28;01mfor\u001b[39;00m _ \u001b[38;5;129;01min\u001b[39;00m \u001b[38;5;28mrange\u001b[39m(k):\n\u001b[1;32m      5\u001b[0m     \u001b[38;5;28mprint\u001b[39m (candidate)\n\u001b[0;32m----> 6\u001b[0m     candidate \u001b[38;5;241m=\u001b[39m candidate \u001b[38;5;129;01mand\u001b[39;00m G[\u001b[43mc\u001b[49m]\n\u001b[1;32m      7\u001b[0m     \u001b[38;5;28mprint\u001b[39m (candidate)\n\u001b[1;32m      8\u001b[0m \u001b[38;5;28mprint\u001b[39m (candidate)\n",
      "\u001b[0;31mNameError\u001b[0m: name 'c' is not defined"
     ]
    }
   ],
   "source": [
    "for x, k in XK:\n",
    "    if k == 0:\n",
    "        tmp = d0\n",
    "    elif k == 1:\n",
    "        tmp = d1\n",
    "    elif k == 2:\n",
    "        tmp = d2\n",
    "    else:\n",
    "        tmp = d3\n",
    "    "
   ]
  },
  {
   "cell_type": "code",
   "execution_count": 10,
   "id": "6ec2ecee-8846-443c-90a5-5d1c338efbf8",
   "metadata": {},
   "outputs": [
    {
     "data": {
      "text/plain": [
       "{2, 3, 4, 5}"
      ]
     },
     "execution_count": 10,
     "metadata": {},
     "output_type": "execute_result"
    }
   ],
   "source": [
    "{2, 3} | {4, 5}"
   ]
  },
  {
   "cell_type": "code",
   "execution_count": null,
   "id": "f3e4a91c-a1e5-4feb-b7a2-c6ddc8868b2b",
   "metadata": {},
   "outputs": [],
   "source": []
  }
 ],
 "metadata": {
  "kernelspec": {
   "display_name": "Python 3 (ipykernel)",
   "language": "python",
   "name": "python3"
  },
  "language_info": {
   "codemirror_mode": {
    "name": "ipython",
    "version": 3
   },
   "file_extension": ".py",
   "mimetype": "text/x-python",
   "name": "python",
   "nbconvert_exporter": "python",
   "pygments_lexer": "ipython3",
   "version": "3.9.12"
  }
 },
 "nbformat": 4,
 "nbformat_minor": 5
}
