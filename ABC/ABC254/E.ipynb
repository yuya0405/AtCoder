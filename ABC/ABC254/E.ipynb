{
 "cells": [
  {
   "cell_type": "code",
   "execution_count": 1,
   "id": "dfdba0ec-c8ec-4469-91f7-59e5fc987b5d",
   "metadata": {},
   "outputs": [
    {
     "name": "stdin",
     "output_type": "stream",
     "text": [
      " 6 5\n",
      " 2 3\n",
      " 3 4\n",
      " 3 5\n",
      " 5 6\n",
      " 2 6\n",
      " 7\n",
      " 1 1\n",
      " 2 2\n",
      " 2 0\n",
      " 2 3\n",
      " 4 1\n",
      " 6 0\n",
      " 4 3\n"
     ]
    }
   ],
   "source": [
    "N, M = map(int, input().split())\n",
    "AB = [list(map(int, input().split())) for _ in range(M)]\n",
    "Q = int(input())\n",
    "XK = [list(map(int, input().split())) for _ in range(Q)]"
   ]
  },
  {
   "cell_type": "code",
   "execution_count": 48,
   "id": "1b431989-7f26-4f12-b97f-d34a7858d2e7",
   "metadata": {},
   "outputs": [
    {
     "data": {
      "text/plain": [
       "[set(), {2, 5}, {1, 3, 4}, {2}, {2, 5}, {1, 4}]"
      ]
     },
     "execution_count": 48,
     "metadata": {},
     "output_type": "execute_result"
    }
   ],
   "source": [
    "G = [set() for i in range(N)]\n",
    "for a, b in AB:\n",
    "    G[a-1].add(b-1)\n",
    "    G[b-1].add(a-1)\n",
    "G"
   ]
  },
  {
   "cell_type": "code",
   "execution_count": 51,
   "id": "bf80d878-3d1a-4d43-ba69-07d0961a7c06",
   "metadata": {},
   "outputs": [
    {
     "name": "stdout",
     "output_type": "stream",
     "text": [
      "1 1\n",
      "{1}\n",
      "{2, 5}\n",
      "{2, 5}\n",
      "2 2\n",
      "{2}\n",
      "{2, 5}\n",
      "{2, 5}\n",
      "{2, 5}\n",
      "{2, 5}\n",
      "2 0\n",
      "{2}\n",
      "2 3\n",
      "{2}\n",
      "{2, 5}\n",
      "{2, 5}\n",
      "{2, 5}\n",
      "{2, 5}\n",
      "{2, 5}\n",
      "{2, 5}\n",
      "4 1\n",
      "{4}\n",
      "{2, 5}\n",
      "{2, 5}\n",
      "6 0\n",
      "{6}\n",
      "4 3\n",
      "{4}\n",
      "{2, 5}\n",
      "{2, 5}\n",
      "{2, 5}\n",
      "{2, 5}\n",
      "{2, 5}\n",
      "{2, 5}\n"
     ]
    }
   ],
   "source": [
    "for x, k in XK:\n",
    "    print (x, k)\n",
    "    candidate = {x}\n",
    "    for _ in range(k):\n",
    "        print (candidate)\n",
    "        candidate = candidate and G[c]\n",
    "        print (candidate)\n",
    "    print (candidate)"
   ]
  },
  {
   "cell_type": "code",
   "execution_count": null,
   "id": "6ec2ecee-8846-443c-90a5-5d1c338efbf8",
   "metadata": {},
   "outputs": [],
   "source": []
  }
 ],
 "metadata": {
  "kernelspec": {
   "display_name": "Python 3 (ipykernel)",
   "language": "python",
   "name": "python3"
  },
  "language_info": {
   "codemirror_mode": {
    "name": "ipython",
    "version": 3
   },
   "file_extension": ".py",
   "mimetype": "text/x-python",
   "name": "python",
   "nbconvert_exporter": "python",
   "pygments_lexer": "ipython3",
   "version": "3.9.12"
  }
 },
 "nbformat": 4,
 "nbformat_minor": 5
}
