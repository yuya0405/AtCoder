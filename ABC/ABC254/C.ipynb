{
 "cells": [
  {
   "cell_type": "code",
   "execution_count": 56,
   "id": "dd54d000-745d-47f7-bd2f-1041d842bf08",
   "metadata": {},
   "outputs": [
    {
     "name": "stdin",
     "output_type": "stream",
     "text": [
      " 5 3\n",
      " 3 4 1 3 4\n"
     ]
    },
    {
     "name": "stdout",
     "output_type": "stream",
     "text": [
      "No\n"
     ]
    }
   ],
   "source": [
    "N, K = map(int, input().split())\n",
    "A = list(map(int, input().split()))\n",
    "\n",
    "if A[:K] == sorted(A[:K]) and A[-K:] == sorted(A[-K:]):\n",
    "    print (\"Yes\")\n",
    "else:\n",
    "    print (\"No\")"
   ]
  },
  {
   "cell_type": "code",
   "execution_count": 42,
   "id": "6f5d10a2-7649-41c6-a553-de41ad9cd656",
   "metadata": {},
   "outputs": [
    {
     "name": "stdin",
     "output_type": "stream",
     "text": [
      " 5 2\n",
      " 3 4 1 3 4\n"
     ]
    },
    {
     "name": "stdout",
     "output_type": "stream",
     "text": [
      "Yes\n"
     ]
    }
   ],
   "source": [
    "# def BubbleSort_K(num):\n",
    "#     for i in range(len(num)):\n",
    "#         for j in range(len(num)-1, i, -1):\n",
    "#             if j-K >= 0 and num[j] < num[j-K]:\n",
    "#                 num[j], num[j-K] = num[j-K], num[j]\n",
    "#     return num\n",
    "\n",
    "# ans = BubbleSort_K(A)\n",
    "# if ans == sorted(ans):\n",
    "#     print (\"Yes\")\n",
    "# else:\n",
    "#     print (\"No\")"
   ]
  }
 ],
 "metadata": {
  "kernelspec": {
   "display_name": "Python 3 (ipykernel)",
   "language": "python",
   "name": "python3"
  },
  "language_info": {
   "codemirror_mode": {
    "name": "ipython",
    "version": 3
   },
   "file_extension": ".py",
   "mimetype": "text/x-python",
   "name": "python",
   "nbconvert_exporter": "python",
   "pygments_lexer": "ipython3",
   "version": "3.9.12"
  }
 },
 "nbformat": 4,
 "nbformat_minor": 5
}
