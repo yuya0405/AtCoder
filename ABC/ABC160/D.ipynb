{
 "cells": [
  {
   "cell_type": "code",
   "execution_count": 57,
   "id": "a3eb8108-80b7-4acc-a301-aba2dd65a425",
   "metadata": {},
   "outputs": [
    {
     "name": "stdin",
     "output_type": "stream",
     "text": [
      " 7 3 7\n"
     ]
    }
   ],
   "source": [
    "N, X, Y = map(int, input().split())"
   ]
  },
  {
   "cell_type": "code",
   "execution_count": 63,
   "id": "6f08a2ea-8f79-4f50-b24a-fe060e1b6977",
   "metadata": {},
   "outputs": [
    {
     "name": "stdout",
     "output_type": "stream",
     "text": [
      "7\n",
      "8\n",
      "4\n",
      "2\n",
      "0\n",
      "0\n"
     ]
    }
   ],
   "source": [
    "from collections import defaultdict\n",
    "d = defaultdict(int)\n",
    "\n",
    "for i in range(1, N+1):\n",
    "    for j in range(i+1, N+1):\n",
    "        ans1 = j-i\n",
    "        ans2 = abs(X-i) + abs(Y-j) + 1\n",
    "        d[min(ans1, ans2)] += 1\n",
    "\n",
    "for k in range(1, N):\n",
    "    print (d[k])"
   ]
  },
  {
   "cell_type": "code",
   "execution_count": 34,
   "id": "0ef6e447-1be3-4150-8e4d-ebebe191c76f",
   "metadata": {},
   "outputs": [],
   "source": [
    "# TLE\n",
    "\n",
    "G = [[] for _ in range(N)]\n",
    "for i in range(N-1):\n",
    "    G[i].append(i+1)\n",
    "    G[i+1].append(i)\n",
    "G[X-1].append(Y-1)\n",
    "G[Y-1].append(X-1)\n",
    "G\n",
    "\n",
    "V = N\n",
    "STD = []\n",
    "for i, graph in enumerate(G):\n",
    "    for g in graph:\n",
    "        STD.append([i, g, 1])\n",
    "\n",
    "INF = float('inf')\n",
    "cost = [[INF]*V for _ in range(V)]\n",
    "for v in range(V):\n",
    "    cost[v][v] = 0\n",
    "for s, t, d in STD:\n",
    "    cost[s][t] = d\n",
    "\n",
    "for i in range(V): # 中継点\n",
    "    for j in range(V): # 始点\n",
    "        for k in range(V): # 終点\n",
    "            cost[j][k] = min(cost[j][i]+cost[i][k], cost[j][k])\n",
    "\n",
    "for i in range(1, N):\n",
    "    print (sum([co.count(i) for co in cost]) // 2)"
   ]
  },
  {
   "cell_type": "code",
   "execution_count": null,
   "id": "a19f8847-6b82-49c3-ac81-c0972e64f70a",
   "metadata": {},
   "outputs": [],
   "source": []
  }
 ],
 "metadata": {
  "kernelspec": {
   "display_name": "Python 3",
   "language": "python",
   "name": "python3"
  },
  "language_info": {
   "codemirror_mode": {
    "name": "ipython",
    "version": 3
   },
   "file_extension": ".py",
   "mimetype": "text/x-python",
   "name": "python",
   "nbconvert_exporter": "python",
   "pygments_lexer": "ipython3",
   "version": "3.8.8"
  }
 },
 "nbformat": 4,
 "nbformat_minor": 5
}
