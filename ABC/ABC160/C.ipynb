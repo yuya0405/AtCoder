{
 "cells": [
  {
   "cell_type": "code",
   "execution_count": 11,
   "id": "f97ee1d8-d582-424f-89fb-938dd15f9b7d",
   "metadata": {},
   "outputs": [
    {
     "name": "stdin",
     "output_type": "stream",
     "text": [
      " 20 3\n",
      " 0 5 15\n"
     ]
    }
   ],
   "source": [
    "K, N = map(int, input().split())\n",
    "A = list(map(int, input().split()))"
   ]
  },
  {
   "cell_type": "code",
   "execution_count": 12,
   "id": "c1b3f006-3cc6-43ef-a4c7-d42600807f2a",
   "metadata": {},
   "outputs": [
    {
     "data": {
      "text/plain": [
       "[5, 10, 5]"
      ]
     },
     "execution_count": 12,
     "metadata": {},
     "output_type": "execute_result"
    }
   ],
   "source": [
    "B = [A[i+1] - A[i] for i in range(N-1)]\n",
    "B.append(A[0] + K - A[-1])\n",
    "B"
   ]
  },
  {
   "cell_type": "code",
   "execution_count": 13,
   "id": "ac721d43-177b-491d-93fe-46e00153fcbb",
   "metadata": {},
   "outputs": [
    {
     "name": "stdout",
     "output_type": "stream",
     "text": [
      "10\n"
     ]
    }
   ],
   "source": [
    "print (K - max(B))"
   ]
  },
  {
   "cell_type": "code",
   "execution_count": null,
   "id": "9fcfa919-1808-4880-b882-ce67eec387d7",
   "metadata": {},
   "outputs": [],
   "source": []
  }
 ],
 "metadata": {
  "kernelspec": {
   "display_name": "Python 3",
   "language": "python",
   "name": "python3"
  },
  "language_info": {
   "codemirror_mode": {
    "name": "ipython",
    "version": 3
   },
   "file_extension": ".py",
   "mimetype": "text/x-python",
   "name": "python",
   "nbconvert_exporter": "python",
   "pygments_lexer": "ipython3",
   "version": "3.8.8"
  }
 },
 "nbformat": 4,
 "nbformat_minor": 5
}
