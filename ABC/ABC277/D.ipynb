{
 "cells": [
  {
   "cell_type": "code",
   "execution_count": 81,
   "id": "6791ebaa-2ce0-42a2-9e9f-1194544742bd",
   "metadata": {},
   "outputs": [
    {
     "name": "stdin",
     "output_type": "stream",
     "text": [
      " 9 9\n",
      " 0 1 2 3 4 5 6 7 8\n"
     ]
    }
   ],
   "source": [
    "N, M = map(int, input().split())\n",
    "A = list(map(int, input().split()))"
   ]
  },
  {
   "cell_type": "code",
   "execution_count": 82,
   "id": "b3b0d550-a7a5-4a96-8428-ccc5cc1b1733",
   "metadata": {},
   "outputs": [
    {
     "data": {
      "text/plain": [
       "[0, 1, 2, 3, 4, 5, 6, 7, 8]"
      ]
     },
     "execution_count": 82,
     "metadata": {},
     "output_type": "execute_result"
    }
   ],
   "source": [
    "A"
   ]
  },
  {
   "cell_type": "code",
   "execution_count": 83,
   "id": "67dc9966-f48d-4ecb-bd33-04ef23e601e4",
   "metadata": {},
   "outputs": [
    {
     "data": {
      "text/plain": [
       "Counter({0: 1, 1: 1, 2: 1, 3: 1, 4: 1, 5: 1, 6: 1, 7: 1, 8: 1})"
      ]
     },
     "execution_count": 83,
     "metadata": {},
     "output_type": "execute_result"
    }
   ],
   "source": [
    "import collections\n",
    "\n",
    "c = collections.Counter(A)\n",
    "c"
   ]
  },
  {
   "cell_type": "code",
   "execution_count": 84,
   "id": "cbebbc42-32bf-4b8e-b406-2110f5a6cb49",
   "metadata": {},
   "outputs": [
    {
     "data": {
      "text/plain": [
       "[1, 1, 1, 1, 1, 1, 1, 1, 1]"
      ]
     },
     "execution_count": 84,
     "metadata": {},
     "output_type": "execute_result"
    }
   ],
   "source": [
    "num = []\n",
    "for i in range(M):\n",
    "    num.append(c[i])\n",
    "num"
   ]
  },
  {
   "cell_type": "code",
   "execution_count": 85,
   "id": "ed427ab1-083e-45a9-9e63-8a5be9f1458e",
   "metadata": {},
   "outputs": [
    {
     "data": {
      "text/plain": [
       "36"
      ]
     },
     "execution_count": 85,
     "metadata": {},
     "output_type": "execute_result"
    }
   ],
   "source": [
    "S = 0\n",
    "for a in A:\n",
    "    S += a\n",
    "S"
   ]
  },
  {
   "cell_type": "code",
   "execution_count": 86,
   "id": "17d10bdf-dd7e-491b-94b4-e4e48994b87b",
   "metadata": {},
   "outputs": [
    {
     "data": {
      "text/plain": [
       "[0, 1, 2, 3, 4, 5, 6, 7, 8, 0, 1, 2, 3, 4, 5, 6, 7, 8]"
      ]
     },
     "execution_count": 86,
     "metadata": {},
     "output_type": "execute_result"
    }
   ],
   "source": [
    "keys_2 = list(range(M)) + list(range(M))\n",
    "keys_2"
   ]
  },
  {
   "cell_type": "code",
   "execution_count": 87,
   "id": "04876adf-e588-4277-ac84-49b5e8281196",
   "metadata": {},
   "outputs": [
    {
     "data": {
      "text/plain": [
       "[1, 1, 1, 1, 1, 1, 1, 1, 1, 1, 1, 1, 1, 1, 1, 1, 1, 1]"
      ]
     },
     "execution_count": 87,
     "metadata": {},
     "output_type": "execute_result"
    }
   ],
   "source": [
    "values_2 = num + num\n",
    "values_2"
   ]
  },
  {
   "cell_type": "code",
   "execution_count": 92,
   "id": "0545093f-d401-4d38-9fcb-90712949c6d8",
   "metadata": {},
   "outputs": [],
   "source": [
    "ans = float('inf')\n",
    "# tmp_list = []\n",
    "hikizan = 0\n",
    "for i, v in enumerate(values_2):\n",
    "    if v != 0:\n",
    "        hikizan += keys_2[i] * values_2[i]\n",
    "    else:\n",
    "        tmp = S - hikizan\n",
    "        # print (tmp)\n",
    "        if tmp < 0:\n",
    "            print (0)\n",
    "            exit()\n",
    "        else:\n",
    "            ans = min(ans, tmp)\n",
    "        \n",
    "        tmp_list = []\n",
    "        \n",
    "# print (tmp_list)\n",
    "\n",
    "tmp = S - hikizan\n",
    "# print (tmp)\n",
    "if tmp < 0:\n",
    "    print (0)\n",
    "    exit()\n",
    "else:\n",
    "    ans = min(ans, tmp)\n",
    "\n",
    "tmp_list = []"
   ]
  },
  {
   "cell_type": "code",
   "execution_count": 93,
   "id": "b2ec8359-b23b-4b17-b694-e09004b6e14e",
   "metadata": {},
   "outputs": [
    {
     "name": "stdout",
     "output_type": "stream",
     "text": [
      "0\n"
     ]
    }
   ],
   "source": [
    "print (ans)"
   ]
  },
  {
   "cell_type": "code",
   "execution_count": null,
   "id": "f6a61fb6-c6f1-487b-b79d-5a540241b1b5",
   "metadata": {},
   "outputs": [],
   "source": []
  }
 ],
 "metadata": {
  "kernelspec": {
   "display_name": "Python 3 (ipykernel)",
   "language": "python",
   "name": "python3"
  },
  "language_info": {
   "codemirror_mode": {
    "name": "ipython",
    "version": 3
   },
   "file_extension": ".py",
   "mimetype": "text/x-python",
   "name": "python",
   "nbconvert_exporter": "python",
   "pygments_lexer": "ipython3",
   "version": "3.8.13"
  }
 },
 "nbformat": 4,
 "nbformat_minor": 5
}
