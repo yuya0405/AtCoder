{
 "cells": [
  {
   "cell_type": "code",
   "execution_count": 2,
   "id": "39aad4cd-b141-44dd-ac25-a743900b8cf3",
   "metadata": {},
   "outputs": [
    {
     "name": "stdin",
     "output_type": "stream",
     "text": [
      " 1\n",
      " PS\n"
     ]
    }
   ],
   "source": [
    "N = int(input())\n",
    "S = [input() for _ in range(N)]"
   ]
  },
  {
   "cell_type": "code",
   "execution_count": 5,
   "id": "f0bc688d-0d98-4c65-8a08-cc114f9825a2",
   "metadata": {},
   "outputs": [
    {
     "name": "stdout",
     "output_type": "stream",
     "text": [
      "No\n",
      "No\n",
      "Yes\n"
     ]
    }
   ],
   "source": [
    "import collections\n",
    "\n",
    "for s in S:\n",
    "    \n",
    "    if s[0] not in [\"H\", \"D\", \"C\", \"S\"]:\n",
    "        print (\"No\")\n",
    "        exit()\n",
    "    \n",
    "    if s[1] not in [\"A\", \"2\", \"3\", \"4\", \"5\", \"6\", \"7\", \"8\", \"9\", \"T\", \"J\", \"Q\", \"K\"]:\n",
    "        print (\"No\")\n",
    "        exit()\n",
    "    \n",
    "    c = collections.Counter(S)\n",
    "    c_values = list(c.values())\n",
    "    \n",
    "    for tmp in c_values:\n",
    "        if tmp > 1:\n",
    "            print (\"No\")\n",
    "            exit()\n",
    "print (\"Yes\")"
   ]
  },
  {
   "cell_type": "code",
   "execution_count": null,
   "id": "7e122c73-e59e-40f6-8fac-24a980f40e02",
   "metadata": {},
   "outputs": [],
   "source": []
  }
 ],
 "metadata": {
  "kernelspec": {
   "display_name": "Python 3 (ipykernel)",
   "language": "python",
   "name": "python3"
  },
  "language_info": {
   "codemirror_mode": {
    "name": "ipython",
    "version": 3
   },
   "file_extension": ".py",
   "mimetype": "text/x-python",
   "name": "python",
   "nbconvert_exporter": "python",
   "pygments_lexer": "ipython3",
   "version": "3.8.13"
  }
 },
 "nbformat": 4,
 "nbformat_minor": 5
}
