{
 "cells": [
  {
   "cell_type": "code",
   "execution_count": 1,
   "id": "5ba4266a-dd3e-4c41-9d5d-135d0378cb9e",
   "metadata": {},
   "outputs": [
    {
     "name": "stdin",
     "output_type": "stream",
     "text": [
      " 4\n",
      " 1 4\n",
      " 4 3\n",
      " 4 10\n",
      " 8 3\n"
     ]
    }
   ],
   "source": [
    "N = int(input())\n",
    "AB = [list(map(int, input().split())) for _ in range(N)]"
   ]
  },
  {
   "cell_type": "code",
   "execution_count": 59,
   "id": "f526a2b8-f0a1-4267-aa4c-3de16fb684a0",
   "metadata": {},
   "outputs": [
    {
     "data": {
      "text/plain": [
       "4"
      ]
     },
     "execution_count": 59,
     "metadata": {},
     "output_type": "execute_result"
    }
   ],
   "source": [
    "N"
   ]
  },
  {
   "cell_type": "code",
   "execution_count": 60,
   "id": "f94243f3-413b-4a3f-b7dc-30905cc2c18d",
   "metadata": {},
   "outputs": [
    {
     "data": {
      "text/plain": [
       "[[1, 4], [4, 3], [4, 10], [8, 3]]"
      ]
     },
     "execution_count": 60,
     "metadata": {},
     "output_type": "execute_result"
    }
   ],
   "source": [
    "AB"
   ]
  },
  {
   "cell_type": "code",
   "execution_count": 61,
   "id": "cdb50256-ae3a-4b96-82f9-b546538b3608",
   "metadata": {},
   "outputs": [
    {
     "data": {
      "text/plain": [
       "[1, 4, 4, 3, 4, 10, 8, 3]"
      ]
     },
     "execution_count": 61,
     "metadata": {},
     "output_type": "execute_result"
    }
   ],
   "source": [
    "C = []\n",
    "for a, b in AB:\n",
    "    C.append(a)\n",
    "    C.append(b)\n",
    "C"
   ]
  },
  {
   "cell_type": "code",
   "execution_count": 62,
   "id": "459bef8b-e6a6-49e1-89a5-f18dbf3d5eef",
   "metadata": {},
   "outputs": [
    {
     "data": {
      "text/plain": [
       "[0, 2, 2, 1, 2, 4, 3, 1]"
      ]
     },
     "execution_count": 62,
     "metadata": {},
     "output_type": "execute_result"
    }
   ],
   "source": [
    "# 集合型にすることで重複を除去し、\n",
    "# 小さい順にソートする\n",
    "B = sorted(set(C))\n",
    "\n",
    "D = { v: i for i, v in enumerate(B) }\n",
    "D_rev = { i: v for i, v in enumerate(B) }\n",
    "\n",
    "# 答え\n",
    "C_compress = []\n",
    "for i in range(len(C)):\n",
    "    C_compress.append(D[C[i]])\n",
    "C_compress"
   ]
  },
  {
   "cell_type": "code",
   "execution_count": 76,
   "id": "7e886eb7-7af9-45ea-b8dd-2500caaa5b0b",
   "metadata": {},
   "outputs": [
    {
     "data": {
      "text/plain": [
       "4"
      ]
     },
     "execution_count": 76,
     "metadata": {},
     "output_type": "execute_result"
    }
   ],
   "source": [
    "N_max = max(C_compress)\n",
    "N_max"
   ]
  },
  {
   "cell_type": "code",
   "execution_count": 63,
   "id": "632f3812-5f0c-4685-917d-b0b54714675f",
   "metadata": {},
   "outputs": [
    {
     "data": {
      "text/plain": [
       "{1: 0, 3: 1, 4: 2, 8: 3, 10: 4}"
      ]
     },
     "execution_count": 63,
     "metadata": {},
     "output_type": "execute_result"
    }
   ],
   "source": [
    "D"
   ]
  },
  {
   "cell_type": "code",
   "execution_count": 64,
   "id": "7f84b313-1805-497c-87e8-4b9cab856f35",
   "metadata": {},
   "outputs": [
    {
     "data": {
      "text/plain": [
       "{0: 1, 1: 3, 2: 4, 3: 8, 4: 10}"
      ]
     },
     "execution_count": 64,
     "metadata": {},
     "output_type": "execute_result"
    }
   ],
   "source": [
    "D_rev"
   ]
  },
  {
   "cell_type": "code",
   "execution_count": 65,
   "id": "3f2b3539-27f3-47d9-b40c-f7970c236b94",
   "metadata": {},
   "outputs": [
    {
     "data": {
      "text/plain": [
       "[[0, 2], [2, 1], [2, 4], [3, 1]]"
      ]
     },
     "execution_count": 65,
     "metadata": {},
     "output_type": "execute_result"
    }
   ],
   "source": [
    "AB_compress = []\n",
    "tmp = []\n",
    "for c in C_compress:\n",
    "    tmp.append(c)\n",
    "    if len(tmp) == 2:\n",
    "        AB_compress.append(tmp)\n",
    "        tmp = []\n",
    "AB_compress"
   ]
  },
  {
   "cell_type": "code",
   "execution_count": 66,
   "id": "bc737979-3a99-497a-8860-14182bcbca8d",
   "metadata": {},
   "outputs": [],
   "source": [
    "from collections import defaultdict\n",
    "\n",
    "class UnionFind():\n",
    "    def __init__(self, n):\n",
    "        self.n = n\n",
    "        self.parents = [-1] * n\n",
    "\n",
    "    def find(self, x):\n",
    "        if self.parents[x] < 0:\n",
    "            return x\n",
    "        else:\n",
    "            self.parents[x] = self.find(self.parents[x])\n",
    "            return self.parents[x]\n",
    "\n",
    "    def union(self, x, y):\n",
    "        x = self.find(x)\n",
    "        y = self.find(y)\n",
    "\n",
    "        if x == y:\n",
    "            return\n",
    "\n",
    "        if self.parents[x] > self.parents[y]:\n",
    "            x, y = y, x\n",
    "\n",
    "        self.parents[x] += self.parents[y]\n",
    "        self.parents[y] = x\n",
    "\n",
    "    def size(self, x):\n",
    "        return -self.parents[self.find(x)]\n",
    "\n",
    "    def same(self, x, y):\n",
    "        return self.find(x) == self.find(y)\n",
    "\n",
    "    def members(self, x):\n",
    "        root = self.find(x)\n",
    "        return [i for i in range(self.n) if self.find(i) == root]\n",
    "\n",
    "    def roots(self):\n",
    "        return [i for i, x in enumerate(self.parents) if x < 0]\n",
    "\n",
    "    def group_count(self):\n",
    "        return len(self.roots())\n",
    "\n",
    "    def all_group_members(self):\n",
    "        group_members = defaultdict(list)\n",
    "        for member in range(self.n):\n",
    "            group_members[self.find(member)].append(member)\n",
    "        return group_members\n",
    "\n",
    "    def __str__(self):\n",
    "        return '\\n'.join(f'{r}: {m}' for r, m in self.all_group_members().items())"
   ]
  },
  {
   "cell_type": "code",
   "execution_count": 77,
   "id": "702e3562-6df1-41f8-9c9c-3bb735ea122f",
   "metadata": {},
   "outputs": [
    {
     "data": {
      "text/plain": [
       "<__main__.UnionFind at 0x10efcc970>"
      ]
     },
     "execution_count": 77,
     "metadata": {},
     "output_type": "execute_result"
    }
   ],
   "source": [
    "uf = UnionFind(N_max+1)\n",
    "uf"
   ]
  },
  {
   "cell_type": "code",
   "execution_count": 78,
   "id": "6f3d6c60-644a-4f70-bf00-e9bccd76dd41",
   "metadata": {},
   "outputs": [],
   "source": [
    "if 1 not in C:\n",
    "    print (1)\n",
    "    exit()"
   ]
  },
  {
   "cell_type": "code",
   "execution_count": 82,
   "id": "714cc0f4-cfd0-4ccf-b610-be8ec1367821",
   "metadata": {},
   "outputs": [
    {
     "data": {
      "text/plain": [
       "4"
      ]
     },
     "execution_count": 82,
     "metadata": {},
     "output_type": "execute_result"
    }
   ],
   "source": [
    "for a, b in AB_compress:\n",
    "    uf.union(a, b)\n",
    "\n",
    "max(uf.members(0))"
   ]
  },
  {
   "cell_type": "code",
   "execution_count": 83,
   "id": "ec888cf2-9cbf-4386-84ea-fc9a090a0005",
   "metadata": {},
   "outputs": [
    {
     "name": "stdout",
     "output_type": "stream",
     "text": [
      "10\n"
     ]
    }
   ],
   "source": [
    "print (D_rev[max(uf.members(0))])"
   ]
  },
  {
   "cell_type": "code",
   "execution_count": null,
   "id": "520f0238-de2b-4f91-a681-e668b3772d5b",
   "metadata": {},
   "outputs": [],
   "source": []
  }
 ],
 "metadata": {
  "kernelspec": {
   "display_name": "Python 3 (ipykernel)",
   "language": "python",
   "name": "python3"
  },
  "language_info": {
   "codemirror_mode": {
    "name": "ipython",
    "version": 3
   },
   "file_extension": ".py",
   "mimetype": "text/x-python",
   "name": "python",
   "nbconvert_exporter": "python",
   "pygments_lexer": "ipython3",
   "version": "3.8.13"
  }
 },
 "nbformat": 4,
 "nbformat_minor": 5
}
