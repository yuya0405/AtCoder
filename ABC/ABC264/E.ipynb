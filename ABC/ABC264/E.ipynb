{
 "cells": [
  {
   "cell_type": "code",
   "execution_count": 7,
   "id": "d5504712-9011-48bc-95d0-ffc0fa9f90bd",
   "metadata": {},
   "outputs": [
    {
     "name": "stdin",
     "output_type": "stream",
     "text": [
      " 5 5 10\n",
      " 2 3\n",
      " 4 10\n",
      " 5 10\n",
      " 6 9\n",
      " 2 9\n",
      " 4 8\n",
      " 1 7\n",
      " 3 6\n",
      " 8 10\n",
      " 1 8\n",
      " 6\n",
      " 3\n",
      " 5\n",
      " 8\n",
      " 10\n",
      " 2\n",
      " 7\n"
     ]
    }
   ],
   "source": [
    "N, M, E = map(int, input().split())\n",
    "UV = [list(map(int, input().split())) for _ in range(E)]\n",
    "Q = int(input())\n",
    "X = [int(input()) for _ in range(Q)]"
   ]
  },
  {
   "cell_type": "code",
   "execution_count": 223,
   "id": "104d36e4-6417-4599-b08f-30e876d43666",
   "metadata": {},
   "outputs": [
    {
     "data": {
      "text/plain": [
       "[[2, 3],\n",
       " [4, 10],\n",
       " [5, 10],\n",
       " [6, 9],\n",
       " [2, 9],\n",
       " [4, 8],\n",
       " [1, 7],\n",
       " [3, 6],\n",
       " [8, 10],\n",
       " [1, 8]]"
      ]
     },
     "execution_count": 223,
     "metadata": {},
     "output_type": "execute_result"
    }
   ],
   "source": [
    "UV"
   ]
  },
  {
   "cell_type": "code",
   "execution_count": 224,
   "id": "2aca594a-fbe7-4a52-b26b-afbc4e4985d5",
   "metadata": {},
   "outputs": [
    {
     "data": {
      "text/plain": [
       "[3, 5, 8, 10, 2, 7]"
      ]
     },
     "execution_count": 224,
     "metadata": {},
     "output_type": "execute_result"
    }
   ],
   "source": [
    "X"
   ]
  },
  {
   "cell_type": "code",
   "execution_count": 225,
   "id": "27f05ca4-e603-41c2-95fe-5ee1b855338e",
   "metadata": {},
   "outputs": [],
   "source": [
    "from collections import defaultdict\n",
    "\n",
    "class UnionFind():\n",
    "    def __init__(self, n):\n",
    "        self.n = n\n",
    "        self.parents = [-1] * n\n",
    "\n",
    "    def find(self, x):\n",
    "        if self.parents[x] < 0:\n",
    "            return x\n",
    "        else:\n",
    "            self.parents[x] = self.find(self.parents[x])\n",
    "            return self.parents[x]\n",
    "\n",
    "    def union(self, x, y):\n",
    "        x = self.find(x)\n",
    "        y = self.find(y)\n",
    "\n",
    "        if x == y:\n",
    "            return\n",
    "\n",
    "        if self.parents[x] > self.parents[y]:\n",
    "            x, y = y, x\n",
    "\n",
    "        self.parents[x] += self.parents[y]\n",
    "        self.parents[y] = x\n",
    "\n",
    "    def size(self, x):\n",
    "        return -self.parents[self.find(x)]\n",
    "\n",
    "    def same(self, x, y):\n",
    "        return self.find(x) == self.find(y)\n",
    "\n",
    "    def members(self, x):\n",
    "        root = self.find(x)\n",
    "        return [i for i in range(self.n) if self.find(i) == root]\n",
    "\n",
    "    def roots(self):\n",
    "        return [i for i, x in enumerate(self.parents) if x < 0]\n",
    "\n",
    "    def group_count(self):\n",
    "        return len(self.roots())\n",
    "\n",
    "    def all_group_members(self):\n",
    "        group_members = defaultdict(list)\n",
    "        for member in range(self.n):\n",
    "            group_members[self.find(member)].append(member)\n",
    "        return group_members\n",
    "\n",
    "    def __str__(self):\n",
    "        return '\\n'.join(f'{r}: {m}' for r, m in self.all_group_members().items())"
   ]
  },
  {
   "cell_type": "code",
   "execution_count": 226,
   "id": "c3f68eae-c91c-49a7-ba1f-603e0020cab5",
   "metadata": {},
   "outputs": [
    {
     "data": {
      "text/plain": [
       "{1, 4, 6, 9}"
      ]
     },
     "execution_count": 226,
     "metadata": {},
     "output_type": "execute_result"
    }
   ],
   "source": [
    "alive = set(range(1, E+1)) - set(X)\n",
    "alive"
   ]
  },
  {
   "cell_type": "code",
   "execution_count": 227,
   "id": "4490b336-2938-447c-8146-07a4a1a7cd19",
   "metadata": {},
   "outputs": [],
   "source": [
    "uf = UnionFind(N+M)\n",
    "for a in alive:\n",
    "    u, v = UV[a-1]\n",
    "    uf.union(u-1, v-1)"
   ]
  },
  {
   "cell_type": "code",
   "execution_count": 228,
   "id": "52ab6df3-d1f3-44e4-860c-b5c069a648d3",
   "metadata": {},
   "outputs": [
    {
     "name": "stdout",
     "output_type": "stream",
     "text": [
      "{8, 5}\n",
      "{6}\n",
      "{9, 3, 7}\n",
      "{8, 5}\n",
      "{9, 3, 7}\n"
     ]
    },
    {
     "data": {
      "text/plain": [
       "{3, 5, 6, 7, 8, 9}"
      ]
     },
     "execution_count": 228,
     "metadata": {},
     "output_type": "execute_result"
    }
   ],
   "source": [
    "hatuden_set = set()\n",
    "for hatuden in range(N+1, N+M+1):\n",
    "    # print (set(uf.members(hatuden - 1)))\n",
    "    hatuden_set |= set(uf.members(hatuden - 1))\n",
    "hatuden_set"
   ]
  },
  {
   "cell_type": "code",
   "execution_count": 229,
   "id": "9f934312-e736-48aa-a6c7-caa51fe3432b",
   "metadata": {},
   "outputs": [
    {
     "data": {
      "text/plain": [
       "[1]"
      ]
     },
     "execution_count": 229,
     "metadata": {},
     "output_type": "execute_result"
    }
   ],
   "source": [
    "ans = [len(set(range(N)) & hatuden_set)]\n",
    "ans"
   ]
  },
  {
   "cell_type": "code",
   "execution_count": 230,
   "id": "77b9c265-3cef-45bd-b102-58ccd53f34f4",
   "metadata": {},
   "outputs": [],
   "source": [
    "for x in reversed(X):\n",
    "    u, v = UV[x-1]\n",
    "    uf.union(u-1, v-1)\n",
    "    \n",
    "    # 計算\n",
    "    hatuden_set = set()\n",
    "    for hatuden in range(N+1, N+M+1):\n",
    "        hatuden_set |= set(uf.members(hatuden - 1))\n",
    "    ans.append(len(set(range(N)) & hatuden_set))"
   ]
  },
  {
   "cell_type": "code",
   "execution_count": 231,
   "id": "796f9bf4-e45b-4a41-b52a-bfb3b298bc3b",
   "metadata": {},
   "outputs": [
    {
     "data": {
      "text/plain": [
       "[1, 2, 2, 2, 4, 4, 5]"
      ]
     },
     "execution_count": 231,
     "metadata": {},
     "output_type": "execute_result"
    }
   ],
   "source": [
    "ans"
   ]
  },
  {
   "cell_type": "code",
   "execution_count": 232,
   "id": "29b7c0c6-78ad-4514-960a-7e68309a2922",
   "metadata": {},
   "outputs": [
    {
     "name": "stdout",
     "output_type": "stream",
     "text": [
      "4\n",
      "4\n",
      "2\n",
      "2\n",
      "2\n",
      "1\n"
     ]
    }
   ],
   "source": [
    "for a in list(reversed(ans))[1:]:\n",
    "    print (a)"
   ]
  },
  {
   "cell_type": "code",
   "execution_count": null,
   "id": "50af4fe4-5e36-4171-95c2-25cc23775543",
   "metadata": {},
   "outputs": [],
   "source": []
  }
 ],
 "metadata": {
  "kernelspec": {
   "display_name": "Python 3 (ipykernel)",
   "language": "python",
   "name": "python3"
  },
  "language_info": {
   "codemirror_mode": {
    "name": "ipython",
    "version": 3
   },
   "file_extension": ".py",
   "mimetype": "text/x-python",
   "name": "python",
   "nbconvert_exporter": "python",
   "pygments_lexer": "ipython3",
   "version": "3.9.13"
  }
 },
 "nbformat": 4,
 "nbformat_minor": 5
}
