{
 "cells": [
  {
   "cell_type": "code",
   "execution_count": 68,
   "id": "13e0de02-aed2-445b-bcef-509fea881b5e",
   "metadata": {},
   "outputs": [
    {
     "name": "stdin",
     "output_type": "stream",
     "text": [
      " 8 8\n"
     ]
    }
   ],
   "source": [
    "R, C = map(int, input().split())"
   ]
  },
  {
   "cell_type": "code",
   "execution_count": 69,
   "id": "c7d9bffc-f56f-43a0-b96d-7dba3e21127e",
   "metadata": {},
   "outputs": [
    {
     "data": {
      "text/plain": [
       "[[1, 1, 1, 1, 1, 1, 1, 1, 1, 1, 1, 1, 1, 1, 1],\n",
       " [1, 0, 0, 0, 0, 0, 0, 0, 0, 0, 0, 0, 0, 0, 1],\n",
       " [1, 0, 1, 1, 1, 1, 1, 1, 1, 1, 1, 1, 1, 0, 1],\n",
       " [1, 0, 1, 0, 0, 0, 0, 0, 0, 0, 0, 0, 1, 0, 1],\n",
       " [1, 0, 1, 0, 1, 1, 1, 1, 1, 1, 1, 0, 1, 0, 1],\n",
       " [1, 0, 1, 0, 1, 0, 0, 0, 0, 0, 1, 0, 1, 0, 1],\n",
       " [1, 0, 1, 0, 1, 0, 1, 1, 1, 0, 1, 0, 1, 0, 1],\n",
       " [1, 0, 1, 0, 1, 0, 1, 0, 1, 0, 1, 0, 1, 0, 1],\n",
       " [1, 0, 1, 0, 1, 0, 1, 1, 1, 0, 1, 0, 1, 0, 1],\n",
       " [1, 0, 1, 0, 1, 0, 0, 0, 0, 0, 1, 0, 1, 0, 1],\n",
       " [1, 0, 1, 0, 1, 1, 1, 1, 1, 1, 1, 0, 1, 0, 1],\n",
       " [1, 0, 1, 0, 0, 0, 0, 0, 0, 0, 0, 0, 1, 0, 1],\n",
       " [1, 0, 1, 1, 1, 1, 1, 1, 1, 1, 1, 1, 1, 0, 1],\n",
       " [1, 0, 0, 0, 0, 0, 0, 0, 0, 0, 0, 0, 0, 0, 1],\n",
       " [1, 1, 1, 1, 1, 1, 1, 1, 1, 1, 1, 1, 1, 1, 1]]"
      ]
     },
     "execution_count": 69,
     "metadata": {},
     "output_type": "execute_result"
    }
   ],
   "source": [
    "grid = [[1,1,1,1,1,1,1,1,1,1,1,1,1,1,1],\n",
    "        [1,0,0,0,0,0,0,0,0,0,0,0,0,0,1],\n",
    "        [1,0,1,1,1,1,1,1,1,1,1,1,1,0,1],\n",
    "        [1,0,1,0,0,0,0,0,0,0,0,0,1,0,1],\n",
    "        [1,0,1,0,1,1,1,1,1,1,1,0,1,0,1],\n",
    "        [1,0,1,0,1,0,0,0,0,0,1,0,1,0,1],\n",
    "        [1,0,1,0,1,0,1,1,1,0,1,0,1,0,1],\n",
    "        [1,0,1,0,1,0,1,0,1,0,1,0,1,0,1],\n",
    "        [1,0,1,0,1,0,1,1,1,0,1,0,1,0,1],\n",
    "        [1,0,1,0,1,0,0,0,0,0,1,0,1,0,1],\n",
    "        [1,0,1,0,1,1,1,1,1,1,1,0,1,0,1],\n",
    "        [1,0,1,0,0,0,0,0,0,0,0,0,1,0,1],\n",
    "        [1,0,1,1,1,1,1,1,1,1,1,1,1,0,1],\n",
    "        [1,0,0,0,0,0,0,0,0,0,0,0,0,0,1],\n",
    "        [1,1,1,1,1,1,1,1,1,1,1,1,1,1,1]]\n",
    "grid"
   ]
  },
  {
   "cell_type": "code",
   "execution_count": 70,
   "id": "23361c80-8ead-42fe-8da0-b200d0721e92",
   "metadata": {},
   "outputs": [
    {
     "name": "stdout",
     "output_type": "stream",
     "text": [
      "white\n"
     ]
    }
   ],
   "source": [
    "if grid[R-1][C-1] == 1:\n",
    "    print (\"black\")\n",
    "else:\n",
    "    print (\"white\")"
   ]
  },
  {
   "cell_type": "code",
   "execution_count": null,
   "id": "f5f44a9c-93ca-4b70-9a36-3e689db6366b",
   "metadata": {},
   "outputs": [],
   "source": []
  },
  {
   "cell_type": "code",
   "execution_count": null,
   "id": "f945d948-4b46-4901-bef5-9b95450eb9ce",
   "metadata": {},
   "outputs": [],
   "source": []
  }
 ],
 "metadata": {
  "kernelspec": {
   "display_name": "Python 3 (ipykernel)",
   "language": "python",
   "name": "python3"
  },
  "language_info": {
   "codemirror_mode": {
    "name": "ipython",
    "version": 3
   },
   "file_extension": ".py",
   "mimetype": "text/x-python",
   "name": "python",
   "nbconvert_exporter": "python",
   "pygments_lexer": "ipython3",
   "version": "3.9.13"
  }
 },
 "nbformat": 4,
 "nbformat_minor": 5
}
