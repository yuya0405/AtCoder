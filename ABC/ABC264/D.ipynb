{
 "cells": [
  {
   "cell_type": "code",
   "execution_count": 43,
   "id": "582e0b57-69f6-4177-8535-7067479d2214",
   "metadata": {},
   "outputs": [
    {
     "name": "stdin",
     "output_type": "stream",
     "text": [
      " redocta\n"
     ]
    }
   ],
   "source": [
    "S = input()"
   ]
  },
  {
   "cell_type": "code",
   "execution_count": 44,
   "id": "d9cd73de-2a3f-4984-b8f1-e4ee9f725983",
   "metadata": {},
   "outputs": [
    {
     "data": {
      "text/plain": [
       "[6, 5, 4, 3, 2, 1, 0]"
      ]
     },
     "execution_count": 44,
     "metadata": {},
     "output_type": "execute_result"
    }
   ],
   "source": [
    "tmp = []\n",
    "for s in S:\n",
    "    if s == \"a\":\n",
    "        tmp.append(0)\n",
    "    elif s == \"t\":\n",
    "        tmp.append(1)\n",
    "    elif s == \"c\":\n",
    "        tmp.append(2)\n",
    "    elif s == \"o\":\n",
    "        tmp.append(3)\n",
    "    elif s == \"d\":\n",
    "        tmp.append(4)\n",
    "    elif s == \"e\":\n",
    "        tmp.append(5)\n",
    "    elif s == \"r\":\n",
    "        tmp.append(6)\n",
    "tmp"
   ]
  },
  {
   "cell_type": "code",
   "execution_count": 45,
   "id": "29b2ae5e-b194-4294-9719-8ab511c20274",
   "metadata": {},
   "outputs": [],
   "source": [
    "def BubbleSort(S):\n",
    "    count = 0\n",
    "    for i in range(len(S)):\n",
    "        for j in range(len(S)-1, i, -1):\n",
    "            if S[j] < S[j-1]:\n",
    "                S[j], S[j-1] = S[j-1], S[j]\n",
    "                count += 1\n",
    "\n",
    "    return count"
   ]
  },
  {
   "cell_type": "code",
   "execution_count": 47,
   "id": "9c641447-469e-46cb-b174-494bd6318e1c",
   "metadata": {},
   "outputs": [
    {
     "name": "stdout",
     "output_type": "stream",
     "text": [
      "0\n"
     ]
    }
   ],
   "source": [
    "print (BubbleSort(tmp))"
   ]
  },
  {
   "cell_type": "code",
   "execution_count": null,
   "id": "39a81199-ae01-4d32-9ae9-fa16d87ebf0e",
   "metadata": {},
   "outputs": [],
   "source": []
  }
 ],
 "metadata": {
  "kernelspec": {
   "display_name": "Python 3 (ipykernel)",
   "language": "python",
   "name": "python3"
  },
  "language_info": {
   "codemirror_mode": {
    "name": "ipython",
    "version": 3
   },
   "file_extension": ".py",
   "mimetype": "text/x-python",
   "name": "python",
   "nbconvert_exporter": "python",
   "pygments_lexer": "ipython3",
   "version": "3.9.13"
  }
 },
 "nbformat": 4,
 "nbformat_minor": 5
}
