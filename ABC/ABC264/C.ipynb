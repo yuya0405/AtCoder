{
 "cells": [
  {
   "cell_type": "code",
   "execution_count": 32,
   "id": "bd9400d8-400b-4bb7-aa13-15e69807c62c",
   "metadata": {},
   "outputs": [
    {
     "name": "stdin",
     "output_type": "stream",
     "text": [
      " 3 3\n",
      " 1 1 1\n",
      " 1 1 1\n",
      " 1 1 1\n",
      " 1 1\n",
      " 2\n"
     ]
    }
   ],
   "source": [
    "H1, W1 = map(int, input().split())\n",
    "A = [list(map(int, input().split())) for _ in range(H1)]\n",
    "H2, W2 = map(int, input().split())\n",
    "B = [list(map(int, input().split())) for _ in range(H2)]"
   ]
  },
  {
   "cell_type": "code",
   "execution_count": 36,
   "id": "6efcc2a6-9d2f-40c4-8786-246eb71f5dc6",
   "metadata": {},
   "outputs": [
    {
     "name": "stdout",
     "output_type": "stream",
     "text": [
      "No\n"
     ]
    }
   ],
   "source": [
    "from itertools import product\n",
    "for bit1 in product([0,1], repeat=H1):\n",
    "    for bit2 in product([0,1], repeat=W1):\n",
    "        tmp = []\n",
    "        for i, b1 in enumerate(bit1):\n",
    "            t = []\n",
    "            for j, b2 in enumerate(bit2):\n",
    "                if b1 == 1 and b2 == 1:\n",
    "                    t.append(A[i][j])\n",
    "            if len(t) != 0:\n",
    "                tmp.append(t)\n",
    "        if B == tmp:\n",
    "            print (\"Yes\")\n",
    "            exit()\n",
    "print (\"No\")"
   ]
  },
  {
   "cell_type": "code",
   "execution_count": null,
   "id": "ea2d21a4-8fa2-44b6-9ed4-f187e5716968",
   "metadata": {},
   "outputs": [],
   "source": []
  }
 ],
 "metadata": {
  "kernelspec": {
   "display_name": "Python 3 (ipykernel)",
   "language": "python",
   "name": "python3"
  },
  "language_info": {
   "codemirror_mode": {
    "name": "ipython",
    "version": 3
   },
   "file_extension": ".py",
   "mimetype": "text/x-python",
   "name": "python",
   "nbconvert_exporter": "python",
   "pygments_lexer": "ipython3",
   "version": "3.9.13"
  }
 },
 "nbformat": 4,
 "nbformat_minor": 5
}
