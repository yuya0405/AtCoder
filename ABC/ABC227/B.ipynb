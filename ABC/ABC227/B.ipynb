{
 "cells": [
  {
   "cell_type": "code",
   "execution_count": 7,
   "id": "cfda64e8-0232-42e4-9115-07521ff17938",
   "metadata": {},
   "outputs": [],
   "source": [
    "N = int(input())\n",
    "S = list(map(int, input().split()))\n",
    "\n",
    "ans = 0\n",
    "for s in S:\n",
    "    flag = False\n",
    "    for a in range(1, 300):\n",
    "        if flag == True:\n",
    "            continue\n",
    "        for b in range(1, 300):\n",
    "            S_ans = 4*a*b+3*a+3*b\n",
    "            if S_ans == s:\n",
    "                ans += 1\n",
    "                flag = True\n",
    "\n",
    "print (N-ans)"
   ]
  },
  {
   "cell_type": "code",
   "execution_count": null,
   "id": "9536e81a-6e0e-49cf-be33-84b91d4c93fb",
   "metadata": {},
   "outputs": [],
   "source": []
  }
 ],
 "metadata": {
  "kernelspec": {
   "display_name": "Python 3",
   "language": "python",
   "name": "python3"
  },
  "language_info": {
   "codemirror_mode": {
    "name": "ipython",
    "version": 3
   },
   "file_extension": ".py",
   "mimetype": "text/x-python",
   "name": "python",
   "nbconvert_exporter": "python",
   "pygments_lexer": "ipython3",
   "version": "3.8.8"
  }
 },
 "nbformat": 4,
 "nbformat_minor": 5
}
