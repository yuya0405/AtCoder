{
 "cells": [
  {
   "cell_type": "code",
   "execution_count": 180,
   "id": "ed2645a4-f7db-41ed-8b96-9241623424c6",
   "metadata": {},
   "outputs": [
    {
     "name": "stdin",
     "output_type": "stream",
     "text": [
      " 12\n"
     ]
    }
   ],
   "source": [
    "N = int(input())"
   ]
  },
  {
   "cell_type": "code",
   "execution_count": 181,
   "id": "16d9093c-bf94-4fc7-a78f-06e6afb9f974",
   "metadata": {},
   "outputs": [],
   "source": [
    "def prime_factorize(n):\n",
    "    a = []\n",
    "    while n % 2 == 0:\n",
    "        a.append(2)\n",
    "        n //= 2\n",
    "    f = 3\n",
    "    while f * f <= n:\n",
    "        if n % f == 0:\n",
    "            a.append(f)\n",
    "            n //= f\n",
    "        else:\n",
    "            f += 2\n",
    "    if n != 1:\n",
    "        a.append(n)\n",
    "    return a"
   ]
  },
  {
   "cell_type": "code",
   "execution_count": 182,
   "id": "295cfa4e-f431-4c60-a983-449319d2b2b8",
   "metadata": {},
   "outputs": [
    {
     "data": {
      "text/plain": [
       "[1, 2, 3]"
      ]
     },
     "execution_count": 182,
     "metadata": {},
     "output_type": "execute_result"
    }
   ],
   "source": [
    "[1] + [2,3]"
   ]
  },
  {
   "cell_type": "code",
   "execution_count": 186,
   "id": "21add9b3-8836-4c8c-89a2-85ee4fb5ca50",
   "metadata": {},
   "outputs": [
    {
     "name": "stdout",
     "output_type": "stream",
     "text": [
      "[1]\n",
      "[1, 2]\n",
      "[1, 3]\n",
      "[1, 2]\n",
      "[1, 5]\n",
      "[1, 2, 3]\n",
      "[1, 7]\n",
      "[1, 2]\n",
      "[1, 3]\n",
      "[1, 2, 5]\n",
      "[1, 11]\n",
      "[1, 2, 3]\n"
     ]
    }
   ],
   "source": [
    "ans = 0\n",
    "for n in range(1, N+1):\n",
    "    C = [1] + list(collections.Counter(prime_factorize(n)).keys())\n",
    "    for a in C:\n",
    "        for b in C:\n",
    "            for c in C:\n",
    "                if "
   ]
  },
  {
   "cell_type": "code",
   "execution_count": 114,
   "id": "5d8ef5b7-d823-4416-82ec-40d522785f68",
   "metadata": {},
   "outputs": [
    {
     "data": {
      "text/plain": [
       "374"
      ]
     },
     "execution_count": 114,
     "metadata": {},
     "output_type": "execute_result"
    }
   ],
   "source": [
    "ans = 0\n",
    "for n in range(1, N+1):\n",
    "    \n",
    "    C = list(collections.Counter(prime_factorize(n)).values())\n",
    "    tmp_1 = 1\n",
    "    tmp_2 = 0\n",
    "    for c in C:\n",
    "        tmp_1 *= (c+1)\n",
    "        tmp_2 += c\n",
    "\n",
    "    ans += 1\n",
    "    ans += (2*tmp_1)//6\n",
    "    ans += (tmp_2)*(tmp_2-1)*(tmp_2-2)//6\n",
    "ans"
   ]
  },
  {
   "cell_type": "code",
   "execution_count": null,
   "id": "0e79c89f-f33e-4552-b177-7e6277e37ed1",
   "metadata": {},
   "outputs": [],
   "source": []
  },
  {
   "cell_type": "code",
   "execution_count": null,
   "id": "9fb76d8c-df41-4332-a543-b24646a58c20",
   "metadata": {},
   "outputs": [],
   "source": []
  }
 ],
 "metadata": {
  "kernelspec": {
   "display_name": "Python 3",
   "language": "python",
   "name": "python3"
  },
  "language_info": {
   "codemirror_mode": {
    "name": "ipython",
    "version": 3
   },
   "file_extension": ".py",
   "mimetype": "text/x-python",
   "name": "python",
   "nbconvert_exporter": "python",
   "pygments_lexer": "ipython3",
   "version": "3.8.8"
  }
 },
 "nbformat": 4,
 "nbformat_minor": 5
}
