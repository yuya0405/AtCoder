{
 "cells": [
  {
   "cell_type": "code",
   "execution_count": 56,
   "id": "ed2645a4-f7db-41ed-8b96-9241623424c6",
   "metadata": {},
   "outputs": [
    {
     "name": "stdin",
     "output_type": "stream",
     "text": [
      " 100000000000\n"
     ]
    }
   ],
   "source": [
    "N = int(input())"
   ]
  },
  {
   "cell_type": "code",
   "execution_count": 50,
   "id": "33ca1cc0-2d29-4f4a-8c01-27d2e30e4aa8",
   "metadata": {},
   "outputs": [
    {
     "data": {
      "text/plain": [
       "323"
      ]
     },
     "execution_count": 50,
     "metadata": {},
     "output_type": "execute_result"
    }
   ],
   "source": [
    "# TLE\n",
    "\n",
    "ans = 0\n",
    "for c in range(1, N+1):\n",
    "    for b in range(1, N//c+1):\n",
    "        for a in range(1, N//(c*b)+1):\n",
    "            if a*b*c <= N and a<=b and b<=c:\n",
    "                ans += 1\n",
    "ans"
   ]
  },
  {
   "cell_type": "code",
   "execution_count": 51,
   "id": "78a80102-0cb7-4705-9b82-9f3d97099981",
   "metadata": {},
   "outputs": [
    {
     "data": {
      "text/plain": [
       "323"
      ]
     },
     "execution_count": 51,
     "metadata": {},
     "output_type": "execute_result"
    }
   ],
   "source": [
    "# TLE\n",
    "\n",
    "ans = 0\n",
    "for a in range(1, int(N**(1/3))+1):\n",
    "    for b in range(a, int((N/a)**(1/2))+1):\n",
    "        for c in range(b, int(N/(a*b))+1):\n",
    "            ans += 1\n",
    "ans"
   ]
  },
  {
   "cell_type": "code",
   "execution_count": 54,
   "id": "8db6f76e-8368-448f-ab88-49029bc8f3e6",
   "metadata": {},
   "outputs": [
    {
     "name": "stdout",
     "output_type": "stream",
     "text": [
      "323\n"
     ]
    }
   ],
   "source": [
    "# RE\n",
    "\n",
    "ans = 0\n",
    "for a in range(1, int(N**(1/3))+1):\n",
    "    for b in range(a, int((N/a)**(1/2))+1):\n",
    "        ans += N//(a*b)-b+1\n",
    "print (ans)"
   ]
  },
  {
   "cell_type": "code",
   "execution_count": 57,
   "id": "4104de97-ec9e-4d7a-8242-36888dbb3fb7",
   "metadata": {},
   "outputs": [
    {
     "name": "stdout",
     "output_type": "stream",
     "text": [
      "5745290566750\n"
     ]
    }
   ],
   "source": [
    "# AC\n",
    "# 64**(1/3)が3.9999999999999996となるような誤差に注意\n",
    "\n",
    "ans = 0\n",
    "for a in range(1, int(N**(1/3))+2):\n",
    "    for b in range(a, int((N/a)**(1/2))+1):\n",
    "        ans += N//(a*b)-b+1\n",
    "print (ans)"
   ]
  },
  {
   "cell_type": "code",
   "execution_count": 41,
   "id": "ccb8ff0a-c4a6-4129-b62a-7b52b8db5ca6",
   "metadata": {},
   "outputs": [
    {
     "name": "stdout",
     "output_type": "stream",
     "text": [
      "323\n"
     ]
    }
   ],
   "source": [
    "# 別解（TLE）\n",
    "\n",
    "ans = 0\n",
    "for a in range(1, N+1):\n",
    "    if a**3 > N:\n",
    "        break\n",
    "    for b in range(a, N+1):\n",
    "        if a* b**2 > N:\n",
    "            break\n",
    "        for c in range(b, N+1):\n",
    "            if a*b*c > N:\n",
    "                break\n",
    "            ans += 1\n",
    "print (ans)"
   ]
  },
  {
   "cell_type": "code",
   "execution_count": 42,
   "id": "abb1e37e-e133-49d6-b4a6-b3eaf60572d7",
   "metadata": {},
   "outputs": [
    {
     "name": "stdout",
     "output_type": "stream",
     "text": [
      "323\n"
     ]
    }
   ],
   "source": [
    "# 別解（AC）\n",
    "# 誤差の心配がない\n",
    "\n",
    "ans = 0\n",
    "for a in range(1, N+1):\n",
    "    if a**3 > N:\n",
    "        break\n",
    "    for b in range(a, N+1):\n",
    "        if a* b**2 > N:\n",
    "            break\n",
    "        ans += N//(a*b)-b+1\n",
    "print (ans)"
   ]
  },
  {
   "cell_type": "code",
   "execution_count": null,
   "id": "ca1eaa90-e89a-424b-a2b0-7e262b7209c3",
   "metadata": {},
   "outputs": [],
   "source": []
  }
 ],
 "metadata": {
  "kernelspec": {
   "display_name": "Python 3",
   "language": "python",
   "name": "python3"
  },
  "language_info": {
   "codemirror_mode": {
    "name": "ipython",
    "version": 3
   },
   "file_extension": ".py",
   "mimetype": "text/x-python",
   "name": "python",
   "nbconvert_exporter": "python",
   "pygments_lexer": "ipython3",
   "version": "3.8.8"
  }
 },
 "nbformat": 4,
 "nbformat_minor": 5
}
