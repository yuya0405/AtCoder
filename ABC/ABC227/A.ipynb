{
 "cells": [
  {
   "cell_type": "code",
   "execution_count": 13,
   "id": "7bfc238d-5692-4e54-a712-090af149cc77",
   "metadata": {},
   "outputs": [],
   "source": [
    "N, K, A = map(int, input().split())\n",
    "\n",
    "if (A+K-1)%N == 0:\n",
    "    print (N)\n",
    "else:\n",
    "    print ((A+K-1)%N)"
   ]
  },
  {
   "cell_type": "code",
   "execution_count": null,
   "id": "9fa2070e-09e6-4742-9a30-b49763652321",
   "metadata": {},
   "outputs": [],
   "source": []
  }
 ],
 "metadata": {
  "kernelspec": {
   "display_name": "Python 3",
   "language": "python",
   "name": "python3"
  },
  "language_info": {
   "codemirror_mode": {
    "name": "ipython",
    "version": 3
   },
   "file_extension": ".py",
   "mimetype": "text/x-python",
   "name": "python",
   "nbconvert_exporter": "python",
   "pygments_lexer": "ipython3",
   "version": "3.8.8"
  }
 },
 "nbformat": 4,
 "nbformat_minor": 5
}
