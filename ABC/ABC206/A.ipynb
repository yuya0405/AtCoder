{
 "cells": [
  {
   "cell_type": "code",
   "execution_count": 11,
   "id": "6ec1691d-5b1a-4e45-986e-f4e84cdf901a",
   "metadata": {},
   "outputs": [],
   "source": [
    "N = int(input())\n",
    "\n",
    "if int(1.08*N) < 206:\n",
    "    print (\"Yay!\")\n",
    "elif int(1.08*N) == 206:\n",
    "    print (\"so-so\")\n",
    "else:\n",
    "    print (\":(\")"
   ]
  },
  {
   "cell_type": "code",
   "execution_count": null,
   "id": "0dbd4180-69ef-4563-bc0c-ea2a2df13bff",
   "metadata": {},
   "outputs": [],
   "source": []
  }
 ],
 "metadata": {
  "kernelspec": {
   "display_name": "Python 3",
   "language": "python",
   "name": "python3"
  },
  "language_info": {
   "codemirror_mode": {
    "name": "ipython",
    "version": 3
   },
   "file_extension": ".py",
   "mimetype": "text/x-python",
   "name": "python",
   "nbconvert_exporter": "python",
   "pygments_lexer": "ipython3",
   "version": "3.8.8"
  }
 },
 "nbformat": 4,
 "nbformat_minor": 5
}
