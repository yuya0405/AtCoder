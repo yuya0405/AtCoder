{
 "cells": [
  {
   "cell_type": "code",
   "execution_count": 5,
   "id": "26ffee58-efc1-4e05-a479-016e07673bc3",
   "metadata": {},
   "outputs": [],
   "source": [
    "N = int(input())\n",
    "A = list(map(int, input().split()))\n",
    "\n",
    "import math\n",
    "import collections\n",
    "\n",
    "def combinations_count(n, r):\n",
    "    return math.factorial(n) // (math.factorial(n - r) * math.factorial(r))\n",
    "\n",
    "tmp = combinations_count(N, 2)\n",
    "\n",
    "a = collections.Counter(A)\n",
    "\n",
    "tmp2 = sum([i-1 for i in list(a.values())])\n",
    "\n",
    "sum = 0\n",
    "for i in [i-1 for i in list(a.values()) if i-1 > 1]:\n",
    "    sum += combinations_count(i, 2)\n",
    "\n",
    "print (tmp-tmp2-sum)"
   ]
  },
  {
   "cell_type": "code",
   "execution_count": 6,
   "id": "83056708-3f42-4be0-966c-79cf6b42c22f",
   "metadata": {},
   "outputs": [
    {
     "name": "stdout",
     "output_type": "stream",
     "text": [
      "2\n"
     ]
    }
   ],
   "source": [
    "from itertools import combinations\n",
    "\n",
    "ans = 0\n",
    "for x in list(combinations(A, 2)):\n",
    "    if x[0] != x[1]:\n",
    "        ans += 1\n",
    "print (ans)"
   ]
  },
  {
   "cell_type": "code",
   "execution_count": null,
   "id": "524e145a-2a54-49fd-bc05-b8db215eeb43",
   "metadata": {},
   "outputs": [],
   "source": []
  },
  {
   "cell_type": "code",
   "execution_count": null,
   "id": "6be20144-7113-4dcf-abe8-b0e57c6b8cd4",
   "metadata": {},
   "outputs": [],
   "source": []
  }
 ],
 "metadata": {
  "kernelspec": {
   "display_name": "Python 3",
   "language": "python",
   "name": "python3"
  },
  "language_info": {
   "codemirror_mode": {
    "name": "ipython",
    "version": 3
   },
   "file_extension": ".py",
   "mimetype": "text/x-python",
   "name": "python",
   "nbconvert_exporter": "python",
   "pygments_lexer": "ipython3",
   "version": "3.8.8"
  }
 },
 "nbformat": 4,
 "nbformat_minor": 5
}
