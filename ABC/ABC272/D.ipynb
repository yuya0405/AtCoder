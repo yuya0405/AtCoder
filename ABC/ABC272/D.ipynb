{
 "cells": [
  {
   "cell_type": "code",
   "execution_count": 77,
   "id": "a09c49a1-5ada-4024-b598-2cc6b7c1c2fa",
   "metadata": {},
   "outputs": [
    {
     "name": "stdin",
     "output_type": "stream",
     "text": [
      " 10 7\n"
     ]
    }
   ],
   "source": [
    "N, M = map(int, input().split())"
   ]
  },
  {
   "cell_type": "code",
   "execution_count": 78,
   "id": "e7ec7b71-4b54-49b5-8d7b-f6e75aa1aaec",
   "metadata": {},
   "outputs": [
    {
     "data": {
      "text/plain": [
       "[[0, -1, -1, -1, -1, -1, -1, -1, -1, -1],\n",
       " [-1, -1, -1, -1, -1, -1, -1, -1, -1, -1],\n",
       " [-1, -1, -1, -1, -1, -1, -1, -1, -1, -1],\n",
       " [-1, -1, -1, -1, -1, -1, -1, -1, -1, -1],\n",
       " [-1, -1, -1, -1, -1, -1, -1, -1, -1, -1],\n",
       " [-1, -1, -1, -1, -1, -1, -1, -1, -1, -1],\n",
       " [-1, -1, -1, -1, -1, -1, -1, -1, -1, -1],\n",
       " [-1, -1, -1, -1, -1, -1, -1, -1, -1, -1],\n",
       " [-1, -1, -1, -1, -1, -1, -1, -1, -1, -1],\n",
       " [-1, -1, -1, -1, -1, -1, -1, -1, -1, -1]]"
      ]
     },
     "execution_count": 78,
     "metadata": {},
     "output_type": "execute_result"
    }
   ],
   "source": [
    "ans = [[-1]*N for _ in range(N)]\n",
    "ans[0][0] = 0\n",
    "ans"
   ]
  },
  {
   "cell_type": "code",
   "execution_count": 79,
   "id": "18bce62b-51de-41f9-9027-7e0ecf8d4f0f",
   "metadata": {},
   "outputs": [
    {
     "data": {
      "text/plain": [
       "[[0, 1, 4, 9, 16, 25, 36, 49, 64, 81],\n",
       " [1, 2, 5, 10, 17, 26, 37, 50, 65, 82],\n",
       " [4, 5, 8, 13, 20, 29, 40, 53, 68, 85],\n",
       " [9, 10, 13, 18, 25, 34, 45, 58, 73, 90],\n",
       " [16, 17, 20, 25, 32, 41, 52, 65, 80, 97],\n",
       " [25, 26, 29, 34, 41, 50, 61, 74, 89, 106],\n",
       " [36, 37, 40, 45, 52, 61, 72, 85, 100, 117],\n",
       " [49, 50, 53, 58, 65, 74, 85, 98, 113, 130],\n",
       " [64, 65, 68, 73, 80, 89, 100, 113, 128, 145],\n",
       " [81, 82, 85, 90, 97, 106, 117, 130, 145, 162]]"
      ]
     },
     "execution_count": 79,
     "metadata": {},
     "output_type": "execute_result"
    }
   ],
   "source": [
    "D = [[-1]*N for _ in range(N)]\n",
    "D[0][0] = 0\n",
    "for i in range(N):\n",
    "    for j in range(N):\n",
    "        D[i][j] = i**2 + j**2\n",
    "D"
   ]
  },
  {
   "cell_type": "code",
   "execution_count": 80,
   "id": "b6933ad0-5ecb-4b7c-8e80-3c376a3ef9c5",
   "metadata": {},
   "outputs": [
    {
     "data": {
      "text/plain": [
       "set()"
      ]
     },
     "execution_count": 80,
     "metadata": {},
     "output_type": "execute_result"
    }
   ],
   "source": [
    "vectors = []\n",
    "for i, d1 in enumerate(D):\n",
    "    for j, d2 in enumerate(d1):\n",
    "        if d2 == M:\n",
    "            vectors.append((i, j))\n",
    "            vectors.append((-i, j))\n",
    "            vectors.append((i, -j))\n",
    "            vectors.append((-i, -j))\n",
    "set(vectors)"
   ]
  },
  {
   "cell_type": "code",
   "execution_count": 81,
   "id": "079f1756-1ed3-46cd-92a8-ca1d147c8958",
   "metadata": {},
   "outputs": [],
   "source": [
    "from queue import Queue\n",
    "que = Queue()\n",
    "que.put((0, 0))"
   ]
  },
  {
   "cell_type": "code",
   "execution_count": 82,
   "id": "8e641506-8e30-42f5-977d-aee4014f4019",
   "metadata": {},
   "outputs": [
    {
     "data": {
      "text/plain": [
       "[[0, -1, -1, -1, -1, -1, -1, -1, -1, -1],\n",
       " [-1, -1, -1, -1, -1, -1, -1, -1, -1, -1],\n",
       " [-1, -1, -1, -1, -1, -1, -1, -1, -1, -1],\n",
       " [-1, -1, -1, -1, -1, -1, -1, -1, -1, -1],\n",
       " [-1, -1, -1, -1, -1, -1, -1, -1, -1, -1],\n",
       " [-1, -1, -1, -1, -1, -1, -1, -1, -1, -1],\n",
       " [-1, -1, -1, -1, -1, -1, -1, -1, -1, -1],\n",
       " [-1, -1, -1, -1, -1, -1, -1, -1, -1, -1],\n",
       " [-1, -1, -1, -1, -1, -1, -1, -1, -1, -1],\n",
       " [-1, -1, -1, -1, -1, -1, -1, -1, -1, -1]]"
      ]
     },
     "execution_count": 82,
     "metadata": {},
     "output_type": "execute_result"
    }
   ],
   "source": [
    "while not que.empty():\n",
    "    x, y = que.get()\n",
    "    for dx, dy in vectors:\n",
    "        x2, y2 = x + dx, y + dy\n",
    "        \n",
    "        if x2 < 0 or x2 >= N or y2 < 0 or y2 >= N:\n",
    "            continue\n",
    "        \n",
    "        if ans[x2][y2] != -1:\n",
    "            continue\n",
    "        \n",
    "        ans[x2][y2] = ans[x][y] + 1\n",
    "        que.put((x2, y2))\n",
    "\n",
    "ans"
   ]
  },
  {
   "cell_type": "code",
   "execution_count": 83,
   "id": "78421ea1-8145-4c81-8011-587193feccff",
   "metadata": {},
   "outputs": [
    {
     "name": "stdout",
     "output_type": "stream",
     "text": [
      "0 -1 -1 -1 -1 -1 -1 -1 -1 -1\n",
      "-1 -1 -1 -1 -1 -1 -1 -1 -1 -1\n",
      "-1 -1 -1 -1 -1 -1 -1 -1 -1 -1\n",
      "-1 -1 -1 -1 -1 -1 -1 -1 -1 -1\n",
      "-1 -1 -1 -1 -1 -1 -1 -1 -1 -1\n",
      "-1 -1 -1 -1 -1 -1 -1 -1 -1 -1\n",
      "-1 -1 -1 -1 -1 -1 -1 -1 -1 -1\n",
      "-1 -1 -1 -1 -1 -1 -1 -1 -1 -1\n",
      "-1 -1 -1 -1 -1 -1 -1 -1 -1 -1\n",
      "-1 -1 -1 -1 -1 -1 -1 -1 -1 -1\n"
     ]
    }
   ],
   "source": [
    "for an in ans:\n",
    "    print (*an)"
   ]
  },
  {
   "cell_type": "code",
   "execution_count": null,
   "id": "ae8b47d1-010b-4fc0-9361-6cf00cef3571",
   "metadata": {},
   "outputs": [],
   "source": []
  }
 ],
 "metadata": {
  "kernelspec": {
   "display_name": "Python 3 (ipykernel)",
   "language": "python",
   "name": "python3"
  },
  "language_info": {
   "codemirror_mode": {
    "name": "ipython",
    "version": 3
   },
   "file_extension": ".py",
   "mimetype": "text/x-python",
   "name": "python",
   "nbconvert_exporter": "python",
   "pygments_lexer": "ipython3",
   "version": "3.8.13"
  }
 },
 "nbformat": 4,
 "nbformat_minor": 5
}
