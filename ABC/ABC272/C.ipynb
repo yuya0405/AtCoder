{
 "cells": [
  {
   "cell_type": "code",
   "execution_count": 38,
   "id": "945612e0-377c-4540-b9c3-d6bb7f241769",
   "metadata": {},
   "outputs": [
    {
     "name": "stdin",
     "output_type": "stream",
     "text": [
      " 4\n",
      " 0 0 0 0\n"
     ]
    }
   ],
   "source": [
    "N = int(input())\n",
    "A = list(map(int, input().split()))"
   ]
  },
  {
   "cell_type": "code",
   "execution_count": 39,
   "id": "033f8083-34a0-4816-8d00-74e91b25be6b",
   "metadata": {},
   "outputs": [
    {
     "data": {
      "text/plain": [
       "[0, 0, 0, 0]"
      ]
     },
     "execution_count": 39,
     "metadata": {},
     "output_type": "execute_result"
    }
   ],
   "source": [
    "A.sort()\n",
    "A"
   ]
  },
  {
   "cell_type": "code",
   "execution_count": 40,
   "id": "66f34e64-2198-44f8-b200-0ad940de0cde",
   "metadata": {},
   "outputs": [],
   "source": [
    "even = []\n",
    "odd = []\n",
    "for a in reversed(A):\n",
    "    if a % 2 == 0:\n",
    "        even.append(a)\n",
    "    else:\n",
    "        odd.append(a)"
   ]
  },
  {
   "cell_type": "code",
   "execution_count": 41,
   "id": "f6254be4-d53b-4f1a-81ce-df0eb5d64749",
   "metadata": {},
   "outputs": [
    {
     "data": {
      "text/plain": [
       "[0, 0, 0, 0]"
      ]
     },
     "execution_count": 41,
     "metadata": {},
     "output_type": "execute_result"
    }
   ],
   "source": [
    "even"
   ]
  },
  {
   "cell_type": "code",
   "execution_count": 42,
   "id": "248babce-99d1-4e13-8a90-a07b0c9a69bc",
   "metadata": {},
   "outputs": [
    {
     "data": {
      "text/plain": [
       "[]"
      ]
     },
     "execution_count": 42,
     "metadata": {},
     "output_type": "execute_result"
    }
   ],
   "source": [
    "odd"
   ]
  },
  {
   "cell_type": "code",
   "execution_count": 43,
   "id": "f959097d-10a5-41cc-bfee-f2069d73eb97",
   "metadata": {},
   "outputs": [],
   "source": [
    "candidate1 = -1\n",
    "candidate2 = -1\n",
    "if len(even) >= 2:\n",
    "    candidate1 = even[0] + even[1]\n",
    "if len(odd) >= 2:\n",
    "    candidate2 = odd[0] + odd[1]"
   ]
  },
  {
   "cell_type": "code",
   "execution_count": 44,
   "id": "53e2a40c-ae17-48ec-a6c3-7a1e00c6d4b9",
   "metadata": {},
   "outputs": [
    {
     "data": {
      "text/plain": [
       "0"
      ]
     },
     "execution_count": 44,
     "metadata": {},
     "output_type": "execute_result"
    }
   ],
   "source": [
    "candidate1"
   ]
  },
  {
   "cell_type": "code",
   "execution_count": 45,
   "id": "72001ded-4aa2-4bba-87ab-d1e523c98f4e",
   "metadata": {},
   "outputs": [
    {
     "data": {
      "text/plain": [
       "-1"
      ]
     },
     "execution_count": 45,
     "metadata": {},
     "output_type": "execute_result"
    }
   ],
   "source": [
    "candidate2"
   ]
  },
  {
   "cell_type": "code",
   "execution_count": 46,
   "id": "5219e7ad-2248-4a22-b77c-5930fdcf25db",
   "metadata": {},
   "outputs": [
    {
     "name": "stdout",
     "output_type": "stream",
     "text": [
      "0\n"
     ]
    }
   ],
   "source": [
    "if candidate1 == -1 and candidate2 == -1:\n",
    "    print (-1)\n",
    "else:\n",
    "    print (max(candidate1, candidate2))"
   ]
  },
  {
   "cell_type": "code",
   "execution_count": null,
   "id": "480d2fb7-51e9-40b1-85ff-02ebd3a935b0",
   "metadata": {},
   "outputs": [],
   "source": []
  },
  {
   "cell_type": "code",
   "execution_count": null,
   "id": "56d4ba64-5eb3-47e9-be13-b70acbf6afb5",
   "metadata": {},
   "outputs": [],
   "source": []
  }
 ],
 "metadata": {
  "kernelspec": {
   "display_name": "Python 3 (ipykernel)",
   "language": "python",
   "name": "python3"
  },
  "language_info": {
   "codemirror_mode": {
    "name": "ipython",
    "version": 3
   },
   "file_extension": ".py",
   "mimetype": "text/x-python",
   "name": "python",
   "nbconvert_exporter": "python",
   "pygments_lexer": "ipython3",
   "version": "3.8.13"
  }
 },
 "nbformat": 4,
 "nbformat_minor": 5
}
