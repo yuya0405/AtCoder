{
 "cells": [
  {
   "cell_type": "code",
   "execution_count": 10,
   "id": "9acfacab-31ef-487d-a083-c033a4535936",
   "metadata": {},
   "outputs": [
    {
     "name": "stdin",
     "output_type": "stream",
     "text": [
      " chokudaichokudaichokudai\n"
     ]
    },
    {
     "name": "stdout",
     "output_type": "stream",
     "text": [
      "36\n"
     ]
    }
   ],
   "source": [
    "S = input()\n",
    "N = len(S)\n",
    "\n",
    "dp = [[0]*9 for _ in range(N+1)]\n",
    "mod = 10**9+7\n",
    "\n",
    "dp[0][0] = 1\n",
    "for i in range(N):\n",
    "    for j in range(8):        \n",
    "        if S[i] == \"c\" and j == 0:\n",
    "            dp[i+1][j+1] += dp[i][j]\n",
    "            dp[i+1][j+1] %= mod\n",
    "        elif S[i] == \"h\" and j == 1:\n",
    "            dp[i+1][j+1] += dp[i][j]\n",
    "            dp[i+1][j+1] %= mod\n",
    "        elif S[i] == \"o\" and j == 2:\n",
    "            dp[i+1][j+1] += dp[i][j]\n",
    "            dp[i+1][j+1] %= mod\n",
    "        elif S[i] == \"k\" and j == 3:\n",
    "            dp[i+1][j+1] += dp[i][j]\n",
    "            dp[i+1][j+1] %= mod\n",
    "        elif S[i] == \"u\" and j == 4:\n",
    "            dp[i+1][j+1] += dp[i][j]\n",
    "            dp[i+1][j+1] %= mod\n",
    "        elif S[i] == \"d\" and j == 5:\n",
    "            dp[i+1][j+1] += dp[i][j]\n",
    "            dp[i+1][j+1] %= mod\n",
    "        elif S[i] == \"a\" and j == 6:\n",
    "            dp[i+1][j+1] += dp[i][j]\n",
    "            dp[i+1][j+1] %= mod\n",
    "        elif S[i] == \"i\" and j == 7:\n",
    "            dp[i+1][j+1] += dp[i][j]\n",
    "            dp[i+1][j+1] %= mod\n",
    "        dp[i+1][j] += dp[i][j]\n",
    "        dp[i+1][j] %= mod\n",
    "\n",
    "print (dp[N][8])"
   ]
  },
  {
   "cell_type": "code",
   "execution_count": null,
   "id": "9b5b8ef7-8421-4dab-8825-548c2928ad80",
   "metadata": {},
   "outputs": [],
   "source": []
  }
 ],
 "metadata": {
  "kernelspec": {
   "display_name": "Python 3",
   "language": "python",
   "name": "python3"
  },
  "language_info": {
   "codemirror_mode": {
    "name": "ipython",
    "version": 3
   },
   "file_extension": ".py",
   "mimetype": "text/x-python",
   "name": "python",
   "nbconvert_exporter": "python",
   "pygments_lexer": "ipython3",
   "version": "3.8.8"
  }
 },
 "nbformat": 4,
 "nbformat_minor": 5
}
