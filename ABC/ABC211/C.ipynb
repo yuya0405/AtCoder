{
 "cells": [
  {
   "cell_type": "code",
   "execution_count": 7,
   "id": "9acfacab-31ef-487d-a083-c033a4535936",
   "metadata": {},
   "outputs": [
    {
     "name": "stdin",
     "output_type": "stream",
     "text": [
      " chokudaichokudaichokudai\n"
     ]
    },
    {
     "name": "stdout",
     "output_type": "stream",
     "text": [
      "45\n"
     ]
    }
   ],
   "source": [
    "S = input()\n",
    "N = len(S)\n",
    "\n",
    "dp = [[0]*9 for _ in range(N+1)]\n",
    "mod = 10**9+7\n",
    "\n",
    "for i in range(N+1):\n",
    "    dp[i][0] = 1\n",
    "\n",
    "for i in range(N):\n",
    "    for j in range(8):        \n",
    "        if S[i] == \"c\" and j == 0:\n",
    "            dp[i+1][j+1] = dp[i][j] + dp[i][j+1]\n",
    "            dp[i+1][j+1] %= mod\n",
    "        elif S[i] == \"h\" and j == 1:\n",
    "            dp[i+1][j+1] = dp[i][j] + dp[i][j+1]\n",
    "            dp[i+1][j+1] %= mod\n",
    "        elif S[i] == \"o\" and j == 2:\n",
    "            dp[i+1][j+1] = dp[i][j] + dp[i][j+1]\n",
    "            dp[i+1][j+1] %= mod\n",
    "        elif S[i] == \"k\" and j == 3:\n",
    "            dp[i+1][j+1] = dp[i][j] + dp[i][j+1]\n",
    "            dp[i+1][j+1] %= mod\n",
    "        elif S[i] == \"u\" and j == 4:\n",
    "            dp[i+1][j+1] = dp[i][j] + dp[i][j+1]\n",
    "            dp[i+1][j+1] %= mod\n",
    "        elif S[i] == \"d\" and j == 5:\n",
    "            dp[i+1][j+1] = dp[i][j] + dp[i][j+1]\n",
    "            dp[i+1][j+1] %= mod\n",
    "        elif S[i] == \"a\" and j == 6:\n",
    "            dp[i+1][j+1] = dp[i][j] + dp[i][j+1]\n",
    "            dp[i+1][j+1] %= mod\n",
    "        elif S[i] == \"i\" and j == 7:\n",
    "            dp[i+1][j+1] = dp[i][j] + dp[i][j+1]\n",
    "            dp[i+1][j+1] %= mod\n",
    "        else:\n",
    "            dp[i+1][j+1] = dp[i][j+1]\n",
    "            dp[i+1][j+1] %= mod\n",
    "\n",
    "print (dp[N][8])"
   ]
  },
  {
   "cell_type": "code",
   "execution_count": 8,
   "id": "9b5b8ef7-8421-4dab-8825-548c2928ad80",
   "metadata": {},
   "outputs": [
    {
     "data": {
      "text/plain": [
       "[[1, 0, 0, 0, 0, 0, 0, 0, 0],\n",
       " [1, 1, 0, 0, 0, 0, 0, 0, 0],\n",
       " [1, 1, 1, 0, 0, 0, 0, 0, 0],\n",
       " [1, 1, 1, 1, 0, 0, 0, 0, 0],\n",
       " [1, 1, 1, 1, 1, 0, 0, 0, 0],\n",
       " [1, 1, 1, 1, 1, 1, 0, 0, 0],\n",
       " [1, 1, 1, 1, 1, 1, 1, 0, 0],\n",
       " [1, 1, 1, 1, 1, 1, 1, 1, 0],\n",
       " [1, 1, 1, 1, 1, 1, 1, 1, 1],\n",
       " [1, 2, 1, 1, 1, 1, 1, 1, 1],\n",
       " [1, 2, 3, 1, 1, 1, 1, 1, 1],\n",
       " [1, 2, 3, 4, 1, 1, 1, 1, 1],\n",
       " [1, 2, 3, 4, 5, 1, 1, 1, 1],\n",
       " [1, 2, 3, 4, 5, 6, 1, 1, 1],\n",
       " [1, 2, 3, 4, 5, 6, 7, 1, 1],\n",
       " [1, 2, 3, 4, 5, 6, 7, 8, 1],\n",
       " [1, 2, 3, 4, 5, 6, 7, 8, 9],\n",
       " [1, 3, 3, 4, 5, 6, 7, 8, 9],\n",
       " [1, 3, 6, 4, 5, 6, 7, 8, 9],\n",
       " [1, 3, 6, 10, 5, 6, 7, 8, 9],\n",
       " [1, 3, 6, 10, 15, 6, 7, 8, 9],\n",
       " [1, 3, 6, 10, 15, 21, 7, 8, 9],\n",
       " [1, 3, 6, 10, 15, 21, 28, 8, 9],\n",
       " [1, 3, 6, 10, 15, 21, 28, 36, 9],\n",
       " [1, 3, 6, 10, 15, 21, 28, 36, 45]]"
      ]
     },
     "execution_count": 8,
     "metadata": {},
     "output_type": "execute_result"
    }
   ],
   "source": [
    "dp"
   ]
  },
  {
   "cell_type": "code",
   "execution_count": null,
   "id": "cb32aee1-9534-44a0-b675-21296a603416",
   "metadata": {},
   "outputs": [],
   "source": []
  }
 ],
 "metadata": {
  "kernelspec": {
   "display_name": "Python 3 (ipykernel)",
   "language": "python",
   "name": "python3"
  },
  "language_info": {
   "codemirror_mode": {
    "name": "ipython",
    "version": 3
   },
   "file_extension": ".py",
   "mimetype": "text/x-python",
   "name": "python",
   "nbconvert_exporter": "python",
   "pygments_lexer": "ipython3",
   "version": "3.9.13"
  }
 },
 "nbformat": 4,
 "nbformat_minor": 5
}
