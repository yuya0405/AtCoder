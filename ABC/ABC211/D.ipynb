{
 "cells": [
  {
   "cell_type": "code",
   "execution_count": 30,
   "id": "e7e1040f-c293-4c5f-9fff-66c0ce4bf538",
   "metadata": {},
   "outputs": [
    {
     "name": "stdin",
     "output_type": "stream",
     "text": [
      " 2 0\n"
     ]
    }
   ],
   "source": [
    "N, M = map(int, input().split())\n",
    "AB = [list(map(int, input().split())) for _ in range(M)]"
   ]
  },
  {
   "cell_type": "code",
   "execution_count": 31,
   "id": "efff2cc2-5854-4d6f-afba-839710e34080",
   "metadata": {},
   "outputs": [],
   "source": [
    "G = [[] for _ in range(M)]\n",
    "for a, b in AB:\n",
    "    G[a-1].append(b-1)\n",
    "    G[b-1].append(a-1)"
   ]
  },
  {
   "cell_type": "code",
   "execution_count": 32,
   "id": "d530f3e1-374b-4f45-acf1-e40d8111f2e4",
   "metadata": {},
   "outputs": [
    {
     "data": {
      "text/plain": [
       "[]"
      ]
     },
     "execution_count": 32,
     "metadata": {},
     "output_type": "execute_result"
    }
   ],
   "source": [
    "G"
   ]
  },
  {
   "cell_type": "code",
   "execution_count": 36,
   "id": "af50e888-3239-44b9-9691-ac21dd0df8ac",
   "metadata": {},
   "outputs": [
    {
     "name": "stdout",
     "output_type": "stream",
     "text": [
      "0\n"
     ]
    },
    {
     "ename": "IndexError",
     "evalue": "list index out of range",
     "output_type": "error",
     "traceback": [
      "\u001b[0;31m---------------------------------------------------------------------------\u001b[0m",
      "\u001b[0;31mIndexError\u001b[0m                                Traceback (most recent call last)",
      "\u001b[0;32m<ipython-input-36-b4ac0dad4be1>\u001b[0m in \u001b[0;36m<module>\u001b[0;34m\u001b[0m\n\u001b[1;32m     25\u001b[0m \u001b[0;34m\u001b[0m\u001b[0m\n\u001b[1;32m     26\u001b[0m     \u001b[0;31m# 頂点 v から 1 手で行ける頂点 next_v を探索\u001b[0m\u001b[0;34m\u001b[0m\u001b[0;34m\u001b[0m\u001b[0;34m\u001b[0m\u001b[0m\n\u001b[0;32m---> 27\u001b[0;31m     \u001b[0;32mfor\u001b[0m \u001b[0mnext_v\u001b[0m \u001b[0;32min\u001b[0m \u001b[0mG\u001b[0m\u001b[0;34m[\u001b[0m\u001b[0mv\u001b[0m\u001b[0;34m]\u001b[0m\u001b[0;34m:\u001b[0m\u001b[0;34m\u001b[0m\u001b[0;34m\u001b[0m\u001b[0m\n\u001b[0m\u001b[1;32m     28\u001b[0m         \u001b[0;31m# 頂点 next_v が探索済みであれば何もしない\u001b[0m\u001b[0;34m\u001b[0m\u001b[0;34m\u001b[0m\u001b[0;34m\u001b[0m\u001b[0m\n\u001b[1;32m     29\u001b[0m         \u001b[0;32mif\u001b[0m \u001b[0mdist\u001b[0m\u001b[0;34m[\u001b[0m\u001b[0mnext_v\u001b[0m\u001b[0;34m]\u001b[0m \u001b[0;34m!=\u001b[0m \u001b[0;34m-\u001b[0m\u001b[0;36m1\u001b[0m\u001b[0;34m:\u001b[0m\u001b[0;34m\u001b[0m\u001b[0;34m\u001b[0m\u001b[0m\n",
      "\u001b[0;31mIndexError\u001b[0m: list index out of range"
     ]
    }
   ],
   "source": [
    "if G == []:\n",
    "    print (0)\n",
    "\n",
    "#アルゴ式\n",
    "\n",
    "from queue import Queue\n",
    "\n",
    "# 各頂点が何手目に探索されたか\n",
    "# -1 は「まだ探索されていない」ことを表す\n",
    "dist = [-1] * N\n",
    "cnt = [-1] * N\n",
    "\n",
    "# todo リストを表すキュー\n",
    "que = Queue()\n",
    "\n",
    "# 頂点 0 を始点とする\n",
    "dist[0] = 0\n",
    "cnt[0] = 1\n",
    "que.put(0)\n",
    "\n",
    "# キューが空になるまで探索する\n",
    "while not que.empty():\n",
    "    # キューから頂点を取り出す\n",
    "    v = que.get()\n",
    "\n",
    "    # 頂点 v から 1 手で行ける頂点 next_v を探索\n",
    "    for next_v in G[v]:\n",
    "        # 頂点 next_v が探索済みであれば何もしない\n",
    "        if dist[next_v] != -1:\n",
    "            if dist[next_v] == dist[v] + 1:\n",
    "                cnt[next_v] += cnt[v]\n",
    "            continue\n",
    "\n",
    "        # 頂点 next_v を探索する\n",
    "        dist[next_v] = dist[v] + 1\n",
    "        cnt[next_v] = cnt[v]\n",
    "        que.put(next_v)\n",
    "\n",
    "print (dist[N-1])"
   ]
  },
  {
   "cell_type": "code",
   "execution_count": 28,
   "id": "6b147141-ac4c-4a53-bb8b-e0f2b58b7cdb",
   "metadata": {},
   "outputs": [
    {
     "data": {
      "text/plain": [
       "[1, 2, 1, 1, 2, 2, 4]"
      ]
     },
     "execution_count": 28,
     "metadata": {},
     "output_type": "execute_result"
    }
   ],
   "source": [
    "cnt"
   ]
  }
 ],
 "metadata": {
  "kernelspec": {
   "display_name": "Python 3",
   "language": "python",
   "name": "python3"
  },
  "language_info": {
   "codemirror_mode": {
    "name": "ipython",
    "version": 3
   },
   "file_extension": ".py",
   "mimetype": "text/x-python",
   "name": "python",
   "nbconvert_exporter": "python",
   "pygments_lexer": "ipython3",
   "version": "3.8.8"
  }
 },
 "nbformat": 4,
 "nbformat_minor": 5
}
