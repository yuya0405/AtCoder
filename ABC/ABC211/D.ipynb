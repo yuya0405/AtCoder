{
 "cells": [
  {
   "cell_type": "code",
   "execution_count": 22,
   "id": "e7e1040f-c293-4c5f-9fff-66c0ce4bf538",
   "metadata": {},
   "outputs": [
    {
     "name": "stdin",
     "output_type": "stream",
     "text": [
      " 7 8\n",
      " 1 3\n",
      " 1 4\n",
      " 2 3\n",
      " 2 4\n",
      " 2 5\n",
      " 2 6\n",
      " 5 7\n",
      " 6 7\n"
     ]
    }
   ],
   "source": [
    "N, M = map(int, input().split())\n",
    "AB = [list(map(int, input().split())) for _ in range(M)]"
   ]
  },
  {
   "cell_type": "code",
   "execution_count": 23,
   "id": "efff2cc2-5854-4d6f-afba-839710e34080",
   "metadata": {},
   "outputs": [],
   "source": [
    "G = [[] for _ in range(N)]\n",
    "for a, b in AB:\n",
    "    G[a-1].append(b-1)\n",
    "    G[b-1].append(a-1)"
   ]
  },
  {
   "cell_type": "code",
   "execution_count": 24,
   "id": "d530f3e1-374b-4f45-acf1-e40d8111f2e4",
   "metadata": {},
   "outputs": [
    {
     "data": {
      "text/plain": [
       "[[2, 3], [2, 3, 4, 5], [0, 1], [0, 1], [1, 6], [1, 6], [4, 5]]"
      ]
     },
     "execution_count": 24,
     "metadata": {},
     "output_type": "execute_result"
    }
   ],
   "source": [
    "G"
   ]
  },
  {
   "cell_type": "code",
   "execution_count": 25,
   "id": "af50e888-3239-44b9-9691-ac21dd0df8ac",
   "metadata": {},
   "outputs": [
    {
     "name": "stdout",
     "output_type": "stream",
     "text": [
      "4\n"
     ]
    }
   ],
   "source": [
    "#アルゴ式\n",
    "\n",
    "from queue import Queue\n",
    "\n",
    "# 各頂点が何手目に探索されたか\n",
    "# -1 は「まだ探索されていない」ことを表す\n",
    "dist = [-1] * N\n",
    "cnt = [-1] * N\n",
    "\n",
    "# todo リストを表すキュー\n",
    "que = Queue()\n",
    "\n",
    "# 頂点 0 を始点とする\n",
    "dist[0] = 0\n",
    "cnt[0] = 1\n",
    "que.put(0)\n",
    "\n",
    "# キューが空になるまで探索する\n",
    "while not que.empty():\n",
    "    # キューから頂点を取り出す\n",
    "    v = que.get()\n",
    "\n",
    "    # 頂点 v から 1 手で行ける頂点 next_v を探索\n",
    "    for next_v in G[v]:\n",
    "        # 頂点 next_v が探索済みであれば何もしない\n",
    "        if dist[next_v] != -1:\n",
    "            if dist[next_v] == dist[v] + 1:\n",
    "                cnt[next_v] += cnt[v]\n",
    "                cnt[next_v] %= 10**9+7\n",
    "            continue\n",
    "\n",
    "        # 頂点 next_v を探索する\n",
    "        dist[next_v] = dist[v] + 1\n",
    "        cnt[next_v] = cnt[v]\n",
    "        que.put(next_v)\n",
    "\n",
    "if cnt[N-1] == -1:\n",
    "    print (0)\n",
    "else:\n",
    "    print (cnt[N-1])"
   ]
  },
  {
   "cell_type": "code",
   "execution_count": 26,
   "id": "6b147141-ac4c-4a53-bb8b-e0f2b58b7cdb",
   "metadata": {},
   "outputs": [
    {
     "data": {
      "text/plain": [
       "[1, 2, 1, 1, 2, 2, 4]"
      ]
     },
     "execution_count": 26,
     "metadata": {},
     "output_type": "execute_result"
    }
   ],
   "source": [
    "cnt"
   ]
  },
  {
   "cell_type": "code",
   "execution_count": null,
   "id": "4957384c-5c29-4d56-aa9c-361ff4821a4e",
   "metadata": {},
   "outputs": [],
   "source": []
  },
  {
   "cell_type": "code",
   "execution_count": null,
   "id": "f58d88f1-341a-4911-982b-f2f4a9bddb5d",
   "metadata": {},
   "outputs": [],
   "source": []
  }
 ],
 "metadata": {
  "kernelspec": {
   "display_name": "Python 3",
   "language": "python",
   "name": "python3"
  },
  "language_info": {
   "codemirror_mode": {
    "name": "ipython",
    "version": 3
   },
   "file_extension": ".py",
   "mimetype": "text/x-python",
   "name": "python",
   "nbconvert_exporter": "python",
   "pygments_lexer": "ipython3",
   "version": "3.8.8"
  }
 },
 "nbformat": 4,
 "nbformat_minor": 5
}
