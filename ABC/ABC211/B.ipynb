{
 "cells": [
  {
   "cell_type": "code",
   "execution_count": 9,
   "id": "4a14ea5b-8ff9-460e-be49-2c1a66581173",
   "metadata": {},
   "outputs": [
    {
     "name": "stdin",
     "output_type": "stream",
     "text": [
      " 2B\n",
      " 3B\n",
      " HR\n",
      " 3B\n"
     ]
    }
   ],
   "source": [
    "S1 = input()\n",
    "S2 = input()\n",
    "S3 = input()\n",
    "S4 = input()"
   ]
  },
  {
   "cell_type": "code",
   "execution_count": 10,
   "id": "4cb93dbe-c6df-4ea8-ac38-edb29c7bd616",
   "metadata": {},
   "outputs": [
    {
     "data": {
      "text/plain": [
       "['2B', '3B', 'HR', '3B']"
      ]
     },
     "execution_count": 10,
     "metadata": {},
     "output_type": "execute_result"
    }
   ],
   "source": [
    "S = []\n",
    "S.append(S1)\n",
    "S.append(S2)\n",
    "S.append(S3)\n",
    "S.append(S4)\n",
    "S"
   ]
  },
  {
   "cell_type": "code",
   "execution_count": 11,
   "id": "83fc4dce-c625-4b21-90dd-8b6524767426",
   "metadata": {},
   "outputs": [
    {
     "name": "stdout",
     "output_type": "stream",
     "text": [
      "No\n"
     ]
    }
   ],
   "source": [
    "import collections\n",
    "\n",
    "C = collections.Counter(S)\n",
    "if list(C.values()) == [1, 1, 1, 1]:\n",
    "    print (\"Yes\")\n",
    "else:\n",
    "    print (\"No\")"
   ]
  },
  {
   "cell_type": "code",
   "execution_count": null,
   "id": "710e6eb8-86ea-4346-8029-2f3bfb0e17f3",
   "metadata": {},
   "outputs": [],
   "source": []
  }
 ],
 "metadata": {
  "kernelspec": {
   "display_name": "Python 3",
   "language": "python",
   "name": "python3"
  },
  "language_info": {
   "codemirror_mode": {
    "name": "ipython",
    "version": 3
   },
   "file_extension": ".py",
   "mimetype": "text/x-python",
   "name": "python",
   "nbconvert_exporter": "python",
   "pygments_lexer": "ipython3",
   "version": "3.8.8"
  }
 },
 "nbformat": 4,
 "nbformat_minor": 5
}
