{
 "cells": [
  {
   "cell_type": "code",
   "execution_count": 2,
   "id": "2412f275-12d4-4829-8318-8bf2365ee634",
   "metadata": {},
   "outputs": [
    {
     "name": "stdin",
     "output_type": "stream",
     "text": [
      " 2\n",
      " 4 0 1\n",
      " 5 3\n",
      " 2\n"
     ]
    }
   ],
   "source": [
    "N = int(input())\n",
    "A = [list(map(int, input().split())) for _ in range(2*N-1)]"
   ]
  },
  {
   "cell_type": "code",
   "execution_count": 5,
   "id": "9e59b9b6-7f01-4b71-b31c-18d828374f20",
   "metadata": {},
   "outputs": [
    {
     "data": {
      "text/plain": [
       "[[4, 0, 1], [5, 3], [2]]"
      ]
     },
     "execution_count": 5,
     "metadata": {},
     "output_type": "execute_result"
    }
   ],
   "source": [
    "A"
   ]
  },
  {
   "cell_type": "code",
   "execution_count": 15,
   "id": "64298f58-a9e0-4ea7-b6b7-2e523e233931",
   "metadata": {},
   "outputs": [
    {
     "data": {
      "text/plain": [
       "[[0, 4, 0, 1], [0, 0, 5, 3], [0, 0, 0, 2]]"
      ]
     },
     "execution_count": 15,
     "metadata": {},
     "output_type": "execute_result"
    }
   ],
   "source": [
    "B = []\n",
    "for i, a in enumerate(A):\n",
    "    B.append([0]*(i+1) + a)\n",
    "B"
   ]
  },
  {
   "cell_type": "code",
   "execution_count": 25,
   "id": "1c6a1b41-12ae-48e9-adad-c312d8ec659b",
   "metadata": {},
   "outputs": [
    {
     "data": {
      "text/plain": [
       "[0, 0, 0, 0, 0, 0, 0, 0, 0, 0, 0, 0, 0, 0, 0]"
      ]
     },
     "execution_count": 25,
     "metadata": {},
     "output_type": "execute_result"
    }
   ],
   "source": [
    "dp = [0] * (2**(2*N)-1)\n",
    "dp"
   ]
  },
  {
   "cell_type": "code",
   "execution_count": null,
   "id": "a052c733-3fe6-47c3-a987-05b5707048aa",
   "metadata": {},
   "outputs": [],
   "source": []
  }
 ],
 "metadata": {
  "kernelspec": {
   "display_name": "Python 3",
   "language": "python",
   "name": "python3"
  },
  "language_info": {
   "codemirror_mode": {
    "name": "ipython",
    "version": 3
   },
   "file_extension": ".py",
   "mimetype": "text/x-python",
   "name": "python",
   "nbconvert_exporter": "python",
   "pygments_lexer": "ipython3",
   "version": "3.8.8"
  }
 },
 "nbformat": 4,
 "nbformat_minor": 5
}
