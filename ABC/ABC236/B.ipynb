{
 "cells": [
  {
   "cell_type": "code",
   "execution_count": 16,
   "id": "47d9e83c-be2f-4f5a-aa2b-df572bc5f0d7",
   "metadata": {},
   "outputs": [],
   "source": [
    "N = int(input())\n",
    "A = list(map(int, input().split()))\n",
    "\n",
    "import collections\n",
    "c = collections.Counter(A)\n",
    "\n",
    "for item in c.items():\n",
    "    if item[1] == 3:\n",
    "        print (item[0])"
   ]
  },
  {
   "cell_type": "code",
   "execution_count": null,
   "id": "25bd9eb8-48d3-4d4f-97b1-decb274160d4",
   "metadata": {},
   "outputs": [],
   "source": []
  }
 ],
 "metadata": {
  "kernelspec": {
   "display_name": "Python 3",
   "language": "python",
   "name": "python3"
  },
  "language_info": {
   "codemirror_mode": {
    "name": "ipython",
    "version": 3
   },
   "file_extension": ".py",
   "mimetype": "text/x-python",
   "name": "python",
   "nbconvert_exporter": "python",
   "pygments_lexer": "ipython3",
   "version": "3.8.8"
  }
 },
 "nbformat": 4,
 "nbformat_minor": 5
}
