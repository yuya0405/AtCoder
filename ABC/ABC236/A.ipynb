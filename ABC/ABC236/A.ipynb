{
 "cells": [
  {
   "cell_type": "code",
   "execution_count": 22,
   "id": "2595ea54-7f8a-4f2c-b1ee-3f15b6b4ab26",
   "metadata": {},
   "outputs": [],
   "source": [
    "S = input()\n",
    "a, b = map(int, input().split())\n",
    "\n",
    "print (S[:a-1] + S[b-1] + S[a:b-1] + S[a-1] + S[b:])"
   ]
  },
  {
   "cell_type": "code",
   "execution_count": null,
   "id": "d80ba5d6-a3f9-4c2d-8fdb-415c015f9834",
   "metadata": {},
   "outputs": [],
   "source": []
  }
 ],
 "metadata": {
  "kernelspec": {
   "display_name": "Python 3",
   "language": "python",
   "name": "python3"
  },
  "language_info": {
   "codemirror_mode": {
    "name": "ipython",
    "version": 3
   },
   "file_extension": ".py",
   "mimetype": "text/x-python",
   "name": "python",
   "nbconvert_exporter": "python",
   "pygments_lexer": "ipython3",
   "version": "3.8.8"
  }
 },
 "nbformat": 4,
 "nbformat_minor": 5
}
