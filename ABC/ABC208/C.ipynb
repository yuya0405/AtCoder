{
 "cells": [
  {
   "cell_type": "code",
   "execution_count": 109,
   "id": "006751f3-aa8e-41e7-9b4b-b4e10f8b38f3",
   "metadata": {},
   "outputs": [
    {
     "name": "stdin",
     "output_type": "stream",
     "text": [
      " 1 3\n",
      " 33\n"
     ]
    },
    {
     "name": "stdout",
     "output_type": "stream",
     "text": [
      "3\n"
     ]
    }
   ],
   "source": [
    "N, K = map(int, input().split())\n",
    "A = list(map(int, input().split()))\n",
    "\n",
    "B = sorted(A)\n",
    "A_index = [B.index(a) for a in A]\n",
    "\n",
    "base = K//N\n",
    "K = K % N\n",
    "\n",
    "for a_index in A_index:\n",
    "    if a_index <= K-1:\n",
    "        print (base + 1)\n",
    "    else:\n",
    "        print (base)"
   ]
  },
  {
   "cell_type": "code",
   "execution_count": 107,
   "id": "af2696ab-73b2-4f37-93c1-c17e6c2a4fb2",
   "metadata": {},
   "outputs": [
    {
     "name": "stdout",
     "output_type": "stream",
     "text": [
      "1\n",
      "8\n"
     ]
    }
   ],
   "source": []
  },
  {
   "cell_type": "code",
   "execution_count": null,
   "id": "023c1ee2-a475-419b-ade3-560923be628d",
   "metadata": {},
   "outputs": [],
   "source": []
  }
 ],
 "metadata": {
  "kernelspec": {
   "display_name": "Python 3",
   "language": "python",
   "name": "python3"
  },
  "language_info": {
   "codemirror_mode": {
    "name": "ipython",
    "version": 3
   },
   "file_extension": ".py",
   "mimetype": "text/x-python",
   "name": "python",
   "nbconvert_exporter": "python",
   "pygments_lexer": "ipython3",
   "version": "3.8.8"
  }
 },
 "nbformat": 4,
 "nbformat_minor": 5
}
