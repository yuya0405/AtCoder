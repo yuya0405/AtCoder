{
 "cells": [
  {
   "cell_type": "code",
   "execution_count": 8,
   "id": "cf440235-d0cd-48ea-8131-d6d24ec56582",
   "metadata": {},
   "outputs": [
    {
     "name": "stdout",
     "output_type": "stream",
     "text": [
      "7 1000000000000\n",
      "99 8 2 4 43 5 3\n"
     ]
    }
   ],
   "source": [
    "N, K = map(int, input().split())\n",
    "A = list(map(int, input().split()))\n",
    "\n",
    "B = sorted(A)"
   ]
  },
  {
   "cell_type": "code",
   "execution_count": 9,
   "id": "ac897f05-a974-4790-b014-d740941ea276",
   "metadata": {},
   "outputs": [
    {
     "data": {
      "text/plain": [
       "[6, 4, 0, 2, 5, 3, 1]"
      ]
     },
     "execution_count": 9,
     "metadata": {},
     "output_type": "execute_result"
    }
   ],
   "source": [
    "\"\"\"\n",
    "A_index = [B.index(a) for a in A]\n",
    "A_index\n",
    "\"\"\""
   ]
  },
  {
   "cell_type": "code",
   "execution_count": 3,
   "id": "1fe8403a-a9c6-493d-848f-7de7f1c573df",
   "metadata": {},
   "outputs": [
    {
     "name": "stdout",
     "output_type": "stream",
     "text": [
      "142857142857\n",
      "142857142857\n",
      "142857142858\n",
      "142857142857\n",
      "142857142857\n",
      "142857142857\n",
      "142857142857\n"
     ]
    }
   ],
   "source": [
    "base = K // N\n",
    "K = K % N\n",
    "\n",
    "\"\"\"\n",
    "for a_index in A_index:\n",
    "    if a_index <= K-1:\n",
    "        print (base + 1)\n",
    "    else:\n",
    "        print (base)\n",
    "\"\"\""
   ]
  },
  {
   "cell_type": "code",
   "execution_count": 10,
   "id": "8f222d24",
   "metadata": {},
   "outputs": [
    {
     "data": {
      "text/plain": [
       "3"
      ]
     },
     "execution_count": 10,
     "metadata": {},
     "output_type": "execute_result"
    }
   ],
   "source": [
    "order = B[K%N]"
   ]
  },
  {
   "cell_type": "code",
   "execution_count": 13,
   "id": "7f883a98",
   "metadata": {},
   "outputs": [
    {
     "name": "stdout",
     "output_type": "stream",
     "text": [
      "142857142857\n",
      "142857142857\n",
      "142857142858\n",
      "142857142857\n",
      "142857142857\n",
      "142857142857\n",
      "142857142857\n"
     ]
    }
   ],
   "source": [
    "for a in A:\n",
    "    if a < order:\n",
    "        print (base + 1)\n",
    "    else:\n",
    "        print (base)"
   ]
  },
  {
   "cell_type": "code",
   "execution_count": null,
   "id": "f7114286",
   "metadata": {},
   "outputs": [],
   "source": []
  }
 ],
 "metadata": {
  "kernelspec": {
   "display_name": "Python 3",
   "language": "python",
   "name": "python3"
  },
  "language_info": {
   "codemirror_mode": {
    "name": "ipython",
    "version": 3
   },
   "file_extension": ".py",
   "mimetype": "text/x-python",
   "name": "python",
   "nbconvert_exporter": "python",
   "pygments_lexer": "ipython3",
   "version": "3.8.8"
  }
 },
 "nbformat": 4,
 "nbformat_minor": 5
}
