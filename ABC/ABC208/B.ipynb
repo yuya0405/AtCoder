{
 "cells": [
  {
   "cell_type": "code",
   "execution_count": 42,
   "id": "c6453e8a-8715-44fe-a98d-169b4a15df65",
   "metadata": {},
   "outputs": [
    {
     "name": "stdin",
     "output_type": "stream",
     "text": [
      " 10000000\n"
     ]
    },
    {
     "name": "stdout",
     "output_type": "stream",
     "text": [
      "24\n"
     ]
    }
   ],
   "source": [
    "P = int(input())\n",
    "\n",
    "import math\n",
    "\n",
    "V = [math.factorial(i) for i in range(1, 11)]\n",
    "\n",
    "ans = 0\n",
    "for i in range(9, -1, -1):\n",
    "    t = min(P//V[i], 100)\n",
    "    P -= t*V[i]\n",
    "    ans += t\n",
    "print (ans)"
   ]
  }
 ],
 "metadata": {
  "kernelspec": {
   "display_name": "Python 3",
   "language": "python",
   "name": "python3"
  },
  "language_info": {
   "codemirror_mode": {
    "name": "ipython",
    "version": 3
   },
   "file_extension": ".py",
   "mimetype": "text/x-python",
   "name": "python",
   "nbconvert_exporter": "python",
   "pygments_lexer": "ipython3",
   "version": "3.8.8"
  }
 },
 "nbformat": 4,
 "nbformat_minor": 5
}
