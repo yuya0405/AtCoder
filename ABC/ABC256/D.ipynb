{
 "cells": [
  {
   "cell_type": "code",
   "execution_count": 95,
   "id": "50b2e1b8-5aa3-4636-a619-ed39d40dbd84",
   "metadata": {},
   "outputs": [
    {
     "name": "stdin",
     "output_type": "stream",
     "text": [
      " 3\n",
      " 1 9\n",
      " 9 10\n",
      " 9 10\n"
     ]
    }
   ],
   "source": [
    "N = int(input())\n",
    "LR = [list(map(int, input().split())) for _ in range(N)]"
   ]
  },
  {
   "cell_type": "code",
   "execution_count": 96,
   "id": "131ed016-3ceb-4dea-8b53-132c3a4462dc",
   "metadata": {},
   "outputs": [
    {
     "name": "stdout",
     "output_type": "stream",
     "text": [
      "1 10\n"
     ]
    }
   ],
   "source": [
    "LR2 = []\n",
    "for L, R in LR:\n",
    "    LR2.append(L)\n",
    "    LR2.append(R)\n",
    "\n",
    "# 集合型にすることで重複を除去し、\n",
    "# 小さい順にソートする\n",
    "B = sorted(set(LR2))\n",
    "\n",
    "# B の各要素が何番目の要素なのかを辞書型で管理する\n",
    "D = { v: i for i, v in enumerate(B) }\n",
    "\n",
    "# 圧縮\n",
    "LR3 = []\n",
    "for i in range(len(LR2)):\n",
    "    LR3.append(D[LR2[i]])\n",
    "\n",
    "S = [0] * (max(LR3) + 1)\n",
    "\n",
    "from itertools import accumulate\n",
    "\n",
    "it = iter(LR3)\n",
    "for i, j in zip(it, it):\n",
    "    S[i] += 1\n",
    "    S[j] -= 1\n",
    "C = list(accumulate(S))\n",
    "\n",
    "pre = 0\n",
    "tmp = []\n",
    "for i, c in enumerate(C):\n",
    "    if pre == 0 and c >= 1:\n",
    "        tmp.append(B[i])\n",
    "        pre = 1\n",
    "    if pre == 1 and c == 0:\n",
    "        tmp.append(B[i])\n",
    "        print (*tmp)\n",
    "        tmp = []\n",
    "        pre = 0"
   ]
  },
  {
   "cell_type": "code",
   "execution_count": null,
   "id": "3f1b7697-4cb4-46a2-842e-4a71009b1625",
   "metadata": {},
   "outputs": [],
   "source": []
  }
 ],
 "metadata": {
  "kernelspec": {
   "display_name": "Python 3 (ipykernel)",
   "language": "python",
   "name": "python3"
  },
  "language_info": {
   "codemirror_mode": {
    "name": "ipython",
    "version": 3
   },
   "file_extension": ".py",
   "mimetype": "text/x-python",
   "name": "python",
   "nbconvert_exporter": "python",
   "pygments_lexer": "ipython3",
   "version": "3.9.12"
  }
 },
 "nbformat": 4,
 "nbformat_minor": 5
}
