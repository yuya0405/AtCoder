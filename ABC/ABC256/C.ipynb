{
 "cells": [
  {
   "cell_type": "code",
   "execution_count": 34,
   "id": "d1c2a43b-69d1-4802-92c1-b5723d55c1c6",
   "metadata": {},
   "outputs": [],
   "source": [
    "h1, h2, h3, w1, w2, w3 = map(int, input().split())\n",
    "\n",
    "count = 0\n",
    "for m1 in range(1, min(h1-1, w1-1)):\n",
    "    for m2 in range(1, min(h1-1-(m1-1), w2-1)):\n",
    "        m3 = h1 - m1 - m2\n",
    "        for m4 in range(1, min(h2-1, w1-1-(m1-1))):\n",
    "            for m5 in range(1, min(h2-1-(m4-1), w2-1-(m2-1))):\n",
    "                m6 = h2 - m4 - m5\n",
    "                m7 = w1 - m1 - m4\n",
    "                m8 = w2 - m2 - m5\n",
    "                m9 = w3 - m3 - m6\n",
    "                if m9 <= 0 or m7+m8+m9 != h3:\n",
    "                    continue\n",
    "                count += 1\n",
    "                # print (m1, m2, m3)\n",
    "                # print (m4, m5, m6)\n",
    "                # print (m7, m8, m9)\n",
    "print (count)"
   ]
  },
  {
   "cell_type": "code",
   "execution_count": null,
   "id": "c9a1a33e-897e-4772-bdf6-d5715a16584c",
   "metadata": {},
   "outputs": [],
   "source": []
  }
 ],
 "metadata": {
  "kernelspec": {
   "display_name": "Python 3 (ipykernel)",
   "language": "python",
   "name": "python3"
  },
  "language_info": {
   "codemirror_mode": {
    "name": "ipython",
    "version": 3
   },
   "file_extension": ".py",
   "mimetype": "text/x-python",
   "name": "python",
   "nbconvert_exporter": "python",
   "pygments_lexer": "ipython3",
   "version": "3.9.12"
  }
 },
 "nbformat": 4,
 "nbformat_minor": 5
}
