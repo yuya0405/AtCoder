{
 "cells": [
  {
   "cell_type": "code",
   "execution_count": 21,
   "id": "fa204605-8855-4f0e-8e9d-732d96c01165",
   "metadata": {},
   "outputs": [],
   "source": [
    "N = int(input())\n",
    "A = list(map(int, input().split()))\n",
    "\n",
    "P = 0\n",
    "masu = []\n",
    "for a in A:\n",
    "    masu.append(0)\n",
    "    masu = [i+a for i in masu]\n",
    "ans = [i for i in masu if i >= 4]\n",
    "print (len(ans))"
   ]
  },
  {
   "cell_type": "code",
   "execution_count": null,
   "id": "56353d5b-eb4f-47e4-91c2-ba469f6ce5bc",
   "metadata": {},
   "outputs": [],
   "source": []
  }
 ],
 "metadata": {
  "kernelspec": {
   "display_name": "Python 3 (ipykernel)",
   "language": "python",
   "name": "python3"
  },
  "language_info": {
   "codemirror_mode": {
    "name": "ipython",
    "version": 3
   },
   "file_extension": ".py",
   "mimetype": "text/x-python",
   "name": "python",
   "nbconvert_exporter": "python",
   "pygments_lexer": "ipython3",
   "version": "3.9.12"
  }
 },
 "nbformat": 4,
 "nbformat_minor": 5
}
