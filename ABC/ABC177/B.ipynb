{
 "cells": [
  {
   "cell_type": "code",
   "execution_count": 16,
   "id": "3ded7d9d-c413-4e4e-b4c0-495ab46f9162",
   "metadata": {},
   "outputs": [
    {
     "name": "stdin",
     "output_type": "stream",
     "text": [
      " codeforces\n",
      " atcoder\n"
     ]
    }
   ],
   "source": [
    "S = input()\n",
    "T = input()"
   ]
  },
  {
   "cell_type": "code",
   "execution_count": 17,
   "id": "b3a3f439-37c0-4224-8956-5ff697f4cfcd",
   "metadata": {},
   "outputs": [
    {
     "name": "stdout",
     "output_type": "stream",
     "text": [
      "6\n"
     ]
    }
   ],
   "source": [
    "ans = 0\n",
    "for i in range(len(S)-len(T)+1):\n",
    "    tmp = 0\n",
    "    for j in range(len(T)):\n",
    "        if S[i+j] == T[j]:\n",
    "            tmp += 1\n",
    "    ans = max(ans, tmp)\n",
    "print (len(T)-ans)"
   ]
  },
  {
   "cell_type": "code",
   "execution_count": null,
   "id": "e34e22ed-7c50-4626-8d10-f30bd8b7a379",
   "metadata": {},
   "outputs": [],
   "source": []
  }
 ],
 "metadata": {
  "kernelspec": {
   "display_name": "Python 3",
   "language": "python",
   "name": "python3"
  },
  "language_info": {
   "codemirror_mode": {
    "name": "ipython",
    "version": 3
   },
   "file_extension": ".py",
   "mimetype": "text/x-python",
   "name": "python",
   "nbconvert_exporter": "python",
   "pygments_lexer": "ipython3",
   "version": "3.8.8"
  }
 },
 "nbformat": 4,
 "nbformat_minor": 5
}
