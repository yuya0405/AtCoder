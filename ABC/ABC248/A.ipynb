{
 "cells": [
  {
   "cell_type": "code",
   "execution_count": 47,
   "id": "d58f0fc2-4f60-465f-b037-73a3e0d1ac1f",
   "metadata": {},
   "outputs": [
    {
     "name": "stdin",
     "output_type": "stream",
     "text": [
      " 012345678\n"
     ]
    },
    {
     "name": "stdout",
     "output_type": "stream",
     "text": [
      "9\n"
     ]
    }
   ],
   "source": [
    "S = input()\n",
    "\n",
    "tmp = 0\n",
    "for s in sorted(S):\n",
    "    if tmp != int(s):\n",
    "        print (tmp)\n",
    "        exit()\n",
    "    tmp += 1\n",
    "print (9)"
   ]
  },
  {
   "cell_type": "code",
   "execution_count": null,
   "id": "46b9a8b2-4790-4494-b697-e05c4646712d",
   "metadata": {},
   "outputs": [],
   "source": []
  }
 ],
 "metadata": {
  "kernelspec": {
   "display_name": "Python 3",
   "language": "python",
   "name": "python3"
  },
  "language_info": {
   "codemirror_mode": {
    "name": "ipython",
    "version": 3
   },
   "file_extension": ".py",
   "mimetype": "text/x-python",
   "name": "python",
   "nbconvert_exporter": "python",
   "pygments_lexer": "ipython3",
   "version": "3.8.8"
  }
 },
 "nbformat": 4,
 "nbformat_minor": 5
}
