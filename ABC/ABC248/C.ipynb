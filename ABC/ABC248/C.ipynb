{
 "cells": [
  {
   "cell_type": "code",
   "execution_count": 87,
   "id": "4ac4e47e-ff3d-40ba-b4e5-c947ec223044",
   "metadata": {},
   "outputs": [],
   "source": [
    "N, M, K = map(int, input().split())\n",
    "\n",
    "dp = [[0]*(K+1) for _ in range(N+1)]\n",
    "\n",
    "for s in range(1, M+1):\n",
    "    dp[1][s] = 1\n",
    "\n",
    "for k in range(2, N+1):\n",
    "    for s in range(2, K+1):\n",
    "        dp[k][s] = sum(dp[k-1][max(0,s-M):s])\n",
    "        dp[k][s] %= 998244353\n",
    "\n",
    "print (sum(dp[N]) % 998244353)"
   ]
  },
  {
   "cell_type": "code",
   "execution_count": 67,
   "id": "44eada73-a299-4d77-863d-5ee5e93aff9e",
   "metadata": {},
   "outputs": [
    {
     "ename": "KeyboardInterrupt",
     "evalue": "",
     "output_type": "error",
     "traceback": [
      "\u001b[0;31m---------------------------------------------------------------------------\u001b[0m",
      "\u001b[0;31mKeyboardInterrupt\u001b[0m                         Traceback (most recent call last)",
      "Input \u001b[0;32mIn [67]\u001b[0m, in \u001b[0;36m<cell line: 8>\u001b[0;34m()\u001b[0m\n\u001b[1;32m      8\u001b[0m \u001b[38;5;28;01mfor\u001b[39;00m p \u001b[38;5;129;01min\u001b[39;00m P:\n\u001b[1;32m      9\u001b[0m     \u001b[38;5;28;01mif\u001b[39;00m \u001b[38;5;28msum\u001b[39m(p) \u001b[38;5;241m<\u001b[39m\u001b[38;5;241m=\u001b[39m K:\n\u001b[0;32m---> 10\u001b[0m         ans \u001b[38;5;241m+\u001b[39m\u001b[38;5;241m=\u001b[39m \u001b[38;5;241m1\u001b[39m\n\u001b[1;32m     11\u001b[0m \u001b[38;5;28mprint\u001b[39m (ans)\n",
      "\u001b[0;31mKeyboardInterrupt\u001b[0m: "
     ]
    }
   ],
   "source": [
    "# TLE\n",
    "\n",
    "import itertools\n",
    "\n",
    "L = list(range(1, M+1))\n",
    "P = itertools.product(L, repeat=N)\n",
    "ans = 0\n",
    "for p in P:\n",
    "    if sum(p) <= K:\n",
    "        ans += 1\n",
    "print (ans)"
   ]
  },
  {
   "cell_type": "code",
   "execution_count": null,
   "id": "a05e52f2-ff70-464c-9813-f23e51cf5aaf",
   "metadata": {},
   "outputs": [],
   "source": []
  }
 ],
 "metadata": {
  "kernelspec": {
   "display_name": "Python 3 (ipykernel)",
   "language": "python",
   "name": "python3"
  },
  "language_info": {
   "codemirror_mode": {
    "name": "ipython",
    "version": 3
   },
   "file_extension": ".py",
   "mimetype": "text/x-python",
   "name": "python",
   "nbconvert_exporter": "python",
   "pygments_lexer": "ipython3",
   "version": "3.9.12"
  }
 },
 "nbformat": 4,
 "nbformat_minor": 5
}
