{
 "cells": [
  {
   "cell_type": "code",
   "execution_count": 107,
   "id": "7ebc066c-0a8c-40f5-98d2-deb18fd992c6",
   "metadata": {},
   "outputs": [
    {
     "name": "stdin",
     "output_type": "stream",
     "text": [
      " 2 3 4\n"
     ]
    }
   ],
   "source": [
    "N, M, K = map(int, input().split())"
   ]
  },
  {
   "cell_type": "code",
   "execution_count": 108,
   "id": "138ad415-30a4-4b86-b310-794437813543",
   "metadata": {},
   "outputs": [
    {
     "data": {
      "text/plain": [
       "[[0, 0], [0, 0], [0, 0], [0, 0], [0, 0]]"
      ]
     },
     "execution_count": 108,
     "metadata": {},
     "output_type": "execute_result"
    }
   ],
   "source": [
    "dp = [[0]*N for _ in range(K+1)]\n",
    "dp"
   ]
  },
  {
   "cell_type": "code",
   "execution_count": 109,
   "id": "aa4ed54b-3d07-4d21-aa1b-569570d5f67b",
   "metadata": {},
   "outputs": [
    {
     "data": {
      "text/plain": [
       "[[1, 0], [1, 0], [1, 0], [0, 0], [0, 0]]"
      ]
     },
     "execution_count": 109,
     "metadata": {},
     "output_type": "execute_result"
    }
   ],
   "source": [
    "for i in range(M):\n",
    "    dp[i][0] = 1\n",
    "dp"
   ]
  },
  {
   "cell_type": "code",
   "execution_count": 110,
   "id": "c6530e34-dc59-4fe7-acd0-366fd6bcffe8",
   "metadata": {},
   "outputs": [
    {
     "data": {
      "text/plain": [
       "[[1, 0], [1, 1], [1, 2], [0, 3], [0, 3]]"
      ]
     },
     "execution_count": 110,
     "metadata": {},
     "output_type": "execute_result"
    }
   ],
   "source": [
    "for i in range(1, K+1):\n",
    "    for j in range(1, N):\n",
    "        dp[i][j] = dp[i-1][j-1] + dp[i-1][j]\n",
    "dp"
   ]
  },
  {
   "cell_type": "code",
   "execution_count": 111,
   "id": "606bc80a-e41d-49af-a071-bd7d87355cd9",
   "metadata": {},
   "outputs": [
    {
     "name": "stdout",
     "output_type": "stream",
     "text": [
      "9\n"
     ]
    }
   ],
   "source": [
    "ans = 0\n",
    "for i in range(K+1):\n",
    "    ans += dp[i][N-1]\n",
    "print (ans)"
   ]
  },
  {
   "cell_type": "code",
   "execution_count": 112,
   "id": "44eada73-a299-4d77-863d-5ee5e93aff9e",
   "metadata": {},
   "outputs": [
    {
     "name": "stdout",
     "output_type": "stream",
     "text": [
      "6\n"
     ]
    }
   ],
   "source": [
    "# TLE\n",
    "\n",
    "import itertools\n",
    "\n",
    "L = list(range(1, M+1))\n",
    "P = itertools.product(L, repeat=N)\n",
    "ans = 0\n",
    "for p in P:\n",
    "    if sum(p) <= K:\n",
    "        ans += 1\n",
    "print (ans)"
   ]
  },
  {
   "cell_type": "code",
   "execution_count": null,
   "id": "a05e52f2-ff70-464c-9813-f23e51cf5aaf",
   "metadata": {},
   "outputs": [],
   "source": []
  }
 ],
 "metadata": {
  "kernelspec": {
   "display_name": "Python 3",
   "language": "python",
   "name": "python3"
  },
  "language_info": {
   "codemirror_mode": {
    "name": "ipython",
    "version": 3
   },
   "file_extension": ".py",
   "mimetype": "text/x-python",
   "name": "python",
   "nbconvert_exporter": "python",
   "pygments_lexer": "ipython3",
   "version": "3.8.8"
  }
 },
 "nbformat": 4,
 "nbformat_minor": 5
}
