{
 "cells": [
  {
   "cell_type": "code",
   "execution_count": 12,
   "id": "74405724-f73e-4721-a56c-eb1b68993ee2",
   "metadata": {},
   "outputs": [],
   "source": [
    "A, B, K = map(int, input().split())\n",
    "\n",
    "count = 0\n",
    "while(1):\n",
    "    if A >= B:\n",
    "        print (count)\n",
    "        break\n",
    "    count += 1\n",
    "    A *= K"
   ]
  },
  {
   "cell_type": "code",
   "execution_count": null,
   "id": "944ae54f-494c-4d16-b629-ed0342ae671c",
   "metadata": {},
   "outputs": [],
   "source": []
  }
 ],
 "metadata": {
  "kernelspec": {
   "display_name": "Python 3",
   "language": "python",
   "name": "python3"
  },
  "language_info": {
   "codemirror_mode": {
    "name": "ipython",
    "version": 3
   },
   "file_extension": ".py",
   "mimetype": "text/x-python",
   "name": "python",
   "nbconvert_exporter": "python",
   "pygments_lexer": "ipython3",
   "version": "3.8.8"
  }
 },
 "nbformat": 4,
 "nbformat_minor": 5
}
