{
 "cells": [
  {
   "cell_type": "code",
   "execution_count": 47,
   "id": "94f065a8-21d3-488a-9dd2-6e9627f85406",
   "metadata": {},
   "outputs": [
    {
     "name": "stdin",
     "output_type": "stream",
     "text": [
      " 100 0\n",
      " \n"
     ]
    }
   ],
   "source": [
    "X, N = map(int, input().split())\n",
    "P = list(map(int, input().split()))"
   ]
  },
  {
   "cell_type": "code",
   "execution_count": 49,
   "id": "36027697-7caf-40b3-acab-6d47936b3ad3",
   "metadata": {},
   "outputs": [],
   "source": [
    "# AC\n",
    "\n",
    "P_set = set(P)\n",
    "\n",
    "count = 1\n",
    "while(1):\n",
    "    if X not in P_set:\n",
    "        print (X)\n",
    "        break\n",
    "    if X-count not in P_set:\n",
    "        print (X-count)\n",
    "        break\n",
    "    if X+count not in P_set:\n",
    "        print (X+count)\n",
    "        break\n",
    "    count += 1"
   ]
  },
  {
   "cell_type": "code",
   "execution_count": 28,
   "id": "9a680b51-86cf-4cfa-9461-f5c17998b695",
   "metadata": {},
   "outputs": [],
   "source": [
    "# 方針が間違い（制約が小さいことに気付くべき）\n",
    "\n",
    "P.sort()\n",
    "\n",
    "import bisect\n",
    "\n",
    "left_index = bisect.bisect_left(P, X)\n",
    "\n",
    "right_index = bisect.bisect_right(P, X)\n",
    "\n",
    "if left_index == right_index:\n",
    "    print (X)\n",
    "else:\n",
    "    while(1):\n",
    "        left_index -= 1\n",
    "        if (left_index+right_index)/2 > X:\n",
    "            print (P[right_index-1]+1)\n",
    "            break\n",
    "        elif (left_index+right_index)/2 < X:\n",
    "            print (P[left_index+1]-1)\n",
    "            break\n",
    "        right_index += 1"
   ]
  },
  {
   "cell_type": "code",
   "execution_count": null,
   "id": "91c73cbb-a0d1-406e-bc6b-b9eaf86432fe",
   "metadata": {},
   "outputs": [],
   "source": []
  }
 ],
 "metadata": {
  "kernelspec": {
   "display_name": "Python 3",
   "language": "python",
   "name": "python3"
  },
  "language_info": {
   "codemirror_mode": {
    "name": "ipython",
    "version": 3
   },
   "file_extension": ".py",
   "mimetype": "text/x-python",
   "name": "python",
   "nbconvert_exporter": "python",
   "pygments_lexer": "ipython3",
   "version": "3.8.8"
  }
 },
 "nbformat": 4,
 "nbformat_minor": 5
}
