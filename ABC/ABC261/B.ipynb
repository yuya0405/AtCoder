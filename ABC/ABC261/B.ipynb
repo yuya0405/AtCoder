{
 "cells": [
  {
   "cell_type": "code",
   "execution_count": 21,
   "id": "f40303fe-304b-4e58-aec5-8007ce611870",
   "metadata": {},
   "outputs": [
    {
     "name": "stdin",
     "output_type": "stream",
     "text": [
      " 4\n",
      " -WWW\n",
      " L-DD\n",
      " LD-W\n",
      " LDW-\n"
     ]
    }
   ],
   "source": [
    "N = int(input())\n",
    "A = [input() for _ in range(N)]"
   ]
  },
  {
   "cell_type": "code",
   "execution_count": 27,
   "id": "055f5943-121c-47c1-a2d6-f6bb7f48aa60",
   "metadata": {},
   "outputs": [
    {
     "name": "stdout",
     "output_type": "stream",
     "text": [
      "incorrect\n",
      "incorrect\n",
      "correct\n"
     ]
    }
   ],
   "source": [
    "for i in range(N):\n",
    "    for j in range(N):\n",
    "        if A[i][j] == \"W\" and A[j][i] != \"L\":\n",
    "            print (\"incorrect\")\n",
    "            exit()\n",
    "        if A[i][j] == \"L\" and A[j][i] != \"W\":\n",
    "            print (\"incorrect\")\n",
    "            exit()\n",
    "        if A[i][j] == \"D\" and A[j][i] != \"D\":\n",
    "            print (\"incorrect\")\n",
    "            exit()\n",
    "print (\"correct\")"
   ]
  },
  {
   "cell_type": "code",
   "execution_count": null,
   "id": "595afde9-f9ee-497c-900e-d3b1ab87d94a",
   "metadata": {},
   "outputs": [],
   "source": []
  }
 ],
 "metadata": {
  "kernelspec": {
   "display_name": "Python 3 (ipykernel)",
   "language": "python",
   "name": "python3"
  },
  "language_info": {
   "codemirror_mode": {
    "name": "ipython",
    "version": 3
   },
   "file_extension": ".py",
   "mimetype": "text/x-python",
   "name": "python",
   "nbconvert_exporter": "python",
   "pygments_lexer": "ipython3",
   "version": "3.9.13"
  }
 },
 "nbformat": 4,
 "nbformat_minor": 5
}
