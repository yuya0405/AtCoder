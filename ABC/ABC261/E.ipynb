{
 "cells": [
  {
   "cell_type": "code",
   "execution_count": 1,
   "id": "46a5e021-a728-45a9-8afc-c89d9de40342",
   "metadata": {},
   "outputs": [
    {
     "name": "stdin",
     "output_type": "stream",
     "text": [
      " 3 10\n",
      " 3 3\n",
      " 2 5\n",
      " 1 12\n"
     ]
    }
   ],
   "source": [
    "N, C = map(int, input().split())\n",
    "TA = [list(map(int, input().split())) for _ in range(N)]"
   ]
  },
  {
   "cell_type": "code",
   "execution_count": 28,
   "id": "7ad79fac-5a42-4dca-b61d-bfba9eccd1cd",
   "metadata": {},
   "outputs": [
    {
     "data": {
      "text/plain": [
       "[0, 0, 0]"
      ]
     },
     "execution_count": 28,
     "metadata": {},
     "output_type": "execute_result"
    }
   ],
   "source": [
    "dp = [0]*N\n",
    "dp"
   ]
  },
  {
   "cell_type": "code",
   "execution_count": 29,
   "id": "728e02cb-a043-4a88-b8c6-1e09f2f6eb6e",
   "metadata": {},
   "outputs": [
    {
     "data": {
      "text/plain": [
       "[3, 7, 4]"
      ]
     },
     "execution_count": 29,
     "metadata": {},
     "output_type": "execute_result"
    }
   ],
   "source": [
    "dp[0] = TA[0][1]\n",
    "for i, (t, a) in enumerate(TA):\n",
    "    if i == 0:\n",
    "        continue\n",
    "    if t == 1:\n",
    "        dp[i] = dp[i-1] & a\n",
    "    elif t == 2:\n",
    "        dp[i] = dp[i-1] | a\n",
    "    elif t == 3:\n",
    "        dp[i] = dp[i-1] ^ a\n",
    "dp"
   ]
  },
  {
   "cell_type": "code",
   "execution_count": 30,
   "id": "1b9c93fe-7f8c-449d-b3fe-d35d5150dc77",
   "metadata": {},
   "outputs": [
    {
     "data": {
      "text/plain": [
       "10"
      ]
     },
     "execution_count": 30,
     "metadata": {},
     "output_type": "execute_result"
    }
   ],
   "source": [
    "X = C\n",
    "X"
   ]
  },
  {
   "cell_type": "code",
   "execution_count": 40,
   "id": "5ffae038-a12d-4d59-a808-211dcd0cfe09",
   "metadata": {},
   "outputs": [
    {
     "name": "stdout",
     "output_type": "stream",
     "text": [
      "9\n",
      "14\n",
      "10\n"
     ]
    }
   ],
   "source": [
    "for d in dp:\n",
    "    if TA[0][0] == 1:\n",
    "        X = X and d\n",
    "    elif TA[0][0] == 2:\n",
    "        X = X or d\n",
    "    elif TA[0][0] == 3:\n",
    "        X = X ^ d\n",
    "    print (X)"
   ]
  }
 ],
 "metadata": {
  "kernelspec": {
   "display_name": "Python 3 (ipykernel)",
   "language": "python",
   "name": "python3"
  },
  "language_info": {
   "codemirror_mode": {
    "name": "ipython",
    "version": 3
   },
   "file_extension": ".py",
   "mimetype": "text/x-python",
   "name": "python",
   "nbconvert_exporter": "python",
   "pygments_lexer": "ipython3",
   "version": "3.9.13"
  }
 },
 "nbformat": 4,
 "nbformat_minor": 5
}
