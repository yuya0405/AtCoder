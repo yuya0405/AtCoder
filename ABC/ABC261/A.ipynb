{
 "cells": [
  {
   "cell_type": "code",
   "execution_count": 52,
   "id": "0fa4be5b-a2e0-44e2-9279-7c61024ab68f",
   "metadata": {},
   "outputs": [
    {
     "name": "stdin",
     "output_type": "stream",
     "text": [
      " 5 7 1 10\n"
     ]
    }
   ],
   "source": [
    "L1, R1, L2, R2 = map(int, input().split())"
   ]
  },
  {
   "cell_type": "code",
   "execution_count": 53,
   "id": "c2282d52-261b-4385-925e-8147af1ed050",
   "metadata": {},
   "outputs": [
    {
     "name": "stdout",
     "output_type": "stream",
     "text": [
      "2\n"
     ]
    }
   ],
   "source": [
    "R = range(L1, R1+1)\n",
    "B = range(L2, R2+1)\n",
    "ans = len(set(R) & set(B))-1\n",
    "if ans == -1:\n",
    "    print (0)\n",
    "else:\n",
    "    print (ans)"
   ]
  },
  {
   "cell_type": "code",
   "execution_count": null,
   "id": "85e3f15e-8ed0-452e-9fed-857867b6b6d5",
   "metadata": {},
   "outputs": [],
   "source": []
  }
 ],
 "metadata": {
  "kernelspec": {
   "display_name": "Python 3 (ipykernel)",
   "language": "python",
   "name": "python3"
  },
  "language_info": {
   "codemirror_mode": {
    "name": "ipython",
    "version": 3
   },
   "file_extension": ".py",
   "mimetype": "text/x-python",
   "name": "python",
   "nbconvert_exporter": "python",
   "pygments_lexer": "ipython3",
   "version": "3.9.13"
  }
 },
 "nbformat": 4,
 "nbformat_minor": 5
}
