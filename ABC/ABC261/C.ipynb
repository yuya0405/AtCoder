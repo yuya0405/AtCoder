{
 "cells": [
  {
   "cell_type": "code",
   "execution_count": 2,
   "id": "57a68844-039f-4c56-a452-f637e4d20615",
   "metadata": {},
   "outputs": [
    {
     "name": "stdin",
     "output_type": "stream",
     "text": [
      " 5\n",
      " newfile\n",
      " newfile\n",
      " newfolder\n",
      " newfile\n",
      " newfolder\n"
     ]
    }
   ],
   "source": [
    "N = int(input())\n",
    "S = [input() for _ in range(N)]"
   ]
  },
  {
   "cell_type": "code",
   "execution_count": 10,
   "id": "6d04b932-4fff-4f1c-a8f0-0567ee7dc8ba",
   "metadata": {},
   "outputs": [
    {
     "name": "stdout",
     "output_type": "stream",
     "text": [
      "newfile\n",
      "newfile(1)\n",
      "newfolder\n",
      "newfile(2)\n",
      "newfolder(1)\n"
     ]
    }
   ],
   "source": [
    "from collections import defaultdict\n",
    "d = defaultdict(int)\n",
    "\n",
    "for s in S:\n",
    "    if d[s] == 0:\n",
    "        print (s)\n",
    "    else:\n",
    "        print (s+\"(\"+str(d[s])+\")\")\n",
    "    d[s] += 1"
   ]
  },
  {
   "cell_type": "code",
   "execution_count": null,
   "id": "6698a3f9-eb28-4ccc-8ce3-a716af4db56c",
   "metadata": {},
   "outputs": [],
   "source": []
  }
 ],
 "metadata": {
  "kernelspec": {
   "display_name": "Python 3 (ipykernel)",
   "language": "python",
   "name": "python3"
  },
  "language_info": {
   "codemirror_mode": {
    "name": "ipython",
    "version": 3
   },
   "file_extension": ".py",
   "mimetype": "text/x-python",
   "name": "python",
   "nbconvert_exporter": "python",
   "pygments_lexer": "ipython3",
   "version": "3.9.13"
  }
 },
 "nbformat": 4,
 "nbformat_minor": 5
}
