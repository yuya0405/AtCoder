{
 "cells": [
  {
   "cell_type": "code",
   "execution_count": 1,
   "id": "00b48c01-9110-4446-a3ed-f74cf26fe672",
   "metadata": {},
   "outputs": [
    {
     "name": "stdin",
     "output_type": "stream",
     "text": [
      " 6 3\n",
      " 2 7 1 8 2 8\n",
      " 2 10\n",
      " 3 1\n",
      " 5 5\n"
     ]
    }
   ],
   "source": [
    "N, M = map(int, input().split())\n",
    "X = list(map(int, input().split()))\n",
    "CY = [list(map(int, input().split())) for _ in range(M)]"
   ]
  },
  {
   "cell_type": "code",
   "execution_count": 11,
   "id": "97ff3c40-6cc2-4cae-88be-75b5b6da2c0d",
   "metadata": {},
   "outputs": [
    {
     "data": {
      "text/plain": [
       "defaultdict(int, {2: 10, 3: 1, 5: 5})"
      ]
     },
     "execution_count": 11,
     "metadata": {},
     "output_type": "execute_result"
    }
   ],
   "source": [
    "from collections import defaultdict\n",
    "d = defaultdict(int)\n",
    "\n",
    "for c, y in CY:\n",
    "    d[c] = y\n",
    "d"
   ]
  },
  {
   "cell_type": "code",
   "execution_count": 2,
   "id": "e6d95cd1-4e36-4b16-b4bc-8d3dddc890db",
   "metadata": {},
   "outputs": [
    {
     "data": {
      "text/plain": [
       "[[0, 0, 0, 0, 0, 0, 0],\n",
       " [0, 0, 0, 0, 0, 0, 0],\n",
       " [0, 0, 0, 0, 0, 0, 0],\n",
       " [0, 0, 0, 0, 0, 0, 0],\n",
       " [0, 0, 0, 0, 0, 0, 0],\n",
       " [0, 0, 0, 0, 0, 0, 0],\n",
       " [0, 0, 0, 0, 0, 0, 0]]"
      ]
     },
     "execution_count": 2,
     "metadata": {},
     "output_type": "execute_result"
    }
   ],
   "source": [
    "dp = [[0]*(N+1) for _ in range(N+1)]\n",
    "dp"
   ]
  },
  {
   "cell_type": "code",
   "execution_count": 14,
   "id": "de22822d-9616-4a25-bbb2-b14521f88f8d",
   "metadata": {},
   "outputs": [
    {
     "data": {
      "text/plain": [
       "[[0, 0, 0, 0, 0, 0, 0],\n",
       " [0, 2, 0, 0, 0, 0, 0],\n",
       " [2, 7, 19, 0, 0, 0, 0],\n",
       " [19, 3, 18, 21, 0, 0, 0],\n",
       " [21, 27, 21, 27, 29, 0, 0],\n",
       " [29, 23, 39, 24, 29, 36, 0],\n",
       " [39, 37, 41, 48, 32, 42, 44]]"
      ]
     },
     "execution_count": 14,
     "metadata": {},
     "output_type": "execute_result"
    }
   ],
   "source": [
    "for i in range(1, N+1):\n",
    "    dp[i][0] = max(dp[i-1])\n",
    "    for j in range(1, i+1):\n",
    "        dp[i][j] = dp[i-1][j-1] + X[i-1] + d[j]\n",
    "dp"
   ]
  },
  {
   "cell_type": "code",
   "execution_count": 17,
   "id": "f8378e82-0ca5-4271-bdfc-0f6f27693564",
   "metadata": {},
   "outputs": [
    {
     "name": "stdout",
     "output_type": "stream",
     "text": [
      "48\n"
     ]
    }
   ],
   "source": [
    "print (max(dp[N]))"
   ]
  },
  {
   "cell_type": "code",
   "execution_count": null,
   "id": "d62e552c-c406-4ead-a876-33283421dfb9",
   "metadata": {},
   "outputs": [],
   "source": []
  }
 ],
 "metadata": {
  "kernelspec": {
   "display_name": "Python 3 (ipykernel)",
   "language": "python",
   "name": "python3"
  },
  "language_info": {
   "codemirror_mode": {
    "name": "ipython",
    "version": 3
   },
   "file_extension": ".py",
   "mimetype": "text/x-python",
   "name": "python",
   "nbconvert_exporter": "python",
   "pygments_lexer": "ipython3",
   "version": "3.9.13"
  }
 },
 "nbformat": 4,
 "nbformat_minor": 5
}
