{
 "cells": [
  {
   "cell_type": "code",
   "execution_count": 30,
   "id": "144901e4-4915-4f86-96d4-d0ddc85f36fd",
   "metadata": {},
   "outputs": [
    {
     "name": "stdin",
     "output_type": "stream",
     "text": [
      " 10\n",
      " 2 3 2 3 3 3 2 3 3 2\n"
     ]
    }
   ],
   "source": [
    "N = int(input())\n",
    "A = list(map(int, input().split()))"
   ]
  },
  {
   "cell_type": "code",
   "execution_count": 46,
   "id": "6cd5628d-0d01-49d7-a2bd-9f2701d3d737",
   "metadata": {},
   "outputs": [
    {
     "name": "stdout",
     "output_type": "stream",
     "text": [
      "1\n",
      "2\n",
      "3\n",
      "4\n",
      "5\n",
      "3\n",
      "2\n",
      "3\n",
      "1\n",
      "0\n"
     ]
    }
   ],
   "source": [
    "from collections import deque\n",
    "\n",
    "stack_ball = deque([])\n",
    "stack_num = deque([])\n",
    "\n",
    "pre = -1\n",
    "ans = 0\n",
    "for a in A:\n",
    "    # 増やす\n",
    "    ans += 1\n",
    "    if a != pre:\n",
    "        stack_ball.append(a)\n",
    "        stack_num.append(1)\n",
    "        pre = a\n",
    "    else:\n",
    "        num = stack_num.pop()\n",
    "        stack_num.append(num + 1)\n",
    "    \n",
    "    # 減らす\n",
    "    if stack_ball[-1] == stack_num[-1]:\n",
    "        stack_ball.pop()\n",
    "        tmp = stack_num.pop()\n",
    "        if len(stack_ball) != 0:\n",
    "            pre = stack_ball[-1]\n",
    "        else:\n",
    "            pre = -1\n",
    "        ans -= tmp\n",
    "    print (ans)"
   ]
  },
  {
   "cell_type": "code",
   "execution_count": 40,
   "id": "4fc30fe5-fcd4-4b3b-b13c-1599027b2ebd",
   "metadata": {},
   "outputs": [
    {
     "data": {
      "text/plain": [
       "deque([1, 2])"
      ]
     },
     "execution_count": 40,
     "metadata": {},
     "output_type": "execute_result"
    }
   ],
   "source": [
    "from collections import deque\n",
    "\n",
    "test = deque([])\n",
    "test.append(1)\n",
    "test.append(2)\n",
    "test"
   ]
  },
  {
   "cell_type": "code",
   "execution_count": 41,
   "id": "81f51e9a-570d-4dc2-947b-7d051cdf9de5",
   "metadata": {},
   "outputs": [
    {
     "data": {
      "text/plain": [
       "3"
      ]
     },
     "execution_count": 41,
     "metadata": {},
     "output_type": "execute_result"
    }
   ],
   "source": [
    "sum(test)"
   ]
  },
  {
   "cell_type": "code",
   "execution_count": 37,
   "id": "4effd651-20de-47ea-a0ca-1a7b1c582b1a",
   "metadata": {},
   "outputs": [
    {
     "data": {
      "text/plain": [
       "0"
      ]
     },
     "execution_count": 37,
     "metadata": {},
     "output_type": "execute_result"
    }
   ],
   "source": [
    "len(test)"
   ]
  },
  {
   "cell_type": "code",
   "execution_count": null,
   "id": "fc83cfcc-9d8f-4bc1-8dbc-8db4e4dd5eca",
   "metadata": {},
   "outputs": [],
   "source": []
  }
 ],
 "metadata": {
  "kernelspec": {
   "display_name": "Python 3",
   "language": "python",
   "name": "python3"
  },
  "language_info": {
   "codemirror_mode": {
    "name": "ipython",
    "version": 3
   },
   "file_extension": ".py",
   "mimetype": "text/x-python",
   "name": "python",
   "nbconvert_exporter": "python",
   "pygments_lexer": "ipython3",
   "version": "3.8.8"
  }
 },
 "nbformat": 4,
 "nbformat_minor": 5
}
