{
 "cells": [
  {
   "cell_type": "code",
   "execution_count": 5,
   "id": "87c3c1aa-158f-460a-bbb0-acb1eb94e754",
   "metadata": {},
   "outputs": [
    {
     "name": "stdin",
     "output_type": "stream",
     "text": [
      " 4 12\n",
      " 1 8\n",
      " 5 7\n",
      " 3 4\n",
      " 2 6\n"
     ]
    }
   ],
   "source": [
    "N, X = map(int, input().split())\n",
    "AB = [list(map(int, input().split())) for _ in range(N)]"
   ]
  },
  {
   "cell_type": "code",
   "execution_count": 6,
   "id": "66223e65-20d9-43cb-a5ed-045d198d28e5",
   "metadata": {},
   "outputs": [
    {
     "data": {
      "text/plain": [
       "[[1, 8], [5, 7], [3, 4], [2, 6]]"
      ]
     },
     "execution_count": 6,
     "metadata": {},
     "output_type": "execute_result"
    }
   ],
   "source": [
    "AB"
   ]
  },
  {
   "cell_type": "code",
   "execution_count": 7,
   "id": "bdba9210-2a9f-4684-87a4-5d67e53489d4",
   "metadata": {},
   "outputs": [
    {
     "name": "stdout",
     "output_type": "stream",
     "text": [
      "No\n"
     ]
    }
   ],
   "source": [
    "# 解説AC\n",
    "# dp[i][j] i回ジャンプした時に座標jにいることが可能ならTrue\n",
    "\n",
    "X_MAX = 100\n",
    "\n",
    "dp = [[False] * (X_MAX+1) for _ in range(N+1)]\n",
    "dp[0][0] = True\n",
    "\n",
    "for i in range(1, N+1):\n",
    "    for j in range(X_MAX+1):\n",
    "        if j-AB[i-1][0] >= 0:\n",
    "            dp[i][j] = dp[i-1][j-AB[i-1][0]]\n",
    "        if j-AB[i-1][1] >= 0:\n",
    "            dp[i][j] = dp[i-1][j-AB[i-1][1]]\n",
    "\n",
    "if dp[N][X] == True:\n",
    "    print (\"Yes\")\n",
    "else:\n",
    "    print (\"No\")"
   ]
  },
  {
   "cell_type": "code",
   "execution_count": 9,
   "id": "bf875e9e-70c0-462d-bf51-29db3764f4c1",
   "metadata": {},
   "outputs": [
    {
     "name": "stdout",
     "output_type": "stream",
     "text": [
      "Yes\n"
     ]
    }
   ],
   "source": [
    "# AC\n",
    "\n",
    "dp = [False for _ in range(10001)]\n",
    "dp[0] = True\n",
    "\n",
    "for a, b in AB:\n",
    "    TMP = []\n",
    "    for i in range(10001):\n",
    "        if dp[i] == True:\n",
    "            dp[i] = False\n",
    "            TMP.append(i)\n",
    "    for tmp in TMP:\n",
    "        dp[tmp+a] = True\n",
    "        dp[tmp+b] = True\n",
    "\n",
    "if dp[X] == True:\n",
    "    print (\"Yes\")\n",
    "else:\n",
    "    print (\"No\")"
   ]
  },
  {
   "cell_type": "code",
   "execution_count": 24,
   "id": "4fdde60c-e802-403b-91ce-047e01b9053e",
   "metadata": {},
   "outputs": [
    {
     "name": "stdout",
     "output_type": "stream",
     "text": [
      "Yes\n",
      "Yes\n",
      "No\n"
     ]
    }
   ],
   "source": [
    "# TLE\n",
    "\n",
    "from itertools import product\n",
    "\n",
    "num = 0\n",
    "for i in product(*AB):\n",
    "    if sum(i) == X:\n",
    "        print (\"Yes\")\n",
    "        exit()\n",
    "print (\"No\")"
   ]
  },
  {
   "cell_type": "code",
   "execution_count": null,
   "id": "cfdd58ad-1f44-4d88-830f-c5e0059325fb",
   "metadata": {},
   "outputs": [],
   "source": []
  }
 ],
 "metadata": {
  "kernelspec": {
   "display_name": "Python 3",
   "language": "python",
   "name": "python3"
  },
  "language_info": {
   "codemirror_mode": {
    "name": "ipython",
    "version": 3
   },
   "file_extension": ".py",
   "mimetype": "text/x-python",
   "name": "python",
   "nbconvert_exporter": "python",
   "pygments_lexer": "ipython3",
   "version": "3.8.8"
  }
 },
 "nbformat": 4,
 "nbformat_minor": 5
}
