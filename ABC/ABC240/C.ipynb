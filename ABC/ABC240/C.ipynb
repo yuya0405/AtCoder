{
 "cells": [
  {
   "cell_type": "code",
   "execution_count": 128,
   "id": "87c3c1aa-158f-460a-bbb0-acb1eb94e754",
   "metadata": {},
   "outputs": [
    {
     "name": "stdin",
     "output_type": "stream",
     "text": [
      " 4 12\n",
      " 1 8\n",
      " 5 7\n",
      " 3 4\n",
      " 2 6\n"
     ]
    }
   ],
   "source": [
    "N, X = map(int, input().split())\n",
    "AB = [list(map(int, input().split())) for _ in range(N)]"
   ]
  },
  {
   "cell_type": "code",
   "execution_count": 129,
   "id": "bf875e9e-70c0-462d-bf51-29db3764f4c1",
   "metadata": {},
   "outputs": [
    {
     "name": "stdout",
     "output_type": "stream",
     "text": [
      "Yes\n"
     ]
    }
   ],
   "source": [
    "# AC\n",
    "\n",
    "dp = [False for _ in range(10001)]\n",
    "dp[0] = True\n",
    "for i in range(10001):\n",
    "    for n in range(N):\n",
    "        if i-AB[n][0] >= 0 and i-AB[n][1] >= 0:\n",
    "            dp[i] = dp[i-AB[n][0]] | dp[i-AB[n][1]]\n",
    "if dp[X] == True:\n",
    "    print (\"Yes\")\n",
    "else:\n",
    "    print (\"No\")"
   ]
  },
  {
   "cell_type": "code",
   "execution_count": 86,
   "id": "4fdde60c-e802-403b-91ce-047e01b9053e",
   "metadata": {},
   "outputs": [
    {
     "name": "stdout",
     "output_type": "stream",
     "text": [
      "Yes\n",
      "No\n"
     ]
    }
   ],
   "source": [
    "# TLE\n",
    "\n",
    "from itertools import product\n",
    "\n",
    "num = 0\n",
    "for i in product(*AB):\n",
    "    if sum(i) == X:\n",
    "        print (\"Yes\")\n",
    "        exit()\n",
    "print (\"No\")"
   ]
  },
  {
   "cell_type": "code",
   "execution_count": null,
   "id": "cfdd58ad-1f44-4d88-830f-c5e0059325fb",
   "metadata": {},
   "outputs": [],
   "source": []
  }
 ],
 "metadata": {
  "kernelspec": {
   "display_name": "Python 3",
   "language": "python",
   "name": "python3"
  },
  "language_info": {
   "codemirror_mode": {
    "name": "ipython",
    "version": 3
   },
   "file_extension": ".py",
   "mimetype": "text/x-python",
   "name": "python",
   "nbconvert_exporter": "python",
   "pygments_lexer": "ipython3",
   "version": "3.8.8"
  }
 },
 "nbformat": 4,
 "nbformat_minor": 5
}
