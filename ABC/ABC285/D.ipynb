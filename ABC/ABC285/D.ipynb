{
 "cells": [
  {
   "cell_type": "code",
   "execution_count": 58,
   "id": "33794070-c8d5-4b73-9a7a-4e38a48eccc6",
   "metadata": {},
   "outputs": [
    {
     "name": "stdin",
     "output_type": "stream",
     "text": [
      " 3\n",
      " a b\n",
      " b c\n",
      " c a\n"
     ]
    }
   ],
   "source": [
    "N = int(input())\n",
    "ST = [input().split() for _ in range(N)]"
   ]
  },
  {
   "cell_type": "code",
   "execution_count": 62,
   "id": "a3e8eabe-1dce-47ff-8590-8ba03cbb45d6",
   "metadata": {},
   "outputs": [],
   "source": [
    "S = []\n",
    "T = []\n",
    "for s, t in ST:\n",
    "    S.append(s)\n",
    "    T.append(t)"
   ]
  },
  {
   "cell_type": "code",
   "execution_count": 63,
   "id": "3138feb4-f1a4-46a8-aec1-9d5ed985fed6",
   "metadata": {},
   "outputs": [
    {
     "data": {
      "text/plain": [
       "['a', 'b', 'c']"
      ]
     },
     "execution_count": 63,
     "metadata": {},
     "output_type": "execute_result"
    }
   ],
   "source": [
    "S"
   ]
  },
  {
   "cell_type": "code",
   "execution_count": 64,
   "id": "8279c9a9-afe2-495a-a709-f3a8aef0fdd1",
   "metadata": {},
   "outputs": [
    {
     "data": {
      "text/plain": [
       "['b', 'c', 'a']"
      ]
     },
     "execution_count": 64,
     "metadata": {},
     "output_type": "execute_result"
    }
   ],
   "source": [
    "T"
   ]
  },
  {
   "cell_type": "code",
   "execution_count": 39,
   "id": "40e725d8-77a4-48f5-ac8a-a105095ff5a2",
   "metadata": {},
   "outputs": [
    {
     "data": {
      "text/plain": [
       "defaultdict(int, {'b': 0, 'm': 1})"
      ]
     },
     "execution_count": 39,
     "metadata": {},
     "output_type": "execute_result"
    }
   ],
   "source": [
    "from collections import defaultdict\n",
    "d = defaultdict(int)\n",
    "\n",
    "num = 0\n",
    "for s in S:\n",
    "    if d[s] == 0:\n",
    "        d[s] = num\n",
    "        num += 1\n",
    "d"
   ]
  },
  {
   "cell_type": "code",
   "execution_count": 40,
   "id": "cc447bf9-1cb2-44a6-b7e9-59440c89269b",
   "metadata": {},
   "outputs": [
    {
     "data": {
      "text/plain": [
       "defaultdict(int, {'b': 0, 'm': 1, 'd': 2})"
      ]
     },
     "execution_count": 40,
     "metadata": {},
     "output_type": "execute_result"
    }
   ],
   "source": [
    "for t in T:\n",
    "    if d[t] == 0:\n",
    "        d[t] = num\n",
    "        num += 1\n",
    "d"
   ]
  },
  {
   "cell_type": "code",
   "execution_count": 41,
   "id": "8177e10e-5c97-4fa5-8a5f-84bd9ad58255",
   "metadata": {},
   "outputs": [
    {
     "data": {
      "text/plain": [
       "3"
      ]
     },
     "execution_count": 41,
     "metadata": {},
     "output_type": "execute_result"
    }
   ],
   "source": [
    "num"
   ]
  },
  {
   "cell_type": "code",
   "execution_count": 51,
   "id": "44d04ae2-ff6a-492f-bb4b-28775cb7b6cf",
   "metadata": {},
   "outputs": [
    {
     "data": {
      "text/plain": [
       "[[1], [2], []]"
      ]
     },
     "execution_count": 51,
     "metadata": {},
     "output_type": "execute_result"
    }
   ],
   "source": [
    "G = [[] for i in range(num)]\n",
    "for s, t in zip(S, T):\n",
    "    G[d[s]].append(d[t])\n",
    "G"
   ]
  },
  {
   "cell_type": "code",
   "execution_count": 52,
   "id": "3f6de1fe-05e6-4754-8772-69b92538d774",
   "metadata": {},
   "outputs": [],
   "source": [
    "import sys\n",
    "sys.setrecursionlimit(10**6)\n",
    "\n",
    "# 頂点 v を始点とした深さ優先探索\n",
    "# サイクルが検出されたときのみ false を返す\n",
    "def dfs(v, G, seen, finished):\n",
    "    ret = True  # 返り値となる bool 変数\n",
    "    # 頂点 v に色を塗る\n",
    "    seen[v] = True\n",
    "    # G[v] に含まれる頂点 v2 について、\n",
    "    for v2 in G[v]:\n",
    "        # v2 がすでに探索済みならば、\n",
    "        if seen[v2]:\n",
    "            # v2 の処理が終了していないならば、v2 を含むサイクルが存在するため、false を返す\n",
    "            if not finished[v2]: return False\n",
    "            continue\n",
    "        # そうでなければ、頂点 v2 始点で深さ優先探索を行う\n",
    "        # 一つでも false を返せば、最終的な返り値は false になる\n",
    "        ret &= dfs(v2, G, seen, finished)\n",
    "    # 頂点 v については探索を終了し、ret を返す\n",
    "    finished[v] = True\n",
    "    return ret"
   ]
  },
  {
   "cell_type": "code",
   "execution_count": 54,
   "id": "2812e0b7-ab94-466d-854f-5cb16875b7d0",
   "metadata": {},
   "outputs": [
    {
     "name": "stdout",
     "output_type": "stream",
     "text": [
      "Yes\n"
     ]
    }
   ],
   "source": [
    "seen = [False for _ in range(num)]    # seen[v]：頂点 v が黒色に塗られているか (探索されたことがあるか)\n",
    "finished = [False for _ in range(num)]  # finished[v]：頂点 v の探索が終了しているか\n",
    "ans = 'Yes'  # 答えとなる変数\n",
    "# 頂点 v = 0, 1, …, N-1 の順に\n",
    "for v in range(num):\n",
    "    # 頂点 v がすでに訪問済みであればスキップ\n",
    "    if seen[v]: continue\n",
    "    # そうでなければ、頂点 v を始点として深さ優先探索を行う\n",
    "    # その結果サイクルが見つかれば、答えは Yes\n",
    "    if not dfs(v, G, seen, finished): ans = 'No'\n",
    "# 答えを出力する\n",
    "print(ans)"
   ]
  },
  {
   "cell_type": "code",
   "execution_count": null,
   "id": "d2298f75-454f-4d44-969b-e3130668ff36",
   "metadata": {},
   "outputs": [],
   "source": []
  }
 ],
 "metadata": {
  "kernelspec": {
   "display_name": "Python 3 (ipykernel)",
   "language": "python",
   "name": "python3"
  },
  "language_info": {
   "codemirror_mode": {
    "name": "ipython",
    "version": 3
   },
   "file_extension": ".py",
   "mimetype": "text/x-python",
   "name": "python",
   "nbconvert_exporter": "python",
   "pygments_lexer": "ipython3",
   "version": "3.8.13"
  }
 },
 "nbformat": 4,
 "nbformat_minor": 5
}
