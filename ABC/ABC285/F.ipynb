{
 "cells": [
  {
   "cell_type": "code",
   "execution_count": 6,
   "id": "aa50a3de-3db9-4bad-9d6f-13d99302e6d3",
   "metadata": {},
   "outputs": [
    {
     "name": "stdin",
     "output_type": "stream",
     "text": [
      " 6\n",
      " abcdcf\n",
      " 4\n",
      " 2 1 3\n",
      " 2 2 6\n",
      " 1 5 e\n",
      " 2 2 6\n"
     ]
    }
   ],
   "source": [
    "N = int(input())\n",
    "S = input()\n",
    "Q = int(input())\n",
    "queries = [input().split() for _ in range(Q)]"
   ]
  },
  {
   "cell_type": "code",
   "execution_count": 133,
   "id": "e8b6fb90-f4f9-4cad-a6fb-ef01c77db42f",
   "metadata": {},
   "outputs": [
    {
     "data": {
      "text/plain": [
       "'abcdcf'"
      ]
     },
     "execution_count": 133,
     "metadata": {},
     "output_type": "execute_result"
    }
   ],
   "source": [
    "S"
   ]
  },
  {
   "cell_type": "code",
   "execution_count": 156,
   "id": "3881a0f9-6a43-473b-bf55-dc396d64f25a",
   "metadata": {},
   "outputs": [
    {
     "data": {
      "text/plain": [
       "'abccdf'"
      ]
     },
     "execution_count": 156,
     "metadata": {},
     "output_type": "execute_result"
    }
   ],
   "source": [
    "T = sorted(S)\n",
    "T = \"\".join(T)\n",
    "T"
   ]
  },
  {
   "cell_type": "code",
   "execution_count": 157,
   "id": "02cad258-1a4f-4f2a-a0f1-916a1dc6ac01",
   "metadata": {},
   "outputs": [
    {
     "data": {
      "text/plain": [
       "'abcdcf'"
      ]
     },
     "execution_count": 157,
     "metadata": {},
     "output_type": "execute_result"
    }
   ],
   "source": [
    "S"
   ]
  },
  {
   "cell_type": "code",
   "execution_count": 158,
   "id": "bed81168-c9ee-47e5-8e01-52858a37e0eb",
   "metadata": {},
   "outputs": [],
   "source": [
    "import bisect"
   ]
  },
  {
   "cell_type": "code",
   "execution_count": 160,
   "id": "df57948d-8696-4843-9677-4f4c15864e92",
   "metadata": {},
   "outputs": [
    {
     "name": "stdout",
     "output_type": "stream",
     "text": [
      "Yes\n"
     ]
    }
   ],
   "source": [
    "for q1, q2, q3 in queries:\n",
    "    if q1 == 1:\n",
    "        pass\n",
    "    elif q1 == \"2\":\n",
    "        search_str = S[int(q2)-1:int(q3)]\n",
    "        top_point1 = bisect.bisect_left(T, \"a\")\n",
    "        top_point2 = bisect.bisect(T, \"a\")\n",
    "        for i in range(top_point2-top_point1):\n",
    "            if T[top_point1+i : top_point1+len(search_str)+i] == search_str:\n",
    "                print (\"Yes\")\n",
    "                break"
   ]
  },
  {
   "cell_type": "code",
   "execution_count": null,
   "id": "6043438d-9caf-4199-9284-dde116d36085",
   "metadata": {},
   "outputs": [],
   "source": []
  }
 ],
 "metadata": {
  "kernelspec": {
   "display_name": "Python 3 (ipykernel)",
   "language": "python",
   "name": "python3"
  },
  "language_info": {
   "codemirror_mode": {
    "name": "ipython",
    "version": 3
   },
   "file_extension": ".py",
   "mimetype": "text/x-python",
   "name": "python",
   "nbconvert_exporter": "python",
   "pygments_lexer": "ipython3",
   "version": "3.8.13"
  }
 },
 "nbformat": 4,
 "nbformat_minor": 5
}
