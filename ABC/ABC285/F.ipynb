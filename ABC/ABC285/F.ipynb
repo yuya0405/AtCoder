{
 "cells": [
  {
   "cell_type": "code",
   "execution_count": 196,
   "id": "aa50a3de-3db9-4bad-9d6f-13d99302e6d3",
   "metadata": {},
   "outputs": [
    {
     "name": "stdin",
     "output_type": "stream",
     "text": [
      " 6\n",
      " abcdcf\n",
      " 4\n",
      " 2 1 3\n",
      " 2 2 6\n",
      " 1 5 e\n",
      " 2 2 6\n"
     ]
    }
   ],
   "source": [
    "N = int(input())\n",
    "S = input()\n",
    "Q = int(input())\n",
    "queries = [input().split() for _ in range(Q)]"
   ]
  },
  {
   "cell_type": "code",
   "execution_count": 197,
   "id": "e8b6fb90-f4f9-4cad-a6fb-ef01c77db42f",
   "metadata": {},
   "outputs": [
    {
     "data": {
      "text/plain": [
       "'abcdcf'"
      ]
     },
     "execution_count": 197,
     "metadata": {},
     "output_type": "execute_result"
    }
   ],
   "source": [
    "S"
   ]
  },
  {
   "cell_type": "code",
   "execution_count": 198,
   "id": "3881a0f9-6a43-473b-bf55-dc396d64f25a",
   "metadata": {},
   "outputs": [
    {
     "data": {
      "text/plain": [
       "'abccdf'"
      ]
     },
     "execution_count": 198,
     "metadata": {},
     "output_type": "execute_result"
    }
   ],
   "source": [
    "T = sorted(S)\n",
    "T = \"\".join(T)\n",
    "T"
   ]
  },
  {
   "cell_type": "code",
   "execution_count": 199,
   "id": "02cad258-1a4f-4f2a-a0f1-916a1dc6ac01",
   "metadata": {},
   "outputs": [
    {
     "data": {
      "text/plain": [
       "'abcdcf'"
      ]
     },
     "execution_count": 199,
     "metadata": {},
     "output_type": "execute_result"
    }
   ],
   "source": [
    "S"
   ]
  },
  {
   "cell_type": "code",
   "execution_count": 202,
   "id": "6ae2a906-24e6-4089-b7ec-45e0d834befe",
   "metadata": {},
   "outputs": [
    {
     "name": "stdout",
     "output_type": "stream",
     "text": [
      "1\n",
      "0\n"
     ]
    }
   ],
   "source": [
    "# https://qiita.com/takayg1/items/c811bd07c21923d7ec69\n",
    "\n",
    "#####segfunc#####\n",
    "def segfunc(x, y):\n",
    "    return min(x, y)\n",
    "#################\n",
    "\n",
    "#####ide_ele#####\n",
    "ide_ele = float('inf')\n",
    "#################\n",
    "\n",
    "class SegTree:\n",
    "    \"\"\"\n",
    "    init(init_val, ide_ele): 配列init_valで初期化 O(N)\n",
    "    update(k, x): k番目の値をxに更新 O(N)\n",
    "    query(l, r): 区間[l, r)をsegfuncしたものを返す O(logN)\n",
    "    \"\"\"\n",
    "    def __init__(self, init_val, segfunc, ide_ele):\n",
    "        \"\"\"\n",
    "        init_val: 配列の初期値\n",
    "        segfunc: 区間にしたい操作\n",
    "        ide_ele: 単位元\n",
    "        n: 要素数\n",
    "        num: n以上の最小の2のべき乗\n",
    "        tree: セグメント木(1-index)\n",
    "        \"\"\"\n",
    "        n = len(init_val)\n",
    "        self.segfunc = segfunc\n",
    "        self.ide_ele = ide_ele\n",
    "        self.num = 1 << (n - 1).bit_length()\n",
    "        self.tree = [ide_ele] * 2 * self.num\n",
    "        # 配列の値を葉にセット\n",
    "        for i in range(n):\n",
    "            self.tree[self.num + i] = init_val[i]\n",
    "        # 構築していく\n",
    "        for i in range(self.num - 1, 0, -1):\n",
    "            self.tree[i] = self.segfunc(self.tree[2 * i], self.tree[2 * i + 1])\n",
    "\n",
    "    def update(self, k, x):\n",
    "        \"\"\"\n",
    "        k番目の値をxに更新\n",
    "        k: index(0-index)\n",
    "        x: update value\n",
    "        \"\"\"\n",
    "        k += self.num\n",
    "        self.tree[k] = x\n",
    "        while k > 1:\n",
    "            self.tree[k >> 1] = self.segfunc(self.tree[k], self.tree[k ^ 1])\n",
    "            k >>= 1\n",
    "\n",
    "    def query(self, l, r):\n",
    "        \"\"\"\n",
    "        [l, r)のsegfuncしたものを得る\n",
    "        l: index(0-index)\n",
    "        r: index(0-index)\n",
    "        \"\"\"\n",
    "        res = self.ide_ele\n",
    "\n",
    "        l += self.num\n",
    "        r += self.num\n",
    "        while l < r:\n",
    "            if l & 1:\n",
    "                res = self.segfunc(res, self.tree[l])\n",
    "                l += 1\n",
    "            if r & 1:\n",
    "                res = self.segfunc(res, self.tree[r - 1])\n",
    "            l >>= 1\n",
    "            r >>= 1\n",
    "        return res\n",
    "\n",
    "a = [14, 5, 9, 13, 7, 12, 11, 1, 7, 8]\n",
    "\n",
    "seg = SegTree(a, segfunc, ide_ele)\n",
    "\n",
    "print(seg.query(0, 8))\n",
    "seg.update(5, 0)\n",
    "print(seg.query(0, 8))"
   ]
  },
  {
   "cell_type": "code",
   "execution_count": null,
   "id": "bd68880f-22ba-4fd9-9da5-2a6d0ccd6ceb",
   "metadata": {},
   "outputs": [],
   "source": []
  }
 ],
 "metadata": {
  "kernelspec": {
   "display_name": "Python 3 (ipykernel)",
   "language": "python",
   "name": "python3"
  },
  "language_info": {
   "codemirror_mode": {
    "name": "ipython",
    "version": 3
   },
   "file_extension": ".py",
   "mimetype": "text/x-python",
   "name": "python",
   "nbconvert_exporter": "python",
   "pygments_lexer": "ipython3",
   "version": "3.8.13"
  }
 },
 "nbformat": 4,
 "nbformat_minor": 5
}
