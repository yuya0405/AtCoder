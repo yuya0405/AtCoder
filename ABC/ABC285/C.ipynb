{
 "cells": [
  {
   "cell_type": "code",
   "execution_count": 1,
   "id": "bcc9b6c5-eeae-49d7-bbc4-40736f9ef7f5",
   "metadata": {},
   "outputs": [
    {
     "name": "stdin",
     "output_type": "stream",
     "text": [
      " AB\n"
     ]
    }
   ],
   "source": [
    "S = input()"
   ]
  },
  {
   "cell_type": "code",
   "execution_count": 2,
   "id": "add3927f-974b-4433-b5cd-6586d22474ee",
   "metadata": {},
   "outputs": [],
   "source": [
    "def alpha2num(alpha):\n",
    "    num=0\n",
    "    for index, item in enumerate(list(alpha)):\n",
    "        num += pow(26,len(alpha)-index-1)*(ord(item)-ord('A')+1)\n",
    "    return num"
   ]
  },
  {
   "cell_type": "code",
   "execution_count": 4,
   "id": "e86ba468-8e88-44ab-8273-359b40814986",
   "metadata": {},
   "outputs": [
    {
     "name": "stdout",
     "output_type": "stream",
     "text": [
      "28\n"
     ]
    }
   ],
   "source": [
    "print (alpha2num(S))"
   ]
  },
  {
   "cell_type": "code",
   "execution_count": null,
   "id": "4ae9132d-b46b-4b6e-b480-bad34a849180",
   "metadata": {},
   "outputs": [],
   "source": []
  }
 ],
 "metadata": {
  "kernelspec": {
   "display_name": "Python 3 (ipykernel)",
   "language": "python",
   "name": "python3"
  },
  "language_info": {
   "codemirror_mode": {
    "name": "ipython",
    "version": 3
   },
   "file_extension": ".py",
   "mimetype": "text/x-python",
   "name": "python",
   "nbconvert_exporter": "python",
   "pygments_lexer": "ipython3",
   "version": "3.8.13"
  }
 },
 "nbformat": 4,
 "nbformat_minor": 5
}
