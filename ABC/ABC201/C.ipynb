{
 "cells": [
  {
   "cell_type": "code",
   "execution_count": 78,
   "metadata": {},
   "outputs": [
    {
     "name": "stdin",
     "output_type": "stream",
     "text": [
      " ?????????\n"
     ]
    },
    {
     "name": "stdout",
     "output_type": "stream",
     "text": [
      "10000\n"
     ]
    }
   ],
   "source": [
    "S = input()\n",
    "\n",
    "maru = S.count(\"o\")\n",
    "hatena = S.count(\"?\")\n",
    "batu = S.count(\"x\")\n",
    "\n",
    "marulist = [i for i in range(0, maru)]\n",
    "\n",
    "batulist = [i for i in range(9, 9-batu, -1)]\n",
    "\n",
    "cnt = 0\n",
    "for i in range(0, 10000):\n",
    "    if len(str(i)) == 1:\n",
    "        s = \"000\"+str(i)\n",
    "    elif len(str(i)) == 2:\n",
    "        s = \"00\"+str(i)\n",
    "    elif len(str(i)) == 3:\n",
    "        s = \"0\"+str(i)\n",
    "    else:\n",
    "        s = str(i)\n",
    "    \n",
    "    flag = True\n",
    "    for j in marulist:\n",
    "        if str(j) not in s:\n",
    "            flag = False\n",
    "    for k in batulist:\n",
    "        if str(k) in s:\n",
    "            flag = False\n",
    "    if flag == True:\n",
    "        cnt += 1\n",
    "print (cnt)"
   ]
  },
  {
   "cell_type": "code",
   "execution_count": null,
   "metadata": {},
   "outputs": [],
   "source": []
  }
 ],
 "metadata": {
  "kernelspec": {
   "display_name": "Python 3",
   "language": "python",
   "name": "python3"
  },
  "language_info": {
   "codemirror_mode": {
    "name": "ipython",
    "version": 3
   },
   "file_extension": ".py",
   "mimetype": "text/x-python",
   "name": "python",
   "nbconvert_exporter": "python",
   "pygments_lexer": "ipython3",
   "version": "3.8.5"
  }
 },
 "nbformat": 4,
 "nbformat_minor": 4
}
