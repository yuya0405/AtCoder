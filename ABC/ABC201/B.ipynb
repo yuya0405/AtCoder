{
 "cells": [
  {
   "cell_type": "code",
   "execution_count": 35,
   "metadata": {},
   "outputs": [
    {
     "name": "stdin",
     "output_type": "stream",
     "text": [
      " 4\n",
      " Kita 3193\n",
      " Aino 3189\n",
      " Fuji 3778\n",
      " Oku 3190\n"
     ]
    },
    {
     "name": "stdout",
     "output_type": "stream",
     "text": [
      "Kita\n"
     ]
    }
   ],
   "source": [
    "N = int(input())\n",
    "ST = [list(input().split()) for _ in range(N)]\n",
    "\n",
    "import numpy as np\n",
    "\n",
    "height = [i for i in np.array(ST)[:, 1]]\n",
    "\n",
    "mounten = [i for i in np.array(ST)[:, 0]]\n",
    "\n",
    "ans_h = str(np.sort([int(i) for i in np.array(ST)[:, 1]])[-2])\n",
    "\n",
    "print (mounten[height.index(ans_h)])"
   ]
  },
  {
   "cell_type": "code",
   "execution_count": null,
   "metadata": {},
   "outputs": [],
   "source": []
  }
 ],
 "metadata": {
  "kernelspec": {
   "display_name": "Python 3",
   "language": "python",
   "name": "python3"
  },
  "language_info": {
   "codemirror_mode": {
    "name": "ipython",
    "version": 3
   },
   "file_extension": ".py",
   "mimetype": "text/x-python",
   "name": "python",
   "nbconvert_exporter": "python",
   "pygments_lexer": "ipython3",
   "version": "3.8.5"
  }
 },
 "nbformat": 4,
 "nbformat_minor": 4
}
