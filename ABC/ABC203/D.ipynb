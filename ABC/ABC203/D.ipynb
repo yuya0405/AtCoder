{
 "cells": [
  {
   "cell_type": "code",
   "execution_count": 4,
   "metadata": {},
   "outputs": [
    {
     "name": "stdin",
     "output_type": "stream",
     "text": [
      " 3 2\n",
      " 1 7 0\n",
      " 5 8 11\n",
      " 10 4 2\n"
     ]
    }
   ],
   "source": [
    "N, K = map(int, input().split())\n",
    "A = [list(map(int, input().split())) for _ in range(N)]"
   ]
  },
  {
   "cell_type": "code",
   "execution_count": null,
   "metadata": {},
   "outputs": [],
   "source": [
    "def is_ok(x):\n",
    "    pass\n",
    "\n",
    "def meguru_bisect(ng, ok):\n",
    "    while (abs(ok - ng) > 1):\n",
    "        mid = (ok + ng) // 2\n",
    "        if is_ok(mid):\n",
    "            ok = mid\n",
    "        else:\n",
    "            ng = mid\n",
    "    return (ok)\n",
    "\n",
    "print (meguru_bisect(10**9+1, 0))"
   ]
  },
  {
   "cell_type": "code",
   "execution_count": 10,
   "metadata": {},
   "outputs": [
    {
     "name": "stdout",
     "output_type": "stream",
     "text": [
      "4\n"
     ]
    }
   ],
   "source": [
    "import itertools\n",
    "\n",
    "ans = 10**9+5\n",
    "for i in range(0, N-K+1):\n",
    "    for j in range(0, N-K+1):\n",
    "        pond = [x[i:i+K] for x in A[j:j+K]]\n",
    "        \n",
    "        #tmp = sum(pond, [])\n",
    "        tmp = list(itertools.chain.from_iterable(pond))\n",
    "        \n",
    "        tmp.sort(reverse=True)\n",
    "        mid = tmp[int((K**2/2)//1)]\n",
    "        ans = min(ans, mid)\n",
    "print (ans)"
   ]
  },
  {
   "cell_type": "code",
   "execution_count": 11,
   "metadata": {},
   "outputs": [
    {
     "name": "stdout",
     "output_type": "stream",
     "text": [
      "4\n"
     ]
    }
   ],
   "source": [
    "import numpy as np\n",
    "\n",
    "A_arr = np.array(A)\n",
    "\n",
    "ans = 10**9+5\n",
    "for i in range(0, N-K+1):\n",
    "    for j in range(0, N-K+1):\n",
    "        pond = A_arr[i:i+K, j:j+K]\n",
    "        \n",
    "        tmp = pond.flatten()\n",
    "        \n",
    "        tmp2 = np.sort(tmp)[::-1]\n",
    "        mid = tmp2[int((K**2/2)//1)]\n",
    "        ans = min(ans, mid)\n",
    "print (ans)"
   ]
  }
 ],
 "metadata": {
  "kernelspec": {
   "display_name": "Python 3",
   "language": "python",
   "name": "python3"
  },
  "language_info": {
   "codemirror_mode": {
    "name": "ipython",
    "version": 3
   },
   "file_extension": ".py",
   "mimetype": "text/x-python",
   "name": "python",
   "nbconvert_exporter": "python",
   "pygments_lexer": "ipython3",
   "version": "3.8.5"
  }
 },
 "nbformat": 4,
 "nbformat_minor": 4
}
