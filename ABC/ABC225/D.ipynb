{
 "cells": [
  {
   "cell_type": "code",
   "execution_count": 1,
   "id": "c4c9e032-31fd-49e5-8e2d-67e722e7cde5",
   "metadata": {},
   "outputs": [
    {
     "name": "stdin",
     "output_type": "stream",
     "text": [
      " 7 14\n",
      " 1 6 3\n",
      " 1 4 1\n",
      " 1 5 2\n",
      " 1 2 7\n",
      " 1 3 5\n",
      " 3 2\n",
      " 3 4\n",
      " 3 6\n",
      " 2 3 5\n",
      " 2 4 1\n",
      " 1 1 5\n",
      " 3 2\n",
      " 3 4\n",
      " 3 6\n"
     ]
    }
   ],
   "source": [
    "N, Q = map(int, input().split())\n",
    "squeries = [list(map(int, input().split())) for _ in range(Q)]"
   ]
  },
  {
   "cell_type": "code",
   "execution_count": 2,
   "id": "bf2f73e7-ff6b-4d02-a8a5-3f0e7729f5f6",
   "metadata": {},
   "outputs": [
    {
     "name": "stdout",
     "output_type": "stream",
     "text": [
      "5 6 3 5 2 7\n",
      "2 4 1\n",
      "5 6 3 5 2 7\n",
      "4 1 5 2 7\n",
      "1 4\n",
      "2 6 3\n"
     ]
    }
   ],
   "source": [
    "# 解説AC\n",
    "\n",
    "_next = [-1] * (N+1)\n",
    "_prev = [-1] * (N+1)\n",
    "\n",
    "for query in queries:\n",
    "    q = query[0]\n",
    "    if q == 1:\n",
    "        x, y = query[1:]\n",
    "        _next[x] = y\n",
    "        _prev[y] = x\n",
    "    elif q == 2:\n",
    "        x, y = query[1:]\n",
    "        _next[x] = -1\n",
    "        _prev[y] = -1\n",
    "    elif q == 3:\n",
    "        x = query[1]\n",
    "        \n",
    "        ans = []\n",
    "        curr = x\n",
    "        \n",
    "        while _prev[curr] != -1:\n",
    "            curr = _prev[curr]\n",
    "        \n",
    "        while curr != -1:\n",
    "            ans.append(curr)\n",
    "            curr = _next[curr]\n",
    "        \n",
    "        print (len(ans), *ans)"
   ]
  },
  {
   "cell_type": "code",
   "execution_count": null,
   "id": "b4409c29-ef13-44ec-881a-6c25009d7632",
   "metadata": {},
   "outputs": [],
   "source": []
  }
 ],
 "metadata": {
  "kernelspec": {
   "display_name": "Python 3 (ipykernel)",
   "language": "python",
   "name": "python3"
  },
  "language_info": {
   "codemirror_mode": {
    "name": "ipython",
    "version": 3
   },
   "file_extension": ".py",
   "mimetype": "text/x-python",
   "name": "python",
   "nbconvert_exporter": "python",
   "pygments_lexer": "ipython3",
   "version": "3.9.13"
  }
 },
 "nbformat": 4,
 "nbformat_minor": 5
}
