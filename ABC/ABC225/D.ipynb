{
 "cells": [
  {
   "cell_type": "code",
   "execution_count": 140,
   "id": "c4c9e032-31fd-49e5-8e2d-67e722e7cde5",
   "metadata": {},
   "outputs": [],
   "source": [
    "N, Q = map(int, input().split())\n",
    "queries = [list(map(int, input().split())) for _ in range(Q)]"
   ]
  },
  {
   "cell_type": "code",
   "execution_count": 140,
   "id": "0c9daefc-3f71-4389-8243-60803e591074",
   "metadata": {},
   "outputs": [
    {
     "name": "stdin",
     "output_type": "stream",
     "text": [
      " 7 14\n",
      " 1 6 3\n",
      " 1 4 1\n",
      " 1 5 2\n",
      " 1 2 7\n",
      " 1 3 5\n",
      " 3 2\n",
      " 3 4\n",
      " 3 6\n",
      " 2 3 5\n",
      " 2 4 1\n",
      " 1 1 5\n",
      " 3 2\n",
      " 3 4\n",
      " 3 6\n"
     ]
    },
    {
     "name": "stdout",
     "output_type": "stream",
     "text": [
      "5 6 3 5 2 7\n",
      "2 4 1\n",
      "5 6 3 5 2 7\n",
      "4 1 5 2 7\n",
      "1 4\n",
      "2 6 3\n"
     ]
    }
   ],
   "source": [
    "tmp = []\n",
    "for i in range(1, N+1):\n",
    "    tmp.append([i])\n",
    "\n",
    "for query in queries:\n",
    "    if query[0] == 1:\n",
    "        # delete\n",
    "        for t in tmp:\n",
    "            if query[2] in t:\n",
    "                delete_list = t\n",
    "        tmp.remove(delete_list)\n",
    "        \n",
    "        # add\n",
    "        for t in tmp:\n",
    "            if query[1] in t:\n",
    "                add_list = t\n",
    "        tmp[tmp.index(add_list)].extend(delete_list)\n",
    "        \n",
    "    elif query[0] == 2:\n",
    "        # divide\n",
    "        for t in tmp:\n",
    "            if query[1] in t:\n",
    "                divide_list = t\n",
    "        tmp.remove(divide_list)\n",
    "        tmp.append(divide_list[:(divide_list.index(query[1]))+1])\n",
    "        tmp.append(divide_list[(divide_list.index(query[1]))+1:])\n",
    "        \n",
    "    else:\n",
    "        # show\n",
    "        for t in tmp:\n",
    "            if query[1] in t:\n",
    "                show_list = t\n",
    "        print (len(show_list), *show_list)"
   ]
  },
  {
   "cell_type": "code",
   "execution_count": 141,
   "id": "0c18fcc6-59f7-42e2-aba6-8837eac2a0f7",
   "metadata": {},
   "outputs": [],
   "source": [
    "#統合部\n",
    "def merge(A, left, mid, right):\n",
    "    L = A[left:mid]\n",
    "    R = A[mid:right]\n",
    "    for i in range(left,right):\n",
    "        if len(L) == 0:\n",
    "            A[i] = R.pop(0)\n",
    "        elif len(R) == 0:\n",
    "            A[i] = L.pop(0)\n",
    "        elif L[0] <= R[0]:\n",
    "            A[i] = L.pop(0)\n",
    "        else:\n",
    "            A[i] = R.pop(0)\n",
    "\n",
    "#分割部\n",
    "def mergesort(A, left, right):\n",
    "    if left + 1 < right:\n",
    "        mid = (left + right)//2\n",
    "        mergesort(A, left, mid)\n",
    "        mergesort(A, mid, right)\n",
    "        merge(A, left, mid, right)\n",
    "        print(A)"
   ]
  },
  {
   "cell_type": "code",
   "execution_count": null,
   "id": "349a057e-bde7-4b2f-b980-fd59fe730e06",
   "metadata": {},
   "outputs": [],
   "source": [
    "tmp = []\n",
    "for i in range(1, N+1):\n",
    "    tmp.append([i])\n",
    "\n",
    "for query in queries:\n",
    "    if query[0] == 1:\n",
    "        # merge\n",
    "        \n",
    "    elif query[0] == 2:\n",
    "        # divide\n",
    "        \n",
    "    else:\n",
    "        # show\n",
    "        for t in tmp:\n",
    "            if query[1] in t:\n",
    "                show_list = t\n",
    "        print (len(show_list), *show_list)"
   ]
  }
 ],
 "metadata": {
  "kernelspec": {
   "display_name": "Python 3",
   "language": "python",
   "name": "python3"
  },
  "language_info": {
   "codemirror_mode": {
    "name": "ipython",
    "version": 3
   },
   "file_extension": ".py",
   "mimetype": "text/x-python",
   "name": "python",
   "nbconvert_exporter": "python",
   "pygments_lexer": "ipython3",
   "version": "3.8.8"
  }
 },
 "nbformat": 4,
 "nbformat_minor": 5
}
