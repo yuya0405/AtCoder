{
 "cells": [
  {
   "cell_type": "code",
   "execution_count": 52,
   "id": "cbd0879e-1c6d-47ff-aefe-3f547b282de9",
   "metadata": {},
   "outputs": [
    {
     "name": "stdin",
     "output_type": "stream",
     "text": [
      " 10 4\n",
      " 1346 1347 1348 1349\n",
      " 1353 1354 1355 1356\n",
      " 1360 1361 1362 1363\n",
      " 1367 1368 1369 1370\n",
      " 1374 1375 1376 1377\n",
      " 1381 1382 1383 1384\n",
      " 1388 1389 1390 1391\n",
      " 1395 1396 1397 1398\n",
      " 1402 1403 1404 1405\n",
      " 1409 1410 1411 1412\n"
     ]
    },
    {
     "name": "stdout",
     "output_type": "stream",
     "text": [
      "Yes\n"
     ]
    }
   ],
   "source": [
    "N, M = map(int, input().split())\n",
    "B = [list(map(int, input().split())) for _ in range(N)]\n",
    "\n",
    "import numpy as np\n",
    "\n",
    "for j in B:\n",
    "    for num, k in enumerate(j[:-1]):\n",
    "        if j[num]+1 != j[num+1]:\n",
    "            print (\"No\")\n",
    "            exit()\n",
    "\n",
    "for j in B[0][:-1]:\n",
    "    if j%7 == 0:\n",
    "        print (\"No\")\n",
    "        exit()\n",
    "\n",
    "for m in range(M):\n",
    "    B_arr = list(np.array(B)[:, m])\n",
    "    for num, _ in enumerate(B_arr[:-1]):\n",
    "        if B_arr[num] +7 != B_arr[num+1]:\n",
    "            print (\"No\")\n",
    "            exit()\n",
    "\n",
    "print (\"Yes\")"
   ]
  },
  {
   "cell_type": "code",
   "execution_count": null,
   "id": "87698d80-a058-4117-a307-d6628e008a5b",
   "metadata": {},
   "outputs": [],
   "source": []
  }
 ],
 "metadata": {
  "kernelspec": {
   "display_name": "Python 3",
   "language": "python",
   "name": "python3"
  },
  "language_info": {
   "codemirror_mode": {
    "name": "ipython",
    "version": 3
   },
   "file_extension": ".py",
   "mimetype": "text/x-python",
   "name": "python",
   "nbconvert_exporter": "python",
   "pygments_lexer": "ipython3",
   "version": "3.8.8"
  }
 },
 "nbformat": 4,
 "nbformat_minor": 5
}
