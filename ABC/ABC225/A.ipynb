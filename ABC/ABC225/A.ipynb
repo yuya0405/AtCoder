{
 "cells": [
  {
   "cell_type": "code",
   "execution_count": 22,
   "id": "ce3d27b7-7640-48e7-b415-0ea705b4bfb9",
   "metadata": {},
   "outputs": [],
   "source": [
    "S = input()\n",
    "\n",
    "from collections import Counter\n",
    "\n",
    "import math\n",
    "a = math.factorial(3)\n",
    "for v in Counter(S).values():\n",
    "    a //= math.factorial(v)\n",
    "print (a)"
   ]
  },
  {
   "cell_type": "code",
   "execution_count": null,
   "id": "e8e0435a-48c9-4169-9f12-ba9c78a2446c",
   "metadata": {},
   "outputs": [],
   "source": []
  }
 ],
 "metadata": {
  "kernelspec": {
   "display_name": "Python 3",
   "language": "python",
   "name": "python3"
  },
  "language_info": {
   "codemirror_mode": {
    "name": "ipython",
    "version": 3
   },
   "file_extension": ".py",
   "mimetype": "text/x-python",
   "name": "python",
   "nbconvert_exporter": "python",
   "pygments_lexer": "ipython3",
   "version": "3.8.8"
  }
 },
 "nbformat": 4,
 "nbformat_minor": 5
}
