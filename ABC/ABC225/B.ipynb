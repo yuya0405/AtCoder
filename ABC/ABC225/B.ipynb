{
 "cells": [
  {
   "cell_type": "code",
   "execution_count": 27,
   "id": "8d3e2a36-cfde-4d75-8393-a9d0c33c85b9",
   "metadata": {},
   "outputs": [],
   "source": [
    "N = int(input())\n",
    "AB = [list(map(int, input().split())) for _ in range(N-1)]\n",
    "\n",
    "count = []\n",
    "for ab in AB:\n",
    "    for _ in ab:\n",
    "        count.append(_)\n",
    "\n",
    "from collections import Counter\n",
    "\n",
    "for c in Counter(count).values():\n",
    "    if c == N-1:\n",
    "        print (\"Yes\")\n",
    "        exit()\n",
    "print (\"No\")"
   ]
  },
  {
   "cell_type": "code",
   "execution_count": null,
   "id": "9595b704-33d8-426d-af30-9f37c5ff30a6",
   "metadata": {},
   "outputs": [],
   "source": []
  }
 ],
 "metadata": {
  "kernelspec": {
   "display_name": "Python 3",
   "language": "python",
   "name": "python3"
  },
  "language_info": {
   "codemirror_mode": {
    "name": "ipython",
    "version": 3
   },
   "file_extension": ".py",
   "mimetype": "text/x-python",
   "name": "python",
   "nbconvert_exporter": "python",
   "pygments_lexer": "ipython3",
   "version": "3.8.8"
  }
 },
 "nbformat": 4,
 "nbformat_minor": 5
}
