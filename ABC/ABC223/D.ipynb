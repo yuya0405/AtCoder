{
 "cells": [
  {
   "cell_type": "code",
   "execution_count": 276,
   "id": "b8e6bc9b-d29c-49ba-9ad3-28a62e149455",
   "metadata": {},
   "outputs": [
    {
     "name": "stdin",
     "output_type": "stream",
     "text": [
      " 2 3\n",
      " 1 2\n",
      " 1 2\n",
      " 2 1\n"
     ]
    }
   ],
   "source": [
    "N, M = map(int, input().split())\n",
    "AB = [list(map(int, input().split())) for _ in range(M)]"
   ]
  },
  {
   "cell_type": "code",
   "execution_count": 277,
   "id": "639566eb-dcb0-49e8-9495-dafcace4baa2",
   "metadata": {},
   "outputs": [
    {
     "data": {
      "text/plain": [
       "[[1, 2], [1, 2], [2, 1]]"
      ]
     },
     "execution_count": 277,
     "metadata": {},
     "output_type": "execute_result"
    }
   ],
   "source": [
    "AB"
   ]
  },
  {
   "cell_type": "code",
   "execution_count": 278,
   "id": "bf4b5cb2-2164-4a57-9a2d-251f7c6a6f79",
   "metadata": {},
   "outputs": [
    {
     "data": {
      "text/plain": [
       "[[1, 2], [1, 2], [2, 1]]"
      ]
     },
     "execution_count": 278,
     "metadata": {},
     "output_type": "execute_result"
    }
   ],
   "source": [
    "AB.sort()\n",
    "AB"
   ]
  },
  {
   "cell_type": "code",
   "execution_count": 279,
   "id": "be955a75-6f82-4d2b-9fdb-e7207f3b4f51",
   "metadata": {},
   "outputs": [
    {
     "name": "stdout",
     "output_type": "stream",
     "text": [
      "[1]\n",
      "[2]\n",
      "[1]\n",
      "[2]\n",
      "[1, 2]\n",
      "[1, 2]\n"
     ]
    },
    {
     "data": {
      "text/plain": [
       "[1, 2]"
      ]
     },
     "execution_count": 279,
     "metadata": {},
     "output_type": "execute_result"
    }
   ],
   "source": [
    "ans = []\n",
    "tmp = []\n",
    "for ab in AB:\n",
    "    if ab[0] in ans:\n",
    "        if ab[1] not in tmp:\n",
    "            tmp.append(ab[1])\n",
    "    else:\n",
    "        tmp.append(ab[0])\n",
    "        tmp.sort()\n",
    "        candidate = tmp.pop(0)\n",
    "        if candidate not in ans:\n",
    "            ans.append(candidate)\n",
    "        if ab[1] not in tmp:\n",
    "            tmp.append(ab[1])\n",
    "    tmp.sort()\n",
    "    print (ans)\n",
    "    print (tmp)\n",
    "ans"
   ]
  },
  {
   "cell_type": "code",
   "execution_count": 280,
   "id": "f2b5f1c9-b454-4c9f-8ccc-938baf35fed5",
   "metadata": {},
   "outputs": [
    {
     "data": {
      "text/plain": [
       "[1, 2]"
      ]
     },
     "execution_count": 280,
     "metadata": {},
     "output_type": "execute_result"
    }
   ],
   "source": [
    "tmp"
   ]
  },
  {
   "cell_type": "code",
   "execution_count": 281,
   "id": "f381ddff-58a9-4dac-9d4c-a7e3fbfc04e0",
   "metadata": {},
   "outputs": [
    {
     "name": "stdout",
     "output_type": "stream",
     "text": [
      "1\n",
      "2\n"
     ]
    }
   ],
   "source": [
    "for t in tmp:\n",
    "    print (t)\n",
    "    if t not in ans:\n",
    "        ans.append(t)"
   ]
  },
  {
   "cell_type": "code",
   "execution_count": 282,
   "id": "9d1cd42b-1984-49e7-aaa3-982ef275ffc0",
   "metadata": {},
   "outputs": [
    {
     "data": {
      "text/plain": [
       "[1, 2]"
      ]
     },
     "execution_count": 282,
     "metadata": {},
     "output_type": "execute_result"
    }
   ],
   "source": [
    "ans"
   ]
  },
  {
   "cell_type": "code",
   "execution_count": 283,
   "id": "818bf179-078e-4726-9f79-94b112b78ead",
   "metadata": {},
   "outputs": [
    {
     "name": "stdout",
     "output_type": "stream",
     "text": [
      "1\n",
      "2\n"
     ]
    }
   ],
   "source": [
    "for i in range(1, N+1):\n",
    "    print (i)\n",
    "    if i in ans:\n",
    "        continue\n",
    "    elif i == 1:\n",
    "        ans.insert(i, 0)\n",
    "    elif i < max(ans):\n",
    "        ans.insert(ans.index(i-1)+1, i)\n",
    "    else:\n",
    "        ans.append(i)"
   ]
  },
  {
   "cell_type": "code",
   "execution_count": 284,
   "id": "0614dc6f-8b77-4011-8881-94fea80c8d1d",
   "metadata": {},
   "outputs": [
    {
     "name": "stdout",
     "output_type": "stream",
     "text": [
      "[1, 2]\n"
     ]
    }
   ],
   "source": [
    "for i in range(1, N+1):\n",
    "    if ans.count(i) != 1 or i not in ans:\n",
    "        print (-1)\n",
    "        break\n",
    "print (ans)"
   ]
  },
  {
   "cell_type": "code",
   "execution_count": 285,
   "id": "455558f0-c45b-4315-a379-996d2e920fb1",
   "metadata": {},
   "outputs": [
    {
     "data": {
      "text/plain": [
       "[1, 2]"
      ]
     },
     "execution_count": 285,
     "metadata": {},
     "output_type": "execute_result"
    }
   ],
   "source": [
    "tmp"
   ]
  },
  {
   "cell_type": "code",
   "execution_count": 286,
   "id": "739db3f7-c325-411e-9d2b-6ab615873cad",
   "metadata": {},
   "outputs": [
    {
     "data": {
      "text/plain": [
       "1"
      ]
     },
     "execution_count": 286,
     "metadata": {},
     "output_type": "execute_result"
    }
   ],
   "source": [
    "tmp.pop(0)"
   ]
  },
  {
   "cell_type": "code",
   "execution_count": null,
   "id": "2f22d7f1-2678-43d0-b1e5-6649df114d90",
   "metadata": {},
   "outputs": [],
   "source": []
  },
  {
   "cell_type": "code",
   "execution_count": null,
   "id": "0d369bcd-d07f-46a3-a2b5-463046e19d76",
   "metadata": {},
   "outputs": [],
   "source": []
  }
 ],
 "metadata": {
  "kernelspec": {
   "display_name": "Python 3",
   "language": "python",
   "name": "python3"
  },
  "language_info": {
   "codemirror_mode": {
    "name": "ipython",
    "version": 3
   },
   "file_extension": ".py",
   "mimetype": "text/x-python",
   "name": "python",
   "nbconvert_exporter": "python",
   "pygments_lexer": "ipython3",
   "version": "3.8.8"
  }
 },
 "nbformat": 4,
 "nbformat_minor": 5
}
