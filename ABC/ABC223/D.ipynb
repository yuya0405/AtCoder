{
 "cells": [
  {
   "cell_type": "code",
   "execution_count": 276,
   "id": "b8e6bc9b-d29c-49ba-9ad3-28a62e149455",
   "metadata": {},
   "outputs": [
    {
     "name": "stdin",
     "output_type": "stream",
     "text": [
      " 2 3\n",
      " 1 2\n",
      " 1 2\n",
      " 2 1\n"
     ]
    }
   ],
   "source": [
    "N, M = map(int, input().split())\n",
    "AB = [list(map(int, input().split())) for _ in range(M)]"
   ]
  },
  {
   "cell_type": "code",
   "execution_count": null,
   "id": "be32ad03-eba4-42f4-aff1-368917a1fdfb",
   "metadata": {},
   "outputs": [],
   "source": [
    "# "
   ]
  },
  {
   "cell_type": "code",
   "execution_count": 1,
   "id": "da186ee8-e4df-4cb9-8135-a75866560aec",
   "metadata": {},
   "outputs": [],
   "source": [
    "import heapq\n",
    "\n",
    "\n",
    "class PriorityQueue:\n",
    "    \"\"\"\n",
    "    優先度付きキュー\n",
    "    \"\"\"\n",
    "\n",
    "    class Reverse:\n",
    "        def __init__(self, val):\n",
    "            self.val = val\n",
    "\n",
    "        def __lt__(self, other):\n",
    "            return self.val > other.val\n",
    "\n",
    "        def __str__(self):\n",
    "            return str(self.val)\n",
    "\n",
    "        def __repr__(self):\n",
    "            return repr(self.val)\n",
    "\n",
    "    def __init__(self, a=None, desc=False):\n",
    "        self.__container = []\n",
    "        if a:\n",
    "            self.__container = a[:]\n",
    "\n",
    "        if desc:\n",
    "            for i, item in enumerate(self.__container):\n",
    "                self.__container[i] = self.Reverse(item)\n",
    "            self.pop = self.__pop_desc\n",
    "            self.push = self.__push_desc\n",
    "            self.top = self.__top_desc\n",
    "        else:\n",
    "            self.pop = self.__pop_asc\n",
    "            self.push = self.__push_asc\n",
    "            self.top = self.__top_asc\n",
    "        heapq.heapify(self.__container)\n",
    "\n",
    "    def __pop_asc(self):\n",
    "        return heapq.heappop(self.__container)\n",
    "\n",
    "    def __pop_desc(self):\n",
    "        return heapq.heappop(self.__container).val\n",
    "\n",
    "    def __push_asc(self, item):\n",
    "        heapq.heappush(self.__container, item)\n",
    "\n",
    "    def __push_desc(self, item):\n",
    "        heapq.heappush(self.__container, self.Reverse(item))\n",
    "\n",
    "    def __top_asc(self):\n",
    "        return self.__container[0]\n",
    "\n",
    "    def __top_desc(self):\n",
    "        return self.__container[0].val\n",
    "\n",
    "    def sum(self):\n",
    "        return sum(self.__container)\n",
    "\n",
    "    def __len__(self):\n",
    "        return len(self.__container)\n",
    "\n",
    "    def __str__(self):\n",
    "        return str(sorted(self.__container))\n",
    "\n",
    "    def __repr__(self):\n",
    "        return self.__str__()"
   ]
  },
  {
   "cell_type": "code",
   "execution_count": null,
   "id": "94c6ef1c-ab4b-4f54-a91e-7be22607840b",
   "metadata": {},
   "outputs": [],
   "source": [
    "def main():\n",
    "    N, M = map(int, input().split())\n",
    "\n",
    "    G = [[] for _ in range(N + 1)]  # A_i -> B_iの関係を管理する\n",
    "    cnt = [0] * (N + 1)  # 縛っている条件の数をカウントする\n",
    "    for _ in range(M):\n",
    "        a, b = map(int, input().split())\n",
    "        cnt[b] += 1\n",
    "        G[a].append(b)\n",
    "\n",
    "    ans = []\n",
    "    pq = PriorityQueue()  # 数字を小さい順に使うために、優先度付きキューを使う\n",
    "\n",
    "    for i in range(1, N + 1):\n",
    "        if cnt[i] == 0:\n",
    "            pq.push(i)\n",
    "\n",
    "    while pq:\n",
    "        u = pq.pop()  # 使える数字のうち最小のもの\n",
    "        ans.append(u)\n",
    "        for v in G[u]:\n",
    "            cnt[v] -= 1  # v は u より先には使えない\n",
    "            if cnt[v] == 0:\n",
    "                pq.push(v)  # vを縛る条件がなくなった（先に使わないといけない数字をすべて使った）ので、使える数字に加える\n",
    "\n",
    "    if len(ans) == N:\n",
    "        print(*ans)\n",
    "    else:\n",
    "        print(-1)\n",
    "\n",
    "\n",
    "if __name__ == '__main__':\n",
    "    main()"
   ]
  }
 ],
 "metadata": {
  "kernelspec": {
   "display_name": "Python 3",
   "language": "python",
   "name": "python3"
  },
  "language_info": {
   "codemirror_mode": {
    "name": "ipython",
    "version": 3
   },
   "file_extension": ".py",
   "mimetype": "text/x-python",
   "name": "python",
   "nbconvert_exporter": "python",
   "pygments_lexer": "ipython3",
   "version": "3.8.8"
  }
 },
 "nbformat": 4,
 "nbformat_minor": 5
}
