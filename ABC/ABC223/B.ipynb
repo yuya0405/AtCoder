{
 "cells": [
  {
   "cell_type": "code",
   "execution_count": 28,
   "id": "feacbecb-bd01-40fc-99d5-c4d46ff7c63e",
   "metadata": {},
   "outputs": [
    {
     "name": "stdin",
     "output_type": "stream",
     "text": [
      " abracadabra\n"
     ]
    },
    {
     "name": "stdout",
     "output_type": "stream",
     "text": [
      "aabracadabr\n",
      "racadabraab\n"
     ]
    }
   ],
   "source": [
    "S = input()\n",
    "\n",
    "ans = []\n",
    "ans.append(S)\n",
    "for i in range(len(S)):\n",
    "    tmp1, tmp2 = ans[-1][0], ans[-1][1:]\n",
    "    tmp = tmp2+tmp1\n",
    "    ans.append(tmp)\n",
    "ans.sort()\n",
    "\n",
    "print (ans[0])\n",
    "print (ans[-1])"
   ]
  },
  {
   "cell_type": "code",
   "execution_count": null,
   "id": "d540764e-c24b-4384-8b04-9b4083157bdc",
   "metadata": {},
   "outputs": [],
   "source": []
  }
 ],
 "metadata": {
  "kernelspec": {
   "display_name": "Python 3",
   "language": "python",
   "name": "python3"
  },
  "language_info": {
   "codemirror_mode": {
    "name": "ipython",
    "version": 3
   },
   "file_extension": ".py",
   "mimetype": "text/x-python",
   "name": "python",
   "nbconvert_exporter": "python",
   "pygments_lexer": "ipython3",
   "version": "3.8.8"
  }
 },
 "nbformat": 4,
 "nbformat_minor": 5
}
