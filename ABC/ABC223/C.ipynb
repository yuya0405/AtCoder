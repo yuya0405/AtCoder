{
 "cells": [
  {
   "cell_type": "code",
   "execution_count": 91,
   "id": "d8f20420-76af-4217-9e7f-8d3d709b87a5",
   "metadata": {},
   "outputs": [
    {
     "name": "stdin",
     "output_type": "stream",
     "text": [
      " 5\n",
      " 3 9\n",
      " 1 2\n",
      " 4 6\n",
      " 1 5\n",
      " 5 3\n"
     ]
    },
    {
     "name": "stdout",
     "output_type": "stream",
     "text": [
      "8.916666666666668\n"
     ]
    }
   ],
   "source": [
    "N = int(input())\n",
    "AB = [list(map(int, input().split())) for _ in range(N)]\n",
    "\n",
    "sum = 0.0\n",
    "fix = []\n",
    "for ab in AB:\n",
    "    sum += ab[0]/ab[1]\n",
    "    fix.append(ab[0]/ab[1])\n",
    "tmp = sum/2\n",
    "\n",
    "ans = 0.0\n",
    "for i, f in enumerate(fix):\n",
    "    tmp -= f\n",
    "    if tmp >= 0:\n",
    "        ans += AB[i][0]\n",
    "    else:\n",
    "        ans += (fix[i]+tmp)*AB[i][1]\n",
    "        break\n",
    "print (ans)"
   ]
  },
  {
   "cell_type": "code",
   "execution_count": null,
   "id": "d85d8873-9a92-4238-bb75-6bf9a6d932e0",
   "metadata": {},
   "outputs": [],
   "source": []
  },
  {
   "cell_type": "code",
   "execution_count": null,
   "id": "b4914a54-c706-4e0e-a9b8-900be9c93113",
   "metadata": {},
   "outputs": [],
   "source": []
  }
 ],
 "metadata": {
  "kernelspec": {
   "display_name": "Python 3",
   "language": "python",
   "name": "python3"
  },
  "language_info": {
   "codemirror_mode": {
    "name": "ipython",
    "version": 3
   },
   "file_extension": ".py",
   "mimetype": "text/x-python",
   "name": "python",
   "nbconvert_exporter": "python",
   "pygments_lexer": "ipython3",
   "version": "3.8.8"
  }
 },
 "nbformat": 4,
 "nbformat_minor": 5
}
