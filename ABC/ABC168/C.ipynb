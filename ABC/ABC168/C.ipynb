{
 "cells": [
  {
   "cell_type": "code",
   "execution_count": 26,
   "id": "4eec8c2a-3f9f-4236-adaa-6f8e1b1b196d",
   "metadata": {},
   "outputs": [
    {
     "name": "stdin",
     "output_type": "stream",
     "text": [
      " 5 10 6 0\n"
     ]
    }
   ],
   "source": [
    "A, B, H, M = map(int, input().split())"
   ]
  },
  {
   "cell_type": "code",
   "execution_count": 28,
   "id": "d9f4dd0a-905a-44af-8180-e4ba623babf2",
   "metadata": {},
   "outputs": [
    {
     "name": "stdout",
     "output_type": "stream",
     "text": [
      "15.0\n"
     ]
    }
   ],
   "source": [
    "import math\n",
    "\n",
    "M_theta = M/60*2*math.pi\n",
    "H_theta = math.pi/6*H + M/60*math.pi/6\n",
    "theta = abs(M_theta - H_theta)\n",
    "\n",
    "X = math.sqrt(A**2+B**2-2*A*B*math.cos(theta))\n",
    "print (X)"
   ]
  },
  {
   "cell_type": "code",
   "execution_count": null,
   "id": "06a9a666-a8f0-4b57-9855-109696269f36",
   "metadata": {},
   "outputs": [],
   "source": []
  }
 ],
 "metadata": {
  "kernelspec": {
   "display_name": "Python 3",
   "language": "python",
   "name": "python3"
  },
  "language_info": {
   "codemirror_mode": {
    "name": "ipython",
    "version": 3
   },
   "file_extension": ".py",
   "mimetype": "text/x-python",
   "name": "python",
   "nbconvert_exporter": "python",
   "pygments_lexer": "ipython3",
   "version": "3.8.8"
  }
 },
 "nbformat": 4,
 "nbformat_minor": 5
}
