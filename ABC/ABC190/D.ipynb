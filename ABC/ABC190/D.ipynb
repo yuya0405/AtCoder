{
 "cells": [
  {
   "cell_type": "code",
   "execution_count": 9,
   "metadata": {},
   "outputs": [
    {
     "name": "stdin",
     "output_type": "stream",
     "text": [
      " 963761198400\n"
     ]
    },
    {
     "name": "stdout",
     "output_type": "stream",
     "text": [
      "1920\n"
     ]
    }
   ],
   "source": [
    "# 2*Nの約数のうち、片方をXとすると、X-n+1が偶数であるものを考える。\n",
    "\n",
    "N = int(input())\n",
    "\n",
    "# nの約数を全て求める\n",
    "def yakusuu(n):\n",
    "    y = []\n",
    "    for i in range(1, int(n**0.5)+1):\n",
    "        if n % i == 0:\n",
    "            y.append(i)\n",
    "            j = n / i\n",
    "            if i != j:\n",
    "                y.append(j)\n",
    "    return y\n",
    "\n",
    "y = yakusuu(2 * N)\n",
    "cnt = 0\n",
    "for n in y:\n",
    "    X = (2 * N) / n\n",
    "    if (X - n + 1) % 2 == 0:\n",
    "        cnt += 1\n",
    "print (cnt)"
   ]
  },
  {
   "cell_type": "code",
   "execution_count": 1,
   "metadata": {},
   "outputs": [
    {
     "name": "stdin",
     "output_type": "stream",
     "text": [
      " 1\n"
     ]
    }
   ],
   "source": [
    "# 模範解答\n",
    "# 2Nを偶奇の異なる正の約数2つに分解する方法の数を考える。\n",
    "\n",
    "while N % 2 == 0:\n",
    "    N //= 2\n",
    "sq = int(N ** 0.5)\n",
    "ans = sum(N % i == 0 for i in range(1, sq + 1)) * 2 - (sq * sq == N)\n",
    "print(ans * 2)"
   ]
  },
  {
   "cell_type": "code",
   "execution_count": null,
   "metadata": {},
   "outputs": [],
   "source": [
    "# 模範解答その2\n",
    "# 2Nの正の約数dについて、dと2N/dの偶奇が異なるものの個数を考える。\n",
    "\n",
    "def div(M):\n",
    "    res=set()\n",
    "    i=1\n",
    "    while(i*i<=M):\n",
    "        if M%i==0:\n",
    "            res.add(i)\n",
    "            res.add(M//i)\n",
    "        i+=1\n",
    "    return res\n",
    "\n",
    "D=div(2*N)\n",
    "ans=0\n",
    "for n in D:\n",
    "    m=(2*N)//n\n",
    "    if (n-m)%2==1:\n",
    "        ans+=1\n",
    "print(ans)"
   ]
  }
 ],
 "metadata": {
  "kernelspec": {
   "display_name": "Python 3",
   "language": "python",
   "name": "python3"
  },
  "language_info": {
   "codemirror_mode": {
    "name": "ipython",
    "version": 3
   },
   "file_extension": ".py",
   "mimetype": "text/x-python",
   "name": "python",
   "nbconvert_exporter": "python",
   "pygments_lexer": "ipython3",
   "version": "3.8.5"
  }
 },
 "nbformat": 4,
 "nbformat_minor": 4
}
