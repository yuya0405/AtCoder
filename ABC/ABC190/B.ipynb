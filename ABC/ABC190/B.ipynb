{
 "cells": [
  {
   "cell_type": "code",
   "execution_count": 9,
   "metadata": {},
   "outputs": [
    {
     "name": "stdin",
     "output_type": "stream",
     "text": [
      " 4 9 9\n",
      " 5 5\n",
      " 15 5\n",
      " 15 145\n",
      " 5 15\n"
     ]
    },
    {
     "name": "stdout",
     "output_type": "stream",
     "text": [
      "Yes\n"
     ]
    }
   ],
   "source": [
    "N, S, D = map(int, input().split())\n",
    "str_list = [list(map(int, input().split())) for _ in range(N)]\n",
    "\n",
    "damage_flag = False\n",
    "for i in str_list:\n",
    "    if i[0] < S and i[1] > D:\n",
    "        damage_flag = True\n",
    "        print (\"Yes\")\n",
    "        break\n",
    "\n",
    "if damage_flag == False:\n",
    "    print (\"No\")"
   ]
  },
  {
   "cell_type": "code",
   "execution_count": null,
   "metadata": {},
   "outputs": [],
   "source": []
  }
 ],
 "metadata": {
  "kernelspec": {
   "display_name": "Python 3",
   "language": "python",
   "name": "python3"
  },
  "language_info": {
   "codemirror_mode": {
    "name": "ipython",
    "version": 3
   },
   "file_extension": ".py",
   "mimetype": "text/x-python",
   "name": "python",
   "nbconvert_exporter": "python",
   "pygments_lexer": "ipython3",
   "version": "3.8.5"
  }
 },
 "nbformat": 4,
 "nbformat_minor": 4
}
