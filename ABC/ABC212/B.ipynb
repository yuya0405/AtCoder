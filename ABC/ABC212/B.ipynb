{
 "cells": [
  {
   "cell_type": "code",
   "execution_count": 17,
   "id": "58871f9f-1a29-4c94-9e12-634d69a6bbd1",
   "metadata": {},
   "outputs": [
    {
     "name": "stdin",
     "output_type": "stream",
     "text": [
      " 1284\n"
     ]
    }
   ],
   "source": [
    "X = input()\n",
    "X1 = int(X[0])\n",
    "X2 = int(X[1])\n",
    "X3 = int(X[2])\n",
    "X4 = int(X[3])"
   ]
  },
  {
   "cell_type": "code",
   "execution_count": 18,
   "id": "8258d05a-7a68-429c-9de3-97f1c45da6ce",
   "metadata": {},
   "outputs": [
    {
     "name": "stdout",
     "output_type": "stream",
     "text": [
      "Strong\n"
     ]
    }
   ],
   "source": [
    "if X1 == X2 and X2 == X3 and X3 == X4:\n",
    "    print (\"Weak\")\n",
    "elif (X1+1)%10 == X2 and (X2+1)%10 == X3 and (X3+1)%10 == X4:\n",
    "    print (\"Weak\")\n",
    "else:\n",
    "    print (\"Strong\")"
   ]
  },
  {
   "cell_type": "code",
   "execution_count": null,
   "id": "f3c570c9-f307-453f-861c-5961fdc88aff",
   "metadata": {},
   "outputs": [],
   "source": []
  }
 ],
 "metadata": {
  "kernelspec": {
   "display_name": "Python 3",
   "language": "python",
   "name": "python3"
  },
  "language_info": {
   "codemirror_mode": {
    "name": "ipython",
    "version": 3
   },
   "file_extension": ".py",
   "mimetype": "text/x-python",
   "name": "python",
   "nbconvert_exporter": "python",
   "pygments_lexer": "ipython3",
   "version": "3.8.8"
  }
 },
 "nbformat": 4,
 "nbformat_minor": 5
}
