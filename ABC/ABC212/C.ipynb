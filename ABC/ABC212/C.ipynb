{
 "cells": [
  {
   "cell_type": "code",
   "execution_count": 1,
   "id": "2235b7a5-af0d-40dc-8966-2b59c781951e",
   "metadata": {},
   "outputs": [
    {
     "name": "stdin",
     "output_type": "stream",
     "text": [
      " 4 4\n",
      " 2 3 4 5\n",
      " 1 1 1 1\n"
     ]
    }
   ],
   "source": [
    "N, M = map(int, input().split())\n",
    "A = list(map(int, input().split()))\n",
    "B = list(map(int, input().split()))"
   ]
  },
  {
   "cell_type": "code",
   "execution_count": 2,
   "id": "9e3c3936-372d-4827-9b56-4ffce0c7a747",
   "metadata": {},
   "outputs": [
    {
     "data": {
      "text/plain": [
       "[2, 3, 4, 5]"
      ]
     },
     "execution_count": 2,
     "metadata": {},
     "output_type": "execute_result"
    }
   ],
   "source": [
    "A_sort = sorted(A)\n",
    "A_sort"
   ]
  },
  {
   "cell_type": "code",
   "execution_count": 5,
   "id": "8530348b-5ccc-42c5-944e-1aa122fe887c",
   "metadata": {},
   "outputs": [
    {
     "name": "stdout",
     "output_type": "stream",
     "text": [
      "1\n"
     ]
    }
   ],
   "source": [
    "import bisect\n",
    "\n",
    "tmp = float('inf')\n",
    "for b in B:\n",
    "    \n",
    "    if bisect.bisect(A_sort, b) != 0:\n",
    "        diff1 = b - A_sort[bisect.bisect(A_sort, b)-1]\n",
    "        if diff1 < tmp:\n",
    "            tmp = diff1\n",
    "    if bisect.bisect(A_sort, b) != N:\n",
    "        diff2 = A_sort[bisect.bisect(A_sort, b)] - b\n",
    "        if diff2 < tmp:\n",
    "            tmp = diff2\n",
    "print (tmp)"
   ]
  },
  {
   "cell_type": "code",
   "execution_count": null,
   "id": "d1709712-a4d7-4f74-b09b-1930618c8ea9",
   "metadata": {},
   "outputs": [],
   "source": []
  }
 ],
 "metadata": {
  "kernelspec": {
   "display_name": "Python 3",
   "language": "python",
   "name": "python3"
  },
  "language_info": {
   "codemirror_mode": {
    "name": "ipython",
    "version": 3
   },
   "file_extension": ".py",
   "mimetype": "text/x-python",
   "name": "python",
   "nbconvert_exporter": "python",
   "pygments_lexer": "ipython3",
   "version": "3.8.8"
  }
 },
 "nbformat": 4,
 "nbformat_minor": 5
}
