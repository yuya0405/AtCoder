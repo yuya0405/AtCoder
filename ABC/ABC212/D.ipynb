{
 "cells": [
  {
   "cell_type": "code",
   "execution_count": 1,
   "id": "28525186-f831-4234-a348-d18df08769da",
   "metadata": {},
   "outputs": [
    {
     "name": "stdin",
     "output_type": "stream",
     "text": [
      " 5\n",
      " 1 3\n",
      " 1 5\n",
      " 3\n",
      " 2 2\n",
      " 3\n"
     ]
    }
   ],
   "source": [
    "Q = int(input())\n",
    "queries = [list(map(int, input().split())) for _ in range(Q)]"
   ]
  },
  {
   "cell_type": "code",
   "execution_count": 5,
   "id": "1033e31c-4afd-452e-ad94-5f943615b424",
   "metadata": {},
   "outputs": [
    {
     "name": "stdout",
     "output_type": "stream",
     "text": [
      "3\n",
      "7\n"
     ]
    }
   ],
   "source": [
    "import heapq\n",
    "\n",
    "box = []\n",
    "# boxを優先度付きキューに\n",
    "heapq.heapify(box)\n",
    "\n",
    "sum = 0\n",
    "for query in queries:\n",
    "    if query[0] == 1:\n",
    "        heapq.heappush(box, query[1]-sum)\n",
    "    elif query[0] == 2:\n",
    "        sum += query[1]\n",
    "    else:\n",
    "        tmp = heapq.heappop(box)\n",
    "        print (tmp+sum)"
   ]
  },
  {
   "cell_type": "code",
   "execution_count": null,
   "id": "89500b68-9cee-4489-9757-e43e495ffe89",
   "metadata": {},
   "outputs": [],
   "source": []
  }
 ],
 "metadata": {
  "kernelspec": {
   "display_name": "Python 3",
   "language": "python",
   "name": "python3"
  },
  "language_info": {
   "codemirror_mode": {
    "name": "ipython",
    "version": 3
   },
   "file_extension": ".py",
   "mimetype": "text/x-python",
   "name": "python",
   "nbconvert_exporter": "python",
   "pygments_lexer": "ipython3",
   "version": "3.8.8"
  }
 },
 "nbformat": 4,
 "nbformat_minor": 5
}
