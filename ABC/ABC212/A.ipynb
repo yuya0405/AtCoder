{
 "cells": [
  {
   "cell_type": "code",
   "execution_count": 1,
   "id": "1f8077cb-f972-4a53-b91f-1bf981ae674e",
   "metadata": {},
   "outputs": [
    {
     "name": "stdin",
     "output_type": "stream",
     "text": [
      " 50 50\n"
     ]
    }
   ],
   "source": [
    "A, B = map(int, input().split())"
   ]
  },
  {
   "cell_type": "code",
   "execution_count": 2,
   "id": "17248a7d-2fd2-41c8-b513-2faced07ddf1",
   "metadata": {},
   "outputs": [
    {
     "name": "stdout",
     "output_type": "stream",
     "text": [
      "Alloy\n"
     ]
    }
   ],
   "source": [
    "if 0 < A and B== 0:\n",
    "    print (\"Gold\")\n",
    "elif A == 0 and 0 < B:\n",
    "    print (\"Silver\")\n",
    "else:\n",
    "    print (\"Alloy\")"
   ]
  },
  {
   "cell_type": "code",
   "execution_count": null,
   "id": "d2ad0c05-52f2-4cdb-8d8e-e8bf074632df",
   "metadata": {},
   "outputs": [],
   "source": []
  }
 ],
 "metadata": {
  "kernelspec": {
   "display_name": "Python 3",
   "language": "python",
   "name": "python3"
  },
  "language_info": {
   "codemirror_mode": {
    "name": "ipython",
    "version": 3
   },
   "file_extension": ".py",
   "mimetype": "text/x-python",
   "name": "python",
   "nbconvert_exporter": "python",
   "pygments_lexer": "ipython3",
   "version": "3.8.8"
  }
 },
 "nbformat": 4,
 "nbformat_minor": 5
}
