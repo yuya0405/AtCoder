{
 "cells": [
  {
   "cell_type": "code",
   "execution_count": 31,
   "id": "de7085b6-6ce1-45c5-b216-50af18359a58",
   "metadata": {},
   "outputs": [],
   "source": [
    "H, W, K = map(int, input().split())\n",
    "C = [input() for _ in range(H)]\n",
    "\n",
    "from itertools import product\n",
    "\n",
    "black_num = 0\n",
    "for c in C:\n",
    "    black_num += c.count('#')\n",
    "\n",
    "ans = 0\n",
    "for bit_h in product([0,1], repeat=H):\n",
    "    for bit_w in product([0,1], repeat=W):\n",
    "        black_tmp = black_num\n",
    "        \n",
    "        for i, b_h in enumerate(bit_h):\n",
    "            if b_h == 1:\n",
    "                black_tmp -= C[i].count('#')\n",
    "                \n",
    "        for j, b_w in enumerate(bit_w):\n",
    "            if b_w == 1:\n",
    "                black_tmp -= [c[j] for c in C].count('#')\n",
    "                \n",
    "        for i, b_h in enumerate(bit_h):\n",
    "            for j, b_w in enumerate(bit_w):\n",
    "                if b_h == 1 and b_w == 1 and C[i][j] == '#':\n",
    "                    black_tmp += 1\n",
    "        if black_tmp == K:\n",
    "            ans += 1\n",
    "print (ans)"
   ]
  },
  {
   "cell_type": "code",
   "execution_count": null,
   "id": "aa1d1318-0833-47df-b5b5-b4b753090374",
   "metadata": {},
   "outputs": [],
   "source": []
  }
 ],
 "metadata": {
  "kernelspec": {
   "display_name": "Python 3",
   "language": "python",
   "name": "python3"
  },
  "language_info": {
   "codemirror_mode": {
    "name": "ipython",
    "version": 3
   },
   "file_extension": ".py",
   "mimetype": "text/x-python",
   "name": "python",
   "nbconvert_exporter": "python",
   "pygments_lexer": "ipython3",
   "version": "3.8.8"
  }
 },
 "nbformat": 4,
 "nbformat_minor": 5
}
