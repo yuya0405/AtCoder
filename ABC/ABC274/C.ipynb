{
 "cells": [
  {
   "cell_type": "code",
   "execution_count": 1,
   "id": "cfed5ca1-a830-48d7-9ee0-ec147f161526",
   "metadata": {},
   "outputs": [
    {
     "name": "stdin",
     "output_type": "stream",
     "text": [
      " 2\n",
      " 1 2\n"
     ]
    }
   ],
   "source": [
    "N = int(input())\n",
    "A = list(map(int, input().split()))"
   ]
  },
  {
   "cell_type": "code",
   "execution_count": 2,
   "id": "98550c6d-28d5-452b-ae0a-c5008ded10fe",
   "metadata": {},
   "outputs": [],
   "source": [
    "import sys\n",
    "sys.setrecursionlimit(10 ** 6)\n",
    "\n",
    "# 頂点 v を根とする部分木を探索\n",
    "# p := 頂点 v の親\n",
    "# depth[v] := 頂点 v の深さ\n",
    "# chs[v] := 頂点 v の子頂点のリスト\n",
    "def rec(v, p, depth, chs):\n",
    "    # 頂点 v の深さを求める\n",
    "    if v == 0:\n",
    "        # 根の場合\n",
    "        depth[v] = 0\n",
    "    else:\n",
    "        # 根以外の場合は親頂点の深さ + 1\n",
    "        depth[v] = depth[p] + 1\n",
    "\n",
    "    # 頂点 v の各子頂点を探索\n",
    "    for ch in chs[v]:\n",
    "        # 子頂点 ch を根とした部分木を再帰的に探索\n",
    "        # 子頂点 ch の親は v である\n",
    "        rec(ch, v, depth, chs)"
   ]
  },
  {
   "cell_type": "code",
   "execution_count": 6,
   "id": "a1ee8ea6-2c44-4249-a37b-5062427b09e1",
   "metadata": {},
   "outputs": [
    {
     "data": {
      "text/plain": [
       "[0, 0, 1, 1]"
      ]
     },
     "execution_count": 6,
     "metadata": {},
     "output_type": "execute_result"
    }
   ],
   "source": [
    "P = []\n",
    "for a in A:\n",
    "    P.append(a-1)\n",
    "    P.append(a-1)\n",
    "P"
   ]
  },
  {
   "cell_type": "code",
   "execution_count": 10,
   "id": "1dee5bdc-55fd-4180-9bf2-513a54679277",
   "metadata": {},
   "outputs": [
    {
     "data": {
      "text/plain": [
       "5"
      ]
     },
     "execution_count": 10,
     "metadata": {},
     "output_type": "execute_result"
    }
   ],
   "source": [
    "N2 = N*2+1\n",
    "N2"
   ]
  },
  {
   "cell_type": "code",
   "execution_count": 13,
   "id": "99272df5-225d-4ba8-a9ee-baca76740071",
   "metadata": {},
   "outputs": [
    {
     "name": "stdout",
     "output_type": "stream",
     "text": [
      "0\n",
      "1\n",
      "1\n",
      "2\n",
      "2\n"
     ]
    }
   ],
   "source": [
    "# 各頂点の子頂点リストを作る\n",
    "chs = [[] for v in range(N2)]\n",
    "for v in range(1, N2):\n",
    "    # 頂点 v の親\n",
    "    p = P[v - 1]\n",
    "\n",
    "    # 親 p の子頂点リストに頂点 v を挿入\n",
    "    chs[p].append(v)\n",
    "\n",
    "# 根頂点 (0) から再帰的に探索\n",
    "# 根頂点 0 の親は便宜的に -1 とする\n",
    "depth = [0] * N2\n",
    "rec(0, -1, depth, chs)\n",
    "\n",
    "for d in depth:\n",
    "    print (d)"
   ]
  },
  {
   "cell_type": "code",
   "execution_count": null,
   "id": "c496a0ce-853c-475a-b671-a01de29e6f8a",
   "metadata": {},
   "outputs": [],
   "source": []
  }
 ],
 "metadata": {
  "kernelspec": {
   "display_name": "Python 3 (ipykernel)",
   "language": "python",
   "name": "python3"
  },
  "language_info": {
   "codemirror_mode": {
    "name": "ipython",
    "version": 3
   },
   "file_extension": ".py",
   "mimetype": "text/x-python",
   "name": "python",
   "nbconvert_exporter": "python",
   "pygments_lexer": "ipython3",
   "version": "3.8.13"
  }
 },
 "nbformat": 4,
 "nbformat_minor": 5
}
