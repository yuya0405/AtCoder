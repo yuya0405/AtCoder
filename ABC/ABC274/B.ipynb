{
 "cells": [
  {
   "cell_type": "code",
   "execution_count": 1,
   "id": "86a16203-a19b-458d-8255-be287ed9e0cd",
   "metadata": {},
   "outputs": [
    {
     "name": "stdin",
     "output_type": "stream",
     "text": [
      " 3 4\n",
      " #..#\n",
      " .#.#\n",
      " .#.#\n"
     ]
    }
   ],
   "source": [
    "H, W = map(int, input().split())\n",
    "C = [input() for _ in range(H)]"
   ]
  },
  {
   "cell_type": "code",
   "execution_count": 2,
   "id": "72931ae5-405c-4733-a368-b87cd5c2d473",
   "metadata": {},
   "outputs": [
    {
     "data": {
      "text/plain": [
       "['#..#', '.#.#', '.#.#']"
      ]
     },
     "execution_count": 2,
     "metadata": {},
     "output_type": "execute_result"
    }
   ],
   "source": [
    "C"
   ]
  },
  {
   "cell_type": "code",
   "execution_count": 11,
   "id": "8f9bd32c-02b2-4ecb-bdf1-d5ae99948e10",
   "metadata": {},
   "outputs": [
    {
     "data": {
      "text/plain": [
       "[1, 2, 0, 3]"
      ]
     },
     "execution_count": 11,
     "metadata": {},
     "output_type": "execute_result"
    }
   ],
   "source": [
    "TMP = []\n",
    "for w in range(W):\n",
    "    tmp = 0\n",
    "    for h in range(H):\n",
    "        if C[h][w] == \"#\":\n",
    "            tmp += 1\n",
    "    TMP.append(tmp)\n",
    "TMP"
   ]
  },
  {
   "cell_type": "code",
   "execution_count": 14,
   "id": "7cb1672d-1311-4284-9ad2-19545617452a",
   "metadata": {},
   "outputs": [
    {
     "name": "stdout",
     "output_type": "stream",
     "text": [
      "1 2 0 3\n"
     ]
    }
   ],
   "source": [
    "print (*TMP)"
   ]
  },
  {
   "cell_type": "code",
   "execution_count": null,
   "id": "3c4d52bf-9745-4b2b-a980-69f64129d112",
   "metadata": {},
   "outputs": [],
   "source": []
  }
 ],
 "metadata": {
  "kernelspec": {
   "display_name": "Python 3 (ipykernel)",
   "language": "python",
   "name": "python3"
  },
  "language_info": {
   "codemirror_mode": {
    "name": "ipython",
    "version": 3
   },
   "file_extension": ".py",
   "mimetype": "text/x-python",
   "name": "python",
   "nbconvert_exporter": "python",
   "pygments_lexer": "ipython3",
   "version": "3.8.13"
  }
 },
 "nbformat": 4,
 "nbformat_minor": 5
}
