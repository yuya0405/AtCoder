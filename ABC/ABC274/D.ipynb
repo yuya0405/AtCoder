{
 "cells": [
  {
   "cell_type": "code",
   "execution_count": 53,
   "id": "ccaa9669-fcfc-43bd-85da-278763ad0865",
   "metadata": {},
   "outputs": [
    {
     "name": "stdin",
     "output_type": "stream",
     "text": [
      " 3 -1 1\n",
      " 2 1 3\n"
     ]
    }
   ],
   "source": [
    "N, x, y = map(int, input().split())\n",
    "A = list(map(int, input().split()))"
   ]
  },
  {
   "cell_type": "code",
   "execution_count": 112,
   "id": "c39eca2a-aeec-4f16-a814-f64b4d45bb55",
   "metadata": {},
   "outputs": [],
   "source": [
    "# x座標について、p_iとp_N+1の距離がj\n",
    "dpx = [[False] * (2*(N*10+1)) for _ in range(N+2)]\n",
    "# y座標について、p_iとp_N+1の距離がj\n",
    "dpy = [[False] * (2*(N*10+1)) for _ in range(N+2)]\n",
    "\n",
    "dpx[1][abs(x)] = True\n",
    "dpy[1][abs(y)] = True\n",
    "\n",
    "dpx[2][abs(A[0] - x)] = True\n",
    "dpy[2][abs(y)] = True"
   ]
  },
  {
   "cell_type": "code",
   "execution_count": 113,
   "id": "a676e3e0-7028-467c-a8c0-91c702fd7f42",
   "metadata": {},
   "outputs": [],
   "source": [
    "for i, a in enumerate(A):\n",
    "    if i == 0:\n",
    "        pass\n",
    "    \n",
    "    for j in range(2*(N*10+1)-10):\n",
    "        if i%2 == 0:\n",
    "            dpx[i+2][j] |= dpx[i][abs(j-a)]\n",
    "            dpx[i+2][j] |= dpx[i][j+a]\n",
    "        else:\n",
    "            dpy[i+2][j] |= dpy[i][abs(j-a)]\n",
    "            dpy[i+2][j] |= dpy[i][j+a]"
   ]
  },
  {
   "cell_type": "code",
   "execution_count": 114,
   "id": "e9676ab7-e15f-48ab-9840-a3e15a8c60c8",
   "metadata": {},
   "outputs": [
    {
     "data": {
      "text/plain": [
       "True"
      ]
     },
     "execution_count": 114,
     "metadata": {},
     "output_type": "execute_result"
    }
   ],
   "source": [
    "dpx[N+1][0]"
   ]
  },
  {
   "cell_type": "code",
   "execution_count": 115,
   "id": "58bea794-9ea3-4e6c-8523-3c1a9b097bfe",
   "metadata": {},
   "outputs": [
    {
     "data": {
      "text/plain": [
       "True"
      ]
     },
     "execution_count": 115,
     "metadata": {},
     "output_type": "execute_result"
    }
   ],
   "source": [
    "dpy[N][0]"
   ]
  },
  {
   "cell_type": "code",
   "execution_count": 116,
   "id": "38c79990-4285-4262-bb05-4ce1b69abefa",
   "metadata": {},
   "outputs": [
    {
     "name": "stdout",
     "output_type": "stream",
     "text": [
      "Yes\n"
     ]
    }
   ],
   "source": [
    "if N % 2 == 1:\n",
    "    if dpx[N+1][0] == True and dpy[N][0] == True:\n",
    "        print (\"Yes\")\n",
    "    else:\n",
    "        print (\"No\")\n",
    "else:\n",
    "    if dpx[N][0] == True and dpy[N+1][0] == True:\n",
    "        print (\"Yes\")\n",
    "    else:\n",
    "        print (\"No\")"
   ]
  },
  {
   "cell_type": "code",
   "execution_count": null,
   "id": "22ac0f0c-d21d-4b89-b886-3c39b0c4b556",
   "metadata": {},
   "outputs": [],
   "source": []
  }
 ],
 "metadata": {
  "kernelspec": {
   "display_name": "Python 3 (ipykernel)",
   "language": "python",
   "name": "python3"
  },
  "language_info": {
   "codemirror_mode": {
    "name": "ipython",
    "version": 3
   },
   "file_extension": ".py",
   "mimetype": "text/x-python",
   "name": "python",
   "nbconvert_exporter": "python",
   "pygments_lexer": "ipython3",
   "version": "3.8.13"
  }
 },
 "nbformat": 4,
 "nbformat_minor": 5
}
