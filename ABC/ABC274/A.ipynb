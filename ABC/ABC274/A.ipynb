{
 "cells": [
  {
   "cell_type": "code",
   "execution_count": 33,
   "id": "350e8d72-b1d6-4ab6-96fe-767e9df542c9",
   "metadata": {},
   "outputs": [
    {
     "name": "stdin",
     "output_type": "stream",
     "text": [
      " 1 1\n"
     ]
    }
   ],
   "source": [
    "A, B = map(int, input().split())"
   ]
  },
  {
   "cell_type": "code",
   "execution_count": 34,
   "id": "0c4265ab-f901-4008-b9fd-ede8fc5b1e7e",
   "metadata": {},
   "outputs": [],
   "source": [
    "def my_round(val, digit=0):\n",
    "    p = 10 ** digit\n",
    "    return (val * p * 2 + 1) // 2 / p"
   ]
  },
  {
   "cell_type": "code",
   "execution_count": 35,
   "id": "e6fd6e2a-a04c-405a-85db-a5bcb5a19afe",
   "metadata": {},
   "outputs": [
    {
     "data": {
      "text/plain": [
       "1.0"
      ]
     },
     "execution_count": 35,
     "metadata": {},
     "output_type": "execute_result"
    }
   ],
   "source": [
    "tmp = my_round(B/A, 3)\n",
    "tmp"
   ]
  },
  {
   "cell_type": "code",
   "execution_count": 36,
   "id": "8fc31d51-3ca9-4442-85a3-fb66ae135b1b",
   "metadata": {},
   "outputs": [
    {
     "name": "stdout",
     "output_type": "stream",
     "text": [
      "1.000\n"
     ]
    }
   ],
   "source": [
    "print ('{:.03f}'.format(tmp))"
   ]
  },
  {
   "cell_type": "code",
   "execution_count": null,
   "id": "9e8042ae-b787-4bc4-a218-61d2a0d94121",
   "metadata": {},
   "outputs": [],
   "source": []
  }
 ],
 "metadata": {
  "kernelspec": {
   "display_name": "Python 3 (ipykernel)",
   "language": "python",
   "name": "python3"
  },
  "language_info": {
   "codemirror_mode": {
    "name": "ipython",
    "version": 3
   },
   "file_extension": ".py",
   "mimetype": "text/x-python",
   "name": "python",
   "nbconvert_exporter": "python",
   "pygments_lexer": "ipython3",
   "version": "3.8.13"
  }
 },
 "nbformat": 4,
 "nbformat_minor": 5
}
