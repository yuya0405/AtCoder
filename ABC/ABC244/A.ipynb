{
 "cells": [
  {
   "cell_type": "code",
   "execution_count": 4,
   "id": "19efb7dd-13ed-4f89-8e17-d863e5cf5bdb",
   "metadata": {},
   "outputs": [],
   "source": [
    "N = int(input())\n",
    "S = input()\n",
    "\n",
    "print (S[-1])"
   ]
  },
  {
   "cell_type": "code",
   "execution_count": null,
   "id": "425da3bc-68df-43cc-a0c8-216e30c37b19",
   "metadata": {},
   "outputs": [],
   "source": []
  }
 ],
 "metadata": {
  "kernelspec": {
   "display_name": "Python 3",
   "language": "python",
   "name": "python3"
  },
  "language_info": {
   "codemirror_mode": {
    "name": "ipython",
    "version": 3
   },
   "file_extension": ".py",
   "mimetype": "text/x-python",
   "name": "python",
   "nbconvert_exporter": "python",
   "pygments_lexer": "ipython3",
   "version": "3.8.8"
  }
 },
 "nbformat": 4,
 "nbformat_minor": 5
}
