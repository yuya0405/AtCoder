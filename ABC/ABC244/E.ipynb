{
 "cells": [
  {
   "cell_type": "code",
   "execution_count": 25,
   "id": "3d496b81-ec14-49c8-a07c-f75c597b5536",
   "metadata": {},
   "outputs": [
    {
     "name": "stdin",
     "output_type": "stream",
     "text": [
      " 10 15 20 4 4 6\n",
      " 2 6\n",
      " 2 7\n",
      " 5 7\n",
      " 4 5\n",
      " 2 4\n",
      " 3 7\n",
      " 1 7\n",
      " 1 4\n",
      " 2 9\n",
      " 5 10\n",
      " 1 3\n",
      " 7 8\n",
      " 7 9\n",
      " 1 6\n",
      " 1 2\n"
     ]
    }
   ],
   "source": [
    "N, M, K, S, T, X = map(int, input().split())\n",
    "UV = [list(map(int, input().split())) for _ in range(M)]"
   ]
  },
  {
   "cell_type": "code",
   "execution_count": 105,
   "id": "83b18094-63fe-4032-9c52-a1c16facbdd4",
   "metadata": {},
   "outputs": [],
   "source": [
    "MOD = 998244353"
   ]
  },
  {
   "cell_type": "code",
   "execution_count": 106,
   "id": "4382c913-a32c-4e1f-bd30-42d4d912d9e3",
   "metadata": {},
   "outputs": [],
   "source": [
    "G = [[] for _ in range(N+1)]\n",
    "for u, v in UV:\n",
    "    G[u].append(v)\n",
    "    G[v].append(u)"
   ]
  },
  {
   "cell_type": "code",
   "execution_count": 107,
   "id": "eeb86db5-9ae7-44c9-9d07-f770f874254d",
   "metadata": {},
   "outputs": [],
   "source": [
    "dp0 = [[0] * (N+1) for _ in range(K+1)]\n",
    "dp1 = [[0] * (N+1) for _ in range(K+1)]\n",
    "dp0[0][S] = 1"
   ]
  },
  {
   "cell_type": "code",
   "execution_count": 108,
   "id": "ddd8afdb-f7eb-4e40-8f5b-1c0038a4900c",
   "metadata": {},
   "outputs": [],
   "source": [
    "for i in range(1, K+1):\n",
    "    for u in range(1, N+1):\n",
    "        for v in G[u]:\n",
    "            if v == X:\n",
    "                dp0[i][v] += dp1[i-1][u]\n",
    "                dp1[i][v] += dp0[i-1][u]\n",
    "            else:\n",
    "                dp0[i][v] += dp0[i-1][u]\n",
    "                dp1[i][v] += dp1[i-1][u]\n",
    "            dp0[i][v] %= MOD\n",
    "            dp1[i][v] %= MOD"
   ]
  },
  {
   "cell_type": "code",
   "execution_count": 109,
   "id": "ac2d5ef9-2d80-4c63-806c-523b9b017f4d",
   "metadata": {},
   "outputs": [
    {
     "data": {
      "text/plain": [
       "952504739"
      ]
     },
     "execution_count": 109,
     "metadata": {},
     "output_type": "execute_result"
    }
   ],
   "source": [
    "dp0[K][T]"
   ]
  },
  {
   "cell_type": "code",
   "execution_count": null,
   "id": "7b3d8fd9-0287-4c68-b7da-b0c3a79349f0",
   "metadata": {},
   "outputs": [],
   "source": []
  },
  {
   "cell_type": "code",
   "execution_count": null,
   "id": "88eee81f-19e3-4575-8394-9e6cece62463",
   "metadata": {},
   "outputs": [],
   "source": []
  }
 ],
 "metadata": {
  "kernelspec": {
   "display_name": "Python 3",
   "language": "python",
   "name": "python3"
  },
  "language_info": {
   "codemirror_mode": {
    "name": "ipython",
    "version": 3
   },
   "file_extension": ".py",
   "mimetype": "text/x-python",
   "name": "python",
   "nbconvert_exporter": "python",
   "pygments_lexer": "ipython3",
   "version": "3.8.8"
  }
 },
 "nbformat": 4,
 "nbformat_minor": 5
}
