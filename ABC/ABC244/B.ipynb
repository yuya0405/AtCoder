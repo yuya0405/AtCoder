{
 "cells": [
  {
   "cell_type": "code",
   "execution_count": 25,
   "id": "edbc43ad-d43e-4ba7-8635-b181567e6640",
   "metadata": {},
   "outputs": [],
   "source": [
    "N = int(input())\n",
    "T = input()\n",
    "\n",
    "pos_x = 0\n",
    "pos_y = 0\n",
    "direction = [(1, 0), (0, -1), (-1, 0), (0, 1)]\n",
    "curr = 0\n",
    "direction[0]\n",
    "\n",
    "for t in T:\n",
    "    if t == \"S\":\n",
    "        dx, dy = direction[curr]\n",
    "        pos_x += dx\n",
    "        pos_y += dy\n",
    "    else:\n",
    "        curr += 1\n",
    "        if curr == 4:\n",
    "            curr = 0\n",
    "\n",
    "print (pos_x, pos_y)"
   ]
  },
  {
   "cell_type": "code",
   "execution_count": null,
   "id": "f5ff82ef-fb16-481b-becc-946708643f75",
   "metadata": {},
   "outputs": [],
   "source": []
  }
 ],
 "metadata": {
  "kernelspec": {
   "display_name": "Python 3",
   "language": "python",
   "name": "python3"
  },
  "language_info": {
   "codemirror_mode": {
    "name": "ipython",
    "version": 3
   },
   "file_extension": ".py",
   "mimetype": "text/x-python",
   "name": "python",
   "nbconvert_exporter": "python",
   "pygments_lexer": "ipython3",
   "version": "3.8.8"
  }
 },
 "nbformat": 4,
 "nbformat_minor": 5
}
