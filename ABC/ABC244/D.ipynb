{
 "cells": [
  {
   "cell_type": "code",
   "execution_count": 33,
   "id": "fdf26d05-0e68-494c-bd36-50d8fa34c162",
   "metadata": {},
   "outputs": [],
   "source": [
    "S1, S2, S3 = input().split()\n",
    "T1, T2, T3 = input().split()\n",
    "\n",
    "def BubbleSort(num):\n",
    "    count = 0\n",
    "    for i in range(len(num)):\n",
    "        for j in range(len(num)-1, i, -1):\n",
    "            if num[j] < num[j-1]:\n",
    "                num[j], num[j-1] = num[j-1], num[j]\n",
    "                count += 1\n",
    "    return count\n",
    "\n",
    "S = [S1, S2, S3]\n",
    "T = [T1, T2, T3]\n",
    "\n",
    "count1 = BubbleSort(S)\n",
    "count2 = BubbleSort(T)\n",
    "\n",
    "if (count1 + count2)%2 == 0:\n",
    "    print (\"Yes\")\n",
    "else:\n",
    "    print (\"No\")"
   ]
  },
  {
   "cell_type": "code",
   "execution_count": null,
   "id": "154b11b3-9635-4a54-8e52-11255c28631b",
   "metadata": {},
   "outputs": [],
   "source": []
  }
 ],
 "metadata": {
  "kernelspec": {
   "display_name": "Python 3",
   "language": "python",
   "name": "python3"
  },
  "language_info": {
   "codemirror_mode": {
    "name": "ipython",
    "version": 3
   },
   "file_extension": ".py",
   "mimetype": "text/x-python",
   "name": "python",
   "nbconvert_exporter": "python",
   "pygments_lexer": "ipython3",
   "version": "3.8.8"
  }
 },
 "nbformat": 4,
 "nbformat_minor": 5
}
