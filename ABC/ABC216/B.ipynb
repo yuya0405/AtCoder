{
 "cells": [
  {
   "cell_type": "code",
   "execution_count": 13,
   "id": "51497428-f8a8-43ce-9516-0426a2fecb2d",
   "metadata": {},
   "outputs": [],
   "source": [
    "N = int(input())\n",
    "ST = [list(input().split()) for _ in range(N)]\n",
    "\n",
    "name = []\n",
    "for s, t in ST:\n",
    "    name.append(s + \" \" + t)\n",
    "\n",
    "import collections\n",
    "\n",
    "c = collections.Counter(name)\n",
    "if max(c.values()) > 1:\n",
    "    print (\"Yes\")\n",
    "else:\n",
    "    print (\"No\")"
   ]
  },
  {
   "cell_type": "code",
   "execution_count": null,
   "id": "62f3df72-e746-4b96-ad2d-3c2dafcc066b",
   "metadata": {},
   "outputs": [],
   "source": []
  }
 ],
 "metadata": {
  "kernelspec": {
   "display_name": "Python 3",
   "language": "python",
   "name": "python3"
  },
  "language_info": {
   "codemirror_mode": {
    "name": "ipython",
    "version": 3
   },
   "file_extension": ".py",
   "mimetype": "text/x-python",
   "name": "python",
   "nbconvert_exporter": "python",
   "pygments_lexer": "ipython3",
   "version": "3.8.8"
  }
 },
 "nbformat": 4,
 "nbformat_minor": 5
}
