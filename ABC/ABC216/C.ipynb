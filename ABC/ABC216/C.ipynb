{
 "cells": [
  {
   "cell_type": "code",
   "execution_count": 21,
   "id": "b90c3c10-8c6d-4629-9c7f-939d83dd4063",
   "metadata": {},
   "outputs": [
    {
     "name": "stdin",
     "output_type": "stream",
     "text": [
      " 1\n"
     ]
    },
    {
     "name": "stdout",
     "output_type": "stream",
     "text": [
      "A\n"
     ]
    }
   ],
   "source": [
    "N = int(input())\n",
    "\n",
    "N_tmp = N\n",
    "ans_tmp = \"\"\n",
    "if N % 2 == 1 and N > 1:\n",
    "    ans_tmp += \"A\"\n",
    "    N_tmp -= 1\n",
    "    \n",
    "while(N_tmp > 1):\n",
    "    if N_tmp % 2 == 0:\n",
    "        ans_tmp += \"B\"\n",
    "        N_tmp //= 2\n",
    "    elif N_tmp % 2 == 1:\n",
    "        ans_tmp += \"A\"\n",
    "        N_tmp -= 1\n",
    "\n",
    "ans_tmp += \"A\"\n",
    "\n",
    "print (\"\".join(reversed(ans_tmp)))"
   ]
  },
  {
   "cell_type": "code",
   "execution_count": null,
   "id": "4a04cb49-5ac0-406a-9f27-f5d89633c638",
   "metadata": {},
   "outputs": [],
   "source": []
  }
 ],
 "metadata": {
  "kernelspec": {
   "display_name": "Python 3",
   "language": "python",
   "name": "python3"
  },
  "language_info": {
   "codemirror_mode": {
    "name": "ipython",
    "version": 3
   },
   "file_extension": ".py",
   "mimetype": "text/x-python",
   "name": "python",
   "nbconvert_exporter": "python",
   "pygments_lexer": "ipython3",
   "version": "3.8.8"
  }
 },
 "nbformat": 4,
 "nbformat_minor": 5
}
