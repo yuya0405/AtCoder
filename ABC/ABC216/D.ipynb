{
 "cells": [
  {
   "cell_type": "code",
   "execution_count": 1,
   "id": "a7e544d4-80cc-455f-9220-1e0da0d47831",
   "metadata": {},
   "outputs": [
    {
     "name": "stdin",
     "output_type": "stream",
     "text": [
      " 2 2\n",
      " 2\n",
      " 1 2\n",
      " 2\n",
      " 1 2\n"
     ]
    }
   ],
   "source": [
    "N, M = map(int, input().split())\n",
    "K = []\n",
    "A = []\n",
    "for i in range(M):\n",
    "    K.append(int(input()))\n",
    "    A.append(list(map(int, input().split())))"
   ]
  },
  {
   "cell_type": "code",
   "execution_count": null,
   "id": "d6647bc8-badf-4d72-806a-a6a76d0098e1",
   "metadata": {},
   "outputs": [],
   "source": []
  }
 ],
 "metadata": {
  "kernelspec": {
   "display_name": "Python 3",
   "language": "python",
   "name": "python3"
  },
  "language_info": {
   "codemirror_mode": {
    "name": "ipython",
    "version": 3
   },
   "file_extension": ".py",
   "mimetype": "text/x-python",
   "name": "python",
   "nbconvert_exporter": "python",
   "pygments_lexer": "ipython3",
   "version": "3.8.8"
  }
 },
 "nbformat": 4,
 "nbformat_minor": 5
}
