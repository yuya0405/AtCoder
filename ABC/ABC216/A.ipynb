{
 "cells": [
  {
   "cell_type": "code",
   "execution_count": 30,
   "id": "46e401fd-d610-4781-8d0d-595b11a279ab",
   "metadata": {},
   "outputs": [
    {
     "name": "stdin",
     "output_type": "stream",
     "text": [
      " 12.5\n"
     ]
    },
    {
     "name": "stdout",
     "output_type": "stream",
     "text": [
      "12\n"
     ]
    }
   ],
   "source": [
    "XY = float(input())\n",
    "\n",
    "X = int(XY)\n",
    "Y = int((XY - X)*10)\n",
    "\n",
    "if 0 <= Y and Y <= 2:\n",
    "    print (str((X)) + \"-\")\n",
    "elif 3 <= Y and Y <= 6:\n",
    "    print (str(X))\n",
    "else:\n",
    "    print (str((X)) + \"+\")"
   ]
  },
  {
   "cell_type": "code",
   "execution_count": null,
   "id": "c04d16b5-0356-46b3-80d6-97ee00796d6e",
   "metadata": {},
   "outputs": [],
   "source": []
  }
 ],
 "metadata": {
  "kernelspec": {
   "display_name": "Python 3",
   "language": "python",
   "name": "python3"
  },
  "language_info": {
   "codemirror_mode": {
    "name": "ipython",
    "version": 3
   },
   "file_extension": ".py",
   "mimetype": "text/x-python",
   "name": "python",
   "nbconvert_exporter": "python",
   "pygments_lexer": "ipython3",
   "version": "3.8.8"
  }
 },
 "nbformat": 4,
 "nbformat_minor": 5
}
