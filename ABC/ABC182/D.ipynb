{
 "cells": [
  {
   "cell_type": "code",
   "execution_count": 39,
   "metadata": {},
   "outputs": [
    {
     "name": "stdin",
     "output_type": "stream",
     "text": [
      " 5\n",
      " -1000 -1000 -1000 -1000 -1000\n"
     ]
    }
   ],
   "source": [
    "N = int(input())\n",
    "A = list(map(int, input().split()))"
   ]
  },
  {
   "cell_type": "code",
   "execution_count": 49,
   "metadata": {},
   "outputs": [
    {
     "name": "stdout",
     "output_type": "stream",
     "text": [
      "[-1000, -2000, -3000, -4000, -5000]\n",
      "[0, -1000, -3000, -6000, -10000, -15000]\n",
      "[-1000, -1000, -1000, -1000, -1000]\n",
      "0\n"
     ]
    }
   ],
   "source": [
    "S = [0]\n",
    "for i in range(N):\n",
    "    S.append(S[i] + A[i])\n",
    "del S[0]\n",
    "print (S)\n",
    "\n",
    "X = [0]\n",
    "for i in range(N):\n",
    "    X.append(X[i] + S[i])\n",
    "print (X)\n",
    "\n",
    "V = [-float('inf')]\n",
    "for i in range(N):\n",
    "    V.append(max(V[i], S[i]))\n",
    "del V[0]\n",
    "print (V)\n",
    "\n",
    "ans = 0\n",
    "for i in range(N):\n",
    "    ans = max(ans, X[i]+V[i])\n",
    "print (ans)"
   ]
  },
  {
   "cell_type": "code",
   "execution_count": 47,
   "metadata": {},
   "outputs": [
    {
     "name": "stdout",
     "output_type": "stream",
     "text": [
      "[-1000, -2000, -3000, -4000, -5000]\n",
      "[0, -1000, -3000, -6000, -10000, -15000]\n",
      "[-1000, -1000, -1000, -1000, -1000]\n",
      "0\n"
     ]
    }
   ],
   "source": [
    "# 別解\n",
    "from itertools import accumulate\n",
    "\n",
    "S = list(accumulate(A))\n",
    "print (S)\n",
    "X = [0]+list(accumulate(S))\n",
    "print (X)\n",
    "V = list(accumulate(S, func=max))\n",
    "print (V)\n",
    "\n",
    "ans = 0\n",
    "for i in range(N):\n",
    "    ans = max(ans, X[i]+V[i])\n",
    "print (ans)"
   ]
  },
  {
   "cell_type": "code",
   "execution_count": null,
   "metadata": {},
   "outputs": [],
   "source": []
  }
 ],
 "metadata": {
  "kernelspec": {
   "display_name": "Python 3",
   "language": "python",
   "name": "python3"
  },
  "language_info": {
   "codemirror_mode": {
    "name": "ipython",
    "version": 3
   },
   "file_extension": ".py",
   "mimetype": "text/x-python",
   "name": "python",
   "nbconvert_exporter": "python",
   "pygments_lexer": "ipython3",
   "version": "3.8.5"
  }
 },
 "nbformat": 4,
 "nbformat_minor": 4
}
