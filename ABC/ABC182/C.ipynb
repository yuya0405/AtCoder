{
 "cells": [
  {
   "cell_type": "code",
   "execution_count": 33,
   "metadata": {},
   "outputs": [],
   "source": [
    "import numpy as np\n",
    "N = int(input())\n",
    "\n",
    "N_list = [int(x) for x in list(str(N))]\n",
    "\n",
    "if np.sum(np.array(N_list))%3 == 0:\n",
    "    print (0)\n",
    "elif np.sum(np.array(N_list))%3 == 1:\n",
    "    if np.any(np.array(N_list)%3 == 1):\n",
    "        if len(str(N)) >= 2:\n",
    "            print (1)\n",
    "        else:\n",
    "            print (-1)\n",
    "    else:\n",
    "        if len(str(N)) >= 3:\n",
    "            print (2)\n",
    "        else:\n",
    "            print (-1)\n",
    "elif np.sum(np.array(N_list))%3 == 2:\n",
    "    if np.any(np.array(N_list)%3 == 2):\n",
    "        if len(str(N)) >= 2:\n",
    "            print (1)\n",
    "        else:\n",
    "            print (-1)\n",
    "    else:\n",
    "        if len(str(N)) >= 3:\n",
    "            print (2)\n",
    "        else:\n",
    "            print (-1)"
   ]
  },
  {
   "cell_type": "code",
   "execution_count": null,
   "metadata": {},
   "outputs": [],
   "source": []
  }
 ],
 "metadata": {
  "kernelspec": {
   "display_name": "Python 3",
   "language": "python",
   "name": "python3"
  },
  "language_info": {
   "codemirror_mode": {
    "name": "ipython",
    "version": 3
   },
   "file_extension": ".py",
   "mimetype": "text/x-python",
   "name": "python",
   "nbconvert_exporter": "python",
   "pygments_lexer": "ipython3",
   "version": "3.8.5"
  }
 },
 "nbformat": 4,
 "nbformat_minor": 4
}
