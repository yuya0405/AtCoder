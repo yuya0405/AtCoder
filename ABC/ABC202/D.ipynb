{
 "cells": [
  {
   "cell_type": "code",
   "execution_count": 3,
   "metadata": {},
   "outputs": [
    {
     "name": "stdin",
     "output_type": "stream",
     "text": [
      " 2 2 4\n"
     ]
    },
    {
     "name": "stdout",
     "output_type": "stream",
     "text": [
      "baab\n"
     ]
    }
   ],
   "source": [
    "A, B, K = map(int, input().split())\n",
    "\n",
    "S = \"a\"*A+\"b\"*B\n",
    "\n",
    "from scipy.special import comb\n",
    "\n",
    "a = A\n",
    "b = B\n",
    "k = K\n",
    "\n",
    "ans = \"\"\n",
    "for i in range(A+B):\n",
    "    if a == 0:\n",
    "        ans += \"b\"\n",
    "    elif b == 0:\n",
    "        ans += \"a\"\n",
    "    elif k <= comb(a-1+b, a-1, exact=True):\n",
    "        ans += \"a\"\n",
    "        a -= 1\n",
    "    else:\n",
    "        ans += \"b\"\n",
    "        k -= comb(a-1+b, a-1, exact=True)\n",
    "        b -= 1\n",
    "print (ans)"
   ]
  },
  {
   "cell_type": "code",
   "execution_count": null,
   "metadata": {},
   "outputs": [],
   "source": []
  }
 ],
 "metadata": {
  "kernelspec": {
   "display_name": "Python 3",
   "language": "python",
   "name": "python3"
  },
  "language_info": {
   "codemirror_mode": {
    "name": "ipython",
    "version": 3
   },
   "file_extension": ".py",
   "mimetype": "text/x-python",
   "name": "python",
   "nbconvert_exporter": "python",
   "pygments_lexer": "ipython3",
   "version": "3.8.5"
  }
 },
 "nbformat": 4,
 "nbformat_minor": 4
}
