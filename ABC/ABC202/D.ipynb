{
 "cells": [
  {
   "cell_type": "code",
   "execution_count": 202,
   "metadata": {},
   "outputs": [
    {
     "name": "stdin",
     "output_type": "stream",
     "text": [
      " 30 30 118264581564861424\n"
     ]
    },
    {
     "name": "stdout",
     "output_type": "stream",
     "text": [
      "bbbbbbbbbbbbbbbbbbbbbbbbbbbbbbaaaaaaaaaaaaaaaaaaaaaaaaaaaaaa\n"
     ]
    }
   ],
   "source": [
    "A, B, K = map(int, input().split())\n",
    "\n",
    "S = \"a\"*A+\"b\"*B\n",
    "\n",
    "import math\n",
    "\n",
    "x = math.factorial(A+B) // (math.factorial(A) * math.factorial(B))\n",
    "\n",
    "ans = \"\"\n",
    "while(ans.count(\"a\") < A and ans.count(\"b\") < B):\n",
    "    if K <= x/2:\n",
    "        ans += \"a\"\n",
    "    else:\n",
    "        ans += \"b\"\n",
    "    K += -x/2\n",
    "    x += -x/2 + 1\n",
    "\n",
    "if ans.count(\"a\") <= ans.count(\"b\"):\n",
    "    while (len(ans) < (A+B)):\n",
    "        ans += \"a\"\n",
    "else:\n",
    "    while (len(ans) < (A+B)):\n",
    "        ans += \"b\"\n",
    "print (ans)"
   ]
  }
 ],
 "metadata": {
  "kernelspec": {
   "display_name": "Python 3",
   "language": "python",
   "name": "python3"
  },
  "language_info": {
   "codemirror_mode": {
    "name": "ipython",
    "version": 3
   },
   "file_extension": ".py",
   "mimetype": "text/x-python",
   "name": "python",
   "nbconvert_exporter": "python",
   "pygments_lexer": "ipython3",
   "version": "3.8.5"
  }
 },
 "nbformat": 4,
 "nbformat_minor": 4
}
