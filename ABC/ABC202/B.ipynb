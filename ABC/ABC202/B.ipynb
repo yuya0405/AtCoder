{
 "cells": [
  {
   "cell_type": "code",
   "execution_count": 14,
   "metadata": {},
   "outputs": [],
   "source": [
    "S = input()\n",
    "\n",
    "ans = []\n",
    "for s in S[::-1]:\n",
    "    if s == \"0\" or s == \"1\" or s == \"8\":\n",
    "        ans.append(s)\n",
    "    elif s == \"6\":\n",
    "        ans.append(\"9\")\n",
    "    elif s == \"9\":\n",
    "        ans.append(\"6\")\n",
    "print (\"\".join(ans))"
   ]
  },
  {
   "cell_type": "code",
   "execution_count": null,
   "metadata": {},
   "outputs": [],
   "source": []
  }
 ],
 "metadata": {
  "kernelspec": {
   "display_name": "Python 3",
   "language": "python",
   "name": "python3"
  },
  "language_info": {
   "codemirror_mode": {
    "name": "ipython",
    "version": 3
   },
   "file_extension": ".py",
   "mimetype": "text/x-python",
   "name": "python",
   "nbconvert_exporter": "python",
   "pygments_lexer": "ipython3",
   "version": "3.8.5"
  }
 },
 "nbformat": 4,
 "nbformat_minor": 4
}
