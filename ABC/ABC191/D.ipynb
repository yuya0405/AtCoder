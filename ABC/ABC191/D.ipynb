{
 "cells": [
  {
   "cell_type": "code",
   "execution_count": null,
   "metadata": {},
   "outputs": [],
   "source": [
    "X, Y, R = map(float, input().split())\n",
    "\n",
    "ans = 0\n",
    "for x in range(int(X-R)-1, int(X+R)+1):\n",
    "    for y in range(int(Y-R)-1, int(Y+R)+1):\n",
    "        if (x-X)**2+(y-Y)**2 <= R**2:\n",
    "            ans += 1\n",
    "print (ans)"
   ]
  },
  {
   "cell_type": "code",
   "execution_count": 18,
   "metadata": {},
   "outputs": [
    {
     "name": "stdin",
     "output_type": "stream",
     "text": [
      " 0.2 0.8 1.1\n"
     ]
    },
    {
     "name": "stdout",
     "output_type": "stream",
     "text": [
      "1 0\n",
      "0 0\n",
      "1 0\n",
      "1\n"
     ]
    }
   ],
   "source": [
    "X, Y, R = map(float, input().split())\n",
    "\n",
    "ans = 0\n",
    "for x in range(int(X-R)-1, int(X+R)+1):\n",
    "    for y in range(int(Y-R)-1, int(Y+R)+1):\n",
    "        if (x-X)**2+(y-Y)**2 <= R**2:\n",
    "            tmp1 = y\n",
    "            break\n",
    "    for y in range(int(Y+R)+1, int(Y-R)-1):\n",
    "        if (x-X)**2+(y-Y)**2 <= R**2:\n",
    "            tmp2 = y\n",
    "            break\n",
    "    print (tmp1, tmp2)\n",
    "    ans += tmp2-tmp1+1\n",
    "print (ans)"
   ]
  },
  {
   "cell_type": "code",
   "execution_count": null,
   "metadata": {},
   "outputs": [],
   "source": []
  }
 ],
 "metadata": {
  "kernelspec": {
   "display_name": "Python 3",
   "language": "python",
   "name": "python3"
  },
  "language_info": {
   "codemirror_mode": {
    "name": "ipython",
    "version": 3
   },
   "file_extension": ".py",
   "mimetype": "text/x-python",
   "name": "python",
   "nbconvert_exporter": "python",
   "pygments_lexer": "ipython3",
   "version": "3.8.5"
  }
 },
 "nbformat": 4,
 "nbformat_minor": 4
}
