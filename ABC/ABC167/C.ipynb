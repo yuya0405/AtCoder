{
 "cells": [
  {
   "cell_type": "code",
   "execution_count": 19,
   "id": "586847a5-63dc-4d10-9d6a-32564507ac20",
   "metadata": {},
   "outputs": [
    {
     "name": "stdin",
     "output_type": "stream",
     "text": [
      " 8 5 22\n",
      " 100 3 7 5 3 1\n",
      " 164 4 5 2 7 8\n",
      " 334 7 2 7 2 9\n",
      " 234 4 7 2 8 2\n",
      " 541 5 4 3 3 6\n",
      " 235 4 8 6 9 7\n",
      " 394 3 6 1 6 2\n",
      " 872 8 4 3 7 2\n"
     ]
    }
   ],
   "source": [
    "N, M, X = map(int, input().split())\n",
    "CA = [list(map(int, input().split())) for _ in range(N)]"
   ]
  },
  {
   "cell_type": "code",
   "execution_count": 20,
   "id": "43b3993d-48a6-42ac-8275-c2f93f850cca",
   "metadata": {},
   "outputs": [
    {
     "data": {
      "text/plain": [
       "[[100, 3, 7, 5, 3, 1],\n",
       " [164, 4, 5, 2, 7, 8],\n",
       " [334, 7, 2, 7, 2, 9],\n",
       " [234, 4, 7, 2, 8, 2],\n",
       " [541, 5, 4, 3, 3, 6],\n",
       " [235, 4, 8, 6, 9, 7],\n",
       " [394, 3, 6, 1, 6, 2],\n",
       " [872, 8, 4, 3, 7, 2]]"
      ]
     },
     "execution_count": 20,
     "metadata": {},
     "output_type": "execute_result"
    }
   ],
   "source": [
    "CA"
   ]
  },
  {
   "cell_type": "code",
   "execution_count": 25,
   "id": "3c61807e-16ea-4506-9c9c-7f04a337b1b1",
   "metadata": {},
   "outputs": [
    {
     "name": "stdout",
     "output_type": "stream",
     "text": [
      "1067\n"
     ]
    }
   ],
   "source": [
    "from itertools import product\n",
    "\n",
    "ans = float('inf')\n",
    "for bit in product([0,1], repeat=N):\n",
    "    CostAbility = [0]*(M+1)\n",
    "    for i, b in enumerate(bit):\n",
    "        if b == 1:\n",
    "            CostAbility[0] += CA[i][0]\n",
    "            for j in range(1, M+1):\n",
    "                CostAbility[j] += CA[i][j]\n",
    "    flag = True\n",
    "    for j in range(1, M+1):\n",
    "        if CostAbility[j] < X:\n",
    "            flag = False\n",
    "    if flag == True:\n",
    "        ans = min(ans, CostAbility[0])\n",
    "if ans == float('inf'):\n",
    "    print (-1)\n",
    "else:\n",
    "    print (ans)"
   ]
  }
 ],
 "metadata": {
  "kernelspec": {
   "display_name": "Python 3",
   "language": "python",
   "name": "python3"
  },
  "language_info": {
   "codemirror_mode": {
    "name": "ipython",
    "version": 3
   },
   "file_extension": ".py",
   "mimetype": "text/x-python",
   "name": "python",
   "nbconvert_exporter": "python",
   "pygments_lexer": "ipython3",
   "version": "3.8.8"
  }
 },
 "nbformat": 4,
 "nbformat_minor": 5
}
