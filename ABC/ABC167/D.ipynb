{
 "cells": [
  {
   "cell_type": "code",
   "execution_count": 160,
   "id": "fc6bad99-8af1-49e4-8f44-bfbea1d163d3",
   "metadata": {},
   "outputs": [
    {
     "name": "stdin",
     "output_type": "stream",
     "text": [
      " 6 6\n",
      " 6 5 2 5 3 2\n"
     ]
    }
   ],
   "source": [
    "N, K = map(int, input().split())\n",
    "A = list(map(int, input().split()))"
   ]
  },
  {
   "cell_type": "code",
   "execution_count": 161,
   "id": "7417fdd5-ad2c-4005-8622-68e24ff92d57",
   "metadata": {},
   "outputs": [
    {
     "name": "stdout",
     "output_type": "stream",
     "text": [
      "5\n"
     ]
    }
   ],
   "source": [
    "pos = 1\n",
    "count_array = [0]*N\n",
    "count_array[0] = 1\n",
    "count = 1\n",
    "for n in range(N):\n",
    "    if count_array[A[pos-1]-1] == 0:\n",
    "        pos = A[pos-1]\n",
    "        count += 1\n",
    "        count_array[pos-1] = count\n",
    "    else:\n",
    "        loop_start = A[pos-1]\n",
    "        edge = count_array[A[pos-1]-1] - 1\n",
    "        loop = count - edge\n",
    "        break\n",
    "\n",
    "if K <= edge:\n",
    "    pos = 1\n",
    "else:\n",
    "    K -= edge\n",
    "    K %= loop\n",
    "    pos = loop_start\n",
    "\n",
    "for k in range(K):\n",
    "    pos = A[pos-1]\n",
    "print (pos)"
   ]
  },
  {
   "cell_type": "code",
   "execution_count": null,
   "id": "38a77685-a447-4d3a-8c30-0c2e72ec50c8",
   "metadata": {},
   "outputs": [],
   "source": []
  }
 ],
 "metadata": {
  "kernelspec": {
   "display_name": "Python 3",
   "language": "python",
   "name": "python3"
  },
  "language_info": {
   "codemirror_mode": {
    "name": "ipython",
    "version": 3
   },
   "file_extension": ".py",
   "mimetype": "text/x-python",
   "name": "python",
   "nbconvert_exporter": "python",
   "pygments_lexer": "ipython3",
   "version": "3.8.8"
  }
 },
 "nbformat": 4,
 "nbformat_minor": 5
}
