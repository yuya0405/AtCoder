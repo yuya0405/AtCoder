{
 "cells": [
  {
   "cell_type": "code",
   "execution_count": 1,
   "id": "b797f6de-cfc3-4a4c-ac77-8f4f4a0d0ea9",
   "metadata": {},
   "outputs": [
    {
     "name": "stdin",
     "output_type": "stream",
     "text": [
      " 39\n",
      " RBRBGRBGGBBRRGBBRRRBGGBRBGBRBGBRBBBGBBB\n"
     ]
    }
   ],
   "source": [
    "N = int(input())\n",
    "S = input()"
   ]
  },
  {
   "cell_type": "code",
   "execution_count": 2,
   "id": "79efd4db-7bc2-41b0-b148-ce6bcd76f5c7",
   "metadata": {},
   "outputs": [
    {
     "data": {
      "text/plain": [
       "39"
      ]
     },
     "execution_count": 2,
     "metadata": {},
     "output_type": "execute_result"
    }
   ],
   "source": [
    "len(S)"
   ]
  },
  {
   "cell_type": "code",
   "execution_count": 6,
   "id": "64607171-9571-4ce0-bb4d-86e1a5552d5d",
   "metadata": {},
   "outputs": [
    {
     "name": "stdout",
     "output_type": "stream",
     "text": [
      "1800\n"
     ]
    }
   ],
   "source": [
    "# AC\n",
    "\n",
    "R = S.count(\"R\")\n",
    "G = S.count(\"G\")\n",
    "B = S.count(\"B\")\n",
    "ans = R*G*B\n",
    "\n",
    "for i in range(N):\n",
    "    for d in range(N):\n",
    "        j = i + d\n",
    "        k = j + d\n",
    "        if k < N:\n",
    "            if S[i] != S[j] and S[i] != S[k] and S[j] != S[k]:\n",
    "                ans -= 1\n",
    "print (ans)"
   ]
  },
  {
   "cell_type": "code",
   "execution_count": 3,
   "id": "585236e8-e73e-4b16-a264-834f578819e2",
   "metadata": {},
   "outputs": [
    {
     "name": "stdout",
     "output_type": "stream",
     "text": [
      "1800\n"
     ]
    }
   ],
   "source": [
    "# TLE\n",
    "\n",
    "ans = 0\n",
    "for i in range(0, N):\n",
    "    for j in range(i+1, N):\n",
    "        for k in range(j+1, N):\n",
    "            if S[i] != S[j] and S[i] != S[k] and S[j] != S[k] and j-i != k-j:\n",
    "                ans += 1\n",
    "print (ans)"
   ]
  },
  {
   "cell_type": "code",
   "execution_count": null,
   "id": "c4fa3a63-b667-40f6-a213-d0b5dff507c6",
   "metadata": {},
   "outputs": [],
   "source": []
  }
 ],
 "metadata": {
  "kernelspec": {
   "display_name": "Python 3",
   "language": "python",
   "name": "python3"
  },
  "language_info": {
   "codemirror_mode": {
    "name": "ipython",
    "version": 3
   },
   "file_extension": ".py",
   "mimetype": "text/x-python",
   "name": "python",
   "nbconvert_exporter": "python",
   "pygments_lexer": "ipython3",
   "version": "3.8.8"
  }
 },
 "nbformat": 4,
 "nbformat_minor": 5
}
