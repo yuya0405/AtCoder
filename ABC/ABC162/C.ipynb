{
 "cells": [
  {
   "cell_type": "code",
   "execution_count": 4,
   "id": "839eb3cb-35f3-40fb-b3e6-26ea8ba03196",
   "metadata": {},
   "outputs": [],
   "source": [
    "K = int(input())\n",
    "\n",
    "import math\n",
    "\n",
    "ans = 0\n",
    "for a in range(1, K+1):\n",
    "    for b in range(1, K+1):\n",
    "        for c in range(1, K+1):\n",
    "            ans += math.gcd(math.gcd(a,b), c)\n",
    "print (ans)"
   ]
  },
  {
   "cell_type": "code",
   "execution_count": null,
   "id": "73d5a126-a7d7-4b58-90d2-68c9c4dca203",
   "metadata": {},
   "outputs": [],
   "source": []
  }
 ],
 "metadata": {
  "kernelspec": {
   "display_name": "Python 3",
   "language": "python",
   "name": "python3"
  },
  "language_info": {
   "codemirror_mode": {
    "name": "ipython",
    "version": 3
   },
   "file_extension": ".py",
   "mimetype": "text/x-python",
   "name": "python",
   "nbconvert_exporter": "python",
   "pygments_lexer": "ipython3",
   "version": "3.8.8"
  }
 },
 "nbformat": 4,
 "nbformat_minor": 5
}
