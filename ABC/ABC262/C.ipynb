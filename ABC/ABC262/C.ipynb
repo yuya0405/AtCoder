{
 "cells": [
  {
   "cell_type": "code",
   "execution_count": 97,
   "id": "2c42c133-2a8b-437c-9011-6c8e3b28c192",
   "metadata": {},
   "outputs": [
    {
     "name": "stdin",
     "output_type": "stream",
     "text": [
      " 4\n",
      " 1 3 2 4\n"
     ]
    }
   ],
   "source": [
    "N = int(input())\n",
    "A = list(map(int, input().split()))"
   ]
  },
  {
   "cell_type": "code",
   "execution_count": 133,
   "id": "62227609-d9ef-4e54-a269-2e8d27cd6915",
   "metadata": {},
   "outputs": [
    {
     "data": {
      "text/plain": [
       "defaultdict(int, {2: 3, 3: 2})"
      ]
     },
     "execution_count": 133,
     "metadata": {},
     "output_type": "execute_result"
    }
   ],
   "source": [
    "from collections import defaultdict\n",
    "D = defaultdict(int)\n",
    "\n",
    "count1 = 0\n",
    "for i, a in enumerate(A):\n",
    "    if i == a-1:\n",
    "        count1 += 1\n",
    "        continue\n",
    "    D[i+1] += a\n",
    "D"
   ]
  },
  {
   "cell_type": "code",
   "execution_count": 136,
   "id": "b1d0f50d-5898-4d2e-9e54-a8288e3e32be",
   "metadata": {},
   "outputs": [
    {
     "data": {
      "text/plain": [
       "1"
      ]
     },
     "execution_count": 136,
     "metadata": {},
     "output_type": "execute_result"
    }
   ],
   "source": [
    "import math\n",
    "\n",
    "ans = 0\n",
    "\n",
    "if count1 <= 1:\n",
    "    pass\n",
    "else:\n",
    "    ans += count1 * (count1 - 1) // 2\n",
    "ans"
   ]
  },
  {
   "cell_type": "code",
   "execution_count": 137,
   "id": "384c2217-b032-4461-9ead-ccd9a12aae03",
   "metadata": {},
   "outputs": [
    {
     "name": "stdout",
     "output_type": "stream",
     "text": [
      "2\n"
     ]
    }
   ],
   "source": [
    "count2 = 0\n",
    "for i in range(1, N+1):\n",
    "    if i == D[D[i]]:\n",
    "        count2 += 1\n",
    "ans += count2//2\n",
    "print (ans)"
   ]
  },
  {
   "cell_type": "code",
   "execution_count": null,
   "id": "9230732e-78af-49e0-a820-80d3d9a9b543",
   "metadata": {},
   "outputs": [],
   "source": []
  }
 ],
 "metadata": {
  "kernelspec": {
   "display_name": "Python 3 (ipykernel)",
   "language": "python",
   "name": "python3"
  },
  "language_info": {
   "codemirror_mode": {
    "name": "ipython",
    "version": 3
   },
   "file_extension": ".py",
   "mimetype": "text/x-python",
   "name": "python",
   "nbconvert_exporter": "python",
   "pygments_lexer": "ipython3",
   "version": "3.9.13"
  }
 },
 "nbformat": 4,
 "nbformat_minor": 5
}
