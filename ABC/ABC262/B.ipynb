{
 "cells": [
  {
   "cell_type": "code",
   "execution_count": 1,
   "id": "c556c27a-2208-4d40-a053-34d0e4ec9130",
   "metadata": {},
   "outputs": [
    {
     "name": "stdin",
     "output_type": "stream",
     "text": [
      " 5 6\n",
      " 1 5\n",
      " 4 5\n",
      " 2 3\n",
      " 1 4\n",
      " 3 5\n",
      " 2 5\n"
     ]
    }
   ],
   "source": [
    "N, M = map(int, input().split())\n",
    "UV = [list(map(int, input().split())) for _ in range(M)]"
   ]
  },
  {
   "cell_type": "code",
   "execution_count": 27,
   "id": "0b971967-459f-43eb-8750-7d1499a9a0b7",
   "metadata": {},
   "outputs": [
    {
     "data": {
      "text/plain": [
       "[[3, 4], [2, 4], [4], [4], []]"
      ]
     },
     "execution_count": 27,
     "metadata": {},
     "output_type": "execute_result"
    }
   ],
   "source": [
    "G = [[] for i in range(N)]\n",
    "for u, v in UV:\n",
    "    G[u-1].append(v-1)\n",
    "G"
   ]
  },
  {
   "cell_type": "code",
   "execution_count": 32,
   "id": "30250d03-8886-44af-b588-9b0b29ff2249",
   "metadata": {},
   "outputs": [
    {
     "name": "stdout",
     "output_type": "stream",
     "text": [
      "2\n"
     ]
    }
   ],
   "source": [
    "ans = 0\n",
    "for i in range(1, N+1):\n",
    "    for j in range(i+1, N+1):\n",
    "        for k in range(j+1, N+1):\n",
    "            if j-1 in G[i-1] and k-1 in G[j-1] and k-1 in G[i-1]:\n",
    "                ans += 1\n",
    "print (ans)"
   ]
  },
  {
   "cell_type": "code",
   "execution_count": null,
   "id": "649b7cfa-6f78-4930-b4f5-a439ac147bf3",
   "metadata": {},
   "outputs": [],
   "source": []
  }
 ],
 "metadata": {
  "kernelspec": {
   "display_name": "Python 3 (ipykernel)",
   "language": "python",
   "name": "python3"
  },
  "language_info": {
   "codemirror_mode": {
    "name": "ipython",
    "version": 3
   },
   "file_extension": ".py",
   "mimetype": "text/x-python",
   "name": "python",
   "nbconvert_exporter": "python",
   "pygments_lexer": "ipython3",
   "version": "3.9.13"
  }
 },
 "nbformat": 4,
 "nbformat_minor": 5
}
