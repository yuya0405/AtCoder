{
 "cells": [
  {
   "cell_type": "code",
   "execution_count": 13,
   "id": "8773fba3-faa2-4f46-aed9-b669abb68ae7",
   "metadata": {},
   "outputs": [
    {
     "name": "stdin",
     "output_type": "stream",
     "text": [
      " 2000\n"
     ]
    }
   ],
   "source": [
    "Y = int(input())"
   ]
  },
  {
   "cell_type": "code",
   "execution_count": 12,
   "id": "ae029f3f-2f64-452e-b3d1-c1d472bed780",
   "metadata": {},
   "outputs": [
    {
     "name": "stdout",
     "output_type": "stream",
     "text": [
      "2002\n"
     ]
    }
   ],
   "source": [
    "for i in range(4):\n",
    "    if (Y+i) % 4 == 2:\n",
    "        print (Y+i)"
   ]
  },
  {
   "cell_type": "code",
   "execution_count": null,
   "id": "e178a8fa-5d36-4682-97eb-9876879c7e96",
   "metadata": {},
   "outputs": [],
   "source": []
  }
 ],
 "metadata": {
  "kernelspec": {
   "display_name": "Python 3 (ipykernel)",
   "language": "python",
   "name": "python3"
  },
  "language_info": {
   "codemirror_mode": {
    "name": "ipython",
    "version": 3
   },
   "file_extension": ".py",
   "mimetype": "text/x-python",
   "name": "python",
   "nbconvert_exporter": "python",
   "pygments_lexer": "ipython3",
   "version": "3.9.13"
  }
 },
 "nbformat": 4,
 "nbformat_minor": 5
}
