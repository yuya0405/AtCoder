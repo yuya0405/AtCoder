{
 "cells": [
  {
   "cell_type": "code",
   "execution_count": 3,
   "metadata": {},
   "outputs": [
    {
     "name": "stdin",
     "output_type": "stream",
     "text": [
      " 3\n",
      " 6 2 3\n"
     ]
    },
    {
     "name": "stdout",
     "output_type": "stream",
     "text": [
      "2\n"
     ]
    }
   ],
   "source": [
    "N = int(input())\n",
    "A = list(map(int, input().split()))\n",
    "\n",
    "# 約数を高速で列挙（計算量O(sqrt(N))）\n",
    "\n",
    "def make_divisors(n):\n",
    "    lower_divisors , upper_divisors = [], []\n",
    "    i = 1\n",
    "    while i*i <= n:\n",
    "        if n % i == 0:\n",
    "            lower_divisors.append(i)\n",
    "            if i != n // i:\n",
    "                upper_divisors.append(n//i)\n",
    "        i += 1\n",
    "    return lower_divisors + upper_divisors[::-1]\n",
    "\n",
    "import collections\n",
    "A_count = collections.Counter(A)\n",
    "\n",
    "ans = 0\n",
    "for index_i, A_i in enumerate(A):\n",
    "    yakusuu = make_divisors(A_i)\n",
    "    for y in yakusuu:\n",
    "        A_j = y\n",
    "        A_k = A_i // A_j\n",
    "        # print (\"***\" ,A_i, A_j, A_k)\n",
    "        # print (A_count[A_j] * A_count[A_k])\n",
    "        ans += A_count[A_j] * A_count[A_k]\n",
    "print (ans)"
   ]
  }
 ],
 "metadata": {
  "kernelspec": {
   "display_name": "Python 3",
   "language": "python",
   "name": "python3"
  },
  "language_info": {
   "codemirror_mode": {
    "name": "ipython",
    "version": 3
   },
   "file_extension": ".py",
   "mimetype": "text/x-python",
   "name": "python",
   "nbconvert_exporter": "python",
   "pygments_lexer": "ipython3",
   "version": "3.8.5"
  }
 },
 "nbformat": 4,
 "nbformat_minor": 4
}
