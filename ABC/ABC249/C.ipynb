{
 "cells": [
  {
   "cell_type": "code",
   "execution_count": 61,
   "metadata": {},
   "outputs": [],
   "source": [
    "N, K = map(int, input().split())\n",
    "S = [input() for _ in range(N)]\n",
    "\n",
    "import collections\n",
    "\n",
    "C = []\n",
    "for i in range(N):\n",
    "    C.append(collections.Counter(S[i]))\n",
    "\n",
    "from itertools import product\n",
    "\n",
    "ans = 0\n",
    "for bit in product([0,1], repeat=N):\n",
    "    if sum(bit) < K:\n",
    "        continue\n",
    "    # print (bit)\n",
    "    T = collections.Counter()\n",
    "    for i, b in enumerate(bit):\n",
    "        if b == 1:\n",
    "            T += C[i]\n",
    "    ans = max(ans, list(T.values()).count(K))\n",
    "print (ans)"
   ]
  },
  {
   "cell_type": "code",
   "execution_count": null,
   "metadata": {},
   "outputs": [],
   "source": []
  }
 ],
 "metadata": {
  "kernelspec": {
   "display_name": "Python 3",
   "language": "python",
   "name": "python3"
  },
  "language_info": {
   "codemirror_mode": {
    "name": "ipython",
    "version": 3
   },
   "file_extension": ".py",
   "mimetype": "text/x-python",
   "name": "python",
   "nbconvert_exporter": "python",
   "pygments_lexer": "ipython3",
   "version": "3.8.5"
  }
 },
 "nbformat": 4,
 "nbformat_minor": 4
}
