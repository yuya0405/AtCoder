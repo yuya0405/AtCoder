{
 "cells": [
  {
   "cell_type": "code",
   "execution_count": 35,
   "metadata": {},
   "outputs": [
    {
     "name": "stdin",
     "output_type": "stream",
     "text": [
      " 4 3 3 6 2 5 10\n"
     ]
    },
    {
     "name": "stdout",
     "output_type": "stream",
     "text": [
      "Takahashi\n"
     ]
    }
   ],
   "source": [
    "A, B, C, D, E, F, X = map(int, input().split())\n",
    "\n",
    "T_run = 0\n",
    "T_num = X//(A+C)\n",
    "T_run += T_num * A * B\n",
    "T_mod = X%(A+C)\n",
    "if T_mod >= A:\n",
    "    T_mod = A\n",
    "T_run += T_mod * B\n",
    "\n",
    "A_run = 0\n",
    "A_num = X//(D+F)\n",
    "A_run += A_num * D * E\n",
    "A_mod = X%(D+F)\n",
    "if A_mod >= D:\n",
    "    A_mod = D\n",
    "A_run += A_mod * E\n",
    "\n",
    "if T_run > A_run:\n",
    "    print (\"Takahashi\")\n",
    "elif T_run < A_run:\n",
    "    print (\"Aoki\")\n",
    "else:\n",
    "    print (\"Draw\")"
   ]
  },
  {
   "cell_type": "code",
   "execution_count": null,
   "metadata": {},
   "outputs": [],
   "source": []
  }
 ],
 "metadata": {
  "kernelspec": {
   "display_name": "Python 3",
   "language": "python",
   "name": "python3"
  },
  "language_info": {
   "codemirror_mode": {
    "name": "ipython",
    "version": 3
   },
   "file_extension": ".py",
   "mimetype": "text/x-python",
   "name": "python",
   "nbconvert_exporter": "python",
   "pygments_lexer": "ipython3",
   "version": "3.8.5"
  }
 },
 "nbformat": 4,
 "nbformat_minor": 4
}
