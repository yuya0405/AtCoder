{
 "cells": [
  {
   "cell_type": "code",
   "execution_count": 12,
   "id": "96b45835-cc8d-482b-8b8d-bf91b9db1bb1",
   "metadata": {},
   "outputs": [
    {
     "name": "stdin",
     "output_type": "stream",
     "text": [
      " 30 500 20 103\n"
     ]
    }
   ],
   "source": [
    "A, B, C, X = map(int, input().split())"
   ]
  },
  {
   "cell_type": "code",
   "execution_count": 13,
   "id": "6f91f421-5f71-4f89-a482-8e262dc71f0f",
   "metadata": {},
   "outputs": [
    {
     "name": "stdout",
     "output_type": "stream",
     "text": [
      "0.0425531914893617\n"
     ]
    }
   ],
   "source": [
    "if X <= A:\n",
    "    print (1)\n",
    "elif X <= B:\n",
    "    print (C/(B-A))\n",
    "else:\n",
    "    print (0)"
   ]
  },
  {
   "cell_type": "code",
   "execution_count": null,
   "id": "8ac9d3f9-f351-451b-b830-8da8a062f8a7",
   "metadata": {},
   "outputs": [],
   "source": []
  }
 ],
 "metadata": {
  "kernelspec": {
   "display_name": "Python 3",
   "language": "python",
   "name": "python3"
  },
  "language_info": {
   "codemirror_mode": {
    "name": "ipython",
    "version": 3
   },
   "file_extension": ".py",
   "mimetype": "text/x-python",
   "name": "python",
   "nbconvert_exporter": "python",
   "pygments_lexer": "ipython3",
   "version": "3.8.8"
  }
 },
 "nbformat": 4,
 "nbformat_minor": 5
}
