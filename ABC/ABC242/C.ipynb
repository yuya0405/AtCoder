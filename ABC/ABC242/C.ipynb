{
 "cells": [
  {
   "cell_type": "code",
   "execution_count": 64,
   "id": "7f9470e6-7d94-464e-9efe-e14a0ec94628",
   "metadata": {},
   "outputs": [
    {
     "name": "stdin",
     "output_type": "stream",
     "text": [
      " 3\n"
     ]
    }
   ],
   "source": [
    "N = int(input())"
   ]
  },
  {
   "cell_type": "code",
   "execution_count": 65,
   "id": "1144ab39-f30e-4dc0-8cf8-27b6e185852c",
   "metadata": {},
   "outputs": [
    {
     "data": {
      "text/plain": [
       "[[1, 0, 0],\n",
       " [1, 0, 0],\n",
       " [1, 0, 0],\n",
       " [1, 0, 0],\n",
       " [1, 0, 0],\n",
       " [1, 0, 0],\n",
       " [1, 0, 0],\n",
       " [1, 0, 0],\n",
       " [1, 0, 0]]"
      ]
     },
     "execution_count": 65,
     "metadata": {},
     "output_type": "execute_result"
    }
   ],
   "source": [
    "dp = [[0]*N for _ in range(9)]\n",
    "for i in range(9):\n",
    "    dp[i][0] = 1\n",
    "dp"
   ]
  },
  {
   "cell_type": "code",
   "execution_count": 66,
   "id": "ef383bdb-0251-4289-9080-afd05c5950a2",
   "metadata": {},
   "outputs": [
    {
     "data": {
      "text/plain": [
       "[[1, 2, 5],\n",
       " [1, 3, 8],\n",
       " [1, 3, 9],\n",
       " [1, 3, 9],\n",
       " [1, 3, 9],\n",
       " [1, 3, 9],\n",
       " [1, 3, 9],\n",
       " [1, 3, 8],\n",
       " [1, 2, 5]]"
      ]
     },
     "execution_count": 66,
     "metadata": {},
     "output_type": "execute_result"
    }
   ],
   "source": [
    "for j in range(N-1):\n",
    "    for i in range(9):\n",
    "        if i == 0:\n",
    "            dp[0][j+1] = dp[0][j] + dp[1][j]\n",
    "            dp[0][j+1] %= 998244353\n",
    "        elif i == 8:\n",
    "            dp[8][j+1] = dp[7][j] + dp[8][j]\n",
    "            dp[8][j+1] %= 998244353\n",
    "        else:\n",
    "            dp[i][j+1] = dp[i-1][j] + dp[i][j] + dp[i+1][j]\n",
    "            dp[i][j+1] %= 998244353\n",
    "dp"
   ]
  },
  {
   "cell_type": "code",
   "execution_count": 67,
   "id": "36eba347-fcb3-4145-9462-46104a447d33",
   "metadata": {},
   "outputs": [
    {
     "name": "stdout",
     "output_type": "stream",
     "text": [
      "71\n"
     ]
    }
   ],
   "source": [
    "ans = 0\n",
    "for i in range(9):\n",
    "    ans += dp[i][N-1]\n",
    "    ans %= 998244353\n",
    "print (ans)"
   ]
  },
  {
   "cell_type": "code",
   "execution_count": null,
   "id": "493eb975-5ef0-48b8-93ee-9352ae3764c4",
   "metadata": {},
   "outputs": [],
   "source": []
  }
 ],
 "metadata": {
  "kernelspec": {
   "display_name": "Python 3",
   "language": "python",
   "name": "python3"
  },
  "language_info": {
   "codemirror_mode": {
    "name": "ipython",
    "version": 3
   },
   "file_extension": ".py",
   "mimetype": "text/x-python",
   "name": "python",
   "nbconvert_exporter": "python",
   "pygments_lexer": "ipython3",
   "version": "3.8.8"
  }
 },
 "nbformat": 4,
 "nbformat_minor": 5
}
