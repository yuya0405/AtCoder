{
 "cells": [
  {
   "cell_type": "code",
   "execution_count": 29,
   "id": "b2a461ec-5182-425e-8427-580474530250",
   "metadata": {},
   "outputs": [
    {
     "name": "stdin",
     "output_type": "stream",
     "text": [
      " 3 5\n"
     ]
    }
   ],
   "source": [
    "N, M = map(int, input().split())"
   ]
  },
  {
   "cell_type": "code",
   "execution_count": 46,
   "id": "52e83fb5-a2ec-4cab-9914-53c15ef41013",
   "metadata": {},
   "outputs": [
    {
     "name": "stdout",
     "output_type": "stream",
     "text": [
      "1 2 3\n",
      "1 2 4\n",
      "1 2 5\n",
      "1 3 4\n",
      "1 3 5\n",
      "1 4 5\n",
      "2 3 4\n",
      "2 3 5\n",
      "2 4 5\n",
      "3 4 5\n"
     ]
    }
   ],
   "source": [
    "ans = []\n",
    "from itertools import product\n",
    "for bit in product([0,1], repeat=M):\n",
    "    tmp = list(reversed(list(bit)))\n",
    "    if sum(tmp) == N:\n",
    "        ans.append([i+1 for i, t in enumerate(tmp) if t == 1])\n",
    "        \n",
    "for a in sorted(ans):\n",
    "    print (*a)"
   ]
  },
  {
   "cell_type": "code",
   "execution_count": null,
   "id": "4b2e9207-aba5-4033-b051-20cb5b671395",
   "metadata": {},
   "outputs": [],
   "source": []
  }
 ],
 "metadata": {
  "kernelspec": {
   "display_name": "Python 3 (ipykernel)",
   "language": "python",
   "name": "python3"
  },
  "language_info": {
   "codemirror_mode": {
    "name": "ipython",
    "version": 3
   },
   "file_extension": ".py",
   "mimetype": "text/x-python",
   "name": "python",
   "nbconvert_exporter": "python",
   "pygments_lexer": "ipython3",
   "version": "3.9.13"
  }
 },
 "nbformat": 4,
 "nbformat_minor": 5
}
