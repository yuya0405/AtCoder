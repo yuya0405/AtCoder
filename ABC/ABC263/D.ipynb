{
 "cells": [
  {
   "cell_type": "code",
   "execution_count": 115,
   "id": "17158dc0-12bb-4fde-8c17-100a22fc6e1b",
   "metadata": {},
   "outputs": [
    {
     "name": "stdin",
     "output_type": "stream",
     "text": [
      " 5 4 3\n",
      " 5 5 0 6 3\n"
     ]
    }
   ],
   "source": [
    "N, L, R = map(int, input().split())\n",
    "A = list(map(int, input().split()))"
   ]
  },
  {
   "cell_type": "code",
   "execution_count": 165,
   "id": "c6048bf0-d460-4152-938d-fe00faee181d",
   "metadata": {},
   "outputs": [
    {
     "name": "stdout",
     "output_type": "stream",
     "text": [
      "14\n"
     ]
    }
   ],
   "source": [
    "L_diff = []\n",
    "for a in A:\n",
    "    L_diff.append(L - a)\n",
    "L_diff\n",
    "\n",
    "L_diff_acc = [0] + list(accumulate(L_diff))\n",
    "L_diff_acc\n",
    "\n",
    "ans = sum(A)\n",
    "ans += min(L_diff_acc)\n",
    "ans\n",
    "\n",
    "A_copy = A.copy()\n",
    "\n",
    "index = L_diff_acc.index(min(L_diff_acc))\n",
    "for i in range(index):\n",
    "    A_copy[i] = L\n",
    "A_copy\n",
    "\n",
    "R_diff = []\n",
    "for a in list(reversed(A_copy)):\n",
    "    R_diff.append(R - a)\n",
    "R_diff\n",
    "\n",
    "R_diff_acc = [0] + list(accumulate(R_diff))\n",
    "R_diff_acc\n",
    "\n",
    "ans += min(R_diff_acc)\n",
    "print (ans)"
   ]
  },
  {
   "cell_type": "code",
   "execution_count": null,
   "id": "a8831116-ce7f-4472-bbce-462a50dcf828",
   "metadata": {},
   "outputs": [],
   "source": []
  }
 ],
 "metadata": {
  "kernelspec": {
   "display_name": "Python 3 (ipykernel)",
   "language": "python",
   "name": "python3"
  },
  "language_info": {
   "codemirror_mode": {
    "name": "ipython",
    "version": 3
   },
   "file_extension": ".py",
   "mimetype": "text/x-python",
   "name": "python",
   "nbconvert_exporter": "python",
   "pygments_lexer": "ipython3",
   "version": "3.9.13"
  }
 },
 "nbformat": 4,
 "nbformat_minor": 5
}
