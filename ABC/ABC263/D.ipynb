{
 "cells": [
  {
   "cell_type": "code",
   "execution_count": 2,
   "id": "17158dc0-12bb-4fde-8c17-100a22fc6e1b",
   "metadata": {},
   "outputs": [
    {
     "name": "stdin",
     "output_type": "stream",
     "text": [
      " 5 4 3\n",
      " 5 5 0 6 3\n"
     ]
    }
   ],
   "source": [
    "N, L, R = map(int, input().split())\n",
    "A = list(map(int, input().split()))"
   ]
  },
  {
   "cell_type": "code",
   "execution_count": 3,
   "id": "db9ce2ea-a003-4408-8e29-f80fcd3fd87f",
   "metadata": {},
   "outputs": [],
   "source": [
    "#####segfunc#####\n",
    "def segfunc(x, y):\n",
    "    return min(x, y)\n",
    "#################\n",
    "\n",
    "#####ide_ele#####\n",
    "ide_ele = float('inf')\n",
    "#################\n",
    "\n",
    "class SegTree:\n",
    "    \"\"\"\n",
    "    init(init_val, ide_ele): 配列init_valで初期化 O(N)\n",
    "    update(k, x): k番目の値をxに更新 O(N)\n",
    "    query(l, r): 区間[l, r)をsegfuncしたものを返す O(logN)\n",
    "    \"\"\"\n",
    "    def __init__(self, init_val, segfunc, ide_ele):\n",
    "        \"\"\"\n",
    "        init_val: 配列の初期値\n",
    "        segfunc: 区間にしたい操作\n",
    "        ide_ele: 単位元\n",
    "        n: 要素数\n",
    "        num: n以上の最小の2のべき乗\n",
    "        tree: セグメント木(1-index)\n",
    "        \"\"\"\n",
    "        n = len(init_val)\n",
    "        self.segfunc = segfunc\n",
    "        self.ide_ele = ide_ele\n",
    "        self.num = 1 << (n - 1).bit_length()\n",
    "        self.tree = [ide_ele] * 2 * self.num\n",
    "        # 配列の値を葉にセット\n",
    "        for i in range(n):\n",
    "            self.tree[self.num + i] = init_val[i]\n",
    "        # 構築していく\n",
    "        for i in range(self.num - 1, 0, -1):\n",
    "            self.tree[i] = self.segfunc(self.tree[2 * i], self.tree[2 * i + 1])\n",
    "\n",
    "    def update(self, k, x):\n",
    "        \"\"\"\n",
    "        k番目の値をxに更新\n",
    "        k: index(0-index)\n",
    "        x: update value\n",
    "        \"\"\"\n",
    "        k += self.num\n",
    "        self.tree[k] = x\n",
    "        while k > 1:\n",
    "            self.tree[k >> 1] = self.segfunc(self.tree[k], self.tree[k ^ 1])\n",
    "            k >>= 1\n",
    "\n",
    "    def query(self, l, r):\n",
    "        \"\"\"\n",
    "        [l, r)のsegfuncしたものを得る\n",
    "        l: index(0-index)\n",
    "        r: index(0-index)\n",
    "        \"\"\"\n",
    "        res = self.ide_ele\n",
    "\n",
    "        l += self.num\n",
    "        r += self.num\n",
    "        while l < r:\n",
    "            if l & 1:\n",
    "                res = self.segfunc(res, self.tree[l])\n",
    "                l += 1\n",
    "            if r & 1:\n",
    "                res = self.segfunc(res, self.tree[r - 1])\n",
    "            l >>= 1\n",
    "            r >>= 1\n",
    "        return res"
   ]
  },
  {
   "cell_type": "code",
   "execution_count": 1,
   "id": "8cd78012-8f65-4eac-95b3-ce7e75129faf",
   "metadata": {},
   "outputs": [
    {
     "name": "stdout",
     "output_type": "stream",
     "text": [
      "1\n",
      "0\n"
     ]
    }
   ],
   "source": [
    "seg = SegTree(A, segfunc, ide_ele)\n",
    "\n",
    "print(seg.query(0, 8))\n",
    "seg.update(5, 0)\n",
    "print(seg.query(0, 8))"
   ]
  },
  {
   "cell_type": "code",
   "execution_count": null,
   "id": "ebd9fb03-99f3-498a-914e-3778a25ec851",
   "metadata": {},
   "outputs": [],
   "source": []
  }
 ],
 "metadata": {
  "kernelspec": {
   "display_name": "Python 3 (ipykernel)",
   "language": "python",
   "name": "python3"
  },
  "language_info": {
   "codemirror_mode": {
    "name": "ipython",
    "version": 3
   },
   "file_extension": ".py",
   "mimetype": "text/x-python",
   "name": "python",
   "nbconvert_exporter": "python",
   "pygments_lexer": "ipython3",
   "version": "3.9.13"
  }
 },
 "nbformat": 4,
 "nbformat_minor": 5
}
