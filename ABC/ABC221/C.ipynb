{
 "cells": [
  {
   "cell_type": "code",
   "execution_count": 37,
   "id": "18270ff0-4a38-4a3b-a4dd-c507081c9537",
   "metadata": {},
   "outputs": [
    {
     "name": "stdin",
     "output_type": "stream",
     "text": [
      " 998244353\n"
     ]
    },
    {
     "name": "stdout",
     "output_type": "stream",
     "text": [
      "939337176\n"
     ]
    }
   ],
   "source": [
    "N = input()\n",
    "\n",
    "from itertools import product\n",
    "\n",
    "ans = 0\n",
    "\n",
    "for bit in product([0,1], repeat=len(N)):\n",
    "    left = \"\"\n",
    "    right = \"\"\n",
    "    for i, b in enumerate(bit):\n",
    "        if b == 0:\n",
    "            left += N[i]\n",
    "        else:\n",
    "            right += N[i]\n",
    "\n",
    "    if left == \"\":\n",
    "        left = \"0\"\n",
    "    if right == \"\":\n",
    "        right = \"0\"\n",
    "    \n",
    "    left = \"\".join(list(reversed(sorted(left))))\n",
    "    right = \"\".join(list(reversed(sorted(right))))\n",
    "    \n",
    "    ans = max(ans, int(left) * int(right))\n",
    "print (ans)"
   ]
  },
  {
   "cell_type": "code",
   "execution_count": null,
   "id": "15f3f5c8-4255-49cc-bd98-c79697d28bcf",
   "metadata": {},
   "outputs": [],
   "source": []
  }
 ],
 "metadata": {
  "kernelspec": {
   "display_name": "Python 3",
   "language": "python",
   "name": "python3"
  },
  "language_info": {
   "codemirror_mode": {
    "name": "ipython",
    "version": 3
   },
   "file_extension": ".py",
   "mimetype": "text/x-python",
   "name": "python",
   "nbconvert_exporter": "python",
   "pygments_lexer": "ipython3",
   "version": "3.8.8"
  }
 },
 "nbformat": 4,
 "nbformat_minor": 5
}
