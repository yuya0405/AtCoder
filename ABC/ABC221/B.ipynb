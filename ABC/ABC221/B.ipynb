{
 "cells": [
  {
   "cell_type": "code",
   "execution_count": 19,
   "id": "2645eca3-a61d-412d-9d76-a3b34842a807",
   "metadata": {},
   "outputs": [],
   "source": [
    "S = input()\n",
    "T = input()\n",
    "\n",
    "if S == T:\n",
    "    print (\"Yes\")\n",
    "    exit()\n",
    "\n",
    "for i, s in enumerate(S):\n",
    "    S_copy = list(S)\n",
    "    if i < len(S)-1:\n",
    "        tmp = S_copy[i]\n",
    "        S_copy[i] = S_copy[i+1]\n",
    "        S_copy[i+1] = tmp\n",
    "        if S_copy == list(T):\n",
    "            print (\"Yes\")\n",
    "            exit()\n",
    "print (\"No\")"
   ]
  }
 ],
 "metadata": {
  "kernelspec": {
   "display_name": "Python 3",
   "language": "python",
   "name": "python3"
  },
  "language_info": {
   "codemirror_mode": {
    "name": "ipython",
    "version": 3
   },
   "file_extension": ".py",
   "mimetype": "text/x-python",
   "name": "python",
   "nbconvert_exporter": "python",
   "pygments_lexer": "ipython3",
   "version": "3.8.8"
  }
 },
 "nbformat": 4,
 "nbformat_minor": 5
}
