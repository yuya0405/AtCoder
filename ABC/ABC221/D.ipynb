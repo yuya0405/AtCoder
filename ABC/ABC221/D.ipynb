{
 "cells": [
  {
   "cell_type": "code",
   "execution_count": 92,
   "id": "7210d88f-7530-4a12-a89c-57b59a031cd8",
   "metadata": {},
   "outputs": [
    {
     "name": "stdin",
     "output_type": "stream",
     "text": [
      " 3\n",
      " 1 2\n",
      " 2 3\n",
      " 3 1\n"
     ]
    },
    {
     "name": "stdout",
     "output_type": "stream",
     "text": [
      "2 2 0\n"
     ]
    }
   ],
   "source": [
    "N = int(input())\n",
    "AB = [list(map(int, input().split())) for _ in range(N)]\n",
    "\n",
    "import itertools\n",
    "\n",
    "flat = list(itertools.chain.from_iterable(AB))\n",
    "\n",
    "from scipy.stats import rankdata\n",
    "\n",
    "compress = list(rankdata(AB, method='dense'))\n",
    "\n",
    "dictionary = {key: val for key, val in zip(compress, flat)}\n",
    "\n",
    "dictionary[0] = 0\n",
    "\n",
    "import numpy as np\n",
    "AB_new = np.array(compress).reshape(-1, 2)\n",
    "\n",
    "days = [0]*(2*10**5+1)\n",
    "\n",
    "for ab in AB_new:\n",
    "    start = ab[0]\n",
    "    end = ab[0] + ab[1]\n",
    "    \n",
    "    days[start] += 1\n",
    "    days[end] -= 1\n",
    "\n",
    "# ans = []\n",
    "# for k in range(1, N+1):\n",
    "#     ans.append(str(list(itertools.accumulate(days)).count(k)))\n",
    "# print (\" \".join(ans))\n",
    "\n",
    "ans = []\n",
    "for k in range(1, N+1):\n",
    "    ans.append(str(dictionary[int(list(itertools.accumulate(days)).count(k))]))\n",
    "print (\" \".join(ans))"
   ]
  },
  {
   "cell_type": "code",
   "execution_count": null,
   "id": "10d45f35-da9a-4b56-9211-1994506d0348",
   "metadata": {},
   "outputs": [],
   "source": []
  }
 ],
 "metadata": {
  "kernelspec": {
   "display_name": "Python 3",
   "language": "python",
   "name": "python3"
  },
  "language_info": {
   "codemirror_mode": {
    "name": "ipython",
    "version": 3
   },
   "file_extension": ".py",
   "mimetype": "text/x-python",
   "name": "python",
   "nbconvert_exporter": "python",
   "pygments_lexer": "ipython3",
   "version": "3.8.8"
  }
 },
 "nbformat": 4,
 "nbformat_minor": 5
}
