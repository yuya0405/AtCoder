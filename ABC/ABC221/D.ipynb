{
 "cells": [
  {
   "cell_type": "code",
   "execution_count": 1,
   "id": "33bda2a9-b94b-449b-91b9-038dcab7eeaa",
   "metadata": {},
   "outputs": [
    {
     "name": "stdin",
     "output_type": "stream",
     "text": [
      " 3\n",
      " 1 2\n",
      " 2 3\n",
      " 3 1\n"
     ]
    }
   ],
   "source": [
    "N = int(input())\n",
    "AB = [list(map(int, input().split())) for _ in range(N)]"
   ]
  },
  {
   "cell_type": "code",
   "execution_count": 5,
   "id": "ad14ce72-c948-4f34-b564-c1988635f728",
   "metadata": {},
   "outputs": [
    {
     "data": {
      "text/plain": [
       "Counter({1: 1, 3: 0, 2: 1, 5: -1, 4: -1})"
      ]
     },
     "execution_count": 5,
     "metadata": {},
     "output_type": "execute_result"
    }
   ],
   "source": [
    "from collections import Counter\n",
    "\n",
    "C = Counter()\n",
    "for a, b in AB:\n",
    "    C[a] += 1\n",
    "    C[a+b] -= 1"
   ]
  },
  {
   "cell_type": "code",
   "execution_count": 17,
   "id": "592f31c9-6ca1-4860-a45b-327c71a61539",
   "metadata": {},
   "outputs": [
    {
     "data": {
      "text/plain": [
       "[1, 2, 2, 0]"
      ]
     },
     "execution_count": 17,
     "metadata": {},
     "output_type": "execute_result"
    }
   ],
   "source": [
    "ans = [0]*(N+1)\n",
    "days = sorted(C.keys())\n",
    "prev_day = 0\n",
    "cnt = 0\n",
    "for curr_day in days:\n",
    "    ans[cnt] += curr_day - prev_day\n",
    "    cnt += C[curr_day]\n",
    "    prev_day = curr_day\n",
    "ans"
   ]
  },
  {
   "cell_type": "code",
   "execution_count": 16,
   "id": "cad44b71-363b-4d7b-ae93-a8a60e209e0e",
   "metadata": {},
   "outputs": [
    {
     "name": "stdout",
     "output_type": "stream",
     "text": [
      "2 2 0\n"
     ]
    }
   ],
   "source": [
    "print (*ans[1:])"
   ]
  }
 ],
 "metadata": {
  "kernelspec": {
   "display_name": "Python 3",
   "language": "python",
   "name": "python3"
  },
  "language_info": {
   "codemirror_mode": {
    "name": "ipython",
    "version": 3
   },
   "file_extension": ".py",
   "mimetype": "text/x-python",
   "name": "python",
   "nbconvert_exporter": "python",
   "pygments_lexer": "ipython3",
   "version": "3.8.8"
  }
 },
 "nbformat": 4,
 "nbformat_minor": 5
}
