{
 "cells": [
  {
   "cell_type": "code",
   "execution_count": 40,
   "id": "a347bcd3-668c-49ad-9583-b0d179688576",
   "metadata": {},
   "outputs": [
    {
     "name": "stdin",
     "output_type": "stream",
     "text": [
      " 2\n",
      " 1000000000 1000000000\n",
      " 1000000000 1000000000\n"
     ]
    }
   ],
   "source": [
    "N = int(input())\n",
    "AB = [list(input().split()) for _ in range(N)]"
   ]
  },
  {
   "cell_type": "code",
   "execution_count": 41,
   "id": "57da9053-c4f4-412c-aea0-cbe0fd670657",
   "metadata": {},
   "outputs": [
    {
     "data": {
      "text/plain": [
       "[['1000000000', '1000000000'], ['1000000000', '1000000000']]"
      ]
     },
     "execution_count": 41,
     "metadata": {},
     "output_type": "execute_result"
    }
   ],
   "source": [
    "AB"
   ]
  },
  {
   "cell_type": "code",
   "execution_count": 42,
   "id": "b77b26c2-93e8-4935-9b09-01cc73626b98",
   "metadata": {},
   "outputs": [
    {
     "name": "stdout",
     "output_type": "stream",
     "text": [
      "0 2\n"
     ]
    }
   ],
   "source": [
    "event = []\n",
    "service = []\n",
    "\n",
    "for ab in AB:\n",
    "    event.append(int(ab[0]))\n",
    "    event.append(int(ab[0])+int(ab[1]))\n",
    "    service.append([int(ab[0]), int(ab[0])+int(ab[1])])\n",
    "event.sort()\n",
    "compress = {a: i for i, a in enumerate(event)}\n",
    "\n",
    "days = [0]*(2*10**5+1)\n",
    "\n",
    "for a, b in service:\n",
    "    days[compress[a]] += 1\n",
    "    days[compress[b]] -= 1\n",
    "    \n",
    "ans = []\n",
    "for k in range(1, N+1):\n",
    "    ans.append(str(list(itertools.accumulate(days)).count(k)))\n",
    "print (\" \".join(ans))"
   ]
  },
  {
   "cell_type": "code",
   "execution_count": 26,
   "id": "77ff2750-01a1-4d18-8b1e-bd9109b9d7e7",
   "metadata": {},
   "outputs": [
    {
     "name": "stdout",
     "output_type": "stream",
     "text": [
      "2 2 0\n"
     ]
    }
   ],
   "source": [
    "import itertools\n",
    "import operator\n",
    "\n",
    "days = [0]*(2*10**5+1)\n",
    "\n",
    "for ab in AB:\n",
    "    start = int(ab[0])\n",
    "    end = int(ab[0]) + int(ab[1])\n",
    "    \n",
    "    days[start] += 1\n",
    "    days[end] -= 1\n",
    "\n",
    "ans = []\n",
    "for k in range(1, N+1):\n",
    "    ans.append(str(list(itertools.accumulate(days)).count(k)))\n",
    "print (\" \".join(ans))"
   ]
  },
  {
   "cell_type": "code",
   "execution_count": null,
   "id": "5994af86-dcd2-453c-a67f-fea302114929",
   "metadata": {},
   "outputs": [],
   "source": []
  }
 ],
 "metadata": {
  "kernelspec": {
   "display_name": "Python 3",
   "language": "python",
   "name": "python3"
  },
  "language_info": {
   "codemirror_mode": {
    "name": "ipython",
    "version": 3
   },
   "file_extension": ".py",
   "mimetype": "text/x-python",
   "name": "python",
   "nbconvert_exporter": "python",
   "pygments_lexer": "ipython3",
   "version": "3.8.8"
  }
 },
 "nbformat": 4,
 "nbformat_minor": 5
}
