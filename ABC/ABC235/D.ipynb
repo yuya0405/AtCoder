{
 "cells": [
  {
   "cell_type": "code",
   "execution_count": 1,
   "id": "3130d428-715d-4232-968b-f16136ba1921",
   "metadata": {},
   "outputs": [
    {
     "name": "stdin",
     "output_type": "stream",
     "text": [
      " 3 72\n"
     ]
    }
   ],
   "source": [
    "a, N = map(int, input().split())"
   ]
  },
  {
   "cell_type": "code",
   "execution_count": null,
   "id": "c56a5607-3937-40ea-b840-6e86986fe53e",
   "metadata": {},
   "outputs": [],
   "source": []
  }
 ],
 "metadata": {
  "kernelspec": {
   "display_name": "Python 3",
   "language": "python",
   "name": "python3"
  },
  "language_info": {
   "codemirror_mode": {
    "name": "ipython",
    "version": 3
   },
   "file_extension": ".py",
   "mimetype": "text/x-python",
   "name": "python",
   "nbconvert_exporter": "python",
   "pygments_lexer": "ipython3",
   "version": "3.8.8"
  }
 },
 "nbformat": 4,
 "nbformat_minor": 5
}
