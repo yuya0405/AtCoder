{
 "cells": [
  {
   "cell_type": "code",
   "execution_count": 1,
   "id": "3130d428-715d-4232-968b-f16136ba1921",
   "metadata": {},
   "outputs": [
    {
     "name": "stdin",
     "output_type": "stream",
     "text": [
      " 3 72\n"
     ]
    }
   ],
   "source": [
    "a, N = map(int, input().split())"
   ]
  },
  {
   "cell_type": "code",
   "execution_count": 15,
   "id": "7dddccd9-09a2-4041-ad41-be9b7fccf68f",
   "metadata": {},
   "outputs": [],
   "source": [
    "MAX_N = 10**6+1"
   ]
  },
  {
   "cell_type": "code",
   "execution_count": 23,
   "id": "c56a5607-3937-40ea-b840-6e86986fe53e",
   "metadata": {},
   "outputs": [
    {
     "name": "stdout",
     "output_type": "stream",
     "text": [
      "4\n"
     ]
    }
   ],
   "source": [
    "#アルゴ式\n",
    "\n",
    "from queue import Queue\n",
    "\n",
    "dist = [float('inf')] * MAX_N\n",
    "\n",
    "# todo リストを表すキュー\n",
    "que = Queue()\n",
    "\n",
    "dist[1] = 0\n",
    "que.put(1)\n",
    "\n",
    "# キューが空になるまで探索する\n",
    "while not que.empty():\n",
    "    # キューから頂点を取り出す\n",
    "    v = que.get()\n",
    "    new_cost = dist[v] + 1\n",
    "    \n",
    "    # 操作1\n",
    "    tmp1 = v * a\n",
    "    if tmp1 < MAX_N:\n",
    "        if new_cost < dist[tmp1]:\n",
    "            dist[tmp1] = new_cost\n",
    "            que.put(tmp1)\n",
    "    \n",
    "    #操作2\n",
    "    if v >= 10 and v%10 != 0:\n",
    "        tmp2 = int(str(v%10) + str(v//10))\n",
    "        if new_cost < dist[tmp2]:\n",
    "            dist[tmp2] = new_cost\n",
    "            que.put(tmp2)\n",
    "\n",
    "if dist[N] != float('INF'):\n",
    "    print (dist[N])\n",
    "else:\n",
    "    print (-1)"
   ]
  },
  {
   "cell_type": "code",
   "execution_count": null,
   "id": "4726ee1b-92eb-481f-be86-568ecb0a6c35",
   "metadata": {},
   "outputs": [],
   "source": []
  }
 ],
 "metadata": {
  "kernelspec": {
   "display_name": "Python 3",
   "language": "python",
   "name": "python3"
  },
  "language_info": {
   "codemirror_mode": {
    "name": "ipython",
    "version": 3
   },
   "file_extension": ".py",
   "mimetype": "text/x-python",
   "name": "python",
   "nbconvert_exporter": "python",
   "pygments_lexer": "ipython3",
   "version": "3.8.8"
  }
 },
 "nbformat": 4,
 "nbformat_minor": 5
}
