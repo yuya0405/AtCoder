{
 "cells": [
  {
   "cell_type": "code",
   "execution_count": 45,
   "id": "e493b2a4-7c07-49c8-aaa8-9ea6b43bbdf1",
   "metadata": {},
   "outputs": [
    {
     "name": "stdin",
     "output_type": "stream",
     "text": [
      " 6 8\n",
      " 1 1 2 3 1 2\n",
      " 1 1\n",
      " 1 2\n",
      " 1 3\n",
      " 1 4\n",
      " 2 1\n",
      " 2 2\n",
      " 2 3\n",
      " 4 1\n"
     ]
    }
   ],
   "source": [
    "N, Q = map(int, input().split())\n",
    "A = list(map(int, input().split()))\n",
    "XK = [list(map(int, input().split())) for _ in range(Q)]"
   ]
  },
  {
   "cell_type": "code",
   "execution_count": 123,
   "id": "219b9ca7-2636-47e3-8949-22fbf317a17b",
   "metadata": {},
   "outputs": [
    {
     "name": "stdout",
     "output_type": "stream",
     "text": [
      "1\n",
      "2\n",
      "5\n",
      "-1\n",
      "3\n",
      "6\n",
      "-1\n",
      "-1\n"
     ]
    }
   ],
   "source": [
    "# 解説AC\n",
    "\n",
    "from collections import defaultdict\n",
    "dict = defaultdict(list)\n",
    "\n",
    "for i in range(N):\n",
    "    dict[A[i]].append(i+1)\n",
    "\n",
    "for x, k in XK:\n",
    "    tmp = dict[x]\n",
    "    if tmp == []:\n",
    "        print (-1)\n",
    "    elif k > len(tmp):\n",
    "        print (-1)\n",
    "    else:\n",
    "        print (tmp[k-1])"
   ]
  },
  {
   "cell_type": "code",
   "execution_count": 98,
   "id": "9df79853-f29e-49e3-8a3e-2d4710c71c59",
   "metadata": {},
   "outputs": [
    {
     "data": {
      "text/plain": [
       "{1: [1, 2, 5], 2: [3, 6], 4: []}"
      ]
     },
     "execution_count": 98,
     "metadata": {},
     "output_type": "execute_result"
    }
   ],
   "source": [
    "# TLE\n",
    "\n",
    "tmp_set = set([xk[0] for xk in XK])\n",
    "\n",
    "dict = {}\n",
    "for x in tmp_set:\n",
    "    dict[x] = [i+1 for i, a in enumerate(A) if a == x]\n",
    "dict"
   ]
  },
  {
   "cell_type": "code",
   "execution_count": null,
   "id": "d06e32f3-8cd8-4006-a9d9-103577df6439",
   "metadata": {},
   "outputs": [],
   "source": []
  }
 ],
 "metadata": {
  "kernelspec": {
   "display_name": "Python 3",
   "language": "python",
   "name": "python3"
  },
  "language_info": {
   "codemirror_mode": {
    "name": "ipython",
    "version": 3
   },
   "file_extension": ".py",
   "mimetype": "text/x-python",
   "name": "python",
   "nbconvert_exporter": "python",
   "pygments_lexer": "ipython3",
   "version": "3.8.8"
  }
 },
 "nbformat": 4,
 "nbformat_minor": 5
}
