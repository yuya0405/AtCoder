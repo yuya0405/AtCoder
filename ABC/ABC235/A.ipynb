{
 "cells": [
  {
   "cell_type": "code",
   "execution_count": 15,
   "id": "ce8ca4f1-4d41-49f5-9b4b-363f8d6397ac",
   "metadata": {},
   "outputs": [],
   "source": [
    "ABC = input()\n",
    "\n",
    "a = ABC[0]\n",
    "b = ABC[1]\n",
    "c = ABC[2]\n",
    "\n",
    "print (int(a+b+c)+int(b+c+a)+int(c+a+b))"
   ]
  },
  {
   "cell_type": "code",
   "execution_count": null,
   "id": "11d205c7-70a5-4f38-a191-5165f6ce0104",
   "metadata": {},
   "outputs": [],
   "source": []
  }
 ],
 "metadata": {
  "kernelspec": {
   "display_name": "Python 3",
   "language": "python",
   "name": "python3"
  },
  "language_info": {
   "codemirror_mode": {
    "name": "ipython",
    "version": 3
   },
   "file_extension": ".py",
   "mimetype": "text/x-python",
   "name": "python",
   "nbconvert_exporter": "python",
   "pygments_lexer": "ipython3",
   "version": "3.8.8"
  }
 },
 "nbformat": 4,
 "nbformat_minor": 5
}
