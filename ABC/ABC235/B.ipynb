{
 "cells": [
  {
   "cell_type": "code",
   "execution_count": 9,
   "id": "d487df63-e5e1-4638-9f1b-e928dfb2c00c",
   "metadata": {},
   "outputs": [],
   "source": [
    "N = int(input())\n",
    "H = list(map(int, input().split()))\n",
    "\n",
    "tmp = H[0]\n",
    "for i in range(1, N):\n",
    "    if tmp < H[i]:\n",
    "        tmp = H[i]\n",
    "    else:\n",
    "        break\n",
    "print (tmp)"
   ]
  },
  {
   "cell_type": "code",
   "execution_count": null,
   "id": "ffb2c296-44ae-49b0-b54c-cde368cf0257",
   "metadata": {},
   "outputs": [],
   "source": []
  }
 ],
 "metadata": {
  "kernelspec": {
   "display_name": "Python 3",
   "language": "python",
   "name": "python3"
  },
  "language_info": {
   "codemirror_mode": {
    "name": "ipython",
    "version": 3
   },
   "file_extension": ".py",
   "mimetype": "text/x-python",
   "name": "python",
   "nbconvert_exporter": "python",
   "pygments_lexer": "ipython3",
   "version": "3.8.8"
  }
 },
 "nbformat": 4,
 "nbformat_minor": 5
}
