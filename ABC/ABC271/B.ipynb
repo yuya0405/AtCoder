{
 "cells": [
  {
   "cell_type": "code",
   "execution_count": 12,
   "id": "7afad839-06be-4fd7-a121-d1fadc8cefd9",
   "metadata": {},
   "outputs": [
    {
     "name": "stdin",
     "output_type": "stream",
     "text": [
      " 3 4\n",
      " 4 128 741 239 901\n",
      " 2 1 1\n",
      " 3 314 159 26535\n",
      " 1 1\n",
      " 2 2\n",
      " 3 3\n"
     ]
    }
   ],
   "source": [
    "N, Q = map(int, input().split())\n",
    "LA = [list(map(int, input().split())) for _ in range(N)]\n",
    "ST = [list(map(int, input().split())) for _ in range(Q)]"
   ]
  },
  {
   "cell_type": "code",
   "execution_count": 3,
   "id": "ada752f8-779f-4631-ab3b-f47e175b802a",
   "metadata": {},
   "outputs": [
    {
     "data": {
      "text/plain": [
       "[[3, 1, 4, 7], [2, 5, 9]]"
      ]
     },
     "execution_count": 3,
     "metadata": {},
     "output_type": "execute_result"
    }
   ],
   "source": [
    "LA"
   ]
  },
  {
   "cell_type": "code",
   "execution_count": 9,
   "id": "40f6084f-0f2e-472c-8f83-3f084628b83a",
   "metadata": {},
   "outputs": [
    {
     "data": {
      "text/plain": [
       "[[1, 3], [2, 1]]"
      ]
     },
     "execution_count": 9,
     "metadata": {},
     "output_type": "execute_result"
    }
   ],
   "source": [
    "ST"
   ]
  },
  {
   "cell_type": "code",
   "execution_count": 8,
   "id": "9fd9482c-89a6-4486-9a50-c72f50cc347d",
   "metadata": {},
   "outputs": [
    {
     "name": "stdout",
     "output_type": "stream",
     "text": [
      "7\n",
      "5\n"
     ]
    }
   ],
   "source": [
    "for s, t in ST:\n",
    "    print (LA[s-1][t])"
   ]
  },
  {
   "cell_type": "code",
   "execution_count": null,
   "id": "4b999c75-23d1-4298-a78a-cc1deaf4d155",
   "metadata": {},
   "outputs": [],
   "source": []
  }
 ],
 "metadata": {
  "kernelspec": {
   "display_name": "Python 3 (ipykernel)",
   "language": "python",
   "name": "python3"
  },
  "language_info": {
   "codemirror_mode": {
    "name": "ipython",
    "version": 3
   },
   "file_extension": ".py",
   "mimetype": "text/x-python",
   "name": "python",
   "nbconvert_exporter": "python",
   "pygments_lexer": "ipython3",
   "version": "3.8.13"
  }
 },
 "nbformat": 4,
 "nbformat_minor": 5
}
