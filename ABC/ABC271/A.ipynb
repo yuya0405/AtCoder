{
 "cells": [
  {
   "cell_type": "code",
   "execution_count": 21,
   "id": "aef3f1a1-151d-43b7-9436-d4910b4dbe55",
   "metadata": {},
   "outputs": [
    {
     "name": "stdin",
     "output_type": "stream",
     "text": [
      " 0\n"
     ]
    }
   ],
   "source": [
    "N = int(input())"
   ]
  },
  {
   "cell_type": "code",
   "execution_count": 23,
   "id": "5c8f407c-b217-4b3c-b035-d1e1a84ed802",
   "metadata": {},
   "outputs": [
    {
     "name": "stdout",
     "output_type": "stream",
     "text": [
      "00\n"
     ]
    }
   ],
   "source": [
    "tmp = hex(N)[2:]\n",
    "\n",
    "if len(tmp) == 2:\n",
    "    print (tmp.upper())\n",
    "elif len(tmp) == 1:\n",
    "    print (\"0\" + tmp.upper())"
   ]
  },
  {
   "cell_type": "code",
   "execution_count": null,
   "id": "dbd4fe61-c2a2-45d0-872b-769e60d36804",
   "metadata": {},
   "outputs": [],
   "source": []
  }
 ],
 "metadata": {
  "kernelspec": {
   "display_name": "Python 3 (ipykernel)",
   "language": "python",
   "name": "python3"
  },
  "language_info": {
   "codemirror_mode": {
    "name": "ipython",
    "version": 3
   },
   "file_extension": ".py",
   "mimetype": "text/x-python",
   "name": "python",
   "nbconvert_exporter": "python",
   "pygments_lexer": "ipython3",
   "version": "3.8.13"
  }
 },
 "nbformat": 4,
 "nbformat_minor": 5
}
