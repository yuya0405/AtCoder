{
 "cells": [
  {
   "cell_type": "code",
   "execution_count": 144,
   "id": "04a2b397-f99c-484f-ba95-09ed575f4235",
   "metadata": {},
   "outputs": [
    {
     "name": "stdin",
     "output_type": "stream",
     "text": [
      " 6\n",
      " 4 5 6 7 8 9\n"
     ]
    }
   ],
   "source": [
    "N = int(input())\n",
    "A = list(map(int, input().split()))"
   ]
  },
  {
   "cell_type": "code",
   "execution_count": 182,
   "id": "b5e8ff84-e9b7-43c3-8ce7-27affe9bdcf1",
   "metadata": {},
   "outputs": [
    {
     "data": {
      "text/plain": [
       "[4, 5, 6, 7, 8, 9]"
      ]
     },
     "execution_count": 182,
     "metadata": {},
     "output_type": "execute_result"
    }
   ],
   "source": [
    "B = list(set(A))\n",
    "B"
   ]
  },
  {
   "cell_type": "code",
   "execution_count": 183,
   "id": "46595ba5-f754-4040-8442-c2aab180de94",
   "metadata": {},
   "outputs": [
    {
     "data": {
      "text/plain": [
       "[1, 1, 1, 1, 1, 1]"
      ]
     },
     "execution_count": 183,
     "metadata": {},
     "output_type": "execute_result"
    }
   ],
   "source": [
    "import collections\n",
    "\n",
    "c = collections.Counter(A)\n",
    "c_num = list(c.values())\n",
    "c_num"
   ]
  },
  {
   "cell_type": "code",
   "execution_count": 184,
   "id": "3113f82d-d41d-47e0-b56d-d5fead32e25a",
   "metadata": {},
   "outputs": [
    {
     "data": {
      "text/plain": [
       "0"
      ]
     },
     "execution_count": 184,
     "metadata": {},
     "output_type": "execute_result"
    }
   ],
   "source": [
    "tmp = 0\n",
    "for _ in c_num:\n",
    "    tmp += _ - 1\n",
    "tmp"
   ]
  },
  {
   "cell_type": "code",
   "execution_count": 187,
   "id": "156a930f-115a-49ee-aaae-d57c13e87150",
   "metadata": {},
   "outputs": [
    {
     "data": {
      "text/plain": [
       "[4, 5, 6, 7, 8, 9]"
      ]
     },
     "execution_count": 187,
     "metadata": {},
     "output_type": "execute_result"
    }
   ],
   "source": [
    "C = B + [float('inf')]*tmp\n",
    "C"
   ]
  },
  {
   "cell_type": "code",
   "execution_count": 188,
   "id": "87040cbb-14cb-4994-ba63-5ab6af27604a",
   "metadata": {},
   "outputs": [
    {
     "data": {
      "text/plain": [
       "[4, 5, 6, 7, 8, 9]"
      ]
     },
     "execution_count": 188,
     "metadata": {},
     "output_type": "execute_result"
    }
   ],
   "source": [
    "C.sort()\n",
    "C"
   ]
  },
  {
   "cell_type": "code",
   "execution_count": 189,
   "id": "5b33f51d-5037-4856-9eee-fa131b35b88d",
   "metadata": {},
   "outputs": [
    {
     "data": {
      "text/plain": [
       "deque([4, 5, 6, 7, 8, 9])"
      ]
     },
     "execution_count": 189,
     "metadata": {},
     "output_type": "execute_result"
    }
   ],
   "source": [
    "from collections import deque\n",
    "\n",
    "d = deque(C)\n",
    "d"
   ]
  },
  {
   "cell_type": "code",
   "execution_count": 190,
   "id": "61e6798a-b541-49f4-a5c4-f49d7276b8bc",
   "metadata": {},
   "outputs": [],
   "source": [
    "ans = 0\n",
    "while(d):\n",
    "    tmp = d.popleft()\n",
    "    if tmp == ans + 1:\n",
    "        ans += 1\n",
    "    else:\n",
    "        d.appendleft(tmp)\n",
    "        d.pop()\n",
    "        if len(d) >= 1:\n",
    "            d.pop()\n",
    "        else:\n",
    "            break\n",
    "        ans += 1"
   ]
  },
  {
   "cell_type": "code",
   "execution_count": 191,
   "id": "65c38730-cc54-497f-93bc-904a1f6808a3",
   "metadata": {},
   "outputs": [
    {
     "name": "stdout",
     "output_type": "stream",
     "text": [
      "3\n"
     ]
    }
   ],
   "source": [
    "print (ans)"
   ]
  },
  {
   "cell_type": "code",
   "execution_count": null,
   "id": "d5b1f0e4-1ab1-4545-b1ce-8042480986d6",
   "metadata": {},
   "outputs": [],
   "source": []
  }
 ],
 "metadata": {
  "kernelspec": {
   "display_name": "Python 3 (ipykernel)",
   "language": "python",
   "name": "python3"
  },
  "language_info": {
   "codemirror_mode": {
    "name": "ipython",
    "version": 3
   },
   "file_extension": ".py",
   "mimetype": "text/x-python",
   "name": "python",
   "nbconvert_exporter": "python",
   "pygments_lexer": "ipython3",
   "version": "3.8.13"
  }
 },
 "nbformat": 4,
 "nbformat_minor": 5
}
