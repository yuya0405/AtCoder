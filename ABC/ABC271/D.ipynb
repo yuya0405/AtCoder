{
 "cells": [
  {
   "cell_type": "code",
   "execution_count": 1,
   "id": "24dfb3d2-443a-4c8d-8aaf-51329ab4135e",
   "metadata": {},
   "outputs": [
    {
     "name": "stdin",
     "output_type": "stream",
     "text": [
      " 3 11\n",
      " 1 4\n",
      " 2 3\n",
      " 5 7\n"
     ]
    }
   ],
   "source": [
    "N, S = map(int, input().split())\n",
    "AB = [list(map(int, input().split())) for _ in range(N)]"
   ]
  },
  {
   "cell_type": "code",
   "execution_count": 51,
   "id": "c5874b28-a7e5-4fe7-bc02-8fbe8c2b0c08",
   "metadata": {},
   "outputs": [
    {
     "data": {
      "text/plain": [
       "''"
      ]
     },
     "execution_count": 51,
     "metadata": {},
     "output_type": "execute_result"
    }
   ],
   "source": [
    "dp = [[\"\"]*10001 for _ in range(N+1)]\n",
    "dp[0][0]"
   ]
  },
  {
   "cell_type": "code",
   "execution_count": 53,
   "id": "2e80a34e-6665-44b1-a811-86add174a31a",
   "metadata": {},
   "outputs": [
    {
     "data": {
      "text/plain": [
       "''"
      ]
     },
     "execution_count": 53,
     "metadata": {},
     "output_type": "execute_result"
    }
   ],
   "source": [
    "for i, (a, b) in enumerate(AB):\n",
    "    if i == 0:\n",
    "        dp[1][a] = \"H\"\n",
    "        dp[1][b] = \"T\"\n",
    "    else:\n",
    "         for j in range(10001):\n",
    "            if j+a <= 10000 and len(dp[i][j]) == i:\n",
    "                dp[i+1][j+a] += \"H\"\n",
    "            if j+b <= 10000 and len(dp[i][j]) == i:\n",
    "                dp[i+1][j+b] += \"T\"\n",
    "dp[N][S]"
   ]
  },
  {
   "cell_type": "code",
   "execution_count": null,
   "id": "d85d6a07-4673-439f-9fe7-70236325dcef",
   "metadata": {},
   "outputs": [],
   "source": []
  }
 ],
 "metadata": {
  "kernelspec": {
   "display_name": "Python 3 (ipykernel)",
   "language": "python",
   "name": "python3"
  },
  "language_info": {
   "codemirror_mode": {
    "name": "ipython",
    "version": 3
   },
   "file_extension": ".py",
   "mimetype": "text/x-python",
   "name": "python",
   "nbconvert_exporter": "python",
   "pygments_lexer": "ipython3",
   "version": "3.8.13"
  }
 },
 "nbformat": 4,
 "nbformat_minor": 5
}
