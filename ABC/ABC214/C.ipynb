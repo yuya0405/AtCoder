{
 "cells": [
  {
   "cell_type": "code",
   "execution_count": 72,
   "id": "b72d6d9f-ef65-4be5-b347-7debd09386e2",
   "metadata": {},
   "outputs": [
    {
     "name": "stdin",
     "output_type": "stream",
     "text": [
      " 1\n",
      " 100\n",
      " 1\n"
     ]
    }
   ],
   "source": [
    "N = int(input())\n",
    "S = list(map(int, input().split()))\n",
    "T = list(map(int, input().split()))"
   ]
  },
  {
   "cell_type": "code",
   "execution_count": 73,
   "id": "aec91336-e537-41d9-a67c-0052a97b1186",
   "metadata": {},
   "outputs": [],
   "source": [
    "from heapq import heappush, heappop\n",
    "INF = 10 ** 9\n",
    "def dijkstra(s, n): # (始点, ノード数)\n",
    "    dist = [INF] * n\n",
    "    hq = [(0, s)] # (distance, node)\n",
    "    dist[s] = 0\n",
    "    seen = [False] * n # ノードが確定済みかどうか\n",
    "    while hq:\n",
    "        v = heappop(hq)[1] # ノードを pop する\n",
    "        seen[v] = True\n",
    "        for to, cost in adj[v]: # ノード v に隣接しているノードに対して\n",
    "            if seen[to] == False and dist[v] + cost < dist[to]:\n",
    "                dist[to] = dist[v] + cost\n",
    "                heappush(hq, (dist[to], to))\n",
    "    return dist"
   ]
  },
  {
   "cell_type": "code",
   "execution_count": 77,
   "id": "69f11f25-4cb8-4fed-a0df-c816e3dcb492",
   "metadata": {},
   "outputs": [
    {
     "data": {
      "text/plain": [
       "[[0, 1, 1], [1, 1, 100]]"
      ]
     },
     "execution_count": 77,
     "metadata": {},
     "output_type": "execute_result"
    }
   ],
   "source": [
    "# ノード数, エッジ数, 始点ノード\n",
    "v, e, r = N+1, 2*N, 0\n",
    "\n",
    "# ノード番号、ノード番号、辺重み\n",
    "TMP = []\n",
    "for i in range(1, N+1):\n",
    "    TMP.append([0, i, T[i-1]])\n",
    "for i in range(1, N):\n",
    "    TMP.append([i, i+1, S[i-1]])\n",
    "TMP.append([N, 1, S[N-1]])\n",
    "TMP"
   ]
  },
  {
   "cell_type": "code",
   "execution_count": 78,
   "id": "24e28c0f-c4b1-4f0f-9b21-832fe4fbebcc",
   "metadata": {},
   "outputs": [
    {
     "data": {
      "text/plain": [
       "[[(1, 1)], [(1, 100)]]"
      ]
     },
     "execution_count": 78,
     "metadata": {},
     "output_type": "execute_result"
    }
   ],
   "source": [
    "# adj[s]: ノード s に隣接する(ノード, 重み)をリストで持つ\n",
    "adj = [[] for _ in range(v)]\n",
    "for tmp in TMP:\n",
    "    s, t, d = tmp\n",
    "    adj[s].append((t, d))\n",
    "adj"
   ]
  },
  {
   "cell_type": "code",
   "execution_count": 79,
   "id": "a0c6da4c-aa1a-4273-a5c3-a2a42285c3f5",
   "metadata": {},
   "outputs": [
    {
     "name": "stdout",
     "output_type": "stream",
     "text": [
      "1\n"
     ]
    }
   ],
   "source": [
    "D = dijkstra(r, v)\n",
    "for d in D[1:]:\n",
    "    print (d)"
   ]
  },
  {
   "cell_type": "code",
   "execution_count": null,
   "id": "9a0f7670-84f3-4985-89d9-9889eab603fa",
   "metadata": {},
   "outputs": [],
   "source": []
  }
 ],
 "metadata": {
  "kernelspec": {
   "display_name": "Python 3",
   "language": "python",
   "name": "python3"
  },
  "language_info": {
   "codemirror_mode": {
    "name": "ipython",
    "version": 3
   },
   "file_extension": ".py",
   "mimetype": "text/x-python",
   "name": "python",
   "nbconvert_exporter": "python",
   "pygments_lexer": "ipython3",
   "version": "3.8.8"
  }
 },
 "nbformat": 4,
 "nbformat_minor": 5
}
