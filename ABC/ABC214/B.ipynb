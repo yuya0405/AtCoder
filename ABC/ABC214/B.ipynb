{
 "cells": [
  {
   "cell_type": "code",
   "execution_count": 7,
   "id": "6137a173-16a0-4093-a005-904fe3abc101",
   "metadata": {},
   "outputs": [
    {
     "name": "stdin",
     "output_type": "stream",
     "text": [
      " 0 0\n"
     ]
    }
   ],
   "source": [
    "S, T = map(int,input().split())"
   ]
  },
  {
   "cell_type": "code",
   "execution_count": 8,
   "id": "5cc7aa10-b808-45b9-84b2-77a67e3e9832",
   "metadata": {},
   "outputs": [
    {
     "name": "stdout",
     "output_type": "stream",
     "text": [
      "1\n"
     ]
    }
   ],
   "source": [
    "ans = 0\n",
    "for a in range(0, 101):\n",
    "    for b in range(0, 101):\n",
    "        for c in range(0, 101):\n",
    "            if a+b+c <= S and a*b*c <= T:\n",
    "                ans += 1\n",
    "print (ans)"
   ]
  },
  {
   "cell_type": "code",
   "execution_count": null,
   "id": "a22b80dd-f4bc-4494-84b8-90ba70eb0bdb",
   "metadata": {},
   "outputs": [],
   "source": []
  }
 ],
 "metadata": {
  "kernelspec": {
   "display_name": "Python 3",
   "language": "python",
   "name": "python3"
  },
  "language_info": {
   "codemirror_mode": {
    "name": "ipython",
    "version": 3
   },
   "file_extension": ".py",
   "mimetype": "text/x-python",
   "name": "python",
   "nbconvert_exporter": "python",
   "pygments_lexer": "ipython3",
   "version": "3.8.8"
  }
 },
 "nbformat": 4,
 "nbformat_minor": 5
}
