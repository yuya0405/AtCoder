{
 "cells": [
  {
   "cell_type": "code",
   "execution_count": 59,
   "id": "e7574957-e4ea-4038-ac7e-15729c3fbbf2",
   "metadata": {},
   "outputs": [
    {
     "name": "stdin",
     "output_type": "stream",
     "text": [
      " 10 2 4\n"
     ]
    },
    {
     "name": "stdout",
     "output_type": "stream",
     "text": [
      "25\n"
     ]
    }
   ],
   "source": [
    "N, A, B = map(int, input().split())\n",
    "\n",
    "SUM = (1+N)*N//2\n",
    "\n",
    "A_count = N//A\n",
    "A_count2 = (1+A_count)*A_count//2\n",
    "A_sum = A_count2*A\n",
    "\n",
    "if A != B:\n",
    "    B_count = N//B\n",
    "    B_count2 = (1+B_count)*B_count//2\n",
    "    B_sum = B_count2*B\n",
    "else:\n",
    "    B_sum = 0\n",
    "\n",
    "import math\n",
    "def my_lcm(x, y):\n",
    "    return (x * y) // math.gcd(x, y)\n",
    "\n",
    "if A != B:\n",
    "    AB_count = N//my_lcm(A,B)\n",
    "    AB_count2 = (1+AB_count)*AB_count//2\n",
    "    AB_sum = AB_count2*my_lcm(A,B)\n",
    "else:\n",
    "    AB_sum = 0\n",
    "\n",
    "print (SUM - A_sum - B_sum + AB_sum)"
   ]
  },
  {
   "cell_type": "code",
   "execution_count": null,
   "id": "4ba07165-a234-4d25-8c5a-ef5fb3c4216e",
   "metadata": {},
   "outputs": [],
   "source": []
  }
 ],
 "metadata": {
  "kernelspec": {
   "display_name": "Python 3 (ipykernel)",
   "language": "python",
   "name": "python3"
  },
  "language_info": {
   "codemirror_mode": {
    "name": "ipython",
    "version": 3
   },
   "file_extension": ".py",
   "mimetype": "text/x-python",
   "name": "python",
   "nbconvert_exporter": "python",
   "pygments_lexer": "ipython3",
   "version": "3.9.12"
  }
 },
 "nbformat": 4,
 "nbformat_minor": 5
}
