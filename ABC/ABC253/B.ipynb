{
 "cells": [
  {
   "cell_type": "code",
   "execution_count": 13,
   "id": "fc659500-1d31-4280-9542-dfc18c9e5b82",
   "metadata": {},
   "outputs": [
    {
     "name": "stdin",
     "output_type": "stream",
     "text": [
      " 2 3\n",
      " --o\n",
      " o--\n"
     ]
    },
    {
     "name": "stdout",
     "output_type": "stream",
     "text": [
      "3\n"
     ]
    }
   ],
   "source": [
    "H, W = map(int, input().split())\n",
    "S = [input() for _ in range(H)]\n",
    "\n",
    "pos = []\n",
    "for i, line in enumerate(S):\n",
    "    for j, s in enumerate(line):\n",
    "        if s == \"o\":\n",
    "            pos.append([i, j])\n",
    "\n",
    "dy = abs(pos[0][0] - pos[1][0])\n",
    "dx = abs(pos[0][1] - pos[1][1])\n",
    "print (dx + dy)"
   ]
  },
  {
   "cell_type": "code",
   "execution_count": null,
   "id": "6c55d760-e24f-4792-941d-4eae3be2adad",
   "metadata": {},
   "outputs": [],
   "source": []
  }
 ],
 "metadata": {
  "kernelspec": {
   "display_name": "Python 3 (ipykernel)",
   "language": "python",
   "name": "python3"
  },
  "language_info": {
   "codemirror_mode": {
    "name": "ipython",
    "version": 3
   },
   "file_extension": ".py",
   "mimetype": "text/x-python",
   "name": "python",
   "nbconvert_exporter": "python",
   "pygments_lexer": "ipython3",
   "version": "3.9.12"
  }
 },
 "nbformat": 4,
 "nbformat_minor": 5
}
