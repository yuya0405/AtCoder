{
 "cells": [
  {
   "cell_type": "code",
   "execution_count": 1,
   "id": "d3cb94b7-1b21-4aa6-8942-b57c1303f7e0",
   "metadata": {},
   "outputs": [
    {
     "name": "stdin",
     "output_type": "stream",
     "text": [
      " 3\n",
      " 1 0 100\n",
      " 3 3 10\n",
      " 5 4 1\n"
     ]
    }
   ],
   "source": [
    "N = int(input())\n",
    "TXA = [list(map(int, input().split())) for _ in range(N)]"
   ]
  },
  {
   "cell_type": "code",
   "execution_count": 3,
   "id": "45bd5fa0-4041-4e2b-be98-8cdf27ceaf5e",
   "metadata": {},
   "outputs": [
    {
     "data": {
      "text/plain": [
       "111"
      ]
     },
     "execution_count": 3,
     "metadata": {},
     "output_type": "execute_result"
    }
   ],
   "source": [
    "s = 0\n",
    "for t, x, a in TXA:\n",
    "    s += a\n",
    "s"
   ]
  },
  {
   "cell_type": "code",
   "execution_count": null,
   "id": "0078188e-2bea-4b7a-bbd3-de44aaf851f1",
   "metadata": {},
   "outputs": [],
   "source": [
    "def is_ok(p):\n",
    "    t = []\n",
    "    for i in range(N):\n",
    "        t.append((p-H[i])/S[i])\n",
    "    t.sort()\n",
    "    \n",
    "    for i in range(N):\n",
    "        if t[i] < i:\n",
    "            return False\n",
    "    return True\n",
    "\n",
    "def meguru_bisect(ng, ok):\n",
    "    while(abs(ok-ng) > 1):\n",
    "        mid = (ok+ng)//2\n",
    "        if is_ok(mid):\n",
    "            ok = mid\n",
    "        else:\n",
    "            ng = mid\n",
    "    return (ok)\n",
    "\n",
    "print (meguru_bisect(0, s+1))"
   ]
  }
 ],
 "metadata": {
  "kernelspec": {
   "display_name": "Python 3 (ipykernel)",
   "language": "python",
   "name": "python3"
  },
  "language_info": {
   "codemirror_mode": {
    "name": "ipython",
    "version": 3
   },
   "file_extension": ".py",
   "mimetype": "text/x-python",
   "name": "python",
   "nbconvert_exporter": "python",
   "pygments_lexer": "ipython3",
   "version": "3.8.13"
  }
 },
 "nbformat": 4,
 "nbformat_minor": 5
}
