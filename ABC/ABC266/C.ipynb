{
 "cells": [
  {
   "cell_type": "code",
   "execution_count": 7,
   "id": "ee921b25-3bc5-4c49-a156-353cee629d73",
   "metadata": {},
   "outputs": [
    {
     "name": "stdin",
     "output_type": "stream",
     "text": [
      " 0 0\n",
      " 1 0\n",
      " 1 1\n",
      " 0 1\n"
     ]
    }
   ],
   "source": [
    "A = list(map(int, input().split()))\n",
    "B = list(map(int, input().split()))\n",
    "C = list(map(int, input().split()))\n",
    "D = list(map(int, input().split()))"
   ]
  },
  {
   "cell_type": "code",
   "execution_count": 37,
   "id": "e89dda9a-bb09-4cf7-8aa3-b7d0704591fc",
   "metadata": {},
   "outputs": [
    {
     "data": {
      "text/plain": [
       "[0, 0]"
      ]
     },
     "execution_count": 37,
     "metadata": {},
     "output_type": "execute_result"
    }
   ],
   "source": [
    "A"
   ]
  },
  {
   "cell_type": "code",
   "execution_count": 38,
   "id": "a434c69a-b127-420e-a8c2-504784ecfaf1",
   "metadata": {},
   "outputs": [],
   "source": [
    "def sign (A, B, C):\n",
    "    return (A[0]-C[0])*(B[1]-C[1]) - (B[0]-C[0])*(A[1]-C[1])"
   ]
  },
  {
   "cell_type": "code",
   "execution_count": 46,
   "id": "23aec463-7833-4db6-8a03-f08d71b951eb",
   "metadata": {},
   "outputs": [
    {
     "data": {
      "text/plain": [
       "False"
      ]
     },
     "execution_count": 46,
     "metadata": {},
     "output_type": "execute_result"
    }
   ],
   "source": [
    "b1 = sign(D,B,A) > 0\n",
    "b1"
   ]
  },
  {
   "cell_type": "code",
   "execution_count": null,
   "id": "12ce3298-2781-4d12-90bd-4ede44125bdd",
   "metadata": {},
   "outputs": [
    {
     "data": {
      "text/plain": [
       "False"
      ]
     },
     "execution_count": 47,
     "metadata": {},
     "output_type": "execute_result"
    }
   ],
   "source": [
    "b2 = sign(A,C,B) > 0\n",
    "b2"
   ]
  },
  {
   "cell_type": "code",
   "execution_count": 48,
   "id": "a333f365-e703-404f-8d90-66968e06a994",
   "metadata": {},
   "outputs": [
    {
     "data": {
      "text/plain": [
       "False"
      ]
     },
     "execution_count": 48,
     "metadata": {},
     "output_type": "execute_result"
    }
   ],
   "source": [
    "b3 = sign(B,D,C) > 0\n",
    "b3"
   ]
  },
  {
   "cell_type": "code",
   "execution_count": 49,
   "id": "168e37c0-f940-44e3-a108-45af1e9c312d",
   "metadata": {},
   "outputs": [
    {
     "data": {
      "text/plain": [
       "False"
      ]
     },
     "execution_count": 49,
     "metadata": {},
     "output_type": "execute_result"
    }
   ],
   "source": [
    "b4 = sign(C,A,D) > 0\n",
    "b4"
   ]
  },
  {
   "cell_type": "code",
   "execution_count": 50,
   "id": "7f0c19ce-7e97-4270-8b8a-f0a53b0f6070",
   "metadata": {},
   "outputs": [
    {
     "name": "stdout",
     "output_type": "stream",
     "text": [
      "Yes\n"
     ]
    }
   ],
   "source": [
    "if b1 == b2 and b2 == b3 and b3 == b4 and b4 == b1:\n",
    "    print (\"Yes\")\n",
    "else:\n",
    "    print (\"No\")"
   ]
  },
  {
   "cell_type": "code",
   "execution_count": null,
   "id": "c41d9b91-b4e1-4325-9c59-b86dd5e144a6",
   "metadata": {},
   "outputs": [],
   "source": []
  }
 ],
 "metadata": {
  "kernelspec": {
   "display_name": "Python 3 (ipykernel)",
   "language": "python",
   "name": "python3"
  },
  "language_info": {
   "codemirror_mode": {
    "name": "ipython",
    "version": 3
   },
   "file_extension": ".py",
   "mimetype": "text/x-python",
   "name": "python",
   "nbconvert_exporter": "python",
   "pygments_lexer": "ipython3",
   "version": "3.8.13"
  }
 },
 "nbformat": 4,
 "nbformat_minor": 5
}
