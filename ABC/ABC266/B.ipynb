{
 "cells": [
  {
   "cell_type": "code",
   "execution_count": 20,
   "id": "f3fe2b95-d6ea-4816-87a3-def506dfd29d",
   "metadata": {},
   "outputs": [
    {
     "name": "stdin",
     "output_type": "stream",
     "text": [
      " -9982443534\n"
     ]
    }
   ],
   "source": [
    "N = int(input())"
   ]
  },
  {
   "cell_type": "code",
   "execution_count": 21,
   "id": "7c629a20-cb76-4963-a11f-b320cee32670",
   "metadata": {},
   "outputs": [],
   "source": [
    "C = 998244353"
   ]
  },
  {
   "cell_type": "code",
   "execution_count": 22,
   "id": "4ad8b0c6-4604-4dd0-b16b-1512a494e071",
   "metadata": {},
   "outputs": [
    {
     "name": "stdout",
     "output_type": "stream",
     "text": [
      "998244349\n"
     ]
    }
   ],
   "source": [
    "print (N % C)"
   ]
  },
  {
   "cell_type": "code",
   "execution_count": null,
   "id": "d2d323b6-51d2-4ccf-b53d-5f17eaddf09d",
   "metadata": {},
   "outputs": [],
   "source": []
  }
 ],
 "metadata": {
  "kernelspec": {
   "display_name": "Python 3 (ipykernel)",
   "language": "python",
   "name": "python3"
  },
  "language_info": {
   "codemirror_mode": {
    "name": "ipython",
    "version": 3
   },
   "file_extension": ".py",
   "mimetype": "text/x-python",
   "name": "python",
   "nbconvert_exporter": "python",
   "pygments_lexer": "ipython3",
   "version": "3.8.13"
  }
 },
 "nbformat": 4,
 "nbformat_minor": 5
}
