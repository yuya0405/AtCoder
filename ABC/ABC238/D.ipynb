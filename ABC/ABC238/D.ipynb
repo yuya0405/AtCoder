{
 "cells": [
  {
   "cell_type": "code",
   "execution_count": 15,
   "id": "cb8b768f-1b6e-4da5-b3bb-667841e16955",
   "metadata": {},
   "outputs": [
    {
     "name": "stdin",
     "output_type": "stream",
     "text": [
      " 4\n",
      " 201408139683277485 381410962404666524\n",
      " 360288799186493714 788806911317182736\n",
      " 18999951915747344 451273909320288229\n",
      " 962424162689761932 1097438793187620758\n"
     ]
    }
   ],
   "source": [
    "T = int(input())\n",
    "A = [list(map(int, input().split())) for _ in range(T)]"
   ]
  },
  {
   "cell_type": "code",
   "execution_count": 7,
   "id": "5a6e2417-b839-46d7-8314-7a905351f577",
   "metadata": {},
   "outputs": [
    {
     "name": "stdout",
     "output_type": "stream",
     "text": [
      "Yes\n",
      "No\n"
     ]
    }
   ],
   "source": [
    "# TLE\n",
    "\n",
    "for a, s in A:\n",
    "    digit = len(str(a))\n",
    "    flag = False\n",
    "    for x in range(10**(digit-1), s):\n",
    "        if x & (s-x) == a:\n",
    "            flag = True\n",
    "            print (\"Yes\")\n",
    "            break\n",
    "    if flag == False:\n",
    "        print (\"No\")"
   ]
  },
  {
   "cell_type": "code",
   "execution_count": 16,
   "id": "e125a158-35d6-4219-bb76-3bba0b6a707d",
   "metadata": {},
   "outputs": [
    {
     "name": "stdout",
     "output_type": "stream",
     "text": [
      "No\n",
      "Yes\n",
      "Yes\n",
      "No\n"
     ]
    }
   ],
   "source": [
    "# AC\n",
    "\n",
    "for a, s in A:\n",
    "    x = a\n",
    "    y = s - a\n",
    "    if y < 0:\n",
    "        print (\"No\")\n",
    "    elif x & y == a:\n",
    "        print (\"Yes\")\n",
    "    else:\n",
    "        print (\"No\")"
   ]
  },
  {
   "cell_type": "code",
   "execution_count": null,
   "id": "0036cb82-79b1-4d01-a799-a82641740811",
   "metadata": {},
   "outputs": [],
   "source": []
  }
 ],
 "metadata": {
  "kernelspec": {
   "display_name": "Python 3",
   "language": "python",
   "name": "python3"
  },
  "language_info": {
   "codemirror_mode": {
    "name": "ipython",
    "version": 3
   },
   "file_extension": ".py",
   "mimetype": "text/x-python",
   "name": "python",
   "nbconvert_exporter": "python",
   "pygments_lexer": "ipython3",
   "version": "3.8.8"
  }
 },
 "nbformat": 4,
 "nbformat_minor": 5
}
