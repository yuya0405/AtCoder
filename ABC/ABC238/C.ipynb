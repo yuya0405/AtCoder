{
 "cells": [
  {
   "cell_type": "code",
   "execution_count": 107,
   "id": "ea2dc8de-e919-49f4-8615-fbd65d272a96",
   "metadata": {},
   "outputs": [
    {
     "name": "stdin",
     "output_type": "stream",
     "text": [
      " 16\n"
     ]
    },
    {
     "name": "stdout",
     "output_type": "stream",
     "text": [
      "73\n"
     ]
    }
   ],
   "source": [
    "N = int(input())\n",
    "\n",
    "ans = 0\n",
    "digit = len(str(N))\n",
    "\n",
    "ans = 0\n",
    "if digit == 1:\n",
    "    ans = (1+N)*N//2\n",
    "else:\n",
    "    ans += 45\n",
    "\n",
    "for d in range(1, digit):\n",
    "    if d != digit - 1:\n",
    "        tmp = 9*10**d\n",
    "        ans += ((1+tmp)*tmp//2)\n",
    "        ans %= 998244353\n",
    "    else:\n",
    "        tmp = N-10**d+1\n",
    "        ans += ((1+tmp)*tmp//2)\n",
    "        ans %= 998244353\n",
    "\n",
    "print (ans)"
   ]
  },
  {
   "cell_type": "code",
   "execution_count": null,
   "id": "a1f483c3-5e96-4d12-ab02-490e2a1f6b79",
   "metadata": {},
   "outputs": [],
   "source": []
  }
 ],
 "metadata": {
  "kernelspec": {
   "display_name": "Python 3",
   "language": "python",
   "name": "python3"
  },
  "language_info": {
   "codemirror_mode": {
    "name": "ipython",
    "version": 3
   },
   "file_extension": ".py",
   "mimetype": "text/x-python",
   "name": "python",
   "nbconvert_exporter": "python",
   "pygments_lexer": "ipython3",
   "version": "3.8.8"
  }
 },
 "nbformat": 4,
 "nbformat_minor": 5
}
