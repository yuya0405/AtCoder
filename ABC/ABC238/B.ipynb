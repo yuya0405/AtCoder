{
 "cells": [
  {
   "cell_type": "code",
   "execution_count": 32,
   "id": "af1e162b-ca52-478b-87a2-037e918b027e",
   "metadata": {},
   "outputs": [],
   "source": [
    "N = int(input())\n",
    "A = list(map(int, input().split()))\n",
    "\n",
    "import itertools\n",
    "A_acc = [0] + list(itertools.accumulate(A))\n",
    "B = []\n",
    "for i in A_acc:\n",
    "    B.append(i % 360)\n",
    "B.sort()\n",
    "\n",
    "B.append(360)\n",
    "\n",
    "C = []\n",
    "for i, b in enumerate(B):\n",
    "    if i == 0:\n",
    "        tmp = b\n",
    "        continue\n",
    "    C.append(b - tmp)\n",
    "    tmp = b\n",
    "\n",
    "print (max(C))"
   ]
  },
  {
   "cell_type": "code",
   "execution_count": null,
   "id": "60e2dab0-4ec7-4029-be5c-b8cf04a78c1b",
   "metadata": {},
   "outputs": [],
   "source": []
  }
 ],
 "metadata": {
  "kernelspec": {
   "display_name": "Python 3",
   "language": "python",
   "name": "python3"
  },
  "language_info": {
   "codemirror_mode": {
    "name": "ipython",
    "version": 3
   },
   "file_extension": ".py",
   "mimetype": "text/x-python",
   "name": "python",
   "nbconvert_exporter": "python",
   "pygments_lexer": "ipython3",
   "version": "3.8.8"
  }
 },
 "nbformat": 4,
 "nbformat_minor": 5
}
