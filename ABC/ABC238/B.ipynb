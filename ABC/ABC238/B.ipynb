{
 "cells": [
  {
   "cell_type": "code",
   "execution_count": 1,
   "id": "42d5b7c5-5647-4b44-8b33-bbb3e927495a",
   "metadata": {},
   "outputs": [
    {
     "name": "stdin",
     "output_type": "stream",
     "text": [
      " 4\n",
      " 90 180 45 195\n"
     ]
    }
   ],
   "source": [
    "N = int(input())\n",
    "A = list(map(int, input().split()))"
   ]
  },
  {
   "cell_type": "code",
   "execution_count": 2,
   "id": "d634927c-351a-41b3-a93f-ba21a0b692be",
   "metadata": {},
   "outputs": [],
   "source": [
    "import itertools\n",
    "A_acc = [0] + list(itertools.accumulate(A))\n",
    "B = []\n",
    "for i in A_acc:\n",
    "    B.append(i % 360)\n",
    "B.sort()\n",
    "\n",
    "B.append(360)"
   ]
  },
  {
   "cell_type": "code",
   "execution_count": 32,
   "id": "3f7ffcd7-aad0-4295-86f7-3e9603b887da",
   "metadata": {},
   "outputs": [],
   "source": [
    "C = []\n",
    "for i, b in enumerate(B):\n",
    "    if i == 0:\n",
    "        tmp = b\n",
    "        continue\n",
    "    C.append(b - tmp)\n",
    "    tmp = b\n",
    "\n",
    "print (max(C))"
   ]
  },
  {
   "cell_type": "code",
   "execution_count": 8,
   "id": "60e2dab0-4ec7-4029-be5c-b8cf04a78c1b",
   "metadata": {},
   "outputs": [
    {
     "name": "stdout",
     "output_type": "stream",
     "text": [
      "120\n"
     ]
    }
   ],
   "source": [
    "import numpy as np\n",
    "\n",
    "C = np.array(B)\n",
    "print (max(list(np.diff(C))))"
   ]
  },
  {
   "cell_type": "code",
   "execution_count": null,
   "id": "388fda0f-3fba-45a1-b99b-a02716832ead",
   "metadata": {},
   "outputs": [],
   "source": []
  }
 ],
 "metadata": {
  "kernelspec": {
   "display_name": "Python 3",
   "language": "python",
   "name": "python3"
  },
  "language_info": {
   "codemirror_mode": {
    "name": "ipython",
    "version": 3
   },
   "file_extension": ".py",
   "mimetype": "text/x-python",
   "name": "python",
   "nbconvert_exporter": "python",
   "pygments_lexer": "ipython3",
   "version": "3.8.8"
  }
 },
 "nbformat": 4,
 "nbformat_minor": 5
}
