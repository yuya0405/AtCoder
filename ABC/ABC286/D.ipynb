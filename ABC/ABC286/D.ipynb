{
 "cells": [
  {
   "cell_type": "code",
   "execution_count": 9,
   "id": "cf2d6548-072d-46ee-82cd-d9b425cfb890",
   "metadata": {},
   "outputs": [
    {
     "name": "stdin",
     "output_type": "stream",
     "text": [
      " 2 19\n",
      " 2 3\n",
      " 5 6\n"
     ]
    }
   ],
   "source": [
    "N, X = map(int, input().split())\n",
    "AB = [[] for i in range(N+1)]\n",
    "for i in range(1, N+1):\n",
    "    AB[i] = list(map(int,input().split()))"
   ]
  },
  {
   "cell_type": "code",
   "execution_count": 10,
   "id": "fb866794-cfc2-4236-a005-77ac1e31f09c",
   "metadata": {},
   "outputs": [
    {
     "data": {
      "text/plain": [
       "[[], [2, 3], [5, 6]]"
      ]
     },
     "execution_count": 10,
     "metadata": {},
     "output_type": "execute_result"
    }
   ],
   "source": [
    "AB"
   ]
  },
  {
   "cell_type": "code",
   "execution_count": 11,
   "id": "ae6bd34d-d9c3-4d2d-87f4-d7bde4060de8",
   "metadata": {},
   "outputs": [
    {
     "name": "stdout",
     "output_type": "stream",
     "text": [
      "Yes\n"
     ]
    }
   ],
   "source": [
    "dp = [[False]*(X+1) for i in range(N+1)]\n",
    "dp[0][0] = True\n",
    "for i in range(1,N+1):\n",
    "    a,b = AB[i][0], AB[i][1]\n",
    "    for j in range(X+1):\n",
    "        if dp[i-1][j]:\n",
    "            dp[i][j] = True\n",
    "            t = 1\n",
    "            while t <= b and j+a*t <= X:\n",
    "                dp[i][j+a*t] = True\n",
    "                t += 1\n",
    "if dp[N][X]:\n",
    "    print(\"Yes\")\n",
    "else:\n",
    "    print(\"No\")"
   ]
  },
  {
   "cell_type": "code",
   "execution_count": null,
   "id": "210724eb-33ad-4a9c-bafd-bceb7463f216",
   "metadata": {},
   "outputs": [],
   "source": []
  }
 ],
 "metadata": {
  "kernelspec": {
   "display_name": "Python 3 (ipykernel)",
   "language": "python",
   "name": "python3"
  },
  "language_info": {
   "codemirror_mode": {
    "name": "ipython",
    "version": 3
   },
   "file_extension": ".py",
   "mimetype": "text/x-python",
   "name": "python",
   "nbconvert_exporter": "python",
   "pygments_lexer": "ipython3",
   "version": "3.8.13"
  }
 },
 "nbformat": 4,
 "nbformat_minor": 5
}
