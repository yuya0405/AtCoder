{
 "cells": [
  {
   "cell_type": "code",
   "execution_count": 1,
   "id": "4af536c1-adc3-4b30-87de-a590c9f831d3",
   "metadata": {},
   "outputs": [
    {
     "name": "stdin",
     "output_type": "stream",
     "text": [
      " 5\n",
      " 30 50 70 20 60\n",
      " NYYNN\n",
      " NNYNN\n",
      " NNNYY\n",
      " YNNNN\n",
      " YNNNN\n",
      " 3\n",
      " 1 3\n",
      " 3 1\n",
      " 4 5\n"
     ]
    }
   ],
   "source": [
    "N = int(input())\n",
    "A = list(map(int, input().split()))\n",
    "S = [input() for _ in range(N)]\n",
    "Q = int(input())\n",
    "UV = [list(map(int, input().split())) for _ in range(Q)]"
   ]
  },
  {
   "cell_type": "code",
   "execution_count": 24,
   "id": "17b9cf4d-6a7a-4f09-82a8-75ae7f668a65",
   "metadata": {},
   "outputs": [],
   "source": [
    "# 辺情報を表す構造体\n",
    "class edge:\n",
    "    def __init__(self, end, leng):\n",
    "        self.end = end      # 辺の終点\n",
    "        self.leng = leng    # 辺の重み\n",
    "\n",
    "INF = float('inf') # 初期化で使う十分大きな数"
   ]
  },
  {
   "cell_type": "code",
   "execution_count": 22,
   "id": "de428349-b41c-4a3e-8bf0-fbb9d7cfcabe",
   "metadata": {},
   "outputs": [],
   "source": [
    "G = [[] for _ in range(N)]\n",
    "for i, s1 in enumerate(S):\n",
    "    for j, s2 in enumerate(s1):\n",
    "        if s2 == \"Y\":\n",
    "            u, v, w = i, j, A[j]+10**10\n",
    "            G[u].append(edge(v, w))"
   ]
  },
  {
   "cell_type": "code",
   "execution_count": null,
   "id": "5cea7241-035b-4a7a-a119-d3ebb59a0e81",
   "metadata": {},
   "outputs": [
    {
     "name": "stdout",
     "output_type": "stream",
     "text": [
      "30 10000000070\n",
      "70 0\n",
      "20 20000000130\n"
     ]
    }
   ],
   "source": [
    "for q in range(Q):\n",
    "    start = UV[q][0]-1\n",
    "    end = UV[q][1]-1\n",
    "    \n",
    "    dist = [INF for _ in range(N)]  # dist[i]：頂点 0 から頂点 i への暫定的な経路長\n",
    "    dist[0] = 0\n",
    "    done = [False for _ in range(N)]    # done[i]：頂点 i の最短距離が確定しているか\n",
    "\n",
    "    while True:\n",
    "        v, d = -1, 2*INF    # v：次に見るべき頂点、d：仮の最小値\n",
    "        # 操作 1. を実行する (done[v] が false、かつ dist[v] が最小の v を探す)\n",
    "        for i in range(N):\n",
    "            if done[i] == False and dist[i] < d:\n",
    "                v = i\n",
    "                d = dist[i]\n",
    "\n",
    "        # もしそのような v が見つからないなら、すべての done[v] が true になっているので終了する\n",
    "        if v == -1: break\n",
    "\n",
    "        # 操作 2. を実行する (頂点 v を始点とする辺に対し、dist の更新をする)\n",
    "        for e in G[v]:\n",
    "            dist[e.end] = min(dist[e.end], dist[v] + e.leng)\n",
    "\n",
    "        # 操作 3. を実行する (頂点 v への最短距離が確定したことを表す)\n",
    "        done[v] = True\n",
    "\n",
    "    # 答えを出力する\n",
    "    print (A[start], dist[end])"
   ]
  },
  {
   "cell_type": "code",
   "execution_count": null,
   "id": "bd625d6e-d1b8-4180-a1fb-4f29be567a63",
   "metadata": {},
   "outputs": [],
   "source": []
  }
 ],
 "metadata": {
  "kernelspec": {
   "display_name": "Python 3 (ipykernel)",
   "language": "python",
   "name": "python3"
  },
  "language_info": {
   "codemirror_mode": {
    "name": "ipython",
    "version": 3
   },
   "file_extension": ".py",
   "mimetype": "text/x-python",
   "name": "python",
   "nbconvert_exporter": "python",
   "pygments_lexer": "ipython3",
   "version": "3.8.13"
  }
 },
 "nbformat": 4,
 "nbformat_minor": 5
}
