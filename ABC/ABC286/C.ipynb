{
 "cells": [
  {
   "cell_type": "code",
   "execution_count": 1,
   "id": "ad95373e-5c03-476d-a61c-ca5421f5a7e4",
   "metadata": {},
   "outputs": [
    {
     "name": "stdin",
     "output_type": "stream",
     "text": [
      " 5 1 2\n",
      " rrefa\n"
     ]
    }
   ],
   "source": [
    "N, A, B = map(int, input().split())\n",
    "S = input()"
   ]
  },
  {
   "cell_type": "code",
   "execution_count": 11,
   "id": "f595eabc-993b-425f-9f4d-8ea9ad3cc4bc",
   "metadata": {},
   "outputs": [
    {
     "data": {
      "text/plain": [
       "Counter({'r': 2, 'e': 1, 'f': 1, 'a': 1})"
      ]
     },
     "execution_count": 11,
     "metadata": {},
     "output_type": "execute_result"
    }
   ],
   "source": [
    "import collections\n",
    "c = collections.Counter(S)\n",
    "c"
   ]
  },
  {
   "cell_type": "code",
   "execution_count": 35,
   "id": "5a8f0c5b-916a-4e96-8aaf-e4aa04dea3c0",
   "metadata": {},
   "outputs": [
    {
     "name": "stdout",
     "output_type": "stream",
     "text": [
      "3\n"
     ]
    }
   ],
   "source": [
    "ans = float('inf')\n",
    "for i in range(N):\n",
    "    S2 = S[i:] + S[:i]\n",
    "    tmp = A * i\n",
    "    for i in range(N//2):\n",
    "        if S2[i] != S2[-1-i]:\n",
    "            tmp += B\n",
    "    if tmp < ans:\n",
    "        ans = tmp\n",
    "print (ans)"
   ]
  },
  {
   "cell_type": "code",
   "execution_count": null,
   "id": "6a4135ae-73c4-4f2b-ae4f-4354eff25206",
   "metadata": {},
   "outputs": [],
   "source": []
  }
 ],
 "metadata": {
  "kernelspec": {
   "display_name": "Python 3 (ipykernel)",
   "language": "python",
   "name": "python3"
  },
  "language_info": {
   "codemirror_mode": {
    "name": "ipython",
    "version": 3
   },
   "file_extension": ".py",
   "mimetype": "text/x-python",
   "name": "python",
   "nbconvert_exporter": "python",
   "pygments_lexer": "ipython3",
   "version": "3.8.13"
  }
 },
 "nbformat": 4,
 "nbformat_minor": 5
}
