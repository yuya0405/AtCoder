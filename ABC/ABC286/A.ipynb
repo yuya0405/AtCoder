{
 "cells": [
  {
   "cell_type": "code",
   "execution_count": 2,
   "id": "37d65cd4-b51f-49c5-beb1-b76bf26a35d8",
   "metadata": {},
   "outputs": [
    {
     "name": "stdin",
     "output_type": "stream",
     "text": [
      " 8 1 3 5 7\n",
      " 1 2 3 4 5 6 7 8\n"
     ]
    }
   ],
   "source": [
    "N, P, Q, R, S = map(int, input().split())\n",
    "A = list(map(int, input().split()))"
   ]
  },
  {
   "cell_type": "code",
   "execution_count": 15,
   "id": "3c128ce0-ded6-46e0-965a-73ebf1b4672e",
   "metadata": {},
   "outputs": [
    {
     "data": {
      "text/plain": [
       "[1, 2, 3]"
      ]
     },
     "execution_count": 15,
     "metadata": {},
     "output_type": "execute_result"
    }
   ],
   "source": [
    "A[P-1:Q]"
   ]
  },
  {
   "cell_type": "code",
   "execution_count": 16,
   "id": "fd953482-2e3b-4a61-b755-afea561a4659",
   "metadata": {},
   "outputs": [
    {
     "data": {
      "text/plain": [
       "[5, 6, 7]"
      ]
     },
     "execution_count": 16,
     "metadata": {},
     "output_type": "execute_result"
    }
   ],
   "source": [
    "A[R-1:S]"
   ]
  },
  {
   "cell_type": "code",
   "execution_count": 19,
   "id": "830115af-81fe-4161-a69f-8b079149385f",
   "metadata": {},
   "outputs": [
    {
     "name": "stdout",
     "output_type": "stream",
     "text": [
      "5 6 7 4 1 2 3 8\n"
     ]
    }
   ],
   "source": [
    "ans = A[:P-1]+A[R-1:S]+A[Q:R-1]+A[P-1:Q]+A[S:]\n",
    "print (*ans)"
   ]
  },
  {
   "cell_type": "code",
   "execution_count": null,
   "id": "f77c4a8b-bb48-47ca-9a5e-8e059ce29fe8",
   "metadata": {},
   "outputs": [],
   "source": []
  }
 ],
 "metadata": {
  "kernelspec": {
   "display_name": "Python 3 (ipykernel)",
   "language": "python",
   "name": "python3"
  },
  "language_info": {
   "codemirror_mode": {
    "name": "ipython",
    "version": 3
   },
   "file_extension": ".py",
   "mimetype": "text/x-python",
   "name": "python",
   "nbconvert_exporter": "python",
   "pygments_lexer": "ipython3",
   "version": "3.8.13"
  }
 },
 "nbformat": 4,
 "nbformat_minor": 5
}
