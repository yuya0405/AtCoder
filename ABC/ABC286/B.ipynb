{
 "cells": [
  {
   "cell_type": "code",
   "execution_count": 1,
   "id": "b6d65fe6-e8eb-4cc4-b313-69027188618b",
   "metadata": {},
   "outputs": [
    {
     "name": "stdin",
     "output_type": "stream",
     "text": [
      " 4\n",
      " naan\n"
     ]
    }
   ],
   "source": [
    "N = int(input())\n",
    "S = input()"
   ]
  },
  {
   "cell_type": "code",
   "execution_count": 10,
   "id": "72061c98-85c0-4a9e-ac62-1d54bd1de3bf",
   "metadata": {},
   "outputs": [
    {
     "name": "stdout",
     "output_type": "stream",
     "text": [
      "nyaan\n"
     ]
    }
   ],
   "source": [
    "ans = \"\"\n",
    "prev = \"\"\n",
    "for s in S:\n",
    "    if prev + s == \"na\":\n",
    "        ans += \"ya\"\n",
    "    else:\n",
    "        ans += s\n",
    "    prev = s\n",
    "print (ans)"
   ]
  },
  {
   "cell_type": "code",
   "execution_count": null,
   "id": "67d5b5e1-10da-4ac4-833d-b6cee5990bc4",
   "metadata": {},
   "outputs": [],
   "source": []
  }
 ],
 "metadata": {
  "kernelspec": {
   "display_name": "Python 3 (ipykernel)",
   "language": "python",
   "name": "python3"
  },
  "language_info": {
   "codemirror_mode": {
    "name": "ipython",
    "version": 3
   },
   "file_extension": ".py",
   "mimetype": "text/x-python",
   "name": "python",
   "nbconvert_exporter": "python",
   "pygments_lexer": "ipython3",
   "version": "3.8.13"
  }
 },
 "nbformat": 4,
 "nbformat_minor": 5
}
