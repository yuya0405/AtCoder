{
 "cells": [
  {
   "cell_type": "code",
   "execution_count": 73,
   "id": "f0130e8a-0a4d-48b2-9f85-77918bdc824d",
   "metadata": {},
   "outputs": [
    {
     "name": "stdin",
     "output_type": "stream",
     "text": [
      " 5 7\n",
      " .#...#.\n",
      " ..#.#..\n",
      " ...S...\n",
      " ..#.#..\n",
      " .#...#.\n"
     ]
    }
   ],
   "source": [
    "H, W = map(int, input().split())\n",
    "C = [input() for _ in range(H)]"
   ]
  },
  {
   "cell_type": "code",
   "execution_count": 76,
   "id": "61c57c82-0d95-46d6-984c-9e4beadb305a",
   "metadata": {},
   "outputs": [
    {
     "data": {
      "text/plain": [
       "(2, 3)"
      ]
     },
     "execution_count": 76,
     "metadata": {},
     "output_type": "execute_result"
    }
   ],
   "source": [
    "for h in range(H):\n",
    "    for w in range(W):\n",
    "        if C[h][w] == \"S\":\n",
    "            S_h = h\n",
    "            S_w = w\n",
    "S_h, S_w"
   ]
  },
  {
   "cell_type": "code",
   "execution_count": 77,
   "id": "a7948473-656b-447c-b94d-f63ef7e8da94",
   "metadata": {},
   "outputs": [
    {
     "data": {
      "text/plain": [
       "17"
      ]
     },
     "execution_count": 77,
     "metadata": {},
     "output_type": "execute_result"
    }
   ],
   "source": [
    "START = S_h * W + S_w\n",
    "START"
   ]
  },
  {
   "cell_type": "code",
   "execution_count": 78,
   "id": "e6242328-6eac-4b80-946c-d59c2bc5ccb3",
   "metadata": {},
   "outputs": [],
   "source": [
    "# L, U, R, D\n",
    "dx = [-1, 0, 1, 0]\n",
    "dy = [0, -1, 0, 1]"
   ]
  },
  {
   "cell_type": "code",
   "execution_count": 84,
   "id": "b878b336-ed44-4305-9fd1-e32c492732d0",
   "metadata": {
    "tags": []
   },
   "outputs": [
    {
     "data": {
      "text/plain": [
       "[{5, 7},\n",
       " set(),\n",
       " {3},\n",
       " {2, 4, 8, 10},\n",
       " {3},\n",
       " {0, 8, 14},\n",
       " {7, 11, 13, 15},\n",
       " {0, 6, 10},\n",
       " {3, 5, 11, 17},\n",
       " set(),\n",
       " {3, 7, 13, 15, 19, 21},\n",
       " {6, 8, 12, 14, 16, 20, 22},\n",
       " {11, 15, 17},\n",
       " {6, 10, 16, 18, 24},\n",
       " {5, 11, 15, 17, 19},\n",
       " {6, 10, 12, 14, 16, 18, 20, 22, 26, 28},\n",
       " {11, 13, 15, 19, 21, 27},\n",
       " {8, 12, 14, 18},\n",
       " {13, 15, 17, 31},\n",
       " {10, 14, 16, 20},\n",
       " {11, 15, 19, 21, 27},\n",
       " {10, 16, 20, 26, 34},\n",
       " {11, 15, 31},\n",
       " {24, 30, 32},\n",
       " {13, 23, 31},\n",
       " set(),\n",
       " {15, 21, 27},\n",
       " {16, 20, 26},\n",
       " {15},\n",
       " set(),\n",
       " {23},\n",
       " {18, 22, 24},\n",
       " {23},\n",
       " set(),\n",
       " {21}]"
      ]
     },
     "execution_count": 84,
     "metadata": {},
     "output_type": "execute_result"
    }
   ],
   "source": [
    "G = [set() for i in range(H*W)]\n",
    "for i in range(H*W):\n",
    "    col = i % W\n",
    "    row = i // W\n",
    "    for x, y in zip(dx, dy):\n",
    "        yoko = col + x\n",
    "        tate = row + y\n",
    "        if 0 <= yoko and yoko <= W-1 and 0 <= tate and tate <= H-1:\n",
    "            if C[row][col] in [\".\", \"S\"] and C[tate][yoko] in [\".\", \"S\"]:\n",
    "                j = tate * H + yoko\n",
    "                G[i].add(j)\n",
    "                G[j].add(i)\n",
    "G"
   ]
  },
  {
   "cell_type": "code",
   "execution_count": 85,
   "id": "11ddc49d-8879-4efd-9cf0-21a4d5476a6b",
   "metadata": {
    "tags": []
   },
   "outputs": [],
   "source": [
    "from queue import Queue\n",
    "\n",
    "# 各頂点が何手目に探索されたか\n",
    "# -1 は「まだ探索されていない」ことを表す\n",
    "dist = [-1] * H*W\n",
    "\n",
    "# k 手目に探索された頂点集合を格納 (最大でも N-1 手まで)\n",
    "nodes = [[] for i in range(H*W)]\n",
    "\n",
    "# S を始点とする\n",
    "dist[START] = 0\n",
    "nodes[0] = [START]\n",
    "\n",
    "# k 手目の探索をする\n",
    "for k in range(1, H*W):\n",
    "    # k-1 手目に探索された各頂点 v に対して\n",
    "    for v in nodes[k - 1]:\n",
    "        # 頂点 v から 1 手で行ける頂点 next_v を探索\n",
    "        for next_v in G[v]:\n",
    "            # 頂点 next_v が探索済みであれば何もしない\n",
    "            if dist[next_v] != -1:\n",
    "                continue\n",
    "\n",
    "            # 頂点 next_v を探索する\n",
    "            dist[next_v] = dist[v] + 1\n",
    "            nodes[k].append(next_v)"
   ]
  },
  {
   "cell_type": "code",
   "execution_count": 86,
   "id": "b5293959-3f86-4293-abdc-11291178cb4d",
   "metadata": {},
   "outputs": [
    {
     "data": {
      "text/plain": [
       "[3,\n",
       " -1,\n",
       " 3,\n",
       " 2,\n",
       " 3,\n",
       " 2,\n",
       " 3,\n",
       " 4,\n",
       " 1,\n",
       " -1,\n",
       " 3,\n",
       " 2,\n",
       " 1,\n",
       " 2,\n",
       " 1,\n",
       " 2,\n",
       " 3,\n",
       " 0,\n",
       " 1,\n",
       " 2,\n",
       " 3,\n",
       " 4,\n",
       " 3,\n",
       " 4,\n",
       " 3,\n",
       " -1,\n",
       " 3,\n",
       " 4,\n",
       " 3,\n",
       " -1,\n",
       " 5,\n",
       " 2,\n",
       " 5,\n",
       " -1,\n",
       " 5]"
      ]
     },
     "execution_count": 86,
     "metadata": {},
     "output_type": "execute_result"
    }
   ],
   "source": [
    "dist"
   ]
  },
  {
   "cell_type": "code",
   "execution_count": 87,
   "id": "6baf822f-6859-4610-af93-eebc656a1d68",
   "metadata": {},
   "outputs": [
    {
     "data": {
      "text/plain": [
       "[[17],\n",
       " [8, 18, 12, 14],\n",
       " [11, 3, 5, 31, 13, 15, 19],\n",
       " [6, 16, 20, 22, 2, 10, 4, 0, 24, 26, 28],\n",
       " [7, 21, 27, 23],\n",
       " [34, 32, 30],\n",
       " [],\n",
       " [],\n",
       " [],\n",
       " [],\n",
       " [],\n",
       " [],\n",
       " [],\n",
       " [],\n",
       " [],\n",
       " [],\n",
       " [],\n",
       " [],\n",
       " [],\n",
       " [],\n",
       " [],\n",
       " [],\n",
       " [],\n",
       " [],\n",
       " [],\n",
       " [],\n",
       " [],\n",
       " [],\n",
       " [],\n",
       " [],\n",
       " [],\n",
       " [],\n",
       " [],\n",
       " [],\n",
       " []]"
      ]
     },
     "execution_count": 87,
     "metadata": {},
     "output_type": "execute_result"
    }
   ],
   "source": [
    "nodes"
   ]
  },
  {
   "cell_type": "code",
   "execution_count": 88,
   "id": "f188e8e6-83ff-4dae-bb3f-56b786a9a2e8",
   "metadata": {},
   "outputs": [
    {
     "data": {
      "text/plain": [
       "Counter({3: 11, -1: 5, 2: 7, 4: 4, 1: 4, 0: 1, 5: 3})"
      ]
     },
     "execution_count": 88,
     "metadata": {},
     "output_type": "execute_result"
    }
   ],
   "source": [
    "from collections import Counter\n",
    "\n",
    "C = Counter(dist)\n",
    "C"
   ]
  },
  {
   "cell_type": "code",
   "execution_count": 89,
   "id": "1e34a30c-7bf1-4edf-8101-03f49875be71",
   "metadata": {},
   "outputs": [
    {
     "data": {
      "text/plain": [
       "5"
      ]
     },
     "execution_count": 89,
     "metadata": {},
     "output_type": "execute_result"
    }
   ],
   "source": [
    "C_max = max(C.keys())\n",
    "C_max"
   ]
  },
  {
   "cell_type": "code",
   "execution_count": 90,
   "id": "f651b0c3-8801-4e03-91a2-45d7328b0899",
   "metadata": {},
   "outputs": [],
   "source": [
    "if C_max < 2:\n",
    "    print (\"No\")\n",
    "    exit()"
   ]
  },
  {
   "cell_type": "code",
   "execution_count": 91,
   "id": "a3ff3bbd-34e6-4880-a3ef-1ee25568c73f",
   "metadata": {},
   "outputs": [
    {
     "name": "stdout",
     "output_type": "stream",
     "text": [
      "Yes\n"
     ]
    }
   ],
   "source": [
    "for i in range(1, C_max):\n",
    "    if C[i] < 2:\n",
    "        print (\"No\")\n",
    "        exit()\n",
    "print (\"Yes\")"
   ]
  },
  {
   "cell_type": "code",
   "execution_count": null,
   "id": "d840a069-9650-40bd-b293-81e76e94e9a7",
   "metadata": {},
   "outputs": [],
   "source": []
  }
 ],
 "metadata": {
  "kernelspec": {
   "display_name": "Python 3 (ipykernel)",
   "language": "python",
   "name": "python3"
  },
  "language_info": {
   "codemirror_mode": {
    "name": "ipython",
    "version": 3
   },
   "file_extension": ".py",
   "mimetype": "text/x-python",
   "name": "python",
   "nbconvert_exporter": "python",
   "pygments_lexer": "ipython3",
   "version": "3.8.13"
  }
 },
 "nbformat": 4,
 "nbformat_minor": 5
}
