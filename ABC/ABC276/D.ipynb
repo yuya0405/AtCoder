{
 "cells": [
  {
   "cell_type": "code",
   "execution_count": 98,
   "id": "e1e3e463-ed51-4706-8442-26aa98e42d81",
   "metadata": {},
   "outputs": [
    {
     "name": "stdin",
     "output_type": "stream",
     "text": [
      " 6\n",
      " 7 7 7 7 21 63\n"
     ]
    }
   ],
   "source": [
    "N = int(input())\n",
    "A = list(map(int, input().split()))"
   ]
  },
  {
   "cell_type": "code",
   "execution_count": 99,
   "id": "580be686-effd-4439-a95b-eb61f236e27f",
   "metadata": {},
   "outputs": [
    {
     "data": {
      "text/plain": [
       "[7, 7, 7, 7, 21, 63]"
      ]
     },
     "execution_count": 99,
     "metadata": {},
     "output_type": "execute_result"
    }
   ],
   "source": [
    "A"
   ]
  },
  {
   "cell_type": "code",
   "execution_count": 100,
   "id": "ce13f3d6-6504-448b-950f-c4dca2c98196",
   "metadata": {},
   "outputs": [],
   "source": [
    "import math\n",
    "from functools import reduce\n",
    "\n",
    "def my_gcd(*numbers):\n",
    "    return reduce(math.gcd, numbers)\n",
    "\n",
    "# def my_lcm_base(x, y):\n",
    "#     return (x * y) // math.gcd(x, y)\n",
    "\n",
    "# def my_lcm(*numbers):\n",
    "#     return reduce(my_lcm_base, numbers, 1)"
   ]
  },
  {
   "cell_type": "code",
   "execution_count": 101,
   "id": "8a8409e5-29c3-4490-b6e8-5441bc509b68",
   "metadata": {},
   "outputs": [
    {
     "data": {
      "text/plain": [
       "7"
      ]
     },
     "execution_count": 101,
     "metadata": {},
     "output_type": "execute_result"
    }
   ],
   "source": [
    "gcd = my_gcd(*A)\n",
    "gcd"
   ]
  },
  {
   "cell_type": "code",
   "execution_count": 102,
   "id": "ee717a70-0590-40f7-b871-e3e8c66a56d6",
   "metadata": {},
   "outputs": [],
   "source": [
    "# my_lcm(*A)"
   ]
  },
  {
   "cell_type": "code",
   "execution_count": 103,
   "id": "e6c9838c-45e0-4707-ab8e-c5d698456d60",
   "metadata": {},
   "outputs": [
    {
     "data": {
      "text/plain": [
       "[1, 1, 1, 1, 3, 9]"
      ]
     },
     "execution_count": 103,
     "metadata": {},
     "output_type": "execute_result"
    }
   ],
   "source": [
    "B = []\n",
    "for a in A:\n",
    "    B.append(a // gcd)\n",
    "B"
   ]
  },
  {
   "cell_type": "code",
   "execution_count": 104,
   "id": "3243979f-6cdb-4675-84dc-ddaf849cd0f2",
   "metadata": {},
   "outputs": [],
   "source": [
    "# 素因数分解\n",
    "# 460 = 2^2 x 5 x 23 の場合\n",
    "# 返り値は [(2, 2), (5, 1), (23, 1)]\n",
    "def prime_factorize(N):\n",
    "    # 答えを表す可変長配列\n",
    "    res = []\n",
    "\n",
    "    # √N まで試し割っていく\n",
    "    for p in range(2, N):\n",
    "        # p * p <= N の範囲でよい\n",
    "        if p * p > N:\n",
    "            break\n",
    "\n",
    "        # N が p で割り切れないならばスキップ\n",
    "        if N % p != 0:\n",
    "            continue\n",
    "\n",
    "        # N の素因数 p に対する指数を求める\n",
    "        e = 0\n",
    "        while N % p == 0:\n",
    "            # 指数を 1 増やす\n",
    "            e += 1\n",
    "\n",
    "            # N を p で割る\n",
    "            N //= p\n",
    "\n",
    "        # 答えに追加\n",
    "        res.append((p, e))\n",
    "\n",
    "    # 素数が最後に残ることがありうる\n",
    "    if N != 1:\n",
    "        res.append((N, 1))\n",
    "\n",
    "    return res"
   ]
  },
  {
   "cell_type": "code",
   "execution_count": 105,
   "id": "c91f8881-e75c-4dcf-b7d3-d2e1416d8ddf",
   "metadata": {},
   "outputs": [
    {
     "name": "stdout",
     "output_type": "stream",
     "text": [
      "3\n"
     ]
    }
   ],
   "source": [
    "count = 0\n",
    "for b in B:\n",
    "    tmp = prime_factorize(b)\n",
    "    for x, y in tmp:\n",
    "        if x != 2 and x != 3:\n",
    "            print (-1)\n",
    "            exit()\n",
    "        else:\n",
    "            count += y\n",
    "print (count)"
   ]
  },
  {
   "cell_type": "code",
   "execution_count": null,
   "id": "419374d6-d534-48c8-a641-12945effd79e",
   "metadata": {},
   "outputs": [],
   "source": []
  },
  {
   "cell_type": "code",
   "execution_count": null,
   "id": "a5920e37-7c8c-48ba-bc88-083b62a8f85e",
   "metadata": {},
   "outputs": [],
   "source": []
  }
 ],
 "metadata": {
  "kernelspec": {
   "display_name": "Python 3 (ipykernel)",
   "language": "python",
   "name": "python3"
  },
  "language_info": {
   "codemirror_mode": {
    "name": "ipython",
    "version": 3
   },
   "file_extension": ".py",
   "mimetype": "text/x-python",
   "name": "python",
   "nbconvert_exporter": "python",
   "pygments_lexer": "ipython3",
   "version": "3.8.13"
  }
 },
 "nbformat": 4,
 "nbformat_minor": 5
}
