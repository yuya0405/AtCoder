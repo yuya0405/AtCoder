{
 "cells": [
  {
   "cell_type": "code",
   "execution_count": 1,
   "id": "cfe20923-0fc2-4d18-bf2d-cd9fa9789055",
   "metadata": {},
   "outputs": [
    {
     "name": "stdin",
     "output_type": "stream",
     "text": [
      " 6 6\n",
      " 3 6\n",
      " 1 3\n",
      " 5 6\n",
      " 2 5\n",
      " 1 2\n",
      " 1 6\n"
     ]
    }
   ],
   "source": [
    "N, M = map(int, input().split())\n",
    "AB = [list(map(int, input().split())) for _ in range(M)]"
   ]
  },
  {
   "cell_type": "code",
   "execution_count": 2,
   "id": "e3096090-873d-4030-b685-d9571e775785",
   "metadata": {},
   "outputs": [
    {
     "data": {
      "text/plain": [
       "[[3, 6], [1, 3], [5, 6], [2, 5], [1, 2], [1, 6]]"
      ]
     },
     "execution_count": 2,
     "metadata": {},
     "output_type": "execute_result"
    }
   ],
   "source": [
    "AB"
   ]
  },
  {
   "cell_type": "code",
   "execution_count": 7,
   "id": "30d6939c-a44b-4956-8b48-cdb4233cdd8a",
   "metadata": {},
   "outputs": [
    {
     "data": {
      "text/plain": [
       "[[3, 2, 6], [5, 1], [6, 1], [], [6, 2], [3, 5, 1]]"
      ]
     },
     "execution_count": 7,
     "metadata": {},
     "output_type": "execute_result"
    }
   ],
   "source": [
    "G = [[] for i in range(N)]\n",
    "for a, b in AB:\n",
    "    G[a-1].append(b)\n",
    "    G[b-1].append(a)\n",
    "G"
   ]
  },
  {
   "cell_type": "code",
   "execution_count": 15,
   "id": "536de01e-7695-4ddf-929e-23d7b782089b",
   "metadata": {},
   "outputs": [
    {
     "name": "stdout",
     "output_type": "stream",
     "text": [
      "3 2 3 6\n",
      "2 1 5\n",
      "2 1 6\n",
      "0\n",
      "2 2 6\n",
      "3 1 3 5\n"
     ]
    }
   ],
   "source": [
    "for g in G:\n",
    "    print (len(g), *sorted(g))"
   ]
  },
  {
   "cell_type": "code",
   "execution_count": null,
   "id": "403200d7-8ee0-470a-bd2a-b364c58b665f",
   "metadata": {},
   "outputs": [],
   "source": []
  }
 ],
 "metadata": {
  "kernelspec": {
   "display_name": "Python 3 (ipykernel)",
   "language": "python",
   "name": "python3"
  },
  "language_info": {
   "codemirror_mode": {
    "name": "ipython",
    "version": 3
   },
   "file_extension": ".py",
   "mimetype": "text/x-python",
   "name": "python",
   "nbconvert_exporter": "python",
   "pygments_lexer": "ipython3",
   "version": "3.8.13"
  }
 },
 "nbformat": 4,
 "nbformat_minor": 5
}
