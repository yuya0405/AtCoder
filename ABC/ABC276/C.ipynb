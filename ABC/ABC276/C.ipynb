{
 "cells": [
  {
   "cell_type": "code",
   "execution_count": 112,
   "id": "8a8d6d0c-4759-48c3-a5e8-c832de4b9e23",
   "metadata": {},
   "outputs": [
    {
     "name": "stdin",
     "output_type": "stream",
     "text": [
      " 2\n",
      " 2 1\n"
     ]
    }
   ],
   "source": [
    "N = int(input())\n",
    "P = list(map(int, input().split()))"
   ]
  },
  {
   "cell_type": "code",
   "execution_count": 113,
   "id": "ff0829e3-8d7d-424e-86cf-1bdf5971bb91",
   "metadata": {},
   "outputs": [
    {
     "data": {
      "text/plain": [
       "inf"
      ]
     },
     "execution_count": 113,
     "metadata": {},
     "output_type": "execute_result"
    }
   ],
   "source": [
    "tmp = float('inf')\n",
    "tmp"
   ]
  },
  {
   "cell_type": "code",
   "execution_count": 114,
   "id": "b22c33ac-5f7a-4107-9c12-ec9745bb87ea",
   "metadata": {},
   "outputs": [
    {
     "data": {
      "text/plain": [
       "[1, 2]"
      ]
     },
     "execution_count": 114,
     "metadata": {},
     "output_type": "execute_result"
    }
   ],
   "source": [
    "memory = []\n",
    "\n",
    "for p in P[::-1]:\n",
    "    if p < tmp:\n",
    "        memory.append(p)\n",
    "        tmp = p\n",
    "    else:\n",
    "        memory.append(p)\n",
    "        break\n",
    "memory"
   ]
  },
  {
   "cell_type": "code",
   "execution_count": 115,
   "id": "4a7bc98c-576b-4593-afbb-5514634e6e1d",
   "metadata": {},
   "outputs": [
    {
     "data": {
      "text/plain": [
       "2"
      ]
     },
     "execution_count": 115,
     "metadata": {},
     "output_type": "execute_result"
    }
   ],
   "source": [
    "length = len(memory)\n",
    "length"
   ]
  },
  {
   "cell_type": "code",
   "execution_count": 116,
   "id": "9d021b86-633f-4de6-b66a-857674bd8796",
   "metadata": {},
   "outputs": [
    {
     "data": {
      "text/plain": [
       "1"
      ]
     },
     "execution_count": 116,
     "metadata": {},
     "output_type": "execute_result"
    }
   ],
   "source": [
    "candidate = []\n",
    "\n",
    "for m in memory[:-1]:\n",
    "    if m < memory[-1]:\n",
    "        candidate.append(m)\n",
    "ans1 = max(candidate)\n",
    "ans1"
   ]
  },
  {
   "cell_type": "code",
   "execution_count": 117,
   "id": "8daf5d6a-2a50-4030-a968-0e62ed7bb18e",
   "metadata": {},
   "outputs": [
    {
     "data": {
      "text/plain": [
       "[2]"
      ]
     },
     "execution_count": 117,
     "metadata": {},
     "output_type": "execute_result"
    }
   ],
   "source": [
    "memory.remove(ans1)\n",
    "ans2 = sorted(memory, reverse=True)\n",
    "ans2"
   ]
  },
  {
   "cell_type": "code",
   "execution_count": 118,
   "id": "b868e2f9-15ca-4a1f-812b-6a177c5fad74",
   "metadata": {},
   "outputs": [
    {
     "data": {
      "text/plain": [
       "[]"
      ]
     },
     "execution_count": 118,
     "metadata": {},
     "output_type": "execute_result"
    }
   ],
   "source": [
    "ans0 = P[:N-length]\n",
    "ans0"
   ]
  },
  {
   "cell_type": "code",
   "execution_count": 119,
   "id": "95ffd424-2ef8-4784-bd06-d02ffa3583c8",
   "metadata": {},
   "outputs": [
    {
     "name": "stdout",
     "output_type": "stream",
     "text": [
      "1 2\n"
     ]
    }
   ],
   "source": [
    "print (*(ans0 + [ans1] + ans2))"
   ]
  },
  {
   "cell_type": "code",
   "execution_count": null,
   "id": "57811fc4-0287-4087-a578-fd494da6190b",
   "metadata": {},
   "outputs": [],
   "source": []
  }
 ],
 "metadata": {
  "kernelspec": {
   "display_name": "Python 3 (ipykernel)",
   "language": "python",
   "name": "python3"
  },
  "language_info": {
   "codemirror_mode": {
    "name": "ipython",
    "version": 3
   },
   "file_extension": ".py",
   "mimetype": "text/x-python",
   "name": "python",
   "nbconvert_exporter": "python",
   "pygments_lexer": "ipython3",
   "version": "3.8.13"
  }
 },
 "nbformat": 4,
 "nbformat_minor": 5
}
