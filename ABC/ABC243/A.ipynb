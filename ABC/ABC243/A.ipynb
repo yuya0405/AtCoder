{
 "cells": [
  {
   "cell_type": "code",
   "execution_count": 5,
   "id": "aec1e029-3e4a-46a8-95be-769aeae243b8",
   "metadata": {},
   "outputs": [
    {
     "name": "stdin",
     "output_type": "stream",
     "text": [
      " 100000 1 1 1\n"
     ]
    }
   ],
   "source": [
    "V, A, B, C = map(int, input().split())"
   ]
  },
  {
   "cell_type": "code",
   "execution_count": 6,
   "id": "fbd73d65-146e-47df-b6f4-34a31bc4d5aa",
   "metadata": {},
   "outputs": [
    {
     "name": "stdout",
     "output_type": "stream",
     "text": [
      "M\n"
     ]
    }
   ],
   "source": [
    "while(1):\n",
    "    V -= A\n",
    "    if V < 0:\n",
    "        print (\"F\")\n",
    "        break\n",
    "    V -=B\n",
    "    if V < 0:\n",
    "        print (\"M\")\n",
    "        break\n",
    "    V -= C\n",
    "    if V < 0:\n",
    "        print (\"T\")\n",
    "        break"
   ]
  },
  {
   "cell_type": "code",
   "execution_count": null,
   "id": "62fb3c63-66f0-4867-9736-11c9d6467e16",
   "metadata": {},
   "outputs": [],
   "source": []
  }
 ],
 "metadata": {
  "kernelspec": {
   "display_name": "Python 3",
   "language": "python",
   "name": "python3"
  },
  "language_info": {
   "codemirror_mode": {
    "name": "ipython",
    "version": 3
   },
   "file_extension": ".py",
   "mimetype": "text/x-python",
   "name": "python",
   "nbconvert_exporter": "python",
   "pygments_lexer": "ipython3",
   "version": "3.8.8"
  }
 },
 "nbformat": 4,
 "nbformat_minor": 5
}
