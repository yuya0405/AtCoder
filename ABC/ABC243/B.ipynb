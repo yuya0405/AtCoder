{
 "cells": [
  {
   "cell_type": "code",
   "execution_count": 29,
   "id": "e344e86c-2d70-464a-8434-342130f6fa14",
   "metadata": {},
   "outputs": [],
   "source": [
    "N = int(input())\n",
    "A = list(map(int, input().split()))\n",
    "B = list(map(int, input().split()))\n",
    "\n",
    "ans = 0\n",
    "for i in range(N):\n",
    "    if A[i] == B[i]:\n",
    "        ans += 1\n",
    "print (ans)\n",
    "\n",
    "A_set = set(A)\n",
    "B_set = set(B)\n",
    "\n",
    "print (len(A_set & B_set) - ans)"
   ]
  },
  {
   "cell_type": "code",
   "execution_count": null,
   "id": "8564ac21-6638-495a-8280-e7c74d2d187a",
   "metadata": {},
   "outputs": [],
   "source": []
  }
 ],
 "metadata": {
  "kernelspec": {
   "display_name": "Python 3",
   "language": "python",
   "name": "python3"
  },
  "language_info": {
   "codemirror_mode": {
    "name": "ipython",
    "version": 3
   },
   "file_extension": ".py",
   "mimetype": "text/x-python",
   "name": "python",
   "nbconvert_exporter": "python",
   "pygments_lexer": "ipython3",
   "version": "3.8.8"
  }
 },
 "nbformat": 4,
 "nbformat_minor": 5
}
