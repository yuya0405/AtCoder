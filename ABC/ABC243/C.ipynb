{
 "cells": [
  {
   "cell_type": "code",
   "execution_count": 61,
   "id": "8d6be75c-6ac3-49cc-a376-1ea4f2704a40",
   "metadata": {},
   "outputs": [
    {
     "name": "stdin",
     "output_type": "stream",
     "text": [
      " 3\n",
      " 2 3\n",
      " 1 1\n",
      " 4 1\n",
      " RRL\n"
     ]
    }
   ],
   "source": [
    "N = int(input())\n",
    "XY = [list(map(int, input().split())) for _ in range(N)]\n",
    "S = input()"
   ]
  },
  {
   "cell_type": "code",
   "execution_count": null,
   "id": "2612b28e-8d01-44f4-a5f2-d0d7ecf158be",
   "metadata": {},
   "outputs": [],
   "source": []
  },
  {
   "cell_type": "code",
   "execution_count": 40,
   "id": "cd8fd588-f9a1-4c30-9012-768e4ce0f620",
   "metadata": {},
   "outputs": [
    {
     "name": "stdout",
     "output_type": "stream",
     "text": [
      "No\n"
     ]
    }
   ],
   "source": [
    "# ケース見落とし\n",
    "\n",
    "# 座標圧縮したい数列\n",
    "Y = [y for i, (x, y) in enumerate(XY)]\n",
    "\n",
    "# 集合型にすることで重複を除去し、\n",
    "# 小さい順にソートする\n",
    "B = sorted(set(Y))\n",
    "\n",
    "# B の各要素が何番目の要素なのかを辞書型で管理する\n",
    "D = { v: i for i, v in enumerate(B) }\n",
    "\n",
    "# 答え\n",
    "Y2 = []\n",
    "for i in range(len(Y)):\n",
    "    Y2.append(D[Y[i]])\n",
    "\n",
    "dp_R = [0] * (2*(10**5)+1)\n",
    "dp_L = [0] * (2*(10**5)+1)\n",
    "\n",
    "for i, (s, y) in enumerate(zip(S, Y2)):\n",
    "    if s == \"R\" and dp_L[y] > 0:\n",
    "        print (\"Yes\")\n",
    "    elif s == \"L\" and dp_R[y] > 0:\n",
    "        print (\"Yes\")\n",
    "        \n",
    "    if s == \"R\":\n",
    "        dp_R[y] += 1\n",
    "    else:\n",
    "        dp_L[y] += 1\n",
    "print (\"No\")"
   ]
  }
 ],
 "metadata": {
  "kernelspec": {
   "display_name": "Python 3",
   "language": "python",
   "name": "python3"
  },
  "language_info": {
   "codemirror_mode": {
    "name": "ipython",
    "version": 3
   },
   "file_extension": ".py",
   "mimetype": "text/x-python",
   "name": "python",
   "nbconvert_exporter": "python",
   "pygments_lexer": "ipython3",
   "version": "3.8.8"
  }
 },
 "nbformat": 4,
 "nbformat_minor": 5
}
