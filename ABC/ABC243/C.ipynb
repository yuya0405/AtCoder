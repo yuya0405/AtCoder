{
 "cells": [
  {
   "cell_type": "code",
   "execution_count": 154,
   "id": "8d6be75c-6ac3-49cc-a376-1ea4f2704a40",
   "metadata": {},
   "outputs": [
    {
     "name": "stdin",
     "output_type": "stream",
     "text": [
      " 3\n",
      " 2 3\n",
      " 1 1\n",
      " 4 1\n",
      " RRL\n"
     ]
    }
   ],
   "source": [
    "N = int(input())\n",
    "XY = [list(map(int, input().split())) for _ in range(N)]\n",
    "S = input()"
   ]
  },
  {
   "cell_type": "code",
   "execution_count": 156,
   "id": "d8bdc135-3ba2-483a-93a6-e2755f387ed1",
   "metadata": {},
   "outputs": [
    {
     "name": "stdout",
     "output_type": "stream",
     "text": [
      "Yes\n",
      "No\n"
     ]
    }
   ],
   "source": [
    "# AC\n",
    "\n",
    "from collections import defaultdict\n",
    "\n",
    "dict_R = defaultdict(lambda: 10**9+1)\n",
    "dict_L = defaultdict(lambda: -1)\n",
    "\n",
    "for (x, y), s in zip(XY, S):\n",
    "    if s == \"R\" and dict_R[y] > x:\n",
    "        dict_R[y] = x\n",
    "    elif s == \"L\" and dict_L[y] < x:\n",
    "        dict_L[y] = x\n",
    "\n",
    "for key in dict_R.keys():\n",
    "    if dict_L[key] != -1 and dict_R[key] < dict_L[key]:\n",
    "        print (\"Yes\")\n",
    "        exit()\n",
    "print (\"No\")"
   ]
  },
  {
   "cell_type": "code",
   "execution_count": 40,
   "id": "cd8fd588-f9a1-4c30-9012-768e4ce0f620",
   "metadata": {},
   "outputs": [
    {
     "name": "stdout",
     "output_type": "stream",
     "text": [
      "No\n"
     ]
    }
   ],
   "source": [
    "# ケース見落とし\n",
    "\n",
    "# 座標圧縮したい数列\n",
    "Y = [y for i, (x, y) in enumerate(XY)]\n",
    "\n",
    "# 集合型にすることで重複を除去し、\n",
    "# 小さい順にソートする\n",
    "B = sorted(set(Y))\n",
    "\n",
    "# B の各要素が何番目の要素なのかを辞書型で管理する\n",
    "D = { v: i for i, v in enumerate(B) }\n",
    "\n",
    "# 答え\n",
    "Y2 = []\n",
    "for i in range(len(Y)):\n",
    "    Y2.append(D[Y[i]])\n",
    "\n",
    "dp_R = [0] * (2*(10**5)+1)\n",
    "dp_L = [0] * (2*(10**5)+1)\n",
    "\n",
    "for i, (s, y) in enumerate(zip(S, Y2)):\n",
    "    if s == \"R\" and dp_L[y] > 0:\n",
    "        print (\"Yes\")\n",
    "    elif s == \"L\" and dp_R[y] > 0:\n",
    "        print (\"Yes\")\n",
    "        \n",
    "    if s == \"R\":\n",
    "        dp_R[y] += 1\n",
    "    else:\n",
    "        dp_L[y] += 1\n",
    "print (\"No\")"
   ]
  }
 ],
 "metadata": {
  "kernelspec": {
   "display_name": "Python 3",
   "language": "python",
   "name": "python3"
  },
  "language_info": {
   "codemirror_mode": {
    "name": "ipython",
    "version": 3
   },
   "file_extension": ".py",
   "mimetype": "text/x-python",
   "name": "python",
   "nbconvert_exporter": "python",
   "pygments_lexer": "ipython3",
   "version": "3.8.8"
  }
 },
 "nbformat": 4,
 "nbformat_minor": 5
}
