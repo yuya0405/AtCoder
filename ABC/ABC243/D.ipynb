{
 "cells": [
  {
   "cell_type": "code",
   "execution_count": 63,
   "id": "b8087900-d48c-4b1c-bf34-17d566aa53c6",
   "metadata": {},
   "outputs": [],
   "source": [
    "N, X = map(int, input().split())\n",
    "S = input()\n",
    "\n",
    "count = 0\n",
    "S_new = []\n",
    "for s in S[::-1]:\n",
    "    if s == \"U\":\n",
    "        count += 1\n",
    "    elif count > 0:\n",
    "        count -= 1\n",
    "        continue\n",
    "    if count == 0 and s == \"L\":\n",
    "        S_new.append(1)\n",
    "    elif count == 0 and s == \"R\":\n",
    "        S_new.append(2)\n",
    "while(count > 0):\n",
    "    S_new.append(0)\n",
    "    count -= 1\n",
    "\n",
    "for s in S_new[::-1]:\n",
    "    if s == 0:\n",
    "        X //= 2\n",
    "    elif s == 1:\n",
    "        X *= 2\n",
    "    elif s == 2:\n",
    "        X *= 2\n",
    "        X += 1\n",
    "print (X)"
   ]
  },
  {
   "cell_type": "code",
   "execution_count": null,
   "id": "5d3d82d5-31c6-4bba-bbc8-a64b6307bf7e",
   "metadata": {},
   "outputs": [],
   "source": []
  }
 ],
 "metadata": {
  "kernelspec": {
   "display_name": "Python 3",
   "language": "python",
   "name": "python3"
  },
  "language_info": {
   "codemirror_mode": {
    "name": "ipython",
    "version": 3
   },
   "file_extension": ".py",
   "mimetype": "text/x-python",
   "name": "python",
   "nbconvert_exporter": "python",
   "pygments_lexer": "ipython3",
   "version": "3.8.8"
  }
 },
 "nbformat": 4,
 "nbformat_minor": 5
}
