{
 "cells": [
  {
   "cell_type": "code",
   "execution_count": 1,
   "id": "d5798e91-cd11-4eaa-960c-90cd2054d863",
   "metadata": {},
   "outputs": [
    {
     "name": "stdin",
     "output_type": "stream",
     "text": [
      " 3 4\n",
      " 3 4\n",
      " 2 3\n",
      " 4 2\n"
     ]
    },
    {
     "name": "stdout",
     "output_type": "stream",
     "text": [
      "18\n"
     ]
    }
   ],
   "source": [
    "N, X = map(int, input().split())\n",
    "AB = [list(map(int, input().split())) for _ in range(N)]\n",
    "\n",
    "# dp[i][j] -> 現在iステージ目にいてj回クリアしている最短時間\n",
    "dp = [[0] * (X+1) for _ in range(N)]\n",
    "\n",
    "dp[0][0] = AB[0][0]\n",
    "\n",
    "for j in range(1, X+1):\n",
    "    dp[0][j] = dp[0][j-1] + AB[0][1]\n",
    "\n",
    "for i in range(1, N):\n",
    "    for j in range(i, X+1):\n",
    "        if i == j:\n",
    "            dp[i][j] = dp[i-1][j] + AB[i][0]\n",
    "        else:\n",
    "            dp[i][j] = min(dp[i][j-1] + AB[i][1], dp[i-1][j] + AB[i][0])\n",
    "\n",
    "ans = float('inf')\n",
    "\n",
    "for i in range(N):\n",
    "    ans = min(ans, dp[i][X])\n",
    "print (ans)"
   ]
  },
  {
   "cell_type": "code",
   "execution_count": null,
   "id": "b5e6d86e-f96c-4d30-9dd6-04f98126f584",
   "metadata": {},
   "outputs": [],
   "source": []
  }
 ],
 "metadata": {
  "kernelspec": {
   "display_name": "Python 3 (ipykernel)",
   "language": "python",
   "name": "python3"
  },
  "language_info": {
   "codemirror_mode": {
    "name": "ipython",
    "version": 3
   },
   "file_extension": ".py",
   "mimetype": "text/x-python",
   "name": "python",
   "nbconvert_exporter": "python",
   "pygments_lexer": "ipython3",
   "version": "3.9.13"
  }
 },
 "nbformat": 4,
 "nbformat_minor": 5
}
