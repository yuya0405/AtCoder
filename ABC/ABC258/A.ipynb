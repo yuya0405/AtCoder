{
 "cells": [
  {
   "cell_type": "code",
   "execution_count": 15,
   "id": "dcb8c6bc-c943-4c00-8d6c-57642f42c4ed",
   "metadata": {},
   "outputs": [],
   "source": [
    "K = int(input())\n",
    "\n",
    "hour = K //60\n",
    "if hour == 1:\n",
    "    minute = K - 60\n",
    "else:\n",
    "    minute = K\n",
    "\n",
    "print (str(21+hour)+\":\"+str(minute).rjust(2, '0'))"
   ]
  },
  {
   "cell_type": "code",
   "execution_count": null,
   "id": "271e3a8e-d712-4eee-b774-a20b4f38526c",
   "metadata": {},
   "outputs": [],
   "source": []
  }
 ],
 "metadata": {
  "kernelspec": {
   "display_name": "Python 3 (ipykernel)",
   "language": "python",
   "name": "python3"
  },
  "language_info": {
   "codemirror_mode": {
    "name": "ipython",
    "version": 3
   },
   "file_extension": ".py",
   "mimetype": "text/x-python",
   "name": "python",
   "nbconvert_exporter": "python",
   "pygments_lexer": "ipython3",
   "version": "3.9.13"
  }
 },
 "nbformat": 4,
 "nbformat_minor": 5
}
