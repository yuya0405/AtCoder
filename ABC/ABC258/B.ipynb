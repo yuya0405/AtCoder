{
 "cells": [
  {
   "cell_type": "code",
   "execution_count": 97,
   "id": "ef55981a-d74c-4ed6-8fd9-a6425e50e752",
   "metadata": {},
   "outputs": [
    {
     "name": "stdin",
     "output_type": "stream",
     "text": [
      " 10\n",
      " 1111111111\n",
      " 1111111111\n",
      " 1111111111\n",
      " 1111111111\n",
      " 1111111111\n",
      " 1111111111\n",
      " 1111111111\n",
      " 1111111111\n",
      " 1111111111\n",
      " 1111111111\n"
     ]
    },
    {
     "name": "stdout",
     "output_type": "stream",
     "text": [
      "1111111111\n"
     ]
    }
   ],
   "source": [
    "N = int(input())\n",
    "A = [list(map(int, input().split())) for _ in range(N)]\n",
    "\n",
    "max_num = int(max([max(str(a[0])) for a in A]))\n",
    "\n",
    "ans = 0\n",
    "\n",
    "dxs = [0,1,1,1,0,-1,-1,-1]\n",
    "dys = [-1,-1,0,1,1,1,0,-1]\n",
    "\n",
    "for i in range(N):\n",
    "    for j in range(N):\n",
    "        if int(str(A[i][0])[j]) == max_num:\n",
    "            for dx, dy in zip(dxs, dys):\n",
    "                walk = []\n",
    "                for k in range(N):\n",
    "                    walk.append(int(str(A[(i+dy*k)%N][0])[(j+dx*k)%N]))\n",
    "                tmp = int(''.join([str(w) for w in walk]))\n",
    "                ans = max(ans, tmp)\n",
    "print (ans)"
   ]
  },
  {
   "cell_type": "code",
   "execution_count": null,
   "id": "af15e824-1b87-4043-bc6f-1062a0aed8da",
   "metadata": {},
   "outputs": [],
   "source": []
  }
 ],
 "metadata": {
  "kernelspec": {
   "display_name": "Python 3 (ipykernel)",
   "language": "python",
   "name": "python3"
  },
  "language_info": {
   "codemirror_mode": {
    "name": "ipython",
    "version": 3
   },
   "file_extension": ".py",
   "mimetype": "text/x-python",
   "name": "python",
   "nbconvert_exporter": "python",
   "pygments_lexer": "ipython3",
   "version": "3.9.13"
  }
 },
 "nbformat": 4,
 "nbformat_minor": 5
}
