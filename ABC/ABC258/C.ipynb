{
 "cells": [
  {
   "cell_type": "code",
   "execution_count": 25,
   "id": "1b6b256d-019c-44ea-acc4-ae09366a08ee",
   "metadata": {},
   "outputs": [
    {
     "name": "stdin",
     "output_type": "stream",
     "text": [
      " 3 3\n",
      " abc\n",
      " 2 2\n",
      " 1 1\n",
      " 2 2\n"
     ]
    },
    {
     "name": "stdout",
     "output_type": "stream",
     "text": [
      "b\n",
      "a\n"
     ]
    }
   ],
   "source": [
    "N, Q = map(int, input().split())\n",
    "S = input()\n",
    "queries = [list(map(int, input().split())) for _ in range(Q)]\n",
    "\n",
    "head = 0\n",
    "for query in queries:\n",
    "    # print (query)\n",
    "    if query[0] == 1:\n",
    "        head = (head - query[1]) % N\n",
    "    elif query[0] == 2:\n",
    "        # print (head, query[1])\n",
    "        print (S[(head + query[1]) % N - 1])"
   ]
  },
  {
   "cell_type": "code",
   "execution_count": null,
   "id": "3dc07576-6017-4073-9b83-29003fb8982e",
   "metadata": {},
   "outputs": [],
   "source": []
  }
 ],
 "metadata": {
  "kernelspec": {
   "display_name": "Python 3 (ipykernel)",
   "language": "python",
   "name": "python3"
  },
  "language_info": {
   "codemirror_mode": {
    "name": "ipython",
    "version": 3
   },
   "file_extension": ".py",
   "mimetype": "text/x-python",
   "name": "python",
   "nbconvert_exporter": "python",
   "pygments_lexer": "ipython3",
   "version": "3.9.13"
  }
 },
 "nbformat": 4,
 "nbformat_minor": 5
}
