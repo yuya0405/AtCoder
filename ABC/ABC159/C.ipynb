{
 "cells": [
  {
   "cell_type": "code",
   "execution_count": 7,
   "id": "c1f663d4-4821-4d78-a056-b799242d8eed",
   "metadata": {},
   "outputs": [],
   "source": [
    "L = int(input())\n",
    "\n",
    "length = L/3.0\n",
    "\n",
    "print (length*length*length)"
   ]
  },
  {
   "cell_type": "code",
   "execution_count": null,
   "id": "9066c757-5ce0-4c75-94ef-02b652ec8521",
   "metadata": {},
   "outputs": [],
   "source": []
  }
 ],
 "metadata": {
  "kernelspec": {
   "display_name": "Python 3",
   "language": "python",
   "name": "python3"
  },
  "language_info": {
   "codemirror_mode": {
    "name": "ipython",
    "version": 3
   },
   "file_extension": ".py",
   "mimetype": "text/x-python",
   "name": "python",
   "nbconvert_exporter": "python",
   "pygments_lexer": "ipython3",
   "version": "3.8.8"
  }
 },
 "nbformat": 4,
 "nbformat_minor": 5
}
