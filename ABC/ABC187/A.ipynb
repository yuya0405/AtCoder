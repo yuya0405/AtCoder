{
 "cells": [
  {
   "cell_type": "code",
   "execution_count": 12,
   "metadata": {},
   "outputs": [
    {
     "name": "stdout",
     "output_type": "stream",
     "text": [
      "123 234\n",
      "9\n"
     ]
    }
   ],
   "source": [
    "A, B = map(str, input().split())\n",
    "\n",
    "A_sum = 0\n",
    "B_sum = 0\n",
    "\n",
    "for i in A:\n",
    "    A_sum += int(i)\n",
    "for i in B:\n",
    "    B_sum += int(i)\n",
    "    \n",
    "if A_sum >= B_sum:\n",
    "    print(A_sum)\n",
    "else:\n",
    "    print(B_sum)"
   ]
  }
 ],
 "metadata": {
  "kernelspec": {
   "display_name": "Python 3",
   "language": "python",
   "name": "python3"
  },
  "language_info": {
   "codemirror_mode": {
    "name": "ipython",
    "version": 3
   },
   "file_extension": ".py",
   "mimetype": "text/x-python",
   "name": "python",
   "nbconvert_exporter": "python",
   "pygments_lexer": "ipython3",
   "version": "3.8.5"
  }
 },
 "nbformat": 4,
 "nbformat_minor": 4
}
