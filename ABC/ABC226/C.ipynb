{
 "cells": [
  {
   "cell_type": "code",
   "execution_count": 59,
   "id": "974c0a30-eae6-4fa5-a3d4-b2a5cf7c0938",
   "metadata": {},
   "outputs": [
    {
     "name": "stdin",
     "output_type": "stream",
     "text": [
      " 3\n",
      " 3 0\n",
      " 5 1 1\n",
      " 7 1 1\n"
     ]
    },
    {
     "name": "stdout",
     "output_type": "stream",
     "text": [
      "10\n"
     ]
    }
   ],
   "source": [
    "N = int(input())\n",
    "TKA = [list(map(int, input().split())) for _ in range(N)]\n",
    "\n",
    "time = 0\n",
    "candidate = [N]\n",
    "\n",
    "while 1:\n",
    "    if candidate == []:\n",
    "        break\n",
    "    else:\n",
    "        c = candidate[0]\n",
    "        candidate.remove(c)\n",
    "        time += TKA[c-1][0]\n",
    "        \n",
    "        for tmp in TKA[c-1][2:]:\n",
    "            if tmp not in candidate:\n",
    "                candidate.append(tmp)\n",
    "        else:\n",
    "            pass\n",
    "print (time)"
   ]
  },
  {
   "cell_type": "code",
   "execution_count": null,
   "id": "a4280186-f504-46f7-97b9-c2586656733b",
   "metadata": {},
   "outputs": [],
   "source": []
  }
 ],
 "metadata": {
  "kernelspec": {
   "display_name": "Python 3",
   "language": "python",
   "name": "python3"
  },
  "language_info": {
   "codemirror_mode": {
    "name": "ipython",
    "version": 3
   },
   "file_extension": ".py",
   "mimetype": "text/x-python",
   "name": "python",
   "nbconvert_exporter": "python",
   "pygments_lexer": "ipython3",
   "version": "3.8.8"
  }
 },
 "nbformat": 4,
 "nbformat_minor": 5
}
