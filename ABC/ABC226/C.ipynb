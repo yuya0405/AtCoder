{
 "cells": [
  {
   "cell_type": "code",
   "execution_count": 2,
   "id": "c5d17949-65b6-4d6d-b1bf-3d5cdee383a7",
   "metadata": {},
   "outputs": [
    {
     "name": "stdin",
     "output_type": "stream",
     "text": [
      " 3\n",
      " 1 0\n",
      " 2 1 1\n",
      " 11 2 1 2\n"
     ]
    }
   ],
   "source": [
    "N = int(input())\n",
    "TKA = [list(map(int, input().split())) for _ in range(N)]"
   ]
  },
  {
   "cell_type": "code",
   "execution_count": 3,
   "id": "80616812-53ff-4ca2-aa67-219b4fb838a6",
   "metadata": {},
   "outputs": [
    {
     "data": {
      "text/plain": [
       "[[1, 0], [2, 1, 1], [11, 2, 1, 2]]"
      ]
     },
     "execution_count": 3,
     "metadata": {},
     "output_type": "execute_result"
    }
   ],
   "source": [
    "TKA"
   ]
  },
  {
   "cell_type": "code",
   "execution_count": null,
   "id": "8057b49e-1e59-4ca1-a575-4fad2ef32d5d",
   "metadata": {},
   "outputs": [],
   "source": [
    "# TLE\n",
    "\n",
    "time = 0\n",
    "candidate = [N]\n",
    "\n",
    "while 1:\n",
    "    if candidate == []:\n",
    "        break\n",
    "    else:\n",
    "        c = candidate[0]\n",
    "        candidate.remove(c)\n",
    "        time += TKA[c-1][0]\n",
    "        \n",
    "        for tmp in TKA[c-1][2:]:\n",
    "            if tmp not in candidate:\n",
    "                candidate.append(tmp)\n",
    "        else:\n",
    "            pass\n",
    "print (time)"
   ]
  },
  {
   "cell_type": "code",
   "execution_count": null,
   "id": "a4280186-f504-46f7-97b9-c2586656733b",
   "metadata": {},
   "outputs": [],
   "source": [
    "# forループで解く\n",
    "\n",
    "T = [0] + [row[0] for row in TKA]\n",
    "K = [0] + [row[1] for row in TKA]\n",
    "A = [[]] + [row[2:] for row in TKA]\n",
    "\n",
    "acquired = [False]*(N+1)\n",
    "acquired[N] = True\n",
    "\n",
    "for i in range(N, 0, -1):\n",
    "    if acquired[i] == False:\n",
    "        continue\n",
    "    for child in A[i]:\n",
    "        acquired[child] = True\n",
    "        \n",
    "print (sum(T[i] for i in range(1, N+1) if acquired[i]))"
   ]
  },
  {
   "cell_type": "code",
   "execution_count": 81,
   "id": "cba0adf0-22fa-47fb-a715-47967dedbbe4",
   "metadata": {},
   "outputs": [
    {
     "name": "stdout",
     "output_type": "stream",
     "text": [
      "10\n"
     ]
    }
   ],
   "source": [
    "# solve関数で愚直に解く（スタック）\n",
    "\n",
    "def solve():\n",
    "    acquired = [False] * (N+1)\n",
    "    stack = [N]\n",
    "    acquired[N] = True\n",
    "    \n",
    "    ans = 0\n",
    "    \n",
    "    while stack:\n",
    "        u = stack.pop()\n",
    "        ans += T[u]\n",
    "        \n",
    "        for v in G[u]:\n",
    "            if acquired[v] == False:\n",
    "                acquired[v] = True\n",
    "                stack.append(v)\n",
    "    return ans\n",
    "\n",
    "T = [0] + [row[0] for row in TKA]\n",
    "K = [0] + [row[1] for row in TKA]\n",
    "A = [[]] + [row[2:] for row in TKA]\n",
    "\n",
    "G = [[] for _ in range(N+1)]\n",
    "for i in range(N+1):\n",
    "    for j in A[i]:\n",
    "        G[i].append(j)\n",
    "        \n",
    "print (solve())"
   ]
  },
  {
   "cell_type": "code",
   "execution_count": 4,
   "id": "3f433e07-c534-40ff-aa97-5c587d1b874f",
   "metadata": {},
   "outputs": [
    {
     "name": "stdout",
     "output_type": "stream",
     "text": [
      "14\n"
     ]
    }
   ],
   "source": [
    "# dfs関数で解く\n",
    "\n",
    "def dfs(node):\n",
    "    if visited[node]:\n",
    "        return\n",
    "    visited[node] = True\n",
    " \n",
    "    for n_node in graph[node]:\n",
    "        if not visited[n_node]:\n",
    "            dfs(n_node)\n",
    "    return\n",
    "\n",
    "T = [0] + [row[0] for row in TKA]\n",
    "K = [0] + [row[1] for row in TKA]\n",
    "A = [[]] + [row[2:] for row in TKA]\n",
    "\n",
    "visited = [False] * (N+1)\n",
    "\n",
    "graph = [[] for _ in range(N+1)]\n",
    "for i in range(N+1):\n",
    "    for j in A[i]:\n",
    "        graph[i].append(j)\n",
    "\n",
    "dfs(N)\n",
    "\n",
    "print (sum(T[i] for i in range(1, N+1) if visited[i]))"
   ]
  },
  {
   "cell_type": "code",
   "execution_count": 1,
   "id": "7bb168d5-7035-4d60-8c0f-0de00311b31e",
   "metadata": {},
   "outputs": [],
   "source": [
    "# solve関数で愚直に解く（キュー）"
   ]
  },
  {
   "cell_type": "code",
   "execution_count": null,
   "id": "3a578423-9a05-4438-b845-72fd33131c0e",
   "metadata": {},
   "outputs": [],
   "source": [
    "# bfs関数で解く\n",
    "\n",
    "def bfs(node):\n",
    "    queue = deque([node])\n",
    "    d = [None] * n # uからの距離の初期化\n",
    "    d[node] = 0 # 自分との距離は0\n",
    "    while queue:\n",
    "        v = queue.popleft()\n",
    "        for i in g[v]:\n",
    "            if d[i] is None:\n",
    "                d[i] = d[v] + 1\n",
    "                queue.append(i)\n",
    "    return d"
   ]
  }
 ],
 "metadata": {
  "kernelspec": {
   "display_name": "Python 3",
   "language": "python",
   "name": "python3"
  },
  "language_info": {
   "codemirror_mode": {
    "name": "ipython",
    "version": 3
   },
   "file_extension": ".py",
   "mimetype": "text/x-python",
   "name": "python",
   "nbconvert_exporter": "python",
   "pygments_lexer": "ipython3",
   "version": "3.8.8"
  }
 },
 "nbformat": 4,
 "nbformat_minor": 5
}
