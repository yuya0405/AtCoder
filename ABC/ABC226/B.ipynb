{
 "cells": [
  {
   "cell_type": "code",
   "execution_count": 27,
   "id": "3bb5b38e-efb4-4a42-a8bf-3b18b67532e9",
   "metadata": {},
   "outputs": [
    {
     "name": "stdin",
     "output_type": "stream",
     "text": [
      " 1\n",
      " 1 1\n"
     ]
    },
    {
     "name": "stdout",
     "output_type": "stream",
     "text": [
      "1\n"
     ]
    }
   ],
   "source": [
    "N = int(input())\n",
    "LA = [list(map(int, input().split())) for _ in range(N)]\n",
    "\n",
    "import collections\n",
    "\n",
    "tmp = []\n",
    "for la in LA:\n",
    "    tmp.append(str(la))\n",
    "\n",
    "c = collections.Counter(tmp)\n",
    "\n",
    "print (len(c))"
   ]
  },
  {
   "cell_type": "code",
   "execution_count": null,
   "id": "ba06401e-ab14-47a2-bb2b-7bac1faf73d1",
   "metadata": {},
   "outputs": [],
   "source": []
  }
 ],
 "metadata": {
  "kernelspec": {
   "display_name": "Python 3",
   "language": "python",
   "name": "python3"
  },
  "language_info": {
   "codemirror_mode": {
    "name": "ipython",
    "version": 3
   },
   "file_extension": ".py",
   "mimetype": "text/x-python",
   "name": "python",
   "nbconvert_exporter": "python",
   "pygments_lexer": "ipython3",
   "version": "3.8.8"
  }
 },
 "nbformat": 4,
 "nbformat_minor": 5
}
