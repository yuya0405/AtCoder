{
 "cells": [
  {
   "cell_type": "code",
   "execution_count": 22,
   "id": "76fbcb94-bacd-49ec-bf55-9400ff05800c",
   "metadata": {},
   "outputs": [
    {
     "name": "stdin",
     "output_type": "stream",
     "text": [
      " 0.500\n"
     ]
    },
    {
     "name": "stdout",
     "output_type": "stream",
     "text": [
      "1\n"
     ]
    }
   ],
   "source": [
    "X = input()\n",
    "\n",
    "# decimalモジュールのDecimalクラスとそのquantizeメソッド\n",
    "from decimal import Decimal, getcontext, ROUND_HALF_UP\n",
    "\n",
    "c = getcontext()  # 現在の演算コンテキストを取得\n",
    "c.rounding = ROUND_HALF_UP  # 丸めモードとして四捨五入を指定\n",
    "\n",
    "d = Decimal(X)\n",
    "\n",
    "r = d.quantize(Decimal('0'), rounding=ROUND_HALF_UP)  # 小数点以下を四捨五入\n",
    "print(r)  # 123"
   ]
  },
  {
   "cell_type": "code",
   "execution_count": null,
   "id": "97f07f33-8c26-4a0a-b194-1a9879a983e5",
   "metadata": {},
   "outputs": [],
   "source": []
  }
 ],
 "metadata": {
  "kernelspec": {
   "display_name": "Python 3",
   "language": "python",
   "name": "python3"
  },
  "language_info": {
   "codemirror_mode": {
    "name": "ipython",
    "version": 3
   },
   "file_extension": ".py",
   "mimetype": "text/x-python",
   "name": "python",
   "nbconvert_exporter": "python",
   "pygments_lexer": "ipython3",
   "version": "3.8.8"
  }
 },
 "nbformat": 4,
 "nbformat_minor": 5
}
