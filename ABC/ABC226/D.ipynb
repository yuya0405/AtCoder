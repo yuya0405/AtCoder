{
 "cells": [
  {
   "cell_type": "code",
   "execution_count": 16,
   "id": "139838cc-4233-4738-b414-db0662d7e5ba",
   "metadata": {},
   "outputs": [],
   "source": [
    "N = int(input())\n",
    "XY = [list(map(int, input().split())) for _ in range(N)]\n",
    "\n",
    "import math\n",
    "\n",
    "magic = []\n",
    "\n",
    "for i in range(N):\n",
    "    for j in range(i):\n",
    "        tmp = math.sqrt((XY[i][0]-XY[j][0])**2 + (XY[i][1]-XY[j][1])**2)\n",
    "        m1 = [(XY[i][0]-XY[j][0])/tmp, (XY[i][1]-XY[j][1])/tmp]\n",
    "        m2 = [-1*m1[0], -1*m1[1]]\n",
    "        if m1 not in magic:\n",
    "            magic.append(m1)\n",
    "        if m2 not in magic:\n",
    "            magic.append(m2)\n",
    "print (len(magic))"
   ]
  },
  {
   "cell_type": "code",
   "execution_count": null,
   "id": "01856633-6f99-46ca-b39e-0ccbac2c40e6",
   "metadata": {},
   "outputs": [],
   "source": []
  }
 ],
 "metadata": {
  "kernelspec": {
   "display_name": "Python 3",
   "language": "python",
   "name": "python3"
  },
  "language_info": {
   "codemirror_mode": {
    "name": "ipython",
    "version": 3
   },
   "file_extension": ".py",
   "mimetype": "text/x-python",
   "name": "python",
   "nbconvert_exporter": "python",
   "pygments_lexer": "ipython3",
   "version": "3.8.8"
  }
 },
 "nbformat": 4,
 "nbformat_minor": 5
}
