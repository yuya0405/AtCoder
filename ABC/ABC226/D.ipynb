{
 "cells": [
  {
   "cell_type": "code",
   "execution_count": 7,
   "id": "0ee7b992-53bd-411d-8336-dfc59802532c",
   "metadata": {},
   "outputs": [
    {
     "name": "stdin",
     "output_type": "stream",
     "text": [
      " 4\n",
      " 0 0\n",
      " 0 1000000000\n",
      " 1000000000 0\n",
      " 1000000000 1000000000\n"
     ]
    }
   ],
   "source": [
    "N = int(input())\n",
    "XY = [list(map(int, input().split())) for _ in range(N)]"
   ]
  },
  {
   "cell_type": "code",
   "execution_count": 8,
   "id": "1fe9c004-ae1d-4bc4-8899-925c004cd661",
   "metadata": {},
   "outputs": [
    {
     "name": "stdout",
     "output_type": "stream",
     "text": [
      "8\n"
     ]
    }
   ],
   "source": [
    "# AC\n",
    "\n",
    "from math import gcd\n",
    "\n",
    "S = set()\n",
    "\n",
    "for i in range(N):\n",
    "    for j in range(N):\n",
    "        if i == j:\n",
    "            continue\n",
    "        xi, yi = XY[i]\n",
    "        xj, yj = XY[j]\n",
    "        xd, yd = xi-xj, yi-yj\n",
    "        g = gcd(xd, yd)\n",
    "        S.add((xd//g, yd//g))\n",
    "\n",
    "print (len(S))"
   ]
  },
  {
   "cell_type": "code",
   "execution_count": 16,
   "id": "3e26662c-cf17-4e35-ab21-d4f29f0b728a",
   "metadata": {},
   "outputs": [],
   "source": [
    "# WA\n",
    "\n",
    "import math\n",
    "\n",
    "magic = []\n",
    "\n",
    "for i in range(N):\n",
    "    for j in range(i):\n",
    "        tmp = math.sqrt((XY[i][0]-XY[j][0])**2 + (XY[i][1]-XY[j][1])**2)\n",
    "        m1 = [(XY[i][0]-XY[j][0])/tmp, (XY[i][1]-XY[j][1])/tmp]\n",
    "        m2 = [-1*m1[0], -1*m1[1]]\n",
    "        if m1 not in magic:\n",
    "            magic.append(m1)\n",
    "        if m2 not in magic:\n",
    "            magic.append(m2)\n",
    "print (len(magic))"
   ]
  },
  {
   "cell_type": "code",
   "execution_count": null,
   "id": "01856633-6f99-46ca-b39e-0ccbac2c40e6",
   "metadata": {},
   "outputs": [],
   "source": []
  }
 ],
 "metadata": {
  "kernelspec": {
   "display_name": "Python 3",
   "language": "python",
   "name": "python3"
  },
  "language_info": {
   "codemirror_mode": {
    "name": "ipython",
    "version": 3
   },
   "file_extension": ".py",
   "mimetype": "text/x-python",
   "name": "python",
   "nbconvert_exporter": "python",
   "pygments_lexer": "ipython3",
   "version": "3.8.8"
  }
 },
 "nbformat": 4,
 "nbformat_minor": 5
}
