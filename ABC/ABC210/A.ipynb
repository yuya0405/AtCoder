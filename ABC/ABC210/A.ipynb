{
 "cells": [
  {
   "cell_type": "code",
   "execution_count": 4,
   "id": "6bc5a113-a602-4eb9-83df-d9f92a001726",
   "metadata": {},
   "outputs": [
    {
     "name": "stdin",
     "output_type": "stream",
     "text": [
      " 10 10 100 1\n"
     ]
    }
   ],
   "source": [
    "N, A, X, Y = map(int, input().split())"
   ]
  },
  {
   "cell_type": "code",
   "execution_count": 5,
   "id": "4729d814-4899-4db7-acb5-5dcf8f2b92a9",
   "metadata": {},
   "outputs": [],
   "source": [
    "ans = 0\n",
    "if N > A:\n",
    "    ans += X*A\n",
    "    ans += Y*(N-A)\n",
    "else:\n",
    "    ans += X*N"
   ]
  },
  {
   "cell_type": "code",
   "execution_count": 6,
   "id": "382e3a6a-0a84-4b68-88cb-a40d1ea28459",
   "metadata": {},
   "outputs": [
    {
     "data": {
      "text/plain": [
       "1000"
      ]
     },
     "execution_count": 6,
     "metadata": {},
     "output_type": "execute_result"
    }
   ],
   "source": [
    "print (ans)"
   ]
  },
  {
   "cell_type": "code",
   "execution_count": null,
   "id": "e824781e-5b56-4e79-832d-e166fca1d9b1",
   "metadata": {},
   "outputs": [],
   "source": []
  }
 ],
 "metadata": {
  "kernelspec": {
   "display_name": "Python 3",
   "language": "python",
   "name": "python3"
  },
  "language_info": {
   "codemirror_mode": {
    "name": "ipython",
    "version": 3
   },
   "file_extension": ".py",
   "mimetype": "text/x-python",
   "name": "python",
   "nbconvert_exporter": "python",
   "pygments_lexer": "ipython3",
   "version": "3.8.8"
  }
 },
 "nbformat": 4,
 "nbformat_minor": 5
}
