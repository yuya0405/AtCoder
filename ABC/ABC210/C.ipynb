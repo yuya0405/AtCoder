{
 "cells": [
  {
   "cell_type": "code",
   "execution_count": 13,
   "id": "dba9105d-0852-42f7-b7d1-7c96c1d248cc",
   "metadata": {},
   "outputs": [
    {
     "name": "stdin",
     "output_type": "stream",
     "text": [
      " 7 3\n",
      " 1 2 1 2 3 3 1\n"
     ]
    }
   ],
   "source": [
    "N, K = map(int, input().split())\n",
    "C = list(map(int, input().split()))"
   ]
  },
  {
   "cell_type": "code",
   "execution_count": 14,
   "id": "bd967ed6-41c6-40ea-ae11-adbdc5d95853",
   "metadata": {},
   "outputs": [
    {
     "name": "stdout",
     "output_type": "stream",
     "text": [
      "[1, 2, 1]\n",
      "[2, 1, 2]\n",
      "[1, 2, 3]\n",
      "[2, 3, 3]\n",
      "[3, 3, 1]\n"
     ]
    }
   ],
   "source": [
    "for i in range(0, N-K+1):\n",
    "    print (C[i:i+K])"
   ]
  },
  {
   "cell_type": "code",
   "execution_count": 15,
   "id": "d2ad9cfe-6f6e-4d2e-b0b3-8998a733a09f",
   "metadata": {},
   "outputs": [
    {
     "data": {
      "text/plain": [
       "Counter({1: 2, 2: 1})"
      ]
     },
     "execution_count": 15,
     "metadata": {},
     "output_type": "execute_result"
    }
   ],
   "source": [
    "import collections\n",
    "\n",
    "tmp = C[0:K]\n",
    "counter = collections.Counter(tmp)\n",
    "counter"
   ]
  },
  {
   "cell_type": "code",
   "execution_count": 16,
   "id": "2fdd3881-8811-40e8-ae44-b8bab048cf3b",
   "metadata": {},
   "outputs": [
    {
     "data": {
      "text/plain": [
       "1"
      ]
     },
     "execution_count": 16,
     "metadata": {},
     "output_type": "execute_result"
    }
   ],
   "source": [
    "tmp[0]"
   ]
  },
  {
   "cell_type": "code",
   "execution_count": 20,
   "id": "c33dc1b1-1d72-467b-bf66-72bdfd78c200",
   "metadata": {},
   "outputs": [
    {
     "data": {
      "text/plain": [
       "2"
      ]
     },
     "execution_count": 20,
     "metadata": {},
     "output_type": "execute_result"
    }
   ],
   "source": [
    "C[K]"
   ]
  },
  {
   "cell_type": "code",
   "execution_count": null,
   "id": "54ed4069-bf0a-4612-af4f-de6891cf989b",
   "metadata": {},
   "outputs": [],
   "source": []
  }
 ],
 "metadata": {
  "kernelspec": {
   "display_name": "Python 3",
   "language": "python",
   "name": "python3"
  },
  "language_info": {
   "codemirror_mode": {
    "name": "ipython",
    "version": 3
   },
   "file_extension": ".py",
   "mimetype": "text/x-python",
   "name": "python",
   "nbconvert_exporter": "python",
   "pygments_lexer": "ipython3",
   "version": "3.8.8"
  }
 },
 "nbformat": 4,
 "nbformat_minor": 5
}
