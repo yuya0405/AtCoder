{
 "cells": [
  {
   "cell_type": "code",
   "execution_count": 97,
   "id": "dba9105d-0852-42f7-b7d1-7c96c1d248cc",
   "metadata": {},
   "outputs": [
    {
     "name": "stdin",
     "output_type": "stream",
     "text": [
      " 5 5\n",
      " 1 2 2 2 2\n"
     ]
    }
   ],
   "source": [
    "N, K = map(int, input().split())\n",
    "C = list(map(int, input().split()))"
   ]
  },
  {
   "cell_type": "code",
   "execution_count": 98,
   "id": "d2ad9cfe-6f6e-4d2e-b0b3-8998a733a09f",
   "metadata": {},
   "outputs": [
    {
     "name": "stdout",
     "output_type": "stream",
     "text": [
      "2\n"
     ]
    }
   ],
   "source": [
    "# TLE？？？\n",
    "\n",
    "ans = 0\n",
    "\n",
    "import collections\n",
    "\n",
    "for i in range(0, N-K+1):\n",
    "    tmp = C[i:i+K]\n",
    "    counter = collections.Counter(tmp)\n",
    "    if ans < len(counter):\n",
    "        ans = len(counter)\n",
    "print (ans)"
   ]
  },
  {
   "cell_type": "code",
   "execution_count": 99,
   "id": "88615f3b-1aeb-4b7e-ab3a-9adbeb96a558",
   "metadata": {},
   "outputs": [
    {
     "name": "stdout",
     "output_type": "stream",
     "text": [
      "2\n"
     ]
    }
   ],
   "source": [
    "# AC\n",
    "\n",
    "import collections\n",
    "\n",
    "d = collections.Counter(C[0:K])\n",
    "\n",
    "ans = len(d)\n",
    "\n",
    "for i in range(0, N-K):\n",
    "    d[C[i]] -= 1\n",
    "    # 0になったら消す\n",
    "    if d[C[i]] == 0:\n",
    "        del d[C[i]]\n",
    "    \n",
    "    d[C[i+K]] += 1\n",
    "    \n",
    "    if ans <= len(d):\n",
    "        ans = len(d)\n",
    "\n",
    "print (ans)"
   ]
  },
  {
   "cell_type": "code",
   "execution_count": null,
   "id": "60f13d15-b5a1-4a8f-90d8-46bba8296b0a",
   "metadata": {},
   "outputs": [],
   "source": []
  }
 ],
 "metadata": {
  "kernelspec": {
   "display_name": "Python 3",
   "language": "python",
   "name": "python3"
  },
  "language_info": {
   "codemirror_mode": {
    "name": "ipython",
    "version": 3
   },
   "file_extension": ".py",
   "mimetype": "text/x-python",
   "name": "python",
   "nbconvert_exporter": "python",
   "pygments_lexer": "ipython3",
   "version": "3.8.8"
  }
 },
 "nbformat": 4,
 "nbformat_minor": 5
}
