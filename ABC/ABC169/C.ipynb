{
 "cells": [
  {
   "cell_type": "code",
   "execution_count": 69,
   "id": "06c32fa2-ee9d-4dc6-b937-308d726bf032",
   "metadata": {},
   "outputs": [
    {
     "name": "stdin",
     "output_type": "stream",
     "text": [
      " 123 4.56\n"
     ]
    }
   ],
   "source": [
    "A, B = input().split()"
   ]
  },
  {
   "cell_type": "code",
   "execution_count": 78,
   "id": "9f79c0f3-4f8b-4fac-863c-b51236b7fbbb",
   "metadata": {},
   "outputs": [
    {
     "name": "stdout",
     "output_type": "stream",
     "text": [
      "560\n"
     ]
    }
   ],
   "source": [
    "b1, b2 = B.split(\".\")\n",
    "print (int(A)*(int(b1)*100+int(b2))//100)"
   ]
  },
  {
   "cell_type": "code",
   "execution_count": null,
   "id": "1cdcb9a5-c6fc-4a04-bd1b-3d14e7c6bc77",
   "metadata": {},
   "outputs": [],
   "source": []
  },
  {
   "cell_type": "code",
   "execution_count": null,
   "id": "c7cdf550-1554-42c7-9b22-b38c10055462",
   "metadata": {},
   "outputs": [],
   "source": []
  }
 ],
 "metadata": {
  "kernelspec": {
   "display_name": "Python 3",
   "language": "python",
   "name": "python3"
  },
  "language_info": {
   "codemirror_mode": {
    "name": "ipython",
    "version": 3
   },
   "file_extension": ".py",
   "mimetype": "text/x-python",
   "name": "python",
   "nbconvert_exporter": "python",
   "pygments_lexer": "ipython3",
   "version": "3.8.8"
  }
 },
 "nbformat": 4,
 "nbformat_minor": 5
}
