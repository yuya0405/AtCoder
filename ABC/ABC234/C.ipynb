{
 "cells": [
  {
   "cell_type": "code",
   "execution_count": 11,
   "id": "4f55ea60-4471-412d-946b-cda2afc65b0f",
   "metadata": {},
   "outputs": [],
   "source": [
    "K = int(input())\n",
    "\n",
    "print (bin(K)[2:].replace('1', '2'))"
   ]
  },
  {
   "cell_type": "code",
   "execution_count": null,
   "id": "f45e7533-63b2-4c67-9135-c37050c088af",
   "metadata": {},
   "outputs": [],
   "source": []
  }
 ],
 "metadata": {
  "kernelspec": {
   "display_name": "Python 3",
   "language": "python",
   "name": "python3"
  },
  "language_info": {
   "codemirror_mode": {
    "name": "ipython",
    "version": 3
   },
   "file_extension": ".py",
   "mimetype": "text/x-python",
   "name": "python",
   "nbconvert_exporter": "python",
   "pygments_lexer": "ipython3",
   "version": "3.8.8"
  }
 },
 "nbformat": 4,
 "nbformat_minor": 5
}
