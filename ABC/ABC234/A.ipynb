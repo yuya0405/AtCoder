{
 "cells": [
  {
   "cell_type": "code",
   "execution_count": 6,
   "id": "59bb6e08-06a2-4318-b9d8-b9eb60d84293",
   "metadata": {},
   "outputs": [],
   "source": [
    "t = int(input())\n",
    "\n",
    "def f(x):\n",
    "    return x**2+2*x+3\n",
    "\n",
    "print (f(f(f(t)+t)+f(f(t))))"
   ]
  },
  {
   "cell_type": "code",
   "execution_count": null,
   "id": "6bf709e8-9bf8-4f66-9983-16302c5c9954",
   "metadata": {},
   "outputs": [],
   "source": []
  }
 ],
 "metadata": {
  "kernelspec": {
   "display_name": "Python 3",
   "language": "python",
   "name": "python3"
  },
  "language_info": {
   "codemirror_mode": {
    "name": "ipython",
    "version": 3
   },
   "file_extension": ".py",
   "mimetype": "text/x-python",
   "name": "python",
   "nbconvert_exporter": "python",
   "pygments_lexer": "ipython3",
   "version": "3.8.8"
  }
 },
 "nbformat": 4,
 "nbformat_minor": 5
}
