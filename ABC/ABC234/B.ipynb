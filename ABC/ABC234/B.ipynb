{
 "cells": [
  {
   "cell_type": "code",
   "execution_count": 13,
   "id": "ee941eee-71dc-468a-ab56-0d6301d4e365",
   "metadata": {},
   "outputs": [],
   "source": [
    "N = int(input())\n",
    "XY = [list(map(int, input().split())) for _ in range(N)]\n",
    "\n",
    "ans = -1.0\n",
    "for i in range(0, N):\n",
    "    for j in range(i+1, N):\n",
    "        ans = max(ans, ((XY[i][0] - XY[j][0])**2 + (XY[i][1] - XY[j][1])**2)**0.5)\n",
    "print (ans)"
   ]
  },
  {
   "cell_type": "code",
   "execution_count": null,
   "id": "4dd01f25-71d2-46c3-9c3a-052e5809859e",
   "metadata": {},
   "outputs": [],
   "source": []
  }
 ],
 "metadata": {
  "kernelspec": {
   "display_name": "Python 3",
   "language": "python",
   "name": "python3"
  },
  "language_info": {
   "codemirror_mode": {
    "name": "ipython",
    "version": 3
   },
   "file_extension": ".py",
   "mimetype": "text/x-python",
   "name": "python",
   "nbconvert_exporter": "python",
   "pygments_lexer": "ipython3",
   "version": "3.8.8"
  }
 },
 "nbformat": 4,
 "nbformat_minor": 5
}
