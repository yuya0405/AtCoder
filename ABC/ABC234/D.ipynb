{
 "cells": [
  {
   "cell_type": "code",
   "execution_count": 1,
   "id": "afcd61c5-6f9a-46c0-8a4e-c6c602acfdff",
   "metadata": {},
   "outputs": [
    {
     "name": "stdin",
     "output_type": "stream",
     "text": [
      " 11 5\n",
      " 3 7 2 5 11 6 1 9 8 10 4\n"
     ]
    }
   ],
   "source": [
    "N, K = map(int, input().split())\n",
    "P = list(map(int, input().split()))"
   ]
  },
  {
   "cell_type": "code",
   "execution_count": 19,
   "id": "66b3c18f-e41e-4c03-950a-84f3ef6c95ea",
   "metadata": {},
   "outputs": [
    {
     "name": "stdout",
     "output_type": "stream",
     "text": [
      "2\n",
      "3\n",
      "3\n",
      "5\n",
      "6\n",
      "7\n",
      "7\n"
     ]
    }
   ],
   "source": [
    "# TLE（list.insertはO(N)）\n",
    "\n",
    "P_sorted = sorted(P[:K])\n",
    "print (P_sorted[0])\n",
    "\n",
    "import bisect\n",
    "\n",
    "for i, p in enumerate(P[K:]):\n",
    "    index = bisect.bisect(P_sorted, p)\n",
    "    P_sorted.insert(index, p)\n",
    "    print (P_sorted[i+1])"
   ]
  },
  {
   "cell_type": "code",
   "execution_count": null,
   "id": "a4108316-2632-4963-93ff-4034d2d144ef",
   "metadata": {},
   "outputs": [],
   "source": []
  }
 ],
 "metadata": {
  "kernelspec": {
   "display_name": "Python 3",
   "language": "python",
   "name": "python3"
  },
  "language_info": {
   "codemirror_mode": {
    "name": "ipython",
    "version": 3
   },
   "file_extension": ".py",
   "mimetype": "text/x-python",
   "name": "python",
   "nbconvert_exporter": "python",
   "pygments_lexer": "ipython3",
   "version": "3.8.8"
  }
 },
 "nbformat": 4,
 "nbformat_minor": 5
}
