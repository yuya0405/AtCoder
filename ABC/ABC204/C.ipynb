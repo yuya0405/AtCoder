{
 "cells": [
  {
   "cell_type": "code",
   "execution_count": 1,
   "id": "09a0ac8f-5445-45fd-a600-92d2b28969a2",
   "metadata": {},
   "outputs": [
    {
     "name": "stdin",
     "output_type": "stream",
     "text": [
      " 4 4\n",
      " 1 2\n",
      " 2 3\n",
      " 3 4\n",
      " 4 1\n"
     ]
    }
   ],
   "source": [
    "N, M = map(int, input().split())\n",
    "AB = [list(map(int, input().split())) for _ in range(M)]"
   ]
  },
  {
   "cell_type": "code",
   "execution_count": 2,
   "id": "99c8a958-7ee6-48aa-8e48-ea8fd9a0ee9e",
   "metadata": {},
   "outputs": [
    {
     "name": "stdout",
     "output_type": "stream",
     "text": [
      "[[1, 1, 0, 0], [0, 1, 1, 0], [0, 0, 1, 1], [1, 0, 0, 1]]\n"
     ]
    }
   ],
   "source": [
    "graph = [[0]*N for _ in range(N)]\n",
    "for i, ab in enumerate(AB):\n",
    "    a, b = ab\n",
    "    graph[a-1][b-1] = 1\n",
    "    graph[i][i] = 1\n",
    "print (graph)"
   ]
  },
  {
   "cell_type": "code",
   "execution_count": 3,
   "id": "d62da8f3-1aca-424f-b15f-6c00a60915fb",
   "metadata": {},
   "outputs": [
    {
     "name": "stdout",
     "output_type": "stream",
     "text": [
      "[True, False, False, True]\n",
      "[True, True, False, True]\n",
      "[True, False, True, True]\n",
      "[True, False, False, True]\n",
      "10\n"
     ]
    }
   ],
   "source": [
    "def dfs(L, v):\n",
    "    seen[v] = True\n",
    "    \n",
    "    for g in graph:\n",
    "        tmp = []\n",
    "        for i, g2 in enumerate(g):\n",
    "            if g2 == 1:\n",
    "                tmp.append(i)\n",
    "    \n",
    "    for next_v in tmp:\n",
    "        if seen[next_v]:\n",
    "            continue\n",
    "        dfs(L, next_v)\n",
    "\n",
    "ans = 0\n",
    "for i in range(N):\n",
    "    seen = [False]*len(AB)\n",
    "    dfs(graph, i)\n",
    "    ans += seen.count(True)\n",
    "    print (seen)\n",
    "print (ans)"
   ]
  },
  {
   "cell_type": "code",
   "execution_count": 7,
   "id": "8bec8622-6406-4a78-98d3-e1700efc3c58",
   "metadata": {},
   "outputs": [
    {
     "data": {
      "text/plain": [
       "[True, False, False, True]"
      ]
     },
     "execution_count": 7,
     "metadata": {},
     "output_type": "execute_result"
    }
   ],
   "source": [
    "seen = [False]*len(AB)\n",
    "dfs(graph, 0)\n",
    "seen"
   ]
  },
  {
   "cell_type": "code",
   "execution_count": 10,
   "id": "7cbe867d-edff-433f-9b4d-39a8b107a5c7",
   "metadata": {},
   "outputs": [
    {
     "data": {
      "text/plain": [
       "[[1, 1, 0, 0], [0, 1, 1, 0], [0, 0, 1, 1], [1, 0, 0, 1]]"
      ]
     },
     "execution_count": 10,
     "metadata": {},
     "output_type": "execute_result"
    }
   ],
   "source": [
    "graph"
   ]
  },
  {
   "cell_type": "code",
   "execution_count": 6,
   "id": "a09d02d2-af5a-46f7-99df-89b048fcf4b4",
   "metadata": {},
   "outputs": [
    {
     "name": "stdout",
     "output_type": "stream",
     "text": [
      "[0, 1]\n",
      "[1, 2]\n",
      "[2, 3]\n",
      "[0, 3]\n"
     ]
    }
   ],
   "source": [
    "for g in graph:\n",
    "    tmp = []\n",
    "    for i, g2 in enumerate(g):\n",
    "        if g2 == 1:\n",
    "            tmp.append(i)\n",
    "    print (tmp)"
   ]
  },
  {
   "cell_type": "code",
   "execution_count": 11,
   "id": "03a576fa-9ce9-471e-9cc0-152c4acc2bb1",
   "metadata": {},
   "outputs": [
    {
     "name": "stdout",
     "output_type": "stream",
     "text": [
      "3000\n"
     ]
    }
   ],
   "source": [
    "import sys\n",
    "import resource\n",
    "\n",
    "print(sys.getrecursionlimit())"
   ]
  },
  {
   "cell_type": "code",
   "execution_count": null,
   "id": "022dfffc-6863-4c47-8042-79cd9f830efb",
   "metadata": {},
   "outputs": [],
   "source": []
  }
 ],
 "metadata": {
  "kernelspec": {
   "display_name": "Python 3",
   "language": "python",
   "name": "python3"
  },
  "language_info": {
   "codemirror_mode": {
    "name": "ipython",
    "version": 3
   },
   "file_extension": ".py",
   "mimetype": "text/x-python",
   "name": "python",
   "nbconvert_exporter": "python",
   "pygments_lexer": "ipython3",
   "version": "3.8.8"
  }
 },
 "nbformat": 4,
 "nbformat_minor": 5
}
