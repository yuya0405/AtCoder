{
 "cells": [
  {
   "cell_type": "code",
   "execution_count": 35,
   "id": "2038a3d8-fd0d-493b-bcd1-8e5f2018da8c",
   "metadata": {},
   "outputs": [
    {
     "name": "stdin",
     "output_type": "stream",
     "text": [
      " 4 4\n",
      " 1 2\n",
      " 2 3\n",
      " 3 4\n",
      " 4 1\n"
     ]
    },
    {
     "name": "stdout",
     "output_type": "stream",
     "text": [
      "16\n"
     ]
    }
   ],
   "source": [
    "import sys\n",
    "sys.setrecursionlimit(4000)\n",
    "\n",
    "N, M = map(int, input().split())\n",
    "AB = [list(map(int, input().split())) for _ in range(M)]\n",
    "\n",
    "graph = [[] for _ in range(N)]\n",
    "\n",
    "for i, ab in enumerate(AB):\n",
    "    a, b = ab\n",
    "    graph[a-1].append(b - 1)\n",
    "\n",
    "def dfs(node: int):\n",
    "    if visited[node]:\n",
    "        return\n",
    "    visited[node] = 1\n",
    " \n",
    "    for n_node in graph[node]:\n",
    "        if visited[n_node]:\n",
    "            continue\n",
    "        dfs(n_node)\n",
    "    return\n",
    "\n",
    "ans = 0\n",
    "for i in range(N):\n",
    "    visited = [0] * N\n",
    "    dfs(i)\n",
    "    ans += sum(visited)\n",
    "    \n",
    "print(ans)"
   ]
  },
  {
   "cell_type": "code",
   "execution_count": null,
   "id": "6015ec79-e493-4978-9a84-df35e0a26236",
   "metadata": {},
   "outputs": [],
   "source": []
  }
 ],
 "metadata": {
  "kernelspec": {
   "display_name": "Python 3",
   "language": "python",
   "name": "python3"
  },
  "language_info": {
   "codemirror_mode": {
    "name": "ipython",
    "version": 3
   },
   "file_extension": ".py",
   "mimetype": "text/x-python",
   "name": "python",
   "nbconvert_exporter": "python",
   "pygments_lexer": "ipython3",
   "version": "3.8.8"
  }
 },
 "nbformat": 4,
 "nbformat_minor": 5
}
