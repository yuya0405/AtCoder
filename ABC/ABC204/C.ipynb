{
 "cells": [
  {
   "cell_type": "code",
   "execution_count": 27,
   "id": "57fdb590-71b6-4bcf-933a-95d9dc1b77b0",
   "metadata": {},
   "outputs": [
    {
     "name": "stdin",
     "output_type": "stream",
     "text": [
      " 3 3\n",
      " 1 2\n",
      " 2 3\n",
      " 3 2\n"
     ]
    },
    {
     "name": "stdout",
     "output_type": "stream",
     "text": [
      "7\n"
     ]
    }
   ],
   "source": [
    "import sys\n",
    "sys.setrecursionlimit(4000)\n",
    "\n",
    "N, M = map(int, input().split())\n",
    "AB = [list(map(int, input().split())) for _ in range(M)]\n",
    "\n",
    "graph = [[] for _ in range(N)]\n",
    "\n",
    "for i, ab in enumerate(AB):\n",
    "    a, b = ab\n",
    "    graph[a-1].append(b - 1)\n",
    "\n",
    "def dfs(node):\n",
    "    if visited[node]:\n",
    "        return\n",
    "    visited[node] = 1\n",
    "\n",
    "    for n_node in graph[node]:\n",
    "        if not visited[n_node]:\n",
    "            dfs(n_node)\n",
    "    return\n",
    "\n",
    "ans = 0\n",
    "for i in range(N):\n",
    "    visited = [0] * N\n",
    "    dfs(i)\n",
    "    ans += sum(visited)\n",
    "\n",
    "print(ans)"
   ]
  },
  {
   "cell_type": "code",
   "execution_count": null,
   "id": "53ad05a8-1cb6-4c9b-9124-982cc46ac8ea",
   "metadata": {},
   "outputs": [],
   "source": []
  }
 ],
 "metadata": {
  "kernelspec": {
   "display_name": "Python 3",
   "language": "python",
   "name": "python3"
  },
  "language_info": {
   "codemirror_mode": {
    "name": "ipython",
    "version": 3
   },
   "file_extension": ".py",
   "mimetype": "text/x-python",
   "name": "python",
   "nbconvert_exporter": "python",
   "pygments_lexer": "ipython3",
   "version": "3.8.8"
  }
 },
 "nbformat": 4,
 "nbformat_minor": 5
}
