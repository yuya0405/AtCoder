{
 "cells": [
  {
   "cell_type": "code",
   "execution_count": 35,
   "id": "2038a3d8-fd0d-493b-bcd1-8e5f2018da8c",
   "metadata": {},
   "outputs": [
    {
     "name": "stdin",
     "output_type": "stream",
     "text": [
      " 4 4\n",
      " 1 2\n",
      " 2 3\n",
      " 3 4\n",
      " 4 1\n"
     ]
    },
    {
     "name": "stdout",
     "output_type": "stream",
     "text": [
      "16\n"
     ]
    }
   ],
   "source": [
    "N, M = map(int, input().split())\n",
    "AB = [list(map(int, input().split())) for _ in range(M)]\n",
    "\n",
    "graph = [[0]*N for _ in range(N)]\n",
    "\n",
    "for i in range(N):\n",
    "    graph[i][i] = 1\n",
    "\n",
    "for i, ab in enumerate(AB):\n",
    "    a, b = ab\n",
    "    graph[a-1][b-1] = 1\n",
    "\n",
    "tmp = []\n",
    "for g in graph:\n",
    "    t = []\n",
    "    for i, g2 in enumerate(g):\n",
    "        if g2 == 1:\n",
    "            t.append(i)\n",
    "    tmp.append(t)\n",
    "\n",
    "def dfs(graph, v):\n",
    "    seen[v] = True\n",
    "    \n",
    "    tmp_choice = tmp[v]\n",
    "    for next_v in tmp_choice:\n",
    "        if seen[next_v]:\n",
    "            continue\n",
    "        dfs(graph, next_v)\n",
    "\n",
    "ans = 0\n",
    "for i in range(N):\n",
    "    seen = [False]*M\n",
    "    if M != 0:\n",
    "        dfs(graph, i)\n",
    "    ans += seen.count(True)\n",
    "print (ans)"
   ]
  },
  {
   "cell_type": "code",
   "execution_count": null,
   "id": "6015ec79-e493-4978-9a84-df35e0a26236",
   "metadata": {},
   "outputs": [],
   "source": []
  }
 ],
 "metadata": {
  "kernelspec": {
   "display_name": "Python 3",
   "language": "python",
   "name": "python3"
  },
  "language_info": {
   "codemirror_mode": {
    "name": "ipython",
    "version": 3
   },
   "file_extension": ".py",
   "mimetype": "text/x-python",
   "name": "python",
   "nbconvert_exporter": "python",
   "pygments_lexer": "ipython3",
   "version": "3.8.8"
  }
 },
 "nbformat": 4,
 "nbformat_minor": 5
}
