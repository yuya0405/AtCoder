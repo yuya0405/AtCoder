{
 "cells": [
  {
   "cell_type": "code",
   "execution_count": 1,
   "id": "e8b5cc9e-edc2-44da-9995-9cd4f08fe7cc",
   "metadata": {},
   "outputs": [],
   "source": [
    "import sys\n",
    "sys.setrecursionlimit(10**7)\n",
    "\n",
    "class UnionFind():\n",
    "    # 初期化\n",
    "    def __init__(self, n):\n",
    "        self.par = [-1] * n\n",
    "        self.rank = [0] * n\n",
    "        self.siz = [1] * n\n",
    "\n",
    "    # 根を求める\n",
    "    def root(self, x):\n",
    "        if self.par[x] == -1: return x # x が根の場合は x を返す\n",
    "        else:\n",
    "          self.par[x] = self.root(self.par[x]) # 経路圧縮\n",
    "          return self.par[x]\n",
    "\n",
    "    # x と y が同じグループに属するか (根が一致するか)\n",
    "    def issame(self, x, y):\n",
    "        return self.root(x) == self.root(y)\n",
    "\n",
    "    # x を含むグループと y を含むグループを併合する\n",
    "    def unite(self, x, y):\n",
    "        # x 側と y 側の根を取得する\n",
    "        rx = self.root(x)\n",
    "        ry = self.root(y)\n",
    "        if rx == ry: return False # すでに同じグループのときは何もしない\n",
    "        # union by rank\n",
    "        if self.rank[rx] > self.rank[ry]: # ry 側の rank が小さくなるようにする\n",
    "            rx, ry = ry, rx\n",
    "        self.par[ry] = rx # ry を rx の子とする\n",
    "        if self.rank[rx] == self.rank[ry]: # rx 側の rank を調整する\n",
    "            self.rank[rx] += 1\n",
    "        self.siz[rx] += self.siz[ry] # rx 側の siz を調整する\n",
    "        return True\n",
    "    \n",
    "    # x を含む根付き木のサイズを求める\n",
    "    def size(self, x):\n",
    "        return siz[root(x)]"
   ]
  },
  {
   "cell_type": "code",
   "execution_count": 14,
   "id": "b406eeaa-4a42-43d5-af41-99ba14ae25f8",
   "metadata": {},
   "outputs": [
    {
     "name": "stdin",
     "output_type": "stream",
     "text": [
      " 4 3\n",
      " 1 4\n",
      " 1 2\n",
      " 2 4\n"
     ]
    }
   ],
   "source": [
    "N, M = map(int, input().split())\n",
    "AB = [list(map(int, input().split())) for _ in range(M)]"
   ]
  },
  {
   "cell_type": "code",
   "execution_count": 15,
   "id": "fd5eb41e-e3b8-47e9-9fb9-d0557514ad7c",
   "metadata": {},
   "outputs": [],
   "source": [
    "G = [[] for i in range(N)]\n",
    "for a, b in AB:\n",
    "    G[a-1].append(b-1)\n",
    "    G[b-1].append(a-1)"
   ]
  },
  {
   "cell_type": "code",
   "execution_count": 17,
   "id": "ed0924e4-47d7-4823-a829-fbe8ecb1d096",
   "metadata": {},
   "outputs": [
    {
     "name": "stdout",
     "output_type": "stream",
     "text": [
      "No\n"
     ]
    }
   ],
   "source": [
    "uf = UnionFind(N)\n",
    "for a, b in AB:\n",
    "    if uf.issame(a-1, b-1):\n",
    "        print(\"No\")\n",
    "        exit()\n",
    "    else:\n",
    "        uf.unite(a-1, b-1)"
   ]
  },
  {
   "cell_type": "code",
   "execution_count": 18,
   "id": "7759f9cb-2a33-4234-b361-dfc1add03f96",
   "metadata": {},
   "outputs": [
    {
     "name": "stdout",
     "output_type": "stream",
     "text": [
      "Yes\n"
     ]
    }
   ],
   "source": [
    "tmp = -1\n",
    "for g in G:\n",
    "    ans_len = max(tmp, (len(g)))\n",
    "if ans_len <= 2:\n",
    "    print (\"Yes\")\n",
    "else:\n",
    "    print (\"No\")"
   ]
  },
  {
   "cell_type": "code",
   "execution_count": null,
   "id": "dee13563-87fd-4b62-9626-aaded7dcdfbb",
   "metadata": {},
   "outputs": [],
   "source": []
  }
 ],
 "metadata": {
  "kernelspec": {
   "display_name": "Python 3",
   "language": "python",
   "name": "python3"
  },
  "language_info": {
   "codemirror_mode": {
    "name": "ipython",
    "version": 3
   },
   "file_extension": ".py",
   "mimetype": "text/x-python",
   "name": "python",
   "nbconvert_exporter": "python",
   "pygments_lexer": "ipython3",
   "version": "3.8.8"
  }
 },
 "nbformat": 4,
 "nbformat_minor": 5
}
