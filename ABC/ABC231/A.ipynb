{
 "cells": [
  {
   "cell_type": "code",
   "execution_count": 6,
   "id": "698e05f8-cdfa-4228-b065-9f9ad254f9f0",
   "metadata": {},
   "outputs": [],
   "source": [
    "D = int(input())\n",
    "\n",
    "print (D/100)"
   ]
  },
  {
   "cell_type": "code",
   "execution_count": null,
   "id": "c6b3ae0b-a8ea-4cc9-83d9-9d4f951c67b7",
   "metadata": {},
   "outputs": [],
   "source": []
  }
 ],
 "metadata": {
  "kernelspec": {
   "display_name": "Python 3",
   "language": "python",
   "name": "python3"
  },
  "language_info": {
   "codemirror_mode": {
    "name": "ipython",
    "version": 3
   },
   "file_extension": ".py",
   "mimetype": "text/x-python",
   "name": "python",
   "nbconvert_exporter": "python",
   "pygments_lexer": "ipython3",
   "version": "3.8.8"
  }
 },
 "nbformat": 4,
 "nbformat_minor": 5
}
