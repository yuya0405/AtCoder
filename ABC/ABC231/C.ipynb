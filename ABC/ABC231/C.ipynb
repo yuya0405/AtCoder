{
 "cells": [
  {
   "cell_type": "code",
   "execution_count": 29,
   "id": "a6dbdb1f-1ee1-4c70-947c-2fca8302d7f3",
   "metadata": {},
   "outputs": [],
   "source": [
    "N, Q = map(int, input().split())\n",
    "A = list(map(int, input().split()))\n",
    "X = [int(input()) for _ in range(Q)]\n",
    "\n",
    "A_sort = sorted(A)\n",
    "\n",
    "import bisect\n",
    "for x in X:\n",
    "    print (N-bisect.bisect_left(A_sort, x))"
   ]
  },
  {
   "cell_type": "code",
   "execution_count": null,
   "id": "be42420d-af5d-43f8-9e81-8441740d82ca",
   "metadata": {},
   "outputs": [],
   "source": []
  }
 ],
 "metadata": {
  "kernelspec": {
   "display_name": "Python 3",
   "language": "python",
   "name": "python3"
  },
  "language_info": {
   "codemirror_mode": {
    "name": "ipython",
    "version": 3
   },
   "file_extension": ".py",
   "mimetype": "text/x-python",
   "name": "python",
   "nbconvert_exporter": "python",
   "pygments_lexer": "ipython3",
   "version": "3.8.8"
  }
 },
 "nbformat": 4,
 "nbformat_minor": 5
}
