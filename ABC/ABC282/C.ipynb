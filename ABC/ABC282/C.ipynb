{
 "cells": [
  {
   "cell_type": "code",
   "execution_count": 28,
   "id": "0c3bc01a-7691-4d9a-880f-308dc8468ee8",
   "metadata": {},
   "outputs": [
    {
     "name": "stdin",
     "output_type": "stream",
     "text": [
      " 5\n",
      " ,,,,,\n"
     ]
    }
   ],
   "source": [
    "N = int(input())\n",
    "S = input()"
   ]
  },
  {
   "cell_type": "code",
   "execution_count": 35,
   "id": "153ef282-5d17-4387-a276-db5098dea74f",
   "metadata": {},
   "outputs": [
    {
     "data": {
      "text/plain": [
       "[0, 1, 2, 3, 4]"
      ]
     },
     "execution_count": 35,
     "metadata": {},
     "output_type": "execute_result"
    }
   ],
   "source": [
    "ans = []\n",
    "\n",
    "flag = False\n",
    "for i, s in enumerate(S):\n",
    "    if flag == False and s == '\"':\n",
    "        flag = True\n",
    "    elif flag == True and s == '\"':\n",
    "        flag = False\n",
    "    \n",
    "    if flag == False and s == ',':\n",
    "        ans.append(i)\n",
    "ans"
   ]
  },
  {
   "cell_type": "code",
   "execution_count": 38,
   "id": "d5d9e541-499f-4930-95a8-20a486bbbafd",
   "metadata": {},
   "outputs": [
    {
     "name": "stdout",
     "output_type": "stream",
     "text": [
      "....."
     ]
    }
   ],
   "source": [
    "if ans == []:\n",
    "    print (S)\n",
    "else:\n",
    "    tmp = 0\n",
    "    for i, s in enumerate(S):\n",
    "        if tmp >= len(ans):\n",
    "            print (s, end=\"\")\n",
    "            continue\n",
    "        \n",
    "        if i == ans[tmp]:\n",
    "            print ('.', end=\"\")\n",
    "            tmp += 1\n",
    "        else:\n",
    "            print (s, end=\"\")"
   ]
  },
  {
   "cell_type": "code",
   "execution_count": null,
   "id": "4a3f006f-ebd0-4304-b5d9-50b7c98a5024",
   "metadata": {},
   "outputs": [],
   "source": []
  },
  {
   "cell_type": "code",
   "execution_count": null,
   "id": "7298eb4d-bbdf-493a-8617-0deb6b918de3",
   "metadata": {},
   "outputs": [],
   "source": []
  }
 ],
 "metadata": {
  "kernelspec": {
   "display_name": "Python 3 (ipykernel)",
   "language": "python",
   "name": "python3"
  },
  "language_info": {
   "codemirror_mode": {
    "name": "ipython",
    "version": 3
   },
   "file_extension": ".py",
   "mimetype": "text/x-python",
   "name": "python",
   "nbconvert_exporter": "python",
   "pygments_lexer": "ipython3",
   "version": "3.8.13"
  }
 },
 "nbformat": 4,
 "nbformat_minor": 5
}
