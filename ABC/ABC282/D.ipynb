{
 "cells": [
  {
   "cell_type": "code",
   "execution_count": 67,
   "id": "d09dc3a9-98b4-406c-8355-7eb32b57e594",
   "metadata": {},
   "outputs": [
    {
     "name": "stdin",
     "output_type": "stream",
     "text": [
      " 9 11\n",
      " 4 9\n",
      " 9 1\n",
      " 8 2\n",
      " 8 3\n",
      " 9 2\n",
      " 8 4\n",
      " 6 7\n",
      " 4 6\n",
      " 7 5\n",
      " 4 5\n",
      " 7 8\n"
     ]
    }
   ],
   "source": [
    "N, M = map(int, input().split())\n",
    "V = [list(map(int, input().split())) for _ in range(M)]"
   ]
  },
  {
   "cell_type": "code",
   "execution_count": 68,
   "id": "72ff57e5-17e9-42d8-865a-8bdbbe2d46aa",
   "metadata": {},
   "outputs": [
    {
     "data": {
      "text/plain": [
       "[{4, 9},\n",
       " {1, 9},\n",
       " {2, 8},\n",
       " {3, 8},\n",
       " {2, 9},\n",
       " {4, 8},\n",
       " {6, 7},\n",
       " {4, 6},\n",
       " {5, 7},\n",
       " {4, 5},\n",
       " {7, 8}]"
      ]
     },
     "execution_count": 68,
     "metadata": {},
     "output_type": "execute_result"
    }
   ],
   "source": [
    "V_set = []\n",
    "for v in V:\n",
    "    V_set.append(set(v))\n",
    "V_set"
   ]
  },
  {
   "cell_type": "code",
   "execution_count": 69,
   "id": "20fcc4a3-200a-42f4-b971-5e2f3a8ab497",
   "metadata": {},
   "outputs": [
    {
     "data": {
      "text/plain": [
       "[[8],\n",
       " [7, 8],\n",
       " [7],\n",
       " [8, 7, 5, 4],\n",
       " [6, 3],\n",
       " [6, 3],\n",
       " [5, 4, 7],\n",
       " [1, 2, 3, 6],\n",
       " [3, 0, 1]]"
      ]
     },
     "execution_count": 69,
     "metadata": {},
     "output_type": "execute_result"
    }
   ],
   "source": [
    "G = [[] for i in range(N)]\n",
    "for v in V:\n",
    "    # 頂点 A から頂点 B への辺を張る\n",
    "    G[v[0]-1].append(v[1]-1)\n",
    "    G[v[1]-1].append(v[0]-1)\n",
    "G"
   ]
  },
  {
   "cell_type": "code",
   "execution_count": 70,
   "id": "4c283eab-988c-42a0-805c-21325e06d769",
   "metadata": {},
   "outputs": [],
   "source": [
    "def maximum_matching(N, G):\n",
    "    def find_aug_path(N, G, M):\n",
    "        que = []\n",
    "        R = [-1]*N\n",
    "        nxt = [-1]*N\n",
    "        roots = [-1]*N\n",
    "        valid = [1]*N\n",
    "\n",
    "        for v in range(N):\n",
    "            if M[v] != -1:\n",
    "                continue\n",
    "            que.append(v)\n",
    "            roots[v] = v\n",
    "            R[v] = 0\n",
    "\n",
    "        for v in que:\n",
    "            for w in G[v]:\n",
    "                if w == M[v]:\n",
    "                    continue\n",
    "                if R[w] == -1:\n",
    "                    x = M[w]\n",
    "\n",
    "                    R[w] = 1\n",
    "                    R[x] = 0\n",
    "\n",
    "                    nxt[x] = v\n",
    "\n",
    "                    roots[w] = roots[x] = roots[v]\n",
    "\n",
    "                    que.append(x)\n",
    "                elif R[w] == 0:\n",
    "                    if roots[v] != roots[w]:\n",
    "                        # construct an augmenting path\n",
    "                        res = [v]\n",
    "                        x = v\n",
    "                        while M[x] != -1:\n",
    "                            res.append(M[x])\n",
    "                            x = nxt[x]\n",
    "                            res.append(x)\n",
    "                        res.reverse()\n",
    "                        res.append(w)\n",
    "                        x = w\n",
    "                        while M[x] != -1:\n",
    "                            res.append(M[x])\n",
    "                            x = nxt[x]\n",
    "                            res.append(x)\n",
    "                        return res\n",
    "\n",
    "                    # contract a blossom\n",
    "\n",
    "                    P1 = [v]\n",
    "                    x = v\n",
    "                    while M[x] != -1:\n",
    "                        x = nxt[x]\n",
    "                        P1.append(x)\n",
    "                    R1 = [x for x in reversed(P1) if valid[x]]\n",
    "\n",
    "                    P2 = [w]\n",
    "                    x = w\n",
    "                    while M[x] != -1:\n",
    "                        x = nxt[x]\n",
    "                        P2.append(x)\n",
    "                    R2 = [x for x in reversed(P2) if valid[x]]\n",
    "\n",
    "                    ln = min(len(R1), len(R2))\n",
    "                    k = 0\n",
    "                    while k < ln and R1[k] == R2[k]:\n",
    "                        k += 1\n",
    "\n",
    "                    if k < len(R1):\n",
    "                        u = R1[k]\n",
    "                        py = w\n",
    "                        for x in P1:\n",
    "                            y = M[x]\n",
    "\n",
    "                            if R[y] == 1:\n",
    "                                que.append(y)\n",
    "                                R[y] = 0\n",
    "                            nxt[y] = py\n",
    "                            valid[x] = valid[y] = 0\n",
    "\n",
    "                            if x == u:\n",
    "                                break\n",
    "                            py = y\n",
    "\n",
    "                    if k < len(R2):\n",
    "                        u = R2[k]\n",
    "                        py = v\n",
    "                        for x in P2:\n",
    "                            y = M[x]\n",
    "\n",
    "                            if R[y] == 1:\n",
    "                                que.append(y)\n",
    "                                R[y] = 0\n",
    "                            nxt[y] = py\n",
    "                            valid[x] = valid[y] = 0\n",
    "\n",
    "                            if x == u:\n",
    "                                break\n",
    "                            py = y\n",
    "        return []\n",
    "    M = [-1]*N\n",
    "    while 1:\n",
    "        P = find_aug_path(N, G, M)\n",
    "        if not P:\n",
    "            break\n",
    "        for i in range(0, len(P), 2):\n",
    "            p0 = P[i]; p1 = P[i+1]\n",
    "            M[p0] = p1\n",
    "            M[p1] = p0\n",
    "    return M"
   ]
  },
  {
   "cell_type": "code",
   "execution_count": 71,
   "id": "916aa4ea-0f27-4f23-8603-5d70d5e66c10",
   "metadata": {},
   "outputs": [
    {
     "data": {
      "text/plain": [
       "[8, 7, -1, 5, 6, 3, 4, 1, 0]"
      ]
     },
     "execution_count": 71,
     "metadata": {},
     "output_type": "execute_result"
    }
   ],
   "source": [
    "ANS = maximum_matching(N, G)\n",
    "ANS"
   ]
  },
  {
   "cell_type": "code",
   "execution_count": 82,
   "id": "e3696f0f-1361-4eeb-a9db-bab97c50268c",
   "metadata": {},
   "outputs": [
    {
     "name": "stdout",
     "output_type": "stream",
     "text": [
      "0 8\n",
      "1 7\n",
      "2 -1\n",
      "3 5\n",
      "4 6\n",
      "5 3\n",
      "6 4\n",
      "7 1\n",
      "8 0\n",
      "0\n"
     ]
    }
   ],
   "source": [
    "ans = 0\n",
    "for i in range(N):\n",
    "    print (i, ANS[i])\n",
    "    if ANS[i] != -1 and i < ANS[i]:\n",
    "        if set([i+1, ANS[i]+1]) not in V_set:\n",
    "            ans += 1\n",
    "print (ans)"
   ]
  },
  {
   "cell_type": "code",
   "execution_count": null,
   "id": "1816b247-6cd8-414a-8e12-d7f37d99ae71",
   "metadata": {},
   "outputs": [],
   "source": []
  },
  {
   "cell_type": "code",
   "execution_count": null,
   "id": "4cf943cd-6dda-4ea5-86e5-02da93cb3f01",
   "metadata": {},
   "outputs": [],
   "source": []
  }
 ],
 "metadata": {
  "kernelspec": {
   "display_name": "Python 3 (ipykernel)",
   "language": "python",
   "name": "python3"
  },
  "language_info": {
   "codemirror_mode": {
    "name": "ipython",
    "version": 3
   },
   "file_extension": ".py",
   "mimetype": "text/x-python",
   "name": "python",
   "nbconvert_exporter": "python",
   "pygments_lexer": "ipython3",
   "version": "3.8.13"
  }
 },
 "nbformat": 4,
 "nbformat_minor": 5
}
