{
 "cells": [
  {
   "cell_type": "code",
   "execution_count": 45,
   "id": "cd8414dc-b319-4699-8a38-880bd2e478d0",
   "metadata": {},
   "outputs": [
    {
     "name": "stdin",
     "output_type": "stream",
     "text": [
      " 5 5\n",
      " ooooo\n",
      " oooxx\n",
      " xxooo\n",
      " oxoxo\n",
      " xxxxx\n"
     ]
    }
   ],
   "source": [
    "N, M = map(int, input().split())\n",
    "S = [input() for _ in range(N)]"
   ]
  },
  {
   "cell_type": "code",
   "execution_count": 46,
   "id": "b351e5be-cc0e-4f99-b858-095dce44196f",
   "metadata": {},
   "outputs": [
    {
     "data": {
      "text/plain": [
       "[[True, True, True, True, True],\n",
       " [True, True, True, False, False],\n",
       " [False, False, True, True, True],\n",
       " [True, False, True, False, True],\n",
       " [False, False, False, False, False]]"
      ]
     },
     "execution_count": 46,
     "metadata": {},
     "output_type": "execute_result"
    }
   ],
   "source": [
    "C = []\n",
    "for s in S:\n",
    "    c = []\n",
    "    for _ in s:\n",
    "        if _ == \"o\":\n",
    "            c.append(True)\n",
    "        elif _ == \"x\":\n",
    "            c.append(False)\n",
    "    C.append(c)\n",
    "C"
   ]
  },
  {
   "cell_type": "code",
   "execution_count": 85,
   "id": "d3f549fc-45d0-4742-b2ba-de91552834aa",
   "metadata": {},
   "outputs": [],
   "source": [
    "import itertools\n",
    "S2 = itertools.combinations(range(N), 2)\n",
    "\n",
    "ans = 0\n",
    "for s in S2:\n",
    "    tmp = 0\n",
    "    for m in range(M):\n",
    "        if C[s[0]][m] == False and C[s[1]][m] == False:\n",
    "            tmp += 1\n",
    "    if tmp == 0:\n",
    "        ans += 1"
   ]
  },
  {
   "cell_type": "code",
   "execution_count": 86,
   "id": "3f0daf04-bdc2-43ba-a477-7a5a6b8fd3c1",
   "metadata": {},
   "outputs": [
    {
     "name": "stdout",
     "output_type": "stream",
     "text": [
      "5\n"
     ]
    }
   ],
   "source": [
    "print (ans)"
   ]
  },
  {
   "cell_type": "code",
   "execution_count": null,
   "id": "cfb13876-2f4d-4d2d-9823-7168c7b60e7f",
   "metadata": {},
   "outputs": [],
   "source": []
  }
 ],
 "metadata": {
  "kernelspec": {
   "display_name": "Python 3 (ipykernel)",
   "language": "python",
   "name": "python3"
  },
  "language_info": {
   "codemirror_mode": {
    "name": "ipython",
    "version": 3
   },
   "file_extension": ".py",
   "mimetype": "text/x-python",
   "name": "python",
   "nbconvert_exporter": "python",
   "pygments_lexer": "ipython3",
   "version": "3.8.13"
  }
 },
 "nbformat": 4,
 "nbformat_minor": 5
}
