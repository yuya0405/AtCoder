{
 "cells": [
  {
   "cell_type": "code",
   "execution_count": null,
   "metadata": {},
   "outputs": [],
   "source": [
    "N = int(input())\n",
    "\n",
    "ans = 0\n",
    "for n in range(N+1):\n",
    "    keta = len(str(n))\n",
    "    if keta % 2 != 0:\n",
    "        continue\n",
    "    zenhan = str(n)[:int(keta/2)]\n",
    "    kouhan = str(n)[int(keta/2):]\n",
    "    if zenhan == kouhan:\n",
    "        ans += 1\n",
    "print (ans)"
   ]
  },
  {
   "cell_type": "code",
   "execution_count": null,
   "metadata": {},
   "outputs": [],
   "source": [
    "N = int(input())\n",
    "\n",
    "KETA = len(str(N))\n",
    "ans = 0\n",
    "\n",
    "if 10**(KETA-1) <= 10**2:\n",
    "    ans += 0\n",
    "elif 10**(KETA-1) <= 10**3:\n",
    "    ans += 9\n",
    "elif 10**(KETA-1) <= 10**5:\n",
    "    ans += 99\n",
    "elif 10**(KETA-1) <= 10**7:\n",
    "    ans += 999\n",
    "elif 10**(KETA-1) <= 10**9:\n",
    "    ans += 9999\n",
    "elif 10**(KETA-1) <= 10**11:\n",
    "    ans += 99999\n",
    "\n",
    "for n in range(10**(KETA-1), N+1):\n",
    "    keta = len(str(n))\n",
    "    if keta % 2 != 0:\n",
    "        continue\n",
    "    zenhan = str(n)[:int(keta/2)]\n",
    "    kouhan = str(n)[int(keta/2):]\n",
    "    if zenhan == kouhan:\n",
    "        print (n)\n",
    "        ans += 1\n",
    "print (ans)"
   ]
  },
  {
   "cell_type": "code",
   "execution_count": null,
   "metadata": {},
   "outputs": [],
   "source": [
    "N = int(input())\n",
    "\n",
    "KETA = len(str(N))\n",
    "ans = 0\n",
    "\n",
    "if KETA % 2 != 0:\n",
    "    KETA -= 1\n",
    "\n",
    "keta = int(KETA / 2)\n",
    "\n",
    "ans = 0\n",
    "for i in range(10**keta):\n",
    "    if i + i*10**keta > N:\n",
    "        break\n",
    "    print (ans)\n",
    "    ans += 1\n",
    "print (ans)"
   ]
  },
  {
   "cell_type": "code",
   "execution_count": null,
   "metadata": {},
   "outputs": [],
   "source": []
  }
 ],
 "metadata": {
  "kernelspec": {
   "display_name": "Python 3",
   "language": "python",
   "name": "python3"
  },
  "language_info": {
   "codemirror_mode": {
    "name": "ipython",
    "version": 3
   },
   "file_extension": ".py",
   "mimetype": "text/x-python",
   "name": "python",
   "nbconvert_exporter": "python",
   "pygments_lexer": "ipython3",
   "version": "3.8.5"
  }
 },
 "nbformat": 4,
 "nbformat_minor": 4
}
