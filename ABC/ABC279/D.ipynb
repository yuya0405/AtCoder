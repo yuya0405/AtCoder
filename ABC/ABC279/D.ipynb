{
 "cells": [
  {
   "cell_type": "code",
   "execution_count": 1,
   "id": "51126b2d-f831-4fca-b22a-b34fc41bce9b",
   "metadata": {},
   "outputs": [
    {
     "name": "stdin",
     "output_type": "stream",
     "text": [
      " 10 1\n"
     ]
    }
   ],
   "source": [
    "A, B = map(int, input().split())"
   ]
  },
  {
   "cell_type": "code",
   "execution_count": 10,
   "id": "a627bf70-ec56-43dc-9789-067baf758bd7",
   "metadata": {},
   "outputs": [
    {
     "data": {
      "text/plain": [
       "1.9240177382128656"
      ]
     },
     "execution_count": 10,
     "metadata": {},
     "output_type": "execute_result"
    }
   ],
   "source": [
    "N = (2*B/A)**(-2/3)-1\n",
    "N"
   ]
  },
  {
   "cell_type": "code",
   "execution_count": 11,
   "id": "b097c4ff-2233-499f-8a49-92ad3e76376d",
   "metadata": {},
   "outputs": [
    {
     "data": {
      "text/plain": [
       "(1, 2)"
      ]
     },
     "execution_count": 11,
     "metadata": {},
     "output_type": "execute_result"
    }
   ],
   "source": [
    "test1 = int(N)\n",
    "test2 = test1 + 1\n",
    "test1, test2"
   ]
  },
  {
   "cell_type": "code",
   "execution_count": 12,
   "id": "5dab94e9-1cb3-4b44-b844-7120178c893b",
   "metadata": {},
   "outputs": [
    {
     "data": {
      "text/plain": [
       "8.071067811865476"
      ]
     },
     "execution_count": 12,
     "metadata": {},
     "output_type": "execute_result"
    }
   ],
   "source": [
    "ans1 = B*test1 + A/(test1 + 1)**(1/2)\n",
    "ans1"
   ]
  },
  {
   "cell_type": "code",
   "execution_count": 13,
   "id": "0ab78a2e-f7d3-4e42-bc39-8e2c24bb113d",
   "metadata": {},
   "outputs": [
    {
     "data": {
      "text/plain": [
       "7.773502691896258"
      ]
     },
     "execution_count": 13,
     "metadata": {},
     "output_type": "execute_result"
    }
   ],
   "source": [
    "ans2 = B*test2 + A/(test2 + 1)**(1/2)\n",
    "ans2"
   ]
  },
  {
   "cell_type": "code",
   "execution_count": 14,
   "id": "223dbf56-ecd7-4c32-8487-4a6ac6d8ff95",
   "metadata": {},
   "outputs": [
    {
     "name": "stdout",
     "output_type": "stream",
     "text": [
      "7.773502691896258\n"
     ]
    }
   ],
   "source": [
    "ans = min(ans1, ans2)\n",
    "print (ans)"
   ]
  },
  {
   "cell_type": "code",
   "execution_count": null,
   "id": "7d4464f5-d786-421f-9b03-3c09e25c910f",
   "metadata": {},
   "outputs": [],
   "source": []
  }
 ],
 "metadata": {
  "kernelspec": {
   "display_name": "Python 3 (ipykernel)",
   "language": "python",
   "name": "python3"
  },
  "language_info": {
   "codemirror_mode": {
    "name": "ipython",
    "version": 3
   },
   "file_extension": ".py",
   "mimetype": "text/x-python",
   "name": "python",
   "nbconvert_exporter": "python",
   "pygments_lexer": "ipython3",
   "version": "3.8.13"
  }
 },
 "nbformat": 4,
 "nbformat_minor": 5
}
