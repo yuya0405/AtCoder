{
 "cells": [
  {
   "cell_type": "code",
   "execution_count": 52,
   "id": "2152cf6d-993b-46dc-8bba-f37b2a86bdbb",
   "metadata": {},
   "outputs": [
    {
     "name": "stdin",
     "output_type": "stream",
     "text": [
      " 2 2\n",
      " ##\n",
      " ..\n",
      " ..\n",
      " ##\n"
     ]
    }
   ],
   "source": [
    "H, W = map(int, input().split())\n",
    "S = [input() for _ in range(H)]\n",
    "T = [input() for _ in range(H)]"
   ]
  },
  {
   "cell_type": "code",
   "execution_count": 53,
   "id": "2ebcf258-e08e-4d89-b5a7-e46c87394c13",
   "metadata": {},
   "outputs": [
    {
     "data": {
      "text/plain": [
       "[2, 0]"
      ]
     },
     "execution_count": 53,
     "metadata": {},
     "output_type": "execute_result"
    }
   ],
   "source": [
    "S_tmp1 = []\n",
    "for row in S:\n",
    "    S_tmp1.append(row.count(\"#\"))\n",
    "S_tmp1"
   ]
  },
  {
   "cell_type": "code",
   "execution_count": 54,
   "id": "1c3d712f-3e3e-4de0-8105-c04e62c7b183",
   "metadata": {},
   "outputs": [
    {
     "data": {
      "text/plain": [
       "[0, 2]"
      ]
     },
     "execution_count": 54,
     "metadata": {},
     "output_type": "execute_result"
    }
   ],
   "source": [
    "T_tmp1 = []\n",
    "for row in T:\n",
    "    T_tmp1.append(row.count(\"#\"))\n",
    "T_tmp1"
   ]
  },
  {
   "cell_type": "code",
   "execution_count": 55,
   "id": "c120e632-17c3-4c78-94c2-74f08b5c8670",
   "metadata": {},
   "outputs": [
    {
     "data": {
      "text/plain": [
       "[1, 1]"
      ]
     },
     "execution_count": 55,
     "metadata": {},
     "output_type": "execute_result"
    }
   ],
   "source": [
    "S_tmp = []\n",
    "for col in zip(*S):\n",
    "    S_tmp.append(col.count('#'))\n",
    "S_ans = sorted(S_tmp)\n",
    "S_ans"
   ]
  },
  {
   "cell_type": "code",
   "execution_count": 56,
   "id": "78d99d10-e0db-4b31-8fa3-f2c2ff85c0d7",
   "metadata": {},
   "outputs": [
    {
     "data": {
      "text/plain": [
       "[1, 1]"
      ]
     },
     "execution_count": 56,
     "metadata": {},
     "output_type": "execute_result"
    }
   ],
   "source": [
    "T_tmp = []\n",
    "for col in zip(*T):\n",
    "    T_tmp.append(col.count('#'))\n",
    "T_ans = sorted(T_tmp)\n",
    "T_ans"
   ]
  },
  {
   "cell_type": "code",
   "execution_count": 57,
   "id": "8223a499-3eff-47bb-9d46-a4a07cff9cbf",
   "metadata": {},
   "outputs": [
    {
     "name": "stdout",
     "output_type": "stream",
     "text": [
      "No\n"
     ]
    }
   ],
   "source": [
    "if S_tmp1 == T_tmp1 and S_ans == T_ans:\n",
    "    print (\"Yes\")\n",
    "else:\n",
    "    print (\"No\")"
   ]
  },
  {
   "cell_type": "code",
   "execution_count": null,
   "id": "64236714-7bc8-4da6-9844-b4b75e0efe12",
   "metadata": {},
   "outputs": [],
   "source": []
  },
  {
   "cell_type": "code",
   "execution_count": null,
   "id": "622ea45d-2cf5-4497-9854-509d881c04d6",
   "metadata": {},
   "outputs": [],
   "source": []
  }
 ],
 "metadata": {
  "kernelspec": {
   "display_name": "Python 3 (ipykernel)",
   "language": "python",
   "name": "python3"
  },
  "language_info": {
   "codemirror_mode": {
    "name": "ipython",
    "version": 3
   },
   "file_extension": ".py",
   "mimetype": "text/x-python",
   "name": "python",
   "nbconvert_exporter": "python",
   "pygments_lexer": "ipython3",
   "version": "3.8.13"
  }
 },
 "nbformat": 4,
 "nbformat_minor": 5
}
