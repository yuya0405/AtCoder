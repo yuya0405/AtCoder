{
 "cells": [
  {
   "cell_type": "code",
   "execution_count": 8,
   "id": "7807eda8-262b-499e-95fa-88cadcdc0c71",
   "metadata": {},
   "outputs": [
    {
     "name": "stdin",
     "output_type": "stream",
     "text": [
      " voltag\n",
      " tag\n"
     ]
    }
   ],
   "source": [
    "S = input()\n",
    "T = input()"
   ]
  },
  {
   "cell_type": "code",
   "execution_count": 9,
   "id": "d39e13e1-20f7-4881-b16e-7b4206334b58",
   "metadata": {},
   "outputs": [
    {
     "name": "stdout",
     "output_type": "stream",
     "text": [
      "3 6 6\n",
      "Yes\n",
      "No\n"
     ]
    }
   ],
   "source": [
    "len_S = len(S)\n",
    "len_T = len(T)\n",
    "\n",
    "for i, s in enumerate(S):\n",
    "    if s == T[0] and i+len_T <= len_S:\n",
    "        if S[i:i+len_T] == T:\n",
    "            print (\"Yes\")\n",
    "            exit()\n",
    "print (\"No\")"
   ]
  },
  {
   "cell_type": "code",
   "execution_count": null,
   "id": "75927510-dfaa-4bda-9d97-ef1fb0496a60",
   "metadata": {},
   "outputs": [],
   "source": []
  }
 ],
 "metadata": {
  "kernelspec": {
   "display_name": "Python 3 (ipykernel)",
   "language": "python",
   "name": "python3"
  },
  "language_info": {
   "codemirror_mode": {
    "name": "ipython",
    "version": 3
   },
   "file_extension": ".py",
   "mimetype": "text/x-python",
   "name": "python",
   "nbconvert_exporter": "python",
   "pygments_lexer": "ipython3",
   "version": "3.8.13"
  }
 },
 "nbformat": 4,
 "nbformat_minor": 5
}
