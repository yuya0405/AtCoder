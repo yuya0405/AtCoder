{
 "cells": [
  {
   "cell_type": "code",
   "execution_count": 111,
   "id": "a1bb9198-e3e7-4e2e-85ae-150bad8f6e7a",
   "metadata": {},
   "outputs": [
    {
     "name": "stdin",
     "output_type": "stream",
     "text": [
      " 3\n",
      " 2 7 6\n"
     ]
    },
    {
     "name": "stdout",
     "output_type": "stream",
     "text": [
      "1\n",
      "0\n",
      "0\n",
      "0\n",
      "2\n",
      "1\n",
      "0\n",
      "0\n",
      "0\n",
      "0\n"
     ]
    }
   ],
   "source": [
    "N = int(input())\n",
    "A = list(map(int, input().split()))\n",
    "\n",
    "A = [0] + A\n",
    "\n",
    "MOD = 998244353\n",
    "\n",
    "dp = [[0]*10 for _ in range(0, N+1)]\n",
    "\n",
    "dp[1][A[1]] = 1\n",
    "\n",
    "for i in range(1, N+1):\n",
    "    for j in range(0, 10):\n",
    "        dp[i][(A[i] + j) % 10] += dp[i-1][j]\n",
    "        dp[i][(A[i] + j) % 10] %= MOD\n",
    "        dp[i][(A[i] * j) % 10] += dp[i-1][j]\n",
    "        dp[i][(A[i] * j) % 10] %= MOD\n",
    "\n",
    "for K in range(0, 10):\n",
    "    print(dp[N][K])"
   ]
  },
  {
   "cell_type": "code",
   "execution_count": null,
   "id": "b7452bac-6946-403b-86ad-3ce63c9dd77f",
   "metadata": {},
   "outputs": [],
   "source": []
  }
 ],
 "metadata": {
  "kernelspec": {
   "display_name": "Python 3",
   "language": "python",
   "name": "python3"
  },
  "language_info": {
   "codemirror_mode": {
    "name": "ipython",
    "version": 3
   },
   "file_extension": ".py",
   "mimetype": "text/x-python",
   "name": "python",
   "nbconvert_exporter": "python",
   "pygments_lexer": "ipython3",
   "version": "3.8.8"
  }
 },
 "nbformat": 4,
 "nbformat_minor": 5
}
