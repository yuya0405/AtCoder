{
 "cells": [
  {
   "cell_type": "code",
   "execution_count": 67,
   "id": "6ff9cce0-8eac-44aa-b4b7-95203e5eb030",
   "metadata": {},
   "outputs": [],
   "source": [
    "N = int(input())\n",
    "A = list(map(int, input().split()))\n",
    "\n",
    "from itertools import product\n",
    "import copy\n",
    "\n",
    "K = [0]*10\n",
    "\n",
    "for bit in product([0,1], repeat=N-1):\n",
    "    bit = list(bit)\n",
    "    tmp = copy.copy(A)\n",
    "    for i, b in enumerate(bit):\n",
    "        if b == 0:\n",
    "            tmp[i+1] = (tmp[i]+tmp[i+1])%10\n",
    "        else:\n",
    "            tmp[i+1] = (tmp[i]*tmp[i+1])%10\n",
    "\n",
    "    for i in range(10):\n",
    "        if tmp[N-1] == i:\n",
    "            K[i] += 1\n",
    "            K[i] %= 998244353\n",
    "            break\n",
    "\n",
    "for k in K:\n",
    "    print (k)"
   ]
  },
  {
   "cell_type": "code",
   "execution_count": null,
   "id": "e01337ae-46c2-40da-a341-e5624b82d88a",
   "metadata": {},
   "outputs": [],
   "source": []
  }
 ],
 "metadata": {
  "kernelspec": {
   "display_name": "Python 3",
   "language": "python",
   "name": "python3"
  },
  "language_info": {
   "codemirror_mode": {
    "name": "ipython",
    "version": 3
   },
   "file_extension": ".py",
   "mimetype": "text/x-python",
   "name": "python",
   "nbconvert_exporter": "python",
   "pygments_lexer": "ipython3",
   "version": "3.8.8"
  }
 },
 "nbformat": 4,
 "nbformat_minor": 5
}
