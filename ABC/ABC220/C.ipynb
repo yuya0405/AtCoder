{
 "cells": [
  {
   "cell_type": "code",
   "execution_count": 17,
   "id": "de52e0b2-5e27-4e41-a9f8-3071428b5e23",
   "metadata": {},
   "outputs": [
    {
     "name": "stdin",
     "output_type": "stream",
     "text": [
      " 4\n",
      " 12 34 56 78\n",
      " 1000\n"
     ]
    }
   ],
   "source": [
    "N = int(input())\n",
    "A = list(map(int, input().split()))\n",
    "X = int(input())"
   ]
  },
  {
   "cell_type": "code",
   "execution_count": null,
   "id": "e0716020-e375-44c7-8b83-d2c92ef57c3f",
   "metadata": {},
   "outputs": [],
   "source": [
    "# ans = 0\n",
    "# cnt = 0\n",
    "# flag = False\n",
    "# for i in range(N*(10**100)+1):\n",
    "#     for j in A:\n",
    "#         ans += j\n",
    "#         cnt += 1\n",
    "#         if ans > X:\n",
    "#             print (cnt)\n",
    "#             flag = True\n",
    "#             break\n",
    "#     if flag = True:\n",
    "#         break"
   ]
  },
  {
   "cell_type": "code",
   "execution_count": 22,
   "id": "ce7f44ca-580c-4166-ba8f-9de5389349ae",
   "metadata": {},
   "outputs": [],
   "source": [
    "mod = X % sum(A)\n",
    "\n",
    "ans = X // sum(A) * sum(A)\n",
    "\n",
    "cnt = X // sum(A) * N\n",
    "\n",
    "for a in A:\n",
    "    ans += a\n",
    "    cnt += 1\n",
    "    if ans > X:\n",
    "        print (cnt)\n",
    "        break"
   ]
  },
  {
   "cell_type": "code",
   "execution_count": null,
   "id": "ddb88d0d-2305-4043-9d13-b142381998af",
   "metadata": {},
   "outputs": [],
   "source": []
  }
 ],
 "metadata": {
  "kernelspec": {
   "display_name": "Python 3",
   "language": "python",
   "name": "python3"
  },
  "language_info": {
   "codemirror_mode": {
    "name": "ipython",
    "version": 3
   },
   "file_extension": ".py",
   "mimetype": "text/x-python",
   "name": "python",
   "nbconvert_exporter": "python",
   "pygments_lexer": "ipython3",
   "version": "3.8.8"
  }
 },
 "nbformat": 4,
 "nbformat_minor": 5
}
