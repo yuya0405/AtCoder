{
 "cells": [
  {
   "cell_type": "code",
   "execution_count": 13,
   "id": "ba1af79b-8b31-4348-8481-0b1557bc12af",
   "metadata": {},
   "outputs": [
    {
     "name": "stdin",
     "output_type": "stream",
     "text": [
      " 5\n",
      " 10 8 4 2 6\n"
     ]
    }
   ],
   "source": [
    "N = int(input())\n",
    "A = list(map(int, input().split()))"
   ]
  },
  {
   "cell_type": "code",
   "execution_count": 16,
   "id": "09f7e1b5-3f70-43a5-946f-2b2c6f7895ee",
   "metadata": {},
   "outputs": [
    {
     "name": "stdout",
     "output_type": "stream",
     "text": [
      "20\n"
     ]
    }
   ],
   "source": [
    "fumidai = 0\n",
    "\n",
    "pre = A[0]\n",
    "for i in range(1, N):\n",
    "    if pre > A[i]:\n",
    "        fumidai += (pre - A[i])\n",
    "    else:\n",
    "        pre = A[i]\n",
    "print (fumidai)"
   ]
  },
  {
   "cell_type": "code",
   "execution_count": null,
   "id": "094cc656-716b-4b0d-b774-6273b99efd03",
   "metadata": {},
   "outputs": [],
   "source": []
  }
 ],
 "metadata": {
  "kernelspec": {
   "display_name": "Python 3",
   "language": "python",
   "name": "python3"
  },
  "language_info": {
   "codemirror_mode": {
    "name": "ipython",
    "version": 3
   },
   "file_extension": ".py",
   "mimetype": "text/x-python",
   "name": "python",
   "nbconvert_exporter": "python",
   "pygments_lexer": "ipython3",
   "version": "3.8.8"
  }
 },
 "nbformat": 4,
 "nbformat_minor": 5
}
