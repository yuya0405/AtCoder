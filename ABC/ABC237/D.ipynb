{
 "cells": [
  {
   "cell_type": "code",
   "execution_count": 48,
   "id": "1b0bd3b5-9f4d-4eb0-aa23-50351a06b1c6",
   "metadata": {},
   "outputs": [
    {
     "name": "stdin",
     "output_type": "stream",
     "text": [
      " 7\n",
      " LLLLLLL\n"
     ]
    },
    {
     "name": "stdout",
     "output_type": "stream",
     "text": [
      "7 6 5 4 3 2 1 0\n"
     ]
    }
   ],
   "source": [
    "N = int(input())\n",
    "S = input()\n",
    "\n",
    "from collections import deque\n",
    "\n",
    "A = deque([N])\n",
    "\n",
    "for i, s in enumerate(reversed(S)):\n",
    "    if s == \"R\":\n",
    "        A.appendleft(N-i-1)\n",
    "    else:\n",
    "        A.append(N-i-1)\n",
    "\n",
    "print (' '.join(map(str, A)))"
   ]
  },
  {
   "cell_type": "code",
   "execution_count": null,
   "id": "9326feeb-624e-4980-a44a-ba7a95a66751",
   "metadata": {},
   "outputs": [],
   "source": []
  }
 ],
 "metadata": {
  "kernelspec": {
   "display_name": "Python 3",
   "language": "python",
   "name": "python3"
  },
  "language_info": {
   "codemirror_mode": {
    "name": "ipython",
    "version": 3
   },
   "file_extension": ".py",
   "mimetype": "text/x-python",
   "name": "python",
   "nbconvert_exporter": "python",
   "pygments_lexer": "ipython3",
   "version": "3.8.8"
  }
 },
 "nbformat": 4,
 "nbformat_minor": 5
}
