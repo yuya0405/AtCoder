{
 "cells": [
  {
   "cell_type": "code",
   "execution_count": 43,
   "id": "900f543e-fb8a-475f-a386-e17fdd225192",
   "metadata": {},
   "outputs": [
    {
     "name": "stdin",
     "output_type": "stream",
     "text": [
      " aaaba\n"
     ]
    },
    {
     "name": "stdout",
     "output_type": "stream",
     "text": [
      "No\n"
     ]
    }
   ],
   "source": [
    "S = input()\n",
    "\n",
    "l = len(S)\n",
    "\n",
    "num_before = 0\n",
    "for s in S:\n",
    "    if s == \"a\":\n",
    "        num_before += 1\n",
    "    else:\n",
    "        break\n",
    "\n",
    "num_after = 0\n",
    "for s in reversed(S):\n",
    "    if s == \"a\":\n",
    "        num_after += 1\n",
    "    else:\n",
    "        break\n",
    "\n",
    "if num_before >= num_after:\n",
    "    word = S[num_after:l-num_after]\n",
    "else:\n",
    "    word = S[num_before:l-num_after]\n",
    "\n",
    "if str(word) == str(word)[::-1]:\n",
    "    print(\"Yes\")\n",
    "else:\n",
    "    print(\"No\")"
   ]
  },
  {
   "cell_type": "code",
   "execution_count": 44,
   "id": "82012285-3266-4758-84f1-1f6432d24a71",
   "metadata": {},
   "outputs": [
    {
     "data": {
      "text/plain": [
       "'aab'"
      ]
     },
     "execution_count": 44,
     "metadata": {},
     "output_type": "execute_result"
    }
   ],
   "source": [
    "word"
   ]
  },
  {
   "cell_type": "code",
   "execution_count": null,
   "id": "c535607a-c4a1-4064-867d-1f82bfc9edad",
   "metadata": {},
   "outputs": [],
   "source": []
  }
 ],
 "metadata": {
  "kernelspec": {
   "display_name": "Python 3",
   "language": "python",
   "name": "python3"
  },
  "language_info": {
   "codemirror_mode": {
    "name": "ipython",
    "version": 3
   },
   "file_extension": ".py",
   "mimetype": "text/x-python",
   "name": "python",
   "nbconvert_exporter": "python",
   "pygments_lexer": "ipython3",
   "version": "3.8.8"
  }
 },
 "nbformat": 4,
 "nbformat_minor": 5
}
