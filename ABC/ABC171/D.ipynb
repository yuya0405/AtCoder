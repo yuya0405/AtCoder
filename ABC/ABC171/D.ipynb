{
 "cells": [
  {
   "cell_type": "code",
   "execution_count": 26,
   "id": "fe16a71b-bf66-4c4d-88f7-f6e340863ec2",
   "metadata": {},
   "outputs": [
    {
     "name": "stdin",
     "output_type": "stream",
     "text": [
      " 2\n",
      " 1 2\n",
      " 3\n",
      " 1 100\n",
      " 2 100\n",
      " 100 1000\n"
     ]
    }
   ],
   "source": [
    "N = int(input())\n",
    "A = list(map(int, input().split()))\n",
    "Q = int(input())\n",
    "BC = [list(map(int, input().split())) for _ in range(Q)]"
   ]
  },
  {
   "cell_type": "code",
   "execution_count": 27,
   "id": "3214696e-58b3-4e7f-94ec-69f12975c605",
   "metadata": {},
   "outputs": [],
   "source": [
    "import collections\n",
    "S = sum(A)\n",
    "C = collections.Counter(A)"
   ]
  },
  {
   "cell_type": "code",
   "execution_count": 28,
   "id": "0fb2265f-ab65-44c8-863f-b7087c3d4b0e",
   "metadata": {},
   "outputs": [
    {
     "name": "stdout",
     "output_type": "stream",
     "text": [
      "102\n",
      "200\n",
      "2000\n"
     ]
    }
   ],
   "source": [
    "for b, c in BC:\n",
    "    S += (c-b)*C[b]\n",
    "    C[c] += C[b]\n",
    "    C[b] = 0\n",
    "    print (S)"
   ]
  },
  {
   "cell_type": "code",
   "execution_count": null,
   "id": "1a96f9b5-5528-4fcc-b3f9-cb0e16c1f0a1",
   "metadata": {},
   "outputs": [],
   "source": []
  }
 ],
 "metadata": {
  "kernelspec": {
   "display_name": "Python 3",
   "language": "python",
   "name": "python3"
  },
  "language_info": {
   "codemirror_mode": {
    "name": "ipython",
    "version": 3
   },
   "file_extension": ".py",
   "mimetype": "text/x-python",
   "name": "python",
   "nbconvert_exporter": "python",
   "pygments_lexer": "ipython3",
   "version": "3.8.8"
  }
 },
 "nbformat": 4,
 "nbformat_minor": 5
}
