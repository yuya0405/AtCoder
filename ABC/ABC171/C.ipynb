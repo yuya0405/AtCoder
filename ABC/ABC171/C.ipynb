{
 "cells": [
  {
   "cell_type": "code",
   "execution_count": 203,
   "id": "1f836d96-1bba-4429-bf21-511b5a8b596a",
   "metadata": {},
   "outputs": [
    {
     "name": "stdin",
     "output_type": "stream",
     "text": [
      " 26\n"
     ]
    },
    {
     "name": "stdout",
     "output_type": "stream",
     "text": [
      "az\n"
     ]
    }
   ],
   "source": [
    "N = int(input())\n",
    "\n",
    "ans = []\n",
    "while(1):\n",
    "    tmp = N % 26\n",
    "    if tmp == 0:\n",
    "        ans.append(\"z\")\n",
    "    else:\n",
    "        ans.append(chr(ord('a') + tmp -1))\n",
    "    N //= 26\n",
    "    if N == 0:\n",
    "        break\n",
    "\n",
    "print (\"\".join(ans[::-1]))"
   ]
  },
  {
   "cell_type": "code",
   "execution_count": null,
   "id": "47eb81d7-8fc5-486a-8973-d5077ddb8d60",
   "metadata": {},
   "outputs": [],
   "source": []
  }
 ],
 "metadata": {
  "kernelspec": {
   "display_name": "Python 3",
   "language": "python",
   "name": "python3"
  },
  "language_info": {
   "codemirror_mode": {
    "name": "ipython",
    "version": 3
   },
   "file_extension": ".py",
   "mimetype": "text/x-python",
   "name": "python",
   "nbconvert_exporter": "python",
   "pygments_lexer": "ipython3",
   "version": "3.8.8"
  }
 },
 "nbformat": 4,
 "nbformat_minor": 5
}
