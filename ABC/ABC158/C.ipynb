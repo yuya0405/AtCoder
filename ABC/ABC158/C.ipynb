{
 "cells": [
  {
   "cell_type": "code",
   "execution_count": 10,
   "id": "9bb6f0a7-f27c-481e-9404-016a1d55b409",
   "metadata": {},
   "outputs": [
    {
     "name": "stdin",
     "output_type": "stream",
     "text": [
      " 2 2\n"
     ]
    }
   ],
   "source": [
    "A, B = map(int, input().split())"
   ]
  },
  {
   "cell_type": "code",
   "execution_count": 12,
   "id": "683c2e78-c368-4bcd-976c-20c26e2fef25",
   "metadata": {},
   "outputs": [
    {
     "name": "stdout",
     "output_type": "stream",
     "text": [
      "-1\n"
     ]
    }
   ],
   "source": [
    "for i in range(1, 10001):\n",
    "    if int(i*0.08) == A and int(i*0.10) == B:\n",
    "        print (i)\n",
    "        break\n",
    "print (-1)"
   ]
  },
  {
   "cell_type": "code",
   "execution_count": null,
   "id": "6565a516-c3b7-4878-a537-f9c57caafe41",
   "metadata": {},
   "outputs": [],
   "source": []
  }
 ],
 "metadata": {
  "kernelspec": {
   "display_name": "Python 3",
   "language": "python",
   "name": "python3"
  },
  "language_info": {
   "codemirror_mode": {
    "name": "ipython",
    "version": 3
   },
   "file_extension": ".py",
   "mimetype": "text/x-python",
   "name": "python",
   "nbconvert_exporter": "python",
   "pygments_lexer": "ipython3",
   "version": "3.8.8"
  }
 },
 "nbformat": 4,
 "nbformat_minor": 5
}
