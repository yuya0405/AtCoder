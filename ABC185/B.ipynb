{
 "cells": [
  {
   "cell_type": "code",
   "execution_count": 14,
   "metadata": {},
   "outputs": [],
   "source": [
    "N, M, T = map(int, (input().split()))\n",
    "AB = []\n",
    "for i in range(M):\n",
    "    AB.append(list(map(int,input().split())))\n",
    "\n",
    "n = N\n",
    "tmp = 0\n",
    "for ab in AB:\n",
    "    n -= (ab[0] - tmp)\n",
    "    if n <= 0:\n",
    "        break\n",
    "    n += (ab[1] - ab[0])\n",
    "    if n >= N:\n",
    "        n = N\n",
    "    tmp = ab[1]\n",
    "        \n",
    "n -= (T - ab[1])\n",
    "if n <= 0:\n",
    "    print (\"No\")\n",
    "else:\n",
    "    print (\"Yes\")"
   ]
  },
  {
   "cell_type": "code",
   "execution_count": null,
   "metadata": {},
   "outputs": [],
   "source": []
  }
 ],
 "metadata": {
  "kernelspec": {
   "display_name": "Python 3",
   "language": "python",
   "name": "python3"
  },
  "language_info": {
   "codemirror_mode": {
    "name": "ipython",
    "version": 3
   },
   "file_extension": ".py",
   "mimetype": "text/x-python",
   "name": "python",
   "nbconvert_exporter": "python",
   "pygments_lexer": "ipython3",
   "version": "3.8.5"
  }
 },
 "nbformat": 4,
 "nbformat_minor": 4
}
