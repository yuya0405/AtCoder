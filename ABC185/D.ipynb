{
 "cells": [
  {
   "cell_type": "code",
   "execution_count": 51,
   "metadata": {},
   "outputs": [
    {
     "name": "stdin",
     "output_type": "stream",
     "text": [
      " 5 2\n",
      " 1 3\n"
     ]
    },
    {
     "name": "stdout",
     "output_type": "stream",
     "text": [
      "3\n"
     ]
    }
   ],
   "source": [
    "N, M = map(int, (input().split()))\n",
    "A = list(map(int, (input().split())))\n",
    "\n",
    "A.sort()\n",
    "\n",
    "A_diff = []\n",
    "tmp = 0\n",
    "for i in range(len(A)):\n",
    "    A_diff.append(A[i] - tmp - 1)\n",
    "    tmp = A[i]\n",
    "A_diff.append(N - tmp)\n",
    "\n",
    "A_diff_removed = [x for x in A_diff if x > 0]\n",
    "\n",
    "if A_diff_removed == []:\n",
    "    k = 0\n",
    "else:\n",
    "    k = min(A_diff_removed)\n",
    "\n",
    "ans = 0\n",
    "for a in A_diff_removed:\n",
    "    if a % k != 0:\n",
    "        ans += a // k + 1\n",
    "    else:\n",
    "        ans += a // k\n",
    "print (ans)"
   ]
  },
  {
   "cell_type": "code",
   "execution_count": null,
   "metadata": {},
   "outputs": [],
   "source": []
  }
 ],
 "metadata": {
  "kernelspec": {
   "display_name": "Python 3",
   "language": "python",
   "name": "python3"
  },
  "language_info": {
   "codemirror_mode": {
    "name": "ipython",
    "version": 3
   },
   "file_extension": ".py",
   "mimetype": "text/x-python",
   "name": "python",
   "nbconvert_exporter": "python",
   "pygments_lexer": "ipython3",
   "version": "3.8.5"
  }
 },
 "nbformat": 4,
 "nbformat_minor": 4
}
