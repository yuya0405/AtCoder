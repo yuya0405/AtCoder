{
 "cells": [
  {
   "cell_type": "code",
   "execution_count": 129,
   "metadata": {},
   "outputs": [
    {
     "name": "stdin",
     "output_type": "stream",
     "text": [
      " ozRRnonnoe\n"
     ]
    },
    {
     "name": "stdout",
     "output_type": "stream",
     "text": [
      "ozne\n"
     ]
    }
   ],
   "source": [
    "S = input()\n",
    "\n",
    "tmp = []\n",
    "flag = False\n",
    "for i, s in enumerate(S):        \n",
    "    if flag == True:\n",
    "        flag = False\n",
    "        continue\n",
    "    elif i == len(S) - 1:\n",
    "        pass\n",
    "    elif s == \"R\" and S[i+1] == \"R\":\n",
    "        flag = True\n",
    "        continue\n",
    "    \n",
    "    if s == \"R\":\n",
    "        tmp.reverse()\n",
    "    elif tmp == []:\n",
    "        tmp.append(s)\n",
    "    elif tmp[-1] != s:\n",
    "        tmp.append(s)\n",
    "    else:\n",
    "        tmp.pop(-1)\n",
    "\n",
    "if tmp == []:\n",
    "    print (\"\")\n",
    "else:\n",
    "    print (\"\".join(tmp))"
   ]
  },
  {
   "cell_type": "code",
   "execution_count": 122,
   "metadata": {},
   "outputs": [
    {
     "name": "stdin",
     "output_type": "stream",
     "text": [
      " ozRRnonnoe\n"
     ]
    },
    {
     "name": "stdout",
     "output_type": "stream",
     "text": [
      "['o']\n",
      "['o', 'z']\n",
      "['z', 'o']\n",
      "['z']\n",
      "['z', 'n']\n",
      "['z']\n",
      "['z', 'o']\n",
      "['z', 'o', 'e']\n",
      "zoe\n"
     ]
    }
   ],
   "source": [
    "S = input()\n",
    "\n",
    "tmp = []\n",
    "pre = \"\"\n",
    "flag = False\n",
    "for i, s in enumerate(S):\n",
    "    if flag == True:\n",
    "        pre = s\n",
    "        flag = False\n",
    "        continue\n",
    "    elif pre == \"R\" and s == \"R\":\n",
    "        pre = s\n",
    "        flag = True\n",
    "        continue\n",
    "    elif s == \"R\":\n",
    "        tmp.reverse()\n",
    "    elif tmp == []:\n",
    "        tmp.append(s)\n",
    "    elif tmp[-1] != s:\n",
    "        tmp.append(s)\n",
    "    else:\n",
    "        tmp.pop(-1)\n",
    "    pre = s\n",
    "    print (tmp)\n",
    "\n",
    "if tmp == []:\n",
    "    print (\"\")\n",
    "else:\n",
    "    print (\"\".join(tmp))"
   ]
  },
  {
   "cell_type": "code",
   "execution_count": null,
   "metadata": {},
   "outputs": [],
   "source": []
  }
 ],
 "metadata": {
  "kernelspec": {
   "display_name": "Python 3",
   "language": "python",
   "name": "python3"
  },
  "language_info": {
   "codemirror_mode": {
    "name": "ipython",
    "version": 3
   },
   "file_extension": ".py",
   "mimetype": "text/x-python",
   "name": "python",
   "nbconvert_exporter": "python",
   "pygments_lexer": "ipython3",
   "version": "3.8.5"
  }
 },
 "nbformat": 4,
 "nbformat_minor": 4
}
