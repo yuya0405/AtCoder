{
 "cells": [
  {
   "cell_type": "code",
   "execution_count": 49,
   "metadata": {},
   "outputs": [
    {
     "name": "stdin",
     "output_type": "stream",
     "text": [
      " ozRnonnoe\n"
     ]
    },
    {
     "name": "stdout",
     "output_type": "stream",
     "text": [
      "zone\n"
     ]
    }
   ],
   "source": [
    "S = input()\n",
    "\n",
    "tmp = []\n",
    "for i, s in enumerate(S):\n",
    "    if s == \"R\":\n",
    "        tmp.reverse()\n",
    "    elif tmp == []:\n",
    "        tmp.append(s)\n",
    "    elif tmp[-1] != s:\n",
    "        tmp.append(s)\n",
    "    else:\n",
    "        tmp.pop(-1)\n",
    "\n",
    "if tmp == []:\n",
    "    print (\"\")\n",
    "else:\n",
    "    print (\"\".join(tmp))"
   ]
  },
  {
   "cell_type": "code",
   "execution_count": 95,
   "metadata": {},
   "outputs": [
    {
     "name": "stdin",
     "output_type": "stream",
     "text": [
      " ozRnonnoeRR\n"
     ]
    },
    {
     "name": "stdout",
     "output_type": "stream",
     "text": [
      "enoz\n"
     ]
    }
   ],
   "source": [
    "S = input()\n",
    "\n",
    "tmp = []\n",
    "for i, s in enumerate(S):    \n",
    "    if s == \"R\":\n",
    "        tmp.reverse()\n",
    "    elif tmp == []:\n",
    "        tmp.append(s)\n",
    "    elif tmp[-1] != s:\n",
    "        tmp.append(s)\n",
    "    else:\n",
    "        tmp.pop(-1)\n",
    "\n",
    "if tmp == []:\n",
    "    print (\"\")\n",
    "else:\n",
    "    print (\"\".join(tmp))"
   ]
  },
  {
   "cell_type": "code",
   "execution_count": 85,
   "metadata": {},
   "outputs": [
    {
     "data": {
      "text/plain": [
       "11"
      ]
     },
     "execution_count": 85,
     "metadata": {},
     "output_type": "execute_result"
    }
   ],
   "source": [
    "len(S) - 1"
   ]
  },
  {
   "cell_type": "code",
   "execution_count": null,
   "metadata": {},
   "outputs": [],
   "source": []
  }
 ],
 "metadata": {
  "kernelspec": {
   "display_name": "Python 3",
   "language": "python",
   "name": "python3"
  },
  "language_info": {
   "codemirror_mode": {
    "name": "ipython",
    "version": 3
   },
   "file_extension": ".py",
   "mimetype": "text/x-python",
   "name": "python",
   "nbconvert_exporter": "python",
   "pygments_lexer": "ipython3",
   "version": "3.8.5"
  }
 },
 "nbformat": 4,
 "nbformat_minor": 4
}
