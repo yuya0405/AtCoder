{
 "cells": [
  {
   "cell_type": "code",
   "execution_count": 42,
   "metadata": {},
   "outputs": [
    {
     "name": "stdin",
     "output_type": "stream",
     "text": [
      " 2 10\n",
      " 31 41 59 26 53 58 97 93 23 84\n",
      " 62 64 33 83 27 95 2 88 41 97\n"
     ]
    },
    {
     "name": "stdout",
     "output_type": "stream",
     "text": [
      "627 629 598 648 592 660 567 653 606 662\n",
      "623 633 651 618 645 650 689 685 615 676\n"
     ]
    }
   ],
   "source": [
    "H, W = map(int, input().split())\n",
    "A = [list(map(int, input().split())) for _ in range(H)]\n",
    "\n",
    "row = []\n",
    "col = []\n",
    "for a in A:\n",
    "    row.append(sum(a))\n",
    "\n",
    "import numpy as np\n",
    "for w in range(W):\n",
    "    col.append(np.array(A)[:, w].sum())\n",
    "\n",
    "ans = [[0]*W for i in range(H)]\n",
    "for h in range(H):\n",
    "    for w in range(W):\n",
    "        ans[h][w] = row[h] + col[w] - A[h][w]\n",
    "\n",
    "for h in range(H):\n",
    "    print (*ans[h])"
   ]
  },
  {
   "cell_type": "code",
   "execution_count": null,
   "metadata": {},
   "outputs": [],
   "source": []
  }
 ],
 "metadata": {
  "kernelspec": {
   "display_name": "Python 3",
   "language": "python",
   "name": "python3"
  },
  "language_info": {
   "codemirror_mode": {
    "name": "ipython",
    "version": 3
   },
   "file_extension": ".py",
   "mimetype": "text/x-python",
   "name": "python",
   "nbconvert_exporter": "python",
   "pygments_lexer": "ipython3",
   "version": "3.8.5"
  }
 },
 "nbformat": 4,
 "nbformat_minor": 4
}
