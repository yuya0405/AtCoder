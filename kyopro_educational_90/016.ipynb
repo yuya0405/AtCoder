{
 "cells": [
  {
   "cell_type": "code",
   "execution_count": 18,
   "metadata": {},
   "outputs": [
    {
     "name": "stdin",
     "output_type": "stream",
     "text": [
      " 227\n",
      " 21 47 56\n"
     ]
    },
    {
     "name": "stdout",
     "output_type": "stream",
     "text": [
      "5\n"
     ]
    }
   ],
   "source": [
    "N = int(input())\n",
    "A, B, C = map(int, input().split())\n",
    "\n",
    "max_num = max(N//A+1, N//B+1, N//C+1)\n",
    "\n",
    "min_num = 10000\n",
    "for i in range(max_num):\n",
    "    for j in range(max_num):\n",
    "        Ck = (N-A*i-B*j)\n",
    "        if Ck >=0 and pow(Ck,1,C) == 0 and N==A*i+B*j+Ck and (i+j+Ck//C) < min_num:\n",
    "            min_num = i+j+Ck//C\n",
    "\n",
    "print (int(min_num))"
   ]
  }
 ],
 "metadata": {
  "kernelspec": {
   "display_name": "Python 3",
   "language": "python",
   "name": "python3"
  },
  "language_info": {
   "codemirror_mode": {
    "name": "ipython",
    "version": 3
   },
   "file_extension": ".py",
   "mimetype": "text/x-python",
   "name": "python",
   "nbconvert_exporter": "python",
   "pygments_lexer": "ipython3",
   "version": "3.8.5"
  }
 },
 "nbformat": 4,
 "nbformat_minor": 4
}
