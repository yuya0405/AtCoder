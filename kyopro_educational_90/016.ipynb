{
 "cells": [
  {
   "cell_type": "code",
   "execution_count": 6,
   "metadata": {},
   "outputs": [
    {
     "name": "stdin",
     "output_type": "stream",
     "text": [
      " 998244353\n",
      " 314159 265358 97932\n"
     ]
    },
    {
     "name": "stdout",
     "output_type": "stream",
     "text": [
      "3333\n"
     ]
    }
   ],
   "source": [
    "N = int(input())\n",
    "A, B, C = map(int, input().split())\n",
    "\n",
    "max_num = max(N//A+1, N//B+1, N//C+1)\n",
    "\n",
    "min_num = 10000\n",
    "for i in range(max_num):\n",
    "    for j in range(max_num):\n",
    "        k = (N - A*i - B*j)/C\n",
    "        if k >=0 and k.is_integer() and N == A*i + B*j + C*k and (i+j+k) < min_num:\n",
    "            min_num = i+j+k\n",
    "\n",
    "print (int(min_num))"
   ]
  },
  {
   "cell_type": "code",
   "execution_count": null,
   "metadata": {},
   "outputs": [],
   "source": []
  }
 ],
 "metadata": {
  "kernelspec": {
   "display_name": "Python 3",
   "language": "python",
   "name": "python3"
  },
  "language_info": {
   "codemirror_mode": {
    "name": "ipython",
    "version": 3
   },
   "file_extension": ".py",
   "mimetype": "text/x-python",
   "name": "python",
   "nbconvert_exporter": "python",
   "pygments_lexer": "ipython3",
   "version": "3.8.5"
  }
 },
 "nbformat": 4,
 "nbformat_minor": 4
}
