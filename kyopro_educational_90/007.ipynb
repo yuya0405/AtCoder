{
 "cells": [
  {
   "cell_type": "code",
   "execution_count": 10,
   "metadata": {},
   "outputs": [
    {
     "name": "stdin",
     "output_type": "stream",
     "text": [
      " 4\n",
      " 4000 4400 5000 3200\n",
      " 3\n",
      " 3312\n",
      " 2992\n",
      " 4229\n"
     ]
    },
    {
     "name": "stdout",
     "output_type": "stream",
     "text": [
      "[3200, 4000, 4400, 5000]\n",
      "112\n",
      "208\n",
      "171\n"
     ]
    }
   ],
   "source": [
    "N = int(input())\n",
    "A = list(map(int, input().split()))\n",
    "Q = int(input())\n",
    "B = [int(input()) for _ in range(Q)]\n",
    "\n",
    "A.sort()\n",
    "\n",
    "import bisect\n",
    "\n",
    "for b in B:\n",
    "    i = bisect.bisect(A, b)\n",
    "    if i == 0:\n",
    "        print (A[0]-b)\n",
    "    elif i == N:\n",
    "        print (b-A[-1])\n",
    "    else:\n",
    "        print (min(A[i]-b,b-A[i-1]))"
   ]
  },
  {
   "cell_type": "code",
   "execution_count": null,
   "metadata": {},
   "outputs": [],
   "source": []
  }
 ],
 "metadata": {
  "kernelspec": {
   "display_name": "Python 3",
   "language": "python",
   "name": "python3"
  },
  "language_info": {
   "codemirror_mode": {
    "name": "ipython",
    "version": 3
   },
   "file_extension": ".py",
   "mimetype": "text/x-python",
   "name": "python",
   "nbconvert_exporter": "python",
   "pygments_lexer": "ipython3",
   "version": "3.8.5"
  }
 },
 "nbformat": 4,
 "nbformat_minor": 4
}
