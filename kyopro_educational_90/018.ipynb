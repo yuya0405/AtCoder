{
 "cells": [
  {
   "cell_type": "code",
   "execution_count": 11,
   "metadata": {},
   "outputs": [],
   "source": [
    "T = int(input())\n",
    "L, X, Y = map(int, input().split())\n",
    "Q = int(input())\n",
    "E = [int(input()) for _ in range(Q)]\n",
    "\n",
    "import math\n",
    "\n",
    "for e in E:\n",
    "    x1 = 0.0\n",
    "    y1 = -L/2*math.sin(2*math.pi*e/T)\n",
    "    z1 = L/2-L/2*math.cos(2*math.pi*e/T)\n",
    "    \n",
    "    teihen = math.sqrt(X**2 + (Y-y1)**2)\n",
    "    takasa = z1\n",
    "    \n",
    "    arctan = math.atan(takasa/teihen)\n",
    "    print (arctan*360/(2*math.pi))"
   ]
  },
  {
   "cell_type": "code",
   "execution_count": null,
   "metadata": {},
   "outputs": [],
   "source": []
  }
 ],
 "metadata": {
  "kernelspec": {
   "display_name": "Python 3",
   "language": "python",
   "name": "python3"
  },
  "language_info": {
   "codemirror_mode": {
    "name": "ipython",
    "version": 3
   },
   "file_extension": ".py",
   "mimetype": "text/x-python",
   "name": "python",
   "nbconvert_exporter": "python",
   "pygments_lexer": "ipython3",
   "version": "3.8.5"
  }
 },
 "nbformat": 4,
 "nbformat_minor": 4
}
