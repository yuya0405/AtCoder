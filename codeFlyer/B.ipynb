{
 "cells": [
  {
   "cell_type": "code",
   "execution_count": 12,
   "metadata": {},
   "outputs": [
    {
     "name": "stdout",
     "output_type": "stream",
     "text": [
      "100 99 9\n",
      "SSSEEECCC\n",
      "96\n",
      "94\n"
     ]
    }
   ],
   "source": [
    "# -*- coding: utf-8 -*-\n",
    "A, B, N = map(int, raw_input().split())\n",
    "X = raw_input()\n",
    "\n",
    "for i in range(0, N):\n",
    "    if X[i] == 'S':\n",
    "        A -= 1\n",
    "    elif X[i] == 'C':\n",
    "        B -= 1\n",
    "    else:\n",
    "        if A < B:\n",
    "            B -= 1\n",
    "        else:\n",
    "            A -= 1\n",
    "\n",
    "if A < 0:\n",
    "    A = 0\n",
    "if B < 0:\n",
    "    B = 0\n",
    "\n",
    "print A\n",
    "print B"
   ]
  },
  {
   "cell_type": "code",
   "execution_count": null,
   "metadata": {
    "collapsed": true
   },
   "outputs": [],
   "source": []
  }
 ],
 "metadata": {
  "kernelspec": {
   "display_name": "Python 3",
   "language": "python",
   "name": "python3"
  },
  "language_info": {
   "codemirror_mode": {
    "name": "ipython",
    "version": 3
   },
   "file_extension": ".py",
   "mimetype": "text/x-python",
   "name": "python",
   "nbconvert_exporter": "python",
   "pygments_lexer": "ipython3",
   "version": "3.8.5"
  }
 },
 "nbformat": 4,
 "nbformat_minor": 2
}
