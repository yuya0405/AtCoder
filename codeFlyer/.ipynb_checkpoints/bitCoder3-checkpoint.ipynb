{
 "cells": [
  {
   "cell_type": "code",
   "execution_count": 23,
   "metadata": {},
   "outputs": [
    {
     "name": "stdout",
     "output_type": "stream",
     "text": [
      "6 405885562\n",
      "133510576 158828561 245133494 461153833 840383806 867039395\n"
     ]
    },
    {
     "data": {
      "text/plain": [
       "6"
      ]
     },
     "execution_count": 23,
     "metadata": {},
     "output_type": "execute_result"
    }
   ],
   "source": [
    "# -*- coding: utf-8 -*-\n",
    "N, D = map(int, raw_input().split())\n",
    "X = map(int, raw_input().split())\n",
    "\n",
    "list = []\n",
    "for x in range(0, N):\n",
    "    for y in range(x+1, N):\n",
    "        for z in range(y+1, N):\n",
    "            if X[y]-X[x] <= D and X[z]-X[y] <= D and X[z]-X[x] > D:\n",
    "                list.append([x,y,z])\n",
    "len(list)"
   ]
  }
 ],
 "metadata": {
  "kernelspec": {
   "display_name": "Python 3",
   "language": "python",
   "name": "python3"
  },
  "language_info": {
   "codemirror_mode": {
    "name": "ipython",
    "version": 3
   },
   "file_extension": ".py",
   "mimetype": "text/x-python",
   "name": "python",
   "nbconvert_exporter": "python",
   "pygments_lexer": "ipython3",
   "version": "3.8.5"
  }
 },
 "nbformat": 4,
 "nbformat_minor": 2
}
