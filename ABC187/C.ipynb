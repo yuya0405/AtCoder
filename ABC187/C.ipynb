{
 "cells": [
  {
   "cell_type": "code",
   "execution_count": 19,
   "metadata": {},
   "outputs": [
    {
     "name": "stdout",
     "output_type": "stream",
     "text": [
      "a\n"
     ]
    }
   ],
   "source": [
    "N = int(input())\n",
    "S = [input() for i in range(N)]\n",
    "\n",
    "aru = []\n",
    "nai = []\n",
    "\n",
    "for i in range(N):\n",
    "    if '!' in S[i]:\n",
    "        aru.append(S[i][1:])\n",
    "    else:\n",
    "        nai.append(S[i])\n",
    "\n",
    "flag = False\n",
    "for i in aru:\n",
    "    for j in nai:\n",
    "        if i == j and flag == False:\n",
    "            flag = True\n",
    "            print (i)\n",
    "\n",
    "if flag == False:\n",
    "    print ('satisfiable')"
   ]
  }
 ],
 "metadata": {
  "kernelspec": {
   "display_name": "Python 3",
   "language": "python",
   "name": "python3"
  },
  "language_info": {
   "codemirror_mode": {
    "name": "ipython",
    "version": 3
   },
   "file_extension": ".py",
   "mimetype": "text/x-python",
   "name": "python",
   "nbconvert_exporter": "python",
   "pygments_lexer": "ipython3",
   "version": "3.8.5"
  }
 },
 "nbformat": 4,
 "nbformat_minor": 4
}
