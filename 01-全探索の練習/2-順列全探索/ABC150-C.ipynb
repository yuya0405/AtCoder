{
 "cells": [
  {
   "cell_type": "code",
   "execution_count": 14,
   "metadata": {},
   "outputs": [
    {
     "name": "stdout",
     "output_type": "stream",
     "text": [
      "0\n",
      "0\n",
      "0\n"
     ]
    }
   ],
   "source": [
    "import math\n",
    "from itertools import permutations\n",
    "\n",
    "a = 0\n",
    "b = 0\n",
    "\n",
    "N = int(input())\n",
    "P = tuple(map(int, input().split()))\n",
    "Q = tuple(map(int, input().split()))\n",
    "\n",
    "list = [x for x in range(1, N+1)]\n",
    "\n",
    "for num, i in enumerate(permutations(list)):\n",
    "    if i == P:\n",
    "        a = num\n",
    "    if i == Q:\n",
    "        b = num\n",
    "\n",
    "print(abs(a-b))"
   ]
  },
  {
   "cell_type": "code",
   "execution_count": null,
   "metadata": {},
   "outputs": [],
   "source": []
  }
 ],
 "metadata": {
  "kernelspec": {
   "display_name": "Python 3",
   "language": "python",
   "name": "python3"
  },
  "language_info": {
   "codemirror_mode": {
    "name": "ipython",
    "version": 3
   },
   "file_extension": ".py",
   "mimetype": "text/x-python",
   "name": "python",
   "nbconvert_exporter": "python",
   "pygments_lexer": "ipython3",
   "version": "3.8.5"
  }
 },
 "nbformat": 4,
 "nbformat_minor": 4
}
