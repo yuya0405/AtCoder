{
 "cells": [
  {
   "cell_type": "code",
   "execution_count": 28,
   "metadata": {},
   "outputs": [
    {
     "name": "stdout",
     "output_type": "stream",
     "text": [
      "3 13\n",
      "30 13\n",
      "35 13\n",
      "35 13\n",
      "-1\n"
     ]
    }
   ],
   "source": [
    "N, X = map(int, input().split())\n",
    "l = [list(map(int, input().split())) for i in range(N)]\n",
    "\n",
    "sum = 0\n",
    "for i in range(N):\n",
    "    sum += l[i][0] * l[i][1]\n",
    "    if sum > X*100:\n",
    "        print (i+1)\n",
    "        break\n",
    "if sum <= X*100:\n",
    "    print (-1)"
   ]
  },
  {
   "cell_type": "code",
   "execution_count": null,
   "metadata": {},
   "outputs": [],
   "source": []
  }
 ],
 "metadata": {
  "kernelspec": {
   "display_name": "Python 3",
   "language": "python",
   "name": "python3"
  },
  "language_info": {
   "codemirror_mode": {
    "name": "ipython",
    "version": 3
   },
   "file_extension": ".py",
   "mimetype": "text/x-python",
   "name": "python",
   "nbconvert_exporter": "python",
   "pygments_lexer": "ipython3",
   "version": "3.8.5"
  }
 },
 "nbformat": 4,
 "nbformat_minor": 4
}
