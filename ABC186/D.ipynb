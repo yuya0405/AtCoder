{
 "cells": [
  {
   "cell_type": "code",
   "execution_count": 9,
   "metadata": {},
   "outputs": [],
   "source": [
    "N = int(input())\n",
    "A = list(map(int, input().split()))\n",
    "\n",
    "ans = 0\n",
    "for i in range(len(A)):\n",
    "    for j in range(len(A)):\n",
    "        ans += abs(A[i] - A[j])\n",
    "ans /= 2\n",
    "print (int(ans))"
   ]
  },
  {
   "cell_type": "code",
   "execution_count": 19,
   "metadata": {},
   "outputs": [
    {
     "name": "stdout",
     "output_type": "stream",
     "text": [
      "30 30 64\n",
      "-68\n",
      "(5.049348106959113e-16+8.246211251235321j)\n"
     ]
    }
   ],
   "source": [
    "tmp1 = 0\n",
    "for i in range(len(A)):\n",
    "    tmp1 += A[i]**2\n",
    "tmp2 = 0\n",
    "for j in range(len(A)):\n",
    "    tmp2 += A[j]**2\n",
    "tmp3 = sum(A)*sum(A)\n",
    "\n",
    "print (tmp1, tmp2, tmp3)\n",
    "ans = (tmp1 - 2*tmp3 + tmp2)\n",
    "print(ans)\n",
    "print(ans**0.5)"
   ]
  },
  {
   "cell_type": "code",
   "execution_count": null,
   "metadata": {},
   "outputs": [],
   "source": []
  }
 ],
 "metadata": {
  "kernelspec": {
   "display_name": "Python 3",
   "language": "python",
   "name": "python3"
  },
  "language_info": {
   "codemirror_mode": {
    "name": "ipython",
    "version": 3
   },
   "file_extension": ".py",
   "mimetype": "text/x-python",
   "name": "python",
   "nbconvert_exporter": "python",
   "pygments_lexer": "ipython3",
   "version": "3.8.5"
  }
 },
 "nbformat": 4,
 "nbformat_minor": 4
}
