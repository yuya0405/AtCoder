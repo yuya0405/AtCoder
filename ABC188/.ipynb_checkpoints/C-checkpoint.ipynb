{
 "cells": [
  {
   "cell_type": "code",
   "execution_count": 3,
   "metadata": {
    "scrolled": false
   },
   "outputs": [
    {
     "name": "stdout",
     "output_type": "stream",
     "text": [
      "4\n",
      "6 13 12 5 3 7 10 11 16 9 8 15 2 1 14 4\n",
      "[6, 13, 12, 5, 3, 7, 10, 11, 16, 9, 8, 15, 2, 1, 14, 4]\n",
      "6 13\n",
      "1\n",
      "[6, 13, 12, 5, 3, 7, 10, 11, 16, 9, 8, 15, 2, 1, 14, 4]\n",
      "12 5\n",
      "4\n",
      "[6, 13, 12, 5, 3, 7, 10, 11, 16, 9, 8, 15, 2, 1, 14, 4]\n",
      "3 7\n",
      "5\n",
      "[6, 13, 12, 5, 3, 7, 10, 11, 16, 9, 8, 15, 2, 1, 14, 4]\n",
      "10 11\n",
      "7\n",
      "[6, 13, 12, 5, 3, 7, 10, 11, 16, 9, 8, 15, 2, 1, 14, 4]\n",
      "16 9\n",
      "10\n",
      "[6, 13, 12, 5, 3, 7, 10, 11, 16, 9, 8, 15, 2, 1, 14, 4]\n",
      "8 15\n",
      "11\n",
      "[6, 13, 12, 5, 3, 7, 10, 11, 16, 9, 8, 15, 2, 1, 14, 4]\n",
      "2 1\n",
      "14\n",
      "[6, 13, 12, 5, 3, 7, 10, 11, 16, 9, 8, 15, 2, 1, 14, 4]\n",
      "14 4\n",
      "16\n",
      "[13, 12, 7, 11, 16, 15, 2, 14]\n",
      "13 12\n",
      "3\n",
      "[13, 12, 7, 11, 16, 15, 2, 14]\n",
      "7 11\n",
      "6\n",
      "[13, 12, 7, 11, 16, 15, 2, 14]\n",
      "16 15\n",
      "12\n",
      "[13, 12, 7, 11, 16, 15, 2, 14]\n",
      "2 14\n",
      "13\n",
      "[13, 11, 16, 14]\n",
      "13 11\n",
      "8\n",
      "[13, 11, 16, 14]\n",
      "16 14\n",
      "15\n",
      "[13, 16]\n",
      "13 16\n",
      "2\n",
      "2\n"
     ]
    }
   ],
   "source": [
    "N = int(input())\n",
    "A = list(map(int, input().split()))\n",
    "X = A\n",
    "Y = []\n",
    "\n",
    "for i in range(1, N+1):\n",
    "    for j in range(1, 2**(N-i)+1):\n",
    "        print (X)\n",
    "        print (X[(2*j-1)-1], X[2*j-1])\n",
    "        Y.append(max(X[(2*j-1)-1], X[2*j-1]))\n",
    "        lose = A.index(min(X[(2*j-1)-1], X[2*j-1]))+1\n",
    "        print (lose)\n",
    "    X = Y\n",
    "    Y = []\n",
    "print (lose)"
   ]
  },
  {
   "cell_type": "code",
   "execution_count": null,
   "metadata": {},
   "outputs": [],
   "source": [
    "N = int(input())\n",
    "A = list(map(int, input().split()))\n",
    "X = A\n",
    "Y = []\n",
    "\n",
    "for i in range(1, N+1):\n",
    "    for j in range(1, 2**(N-i)+1):\n",
    "        Y.append(max(X[(2*j-1)-1], X[2*j-1]))\n",
    "        lose = A.index(min(X[(2*j-1)-1], X[2*j-1]))+1\n",
    "        print (lose)\n",
    "    X = Y\n",
    "    Y = []\n",
    "print (lose)"
   ]
  }
 ],
 "metadata": {
  "kernelspec": {
   "display_name": "Python 3",
   "language": "python",
   "name": "python3"
  },
  "language_info": {
   "codemirror_mode": {
    "name": "ipython",
    "version": 3
   },
   "file_extension": ".py",
   "mimetype": "text/x-python",
   "name": "python",
   "nbconvert_exporter": "python",
   "pygments_lexer": "ipython3",
   "version": "3.8.5"
  }
 },
 "nbformat": 4,
 "nbformat_minor": 4
}
