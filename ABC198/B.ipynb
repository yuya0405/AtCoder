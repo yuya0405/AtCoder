{
 "cells": [
  {
   "cell_type": "code",
   "execution_count": null,
   "metadata": {},
   "outputs": [],
   "source": [
    "N = input()\n",
    " \n",
    "i = -1\n",
    "flag = False\n",
    " \n",
    "if (list(N) == list(reversed(N))):\n",
    "    print (\"Yes\")\n",
    "    flag = True\n",
    " \n",
    "while (N[i] == \"0\" and flag == False):\n",
    "    N = \"0\" + N\n",
    "    if (list(N) == list(reversed(N))):\n",
    "        print (\"Yes\")\n",
    "        flag = True\n",
    "        break\n",
    "    i -= 1\n",
    "        \n",
    "if flag != True:\n",
    "    print(\"No\")"
   ]
  },
  {
   "cell_type": "code",
   "execution_count": null,
   "metadata": {},
   "outputs": [],
   "source": [
    "1210\n",
    "777\n",
    "123456789"
   ]
  }
 ],
 "metadata": {
  "kernelspec": {
   "display_name": "Python 3",
   "language": "python",
   "name": "python3"
  },
  "language_info": {
   "codemirror_mode": {
    "name": "ipython",
    "version": 3
   },
   "file_extension": ".py",
   "mimetype": "text/x-python",
   "name": "python",
   "nbconvert_exporter": "python",
   "pygments_lexer": "ipython3",
   "version": "3.8.5"
  }
 },
 "nbformat": 4,
 "nbformat_minor": 4
}
