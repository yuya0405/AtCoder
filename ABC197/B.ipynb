{
 "cells": [
  {
   "cell_type": "code",
   "execution_count": 95,
   "metadata": {},
   "outputs": [
    {
     "name": "stdin",
     "output_type": "stream",
     "text": [
      " 4 4 2 2\n",
      " ##..\n",
      " ...#\n",
      " #.#.\n",
      " .#.#\n"
     ]
    },
    {
     "name": "stdout",
     "output_type": "stream",
     "text": [
      "4\n"
     ]
    }
   ],
   "source": [
    "H, W, X, Y = map(int, input().split())\n",
    "S = [input() for _ in range(H)]\n",
    "\n",
    "H -= 1\n",
    "W -= 1\n",
    "X -= 1\n",
    "Y -= 1\n",
    "\n",
    "ans = 1\n",
    "\n",
    "# 上\n",
    "for ue in reversed(range(0, X)):\n",
    "    if S[ue][Y] == \"#\":\n",
    "        break\n",
    "    else:\n",
    "        ans += 1\n",
    "\n",
    "# 下\n",
    "for sita in range(X+1, H+1):\n",
    "    if S[sita][Y] == \"#\":\n",
    "        break\n",
    "    else:\n",
    "        ans += 1\n",
    "\n",
    "# 左\n",
    "for hidari in reversed(range(0, Y)):\n",
    "    if S[X][hidari] == \"#\":\n",
    "        break\n",
    "    else:\n",
    "        ans += 1\n",
    "\n",
    "# 右\n",
    "for migi in range(Y+1, W+1):\n",
    "    if S[X][migi] == \"#\":\n",
    "        break\n",
    "    else:\n",
    "        ans += 1\n",
    "\n",
    "print(ans)"
   ]
  },
  {
   "cell_type": "code",
   "execution_count": null,
   "metadata": {},
   "outputs": [],
   "source": []
  }
 ],
 "metadata": {
  "kernelspec": {
   "display_name": "Python 3",
   "language": "python",
   "name": "python3"
  },
  "language_info": {
   "codemirror_mode": {
    "name": "ipython",
    "version": 3
   },
   "file_extension": ".py",
   "mimetype": "text/x-python",
   "name": "python",
   "nbconvert_exporter": "python",
   "pygments_lexer": "ipython3",
   "version": "3.8.5"
  }
 },
 "nbformat": 4,
 "nbformat_minor": 4
}
