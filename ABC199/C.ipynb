{
 "cells": [
  {
   "cell_type": "code",
   "execution_count": 51,
   "metadata": {},
   "outputs": [],
   "source": [
    "N = int(input())\n",
    "S = input()\n",
    "Q = int(input())\n",
    "TAB = [list(map(int, input().split())) for _ in range(Q)]\n",
    "\n",
    "s = list(S)\n",
    "for tab in TAB:\n",
    "    if tab[0] == 2:\n",
    "        tmp = s[:N]\n",
    "        s[:N] = s[N:]\n",
    "        s[N:] = tmp\n",
    "    elif tab[0] == 1:\n",
    "        tmp = s[tab[1]-1]\n",
    "        s[tab[1]-1] = s[tab[2]-1]\n",
    "        s[tab[2]-1] = tmp\n",
    "print (\"\".join(s))"
   ]
  },
  {
   "cell_type": "code",
   "execution_count": null,
   "metadata": {},
   "outputs": [],
   "source": []
  }
 ],
 "metadata": {
  "kernelspec": {
   "display_name": "Python 3",
   "language": "python",
   "name": "python3"
  },
  "language_info": {
   "codemirror_mode": {
    "name": "ipython",
    "version": 3
   },
   "file_extension": ".py",
   "mimetype": "text/x-python",
   "name": "python",
   "nbconvert_exporter": "python",
   "pygments_lexer": "ipython3",
   "version": "3.8.5"
  }
 },
 "nbformat": 4,
 "nbformat_minor": 4
}
