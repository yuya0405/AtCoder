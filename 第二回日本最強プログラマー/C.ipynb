{
 "cells": [
  {
   "cell_type": "code",
   "execution_count": 41,
   "metadata": {},
   "outputs": [
    {
     "name": "stdin",
     "output_type": "stream",
     "text": [
      " 101 139\n"
     ]
    },
    {
     "name": "stdout",
     "output_type": "stream",
     "text": [
      "101 102\n",
      "0\n",
      "102 104\n",
      "1\n",
      "102 105\n",
      "2\n",
      "102 108\n",
      "3\n",
      "102 119\n",
      "6\n",
      "102 136\n",
      "17\n",
      "34\n"
     ]
    }
   ],
   "source": [
    "import math\n",
    "\n",
    "A, B = map(int, input().split())\n",
    "\n",
    "ans = 0\n",
    "for i in range(A, B):\n",
    "    for j in range(i+1, B+1):\n",
    "        tmp = math.gcd(i, j)\n",
    "        if ans < tmp:\n",
    "            ans = tmp\n",
    "print (ans)"
   ]
  },
  {
   "cell_type": "code",
   "execution_count": 37,
   "metadata": {},
   "outputs": [
    {
     "data": {
      "text/plain": [
       "11"
      ]
     },
     "execution_count": 37,
     "metadata": {},
     "output_type": "execute_result"
    }
   ],
   "source": []
  },
  {
   "cell_type": "code",
   "execution_count": null,
   "metadata": {},
   "outputs": [],
   "source": []
  }
 ],
 "metadata": {
  "kernelspec": {
   "display_name": "Python 3",
   "language": "python",
   "name": "python3"
  },
  "language_info": {
   "codemirror_mode": {
    "name": "ipython",
    "version": 3
   },
   "file_extension": ".py",
   "mimetype": "text/x-python",
   "name": "python",
   "nbconvert_exporter": "python",
   "pygments_lexer": "ipython3",
   "version": "3.8.5"
  }
 },
 "nbformat": 4,
 "nbformat_minor": 4
}
