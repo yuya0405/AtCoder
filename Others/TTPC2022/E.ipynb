{
 "cells": [
  {
   "cell_type": "code",
   "execution_count": 3,
   "id": "e2b66bb0-265a-4035-bb62-7d3c68595575",
   "metadata": {},
   "outputs": [
    {
     "name": "stdin",
     "output_type": "stream",
     "text": [
      " Tokyo Institute of Technology\n",
      " Tokyo Medical and Dental University\n",
      " 10\n",
      " The University\n",
      " Tokyo University\n",
      " kyoto University\n",
      " Tokyo Tech\n",
      " TMDU\n",
      " Kyoto University\n",
      " The University of Tokyo\n",
      " Tokyo Technology and Medical and Dental University\n",
      "    Tehnoooorsty\n",
      " Tokyo\n"
     ]
    }
   ],
   "source": [
    "A = input()\n",
    "B = input()\n",
    "Q = int(input())\n",
    "S = [input() for _ in range(Q)]"
   ]
  },
  {
   "cell_type": "code",
   "execution_count": 6,
   "id": "f95965e0-440b-40cd-9abc-0edfde61cd70",
   "metadata": {},
   "outputs": [
    {
     "data": {
      "text/plain": [
       "'Tokyo Institute of TechnologyTokyo Medical and Dental University'"
      ]
     },
     "execution_count": 6,
     "metadata": {},
     "output_type": "execute_result"
    }
   ],
   "source": [
    "A+B"
   ]
  },
  {
   "cell_type": "code",
   "execution_count": 5,
   "id": "21ce0707-b39e-4b88-b4f5-71b8d4e4cc54",
   "metadata": {},
   "outputs": [
    {
     "name": "stdout",
     "output_type": "stream",
     "text": [
      "The University\n",
      "Tokyo University\n",
      "kyoto University\n",
      "Tokyo Tech\n",
      "TMDU\n",
      "Kyoto University\n",
      "The University of Tokyo\n",
      "Tokyo Technology and Medical and Dental University\n",
      "   Tehnoooorsty\n",
      "Tokyo\n"
     ]
    }
   ],
   "source": [
    "for s in S:\n",
    "    print (s)"
   ]
  },
  {
   "cell_type": "code",
   "execution_count": null,
   "id": "8fd87020-8e37-4983-afbc-0a2b2318d665",
   "metadata": {},
   "outputs": [],
   "source": [
    "for s in S:\n",
    "    \n",
    "    material = A+B\n",
    "    tar = s\n",
    "    \n",
    "    # dp[i][j] ： material=A+Bのi文字目までを使ってtar=sのj文字目まで選択した時の|len(a)-len(b)|の最小値\n",
    "    dp = [[0 for _ in range(len(tar)+1)] for _ in range(len(material)+1)]\n",
    "\n",
    "    for i in range(len(material)+1):\n",
    "        dp[i][0] = -1\n",
    "\n",
    "    for i in range(len(material)):\n",
    "        for j in range(len(tar)):\n",
    "            if S[i] != tar[j]:\n",
    "                dp[i+1][j+1] = dp[i][j+1]\n",
    "            if S[i] == tar[j]:\n",
    "                dp[i+1][j+1] = (dp[i][j+1] + dp[i][j]) % mod\n",
    "\n",
    "    print(dp[len(material)][8])"
   ]
  }
 ],
 "metadata": {
  "kernelspec": {
   "display_name": "Python 3 (ipykernel)",
   "language": "python",
   "name": "python3"
  },
  "language_info": {
   "codemirror_mode": {
    "name": "ipython",
    "version": 3
   },
   "file_extension": ".py",
   "mimetype": "text/x-python",
   "name": "python",
   "nbconvert_exporter": "python",
   "pygments_lexer": "ipython3",
   "version": "3.8.13"
  }
 },
 "nbformat": 4,
 "nbformat_minor": 5
}
