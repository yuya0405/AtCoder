{
 "cells": [
  {
   "cell_type": "code",
   "execution_count": 1,
   "id": "a438d87e-0eff-44b6-a270-be0d88db7e5c",
   "metadata": {},
   "outputs": [
    {
     "name": "stdin",
     "output_type": "stream",
     "text": [
      " 4\n",
      " 6 -2 3 8\n",
      " -1 -1 7 -8\n",
      " 3 2 5 4\n"
     ]
    }
   ],
   "source": [
    "N = int(input())\n",
    "A = list(map(int, input().split()))\n",
    "B = list(map(int, input().split()))\n",
    "C = list(map(int, input().split()))"
   ]
  },
  {
   "cell_type": "code",
   "execution_count": null,
   "id": "c4117680-d0e2-4404-bf07-da7d5875c0fa",
   "metadata": {},
   "outputs": [],
   "source": []
  },
  {
   "cell_type": "code",
   "execution_count": 32,
   "id": "ef115a17-dcd1-44fc-bce1-1fcf2ad3a886",
   "metadata": {},
   "outputs": [
    {
     "data": {
      "text/plain": [
       "[56, 42, 21, 16, 2, 2, -3, -3, -6, -6, -8, -8, -14, -24, -48, -64]"
      ]
     },
     "execution_count": 32,
     "metadata": {},
     "output_type": "execute_result"
    }
   ],
   "source": [
    "from itertools import product\n",
    "\n",
    "AB = list(product(A, B))\n",
    "AB_product = [AB[i][0]*AB[i][1] for i in range(len(AB))]\n",
    "AB_product.sort(reverse=True)\n",
    "AB_product"
   ]
  },
  {
   "cell_type": "code",
   "execution_count": 33,
   "id": "ea07659a-0af8-4604-a8fb-63c674f47842",
   "metadata": {},
   "outputs": [
    {
     "name": "stdout",
     "output_type": "stream",
     "text": [
      "56 3\n",
      "42 2\n",
      "21 5\n",
      "16 4\n"
     ]
    }
   ],
   "source": [
    "ans = 0\n",
    "ind = 0\n",
    "while(ind < N):\n",
    "    tmp1 = max(AB_product)\n",
    "    AB_product.remove(max(AB_product))\n",
    "    \n",
    "    print (tmp1, C[ind])\n",
    "    if tmp1 + C[ind] > 0:\n",
    "        ans += tmp1 + C[0]\n",
    "        ind += 1\n",
    "    else:\n",
    "        break"
   ]
  },
  {
   "cell_type": "code",
   "execution_count": 34,
   "id": "53fb8186-b0c3-4e0f-a6f9-f69f7aafccb7",
   "metadata": {},
   "outputs": [
    {
     "data": {
      "text/plain": [
       "147"
      ]
     },
     "execution_count": 34,
     "metadata": {},
     "output_type": "execute_result"
    }
   ],
   "source": [
    "ans"
   ]
  },
  {
   "cell_type": "code",
   "execution_count": null,
   "id": "31d6558a-f6c2-42bf-aef6-e6dc5758a04b",
   "metadata": {},
   "outputs": [],
   "source": []
  }
 ],
 "metadata": {
  "kernelspec": {
   "display_name": "Python 3",
   "language": "python",
   "name": "python3"
  },
  "language_info": {
   "codemirror_mode": {
    "name": "ipython",
    "version": 3
   },
   "file_extension": ".py",
   "mimetype": "text/x-python",
   "name": "python",
   "nbconvert_exporter": "python",
   "pygments_lexer": "ipython3",
   "version": "3.8.8"
  }
 },
 "nbformat": 4,
 "nbformat_minor": 5
}
