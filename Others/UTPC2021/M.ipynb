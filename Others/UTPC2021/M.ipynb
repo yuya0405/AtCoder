{
 "cells": [
  {
   "cell_type": "code",
   "execution_count": 84,
   "id": "0447a52c-6940-414f-8546-53f085944b1c",
   "metadata": {},
   "outputs": [
    {
     "name": "stdin",
     "output_type": "stream",
     "text": [
      " 10 20\n",
      " 10 10 10 20 6 5 4 8 12 15\n",
      " 10 20 30 40 50 60 70 80 90 10\n"
     ]
    }
   ],
   "source": [
    "N, K = map(int, input().split())\n",
    "P = list(map(int, input().split()))\n",
    "Q = list(map(int, input().split()))"
   ]
  },
  {
   "cell_type": "code",
   "execution_count": 85,
   "id": "098d074c-a046-49b0-9eb2-7a1668f645a6",
   "metadata": {},
   "outputs": [
    {
     "name": "stdout",
     "output_type": "stream",
     "text": [
      "1.1215766545905697\n",
      "1.5057646075230342\n",
      "1.666932640887659\n",
      "3.500018280792201\n",
      "1.0800001144409181\n",
      "0.9166666675829264\n",
      "0.7428571428591354\n",
      "1.500000000000001\n",
      "2.2666666666666666\n",
      "1.6823649818858541\n"
     ]
    },
    {
     "data": {
      "text/plain": [
       "3.500018280792201"
      ]
     },
     "execution_count": 85,
     "metadata": {},
     "output_type": "execute_result"
    }
   ],
   "source": [
    "E = 0.0\n",
    "for i in range(N):\n",
    "    e = 0\n",
    "    tmp = 1.0\n",
    "    for k in range(1, K+1):\n",
    "        e += (K-k) * P[i]/100 * tmp * Q[i]/100\n",
    "        tmp -= tmp * Q[i]/100\n",
    "    print (e)\n",
    "    E = max(E, e)\n",
    "E"
   ]
  },
  {
   "cell_type": "code",
   "execution_count": 107,
   "id": "4e5d5848-b6f4-41d3-89b0-1e4c030323fc",
   "metadata": {},
   "outputs": [
    {
     "name": "stdout",
     "output_type": "stream",
     "text": [
      "1.1215766545905694\n",
      "1.505764607523034\n",
      "1.666932640887659\n",
      "3.500018280792201\n",
      "1.0800001144409181\n",
      "0.9166666675829267\n",
      "0.7428571428591354\n",
      "1.5000000000000009\n",
      "2.2666666666666675\n",
      "1.6823649818858537\n"
     ]
    },
    {
     "data": {
      "text/plain": [
       "3.500018280792201"
      ]
     },
     "execution_count": 107,
     "metadata": {},
     "output_type": "execute_result"
    }
   ],
   "source": [
    "E = 0.0\n",
    "for i in range(N):\n",
    "    e = 0\n",
    "    TMP = []\n",
    "    for k in range(1, K+1):\n",
    "        e += (K-k) * (P[i]/100 - sum(TMP)) * Q[i]/100\n",
    "        TMP.append((P[i]/100 - sum(TMP)) * Q[i]/100)\n",
    "    print (e)\n",
    "    E = max(E, e)\n",
    "E"
   ]
  },
  {
   "cell_type": "code",
   "execution_count": 106,
   "id": "c19ec3d3-2b74-4f51-8f0c-059113ede782",
   "metadata": {},
   "outputs": [
    {
     "name": "stdout",
     "output_type": "stream",
     "text": [
      "2.052\n",
      "2.2464000000000004\n",
      "2.2647600000000003\n",
      "2.2664880000000003\n",
      "2.2666500000000003\n",
      "2.2666651200000003\n",
      "2.2666665240000006\n",
      "2.2666666536000006\n",
      "2.2666666654800007\n",
      "2.266666666560001\n",
      "2.266666666657201\n",
      "2.266666666665841\n",
      "2.266666666666597\n",
      "2.2666666666666617\n",
      "2.266666666666667\n",
      "2.2666666666666675\n",
      "2.2666666666666675\n",
      "2.2666666666666675\n",
      "2.2666666666666675\n",
      "2.2666666666666675\n"
     ]
    },
    {
     "data": {
      "text/plain": [
       "2.2666666666666675"
      ]
     },
     "execution_count": 106,
     "metadata": {},
     "output_type": "execute_result"
    }
   ],
   "source": [
    "i = 8\n",
    "e = 0\n",
    "TMP = []\n",
    "for k in range(1, K+1):\n",
    "    e += (K-k) * (P[i]/100 - sum(TMP)) * Q[i]/100\n",
    "    TMP.append((P[i]/100 - sum(TMP)) * Q[i]/100)\n",
    "    print (e)\n",
    "e"
   ]
  },
  {
   "cell_type": "code",
   "execution_count": 90,
   "id": "79b8bc5a-d7c1-4f4b-acc1-fe8695b2e5eb",
   "metadata": {},
   "outputs": [
    {
     "data": {
      "text/plain": [
       "1.5200000000000002"
      ]
     },
     "execution_count": 90,
     "metadata": {},
     "output_type": "execute_result"
    }
   ],
   "source": [
    "19*0.2*0.4"
   ]
  },
  {
   "cell_type": "code",
   "execution_count": null,
   "id": "57c1d71f-9082-4c76-b748-56943c9f227a",
   "metadata": {},
   "outputs": [],
   "source": []
  }
 ],
 "metadata": {
  "kernelspec": {
   "display_name": "Python 3",
   "language": "python",
   "name": "python3"
  },
  "language_info": {
   "codemirror_mode": {
    "name": "ipython",
    "version": 3
   },
   "file_extension": ".py",
   "mimetype": "text/x-python",
   "name": "python",
   "nbconvert_exporter": "python",
   "pygments_lexer": "ipython3",
   "version": "3.8.8"
  }
 },
 "nbformat": 4,
 "nbformat_minor": 5
}
