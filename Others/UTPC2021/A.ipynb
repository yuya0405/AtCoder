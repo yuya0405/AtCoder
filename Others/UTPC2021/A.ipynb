{
 "cells": [
  {
   "cell_type": "code",
   "execution_count": 1,
   "id": "5fa75b41-0d95-425e-a8a8-f1dba74b6f1c",
   "metadata": {},
   "outputs": [
    {
     "name": "stdin",
     "output_type": "stream",
     "text": [
      " 5\n",
      " UTCUP\n"
     ]
    }
   ],
   "source": [
    "N = int(input())\n",
    "S = input()"
   ]
  },
  {
   "cell_type": "code",
   "execution_count": 34,
   "id": "27b1a1f0-bb54-459a-8fd0-713552926901",
   "metadata": {},
   "outputs": [],
   "source": [
    "def Base_10_to_n(X, n):\n",
    "    if (int(X/n)):\n",
    "        return Base_10_to_n(int(X/n), n)+str(X%n)\n",
    "    return str(X%n)"
   ]
  },
  {
   "cell_type": "code",
   "execution_count": 45,
   "id": "cefbeae8-0272-4e4e-920e-f6bd5e0ad922",
   "metadata": {},
   "outputs": [],
   "source": [
    "dp = [float('inf')] * int(\"3\"*N)"
   ]
  },
  {
   "cell_type": "code",
   "execution_count": 47,
   "id": "7d0a7208-2b87-4cf4-a93b-20e97ceea005",
   "metadata": {},
   "outputs": [],
   "source": [
    "S_str = S.replace(\"U\", \"0\").replace(\"T\", \"1\").replace(\"P\", \"2\").replace(\"C\", \"3\")\n",
    "S_num = int(S_str)\n",
    "dp[S_num] = 0"
   ]
  },
  {
   "cell_type": "code",
   "execution_count": 48,
   "id": "a1104d4d-77bc-4d28-ace3-8aacc426ede6",
   "metadata": {},
   "outputs": [
    {
     "data": {
      "text/plain": [
       "'01302'"
      ]
     },
     "execution_count": 48,
     "metadata": {},
     "output_type": "execute_result"
    }
   ],
   "source": [
    "S_str"
   ]
  },
  {
   "cell_type": "code",
   "execution_count": null,
   "id": "616dfc46-f6c0-405b-a04d-7e1f0799f0ed",
   "metadata": {},
   "outputs": [],
   "source": []
  }
 ],
 "metadata": {
  "kernelspec": {
   "display_name": "Python 3",
   "language": "python",
   "name": "python3"
  },
  "language_info": {
   "codemirror_mode": {
    "name": "ipython",
    "version": 3
   },
   "file_extension": ".py",
   "mimetype": "text/x-python",
   "name": "python",
   "nbconvert_exporter": "python",
   "pygments_lexer": "ipython3",
   "version": "3.8.8"
  }
 },
 "nbformat": 4,
 "nbformat_minor": 5
}
