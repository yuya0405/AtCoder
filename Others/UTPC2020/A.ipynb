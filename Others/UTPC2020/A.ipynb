{
 "cells": [
  {
   "cell_type": "code",
   "execution_count": 2,
   "id": "0d280f4b-fc43-4cc1-a36b-4e2533eb769e",
   "metadata": {},
   "outputs": [
    {
     "name": "stdin",
     "output_type": "stream",
     "text": [
      " 2 7\n",
      " 1 5\n",
      " 4 4\n"
     ]
    }
   ],
   "source": [
    "N, L = map(int, input().split())\n",
    "XA = [list(map(int, input().split())) for _ in range(N)]"
   ]
  },
  {
   "cell_type": "code",
   "execution_count": 27,
   "id": "e47c8df5-d4f9-4fdb-a340-636d4247dd9e",
   "metadata": {},
   "outputs": [],
   "source": [
    "def is_ok(mid):\n",
    "    T = mid\n",
    "    now = T\n",
    "    pre = 0\n",
    "    for i in range(N):\n",
    "        now = min(T, XA[i][0]-pre+now)\n",
    "        now -= XA[i][1]\n",
    "        pre = XA[i][0]\n",
    "        if i == XA[i][0]:\n",
    "            now -= XA[i][1]\n",
    "        if now < 0:\n",
    "            return False\n",
    "    return True\n",
    "\n",
    "def meguru_bisect(ng, ok):\n",
    "    while(abs(ok-ng)>1):\n",
    "        mid = (ok+ng)//2\n",
    "        if is_ok(mid):\n",
    "            ok = mid\n",
    "        else:\n",
    "            ng = mid\n",
    "    return (ok)"
   ]
  },
  {
   "cell_type": "code",
   "execution_count": 29,
   "id": "d48e7935-e3a9-4d81-bd8a-898de3a41576",
   "metadata": {},
   "outputs": [
    {
     "name": "stdout",
     "output_type": "stream",
     "text": [
      "6\n"
     ]
    }
   ],
   "source": [
    "print (meguru_bisect(0, 2*10**14))"
   ]
  },
  {
   "cell_type": "code",
   "execution_count": null,
   "id": "be1d8310-16cb-42ab-8949-4ead850036e8",
   "metadata": {},
   "outputs": [],
   "source": []
  }
 ],
 "metadata": {
  "kernelspec": {
   "display_name": "Python 3",
   "language": "python",
   "name": "python3"
  },
  "language_info": {
   "codemirror_mode": {
    "name": "ipython",
    "version": 3
   },
   "file_extension": ".py",
   "mimetype": "text/x-python",
   "name": "python",
   "nbconvert_exporter": "python",
   "pygments_lexer": "ipython3",
   "version": "3.8.8"
  }
 },
 "nbformat": 4,
 "nbformat_minor": 5
}
