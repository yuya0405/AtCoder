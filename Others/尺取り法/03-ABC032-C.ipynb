{
 "cells": [
  {
   "cell_type": "code",
   "execution_count": 11,
   "id": "6ea2bf81-3e90-4171-bf17-e57bc7bec966",
   "metadata": {},
   "outputs": [
    {
     "name": "stdin",
     "output_type": "stream",
     "text": [
      " 6 10\n",
      " 10\n",
      " 10\n",
      " 10\n",
      " 10\n",
      " 0\n",
      " 10\n"
     ]
    }
   ],
   "source": [
    "from collections import deque\n",
    "\n",
    "## 入力の受け取り\n",
    "N, K = map(int, input().split())\n",
    "A = [int(input()) for i in range(N)]"
   ]
  },
  {
   "cell_type": "code",
   "execution_count": 12,
   "id": "ea1c5b63-ebaf-4ec3-9eae-0af39a48ceba",
   "metadata": {},
   "outputs": [
    {
     "name": "stdout",
     "output_type": "stream",
     "text": [
      "3\n"
     ]
    }
   ],
   "source": [
    "ans = 0\n",
    "que = deque()\n",
    "product = 1\n",
    "\n",
    "if 0 in A:\n",
    "    print (N)\n",
    "    exit()\n",
    "\n",
    "for a in A:\n",
    "    que.append(a)  ## dequeの右端に要素を一つ追加する。\n",
    "    product *= a\n",
    "\n",
    "    while que and product > K:\n",
    "        rm = que.popleft() ## 条件を満たさないのでdequeの左端から要素を取り除く\n",
    "        product //= rm\n",
    "    \n",
    "    ans = max(ans, len(que))\n",
    "print (ans)"
   ]
  },
  {
   "cell_type": "code",
   "execution_count": null,
   "id": "c232c39c-f8d8-4f3c-b601-dc71fcb424ed",
   "metadata": {},
   "outputs": [],
   "source": []
  }
 ],
 "metadata": {
  "kernelspec": {
   "display_name": "Python 3",
   "language": "python",
   "name": "python3"
  },
  "language_info": {
   "codemirror_mode": {
    "name": "ipython",
    "version": 3
   },
   "file_extension": ".py",
   "mimetype": "text/x-python",
   "name": "python",
   "nbconvert_exporter": "python",
   "pygments_lexer": "ipython3",
   "version": "3.8.8"
  }
 },
 "nbformat": 4,
 "nbformat_minor": 5
}
