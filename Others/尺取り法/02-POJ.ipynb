{
 "cells": [
  {
   "cell_type": "code",
   "execution_count": 123,
   "id": "6f3a419b-7e47-4aa7-967d-aa9d30793311",
   "metadata": {},
   "outputs": [
    {
     "name": "stdin",
     "output_type": "stream",
     "text": [
      " 10\n",
      " 28\n",
      " 5 1 2 5 10 7 4 9 2 8\n"
     ]
    }
   ],
   "source": [
    "N = int(input())\n",
    "X = int(input())\n",
    "A = list(map(int, input().split()))"
   ]
  },
  {
   "cell_type": "code",
   "execution_count": 124,
   "id": "38ededdb-0fa8-4f6a-acf1-7917cf7ea364",
   "metadata": {},
   "outputs": [],
   "source": [
    "from collections import deque"
   ]
  },
  {
   "cell_type": "code",
   "execution_count": 128,
   "id": "50c282ef-e584-419c-b0ef-7c785e87938b",
   "metadata": {},
   "outputs": [
    {
     "name": "stdout",
     "output_type": "stream",
     "text": [
      "4\n"
     ]
    }
   ],
   "source": [
    "ans = N+1\n",
    "s = 0\n",
    "que = deque()\n",
    "que.extend(A)\n",
    "for index, a in enumerate(A):\n",
    "    while que and s < X:\n",
    "        rm = que.popleft()\n",
    "        s += rm\n",
    "\n",
    "    if not que:\n",
    "        break\n",
    "    ans = min(ans, N-len(que)-index)\n",
    "    s -= a\n",
    "print (ans)"
   ]
  },
  {
   "cell_type": "code",
   "execution_count": null,
   "id": "f8172208-057e-4d11-a5c3-fe315e171626",
   "metadata": {},
   "outputs": [],
   "source": []
  }
 ],
 "metadata": {
  "kernelspec": {
   "display_name": "Python 3",
   "language": "python",
   "name": "python3"
  },
  "language_info": {
   "codemirror_mode": {
    "name": "ipython",
    "version": 3
   },
   "file_extension": ".py",
   "mimetype": "text/x-python",
   "name": "python",
   "nbconvert_exporter": "python",
   "pygments_lexer": "ipython3",
   "version": "3.8.8"
  }
 },
 "nbformat": 4,
 "nbformat_minor": 5
}
