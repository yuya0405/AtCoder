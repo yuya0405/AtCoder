{
 "cells": [
  {
   "cell_type": "code",
   "execution_count": 2,
   "id": "5e270b6c-3183-419b-ae11-529a88ea0e7a",
   "metadata": {},
   "outputs": [
    {
     "name": "stdin",
     "output_type": "stream",
     "text": [
      " 6 5\n",
      " 1 2 3 4 5 6\n",
      " 6 9 12 21 15\n"
     ]
    }
   ],
   "source": [
    "N, Q = map(int, input().split())\n",
    "A = list(map(int, input().split()))\n",
    "X = list(map(int, input().split()))"
   ]
  },
  {
   "cell_type": "code",
   "execution_count": 4,
   "id": "2de97074-7b8d-4e2f-a41c-70f971bb560f",
   "metadata": {},
   "outputs": [
    {
     "name": "stdout",
     "output_type": "stream",
     "text": [
      "deque([1])\n",
      "deque([1, 2])\n",
      "deque([1, 2, 3])\n",
      "deque([4])\n",
      "deque([5])\n",
      "deque([6])\n",
      "9\n",
      "deque([1])\n",
      "deque([1, 2])\n",
      "deque([1, 2, 3])\n",
      "deque([2, 3, 4])\n",
      "deque([4, 5])\n",
      "deque([6])\n",
      "12\n",
      "deque([1])\n",
      "deque([1, 2])\n",
      "deque([1, 2, 3])\n",
      "deque([1, 2, 3, 4])\n",
      "deque([3, 4, 5])\n",
      "deque([5, 6])\n",
      "15\n",
      "deque([1])\n",
      "deque([1, 2])\n",
      "deque([1, 2, 3])\n",
      "deque([1, 2, 3, 4])\n",
      "deque([1, 2, 3, 4, 5])\n",
      "deque([1, 2, 3, 4, 5, 6])\n",
      "21\n",
      "deque([1])\n",
      "deque([1, 2])\n",
      "deque([1, 2, 3])\n",
      "deque([1, 2, 3, 4])\n",
      "deque([1, 2, 3, 4, 5])\n",
      "deque([4, 5, 6])\n",
      "18\n"
     ]
    }
   ],
   "source": [
    "from collections import deque\n",
    "\n",
    "for x in X:\n",
    "    ans = 0\n",
    "    que = deque()\n",
    "    s = 0\n",
    "    for a in A:\n",
    "        que.append(a)  ## dequeの右端に要素を一つ追加する。\n",
    "        s += a\n",
    "\n",
    "        while que and s > x:\n",
    "            rm = que.popleft() ## 条件を満たさないのでdequeの左端から要素を取り除く\n",
    "            s -= rm\n",
    "        \n",
    "        print (que)\n",
    "        q = que.copy()\n",
    "        while q:\n",
    "            r = q.popleft()\n",
    "            ans += 1\n",
    "    print (ans)"
   ]
  },
  {
   "cell_type": "code",
   "execution_count": null,
   "id": "d0ed1365-dad6-4085-96d3-1c48c1bb7db4",
   "metadata": {},
   "outputs": [],
   "source": []
  }
 ],
 "metadata": {
  "kernelspec": {
   "display_name": "Python 3",
   "language": "python",
   "name": "python3"
  },
  "language_info": {
   "codemirror_mode": {
    "name": "ipython",
    "version": 3
   },
   "file_extension": ".py",
   "mimetype": "text/x-python",
   "name": "python",
   "nbconvert_exporter": "python",
   "pygments_lexer": "ipython3",
   "version": "3.8.8"
  }
 },
 "nbformat": 4,
 "nbformat_minor": 5
}
