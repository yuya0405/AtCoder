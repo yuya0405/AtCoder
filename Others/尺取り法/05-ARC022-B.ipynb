{
 "cells": [
  {
   "cell_type": "code",
   "execution_count": 44,
   "id": "b23b0ee8-361e-4045-bd07-6a953f282b1c",
   "metadata": {},
   "outputs": [
    {
     "name": "stdin",
     "output_type": "stream",
     "text": [
      " 7\n",
      " 1 2 1 3 1 4 4\n"
     ]
    }
   ],
   "source": [
    "N = int(input())\n",
    "A = list(map(int, input().split()))"
   ]
  },
  {
   "cell_type": "code",
   "execution_count": 45,
   "id": "591051e6-9360-48c0-9cd4-1d0418ffd94e",
   "metadata": {},
   "outputs": [],
   "source": [
    "from collections import deque"
   ]
  },
  {
   "cell_type": "code",
   "execution_count": 46,
   "id": "f8414448-1bc3-4e73-a9a6-1e4b8dcb1bb0",
   "metadata": {},
   "outputs": [
    {
     "data": {
      "text/plain": [
       "3"
      ]
     },
     "execution_count": 46,
     "metadata": {},
     "output_type": "execute_result"
    }
   ],
   "source": [
    "que = deque()\n",
    "ans = 0\n",
    "for a in A:\n",
    "    if not que:\n",
    "        que.append(a)\n",
    "    elif a not in que:\n",
    "        que.append(a)\n",
    "    else:\n",
    "        ans = max(ans, len(que))\n",
    "        que.popleft()\n",
    "        if a not in que:\n",
    "            que.append(a)\n",
    "ans = max(ans, len(que))\n",
    "print (ans)"
   ]
  }
 ],
 "metadata": {
  "kernelspec": {
   "display_name": "Python 3",
   "language": "python",
   "name": "python3"
  },
  "language_info": {
   "codemirror_mode": {
    "name": "ipython",
    "version": 3
   },
   "file_extension": ".py",
   "mimetype": "text/x-python",
   "name": "python",
   "nbconvert_exporter": "python",
   "pygments_lexer": "ipython3",
   "version": "3.8.8"
  }
 },
 "nbformat": 4,
 "nbformat_minor": 5
}
