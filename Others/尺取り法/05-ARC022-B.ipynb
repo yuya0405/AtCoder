{
 "cells": [
  {
   "cell_type": "code",
   "execution_count": 44,
   "id": "b23b0ee8-361e-4045-bd07-6a953f282b1c",
   "metadata": {},
   "outputs": [
    {
     "name": "stdin",
     "output_type": "stream",
     "text": [
      " 7\n",
      " 1 2 1 3 1 4 4\n"
     ]
    }
   ],
   "source": [
    "N = int(input())\n",
    "A = list(map(int, input().split()))"
   ]
  },
  {
   "cell_type": "code",
   "execution_count": 45,
   "id": "591051e6-9360-48c0-9cd4-1d0418ffd94e",
   "metadata": {},
   "outputs": [],
   "source": [
    "from collections import deque"
   ]
  },
  {
   "cell_type": "code",
   "execution_count": 59,
   "id": "3dd07182-ad5d-4e34-9dc4-233ca4bfe4e9",
   "metadata": {},
   "outputs": [
    {
     "name": "stdout",
     "output_type": "stream",
     "text": [
      "3\n"
     ]
    }
   ],
   "source": [
    "ans = 0\n",
    "dq = deque()\n",
    "sets = set()\n",
    "for i in range(N):\n",
    "    dq.append(A[i])\n",
    "    \n",
    "    while len(dq) > 1 and A[i] in sets:\n",
    "        sets.remove(dq.popleft())\n",
    "    \n",
    "    ans = max(ans, len(dq))\n",
    "    sets.add(A[i])\n",
    "\n",
    "print (ans)"
   ]
  },
  {
   "cell_type": "code",
   "execution_count": null,
   "id": "01484895-2b4b-43ce-86c5-9967bfa50d7a",
   "metadata": {},
   "outputs": [],
   "source": []
  }
 ],
 "metadata": {
  "kernelspec": {
   "display_name": "Python 3",
   "language": "python",
   "name": "python3"
  },
  "language_info": {
   "codemirror_mode": {
    "name": "ipython",
    "version": 3
   },
   "file_extension": ".py",
   "mimetype": "text/x-python",
   "name": "python",
   "nbconvert_exporter": "python",
   "pygments_lexer": "ipython3",
   "version": "3.8.8"
  }
 },
 "nbformat": 4,
 "nbformat_minor": 5
}
