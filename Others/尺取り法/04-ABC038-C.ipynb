{
 "cells": [
  {
   "cell_type": "code",
   "execution_count": 1,
   "id": "f78936c5-2b8b-4726-a50e-a2b0a7e94faa",
   "metadata": {},
   "outputs": [
    {
     "name": "stdin",
     "output_type": "stream",
     "text": [
      " 5\n",
      " 1 2 3 2 1\n"
     ]
    }
   ],
   "source": [
    "N = int(input())\n",
    "A = list(map(int, input().split()))"
   ]
  },
  {
   "cell_type": "code",
   "execution_count": 2,
   "id": "7f31fb9d-4f72-45a7-a72f-f787bdd9a15e",
   "metadata": {},
   "outputs": [],
   "source": [
    "from collections import deque"
   ]
  },
  {
   "cell_type": "code",
   "execution_count": null,
   "id": "2a64d54b-ad5c-41c9-8640-2dc4dc975d06",
   "metadata": {},
   "outputs": [],
   "source": [
    "que = deque()\n",
    "pre = 0\n",
    "for a in A:\n",
    "    que.append(a)  ## dequeの右端に要素を一つ追加する。\n",
    "\n",
    "    while que and (満たすべき条件の否定):\n",
    "        rm = que.popleft() ## 条件を満たさないのでdequeの左端から要素を取り除く\n",
    "        (取り除いた要素に応じて何らかの処理を行う)\n",
    "\n",
    "    (何らかの処理を行う。whileがbreakしたので、dequeに入っている連続部分列は条件を満たしている。特に右端の要素から左に延ばせる最大の長さになっている。)\n",
    "    pre = a"
   ]
  }
 ],
 "metadata": {
  "kernelspec": {
   "display_name": "Python 3",
   "language": "python",
   "name": "python3"
  },
  "language_info": {
   "codemirror_mode": {
    "name": "ipython",
    "version": 3
   },
   "file_extension": ".py",
   "mimetype": "text/x-python",
   "name": "python",
   "nbconvert_exporter": "python",
   "pygments_lexer": "ipython3",
   "version": "3.8.8"
  }
 },
 "nbformat": 4,
 "nbformat_minor": 5
}
