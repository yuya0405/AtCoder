{
 "cells": [
  {
   "cell_type": "code",
   "execution_count": 26,
   "id": "3db7cac8-32cd-41e0-9838-3d6a2e8f9944",
   "metadata": {},
   "outputs": [
    {
     "name": "stdin",
     "output_type": "stream",
     "text": [
      " 15\n",
      " 6 9\n"
     ]
    },
    {
     "name": "stdout",
     "output_type": "stream",
     "text": [
      "Yes\n"
     ]
    }
   ],
   "source": [
    "N = int(input())\n",
    "K, M = map(int, input().split())\n",
    "\n",
    "A = [0]*M\n",
    "B = [0]*M\n",
    "now = 0\n",
    "for i in range(N):\n",
    "    A[now] += 1\n",
    "    now += K\n",
    "    now %= M\n",
    "    B[now] += 1\n",
    "\n",
    "flag = True\n",
    "for i in range(M):\n",
    "    if A[i] != B[i]:\n",
    "        flag = False\n",
    "\n",
    "if flag == True:\n",
    "    print (\"Yes\")\n",
    "else:\n",
    "    print (\"No\")"
   ]
  },
  {
   "cell_type": "code",
   "execution_count": 27,
   "id": "a6723b7c-838f-48aa-84ab-eaa8df5b5eb5",
   "metadata": {},
   "outputs": [
    {
     "data": {
      "text/plain": [
       "[5, 0, 0, 5, 0, 0, 5, 0, 0]"
      ]
     },
     "execution_count": 27,
     "metadata": {},
     "output_type": "execute_result"
    }
   ],
   "source": [
    "A"
   ]
  },
  {
   "cell_type": "code",
   "execution_count": 28,
   "id": "ea779fb8-b330-44d2-b056-2843530f4784",
   "metadata": {},
   "outputs": [
    {
     "data": {
      "text/plain": [
       "[5, 0, 0, 5, 0, 0, 5, 0, 0]"
      ]
     },
     "execution_count": 28,
     "metadata": {},
     "output_type": "execute_result"
    }
   ],
   "source": [
    "B"
   ]
  }
 ],
 "metadata": {
  "kernelspec": {
   "display_name": "Python 3 (ipykernel)",
   "language": "python",
   "name": "python3"
  },
  "language_info": {
   "codemirror_mode": {
    "name": "ipython",
    "version": 3
   },
   "file_extension": ".py",
   "mimetype": "text/x-python",
   "name": "python",
   "nbconvert_exporter": "python",
   "pygments_lexer": "ipython3",
   "version": "3.9.12"
  }
 },
 "nbformat": 4,
 "nbformat_minor": 5
}
