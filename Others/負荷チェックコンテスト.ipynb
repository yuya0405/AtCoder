{
 "cells": [
  {
   "cell_type": "code",
   "execution_count": 16,
   "id": "794e0104-1546-43fc-a3d2-a0f2c5273cb0",
   "metadata": {},
   "outputs": [
    {
     "name": "stdout",
     "output_type": "stream",
     "text": [
      "14\n",
      "20\n",
      "16\n",
      "2\n",
      "1\n",
      "8\n",
      "6\n",
      "9\n",
      "19\n",
      "10\n",
      "4\n",
      "12\n",
      "17\n",
      "13\n",
      "3\n",
      "7\n",
      "5\n",
      "11\n",
      "18\n",
      "15\n"
     ]
    }
   ],
   "source": [
    "import random\n",
    "\n",
    "L = list(range(1, 21))\n",
    "random.shuffle(L)\n",
    "\n",
    "for l in L:\n",
    "    print (l)"
   ]
  },
  {
   "cell_type": "code",
   "execution_count": 7,
   "id": "5d03034f-a72e-40f4-9007-b96dc9d1b3b6",
   "metadata": {},
   "outputs": [],
   "source": [
    "X = list(range(1,21))"
   ]
  },
  {
   "cell_type": "code",
   "execution_count": 8,
   "id": "a8fb6559-1eaf-4d63-a999-020a2dce60b6",
   "metadata": {},
   "outputs": [],
   "source": [
    "Y = list(range(20,0,-1))"
   ]
  },
  {
   "cell_type": "code",
   "execution_count": 9,
   "id": "72d7f481-a482-4c61-aac6-89a74a729803",
   "metadata": {},
   "outputs": [
    {
     "data": {
      "text/plain": [
       "200"
      ]
     },
     "execution_count": 9,
     "metadata": {},
     "output_type": "execute_result"
    }
   ],
   "source": [
    "sum = 0\n",
    "for i in range(20):\n",
    "    sum += abs(X[i] - Y[i])\n",
    "sum"
   ]
  },
  {
   "cell_type": "code",
   "execution_count": null,
   "id": "4eb54c2c-5caf-4250-849f-0810670163e4",
   "metadata": {},
   "outputs": [],
   "source": []
  }
 ],
 "metadata": {
  "kernelspec": {
   "display_name": "Python 3",
   "language": "python",
   "name": "python3"
  },
  "language_info": {
   "codemirror_mode": {
    "name": "ipython",
    "version": 3
   },
   "file_extension": ".py",
   "mimetype": "text/x-python",
   "name": "python",
   "nbconvert_exporter": "python",
   "pygments_lexer": "ipython3",
   "version": "3.8.8"
  }
 },
 "nbformat": 4,
 "nbformat_minor": 5
}
