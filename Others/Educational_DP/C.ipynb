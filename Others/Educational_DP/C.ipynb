{
 "cells": [
  {
   "cell_type": "code",
   "execution_count": 13,
   "metadata": {},
   "outputs": [],
   "source": [
    "N = int(input())\n",
    "ABC = [list(map(int, input().split())) for _ in range(N)]\n",
    "\n",
    "dp = [[0]*3 for _ in range(N+1)]\n",
    "dp[0][0] = 0\n",
    "dp[0][1] = 0\n",
    "dp[0][2] = 0\n",
    "for i in range(N):\n",
    "    dp[i+1][0] = max(dp[i][1]+ABC[i][0], dp[i][2]+ABC[i][0])\n",
    "    dp[i+1][1] = max(dp[i][0]+ABC[i][1], dp[i][2]+ABC[i][1])\n",
    "    dp[i+1][2] = max(dp[i][0]+ABC[i][2], dp[i][1]+ABC[i][2])\n",
    "print (max(dp[N]))"
   ]
  },
  {
   "cell_type": "code",
   "execution_count": null,
   "metadata": {},
   "outputs": [],
   "source": []
  }
 ],
 "metadata": {
  "kernelspec": {
   "display_name": "Python 3",
   "language": "python",
   "name": "python3"
  },
  "language_info": {
   "codemirror_mode": {
    "name": "ipython",
    "version": 3
   },
   "file_extension": ".py",
   "mimetype": "text/x-python",
   "name": "python",
   "nbconvert_exporter": "python",
   "pygments_lexer": "ipython3",
   "version": "3.8.8"
  }
 },
 "nbformat": 4,
 "nbformat_minor": 4
}
