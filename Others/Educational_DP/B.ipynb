{
 "cells": [
  {
   "cell_type": "code",
   "execution_count": 33,
   "metadata": {},
   "outputs": [],
   "source": [
    "N, K = map(int, input().split())\n",
    "H = list(map(int, input().split()))\n",
    "\n",
    "H.insert(0, 0)\n",
    "\n",
    "d = [10**100] * (N+1)\n",
    "d[0] = 0\n",
    "d[1] = 0\n",
    "\n",
    "for i in range(2, N+1):\n",
    "    for j in range(1, K+1):\n",
    "        if i-j >= 1:\n",
    "            d[i] = min(d[i], d[i-j]+abs(H[i]-H[i-j]))\n",
    "print (d[N])"
   ]
  },
  {
   "cell_type": "code",
   "execution_count": null,
   "metadata": {},
   "outputs": [],
   "source": []
  }
 ],
 "metadata": {
  "kernelspec": {
   "display_name": "Python 3",
   "language": "python",
   "name": "python3"
  },
  "language_info": {
   "codemirror_mode": {
    "name": "ipython",
    "version": 3
   },
   "file_extension": ".py",
   "mimetype": "text/x-python",
   "name": "python",
   "nbconvert_exporter": "python",
   "pygments_lexer": "ipython3",
   "version": "3.8.5"
  }
 },
 "nbformat": 4,
 "nbformat_minor": 4
}
