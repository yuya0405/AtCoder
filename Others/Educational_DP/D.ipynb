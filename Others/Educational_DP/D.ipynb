{
 "cells": [
  {
   "cell_type": "code",
   "execution_count": 52,
   "metadata": {},
   "outputs": [
    {
     "name": "stdin",
     "output_type": "stream",
     "text": [
      " 6 15\n",
      " 6 5\n",
      " 5 6\n",
      " 6 4\n",
      " 6 6\n",
      " 3 5\n",
      " 7 2\n"
     ]
    },
    {
     "name": "stdout",
     "output_type": "stream",
     "text": [
      "17\n"
     ]
    }
   ],
   "source": [
    "N, W = map(int, input().split())\n",
    "weight = []\n",
    "value = []\n",
    "for i in range(N):\n",
    "    w, v = map(int, input().split())\n",
    "    weight.append(w)\n",
    "    value.append(v)\n",
    "\n",
    "dp = [[0]*(W+1) for _ in range(N+1)]\n",
    "\n",
    "for i in range(N):\n",
    "    for w in range(W+1):\n",
    "        if w >= weight[i]:\n",
    "            dp[i+1][w] = max(dp[i][w], dp[i][w-weight[i]]+value[i])\n",
    "        else:\n",
    "            dp[i+1][w] = dp[i][w]\n",
    "\n",
    "print (dp[N][W])"
   ]
  },
  {
   "cell_type": "code",
   "execution_count": null,
   "metadata": {},
   "outputs": [],
   "source": []
  }
 ],
 "metadata": {
  "kernelspec": {
   "display_name": "Python 3",
   "language": "python",
   "name": "python3"
  },
  "language_info": {
   "codemirror_mode": {
    "name": "ipython",
    "version": 3
   },
   "file_extension": ".py",
   "mimetype": "text/x-python",
   "name": "python",
   "nbconvert_exporter": "python",
   "pygments_lexer": "ipython3",
   "version": "3.8.8"
  }
 },
 "nbformat": 4,
 "nbformat_minor": 4
}
