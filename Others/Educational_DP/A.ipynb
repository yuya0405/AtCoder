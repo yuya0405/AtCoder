{
 "cells": [
  {
   "cell_type": "code",
   "execution_count": 25,
   "metadata": {},
   "outputs": [],
   "source": [
    "N = int(input())\n",
    "H = list(map(int, input().split()))\n",
    "\n",
    "H.insert(0, 0)\n",
    "\n",
    "d = [10**100] * (N+1)\n",
    "d[0] = 0\n",
    "d[1] = 0\n",
    "d[2] = abs(H[2]-H[1])\n",
    "\n",
    "for i in range(3, N+1):\n",
    "    d[i] = min(d[i-2]+abs(H[i]-H[i-2]), d[i-1]+abs(H[i]-H[i-1]))\n",
    "\n",
    "print (d[N])"
   ]
  },
  {
   "cell_type": "code",
   "execution_count": null,
   "metadata": {},
   "outputs": [],
   "source": []
  }
 ],
 "metadata": {
  "kernelspec": {
   "display_name": "Python 3",
   "language": "python",
   "name": "python3"
  },
  "language_info": {
   "codemirror_mode": {
    "name": "ipython",
    "version": 3
   },
   "file_extension": ".py",
   "mimetype": "text/x-python",
   "name": "python",
   "nbconvert_exporter": "python",
   "pygments_lexer": "ipython3",
   "version": "3.8.5"
  }
 },
 "nbformat": 4,
 "nbformat_minor": 4
}
