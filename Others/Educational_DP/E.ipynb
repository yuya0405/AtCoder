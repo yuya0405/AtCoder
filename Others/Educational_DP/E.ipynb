{
 "cells": [
  {
   "cell_type": "code",
   "execution_count": 6,
   "metadata": {},
   "outputs": [
    {
     "name": "stdin",
     "output_type": "stream",
     "text": [
      " 3 8\n",
      " 3 30\n",
      " 4 50\n",
      " 5 60\n"
     ]
    },
    {
     "name": "stdout",
     "output_type": "stream",
     "text": [
      "90\n"
     ]
    }
   ],
   "source": [
    "N, W = map(int, input().split())\n",
    "weight = []\n",
    "value = []\n",
    "for i in range(N):\n",
    "    w, v = map(int, input().split())\n",
    "    weight.append(w)\n",
    "    value.append(v)\n",
    "\n",
    "dp = [[float('inf')]*(10**5+1) for _ in range(N+1)]\n",
    "\n",
    "dp[0][0] = 0\n",
    "for i in range(N):\n",
    "    for v in range(10**5+1):\n",
    "        if v >= value[i]:\n",
    "            dp[i+1][v] = min(dp[i][v], dp[i][v-value[i]]+weight[i])\n",
    "        else:\n",
    "            dp[i+1][v] = dp[i][v]\n",
    "\n",
    "for v in range(0, 10**5+1):\n",
    "    if dp[N][v] <= W:\n",
    "        ans = v\n",
    "print (ans)"
   ]
  },
  {
   "cell_type": "code",
   "execution_count": null,
   "metadata": {},
   "outputs": [],
   "source": []
  }
 ],
 "metadata": {
  "kernelspec": {
   "display_name": "Python 3",
   "language": "python",
   "name": "python3"
  },
  "language_info": {
   "codemirror_mode": {
    "name": "ipython",
    "version": 3
   },
   "file_extension": ".py",
   "mimetype": "text/x-python",
   "name": "python",
   "nbconvert_exporter": "python",
   "pygments_lexer": "ipython3",
   "version": "3.8.5"
  }
 },
 "nbformat": 4,
 "nbformat_minor": 4
}
