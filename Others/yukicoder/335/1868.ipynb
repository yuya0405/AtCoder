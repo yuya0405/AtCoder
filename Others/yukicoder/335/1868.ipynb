{
 "cells": [
  {
   "cell_type": "code",
   "execution_count": 11,
   "id": "75c3d10b-c07d-4328-95e1-9390fdecf07b",
   "metadata": {},
   "outputs": [
    {
     "name": "stdin",
     "output_type": "stream",
     "text": [
      " 5\n",
      " 2 4 4 5\n"
     ]
    }
   ],
   "source": [
    "N = int(input())\n",
    "R = list(map(int, input().split()))"
   ]
  },
  {
   "cell_type": "code",
   "execution_count": 14,
   "id": "7a60b29e-3d45-4bbb-b556-8018d73c60c2",
   "metadata": {},
   "outputs": [
    {
     "name": "stdout",
     "output_type": "stream",
     "text": [
      "1\n"
     ]
    },
    {
     "data": {
      "text/plain": [
       "1"
      ]
     },
     "execution_count": 14,
     "metadata": {},
     "output_type": "execute_result"
    }
   ],
   "source": [
    "curr = 1\n",
    "ans = 0\n",
    "while(curr != N-1):\n",
    "    print (curr)\n",
    "    if R[curr-1] > R[curr]:\n",
    "        curr = R[curr-1]\n",
    "    else:\n",
    "        curr = R[curr]\n",
    "    ans += 1\n",
    "ans"
   ]
  },
  {
   "cell_type": "code",
   "execution_count": 60,
   "id": "fc94b930-0a61-48de-83c2-d4c641068301",
   "metadata": {},
   "outputs": [],
   "source": [
    "# WA\n",
    "\n",
    "dp = [float('inf')] * (N)\n",
    "dp[0] = 0\n",
    "\n",
    "s = 0\n",
    "g = R[s]\n",
    "while(1):\n",
    "    dp[g-1] = min(dp[g-1], dp[s] + 1)\n",
    "    if g == N:\n",
    "        break\n",
    "    s = g-1\n",
    "    g = R[s]\n",
    "print (dp[N-1])"
   ]
  }
 ],
 "metadata": {
  "kernelspec": {
   "display_name": "Python 3",
   "language": "python",
   "name": "python3"
  },
  "language_info": {
   "codemirror_mode": {
    "name": "ipython",
    "version": 3
   },
   "file_extension": ".py",
   "mimetype": "text/x-python",
   "name": "python",
   "nbconvert_exporter": "python",
   "pygments_lexer": "ipython3",
   "version": "3.8.8"
  }
 },
 "nbformat": 4,
 "nbformat_minor": 5
}
