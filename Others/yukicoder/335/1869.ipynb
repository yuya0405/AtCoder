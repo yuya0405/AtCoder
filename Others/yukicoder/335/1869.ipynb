{
 "cells": [
  {
   "cell_type": "code",
   "execution_count": 49,
   "id": "3719b98f-3cd0-4c45-bff5-f44657697952",
   "metadata": {},
   "outputs": [
    {
     "name": "stdin",
     "output_type": "stream",
     "text": [
      " 314 159\n"
     ]
    }
   ],
   "source": [
    "N, M = map(int, input().split())"
   ]
  },
  {
   "cell_type": "code",
   "execution_count": 50,
   "id": "9c79622f-dccc-45a9-8f2c-b6f123820bf6",
   "metadata": {},
   "outputs": [
    {
     "name": "stdout",
     "output_type": "stream",
     "text": [
      "625\n"
     ]
    }
   ],
   "source": [
    "# WA\n",
    "\n",
    "ans = 0\n",
    "while(M != 1):\n",
    "    ans += M\n",
    "    M += 1\n",
    "    M //= 2\n",
    "    N -= 1\n",
    "ans += N\n",
    "print (ans)"
   ]
  },
  {
   "cell_type": "code",
   "execution_count": 22,
   "id": "08e9f8bd-6032-4103-abb7-cf4a62d0c6e7",
   "metadata": {},
   "outputs": [
    {
     "name": "stdout",
     "output_type": "stream",
     "text": [
      "4\n"
     ]
    }
   ],
   "source": [
    "# TLE\n",
    "\n",
    "ans = M\n",
    "curr = M\n",
    "for i in range(N-1, 0, -1):\n",
    "    if curr % 2 == 1:\n",
    "        curr += 1\n",
    "        curr //= 2\n",
    "    else:\n",
    "        curr //= 2\n",
    "    ans += curr\n",
    "\n",
    "print (ans)"
   ]
  },
  {
   "cell_type": "code",
   "execution_count": null,
   "id": "749fe6fb-e822-4290-b2b2-b242ea245ff8",
   "metadata": {},
   "outputs": [],
   "source": []
  }
 ],
 "metadata": {
  "kernelspec": {
   "display_name": "Python 3",
   "language": "python",
   "name": "python3"
  },
  "language_info": {
   "codemirror_mode": {
    "name": "ipython",
    "version": 3
   },
   "file_extension": ".py",
   "mimetype": "text/x-python",
   "name": "python",
   "nbconvert_exporter": "python",
   "pygments_lexer": "ipython3",
   "version": "3.8.8"
  }
 },
 "nbformat": 4,
 "nbformat_minor": 5
}
