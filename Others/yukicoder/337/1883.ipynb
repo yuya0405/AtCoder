{
 "cells": [
  {
   "cell_type": "code",
   "execution_count": 14,
   "id": "39c7a112-7cae-4742-bed0-94fefa2bb06e",
   "metadata": {},
   "outputs": [],
   "source": [
    "abc = int(input())\n",
    "\n",
    "a = abc // 100\n",
    "\n",
    "b = (abc - a*100) // 10\n",
    "\n",
    "c = abc - a*100 - b*10\n",
    "\n",
    "M = max(max(a, b), c)\n",
    "\n",
    "m = min(min(a, b), c)\n",
    "\n",
    "print (M-m)"
   ]
  },
  {
   "cell_type": "code",
   "execution_count": null,
   "id": "9e2c21bf-ccf4-485b-a6f4-485781d18c52",
   "metadata": {},
   "outputs": [],
   "source": []
  }
 ],
 "metadata": {
  "kernelspec": {
   "display_name": "Python 3",
   "language": "python",
   "name": "python3"
  },
  "language_info": {
   "codemirror_mode": {
    "name": "ipython",
    "version": 3
   },
   "file_extension": ".py",
   "mimetype": "text/x-python",
   "name": "python",
   "nbconvert_exporter": "python",
   "pygments_lexer": "ipython3",
   "version": "3.8.8"
  }
 },
 "nbformat": 4,
 "nbformat_minor": 5
}
