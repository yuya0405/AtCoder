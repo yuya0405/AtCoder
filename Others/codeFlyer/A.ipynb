{
 "cells": [
  {
   "cell_type": "code",
   "execution_count": 7,
   "metadata": {},
   "outputs": [
    {
     "name": "stdout",
     "output_type": "stream",
     "text": [
      "79\n",
      "6\n",
      "78\n"
     ]
    }
   ],
   "source": [
    "# -*- coding: utf-8 -*-\n",
    "a = int(raw_input())\n",
    "b = int(raw_input())\n",
    "\n",
    "y = 999\n",
    "for i in range(1,a+1):\n",
    "    x = b*i\n",
    "    if x <= a:\n",
    "        y = x\n",
    "    else:\n",
    "        break\n",
    "\n",
    "print y"
   ]
  }
 ],
 "metadata": {
  "kernelspec": {
   "display_name": "Python 3",
   "language": "python",
   "name": "python3"
  },
  "language_info": {
   "codemirror_mode": {
    "name": "ipython",
    "version": 3
   },
   "file_extension": ".py",
   "mimetype": "text/x-python",
   "name": "python",
   "nbconvert_exporter": "python",
   "pygments_lexer": "ipython3",
   "version": "3.8.5"
  }
 },
 "nbformat": 4,
 "nbformat_minor": 2
}
