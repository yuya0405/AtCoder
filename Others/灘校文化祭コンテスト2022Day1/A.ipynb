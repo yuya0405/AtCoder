{
 "cells": [
  {
   "cell_type": "code",
   "execution_count": 1,
   "id": "a045980a-d477-4c66-91eb-4e52a28f96b1",
   "metadata": {},
   "outputs": [
    {
     "name": "stdin",
     "output_type": "stream",
     "text": [
      " 10\n"
     ]
    },
    {
     "name": "stdout",
     "output_type": "stream",
     "text": [
      "1334961\n"
     ]
    }
   ],
   "source": [
    "N = int(input())\n",
    "\n",
    "dp = [0]*(N+1)\n",
    "dp[1] = 0\n",
    "dp[2] = 1\n",
    "for i in range(3, N+1):\n",
    "    dp[i] = (i-1) * (dp[i-1] + dp[i-2])\n",
    "print (dp[N])"
   ]
  },
  {
   "cell_type": "code",
   "execution_count": null,
   "id": "f6636a94-24ae-46c0-ae22-cadd81c22d46",
   "metadata": {},
   "outputs": [],
   "source": [
    "N = int(input())\n",
    "\n",
    "import math\n",
    "a = math.factorial(N)\n",
    "\n",
    "b = 0\n",
    "for k in range(2, N+1):\n",
    "    b += (-1)**k / math.factorial(k)\n",
    "\n",
    "print (int (a * b))"
   ]
  },
  {
   "cell_type": "code",
   "execution_count": null,
   "id": "2ef65d33-b379-429a-a254-239751975b50",
   "metadata": {},
   "outputs": [],
   "source": [
    "i = 3\n",
    "(i-1) * (dp[i-1] + dp[i-2])"
   ]
  },
  {
   "cell_type": "code",
   "execution_count": null,
   "id": "7eddf4b4-4f6e-4621-a78c-01a4f50f8cab",
   "metadata": {},
   "outputs": [],
   "source": []
  }
 ],
 "metadata": {
  "kernelspec": {
   "display_name": "Python 3 (ipykernel)",
   "language": "python",
   "name": "python3"
  },
  "language_info": {
   "codemirror_mode": {
    "name": "ipython",
    "version": 3
   },
   "file_extension": ".py",
   "mimetype": "text/x-python",
   "name": "python",
   "nbconvert_exporter": "python",
   "pygments_lexer": "ipython3",
   "version": "3.9.12"
  }
 },
 "nbformat": 4,
 "nbformat_minor": 5
}
