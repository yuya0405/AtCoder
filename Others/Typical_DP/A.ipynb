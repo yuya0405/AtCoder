{
 "cells": [
  {
   "cell_type": "code",
   "execution_count": 14,
   "metadata": {},
   "outputs": [],
   "source": [
    "N = int(input())\n",
    "P = list(map(int, input().split()))\n",
    "\n",
    "dp = [[False]*(10**4+1) for _ in range(N+1)]\n",
    "\n",
    "dp[0][0] = True\n",
    "for i in range(N):\n",
    "    for j in range(10**4+1):\n",
    "        if j >= P[i]:\n",
    "            dp[i+1][j] = dp[i][j] | dp[i][j-P[i]]\n",
    "        else:\n",
    "            dp[i+1][j] = dp[i][j]\n",
    "\n",
    "ans = 0\n",
    "for j in range(10**4+1):\n",
    "    if dp[N][j] == True:\n",
    "        ans += 1\n",
    "print (ans)"
   ]
  },
  {
   "cell_type": "code",
   "execution_count": null,
   "metadata": {},
   "outputs": [],
   "source": []
  }
 ],
 "metadata": {
  "kernelspec": {
   "display_name": "Python 3",
   "language": "python",
   "name": "python3"
  },
  "language_info": {
   "codemirror_mode": {
    "name": "ipython",
    "version": 3
   },
   "file_extension": ".py",
   "mimetype": "text/x-python",
   "name": "python",
   "nbconvert_exporter": "python",
   "pygments_lexer": "ipython3",
   "version": "3.8.5"
  }
 },
 "nbformat": 4,
 "nbformat_minor": 4
}
